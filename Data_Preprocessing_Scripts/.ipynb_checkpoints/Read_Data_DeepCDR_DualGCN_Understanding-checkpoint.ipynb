{
 "cells": [
  {
   "cell_type": "code",
   "execution_count": 42,
   "id": "0a55db4f-ed81-4bad-8789-2759d81e0496",
   "metadata": {},
   "outputs": [],
   "source": [
    "import numpy as np\n",
    "import pandas as pd\n",
    "import pickle"
   ]
  },
  {
   "cell_type": "code",
   "execution_count": 43,
   "id": "7f788645-89aa-4c4e-a75a-f8366a41c153",
   "metadata": {},
   "outputs": [],
   "source": [
    "dualgcn_train = pd.read_csv(\"..//DualGCN/DualGCN_Embedding_train.csv\")"
   ]
  },
  {
   "cell_type": "code",
   "execution_count": 44,
   "id": "bb7418a8-d7cf-4362-b569-ddf8347530e6",
   "metadata": {},
   "outputs": [
    {
     "data": {
      "text/html": [
       "<div>\n",
       "<style scoped>\n",
       "    .dataframe tbody tr th:only-of-type {\n",
       "        vertical-align: middle;\n",
       "    }\n",
       "\n",
       "    .dataframe tbody tr th {\n",
       "        vertical-align: top;\n",
       "    }\n",
       "\n",
       "    .dataframe thead th {\n",
       "        text-align: right;\n",
       "    }\n",
       "</style>\n",
       "<table border=\"1\" class=\"dataframe\">\n",
       "  <thead>\n",
       "    <tr style=\"text-align: right;\">\n",
       "      <th></th>\n",
       "      <th>Cell_Line</th>\n",
       "      <th>Drug_ID</th>\n",
       "      <th>Target</th>\n",
       "      <th>TCGA_Type</th>\n",
       "      <th>DrugEmbedding_Dim0</th>\n",
       "      <th>DrugEmbedding_Dim1</th>\n",
       "      <th>DrugEmbedding_Dim2</th>\n",
       "      <th>DrugEmbedding_Dim3</th>\n",
       "      <th>DrugEmbedding_Dim4</th>\n",
       "      <th>DrugEmbedding_Dim5</th>\n",
       "      <th>...</th>\n",
       "      <th>CellEmbedding_Dim246</th>\n",
       "      <th>CellEmbedding_Dim247</th>\n",
       "      <th>CellEmbedding_Dim248</th>\n",
       "      <th>CellEmbedding_Dim249</th>\n",
       "      <th>CellEmbedding_Dim250</th>\n",
       "      <th>CellEmbedding_Dim251</th>\n",
       "      <th>CellEmbedding_Dim252</th>\n",
       "      <th>CellEmbedding_Dim253</th>\n",
       "      <th>CellEmbedding_Dim254</th>\n",
       "      <th>CellEmbedding_Dim255</th>\n",
       "    </tr>\n",
       "  </thead>\n",
       "  <tbody>\n",
       "    <tr>\n",
       "      <th>0</th>\n",
       "      <td>ACH-000070</td>\n",
       "      <td>176870</td>\n",
       "      <td>0.693305</td>\n",
       "      <td>ALL</td>\n",
       "      <td>0.128356</td>\n",
       "      <td>0.011836</td>\n",
       "      <td>0.243534</td>\n",
       "      <td>0.137116</td>\n",
       "      <td>-0.13091</td>\n",
       "      <td>-0.240304</td>\n",
       "      <td>...</td>\n",
       "      <td>-0.176026</td>\n",
       "      <td>0.054300</td>\n",
       "      <td>0.662075</td>\n",
       "      <td>-0.400942</td>\n",
       "      <td>-0.207140</td>\n",
       "      <td>-0.064926</td>\n",
       "      <td>-0.206338</td>\n",
       "      <td>-0.088848</td>\n",
       "      <td>-0.184410</td>\n",
       "      <td>-0.059895</td>\n",
       "    </tr>\n",
       "    <tr>\n",
       "      <th>1</th>\n",
       "      <td>ACH-000105</td>\n",
       "      <td>176870</td>\n",
       "      <td>1.738326</td>\n",
       "      <td>ALL</td>\n",
       "      <td>0.128356</td>\n",
       "      <td>0.011836</td>\n",
       "      <td>0.243534</td>\n",
       "      <td>0.137116</td>\n",
       "      <td>-0.13091</td>\n",
       "      <td>-0.240304</td>\n",
       "      <td>...</td>\n",
       "      <td>-0.121042</td>\n",
       "      <td>0.124696</td>\n",
       "      <td>-0.560812</td>\n",
       "      <td>-0.504415</td>\n",
       "      <td>-0.134911</td>\n",
       "      <td>-0.005806</td>\n",
       "      <td>-0.135737</td>\n",
       "      <td>-0.018490</td>\n",
       "      <td>-0.109957</td>\n",
       "      <td>-0.004947</td>\n",
       "    </tr>\n",
       "    <tr>\n",
       "      <th>2</th>\n",
       "      <td>ACH-000981</td>\n",
       "      <td>176870</td>\n",
       "      <td>2.838543</td>\n",
       "      <td>ALL</td>\n",
       "      <td>0.128356</td>\n",
       "      <td>0.011836</td>\n",
       "      <td>0.243534</td>\n",
       "      <td>0.137116</td>\n",
       "      <td>-0.13091</td>\n",
       "      <td>-0.240304</td>\n",
       "      <td>...</td>\n",
       "      <td>-0.128809</td>\n",
       "      <td>0.110884</td>\n",
       "      <td>-0.560812</td>\n",
       "      <td>-0.504415</td>\n",
       "      <td>-0.151752</td>\n",
       "      <td>-0.017094</td>\n",
       "      <td>-0.150296</td>\n",
       "      <td>-0.034415</td>\n",
       "      <td>-0.125914</td>\n",
       "      <td>-0.020937</td>\n",
       "    </tr>\n",
       "    <tr>\n",
       "      <th>3</th>\n",
       "      <td>ACH-000061</td>\n",
       "      <td>176870</td>\n",
       "      <td>3.880844</td>\n",
       "      <td>ALL</td>\n",
       "      <td>0.128356</td>\n",
       "      <td>0.011836</td>\n",
       "      <td>0.243534</td>\n",
       "      <td>0.137116</td>\n",
       "      <td>-0.13091</td>\n",
       "      <td>-0.240304</td>\n",
       "      <td>...</td>\n",
       "      <td>-0.172548</td>\n",
       "      <td>0.060355</td>\n",
       "      <td>0.710201</td>\n",
       "      <td>0.061378</td>\n",
       "      <td>-0.201455</td>\n",
       "      <td>-0.061008</td>\n",
       "      <td>-0.201532</td>\n",
       "      <td>-0.083990</td>\n",
       "      <td>-0.176958</td>\n",
       "      <td>-0.052960</td>\n",
       "    </tr>\n",
       "    <tr>\n",
       "      <th>4</th>\n",
       "      <td>ACH-001106</td>\n",
       "      <td>176870</td>\n",
       "      <td>2.112241</td>\n",
       "      <td>ALL</td>\n",
       "      <td>0.128356</td>\n",
       "      <td>0.011836</td>\n",
       "      <td>0.243534</td>\n",
       "      <td>0.137116</td>\n",
       "      <td>-0.13091</td>\n",
       "      <td>-0.240304</td>\n",
       "      <td>...</td>\n",
       "      <td>-0.176026</td>\n",
       "      <td>0.054300</td>\n",
       "      <td>-0.560812</td>\n",
       "      <td>-0.495085</td>\n",
       "      <td>-0.207140</td>\n",
       "      <td>-0.064926</td>\n",
       "      <td>-0.206338</td>\n",
       "      <td>-0.088848</td>\n",
       "      <td>-0.184410</td>\n",
       "      <td>-0.059895</td>\n",
       "    </tr>\n",
       "  </tbody>\n",
       "</table>\n",
       "<p>5 rows × 388 columns</p>\n",
       "</div>"
      ],
      "text/plain": [
       "    Cell_Line  Drug_ID    Target TCGA_Type  DrugEmbedding_Dim0   \n",
       "0  ACH-000070   176870  0.693305       ALL            0.128356  \\\n",
       "1  ACH-000105   176870  1.738326       ALL            0.128356   \n",
       "2  ACH-000981   176870  2.838543       ALL            0.128356   \n",
       "3  ACH-000061   176870  3.880844       ALL            0.128356   \n",
       "4  ACH-001106   176870  2.112241       ALL            0.128356   \n",
       "\n",
       "   DrugEmbedding_Dim1  DrugEmbedding_Dim2  DrugEmbedding_Dim3   \n",
       "0            0.011836            0.243534            0.137116  \\\n",
       "1            0.011836            0.243534            0.137116   \n",
       "2            0.011836            0.243534            0.137116   \n",
       "3            0.011836            0.243534            0.137116   \n",
       "4            0.011836            0.243534            0.137116   \n",
       "\n",
       "   DrugEmbedding_Dim4  DrugEmbedding_Dim5  ...  CellEmbedding_Dim246   \n",
       "0            -0.13091           -0.240304  ...             -0.176026  \\\n",
       "1            -0.13091           -0.240304  ...             -0.121042   \n",
       "2            -0.13091           -0.240304  ...             -0.128809   \n",
       "3            -0.13091           -0.240304  ...             -0.172548   \n",
       "4            -0.13091           -0.240304  ...             -0.176026   \n",
       "\n",
       "   CellEmbedding_Dim247  CellEmbedding_Dim248  CellEmbedding_Dim249   \n",
       "0              0.054300              0.662075             -0.400942  \\\n",
       "1              0.124696             -0.560812             -0.504415   \n",
       "2              0.110884             -0.560812             -0.504415   \n",
       "3              0.060355              0.710201              0.061378   \n",
       "4              0.054300             -0.560812             -0.495085   \n",
       "\n",
       "   CellEmbedding_Dim250  CellEmbedding_Dim251  CellEmbedding_Dim252   \n",
       "0             -0.207140             -0.064926             -0.206338  \\\n",
       "1             -0.134911             -0.005806             -0.135737   \n",
       "2             -0.151752             -0.017094             -0.150296   \n",
       "3             -0.201455             -0.061008             -0.201532   \n",
       "4             -0.207140             -0.064926             -0.206338   \n",
       "\n",
       "   CellEmbedding_Dim253  CellEmbedding_Dim254  CellEmbedding_Dim255  \n",
       "0             -0.088848             -0.184410             -0.059895  \n",
       "1             -0.018490             -0.109957             -0.004947  \n",
       "2             -0.034415             -0.125914             -0.020937  \n",
       "3             -0.083990             -0.176958             -0.052960  \n",
       "4             -0.088848             -0.184410             -0.059895  \n",
       "\n",
       "[5 rows x 388 columns]"
      ]
     },
     "execution_count": 44,
     "metadata": {},
     "output_type": "execute_result"
    }
   ],
   "source": [
    "dualgcn_train.head()"
   ]
  },
  {
   "cell_type": "code",
   "execution_count": 45,
   "id": "117f5e85-3f0f-4ffe-8a1c-264068392d78",
   "metadata": {},
   "outputs": [],
   "source": [
    "# 17316/(dualgcn_train.shape[0] + dualgcn_test.shape[0])"
   ]
  },
  {
   "cell_type": "code",
   "execution_count": 46,
   "id": "a13c03e6-0c0b-4131-94b5-989cc89690de",
   "metadata": {},
   "outputs": [],
   "source": [
    "# dualgcn_train.shape"
   ]
  },
  {
   "cell_type": "code",
   "execution_count": 47,
   "id": "178544db-84e6-4a2b-91bf-642feead675f",
   "metadata": {},
   "outputs": [],
   "source": [
    "dualgcn_test = pd.read_csv(\"..//DualGCN/DualGCN_Embedding_test.csv\")"
   ]
  },
  {
   "cell_type": "code",
   "execution_count": 48,
   "id": "06256c0a-a2fa-418b-8869-415484671983",
   "metadata": {},
   "outputs": [
    {
     "data": {
      "text/plain": [
       "(17316, 388)"
      ]
     },
     "execution_count": 48,
     "metadata": {},
     "output_type": "execute_result"
    }
   ],
   "source": [
    "dualgcn_test.shape"
   ]
  },
  {
   "cell_type": "code",
   "execution_count": 49,
   "id": "b280b279-56ab-4767-b924-97e9396e736a",
   "metadata": {},
   "outputs": [],
   "source": [
    "drug_cols = [col for col in dualgcn_train.columns if \"DrugEmbedding\" in col]"
   ]
  },
  {
   "cell_type": "code",
   "execution_count": 50,
   "id": "fc5bb927-0292-45a0-b6f9-2e07f1090151",
   "metadata": {},
   "outputs": [],
   "source": [
    "cell_cols = [col for col in dualgcn_train.columns if \"CellEmbedding\" in col]"
   ]
  },
  {
   "cell_type": "code",
   "execution_count": 51,
   "id": "053c8d8a-2024-42d9-b0ab-33cc62f9ccbe",
   "metadata": {},
   "outputs": [],
   "source": [
    "# gcn_drugs = dualgcn_train[drug_cols]"
   ]
  },
  {
   "cell_type": "code",
   "execution_count": 52,
   "id": "14627691-aa65-45d3-9630-2817dc89e4d1",
   "metadata": {},
   "outputs": [],
   "source": [
    "# train_drug_embs.shape"
   ]
  },
  {
   "cell_type": "code",
   "execution_count": 53,
   "id": "acfe1dbd-6a30-41bb-bf35-867610b0711a",
   "metadata": {},
   "outputs": [],
   "source": [
    "# train_cell_embs = dualgcn_train[cell_cols]"
   ]
  },
  {
   "cell_type": "code",
   "execution_count": 54,
   "id": "c30c3645-49d9-40ec-be9f-71706988b2f1",
   "metadata": {},
   "outputs": [],
   "source": [
    "# train_cell_embs.shape"
   ]
  },
  {
   "cell_type": "code",
   "execution_count": 55,
   "id": "ab404a5d-dee2-4bb1-ba8e-a6be6d8e8db4",
   "metadata": {},
   "outputs": [],
   "source": [
    "# train_cell_embs.mean(0)"
   ]
  },
  {
   "cell_type": "code",
   "execution_count": 56,
   "id": "c5bfc8b8-efaa-4c10-a820-051039362a86",
   "metadata": {},
   "outputs": [],
   "source": [
    "# train_targets = dualgcn_train[\"Target\"].values.reshape(-1,1)"
   ]
  },
  {
   "cell_type": "code",
   "execution_count": 57,
   "id": "82ddecae-83d0-42c6-b23a-059757305eee",
   "metadata": {},
   "outputs": [],
   "source": [
    "# train_targets.shape"
   ]
  },
  {
   "cell_type": "code",
   "execution_count": 58,
   "id": "cb6e61d6-5fc2-4d35-b97d-589e827061c1",
   "metadata": {},
   "outputs": [],
   "source": [
    "# test_drug_embs = dualgcn_test[drug_cols]"
   ]
  },
  {
   "cell_type": "code",
   "execution_count": 59,
   "id": "958387ed-bba6-4a1d-9af4-2b574e0aaa41",
   "metadata": {},
   "outputs": [],
   "source": [
    "# test_drug_embs.shape"
   ]
  },
  {
   "cell_type": "code",
   "execution_count": 60,
   "id": "2434863d-ffc4-49de-aafc-4fe090158c39",
   "metadata": {},
   "outputs": [],
   "source": [
    "# test_cell_embs = dualgcn_test[cell_cols]"
   ]
  },
  {
   "cell_type": "code",
   "execution_count": 61,
   "id": "28ab9643-0dde-472c-b0dd-1ea4095639fe",
   "metadata": {},
   "outputs": [],
   "source": [
    "# test_cell_embs.shape"
   ]
  },
  {
   "cell_type": "code",
   "execution_count": 62,
   "id": "0e758f60-b8cd-406d-88f2-f81cdfef0888",
   "metadata": {},
   "outputs": [],
   "source": [
    "# test_targets = dualgcn_test[\"Target\"].values.reshape(-1,1)"
   ]
  },
  {
   "cell_type": "code",
   "execution_count": 63,
   "id": "133c40ff-3179-4acd-984f-76118b8660e8",
   "metadata": {},
   "outputs": [],
   "source": [
    "# test_targets.shape"
   ]
  },
  {
   "cell_type": "code",
   "execution_count": 64,
   "id": "0a04adff-e079-4af8-935a-0a0d9b43b9ca",
   "metadata": {},
   "outputs": [],
   "source": [
    "deepcdr_drugs_train = pd.DataFrame(np.load(\"..//DeepCDR/train_drugs_ved.npy\", allow_pickle=True))"
   ]
  },
  {
   "cell_type": "code",
   "execution_count": 65,
   "id": "b8f8c31e-2111-49e6-83c5-d6b2fd3952bc",
   "metadata": {},
   "outputs": [],
   "source": [
    "deepcdr_drugs_train.columns = dualgcn_train.columns[:132]"
   ]
  },
  {
   "cell_type": "code",
   "execution_count": 66,
   "id": "d00d8b51-1fbf-4903-b923-636e311d9d79",
   "metadata": {},
   "outputs": [],
   "source": [
    "deepcdr_omics_train = pd.DataFrame(np.load(\"..//DeepCDR/train_omics_ved.npy\", allow_pickle=True))"
   ]
  },
  {
   "cell_type": "code",
   "execution_count": 67,
   "id": "ba91caeb-2ceb-49cf-a54c-cc4ca0f022c9",
   "metadata": {},
   "outputs": [],
   "source": [
    "deepcdr_omics_train_cols = [dualgcn_train.columns[:4], dualgcn_train.columns[-256:]]"
   ]
  },
  {
   "cell_type": "code",
   "execution_count": 68,
   "id": "4e498414-4391-4632-82c4-03a8205b45a2",
   "metadata": {},
   "outputs": [],
   "source": [
    "deepcdr_omics_train_cols = [col for item in deepcdr_omics_train_cols for col in item]"
   ]
  },
  {
   "cell_type": "code",
   "execution_count": 69,
   "id": "eb6db5ee-416e-4a59-93db-d6b9aefd0ed8",
   "metadata": {},
   "outputs": [],
   "source": [
    "deepcdr_omics_train.columns = deepcdr_omics_train_cols"
   ]
  },
  {
   "cell_type": "code",
   "execution_count": 70,
   "id": "05e851ae-0ea8-496a-8cf4-f2c0ab54fce7",
   "metadata": {},
   "outputs": [],
   "source": [
    "deepcdr_train = deepcdr_drugs_train.merge(deepcdr_omics_train)"
   ]
  },
  {
   "cell_type": "code",
   "execution_count": 71,
   "id": "b81077b7-1857-4f93-98e5-f34d0cb9ba81",
   "metadata": {},
   "outputs": [
    {
     "data": {
      "text/plain": [
       "525"
      ]
     },
     "execution_count": 71,
     "metadata": {},
     "output_type": "execute_result"
    }
   ],
   "source": [
    "deepcdr_train[\"Cell_Line\"].nunique()"
   ]
  },
  {
   "cell_type": "code",
   "execution_count": 72,
   "id": "bb651f2d-3fc2-46f8-8996-8f9d74825a72",
   "metadata": {},
   "outputs": [],
   "source": [
    "# set(deepcdr_drugs_test[\"Drug_ID\"].unique()).difference(deepcdr_train[\"Drug_ID\"].unique())"
   ]
  },
  {
   "cell_type": "code",
   "execution_count": 73,
   "id": "4f3d1e2e-8d0b-4986-9e26-2581d8c8bd99",
   "metadata": {},
   "outputs": [],
   "source": [
    "# set(deepcdr_drugs_test[\"Cell_Line\"].unique()).difference(deepcdr_train[\"Cell_Line\"].unique())"
   ]
  },
  {
   "cell_type": "code",
   "execution_count": 74,
   "id": "c976a761-1e5b-4ea5-86ba-6bb32e1f8c67",
   "metadata": {},
   "outputs": [],
   "source": [
    "deepcdr_drugs_test = pd.DataFrame(np.load(\"..//DeepCDR/test_drugs_ved.npy\", allow_pickle=True))"
   ]
  },
  {
   "cell_type": "code",
   "execution_count": 75,
   "id": "70cfc6e4-db4c-4719-b4d2-73a1499ec30a",
   "metadata": {},
   "outputs": [],
   "source": [
    "deepcdr_drugs_test.columns = dualgcn_test.columns[:132]"
   ]
  },
  {
   "cell_type": "code",
   "execution_count": 76,
   "id": "89549268-5a57-4ec7-9f42-d97b53f11444",
   "metadata": {},
   "outputs": [],
   "source": [
    "deepcdr_omics_test = pd.DataFrame(np.load(\"..//DeepCDR/test_omics_ved.npy\", allow_pickle=True))"
   ]
  },
  {
   "cell_type": "code",
   "execution_count": 77,
   "id": "907d6339-ad52-4a9c-ba6c-f6896814d76c",
   "metadata": {},
   "outputs": [],
   "source": [
    "deepcdr_omics_test_cols = [dualgcn_test.columns[:4], dualgcn_test.columns[-256:]]"
   ]
  },
  {
   "cell_type": "code",
   "execution_count": 78,
   "id": "05773b0e-7b87-4b62-86f4-d08cf408e7dd",
   "metadata": {},
   "outputs": [],
   "source": [
    "deepcdr_omics_test_cols = [col for item in deepcdr_omics_test_cols for col in item]"
   ]
  },
  {
   "cell_type": "code",
   "execution_count": 79,
   "id": "c0d183fb-e448-4fc4-b244-8e1c58f33eab",
   "metadata": {},
   "outputs": [],
   "source": [
    "deepcdr_omics_test.columns = deepcdr_omics_test_cols"
   ]
  },
  {
   "cell_type": "code",
   "execution_count": 80,
   "id": "703a97c9-86c4-4502-9b95-d7d7ae05d3c9",
   "metadata": {},
   "outputs": [],
   "source": [
    "deepcdr_test = deepcdr_drugs_test.merge(deepcdr_omics_test)"
   ]
  },
  {
   "cell_type": "code",
   "execution_count": 81,
   "id": "a8163172-90c7-4afc-b45e-dfa51b2fdcbd",
   "metadata": {},
   "outputs": [
    {
     "data": {
      "text/plain": [
       "(17316, 388)"
      ]
     },
     "execution_count": 81,
     "metadata": {},
     "output_type": "execute_result"
    }
   ],
   "source": [
    "deepcdr_test.shape"
   ]
  },
  {
   "cell_type": "code",
   "execution_count": 82,
   "id": "3fd85281-3645-44d6-a5e4-f8ea2e11029c",
   "metadata": {},
   "outputs": [],
   "source": [
    "dualgcn_train = dualgcn_train.set_index(['Cell_Line', 'Drug_ID'])"
   ]
  },
  {
   "cell_type": "code",
   "execution_count": 83,
   "id": "701048d7-ec82-4684-aa8f-b02079753fe7",
   "metadata": {},
   "outputs": [],
   "source": [
    "dualgcn_test = dualgcn_test.set_index(['Cell_Line', 'Drug_ID'])"
   ]
  },
  {
   "cell_type": "code",
   "execution_count": 84,
   "id": "c81921fc-9d32-43cc-bf84-96e53a061944",
   "metadata": {},
   "outputs": [],
   "source": [
    "deepcdr_train = deepcdr_train.set_index(['Cell_Line', 'Drug_ID'])"
   ]
  },
  {
   "cell_type": "code",
   "execution_count": 85,
   "id": "c07cb210-0f34-4057-a86e-475fe80fcead",
   "metadata": {},
   "outputs": [],
   "source": [
    "deepcdr_test = deepcdr_test.set_index(['Cell_Line', 'Drug_ID'])"
   ]
  },
  {
   "cell_type": "code",
   "execution_count": 86,
   "id": "0983202f-2257-4f50-a38a-c1937bccdc38",
   "metadata": {},
   "outputs": [],
   "source": [
    "deepcdr_train = deepcdr_train.reindex(dualgcn_train.index)"
   ]
  },
  {
   "cell_type": "code",
   "execution_count": 111,
   "id": "66651e75-c460-445d-99fa-474246094955",
   "metadata": {},
   "outputs": [
    {
     "data": {
      "text/plain": [
       "208"
      ]
     },
     "execution_count": 111,
     "metadata": {},
     "output_type": "execute_result"
    }
   ],
   "source": [
    "len(set(deepcdr_train[\"Drug_ID\"].unique()).union(deepcdr_test[\"Drug_ID\"].unique()))"
   ]
  },
  {
   "cell_type": "code",
   "execution_count": null,
   "id": "87229c2a-199a-4296-9536-db985544c6ad",
   "metadata": {},
   "outputs": [],
   "source": [
    "len(set(deepcdr_train[\"Cell_Line\"].unique()).union(deepcdr_test[\"Cell_Line\"].unique()))"
   ]
  },
  {
   "cell_type": "code",
   "execution_count": 87,
   "id": "978a994c-5941-4a72-b801-1278885e6dbb",
   "metadata": {},
   "outputs": [],
   "source": [
    "deepcdr_test = deepcdr_test.reindex(dualgcn_test.index)"
   ]
  },
  {
   "cell_type": "code",
   "execution_count": 88,
   "id": "e2b4ae8d-6547-4ba3-a839-c02774500ff5",
   "metadata": {},
   "outputs": [],
   "source": [
    "dualgcn_train = dualgcn_train.reset_index()"
   ]
  },
  {
   "cell_type": "code",
   "execution_count": 89,
   "id": "edadb7c8-e8ec-46e7-acda-26aebae0aa7b",
   "metadata": {},
   "outputs": [],
   "source": [
    "dualgcn_test = dualgcn_test.reset_index()"
   ]
  },
  {
   "cell_type": "code",
   "execution_count": 90,
   "id": "c12ba3f4-36c3-4366-8879-f06d596dcede",
   "metadata": {},
   "outputs": [],
   "source": [
    "deepcdr_train = deepcdr_train.reset_index()"
   ]
  },
  {
   "cell_type": "code",
   "execution_count": 91,
   "id": "f7f3ccfb-5660-46a0-baa9-74f6bd425903",
   "metadata": {},
   "outputs": [
    {
     "data": {
      "text/html": [
       "<div>\n",
       "<style scoped>\n",
       "    .dataframe tbody tr th:only-of-type {\n",
       "        vertical-align: middle;\n",
       "    }\n",
       "\n",
       "    .dataframe tbody tr th {\n",
       "        vertical-align: top;\n",
       "    }\n",
       "\n",
       "    .dataframe thead th {\n",
       "        text-align: right;\n",
       "    }\n",
       "</style>\n",
       "<table border=\"1\" class=\"dataframe\">\n",
       "  <thead>\n",
       "    <tr style=\"text-align: right;\">\n",
       "      <th></th>\n",
       "      <th>Cell_Line</th>\n",
       "      <th>Drug_ID</th>\n",
       "      <th>Target</th>\n",
       "      <th>TCGA_Type</th>\n",
       "      <th>DrugEmbedding_Dim0</th>\n",
       "      <th>DrugEmbedding_Dim1</th>\n",
       "      <th>DrugEmbedding_Dim2</th>\n",
       "      <th>DrugEmbedding_Dim3</th>\n",
       "      <th>DrugEmbedding_Dim4</th>\n",
       "      <th>DrugEmbedding_Dim5</th>\n",
       "      <th>...</th>\n",
       "      <th>CellEmbedding_Dim246</th>\n",
       "      <th>CellEmbedding_Dim247</th>\n",
       "      <th>CellEmbedding_Dim248</th>\n",
       "      <th>CellEmbedding_Dim249</th>\n",
       "      <th>CellEmbedding_Dim250</th>\n",
       "      <th>CellEmbedding_Dim251</th>\n",
       "      <th>CellEmbedding_Dim252</th>\n",
       "      <th>CellEmbedding_Dim253</th>\n",
       "      <th>CellEmbedding_Dim254</th>\n",
       "      <th>CellEmbedding_Dim255</th>\n",
       "    </tr>\n",
       "  </thead>\n",
       "  <tbody>\n",
       "    <tr>\n",
       "      <th>0</th>\n",
       "      <td>ACH-000070</td>\n",
       "      <td>176870</td>\n",
       "      <td>0.693305</td>\n",
       "      <td>ALL</td>\n",
       "      <td>3.97778</td>\n",
       "      <td>-0.241795</td>\n",
       "      <td>3.689139</td>\n",
       "      <td>5.877322</td>\n",
       "      <td>2.357497</td>\n",
       "      <td>-0.25733</td>\n",
       "      <td>...</td>\n",
       "      <td>0.0</td>\n",
       "      <td>0.0</td>\n",
       "      <td>0.0</td>\n",
       "      <td>0.0</td>\n",
       "      <td>0.0</td>\n",
       "      <td>0.0</td>\n",
       "      <td>0.0</td>\n",
       "      <td>0.0</td>\n",
       "      <td>0.0</td>\n",
       "      <td>0.0</td>\n",
       "    </tr>\n",
       "    <tr>\n",
       "      <th>1</th>\n",
       "      <td>ACH-000105</td>\n",
       "      <td>176870</td>\n",
       "      <td>1.738326</td>\n",
       "      <td>ALL</td>\n",
       "      <td>3.97778</td>\n",
       "      <td>-0.241795</td>\n",
       "      <td>3.689139</td>\n",
       "      <td>5.877322</td>\n",
       "      <td>2.357497</td>\n",
       "      <td>-0.25733</td>\n",
       "      <td>...</td>\n",
       "      <td>3.189235</td>\n",
       "      <td>0.0</td>\n",
       "      <td>0.0</td>\n",
       "      <td>0.0</td>\n",
       "      <td>0.0</td>\n",
       "      <td>0.0</td>\n",
       "      <td>0.0</td>\n",
       "      <td>0.0</td>\n",
       "      <td>0.0</td>\n",
       "      <td>0.0</td>\n",
       "    </tr>\n",
       "    <tr>\n",
       "      <th>2</th>\n",
       "      <td>ACH-000981</td>\n",
       "      <td>176870</td>\n",
       "      <td>2.838543</td>\n",
       "      <td>ALL</td>\n",
       "      <td>3.97778</td>\n",
       "      <td>-0.241795</td>\n",
       "      <td>3.689139</td>\n",
       "      <td>5.877322</td>\n",
       "      <td>2.357497</td>\n",
       "      <td>-0.25733</td>\n",
       "      <td>...</td>\n",
       "      <td>2.40767</td>\n",
       "      <td>0.0</td>\n",
       "      <td>0.0</td>\n",
       "      <td>0.0</td>\n",
       "      <td>0.0</td>\n",
       "      <td>0.0</td>\n",
       "      <td>0.0</td>\n",
       "      <td>0.0</td>\n",
       "      <td>0.0</td>\n",
       "      <td>0.0</td>\n",
       "    </tr>\n",
       "    <tr>\n",
       "      <th>3</th>\n",
       "      <td>ACH-000061</td>\n",
       "      <td>176870</td>\n",
       "      <td>3.880844</td>\n",
       "      <td>ALL</td>\n",
       "      <td>3.97778</td>\n",
       "      <td>-0.241795</td>\n",
       "      <td>3.689139</td>\n",
       "      <td>5.877322</td>\n",
       "      <td>2.357497</td>\n",
       "      <td>-0.25733</td>\n",
       "      <td>...</td>\n",
       "      <td>0.0</td>\n",
       "      <td>0.0</td>\n",
       "      <td>0.0</td>\n",
       "      <td>0.0</td>\n",
       "      <td>0.0</td>\n",
       "      <td>0.0</td>\n",
       "      <td>0.0</td>\n",
       "      <td>0.0</td>\n",
       "      <td>0.0</td>\n",
       "      <td>0.0</td>\n",
       "    </tr>\n",
       "    <tr>\n",
       "      <th>4</th>\n",
       "      <td>ACH-001106</td>\n",
       "      <td>176870</td>\n",
       "      <td>2.112241</td>\n",
       "      <td>ALL</td>\n",
       "      <td>3.97778</td>\n",
       "      <td>-0.241795</td>\n",
       "      <td>3.689139</td>\n",
       "      <td>5.877322</td>\n",
       "      <td>2.357497</td>\n",
       "      <td>-0.25733</td>\n",
       "      <td>...</td>\n",
       "      <td>0.0</td>\n",
       "      <td>0.0</td>\n",
       "      <td>0.0</td>\n",
       "      <td>0.0</td>\n",
       "      <td>0.0</td>\n",
       "      <td>0.0</td>\n",
       "      <td>0.0</td>\n",
       "      <td>0.0</td>\n",
       "      <td>0.0</td>\n",
       "      <td>0.0</td>\n",
       "    </tr>\n",
       "  </tbody>\n",
       "</table>\n",
       "<p>5 rows × 388 columns</p>\n",
       "</div>"
      ],
      "text/plain": [
       "    Cell_Line  Drug_ID    Target TCGA_Type DrugEmbedding_Dim0   \n",
       "0  ACH-000070   176870  0.693305       ALL            3.97778  \\\n",
       "1  ACH-000105   176870  1.738326       ALL            3.97778   \n",
       "2  ACH-000981   176870  2.838543       ALL            3.97778   \n",
       "3  ACH-000061   176870  3.880844       ALL            3.97778   \n",
       "4  ACH-001106   176870  2.112241       ALL            3.97778   \n",
       "\n",
       "  DrugEmbedding_Dim1 DrugEmbedding_Dim2 DrugEmbedding_Dim3 DrugEmbedding_Dim4   \n",
       "0          -0.241795           3.689139           5.877322           2.357497  \\\n",
       "1          -0.241795           3.689139           5.877322           2.357497   \n",
       "2          -0.241795           3.689139           5.877322           2.357497   \n",
       "3          -0.241795           3.689139           5.877322           2.357497   \n",
       "4          -0.241795           3.689139           5.877322           2.357497   \n",
       "\n",
       "  DrugEmbedding_Dim5  ... CellEmbedding_Dim246 CellEmbedding_Dim247   \n",
       "0           -0.25733  ...                  0.0                  0.0  \\\n",
       "1           -0.25733  ...             3.189235                  0.0   \n",
       "2           -0.25733  ...              2.40767                  0.0   \n",
       "3           -0.25733  ...                  0.0                  0.0   \n",
       "4           -0.25733  ...                  0.0                  0.0   \n",
       "\n",
       "  CellEmbedding_Dim248 CellEmbedding_Dim249 CellEmbedding_Dim250   \n",
       "0                  0.0                  0.0                  0.0  \\\n",
       "1                  0.0                  0.0                  0.0   \n",
       "2                  0.0                  0.0                  0.0   \n",
       "3                  0.0                  0.0                  0.0   \n",
       "4                  0.0                  0.0                  0.0   \n",
       "\n",
       "  CellEmbedding_Dim251 CellEmbedding_Dim252 CellEmbedding_Dim253   \n",
       "0                  0.0                  0.0                  0.0  \\\n",
       "1                  0.0                  0.0                  0.0   \n",
       "2                  0.0                  0.0                  0.0   \n",
       "3                  0.0                  0.0                  0.0   \n",
       "4                  0.0                  0.0                  0.0   \n",
       "\n",
       "  CellEmbedding_Dim254 CellEmbedding_Dim255  \n",
       "0                  0.0                  0.0  \n",
       "1                  0.0                  0.0  \n",
       "2                  0.0                  0.0  \n",
       "3                  0.0                  0.0  \n",
       "4                  0.0                  0.0  \n",
       "\n",
       "[5 rows x 388 columns]"
      ]
     },
     "execution_count": 91,
     "metadata": {},
     "output_type": "execute_result"
    }
   ],
   "source": [
    "deepcdr_train.head()"
   ]
  },
  {
   "cell_type": "code",
   "execution_count": 92,
   "id": "dfd66a6d-ceaf-49fc-9f4b-45bb0b22587f",
   "metadata": {},
   "outputs": [
    {
     "data": {
      "text/html": [
       "<div>\n",
       "<style scoped>\n",
       "    .dataframe tbody tr th:only-of-type {\n",
       "        vertical-align: middle;\n",
       "    }\n",
       "\n",
       "    .dataframe tbody tr th {\n",
       "        vertical-align: top;\n",
       "    }\n",
       "\n",
       "    .dataframe thead th {\n",
       "        text-align: right;\n",
       "    }\n",
       "</style>\n",
       "<table border=\"1\" class=\"dataframe\">\n",
       "  <thead>\n",
       "    <tr style=\"text-align: right;\">\n",
       "      <th></th>\n",
       "      <th>Cell_Line</th>\n",
       "      <th>Drug_ID</th>\n",
       "      <th>Target</th>\n",
       "      <th>TCGA_Type</th>\n",
       "      <th>DrugEmbedding_Dim0</th>\n",
       "      <th>DrugEmbedding_Dim1</th>\n",
       "      <th>DrugEmbedding_Dim2</th>\n",
       "      <th>DrugEmbedding_Dim3</th>\n",
       "      <th>DrugEmbedding_Dim4</th>\n",
       "      <th>DrugEmbedding_Dim5</th>\n",
       "      <th>...</th>\n",
       "      <th>CellEmbedding_Dim246</th>\n",
       "      <th>CellEmbedding_Dim247</th>\n",
       "      <th>CellEmbedding_Dim248</th>\n",
       "      <th>CellEmbedding_Dim249</th>\n",
       "      <th>CellEmbedding_Dim250</th>\n",
       "      <th>CellEmbedding_Dim251</th>\n",
       "      <th>CellEmbedding_Dim252</th>\n",
       "      <th>CellEmbedding_Dim253</th>\n",
       "      <th>CellEmbedding_Dim254</th>\n",
       "      <th>CellEmbedding_Dim255</th>\n",
       "    </tr>\n",
       "  </thead>\n",
       "  <tbody>\n",
       "    <tr>\n",
       "      <th>0</th>\n",
       "      <td>ACH-000070</td>\n",
       "      <td>176870</td>\n",
       "      <td>0.693305</td>\n",
       "      <td>ALL</td>\n",
       "      <td>0.128356</td>\n",
       "      <td>0.011836</td>\n",
       "      <td>0.243534</td>\n",
       "      <td>0.137116</td>\n",
       "      <td>-0.13091</td>\n",
       "      <td>-0.240304</td>\n",
       "      <td>...</td>\n",
       "      <td>-0.176026</td>\n",
       "      <td>0.054300</td>\n",
       "      <td>0.662075</td>\n",
       "      <td>-0.400942</td>\n",
       "      <td>-0.207140</td>\n",
       "      <td>-0.064926</td>\n",
       "      <td>-0.206338</td>\n",
       "      <td>-0.088848</td>\n",
       "      <td>-0.184410</td>\n",
       "      <td>-0.059895</td>\n",
       "    </tr>\n",
       "    <tr>\n",
       "      <th>1</th>\n",
       "      <td>ACH-000105</td>\n",
       "      <td>176870</td>\n",
       "      <td>1.738326</td>\n",
       "      <td>ALL</td>\n",
       "      <td>0.128356</td>\n",
       "      <td>0.011836</td>\n",
       "      <td>0.243534</td>\n",
       "      <td>0.137116</td>\n",
       "      <td>-0.13091</td>\n",
       "      <td>-0.240304</td>\n",
       "      <td>...</td>\n",
       "      <td>-0.121042</td>\n",
       "      <td>0.124696</td>\n",
       "      <td>-0.560812</td>\n",
       "      <td>-0.504415</td>\n",
       "      <td>-0.134911</td>\n",
       "      <td>-0.005806</td>\n",
       "      <td>-0.135737</td>\n",
       "      <td>-0.018490</td>\n",
       "      <td>-0.109957</td>\n",
       "      <td>-0.004947</td>\n",
       "    </tr>\n",
       "    <tr>\n",
       "      <th>2</th>\n",
       "      <td>ACH-000981</td>\n",
       "      <td>176870</td>\n",
       "      <td>2.838543</td>\n",
       "      <td>ALL</td>\n",
       "      <td>0.128356</td>\n",
       "      <td>0.011836</td>\n",
       "      <td>0.243534</td>\n",
       "      <td>0.137116</td>\n",
       "      <td>-0.13091</td>\n",
       "      <td>-0.240304</td>\n",
       "      <td>...</td>\n",
       "      <td>-0.128809</td>\n",
       "      <td>0.110884</td>\n",
       "      <td>-0.560812</td>\n",
       "      <td>-0.504415</td>\n",
       "      <td>-0.151752</td>\n",
       "      <td>-0.017094</td>\n",
       "      <td>-0.150296</td>\n",
       "      <td>-0.034415</td>\n",
       "      <td>-0.125914</td>\n",
       "      <td>-0.020937</td>\n",
       "    </tr>\n",
       "    <tr>\n",
       "      <th>3</th>\n",
       "      <td>ACH-000061</td>\n",
       "      <td>176870</td>\n",
       "      <td>3.880844</td>\n",
       "      <td>ALL</td>\n",
       "      <td>0.128356</td>\n",
       "      <td>0.011836</td>\n",
       "      <td>0.243534</td>\n",
       "      <td>0.137116</td>\n",
       "      <td>-0.13091</td>\n",
       "      <td>-0.240304</td>\n",
       "      <td>...</td>\n",
       "      <td>-0.172548</td>\n",
       "      <td>0.060355</td>\n",
       "      <td>0.710201</td>\n",
       "      <td>0.061378</td>\n",
       "      <td>-0.201455</td>\n",
       "      <td>-0.061008</td>\n",
       "      <td>-0.201532</td>\n",
       "      <td>-0.083990</td>\n",
       "      <td>-0.176958</td>\n",
       "      <td>-0.052960</td>\n",
       "    </tr>\n",
       "    <tr>\n",
       "      <th>4</th>\n",
       "      <td>ACH-001106</td>\n",
       "      <td>176870</td>\n",
       "      <td>2.112241</td>\n",
       "      <td>ALL</td>\n",
       "      <td>0.128356</td>\n",
       "      <td>0.011836</td>\n",
       "      <td>0.243534</td>\n",
       "      <td>0.137116</td>\n",
       "      <td>-0.13091</td>\n",
       "      <td>-0.240304</td>\n",
       "      <td>...</td>\n",
       "      <td>-0.176026</td>\n",
       "      <td>0.054300</td>\n",
       "      <td>-0.560812</td>\n",
       "      <td>-0.495085</td>\n",
       "      <td>-0.207140</td>\n",
       "      <td>-0.064926</td>\n",
       "      <td>-0.206338</td>\n",
       "      <td>-0.088848</td>\n",
       "      <td>-0.184410</td>\n",
       "      <td>-0.059895</td>\n",
       "    </tr>\n",
       "  </tbody>\n",
       "</table>\n",
       "<p>5 rows × 388 columns</p>\n",
       "</div>"
      ],
      "text/plain": [
       "    Cell_Line  Drug_ID    Target TCGA_Type  DrugEmbedding_Dim0   \n",
       "0  ACH-000070   176870  0.693305       ALL            0.128356  \\\n",
       "1  ACH-000105   176870  1.738326       ALL            0.128356   \n",
       "2  ACH-000981   176870  2.838543       ALL            0.128356   \n",
       "3  ACH-000061   176870  3.880844       ALL            0.128356   \n",
       "4  ACH-001106   176870  2.112241       ALL            0.128356   \n",
       "\n",
       "   DrugEmbedding_Dim1  DrugEmbedding_Dim2  DrugEmbedding_Dim3   \n",
       "0            0.011836            0.243534            0.137116  \\\n",
       "1            0.011836            0.243534            0.137116   \n",
       "2            0.011836            0.243534            0.137116   \n",
       "3            0.011836            0.243534            0.137116   \n",
       "4            0.011836            0.243534            0.137116   \n",
       "\n",
       "   DrugEmbedding_Dim4  DrugEmbedding_Dim5  ...  CellEmbedding_Dim246   \n",
       "0            -0.13091           -0.240304  ...             -0.176026  \\\n",
       "1            -0.13091           -0.240304  ...             -0.121042   \n",
       "2            -0.13091           -0.240304  ...             -0.128809   \n",
       "3            -0.13091           -0.240304  ...             -0.172548   \n",
       "4            -0.13091           -0.240304  ...             -0.176026   \n",
       "\n",
       "   CellEmbedding_Dim247  CellEmbedding_Dim248  CellEmbedding_Dim249   \n",
       "0              0.054300              0.662075             -0.400942  \\\n",
       "1              0.124696             -0.560812             -0.504415   \n",
       "2              0.110884             -0.560812             -0.504415   \n",
       "3              0.060355              0.710201              0.061378   \n",
       "4              0.054300             -0.560812             -0.495085   \n",
       "\n",
       "   CellEmbedding_Dim250  CellEmbedding_Dim251  CellEmbedding_Dim252   \n",
       "0             -0.207140             -0.064926             -0.206338  \\\n",
       "1             -0.134911             -0.005806             -0.135737   \n",
       "2             -0.151752             -0.017094             -0.150296   \n",
       "3             -0.201455             -0.061008             -0.201532   \n",
       "4             -0.207140             -0.064926             -0.206338   \n",
       "\n",
       "   CellEmbedding_Dim253  CellEmbedding_Dim254  CellEmbedding_Dim255  \n",
       "0             -0.088848             -0.184410             -0.059895  \n",
       "1             -0.018490             -0.109957             -0.004947  \n",
       "2             -0.034415             -0.125914             -0.020937  \n",
       "3             -0.083990             -0.176958             -0.052960  \n",
       "4             -0.088848             -0.184410             -0.059895  \n",
       "\n",
       "[5 rows x 388 columns]"
      ]
     },
     "execution_count": 92,
     "metadata": {},
     "output_type": "execute_result"
    }
   ],
   "source": [
    "dualgcn_train.head()"
   ]
  },
  {
   "cell_type": "code",
   "execution_count": 93,
   "id": "edf30747-dc7e-4943-b8ca-a1a8f013b17a",
   "metadata": {},
   "outputs": [
    {
     "data": {
      "text/plain": [
       "2.2082122251998908e-16"
      ]
     },
     "execution_count": 93,
     "metadata": {},
     "output_type": "execute_result"
    }
   ],
   "source": [
    "np.sqrt(np.mean((deepcdr_train[\"Target\"].values-dualgcn_train[\"Target\"].values)**2))"
   ]
  },
  {
   "cell_type": "code",
   "execution_count": 94,
   "id": "e0ffe610-4ca5-42e7-a22a-6ccfa1ca91d2",
   "metadata": {},
   "outputs": [
    {
     "data": {
      "text/plain": [
       "2.183108941145845e-16"
      ]
     },
     "execution_count": 94,
     "metadata": {},
     "output_type": "execute_result"
    }
   ],
   "source": [
    "np.sqrt(np.mean((deepcdr_test[\"Target\"].values-dualgcn_test[\"Target\"].values)**2))"
   ]
  },
  {
   "cell_type": "code",
   "execution_count": 95,
   "id": "fb27c611-ea44-49e5-83d9-da2b3ae79985",
   "metadata": {},
   "outputs": [],
   "source": [
    "deepcdr_test = deepcdr_test.reset_index()"
   ]
  },
  {
   "cell_type": "code",
   "execution_count": 96,
   "id": "6ede7544-aa5f-4665-8d02-924ff7ef05a9",
   "metadata": {},
   "outputs": [
    {
     "data": {
      "text/html": [
       "<div>\n",
       "<style scoped>\n",
       "    .dataframe tbody tr th:only-of-type {\n",
       "        vertical-align: middle;\n",
       "    }\n",
       "\n",
       "    .dataframe tbody tr th {\n",
       "        vertical-align: top;\n",
       "    }\n",
       "\n",
       "    .dataframe thead th {\n",
       "        text-align: right;\n",
       "    }\n",
       "</style>\n",
       "<table border=\"1\" class=\"dataframe\">\n",
       "  <thead>\n",
       "    <tr style=\"text-align: right;\">\n",
       "      <th></th>\n",
       "      <th>Cell_Line</th>\n",
       "      <th>Drug_ID</th>\n",
       "      <th>Target</th>\n",
       "      <th>TCGA_Type</th>\n",
       "      <th>DrugEmbedding_Dim0</th>\n",
       "      <th>DrugEmbedding_Dim1</th>\n",
       "      <th>DrugEmbedding_Dim2</th>\n",
       "      <th>DrugEmbedding_Dim3</th>\n",
       "      <th>DrugEmbedding_Dim4</th>\n",
       "      <th>DrugEmbedding_Dim5</th>\n",
       "      <th>...</th>\n",
       "      <th>CellEmbedding_Dim246</th>\n",
       "      <th>CellEmbedding_Dim247</th>\n",
       "      <th>CellEmbedding_Dim248</th>\n",
       "      <th>CellEmbedding_Dim249</th>\n",
       "      <th>CellEmbedding_Dim250</th>\n",
       "      <th>CellEmbedding_Dim251</th>\n",
       "      <th>CellEmbedding_Dim252</th>\n",
       "      <th>CellEmbedding_Dim253</th>\n",
       "      <th>CellEmbedding_Dim254</th>\n",
       "      <th>CellEmbedding_Dim255</th>\n",
       "    </tr>\n",
       "  </thead>\n",
       "  <tbody>\n",
       "    <tr>\n",
       "      <th>0</th>\n",
       "      <td>ACH-000105</td>\n",
       "      <td>65110</td>\n",
       "      <td>5.897783</td>\n",
       "      <td>ALL</td>\n",
       "      <td>0.62158</td>\n",
       "      <td>-0.241795</td>\n",
       "      <td>-0.197187</td>\n",
       "      <td>3.29067</td>\n",
       "      <td>4.722329</td>\n",
       "      <td>24.43907</td>\n",
       "      <td>...</td>\n",
       "      <td>3.189235</td>\n",
       "      <td>0.0</td>\n",
       "      <td>0.0</td>\n",
       "      <td>0.0</td>\n",
       "      <td>0.0</td>\n",
       "      <td>0.0</td>\n",
       "      <td>0.0</td>\n",
       "      <td>0.0</td>\n",
       "      <td>0.0</td>\n",
       "      <td>0.0</td>\n",
       "    </tr>\n",
       "    <tr>\n",
       "      <th>1</th>\n",
       "      <td>ACH-000995</td>\n",
       "      <td>65110</td>\n",
       "      <td>9.287011</td>\n",
       "      <td>ALL</td>\n",
       "      <td>0.62158</td>\n",
       "      <td>-0.241795</td>\n",
       "      <td>-0.197187</td>\n",
       "      <td>3.29067</td>\n",
       "      <td>4.722329</td>\n",
       "      <td>24.43907</td>\n",
       "      <td>...</td>\n",
       "      <td>0.0</td>\n",
       "      <td>0.0</td>\n",
       "      <td>0.0</td>\n",
       "      <td>0.0</td>\n",
       "      <td>0.0</td>\n",
       "      <td>0.0</td>\n",
       "      <td>0.0</td>\n",
       "      <td>0.0</td>\n",
       "      <td>0.0</td>\n",
       "      <td>0.0</td>\n",
       "    </tr>\n",
       "    <tr>\n",
       "      <th>2</th>\n",
       "      <td>ACH-000636</td>\n",
       "      <td>65110</td>\n",
       "      <td>6.721987</td>\n",
       "      <td>ALL</td>\n",
       "      <td>0.62158</td>\n",
       "      <td>-0.241795</td>\n",
       "      <td>-0.197187</td>\n",
       "      <td>3.29067</td>\n",
       "      <td>4.722329</td>\n",
       "      <td>24.43907</td>\n",
       "      <td>...</td>\n",
       "      <td>0.0</td>\n",
       "      <td>0.0</td>\n",
       "      <td>0.0</td>\n",
       "      <td>0.0</td>\n",
       "      <td>0.0</td>\n",
       "      <td>0.0</td>\n",
       "      <td>0.0</td>\n",
       "      <td>0.0</td>\n",
       "      <td>0.0</td>\n",
       "      <td>0.0</td>\n",
       "    </tr>\n",
       "    <tr>\n",
       "      <th>3</th>\n",
       "      <td>ACH-001106</td>\n",
       "      <td>6710780</td>\n",
       "      <td>-5.499264</td>\n",
       "      <td>ALL</td>\n",
       "      <td>3.057019</td>\n",
       "      <td>13.364774</td>\n",
       "      <td>8.965309</td>\n",
       "      <td>6.132524</td>\n",
       "      <td>4.577669</td>\n",
       "      <td>9.104423</td>\n",
       "      <td>...</td>\n",
       "      <td>0.0</td>\n",
       "      <td>0.0</td>\n",
       "      <td>0.0</td>\n",
       "      <td>0.0</td>\n",
       "      <td>0.0</td>\n",
       "      <td>0.0</td>\n",
       "      <td>0.0</td>\n",
       "      <td>0.0</td>\n",
       "      <td>0.0</td>\n",
       "      <td>0.0</td>\n",
       "    </tr>\n",
       "    <tr>\n",
       "      <th>4</th>\n",
       "      <td>ACH-000636</td>\n",
       "      <td>6710780</td>\n",
       "      <td>-4.948418</td>\n",
       "      <td>ALL</td>\n",
       "      <td>3.057019</td>\n",
       "      <td>13.364774</td>\n",
       "      <td>8.965309</td>\n",
       "      <td>6.132524</td>\n",
       "      <td>4.577669</td>\n",
       "      <td>9.104423</td>\n",
       "      <td>...</td>\n",
       "      <td>0.0</td>\n",
       "      <td>0.0</td>\n",
       "      <td>0.0</td>\n",
       "      <td>0.0</td>\n",
       "      <td>0.0</td>\n",
       "      <td>0.0</td>\n",
       "      <td>0.0</td>\n",
       "      <td>0.0</td>\n",
       "      <td>0.0</td>\n",
       "      <td>0.0</td>\n",
       "    </tr>\n",
       "  </tbody>\n",
       "</table>\n",
       "<p>5 rows × 388 columns</p>\n",
       "</div>"
      ],
      "text/plain": [
       "    Cell_Line  Drug_ID    Target TCGA_Type DrugEmbedding_Dim0   \n",
       "0  ACH-000105    65110  5.897783       ALL            0.62158  \\\n",
       "1  ACH-000995    65110  9.287011       ALL            0.62158   \n",
       "2  ACH-000636    65110  6.721987       ALL            0.62158   \n",
       "3  ACH-001106  6710780 -5.499264       ALL           3.057019   \n",
       "4  ACH-000636  6710780 -4.948418       ALL           3.057019   \n",
       "\n",
       "  DrugEmbedding_Dim1 DrugEmbedding_Dim2 DrugEmbedding_Dim3 DrugEmbedding_Dim4   \n",
       "0          -0.241795          -0.197187            3.29067           4.722329  \\\n",
       "1          -0.241795          -0.197187            3.29067           4.722329   \n",
       "2          -0.241795          -0.197187            3.29067           4.722329   \n",
       "3          13.364774           8.965309           6.132524           4.577669   \n",
       "4          13.364774           8.965309           6.132524           4.577669   \n",
       "\n",
       "  DrugEmbedding_Dim5  ... CellEmbedding_Dim246 CellEmbedding_Dim247   \n",
       "0           24.43907  ...             3.189235                  0.0  \\\n",
       "1           24.43907  ...                  0.0                  0.0   \n",
       "2           24.43907  ...                  0.0                  0.0   \n",
       "3           9.104423  ...                  0.0                  0.0   \n",
       "4           9.104423  ...                  0.0                  0.0   \n",
       "\n",
       "  CellEmbedding_Dim248 CellEmbedding_Dim249 CellEmbedding_Dim250   \n",
       "0                  0.0                  0.0                  0.0  \\\n",
       "1                  0.0                  0.0                  0.0   \n",
       "2                  0.0                  0.0                  0.0   \n",
       "3                  0.0                  0.0                  0.0   \n",
       "4                  0.0                  0.0                  0.0   \n",
       "\n",
       "  CellEmbedding_Dim251 CellEmbedding_Dim252 CellEmbedding_Dim253   \n",
       "0                  0.0                  0.0                  0.0  \\\n",
       "1                  0.0                  0.0                  0.0   \n",
       "2                  0.0                  0.0                  0.0   \n",
       "3                  0.0                  0.0                  0.0   \n",
       "4                  0.0                  0.0                  0.0   \n",
       "\n",
       "  CellEmbedding_Dim254 CellEmbedding_Dim255  \n",
       "0                  0.0                  0.0  \n",
       "1                  0.0                  0.0  \n",
       "2                  0.0                  0.0  \n",
       "3                  0.0                  0.0  \n",
       "4                  0.0                  0.0  \n",
       "\n",
       "[5 rows x 388 columns]"
      ]
     },
     "execution_count": 96,
     "metadata": {},
     "output_type": "execute_result"
    }
   ],
   "source": [
    "deepcdr_test.head()"
   ]
  },
  {
   "cell_type": "code",
   "execution_count": 97,
   "id": "816f9b75-c3cd-4b59-beac-c98bdb38af78",
   "metadata": {},
   "outputs": [
    {
     "data": {
      "text/html": [
       "<div>\n",
       "<style scoped>\n",
       "    .dataframe tbody tr th:only-of-type {\n",
       "        vertical-align: middle;\n",
       "    }\n",
       "\n",
       "    .dataframe tbody tr th {\n",
       "        vertical-align: top;\n",
       "    }\n",
       "\n",
       "    .dataframe thead th {\n",
       "        text-align: right;\n",
       "    }\n",
       "</style>\n",
       "<table border=\"1\" class=\"dataframe\">\n",
       "  <thead>\n",
       "    <tr style=\"text-align: right;\">\n",
       "      <th></th>\n",
       "      <th>Cell_Line</th>\n",
       "      <th>Drug_ID</th>\n",
       "      <th>Target</th>\n",
       "      <th>TCGA_Type</th>\n",
       "      <th>DrugEmbedding_Dim0</th>\n",
       "      <th>DrugEmbedding_Dim1</th>\n",
       "      <th>DrugEmbedding_Dim2</th>\n",
       "      <th>DrugEmbedding_Dim3</th>\n",
       "      <th>DrugEmbedding_Dim4</th>\n",
       "      <th>DrugEmbedding_Dim5</th>\n",
       "      <th>...</th>\n",
       "      <th>CellEmbedding_Dim246</th>\n",
       "      <th>CellEmbedding_Dim247</th>\n",
       "      <th>CellEmbedding_Dim248</th>\n",
       "      <th>CellEmbedding_Dim249</th>\n",
       "      <th>CellEmbedding_Dim250</th>\n",
       "      <th>CellEmbedding_Dim251</th>\n",
       "      <th>CellEmbedding_Dim252</th>\n",
       "      <th>CellEmbedding_Dim253</th>\n",
       "      <th>CellEmbedding_Dim254</th>\n",
       "      <th>CellEmbedding_Dim255</th>\n",
       "    </tr>\n",
       "  </thead>\n",
       "  <tbody>\n",
       "    <tr>\n",
       "      <th>0</th>\n",
       "      <td>ACH-000105</td>\n",
       "      <td>65110</td>\n",
       "      <td>5.897783</td>\n",
       "      <td>ALL</td>\n",
       "      <td>-0.283828</td>\n",
       "      <td>-0.190430</td>\n",
       "      <td>0.123182</td>\n",
       "      <td>-0.126611</td>\n",
       "      <td>-0.026107</td>\n",
       "      <td>-0.216366</td>\n",
       "      <td>...</td>\n",
       "      <td>-0.121042</td>\n",
       "      <td>0.124696</td>\n",
       "      <td>-0.560812</td>\n",
       "      <td>-0.504415</td>\n",
       "      <td>-0.134911</td>\n",
       "      <td>-0.005806</td>\n",
       "      <td>-0.135737</td>\n",
       "      <td>-0.018490</td>\n",
       "      <td>-0.109957</td>\n",
       "      <td>-0.004947</td>\n",
       "    </tr>\n",
       "    <tr>\n",
       "      <th>1</th>\n",
       "      <td>ACH-000995</td>\n",
       "      <td>65110</td>\n",
       "      <td>9.287011</td>\n",
       "      <td>ALL</td>\n",
       "      <td>-0.283828</td>\n",
       "      <td>-0.190430</td>\n",
       "      <td>0.123182</td>\n",
       "      <td>-0.126611</td>\n",
       "      <td>-0.026107</td>\n",
       "      <td>-0.216366</td>\n",
       "      <td>...</td>\n",
       "      <td>0.289424</td>\n",
       "      <td>0.131014</td>\n",
       "      <td>-0.555885</td>\n",
       "      <td>-0.504415</td>\n",
       "      <td>-0.135191</td>\n",
       "      <td>-0.001080</td>\n",
       "      <td>-0.136559</td>\n",
       "      <td>-0.019050</td>\n",
       "      <td>-0.113487</td>\n",
       "      <td>-0.009195</td>\n",
       "    </tr>\n",
       "    <tr>\n",
       "      <th>2</th>\n",
       "      <td>ACH-000636</td>\n",
       "      <td>65110</td>\n",
       "      <td>6.721987</td>\n",
       "      <td>ALL</td>\n",
       "      <td>-0.283828</td>\n",
       "      <td>-0.190430</td>\n",
       "      <td>0.123182</td>\n",
       "      <td>-0.126611</td>\n",
       "      <td>-0.026107</td>\n",
       "      <td>-0.216366</td>\n",
       "      <td>...</td>\n",
       "      <td>-0.174937</td>\n",
       "      <td>0.055935</td>\n",
       "      <td>-0.560812</td>\n",
       "      <td>-0.504415</td>\n",
       "      <td>-0.205513</td>\n",
       "      <td>-0.063920</td>\n",
       "      <td>-0.204933</td>\n",
       "      <td>-0.087336</td>\n",
       "      <td>-0.182408</td>\n",
       "      <td>-0.058637</td>\n",
       "    </tr>\n",
       "    <tr>\n",
       "      <th>3</th>\n",
       "      <td>ACH-001106</td>\n",
       "      <td>6710780</td>\n",
       "      <td>-5.499264</td>\n",
       "      <td>ALL</td>\n",
       "      <td>0.986121</td>\n",
       "      <td>0.531947</td>\n",
       "      <td>-0.806831</td>\n",
       "      <td>0.651924</td>\n",
       "      <td>0.815587</td>\n",
       "      <td>0.081451</td>\n",
       "      <td>...</td>\n",
       "      <td>-0.176026</td>\n",
       "      <td>0.054300</td>\n",
       "      <td>-0.560812</td>\n",
       "      <td>-0.495085</td>\n",
       "      <td>-0.207140</td>\n",
       "      <td>-0.064926</td>\n",
       "      <td>-0.206338</td>\n",
       "      <td>-0.088848</td>\n",
       "      <td>-0.184410</td>\n",
       "      <td>-0.059895</td>\n",
       "    </tr>\n",
       "    <tr>\n",
       "      <th>4</th>\n",
       "      <td>ACH-000636</td>\n",
       "      <td>6710780</td>\n",
       "      <td>-4.948418</td>\n",
       "      <td>ALL</td>\n",
       "      <td>0.986121</td>\n",
       "      <td>0.531947</td>\n",
       "      <td>-0.806831</td>\n",
       "      <td>0.651924</td>\n",
       "      <td>0.815587</td>\n",
       "      <td>0.081451</td>\n",
       "      <td>...</td>\n",
       "      <td>-0.174937</td>\n",
       "      <td>0.055935</td>\n",
       "      <td>-0.560812</td>\n",
       "      <td>-0.504415</td>\n",
       "      <td>-0.205513</td>\n",
       "      <td>-0.063920</td>\n",
       "      <td>-0.204933</td>\n",
       "      <td>-0.087336</td>\n",
       "      <td>-0.182408</td>\n",
       "      <td>-0.058637</td>\n",
       "    </tr>\n",
       "  </tbody>\n",
       "</table>\n",
       "<p>5 rows × 388 columns</p>\n",
       "</div>"
      ],
      "text/plain": [
       "    Cell_Line  Drug_ID    Target TCGA_Type  DrugEmbedding_Dim0   \n",
       "0  ACH-000105    65110  5.897783       ALL           -0.283828  \\\n",
       "1  ACH-000995    65110  9.287011       ALL           -0.283828   \n",
       "2  ACH-000636    65110  6.721987       ALL           -0.283828   \n",
       "3  ACH-001106  6710780 -5.499264       ALL            0.986121   \n",
       "4  ACH-000636  6710780 -4.948418       ALL            0.986121   \n",
       "\n",
       "   DrugEmbedding_Dim1  DrugEmbedding_Dim2  DrugEmbedding_Dim3   \n",
       "0           -0.190430            0.123182           -0.126611  \\\n",
       "1           -0.190430            0.123182           -0.126611   \n",
       "2           -0.190430            0.123182           -0.126611   \n",
       "3            0.531947           -0.806831            0.651924   \n",
       "4            0.531947           -0.806831            0.651924   \n",
       "\n",
       "   DrugEmbedding_Dim4  DrugEmbedding_Dim5  ...  CellEmbedding_Dim246   \n",
       "0           -0.026107           -0.216366  ...             -0.121042  \\\n",
       "1           -0.026107           -0.216366  ...              0.289424   \n",
       "2           -0.026107           -0.216366  ...             -0.174937   \n",
       "3            0.815587            0.081451  ...             -0.176026   \n",
       "4            0.815587            0.081451  ...             -0.174937   \n",
       "\n",
       "   CellEmbedding_Dim247  CellEmbedding_Dim248  CellEmbedding_Dim249   \n",
       "0              0.124696             -0.560812             -0.504415  \\\n",
       "1              0.131014             -0.555885             -0.504415   \n",
       "2              0.055935             -0.560812             -0.504415   \n",
       "3              0.054300             -0.560812             -0.495085   \n",
       "4              0.055935             -0.560812             -0.504415   \n",
       "\n",
       "   CellEmbedding_Dim250  CellEmbedding_Dim251  CellEmbedding_Dim252   \n",
       "0             -0.134911             -0.005806             -0.135737  \\\n",
       "1             -0.135191             -0.001080             -0.136559   \n",
       "2             -0.205513             -0.063920             -0.204933   \n",
       "3             -0.207140             -0.064926             -0.206338   \n",
       "4             -0.205513             -0.063920             -0.204933   \n",
       "\n",
       "   CellEmbedding_Dim253  CellEmbedding_Dim254  CellEmbedding_Dim255  \n",
       "0             -0.018490             -0.109957             -0.004947  \n",
       "1             -0.019050             -0.113487             -0.009195  \n",
       "2             -0.087336             -0.182408             -0.058637  \n",
       "3             -0.088848             -0.184410             -0.059895  \n",
       "4             -0.087336             -0.182408             -0.058637  \n",
       "\n",
       "[5 rows x 388 columns]"
      ]
     },
     "execution_count": 97,
     "metadata": {},
     "output_type": "execute_result"
    }
   ],
   "source": [
    "dualgcn_test.head()"
   ]
  },
  {
   "cell_type": "code",
   "execution_count": 98,
   "id": "d17a0489-5854-4347-8e40-c079b35cb8ca",
   "metadata": {},
   "outputs": [],
   "source": [
    "catch_train = [deepcdr_train[drug_cols].values, dualgcn_train[drug_cols].values, deepcdr_train[cell_cols].values, dualgcn_train[cell_cols].values,\n",
    "               deepcdr_train[\"Target\"].values]"
   ]
  },
  {
   "cell_type": "code",
   "execution_count": 99,
   "id": "309d8bb6-7628-4364-9c2b-ff871b27c261",
   "metadata": {},
   "outputs": [],
   "source": [
    "catch_test = [deepcdr_test[drug_cols].values, dualgcn_test[drug_cols].values, deepcdr_test[cell_cols].values, dualgcn_test[cell_cols].values,\n",
    "               deepcdr_test[\"Target\"].values]"
   ]
  },
  {
   "cell_type": "code",
   "execution_count": 100,
   "id": "c3f5b560-0b08-4c3b-ac50-a69777e7128d",
   "metadata": {},
   "outputs": [
    {
     "name": "stderr",
     "output_type": "stream",
     "text": [
      "2023-07-10 12:15:10.640580: I tensorflow/core/util/port.cc:110] oneDNN custom operations are on. You may see slightly different numerical results due to floating-point round-off errors from different computation orders. To turn them off, set the environment variable `TF_ENABLE_ONEDNN_OPTS=0`.\n",
      "2023-07-10 12:15:10.742592: I tensorflow/tsl/cuda/cudart_stub.cc:28] Could not find cuda drivers on your machine, GPU will not be used.\n",
      "2023-07-10 12:15:11.203557: I tensorflow/tsl/cuda/cudart_stub.cc:28] Could not find cuda drivers on your machine, GPU will not be used.\n",
      "2023-07-10 12:15:11.205803: I tensorflow/core/platform/cpu_feature_guard.cc:182] This TensorFlow binary is optimized to use available CPU instructions in performance-critical operations.\n",
      "To enable the following instructions: AVX2 AVX512F AVX512_VNNI FMA, in other operations, rebuild TensorFlow with the appropriate compiler flags.\n",
      "2023-07-10 12:15:13.136850: W tensorflow/compiler/tf2tensorrt/utils/py_utils.cc:38] TF-TRT Warning: Could not find TensorRT\n"
     ]
    }
   ],
   "source": [
    "import tensorflow as tf"
   ]
  },
  {
   "cell_type": "code",
   "execution_count": 101,
   "id": "38d16a84-2e8b-4917-a291-a98ec72cb9ca",
   "metadata": {},
   "outputs": [],
   "source": [
    "input_sample = tf.keras.layers.Input(shape = (1,34673,1))"
   ]
  },
  {
   "cell_type": "code",
   "execution_count": 102,
   "id": "133a685e-e4c3-4bb7-b2ff-683179914238",
   "metadata": {},
   "outputs": [
    {
     "data": {
      "text/plain": [
       "<KerasTensor: shape=(None, 1, 34673, 1) dtype=float32 (created by layer 'input_1')>"
      ]
     },
     "execution_count": 102,
     "metadata": {},
     "output_type": "execute_result"
    }
   ],
   "source": [
    "input_sample"
   ]
  },
  {
   "cell_type": "code",
   "execution_count": 103,
   "id": "54c1e7cc-8198-4d05-9cc9-40f7e5dc909e",
   "metadata": {},
   "outputs": [],
   "source": [
    "dense_check = tf.keras.layers.Conv1D(50, 700, 5)"
   ]
  },
  {
   "cell_type": "code",
   "execution_count": 104,
   "id": "1a53c77b-ca4c-4372-8c09-aeea1558743c",
   "metadata": {},
   "outputs": [],
   "source": [
    "dense_out = dense_check(input_sample)"
   ]
  },
  {
   "cell_type": "code",
   "execution_count": 105,
   "id": "83b49dc4-cbf7-498d-a495-ef332d419ed8",
   "metadata": {},
   "outputs": [],
   "source": [
    "model_sample = tf.keras.models.Model(input_sample, dense_out)"
   ]
  },
  {
   "cell_type": "code",
   "execution_count": 106,
   "id": "00a51b1c-cde1-4825-98b0-9c7842510c9f",
   "metadata": {},
   "outputs": [
    {
     "name": "stdout",
     "output_type": "stream",
     "text": [
      "Model: \"model\"\n",
      "_________________________________________________________________\n",
      " Layer (type)                Output Shape              Param #   \n",
      "=================================================================\n",
      " input_1 (InputLayer)        [(None, 1, 34673, 1)]     0         \n",
      "                                                                 \n",
      " conv1d (Conv1D)             (None, 1, 6795, 50)       35050     \n",
      "                                                                 \n",
      "=================================================================\n",
      "Total params: 35,050\n",
      "Trainable params: 35,050\n",
      "Non-trainable params: 0\n",
      "_________________________________________________________________\n"
     ]
    }
   ],
   "source": [
    "model_sample.summary()"
   ]
  },
  {
   "cell_type": "code",
   "execution_count": 61,
   "id": "99e166cf-2052-458c-aeb2-98a26bebfb98",
   "metadata": {},
   "outputs": [],
   "source": [
    "# with open(\"..//Data//gcn_cdr_train.pickle\", \"wb\") as f: \n",
    "#     pickle.dump(catch_train, f)"
   ]
  },
  {
   "cell_type": "code",
   "execution_count": 62,
   "id": "846f6c43-751a-4d94-beeb-c074fe452b01",
   "metadata": {},
   "outputs": [],
   "source": [
    "# with open(\"..//Data//gcn_cdr_test.pickle\", \"wb\") as f: \n",
    "#     pickle.dump(catch_test, f)"
   ]
  }
 ],
 "metadata": {
  "kernelspec": {
   "display_name": "enkf",
   "language": "python",
   "name": "enkf"
  },
  "language_info": {
   "codemirror_mode": {
    "name": "ipython",
    "version": 3
   },
   "file_extension": ".py",
   "mimetype": "text/x-python",
   "name": "python",
   "nbconvert_exporter": "python",
   "pygments_lexer": "ipython3",
   "version": "3.11.3"
  }
 },
 "nbformat": 4,
 "nbformat_minor": 5
}
