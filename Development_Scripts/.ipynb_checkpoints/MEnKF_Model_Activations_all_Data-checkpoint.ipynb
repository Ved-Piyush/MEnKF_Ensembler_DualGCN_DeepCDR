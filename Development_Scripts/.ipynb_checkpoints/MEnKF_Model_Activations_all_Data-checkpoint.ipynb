{
 "cells": [
  {
   "cell_type": "code",
   "execution_count": 1,
   "id": "aa53e19a-64db-4b1d-9378-c19c8efacd62",
   "metadata": {},
   "outputs": [
    {
     "name": "stderr",
     "output_type": "stream",
     "text": [
      "2023-07-03 17:39:08.976479: I tensorflow/core/util/port.cc:110] oneDNN custom operations are on. You may see slightly different numerical results due to floating-point round-off errors from different computation orders. To turn them off, set the environment variable `TF_ENABLE_ONEDNN_OPTS=0`.\n",
      "2023-07-03 17:39:08.979473: I tensorflow/tsl/cuda/cudart_stub.cc:28] Could not find cuda drivers on your machine, GPU will not be used.\n",
      "2023-07-03 17:39:09.020975: I tensorflow/tsl/cuda/cudart_stub.cc:28] Could not find cuda drivers on your machine, GPU will not be used.\n",
      "2023-07-03 17:39:09.022076: I tensorflow/core/platform/cpu_feature_guard.cc:182] This TensorFlow binary is optimized to use available CPU instructions in performance-critical operations.\n",
      "To enable the following instructions: AVX2 AVX512F AVX512_VNNI FMA, in other operations, rebuild TensorFlow with the appropriate compiler flags.\n",
      "2023-07-03 17:39:09.943406: W tensorflow/compiler/tf2tensorrt/utils/py_utils.cc:38] TF-TRT Warning: Could not find TensorRT\n"
     ]
    }
   ],
   "source": [
    "import pandas as pd\n",
    "import numpy as np\n",
    "from sklearn.model_selection import KFold\n",
    "from sklearn.feature_selection import VarianceThreshold\n",
    "import random\n",
    "import pickle\n",
    "from sklearn.preprocessing import StandardScaler\n",
    "import os\n",
    "import tensorflow as tf\n",
    "from tqdm.notebook import tqdm\n",
    "from scipy.stats import multivariate_normal as mvn\n",
    "import matplotlib.pyplot as plt\n",
    "from scipy.linalg import block_diag\n",
    "import warnings\n",
    "import os\n",
    "os.environ['TF_CPP_MIN_LOG_LEVEL'] = '3' "
   ]
  },
  {
   "cell_type": "code",
   "execution_count": 2,
   "id": "a6028973-9799-4d8a-b919-a8dd6283faf1",
   "metadata": {},
   "outputs": [],
   "source": [
    "warnings.filterwarnings('ignore')"
   ]
  },
  {
   "cell_type": "code",
   "execution_count": 3,
   "id": "34242ac3-a983-4bab-b092-bfcea4f94a4b",
   "metadata": {},
   "outputs": [],
   "source": [
    "# len(weights_ann_1[0].ravel())"
   ]
  },
  {
   "cell_type": "code",
   "execution_count": 4,
   "id": "d459b853-f520-4181-a9a9-310a6dd20de1",
   "metadata": {},
   "outputs": [],
   "source": [
    "def get_targets_with_weights(batch_data, initial_ensembles, size_ens): \n",
    "    \n",
    "    target_dim = 1\n",
    "    \n",
    "    # weights_ann_1 = ann.get_weights()\n",
    "    \n",
    "    # h1  = ann.layers[1].output.shape[-1]\n",
    "\n",
    "    n_hidden_1 = len(weights_ann_1[0].ravel())\n",
    "    \n",
    "    hidden_weights_1 = initial_ensembles[:,:n_hidden_1].reshape( size_ens, batch_data.shape[1], h1)\n",
    "    \n",
    "    \n",
    "    hidden_output_1 = np.einsum('ij,kjl->kil', batch_data, hidden_weights_1)\n",
    "\n",
    "    \n",
    "    hidden_layer_bias_1 = initial_ensembles[:,n_hidden_1:(n_hidden_1 + h1)].reshape(size_ens, 1,  h1)\n",
    "\n",
    "\n",
    "    hidden_output_1 = hidden_output_1 + hidden_layer_bias_1\n",
    "\n",
    "    n_pred_weights_1 = len(weights_ann_1[2].ravel())\n",
    "\n",
    "    output_weights_1 = initial_ensembles[:,(n_hidden_1 + h1):(n_hidden_1 + h1 + n_pred_weights_1) ].reshape(size_ens, h1, target_dim)\n",
    "\n",
    "\n",
    "    output_1 = np.einsum('ijk,ikl->ijl', hidden_output_1, output_weights_1)\n",
    "\n",
    "\n",
    "    output_layer_bias_1 = initial_ensembles[:,(n_hidden_1 + h1 + n_pred_weights_1):(n_hidden_1 + h1 + n_pred_weights_1 + target_dim)].reshape(size_ens, 1, target_dim)\n",
    "\n",
    "\n",
    "    final_output_1 = output_1 + output_layer_bias_1\n",
    "    \n",
    "    final_output_1 = final_output_1[:,:, 0]\n",
    "    \n",
    "    # print(final_output_1.shape, initial_ensembles.shape)\n",
    "    \n",
    "    stack = np.hstack((final_output_1, initial_ensembles))\n",
    "\n",
    "    \n",
    "    return final_output_1, stack"
   ]
  },
  {
   "cell_type": "code",
   "execution_count": 5,
   "id": "2a66ee4c-4112-4dca-a9cc-68a60d4e316f",
   "metadata": {},
   "outputs": [],
   "source": [
    "def ann(hidden = 32, input_shape = 256, output_shape = 1): \n",
    "    input_layer = tf.keras.layers.Input(shape = (input_shape))\n",
    "    hidden_layer = tf.keras.layers.Dense(hidden)\n",
    "    hidden_output = hidden_layer(input_layer)\n",
    "    pred_layer = tf.keras.layers.Dense(output_shape, activation = \"relu\")\n",
    "    pred_output = pred_layer(hidden_output)\n",
    "#     pred_output = tf.keras.layers.Activation(\"softmax\")(pred_output)\n",
    "    model = tf.keras.models.Model(input_layer, pred_output)\n",
    "    return model"
   ]
  },
  {
   "cell_type": "code",
   "execution_count": 6,
   "id": "e0b9ef03-af61-4ce4-99ff-2f0b5dca639d",
   "metadata": {},
   "outputs": [],
   "source": [
    "def generate_initial_ensembles(num_weights, lambda1, size_ens):\n",
    "    mean_vec = np.zeros((num_weights,))\n",
    "    cov_matrix = lambda1*np.identity(num_weights)\n",
    "    mvn_samp = mvn(mean_vec, cov_matrix)\n",
    "    return mvn_samp.rvs(size_ens)"
   ]
  },
  {
   "cell_type": "code",
   "execution_count": 7,
   "id": "fe2ea2b5-13a4-41c4-8257-c6c18708501b",
   "metadata": {},
   "outputs": [],
   "source": [
    "def expit(x):\n",
    "    \"\"\"Compute softmax values for each sets of scores in x.\"\"\"\n",
    "#     e_x = np.exp(x - np.max(x))\n",
    "    return 1 / (1 + np.exp(-x))"
   ]
  },
  {
   "cell_type": "code",
   "execution_count": 8,
   "id": "758ac30a-bcc7-4b5e-9314-7fb85f284f70",
   "metadata": {},
   "outputs": [],
   "source": [
    "samp_ann =  ann(hidden = 8, input_shape = 32, output_shape = 1)"
   ]
  },
  {
   "cell_type": "code",
   "execution_count": 9,
   "id": "2548f2de-a4c3-4850-b5cc-439634f5c4de",
   "metadata": {},
   "outputs": [],
   "source": [
    "weights_ann_1 = samp_ann.get_weights()"
   ]
  },
  {
   "cell_type": "code",
   "execution_count": 10,
   "id": "1338dc89-5540-4867-95a6-3d0ea7639cdd",
   "metadata": {},
   "outputs": [],
   "source": [
    "h1  = samp_ann.layers[1].output.shape[-1]"
   ]
  },
  {
   "cell_type": "code",
   "execution_count": 11,
   "id": "4a92b1e3-d9c6-4ce7-959d-aef1376a29d9",
   "metadata": {},
   "outputs": [
    {
     "data": {
      "text/plain": [
       "8"
      ]
     },
     "execution_count": 11,
     "metadata": {},
     "output_type": "execute_result"
    }
   ],
   "source": [
    "h1"
   ]
  },
  {
   "cell_type": "code",
   "execution_count": 12,
   "id": "427b0370-90df-4ab4-85b9-691d082750bf",
   "metadata": {},
   "outputs": [
    {
     "data": {
      "text/plain": [
       "273"
      ]
     },
     "execution_count": 12,
     "metadata": {},
     "output_type": "execute_result"
    }
   ],
   "source": [
    "samp_ann.count_params()"
   ]
  },
  {
   "cell_type": "code",
   "execution_count": 13,
   "id": "06982568-e5c1-4712-895c-7b3d49a09040",
   "metadata": {},
   "outputs": [],
   "source": [
    "hidden_neurons = h1"
   ]
  },
  {
   "cell_type": "code",
   "execution_count": 14,
   "id": "a71c4646-23a6-45ca-9ccc-aa4c3566d8a8",
   "metadata": {},
   "outputs": [],
   "source": [
    "samp_ann_params = samp_ann.count_params()"
   ]
  },
  {
   "cell_type": "code",
   "execution_count": 15,
   "id": "b5f741d7-ba99-4803-8441-5bf2ad3d72f7",
   "metadata": {},
   "outputs": [],
   "source": [
    "def get_initial_X_t(data1, data2, data3, data4, size_ens, var_weights = 1.0, var_weight_weights = 4.0, var_L = 1.0, var_D = 1.0):\n",
    "    # samp_ann =  ann(hidden = hidden_neurons, input_shape = 32, output_shape = 1)\n",
    "    \n",
    "    initial_ensembles1 = generate_initial_ensembles(samp_ann_params, var_weights, size_ens)\n",
    "    data1_out1, data1_stack1 = get_targets_with_weights(data1, initial_ensembles1, size_ens = size_ens)\n",
    "    \n",
    "    initial_ensembles2 = generate_initial_ensembles(samp_ann_params, var_weights, size_ens)\n",
    "    data1_out2, data1_stack2 = get_targets_with_weights(data2, initial_ensembles2, size_ens = size_ens)\n",
    "    \n",
    "    initial_ensembles3 = generate_initial_ensembles(samp_ann_params, var_weights, size_ens)\n",
    "    data2_out1, data2_stack1 = get_targets_with_weights(data3, initial_ensembles3, size_ens = size_ens)\n",
    "    \n",
    "    initial_ensembles4 = generate_initial_ensembles(samp_ann_params, var_weights, size_ens)\n",
    "    data2_out2, data2_stack2 = get_targets_with_weights(data4, initial_ensembles4, size_ens = size_ens)   \n",
    "    \n",
    "    X_t = np.concatenate((np.expand_dims(data1_stack1, -1), np.expand_dims(data1_stack2, -1), \n",
    "                         np.expand_dims(data2_stack1, -1), np.expand_dims(data2_stack2, -1)), axis = -1)\n",
    "    \n",
    "    initial_ensembles_for_weights = generate_initial_ensembles(4, var_weight_weights, size_ens)\n",
    "    initial_ensembles_for_weights = np.expand_dims(initial_ensembles_for_weights,1)\n",
    "    \n",
    "    # initial_ensembles_for_L = generate_initial_ensembles(4, var_L, size_ens)\n",
    "    # initial_ensembles_for_L = np.expand_dims(initial_ensembles_for_L,1)    \n",
    "    \n",
    "    initial_ensembles_for_D1 = generate_initial_ensembles(1, var_D, size_ens).reshape(-1,1)\n",
    "    # initial_ensembles_for_D2 = generate_initial_ensembles(1, var_D, size_ens).reshape(-1,1)\n",
    "    \n",
    "    initial_ensembles_for_D1_zero = np.zeros((size_ens,1,1)).reshape(-1,1)\n",
    "    initial_ensembles_for_D2_zero = np.zeros((size_ens,1,1)).reshape(-1,1)\n",
    "    \n",
    "    initial_ensembles_for_D3_zero = np.zeros((size_ens,1,1)).reshape(-1,1)\n",
    "    \n",
    "    initial_ensembles_for_D = np.concatenate((np.expand_dims(initial_ensembles_for_D1,1),\n",
    "                                                       np.expand_dims(initial_ensembles_for_D1_zero,1), \n",
    "                                                      np.expand_dims(initial_ensembles_for_D2_zero,1),\n",
    "                                                       np.expand_dims(initial_ensembles_for_D3_zero,1)), axis = 2)\n",
    "    \n",
    "    # print(X_t.shape, initial_ensembles_for_weights.shape)\n",
    "    \n",
    "    X_t = np.concatenate((X_t, initial_ensembles_for_weights, initial_ensembles_for_D), axis = 1)\n",
    "    \n",
    "    initial_ensembles = np.hstack((initial_ensembles1, initial_ensembles2, initial_ensembles3, initial_ensembles4))\n",
    "    \n",
    "    return X_t, initial_ensembles, initial_ensembles_for_weights[:,0,:], initial_ensembles_for_D[:,0,:]"
   ]
  },
  {
   "cell_type": "code",
   "execution_count": 16,
   "id": "6ac49c8c-6da0-4ee2-9561-e1d19365f182",
   "metadata": {},
   "outputs": [],
   "source": [
    "def get_weighted_targets_with_weights(batch_data, initial_ensembles, size_ens, weights): \n",
    "    \n",
    "    target_dim = 1\n",
    "    \n",
    "\n",
    "    n_hidden_1 = len(weights_ann_1[0].ravel())\n",
    "    \n",
    "    hidden_weights_1 = initial_ensembles[:,:n_hidden_1].reshape( size_ens, batch_data.shape[1], h1)\n",
    "    \n",
    "    \n",
    "    hidden_output_1 = np.einsum('ij,kjl->kil', batch_data, hidden_weights_1)\n",
    "\n",
    "    \n",
    "    hidden_layer_bias_1 = initial_ensembles[:,n_hidden_1:(n_hidden_1 + h1)].reshape(size_ens, 1,  h1)\n",
    "\n",
    "\n",
    "    hidden_output_1 = hidden_output_1 + hidden_layer_bias_1\n",
    "\n",
    "    n_pred_weights_1 = len(weights_ann_1[2].ravel())\n",
    "\n",
    "    output_weights_1 = initial_ensembles[:,(n_hidden_1 + h1):(n_hidden_1 + h1 + n_pred_weights_1) ].reshape(size_ens, h1, target_dim)\n",
    "\n",
    "\n",
    "    output_1 = np.einsum('ijk,ikl->ijl', hidden_output_1, output_weights_1)\n",
    "\n",
    "\n",
    "    output_layer_bias_1 = initial_ensembles[:,(n_hidden_1 + h1 + n_pred_weights_1):(n_hidden_1 + h1 + n_pred_weights_1 + target_dim)].reshape(size_ens, 1, target_dim)\n",
    "\n",
    "\n",
    "    final_output_1 = output_1 + output_layer_bias_1\n",
    "    \n",
    "    final_output_1 = final_output_1[:,:, 0]\n",
    "    \n",
    "    final_output_1 = final_output_1*weights\n",
    "    \n",
    "    # print(final_output_1.shape, initial_ensembles.shape)\n",
    "    \n",
    "    stack = np.hstack((final_output_1, initial_ensembles))\n",
    "\n",
    "    \n",
    "    return final_output_1, stack"
   ]
  },
  {
   "cell_type": "code",
   "execution_count": 17,
   "id": "c5a2f9ca-f4b4-445a-ab5f-e0f0557f54a9",
   "metadata": {},
   "outputs": [],
   "source": [
    "from scipy.stats import beta"
   ]
  },
  {
   "cell_type": "code",
   "execution_count": 18,
   "id": "44ed09c8-f6b0-4b40-86e0-1975541fd0ac",
   "metadata": {},
   "outputs": [],
   "source": [
    "fudging_beta = beta(1,9)"
   ]
  },
  {
   "cell_type": "code",
   "execution_count": 19,
   "id": "9d1a4f5e-7a0d-42b7-ad45-59c708b7b727",
   "metadata": {},
   "outputs": [],
   "source": [
    "def forward_operation(data1, data2, data3, data4, combined_ensembles , size_ens, fudging_beta):\n",
    "    # samp_ann =  ann(hidden = hidden_neurons, input_shape = 32, output_shape = 1)\n",
    "    params = samp_ann_params\n",
    "    initial_ensembles1 = combined_ensembles[:, :params]\n",
    "    initial_ensembles2 = combined_ensembles[:, params:(2*params)]\n",
    "    initial_ensembles3 = combined_ensembles[:, (2*params):(3*params)]\n",
    "    initial_ensembles4 = combined_ensembles[:, (3*params):(4*params)]\n",
    "\n",
    "    \n",
    "    initial_ensembles_for_weights = combined_ensembles[:, (4*params):(4*params + 4)]\n",
    "    \n",
    "    # initial_ensembles_for_L = combined_ensembles[:, (4*params + 4):(4*params + 4 + 4)]\n",
    "    \n",
    "    initial_ensembles_for_D = combined_ensembles[:,(4*params + 4):(4*params + 4 + 4 )]\n",
    "    \n",
    "    \n",
    "    softmax_weights = tf.math.softmax(initial_ensembles_for_weights).numpy()\n",
    "    \n",
    "    model_1 = softmax_weights[:, 0].reshape(-1,1) \n",
    "    \n",
    "    # model_1 = np.min(model_1 -fudging_factor)\n",
    "    \n",
    "    model_2 = softmax_weights[:, 1].reshape(-1,1) \n",
    "    \n",
    "    model_3 = softmax_weights[:, 2].reshape(-1,1) \n",
    "    \n",
    "    model_4 = softmax_weights[:, 3].reshape(-1,1)\n",
    "    \n",
    "    sum_weights = model_1 + model_2 + model_3 + model_4\n",
    "    \n",
    "    \n",
    "    # model_1_plus_model_2 = model_1 + model_2\n",
    "    \n",
    "    model_1 = model_1/sum_weights\n",
    "    \n",
    "    model_2 = model_2/sum_weights\n",
    "    \n",
    "    model_3 = model_3/sum_weights\n",
    "    \n",
    "    model_4 = model_4/sum_weights\n",
    "    \n",
    "    \n",
    "    # print(np.mean(model_1 + model_2))\n",
    "    \n",
    "    data1_out1, data1_stack1 = get_weighted_targets_with_weights(data1, initial_ensembles1, size_ens = size_ens,\n",
    "                                                                  weights=model_1)\n",
    "    \n",
    "    data1_out2, data1_stack2 = get_weighted_targets_with_weights(data2, initial_ensembles2, size_ens = size_ens,\n",
    "                                                                weights=model_2)\n",
    "    \n",
    "    data2_out1, data2_stack1 = get_weighted_targets_with_weights(data3, initial_ensembles3, size_ens = size_ens,\n",
    "                                                                 weights=model_3)\n",
    "    \n",
    "    data2_out2, data2_stack2 = get_weighted_targets_with_weights(data4, initial_ensembles4, size_ens = size_ens,\n",
    "                                                                  weights=model_4)   \n",
    "    \n",
    "    X_t = np.concatenate((np.expand_dims(data1_stack1, -1), np.expand_dims(data1_stack2, -1), \n",
    "                         np.expand_dims(data2_stack1, -1), np.expand_dims(data2_stack2, -1)), axis = -1)\n",
    "    \n",
    "    initial_ensembles = np.hstack((initial_ensembles1, initial_ensembles2, initial_ensembles3, initial_ensembles4, \n",
    "                        initial_ensembles_for_weights, initial_ensembles_for_D))\n",
    "    \n",
    "    # print(X_t.shape)\n",
    "    \n",
    "    initial_ensembles_for_weights = np.expand_dims(initial_ensembles_for_weights,1)\n",
    "    \n",
    "    # initial_ensembles_for_L = np.expand_dims(initial_ensembles_for_L,1)\n",
    "    \n",
    "    initial_ensembles_for_D = np.expand_dims(initial_ensembles_for_D,1)\n",
    "    \n",
    "    # print(initial_ensembles_for_weights.shape)\n",
    "    \n",
    "    X_t = np.concatenate((X_t, initial_ensembles_for_weights, initial_ensembles_for_D), axis = 1)\n",
    "    \n",
    "    final_output = data1_out1 + data1_out2 + data2_out1 + data2_out2\n",
    "    \n",
    "    # weighted_psa = data1_out2 + data2_out2\n",
    "    \n",
    "    return X_t, initial_ensembles,final_output, model_1, model_2, model_3, model_4"
   ]
  },
  {
   "cell_type": "code",
   "execution_count": 20,
   "id": "c6bd2eb3-86b7-41ed-81b4-4dd8e44e106e",
   "metadata": {},
   "outputs": [],
   "source": [
    "def forward_operation_test(data1, data2, data3, data4, combined_ensembles , size_ens):\n",
    "    # samp_ann =  ann(hidden = hidden_neurons, input_shape = 32, output_shape = 1)\n",
    "    params = samp_ann_params\n",
    "    initial_ensembles1 = combined_ensembles[:, :params]\n",
    "    initial_ensembles2 = combined_ensembles[:, params:(2*params)]\n",
    "    initial_ensembles3 = combined_ensembles[:, (2*params):(3*params)]\n",
    "    initial_ensembles4 = combined_ensembles[:, (3*params):(4*params)]\n",
    "\n",
    "    \n",
    "    initial_ensembles_for_weights = combined_ensembles[:, (4*params):(4*params + 4)]\n",
    "    \n",
    "    # initial_ensembles_for_L = combined_ensembles[:, (4*params + 4):(4*params + 4 + 4)]\n",
    "    \n",
    "    initial_ensembles_for_D = combined_ensembles[:,(4*params + 4):(4*params + 4 + 4)]\n",
    "    \n",
    "    \n",
    "    softmax_weights = tf.math.softmax(initial_ensembles_for_weights).numpy()\n",
    "    \n",
    "    model_1 = softmax_weights[:, :1].reshape(-1,1) \n",
    "    \n",
    "    # model_1 = np.min(model_1 -fudging_factor)\n",
    "    \n",
    "    model_2 = softmax_weights[:, 1:2].reshape(-1,1) \n",
    "    \n",
    "    model_3 = softmax_weights[:, 2:3].reshape(-1,1)\n",
    "    \n",
    "    model_4 = softmax_weights[:, 3:4].reshape(-1,1)\n",
    "    \n",
    "    sum_weights = model_1 + model_2 + model_3 + model_4\n",
    "    \n",
    "    \n",
    "    # model_1_plus_model_2 = model_1 + model_2\n",
    "    \n",
    "    model_1 = model_1/sum_weights\n",
    "    \n",
    "    model_2 = model_2/sum_weights\n",
    "    \n",
    "    model_3 = model_3/sum_weights\n",
    "    \n",
    "    model_4 = model_4/sum_weights\n",
    "    \n",
    "    data1_out1, data1_stack1 = get_weighted_targets_with_weights(data1, initial_ensembles1, size_ens = size_ens,\n",
    "                                                                  weights=model_1)\n",
    "    \n",
    "    data1_out2, data1_stack2 = get_weighted_targets_with_weights(data2, initial_ensembles2, size_ens = size_ens,\n",
    "                                                                weights=model_2)\n",
    "    \n",
    "    data2_out1, data2_stack1 = get_weighted_targets_with_weights(data3, initial_ensembles3, size_ens = size_ens,\n",
    "                                                                 weights=model_3)\n",
    "    \n",
    "    data2_out2, data2_stack2 = get_weighted_targets_with_weights(data4, initial_ensembles4, size_ens = size_ens,\n",
    "                                                                  weights=model_4)   \n",
    "    \n",
    "    X_t = np.concatenate((np.expand_dims(data1_stack1, -1), np.expand_dims(data1_stack2, -1), \n",
    "                         np.expand_dims(data2_stack1, -1), np.expand_dims(data2_stack2, -1)), axis = -1)\n",
    "    \n",
    "    initial_ensembles = np.hstack((initial_ensembles1, initial_ensembles2, initial_ensembles3, initial_ensembles4, \n",
    "                        initial_ensembles_for_weights, initial_ensembles_for_D))\n",
    "    \n",
    "    # print(X_t.shape)\n",
    "    \n",
    "    initial_ensembles_for_weights = np.expand_dims(initial_ensembles_for_weights,1)\n",
    "    \n",
    "    # initial_ensembles_for_L = np.expand_dims(initial_ensembles_for_L,1)\n",
    "    \n",
    "    initial_ensembles_for_D = np.expand_dims(initial_ensembles_for_D,1)\n",
    "    \n",
    "    # print(initial_ensembles_for_weights.shape)\n",
    "    \n",
    "    X_t = np.concatenate((X_t, initial_ensembles_for_weights, initial_ensembles_for_D), axis = 1)\n",
    "    \n",
    "    final_output = data1_out1 + data1_out2 + data2_out1 + data2_out2\n",
    "    \n",
    "    return X_t, initial_ensembles, final_output, model_1, model_2, model_3, model_4"
   ]
  },
  {
   "cell_type": "code",
   "execution_count": 21,
   "id": "af3dd570-7ab3-4eae-bd8e-9a57a333b30a",
   "metadata": {},
   "outputs": [],
   "source": [
    "total_weights = 4*(samp_ann.count_params() + 1 + 1)"
   ]
  },
  {
   "cell_type": "code",
   "execution_count": 22,
   "id": "e820b010-4396-4b7a-8781-a8e6d503aad5",
   "metadata": {},
   "outputs": [],
   "source": [
    "reduction = 10"
   ]
  },
  {
   "cell_type": "code",
   "execution_count": 23,
   "id": "e5fbaaf7-afae-4008-a26c-e0691ef9b3f9",
   "metadata": {},
   "outputs": [],
   "source": [
    "size_ens = total_weights//reduction"
   ]
  },
  {
   "cell_type": "code",
   "execution_count": 24,
   "id": "a5111536-1a97-4390-9658-c9848a136a3f",
   "metadata": {},
   "outputs": [
    {
     "data": {
      "text/plain": [
       "110"
      ]
     },
     "execution_count": 24,
     "metadata": {},
     "output_type": "execute_result"
    }
   ],
   "source": [
    "size_ens"
   ]
  },
  {
   "cell_type": "code",
   "execution_count": 25,
   "id": "3f598992-73d6-4b5a-906d-3184f1b9625f",
   "metadata": {},
   "outputs": [],
   "source": [
    "G_t = [[1, 1, 1, 1]]\n",
    "G_t = np.array(G_t).T"
   ]
  },
  {
   "cell_type": "code",
   "execution_count": 26,
   "id": "17ef8c41-26ff-4e49-98f8-8f6c31b4eb63",
   "metadata": {},
   "outputs": [
    {
     "data": {
      "text/plain": [
       "(4, 1)"
      ]
     },
     "execution_count": 26,
     "metadata": {},
     "output_type": "execute_result"
    }
   ],
   "source": [
    "G_t.shape"
   ]
  },
  {
   "cell_type": "code",
   "execution_count": 27,
   "id": "a84cb0e3-2f5e-4207-b092-d2768b52205a",
   "metadata": {},
   "outputs": [],
   "source": [
    "def get_predictions(data1, data2, data3, data4, initial_ensembles, fudging_beta  =fudging_beta): \n",
    "    _,_, weighted_alogp, w1, w2, w3, w4 = forward_operation(data1, data2, data3, data4, initial_ensembles, size_ens = size_ens, fudging_beta = fudging_beta)\n",
    "    return weighted_alogp, w1, w2, w3, w4"
   ]
  },
  {
   "cell_type": "code",
   "execution_count": 28,
   "id": "37b60b37-92b1-4784-85fc-59a865d2398f",
   "metadata": {},
   "outputs": [],
   "source": [
    "def get_predictions_test(data1, data2, data3, data4, initial_ensembles): \n",
    "    _,_, weighted_alogp, w1, w2, w3, w4 = forward_operation_test(data1, data2, data3, data4, initial_ensembles, size_ens = size_ens)\n",
    "    return weighted_alogp, w1, w2, w3, w4"
   ]
  },
  {
   "cell_type": "code",
   "execution_count": 29,
   "id": "3af0a9b9-6202-40e2-911f-3c890213099f",
   "metadata": {},
   "outputs": [],
   "source": [
    "def calculate_mu_bar_G_bar(data1, data2, data3, data4, initial_ensembles, fudging_beta):\n",
    "    H_t = np.hstack((np.identity(data1.shape[0]), np.zeros((data1.shape[0], samp_ann_params + 1  + 1))))\n",
    "    mu_bar = initial_ensembles.mean(0)\n",
    "    X_t, _,_, _, _, _, _ = forward_operation(data1, data2, data3, data4, initial_ensembles, size_ens = size_ens, fudging_beta = fudging_beta)\n",
    "    X_t = X_t.transpose((0,2,1))\n",
    "    X_t = X_t.reshape(X_t.shape[0], X_t.shape[1]*X_t.shape[2])\n",
    "    script_H_t = np.kron(G_t.T, H_t)\n",
    "    G_u = (script_H_t@X_t.T)\n",
    "    G_u = G_u.T\n",
    "    G_bar = (G_u.mean(0)).ravel()\n",
    "    return mu_bar.reshape(-1,1), G_bar.reshape(-1,1), G_u"
   ]
  },
  {
   "cell_type": "code",
   "execution_count": 30,
   "id": "7334c80c-cfcd-4d5b-b844-11cfb8c137df",
   "metadata": {},
   "outputs": [],
   "source": [
    "def calculate_C_u(initial_ensembles, mu_bar, G_bar, G_u): \n",
    "    u_j_minus_u_bar = initial_ensembles - mu_bar.reshape(1,-1)\n",
    "    G_u_minus_G_bar = G_u -  G_bar.reshape(1,-1)\n",
    "    c = np.zeros((total_weights, G_bar.shape[0]))\n",
    "    for i in range(0, size_ens): \n",
    "        c += np.kron(u_j_minus_u_bar[i, :].T.reshape(-1,1), G_u_minus_G_bar[i,:].reshape(-1,1).T)\n",
    "    return c/size_ens, G_u_minus_G_bar"
   ]
  },
  {
   "cell_type": "code",
   "execution_count": 31,
   "id": "9148779c-1a3f-455d-a6ad-00fc1bf69c1f",
   "metadata": {},
   "outputs": [],
   "source": [
    "def calculate_D_u( G_bar, G_u): \n",
    "    G_u_minus_G_bar = G_u -  G_bar.reshape(1,-1)\n",
    "    d = np.zeros((G_bar.shape[0], G_bar.shape[0]))\n",
    "    for i in range(0, size_ens): \n",
    "        d += np.kron(G_u_minus_G_bar[i,:].T.reshape(-1,1), G_u_minus_G_bar[i,:].reshape(-1,1).T)\n",
    "    return d/size_ens"
   ]
  },
  {
   "cell_type": "code",
   "execution_count": 32,
   "id": "6e8459b0-68c1-4d1f-851e-3d7b99f0ffc5",
   "metadata": {},
   "outputs": [],
   "source": [
    "def get_updated_ensemble(data1, data2, data3, data4, initial_ensembles, y_train, size_ens = size_ens, inflation_factor = 1.0, fudging_beta = fudging_beta, \n",
    "                        fudging_var = None):\n",
    "    mu_bar, G_bar, G_u = calculate_mu_bar_G_bar(data1, data2, data3, data4, initial_ensembles, fudging_beta)\n",
    "    C, G_u_minus_G_bar = calculate_C_u(initial_ensembles, mu_bar, G_bar, G_u)\n",
    "    D = calculate_D_u( G_bar, G_u)\n",
    "    _, R_t = create_cov(data1.shape[0],initial_ensembles)\n",
    "    inflation = np.identity(R_t.shape[0])*inflation_factor\n",
    "    D_plus_cov = D + (R_t *inflation_factor)\n",
    "    D_plus_cov_inv = np.linalg.inv(D_plus_cov)\n",
    "    mid_quant = C@D_plus_cov_inv\n",
    "    noise_vec_mean = np.zeros((R_t.shape[0], ))\n",
    "    noise_mvn = mvn(noise_vec_mean, R_t)\n",
    "    fudging = noise_mvn.rvs(size_ens)\n",
    "    interim = (y_train.T.flatten().reshape(1,-1) + fudging)\n",
    "    right_quant = interim - G_u\n",
    "    mid_times_right = mid_quant@right_quant.T\n",
    "    updated_ensemble = (initial_ensembles + mid_times_right.T)\n",
    "    if fudging_var is not None: \n",
    "        mean_vec = np.zeros((updated_ensemble.shape[1],))\n",
    "        cov_mat = np.identity(updated_ensemble.shape[1])*fudging_var\n",
    "        fudging_for_updated_ensembles = mvn(mean_vec, cov_mat)\n",
    "        fudging_for_updated_ensembles_vec = fudging_for_updated_ensembles.rvs(size_ens)\n",
    "        updated_ensemble = updated_ensemble + fudging_for_updated_ensembles_vec\n",
    "    return updated_ensemble"
   ]
  },
  {
   "cell_type": "code",
   "execution_count": 33,
   "id": "c14b236d-6ebf-40e3-9085-97afd2990e4d",
   "metadata": {},
   "outputs": [],
   "source": [
    "target_dim = 1"
   ]
  },
  {
   "cell_type": "code",
   "execution_count": 34,
   "id": "346d07bc-5b61-4e75-a816-a6e22ffe9d76",
   "metadata": {},
   "outputs": [],
   "source": [
    "lambda_D = 1"
   ]
  },
  {
   "cell_type": "code",
   "execution_count": 35,
   "id": "5abd35fb-ea92-449d-894a-162ed1f4aaec",
   "metadata": {},
   "outputs": [],
   "source": [
    "from joblib import Parallel, delayed"
   ]
  },
  {
   "cell_type": "code",
   "execution_count": 36,
   "id": "381fc654-8877-41fd-840a-4b35153f923b",
   "metadata": {},
   "outputs": [],
   "source": [
    "def create_cov(shape, initial_ensembles):\n",
    "    cov_part = initial_ensembles[:, -4:-3]\n",
    "    cov_part = cov_part.mean(0)\n",
    "    variances1 = tf.math.softplus(cov_part).numpy()\n",
    "    n = shape\n",
    "    return variances1, np.identity(n)*variances1"
   ]
  },
  {
   "cell_type": "code",
   "execution_count": 37,
   "id": "7c59ea29-6484-40d5-8777-80cf9ca6cf5d",
   "metadata": {},
   "outputs": [],
   "source": [
    "# idx = 1"
   ]
  },
  {
   "cell_type": "code",
   "execution_count": 38,
   "id": "7649cb4e-4909-404a-86db-cfb8fc2e078b",
   "metadata": {},
   "outputs": [],
   "source": [
    "with open(\"..//Data//gcn_cdr_train_pca.pickle\", \"rb\") as f: \n",
    "    catch_train = pickle.load(f)"
   ]
  },
  {
   "cell_type": "code",
   "execution_count": 39,
   "id": "f029a85a-6790-4635-b02f-a8dfd9346e8c",
   "metadata": {},
   "outputs": [],
   "source": [
    "with open(\"..//Data//gcn_cdr_test_pca.pickle\", \"rb\") as f: \n",
    "    catch_test = pickle.load(f)"
   ]
  },
  {
   "cell_type": "code",
   "execution_count": 40,
   "id": "1cbefaa8-c226-47fb-a972-1a8207d29766",
   "metadata": {},
   "outputs": [],
   "source": [
    "import random"
   ]
  },
  {
   "cell_type": "code",
   "execution_count": 41,
   "id": "176445fb-4f30-421a-a710-339955111baa",
   "metadata": {},
   "outputs": [],
   "source": [
    "def prepare_data_train(catch_train, idxes): \n",
    "    # idxes = random.sample(range(0, catch_train[0].shape[0]), k = size)\n",
    "    # idxes = list(idxes)\n",
    "    data1, data2, data3, data4 = catch_train[0][idxes,:], catch_train[1][idxes,:], catch_train[2][idxes,:], catch_train[3][idxes,:]\n",
    "    \n",
    "    y_train = catch_train[-1][idxes].reshape(-1,1)\n",
    "    \n",
    "    return data1, data2, data3, data4, y_train "
   ]
  },
  {
   "cell_type": "code",
   "execution_count": 42,
   "id": "d7c13b4e-c9b7-4b7f-bd6e-92ec93cd40e2",
   "metadata": {},
   "outputs": [],
   "source": [
    "def prepare_data_test( catch_test, size): \n",
    "    idxes = random.sample(range(0, catch_test[0].shape[0]), k = size)\n",
    "    idxes = list(idxes)\n",
    "    data1, data2, data3, data4 = catch_test[0][idxes,:], catch_test[1][idxes,:], catch_test[2][idxes,:], catch_test[3][idxes,:]\n",
    "    y_train = catch_test[-1][idxes].reshape(-1,1)\n",
    "    return data1, data2, data3, data4, y_train"
   ]
  },
  {
   "cell_type": "code",
   "execution_count": 43,
   "id": "d2a4da04-1a68-4b91-ad62-e6c027c91fa2",
   "metadata": {},
   "outputs": [],
   "source": [
    "# data1_train, data2_train, data3_train, data4_train, y_train =  prepare_data_train(catch_train, size = 5000)"
   ]
  },
  {
   "cell_type": "code",
   "execution_count": 44,
   "id": "3e54f80e-5b8d-4f46-a24a-2514a3683a02",
   "metadata": {},
   "outputs": [],
   "source": [
    "data1_test, data2_test, data3_test, data4_test, y_test =  prepare_data_test(catch_test, size = catch_test[0].shape[0])"
   ]
  },
  {
   "cell_type": "code",
   "execution_count": 45,
   "id": "aadbd46f-4890-40cc-8176-f292b9c45cac",
   "metadata": {},
   "outputs": [],
   "source": [
    "from scipy.stats import pearsonr"
   ]
  },
  {
   "cell_type": "code",
   "execution_count": 46,
   "id": "09e61be2-f070-4e18-8583-66f0cdc24501",
   "metadata": {},
   "outputs": [],
   "source": [
    "def chunks(lst, n):\n",
    "    \"\"\"Yield successive n-sized chunks from lst.\"\"\"\n",
    "    for i in range(0, len(lst), n):\n",
    "        yield lst[i:i + n]"
   ]
  },
  {
   "cell_type": "code",
   "execution_count": 47,
   "id": "8a1acec2-599f-4ec7-9ad4-1183a7b09dde",
   "metadata": {},
   "outputs": [],
   "source": [
    "batch_size = 2500"
   ]
  },
  {
   "cell_type": "code",
   "execution_count": 48,
   "id": "02e369a5-74ae-464b-97fb-69791238b973",
   "metadata": {},
   "outputs": [],
   "source": [
    "import random"
   ]
  },
  {
   "cell_type": "code",
   "execution_count": 49,
   "id": "c0fa6a26-3f92-4a59-a52b-95211f3d670d",
   "metadata": {},
   "outputs": [],
   "source": [
    "from tqdm import tqdm_notebook"
   ]
  },
  {
   "cell_type": "code",
   "execution_count": 50,
   "id": "65bf21e9-92c6-4824-93c3-87274b072afa",
   "metadata": {},
   "outputs": [],
   "source": [
    "def get_results(var_weights = 1.0, var_weight_weights = 1.0, var_D = 0.01, inflation_factor = 1.6, fudging_beta = beta(1,19), \n",
    "               fudging_var = 1e-3):\n",
    "    \n",
    "    # smiles_feats_train, rdkit_feats_train, smiles_feats_valid, rdkit_feats_valid, y_train, y_train_actual, y_valid, y_valid_actual, initial_ensembles  = prepare_data(idx, var_weights = var_weights, var_weight_weights =var_weight_weights, var_L = var_L, var_D = var_D)\n",
    "    \n",
    "\n",
    "    \n",
    "    # print(\"done initializing\")\n",
    "    \n",
    "    train_idxes = random.sample(range(0, catch_train[0].shape[0]), k = catch_train[0].shape[0])\n",
    "    \n",
    "    train_chunks = list(chunks(train_idxes, batch_size))\n",
    "    \n",
    "    best_pearsonr_train = 0\n",
    "    \n",
    "    data1_train, data2_train, data3_train, data4_train, y_train = prepare_data_train(catch_train, train_chunks[0])\n",
    "    \n",
    "    _, initial_ensembles, initial_ensembles_for_weights, initial_ensembles_for_D = get_initial_X_t(data1_train, data2_train, data3_train, data4_train,\n",
    "                                                                                                 size_ens = size_ens, var_weights = var_weights,\n",
    "                                                                                                var_weight_weights = var_weight_weights,\n",
    "                                                                                                             var_D = var_D)\n",
    "    \n",
    "    initial_ensembles = np.hstack((initial_ensembles, initial_ensembles_for_weights, initial_ensembles_for_D))\n",
    "    patience = 0\n",
    "    \n",
    "    for i in range(0,300):\n",
    "        \n",
    "        train_chunks = random.sample(train_chunks, len(train_chunks))\n",
    "        \n",
    "        print(\"epoch number is \" +str(i))\n",
    "        \n",
    "        for chunk in (train_chunks):\n",
    "        \n",
    "            data1_train, data2_train, data3_train, data4_train, y_train = prepare_data_train(catch_train, chunk)\n",
    "            \n",
    "            # X_t, initial_ensembles, initial_ensembles_for_weights, initial_ensembles_for_D = get_initial_X_t(data1_train, data2_train, data3_train, data4_train,\n",
    "            #                                                                                      size_ens = size_ens, var_weights = var_weights,\n",
    "            #                                                                                     var_weight_weights = var_weight_weights,\n",
    "            #                                                                                                  var_D = var_D)\n",
    "            \n",
    "            # initial_ensembles = np.hstack((initial_ensembles, initial_ensembles_for_weights, initial_ensembles_for_D))\n",
    "\n",
    "            initial_ensembles = get_updated_ensemble(data1_train, data2_train, data3_train, data4_train, initial_ensembles, y_train, size_ens = size_ens,\n",
    "                                                 inflation_factor = inflation_factor, fudging_beta = fudging_beta, fudging_var = fudging_var)\n",
    "        \n",
    "            G_u_train, w1, w2, w3, w4 = get_predictions(data1_train, data2_train, data3_train, data4_train, initial_ensembles, fudging_beta)\n",
    "    \n",
    "            li_train = np.percentile(G_u_train, axis = 0, q = (2.5, 97.5))[0,:].reshape(-1,1)    \n",
    "            ui_train = np.percentile(G_u_train, axis = 0, q = (2.5, 97.5))[1,:].reshape(-1,1)  \n",
    "    \n",
    "            width_train = ui_train - li_train\n",
    "            avg_width_train = width_train.mean(0)[0]\n",
    "    \n",
    "            ind_train = (y_train >= li_train) & (y_train <= ui_train)\n",
    "            coverage_train= ind_train.mean(0)[0]\n",
    "    \n",
    "            averaged_targets_train = G_u_train.mean(0).reshape(-1,1)\n",
    "            rmse_train = np.sqrt(((y_train -averaged_targets_train)**2).mean(0))[0]\n",
    "        \n",
    "            pearsonr_train = pearsonr(averaged_targets_train.reshape(averaged_targets_train.shape[0],), \n",
    "                                 y_train.reshape(y_train.shape[0],))\n",
    "        \n",
    "            r_train = pearsonr_train.statistic\n",
    "    \n",
    "            G_u_test, _, _, _, _ = get_predictions_test(data1_test, data2_test, data3_test, data4_test, initial_ensembles)\n",
    "    \n",
    "\n",
    "    \n",
    "            li_test = np.percentile(G_u_test, axis = 0, q = (2.5, 97.5))[0,:].reshape(-1,1)     \n",
    "            ui_test = np.percentile(G_u_test, axis = 0, q = (2.5, 97.5))[1,:].reshape(-1,1)   \n",
    "    \n",
    "            width_test = ui_test - li_test\n",
    "            avg_width_test = width_test.mean(0)[0]\n",
    "    \n",
    "            ind_test = (y_test >= li_test) & (y_test <= ui_test)\n",
    "            coverage_test= ind_test.mean(0)[0]\n",
    "    \n",
    "            averaged_targets_test = G_u_test.mean(0).reshape(-1,1)\n",
    "            rmse_test = np.sqrt(((y_test -averaged_targets_test)**2).mean(0))[0]  \n",
    "        \n",
    "            pearsonr_test = pearsonr(averaged_targets_test.reshape(averaged_targets_test.shape[0],), \n",
    "                                 y_test.reshape(y_test.shape[0],))\n",
    "        \n",
    "            r_test = pearsonr_test.statistic\n",
    "\n",
    "            print(\"Training Coverage, Widths, RMSE, and Pearson R\")\n",
    "            print(coverage_train, avg_width_train, rmse_train, r_train)\n",
    "            print(\"Testing Coverage, Widths, RMSE, and Pearson R\")\n",
    "            print(coverage_test, avg_width_test, rmse_test, r_test)\n",
    "            # print(w1.mean(), w1.std())\n",
    "\n",
    "            if (r_train > best_pearsonr_train): \n",
    "                best_pearsonr_train = r_train\n",
    "            # print(\"went here\")\n",
    "                best_train_width_mean = avg_width_train.mean()\n",
    "                best_train_width = avg_width_train\n",
    "                # best_smiles_weight = w1.mean()\n",
    "                best_coverage_train = coverage_train\n",
    "                best_rmse_train = rmse_train\n",
    "                best_pearson_r = r_test\n",
    "                best_test_width = avg_width_test\n",
    "\n",
    "                best_coverage_test = coverage_test    \n",
    "                best_rmse_test = rmse_test\n",
    "                patience = 0\n",
    "                best_ensembles = initial_ensembles\n",
    "            \n",
    "            else:\n",
    "                patience = patience + 1\n",
    "            \n",
    "            print(\"Patience is\")\n",
    "            print(patience)\n",
    "            print('\\n')\n",
    "        \n",
    "            if patience > threshold:\n",
    "            \n",
    "                # print()\n",
    "                # print(best_train_width.tolist(), best_coverage_train.tolist(), best_rmse_train.tolist(), best_test_width.tolist(), best_coverage_test.tolist(), best_rmse_test.tolist(), best_smiles_weight, flush = True)\n",
    "                # print(\"done for fold\" + str(idx), flush = True)\n",
    "                print(\"train_width\" + str(best_train_width.tolist()), flush = True)\n",
    "                print(\"test_width\" + str(best_test_width.tolist()), flush = True)\n",
    "                # print(\"smiles_weight\" + str(best_smiles_weight), flush = True)\n",
    "                print(\"rmse_train\" + str(best_rmse_train.tolist()), flush = True)\n",
    "                print(\"rmse_test\" + str(best_rmse_test.tolist()), flush = True)\n",
    "                # print(\"smiles_weight_ci\" + str([best_li_smiles_weight, best_ui_smiles_weight]), flush = True)\n",
    "            \n",
    "                return [best_train_width, best_coverage_train, best_rmse_train, best_test_width, best_coverage_test, best_rmse_test, best_pearson_r, best_ensembles]\n"
   ]
  },
  {
   "cell_type": "code",
   "execution_count": 51,
   "id": "11a8c623-2952-409f-a640-7d89cef6b1aa",
   "metadata": {},
   "outputs": [],
   "source": [
    "threshold = 20"
   ]
  },
  {
   "cell_type": "code",
   "execution_count": 52,
   "id": "14658528-ea1a-4a6f-83bd-f708df0bcd83",
   "metadata": {},
   "outputs": [
    {
     "name": "stdout",
     "output_type": "stream",
     "text": [
      "epoch number is 0\n",
      "Training Coverage, Widths, RMSE, and Pearson R\n",
      "0.6168 16.720843184330672 9.1511073825238 0.19032203133026956\n",
      "Testing Coverage, Widths, RMSE, and Pearson R\n",
      "0.6167128667128667 16.840351166921533 9.220513629576187 0.203376719247269\n",
      "Patience is\n",
      "0\n",
      "\n",
      "\n",
      "Training Coverage, Widths, RMSE, and Pearson R\n",
      "0.7624 9.970634827665824 4.070163106131003 0.33829481968156316\n",
      "Testing Coverage, Widths, RMSE, and Pearson R\n",
      "0.7670940170940171 9.897662503459278 4.027435641419623 0.3830459603291676\n",
      "Patience is\n",
      "0\n",
      "\n",
      "\n",
      "Training Coverage, Widths, RMSE, and Pearson R\n",
      "0.8244 5.677493261327807 2.0194175673220354 0.6875365232789884\n",
      "Testing Coverage, Widths, RMSE, and Pearson R\n",
      "0.8139293139293139 5.717169084297059 2.085919187650311 0.6765471760694267\n",
      "Patience is\n",
      "0\n",
      "\n",
      "\n",
      "Training Coverage, Widths, RMSE, and Pearson R\n",
      "0.7708 4.36328165935797 1.8065047805450387 0.7743072082323004\n",
      "Testing Coverage, Widths, RMSE, and Pearson R\n",
      "0.7758720258720259 4.330273499526239 1.8031128188878784 0.7742534317230673\n",
      "Patience is\n",
      "0\n",
      "\n",
      "\n",
      "Training Coverage, Widths, RMSE, and Pearson R\n",
      "0.834 4.817606887882343 1.6216294430318783 0.8280013127513527\n",
      "Testing Coverage, Widths, RMSE, and Pearson R\n",
      "0.8403210903210904 4.795100680553616 1.6160329208187387 0.8250224668593618\n",
      "Patience is\n",
      "0\n",
      "\n",
      "\n",
      "Training Coverage, Widths, RMSE, and Pearson R\n",
      "0.8752 5.0372585197514415 1.5479031288446452 0.8389732609502325\n",
      "Testing Coverage, Widths, RMSE, and Pearson R\n",
      "0.8636521136521137 4.966650499300642 1.5626504427427774 0.8341272492524459\n",
      "Patience is\n",
      "0\n",
      "\n",
      "\n",
      "Training Coverage, Widths, RMSE, and Pearson R\n",
      "0.8964 5.513470608010942 1.5440777724995822 0.8536568494975336\n",
      "Testing Coverage, Widths, RMSE, and Pearson R\n",
      "0.895068145068145 5.4494272672423065 1.5582579917151382 0.8427122752679229\n",
      "Patience is\n",
      "0\n",
      "\n",
      "\n",
      "Training Coverage, Widths, RMSE, and Pearson R\n",
      "0.8996 5.273492000305642 1.5464758236256346 0.8380848348854691\n",
      "Testing Coverage, Widths, RMSE, and Pearson R\n",
      "0.8920651420651421 5.277050539704483 1.5452189592857526 0.8395027174997192\n",
      "Patience is\n",
      "1\n",
      "\n",
      "\n",
      "Training Coverage, Widths, RMSE, and Pearson R\n",
      "0.9108 5.66355915446459 1.4869824786018826 0.8377801201477275\n",
      "Testing Coverage, Widths, RMSE, and Pearson R\n",
      "0.9127396627396628 5.676726212536293 1.5158978314416665 0.8445913964155813\n",
      "Patience is\n",
      "2\n",
      "\n",
      "\n",
      "Training Coverage, Widths, RMSE, and Pearson R\n",
      "0.9244 5.85934410546076 1.501651379016853 0.8536171566724985\n",
      "Testing Coverage, Widths, RMSE, and Pearson R\n",
      "0.9168976668976669 5.806138079760168 1.5308369032631326 0.841922689219969\n",
      "Patience is\n",
      "3\n",
      "\n",
      "\n",
      "Training Coverage, Widths, RMSE, and Pearson R\n",
      "0.9276 5.9769757794844836 1.507013119758526 0.8513409456926072\n",
      "Testing Coverage, Widths, RMSE, and Pearson R\n",
      "0.9153384153384153 5.910192359561608 1.5275294604104241 0.8431379519336784\n",
      "Patience is\n",
      "4\n",
      "\n",
      "\n",
      "Training Coverage, Widths, RMSE, and Pearson R\n",
      "0.9156 5.419886858017891 1.4661010410575048 0.8438735122534993\n",
      "Testing Coverage, Widths, RMSE, and Pearson R\n",
      "0.8990528990528991 5.370065341089889 1.5218370784759117 0.843797107907556\n",
      "Patience is\n",
      "5\n",
      "\n",
      "\n",
      "Training Coverage, Widths, RMSE, and Pearson R\n",
      "0.912 5.492889334112154 1.5181219435241806 0.8499955615101831\n",
      "Testing Coverage, Widths, RMSE, and Pearson R\n",
      "0.9084661584661584 5.525987374650735 1.5441135559972017 0.8399048766514374\n",
      "Patience is\n",
      "6\n",
      "\n",
      "\n",
      "Training Coverage, Widths, RMSE, and Pearson R\n",
      "0.9128 5.640713758752879 1.4797320164257748 0.8564442299624914\n",
      "Testing Coverage, Widths, RMSE, and Pearson R\n",
      "0.9075999075999076 5.58708141392267 1.50159426728989 0.8479848755518242\n",
      "Patience is\n",
      "0\n",
      "\n",
      "\n",
      "Training Coverage, Widths, RMSE, and Pearson R\n",
      "0.8868 5.347164378603146 1.4948209430602883 0.8510182027013408\n",
      "Testing Coverage, Widths, RMSE, and Pearson R\n",
      "0.8931623931623932 5.292075735678214 1.50063341701044 0.8480653920326378\n",
      "Patience is\n",
      "1\n",
      "\n",
      "\n",
      "Training Coverage, Widths, RMSE, and Pearson R\n",
      "0.9008 5.404912815769711 1.52294519921572 0.8426431757969711\n",
      "Testing Coverage, Widths, RMSE, and Pearson R\n",
      "0.8996303996303996 5.468042075051782 1.504902108959005 0.8471834089301179\n",
      "Patience is\n",
      "2\n",
      "\n",
      "\n",
      "Training Coverage, Widths, RMSE, and Pearson R\n",
      "0.8988 5.30152366828649 1.5060882285009363 0.8452415495076534\n",
      "Testing Coverage, Widths, RMSE, and Pearson R\n",
      "0.8926426426426426 5.3304905856183105 1.513310833804181 0.8456680753972962\n",
      "Patience is\n",
      "3\n",
      "\n",
      "\n",
      "Training Coverage, Widths, RMSE, and Pearson R\n",
      "0.8903150525087514 5.316788212553304 1.504658407754546 0.847641444702474\n",
      "Testing Coverage, Widths, RMSE, and Pearson R\n",
      "0.8857126357126357 5.274453995710122 1.5073021587330602 0.8467988815177051\n",
      "Patience is\n",
      "4\n",
      "\n",
      "\n",
      "Training Coverage, Widths, RMSE, and Pearson R\n",
      "0.9016 5.617898555898712 1.5083198579063897 0.8534449400896154\n",
      "Testing Coverage, Widths, RMSE, and Pearson R\n",
      "0.8988218988218988 5.555664908599887 1.5369633572740795 0.8398687443166375\n",
      "Patience is\n",
      "5\n",
      "\n",
      "\n",
      "Training Coverage, Widths, RMSE, and Pearson R\n",
      "0.9188 5.861118380669027 1.519463999806843 0.8528822907417629\n",
      "Testing Coverage, Widths, RMSE, and Pearson R\n",
      "0.9158004158004158 5.833304576413731 1.5244643234508168 0.8462211824736793\n",
      "Patience is\n",
      "6\n",
      "\n",
      "\n",
      "Training Coverage, Widths, RMSE, and Pearson R\n",
      "0.902 5.753393562703501 1.5375255405354067 0.8367229666344475\n",
      "Testing Coverage, Widths, RMSE, and Pearson R\n",
      "0.9089281589281589 5.71951371760943 1.5106067276251818 0.8459189789700832\n",
      "Patience is\n",
      "7\n",
      "\n",
      "\n",
      "Training Coverage, Widths, RMSE, and Pearson R\n",
      "0.9284 6.158041900498798 1.4575972641733925 0.8596096983058319\n",
      "Testing Coverage, Widths, RMSE, and Pearson R\n",
      "0.9201894201894202 6.1194389886798515 1.510558102503403 0.8475876247677743\n",
      "Patience is\n",
      "0\n",
      "\n",
      "\n",
      "Training Coverage, Widths, RMSE, and Pearson R\n",
      "0.9252 6.165196460553083 1.5235347889606476 0.850977298035645\n",
      "Testing Coverage, Widths, RMSE, and Pearson R\n",
      "0.9205936705936706 6.086895361425911 1.5165407341112755 0.8453566803577633\n",
      "Patience is\n",
      "1\n",
      "\n",
      "\n",
      "Training Coverage, Widths, RMSE, and Pearson R\n",
      "0.9332 6.237585578723943 1.4792166541372944 0.8525394855937602\n",
      "Testing Coverage, Widths, RMSE, and Pearson R\n",
      "0.9271771771771772 6.179699135218662 1.5001910777364844 0.8480985547223067\n",
      "Patience is\n",
      "2\n",
      "\n",
      "\n",
      "Training Coverage, Widths, RMSE, and Pearson R\n",
      "0.9408 6.286954610686552 1.5038743396472611 0.8485142524457469\n",
      "Testing Coverage, Widths, RMSE, and Pearson R\n",
      "0.9353776853776854 6.2929138828742035 1.5200132729130607 0.8437725662178428\n",
      "Patience is\n",
      "3\n",
      "\n",
      "\n",
      "Training Coverage, Widths, RMSE, and Pearson R\n",
      "0.922 5.902398138931714 1.4960234071515208 0.8569272904135963\n",
      "Testing Coverage, Widths, RMSE, and Pearson R\n",
      "0.9141256641256641 5.880599842996395 1.5128577891434276 0.8454635136690601\n",
      "Patience is\n",
      "4\n",
      "\n",
      "\n",
      "Training Coverage, Widths, RMSE, and Pearson R\n",
      "0.9184 5.929882323951536 1.5157338985043902 0.8485708208350059\n",
      "Testing Coverage, Widths, RMSE, and Pearson R\n",
      "0.9203626703626704 5.909198801206044 1.5362378255976437 0.8414568633811766\n",
      "Patience is\n",
      "5\n",
      "\n",
      "\n",
      "Training Coverage, Widths, RMSE, and Pearson R\n",
      "0.9076 5.590149104027107 1.4672336156430676 0.8562948850194843\n",
      "Testing Coverage, Widths, RMSE, and Pearson R\n",
      "0.8951836451836452 5.5569499185472155 1.5300695166996698 0.8456540785207374\n",
      "Patience is\n",
      "6\n",
      "\n",
      "\n",
      "epoch number is 1\n",
      "Training Coverage, Widths, RMSE, and Pearson R\n",
      "0.9208 6.107702155455838 1.5086097539696979 0.8520047803760297\n",
      "Testing Coverage, Widths, RMSE, and Pearson R\n",
      "0.9212289212289212 6.152343737254876 1.5133456435149584 0.846009839341721\n",
      "Patience is\n",
      "7\n",
      "\n",
      "\n",
      "Training Coverage, Widths, RMSE, and Pearson R\n",
      "0.9084014002333722 5.751831433897996 1.498513358726776 0.8487670041106772\n",
      "Testing Coverage, Widths, RMSE, and Pearson R\n",
      "0.9070801570801571 5.7037515008569475 1.5149138429694808 0.8462384853544679\n",
      "Patience is\n",
      "8\n",
      "\n",
      "\n",
      "Training Coverage, Widths, RMSE, and Pearson R\n",
      "0.8916 5.431087354769758 1.4704877330480468 0.8588289671489601\n",
      "Testing Coverage, Widths, RMSE, and Pearson R\n",
      "0.8881958881958882 5.357925432756584 1.4985523013379791 0.8491034228496784\n",
      "Patience is\n",
      "9\n",
      "\n",
      "\n",
      "Training Coverage, Widths, RMSE, and Pearson R\n",
      "0.9124 5.645231669577735 1.4510821183893268 0.857491203362459\n",
      "Testing Coverage, Widths, RMSE, and Pearson R\n",
      "0.9034996534996536 5.6366737207082505 1.5022544609483561 0.8487310613950757\n",
      "Patience is\n",
      "10\n",
      "\n",
      "\n",
      "Training Coverage, Widths, RMSE, and Pearson R\n",
      "0.9028 5.900296132646503 1.5298893327530465 0.8384601149989983\n",
      "Testing Coverage, Widths, RMSE, and Pearson R\n",
      "0.9065604065604066 5.85811767359541 1.5099703492014613 0.8460738338363126\n",
      "Patience is\n",
      "11\n",
      "\n",
      "\n",
      "Training Coverage, Widths, RMSE, and Pearson R\n",
      "0.9164 5.684114627816701 1.4504482369584797 0.8535966801563156\n",
      "Testing Coverage, Widths, RMSE, and Pearson R\n",
      "0.9043081543081543 5.709029195422655 1.5007981614734065 0.8486438972864945\n",
      "Patience is\n",
      "12\n",
      "\n",
      "\n",
      "Training Coverage, Widths, RMSE, and Pearson R\n",
      "0.9132 5.739498269633866 1.458967994610548 0.8464058598112499\n",
      "Testing Coverage, Widths, RMSE, and Pearson R\n",
      "0.9060406560406561 5.682018511639278 1.5055147662189787 0.8469746742293167\n",
      "Patience is\n",
      "13\n",
      "\n",
      "\n",
      "Training Coverage, Widths, RMSE, and Pearson R\n",
      "0.9324 6.377743202474298 1.497941225736715 0.8564455135454695\n",
      "Testing Coverage, Widths, RMSE, and Pearson R\n",
      "0.9231924231924232 6.299903159800585 1.520021953434767 0.8451967258216762\n",
      "Patience is\n",
      "14\n",
      "\n",
      "\n",
      "Training Coverage, Widths, RMSE, and Pearson R\n",
      "0.9192 5.991759717322974 1.470491954511489 0.8415982431840199\n",
      "Testing Coverage, Widths, RMSE, and Pearson R\n",
      "0.9169554169554169 6.048230174504611 1.5100067619249071 0.8465423064079992\n",
      "Patience is\n",
      "15\n",
      "\n",
      "\n",
      "Training Coverage, Widths, RMSE, and Pearson R\n",
      "0.9216 6.244515942655462 1.5001303310811864 0.8501759256685427\n",
      "Testing Coverage, Widths, RMSE, and Pearson R\n",
      "0.9218641718641719 6.179066925137965 1.497892272760929 0.8495036252668478\n",
      "Patience is\n",
      "16\n",
      "\n",
      "\n",
      "Training Coverage, Widths, RMSE, and Pearson R\n",
      "0.9176 6.033299371159404 1.5197035383352553 0.8434125794459425\n",
      "Testing Coverage, Widths, RMSE, and Pearson R\n",
      "0.9206514206514207 6.0501387451481055 1.4986764156635346 0.8487000061875193\n",
      "Patience is\n",
      "17\n",
      "\n",
      "\n",
      "Training Coverage, Widths, RMSE, and Pearson R\n",
      "0.9124 6.142030234430401 1.5243242577107803 0.8429967073063457\n",
      "Testing Coverage, Widths, RMSE, and Pearson R\n",
      "0.9142411642411642 6.137506006663506 1.4980746069645534 0.8487806822968164\n",
      "Patience is\n",
      "18\n",
      "\n",
      "\n",
      "Training Coverage, Widths, RMSE, and Pearson R\n",
      "0.914 5.880773979636592 1.5100495533502334 0.8533219538304914\n",
      "Testing Coverage, Widths, RMSE, and Pearson R\n",
      "0.91008316008316 5.7973053764288105 1.4974259690424514 0.8486806414197132\n",
      "Patience is\n",
      "19\n",
      "\n",
      "\n",
      "Training Coverage, Widths, RMSE, and Pearson R\n",
      "0.9108 5.923774268736249 1.4941988302847533 0.8566281044276044\n",
      "Testing Coverage, Widths, RMSE, and Pearson R\n",
      "0.9054054054054054 5.861763445922404 1.5136170064008974 0.8488780271410419\n",
      "Patience is\n",
      "20\n",
      "\n",
      "\n",
      "Training Coverage, Widths, RMSE, and Pearson R\n",
      "0.9232 6.213903765976229 1.510619298907135 0.8504524836399356\n",
      "Testing Coverage, Widths, RMSE, and Pearson R\n",
      "0.9215754215754216 6.176255857462713 1.5086904479122614 0.846298702678701\n",
      "Patience is\n",
      "21\n",
      "\n",
      "\n",
      "train_width6.158041900498798\n",
      "test_width6.1194389886798515\n",
      "rmse_train1.4575972641733925\n",
      "rmse_test1.510558102503403\n",
      "CPU times: user 21min 36s, sys: 12min 8s, total: 33min 44s\n",
      "Wall time: 7min 4s\n"
     ]
    }
   ],
   "source": [
    "%%time\n",
    "best_train_width, best_coverage_train, best_rmse_train, best_test_width, best_coverage_test, best_rmse_test, best_pearson_r,  \\\n",
    "best_ensembles = get_results(var_weights = 1.0, var_weight_weights = 1.0, var_D = 1, inflation_factor =1, fudging_beta = beta(1,19), \n",
    "           fudging_var = 2*1e-2)"
   ]
  },
  {
   "cell_type": "code",
   "execution_count": 53,
   "id": "9490af0c-5a1b-43fb-8431-b1282db34b54",
   "metadata": {},
   "outputs": [],
   "source": [
    "preds_test, _, _, _, _ = get_predictions_test(data1_test, data2_test, data3_test, data4_test, best_ensembles)"
   ]
  },
  {
   "cell_type": "code",
   "execution_count": 54,
   "id": "7779268c-ab61-4401-80a0-44538877c872",
   "metadata": {},
   "outputs": [],
   "source": [
    "averaged_preds_test = preds_test.mean(0).reshape(-1,1)"
   ]
  },
  {
   "cell_type": "code",
   "execution_count": 66,
   "id": "35f093e5-520c-41f0-a675-01ac46f87a1c",
   "metadata": {},
   "outputs": [
    {
     "data": {
      "image/png": "[encoded data removed]",
      "text/plain": [
       "<Figure size 640x480 with 1 Axes>"
      ]
     },
     "metadata": {},
     "output_type": "display_data"
    }
   ],
   "source": [
    "plt.scatter(y_test, averaged_preds_test, alpha = 0.1)\n",
    "plt.axline((0,0), slope = 1, c = \"black\")\n",
    "plt.xlabel(\"Ground Truth Values\")\n",
    "plt.ylabel(\"MEnKF-ANN Predicted Values\")\n",
    "plt.show()"
   ]
  },
  {
   "cell_type": "code",
   "execution_count": 56,
   "id": "7b6dbeca-651e-4d31-89c0-c44e35b4270f",
   "metadata": {},
   "outputs": [],
   "source": [
    "items = [best_train_width, best_coverage_train, best_rmse_train, best_test_width, best_coverage_test, best_rmse_test, best_pearson_r]"
   ]
  },
  {
   "cell_type": "code",
   "execution_count": 57,
   "id": "4c969db3-06fd-4a30-8f3e-1d1670a03aa0",
   "metadata": {},
   "outputs": [],
   "source": [
    "items_df = pd.DataFrame(items).T"
   ]
  },
  {
   "cell_type": "code",
   "execution_count": 58,
   "id": "01f44639-4484-45c7-bd7c-7745ab18371b",
   "metadata": {},
   "outputs": [],
   "source": [
    "items_df.columns = ['best_train_width', 'best_coverage_train', 'best_rmse_train', 'best_test_width', 'best_coverage_test', 'best_rmse_test', 'best_pearson_r']"
   ]
  },
  {
   "cell_type": "code",
   "execution_count": 59,
   "id": "7ab228b9-c61a-46cb-aa57-7acf4da3b114",
   "metadata": {},
   "outputs": [],
   "source": [
    "items_df = items_df.T"
   ]
  },
  {
   "cell_type": "code",
   "execution_count": 60,
   "id": "925c745c-7a4d-4d78-8f47-9a1d7e11a39a",
   "metadata": {},
   "outputs": [],
   "source": [
    "items_df.columns = [\"Value\"]"
   ]
  },
  {
   "cell_type": "code",
   "execution_count": 61,
   "id": "d93ed649-b0ba-445d-b28a-ffeb603dc960",
   "metadata": {},
   "outputs": [
    {
     "data": {
      "text/html": [
       "<div>\n",
       "<style scoped>\n",
       "    .dataframe tbody tr th:only-of-type {\n",
       "        vertical-align: middle;\n",
       "    }\n",
       "\n",
       "    .dataframe tbody tr th {\n",
       "        vertical-align: top;\n",
       "    }\n",
       "\n",
       "    .dataframe thead th {\n",
       "        text-align: right;\n",
       "    }\n",
       "</style>\n",
       "<table border=\"1\" class=\"dataframe\">\n",
       "  <thead>\n",
       "    <tr style=\"text-align: right;\">\n",
       "      <th></th>\n",
       "      <th>Value</th>\n",
       "    </tr>\n",
       "  </thead>\n",
       "  <tbody>\n",
       "    <tr>\n",
       "      <th>best_train_width</th>\n",
       "      <td>6.158042</td>\n",
       "    </tr>\n",
       "    <tr>\n",
       "      <th>best_coverage_train</th>\n",
       "      <td>0.928400</td>\n",
       "    </tr>\n",
       "    <tr>\n",
       "      <th>best_rmse_train</th>\n",
       "      <td>1.457597</td>\n",
       "    </tr>\n",
       "    <tr>\n",
       "      <th>best_test_width</th>\n",
       "      <td>6.119439</td>\n",
       "    </tr>\n",
       "    <tr>\n",
       "      <th>best_coverage_test</th>\n",
       "      <td>0.920189</td>\n",
       "    </tr>\n",
       "    <tr>\n",
       "      <th>best_rmse_test</th>\n",
       "      <td>1.510558</td>\n",
       "    </tr>\n",
       "    <tr>\n",
       "      <th>best_pearson_r</th>\n",
       "      <td>0.847588</td>\n",
       "    </tr>\n",
       "  </tbody>\n",
       "</table>\n",
       "</div>"
      ],
      "text/plain": [
       "                        Value\n",
       "best_train_width     6.158042\n",
       "best_coverage_train  0.928400\n",
       "best_rmse_train      1.457597\n",
       "best_test_width      6.119439\n",
       "best_coverage_test   0.920189\n",
       "best_rmse_test       1.510558\n",
       "best_pearson_r       0.847588"
      ]
     },
     "execution_count": 61,
     "metadata": {},
     "output_type": "execute_result"
    }
   ],
   "source": [
    "items_df"
   ]
  },
  {
   "cell_type": "code",
   "execution_count": 62,
   "id": "c743cac6-4f17-49ab-9ad0-f35b685d22f1",
   "metadata": {},
   "outputs": [
    {
     "data": {
      "text/plain": [
       "(110, 17316)"
      ]
     },
     "execution_count": 62,
     "metadata": {},
     "output_type": "execute_result"
    }
   ],
   "source": [
    "preds_test.shape"
   ]
  },
  {
   "cell_type": "code",
   "execution_count": 63,
   "id": "0ce0a569-aed6-42db-afa8-83819760c033",
   "metadata": {},
   "outputs": [
    {
     "data": {
      "image/png": "[encoded data removed]",
      "text/plain": [
       "<Figure size 1500x1500 with 16 Axes>"
      ]
     },
     "metadata": {},
     "output_type": "display_data"
    }
   ],
   "source": [
    "random_idx = random.sample(range(y_test.shape[0]), k = 16)\n",
    "fig, axs = plt.subplots(8, 2,figsize=(15, 15))\n",
    "axs = axs.ravel()\n",
    "for idx, i in enumerate(random_idx):\n",
    "    # print(counter)\n",
    "    truth = y_test[i,:]\n",
    "    preds = preds_test[:, i]\n",
    "    percts = np.percentile(preds, axis = 0, q = (2.5, 97.5))\n",
    "    lis = percts[0]\n",
    "    uis = percts[1]\n",
    "    \n",
    "    \n",
    "    axs[idx].hist(preds)\n",
    "    axs[idx].axvline(truth, color='green', linewidth=2)\n",
    "    axs[idx].axvline(lis, color='red', linewidth=2)\n",
    "    axs[idx].axvline(uis, color='red', linewidth=2)\n",
    "\n",
    "# plt.title\n",
    "fig.savefig('gcn_cdr_pred_intervals.png', bbox_inches='tight')\n",
    "plt.show()\n"
   ]
  },
  {
   "cell_type": "code",
   "execution_count": 64,
   "id": "31471813-3497-4224-acf3-2bd150a35690",
   "metadata": {},
   "outputs": [],
   "source": [
    "# plt.hist(y_train)\n",
    "# plt.show()"
   ]
  },
  {
   "cell_type": "code",
   "execution_count": 65,
   "id": "26cbcc74-a96c-45c2-9e18-c15480f2be2a",
   "metadata": {},
   "outputs": [
    {
     "data": {
      "image/png": "[encoded data removed]",
      "text/plain": [
       "<Figure size 640x480 with 1 Axes>"
      ]
     },
     "metadata": {},
     "output_type": "display_data"
    }
   ],
   "source": [
    "plt.hist(y_test)\n",
    "plt.show()"
   ]
  }
 ],
 "metadata": {
  "kernelspec": {
   "display_name": "enkf",
   "language": "python",
   "name": "enkf"
  },
  "language_info": {
   "codemirror_mode": {
    "name": "ipython",
    "version": 3
   },
   "file_extension": ".py",
   "mimetype": "text/x-python",
   "name": "python",
   "nbconvert_exporter": "python",
   "pygments_lexer": "ipython3",
   "version": "3.11.3"
  }
 },
 "nbformat": 4,
 "nbformat_minor": 5
}
