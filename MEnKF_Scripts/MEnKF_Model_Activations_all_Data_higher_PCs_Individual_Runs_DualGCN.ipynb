{
 "cells": [
  {
   "cell_type": "code",
   "execution_count": 1,
   "id": "aa53e19a-64db-4b1d-9378-c19c8efacd62",
   "metadata": {},
   "outputs": [
    {
     "name": "stderr",
     "output_type": "stream",
     "text": [
      "2023-07-14 21:24:19.862715: I tensorflow/core/util/port.cc:110] oneDNN custom operations are on. You may see slightly different numerical results due to floating-point round-off errors from different computation orders. To turn them off, set the environment variable `TF_ENABLE_ONEDNN_OPTS=0`.\n",
      "2023-07-14 21:24:19.865505: I tensorflow/tsl/cuda/cudart_stub.cc:28] Could not find cuda drivers on your machine, GPU will not be used.\n",
      "2023-07-14 21:24:19.907205: I tensorflow/tsl/cuda/cudart_stub.cc:28] Could not find cuda drivers on your machine, GPU will not be used.\n",
      "2023-07-14 21:24:19.908338: I tensorflow/core/platform/cpu_feature_guard.cc:182] This TensorFlow binary is optimized to use available CPU instructions in performance-critical operations.\n",
      "To enable the following instructions: AVX2 AVX512F AVX512_VNNI FMA, in other operations, rebuild TensorFlow with the appropriate compiler flags.\n",
      "2023-07-14 21:24:20.660343: W tensorflow/compiler/tf2tensorrt/utils/py_utils.cc:38] TF-TRT Warning: Could not find TensorRT\n"
     ]
    }
   ],
   "source": [
    "import pandas as pd\n",
    "import numpy as np\n",
    "from sklearn.model_selection import KFold\n",
    "from sklearn.feature_selection import VarianceThreshold\n",
    "import random\n",
    "import pickle\n",
    "from sklearn.preprocessing import StandardScaler\n",
    "import os\n",
    "import tensorflow as tf\n",
    "from tqdm.notebook import tqdm\n",
    "from scipy.stats import multivariate_normal as mvn\n",
    "import matplotlib.pyplot as plt\n",
    "from scipy.linalg import block_diag\n",
    "import warnings\n",
    "import os\n",
    "os.environ['TF_CPP_MIN_LOG_LEVEL'] = '3' "
   ]
  },
  {
   "cell_type": "code",
   "execution_count": 2,
   "id": "a6028973-9799-4d8a-b919-a8dd6283faf1",
   "metadata": {},
   "outputs": [],
   "source": [
    "warnings.filterwarnings('ignore')"
   ]
  },
  {
   "cell_type": "code",
   "execution_count": 3,
   "id": "34242ac3-a983-4bab-b092-bfcea4f94a4b",
   "metadata": {},
   "outputs": [],
   "source": [
    "# len(weights_ann_1[0].ravel())"
   ]
  },
  {
   "cell_type": "code",
   "execution_count": 4,
   "id": "d459b853-f520-4181-a9a9-310a6dd20de1",
   "metadata": {},
   "outputs": [],
   "source": [
    "def get_targets_with_weights(batch_data, initial_ensembles, size_ens): \n",
    "    \n",
    "    target_dim = 1\n",
    "    \n",
    "    # weights_ann_1 = ann.get_weights()\n",
    "    \n",
    "    # h1  = ann.layers[1].output.shape[-1]\n",
    "\n",
    "    n_hidden_1 = len(weights_ann_1[0].ravel())\n",
    "    \n",
    "    hidden_weights_1 = initial_ensembles[:,:n_hidden_1].reshape( size_ens, batch_data.shape[1], h1)\n",
    "    \n",
    "    \n",
    "    hidden_output_1 = np.einsum('ij,kjl->kil', batch_data, hidden_weights_1)\n",
    "\n",
    "    \n",
    "    hidden_layer_bias_1 = initial_ensembles[:,n_hidden_1:(n_hidden_1 + h1)].reshape(size_ens, 1,  h1)\n",
    "\n",
    "\n",
    "    hidden_output_1 = hidden_output_1 + hidden_layer_bias_1\n",
    "\n",
    "    n_pred_weights_1 = len(weights_ann_1[2].ravel())\n",
    "\n",
    "    output_weights_1 = initial_ensembles[:,(n_hidden_1 + h1):(n_hidden_1 + h1 + n_pred_weights_1) ].reshape(size_ens, h1, target_dim)\n",
    "\n",
    "\n",
    "    output_1 = np.einsum('ijk,ikl->ijl', hidden_output_1, output_weights_1)\n",
    "\n",
    "\n",
    "    output_layer_bias_1 = initial_ensembles[:,(n_hidden_1 + h1 + n_pred_weights_1):(n_hidden_1 + h1 + n_pred_weights_1 + target_dim)].reshape(size_ens, 1, target_dim)\n",
    "\n",
    "\n",
    "    final_output_1 = output_1 + output_layer_bias_1\n",
    "    \n",
    "    final_output_1 = final_output_1[:,:, 0]\n",
    "    \n",
    "    # print(final_output_1.shape, initial_ensembles.shape)\n",
    "    \n",
    "    stack = np.hstack((final_output_1, initial_ensembles))\n",
    "\n",
    "    \n",
    "    return final_output_1, stack"
   ]
  },
  {
   "cell_type": "code",
   "execution_count": 5,
   "id": "2a66ee4c-4112-4dca-a9cc-68a60d4e316f",
   "metadata": {},
   "outputs": [],
   "source": [
    "def ann(hidden = 32, input_shape = 256, output_shape = 1): \n",
    "    input_layer = tf.keras.layers.Input(shape = (input_shape))\n",
    "    hidden_layer = tf.keras.layers.Dense(hidden)\n",
    "    hidden_output = hidden_layer(input_layer)\n",
    "    pred_layer = tf.keras.layers.Dense(output_shape, activation = \"relu\")\n",
    "    pred_output = pred_layer(hidden_output)\n",
    "#     pred_output = tf.keras.layers.Activation(\"softmax\")(pred_output)\n",
    "    model = tf.keras.models.Model(input_layer, pred_output)\n",
    "    return model"
   ]
  },
  {
   "cell_type": "code",
   "execution_count": 6,
   "id": "e0b9ef03-af61-4ce4-99ff-2f0b5dca639d",
   "metadata": {},
   "outputs": [],
   "source": [
    "def generate_initial_ensembles(num_weights, lambda1, size_ens):\n",
    "    mean_vec = np.zeros((num_weights,))\n",
    "    cov_matrix = lambda1*np.identity(num_weights)\n",
    "    mvn_samp = mvn(mean_vec, cov_matrix)\n",
    "    return mvn_samp.rvs(size_ens)"
   ]
  },
  {
   "cell_type": "code",
   "execution_count": 7,
   "id": "fe2ea2b5-13a4-41c4-8257-c6c18708501b",
   "metadata": {},
   "outputs": [],
   "source": [
    "def expit(x):\n",
    "    \"\"\"Compute softmax values for each sets of scores in x.\"\"\"\n",
    "#     e_x = np.exp(x - np.max(x))\n",
    "    return 1 / (1 + np.exp(-x))"
   ]
  },
  {
   "cell_type": "code",
   "execution_count": 8,
   "id": "758ac30a-bcc7-4b5e-9314-7fb85f284f70",
   "metadata": {},
   "outputs": [],
   "source": [
    "samp_ann =  ann(hidden = 8, input_shape = 64, output_shape = 1)"
   ]
  },
  {
   "cell_type": "code",
   "execution_count": 9,
   "id": "2548f2de-a4c3-4850-b5cc-439634f5c4de",
   "metadata": {},
   "outputs": [],
   "source": [
    "weights_ann_1 = samp_ann.get_weights()"
   ]
  },
  {
   "cell_type": "code",
   "execution_count": 10,
   "id": "1338dc89-5540-4867-95a6-3d0ea7639cdd",
   "metadata": {},
   "outputs": [],
   "source": [
    "h1  = samp_ann.layers[1].output.shape[-1]"
   ]
  },
  {
   "cell_type": "code",
   "execution_count": 11,
   "id": "4a92b1e3-d9c6-4ce7-959d-aef1376a29d9",
   "metadata": {},
   "outputs": [
    {
     "data": {
      "text/plain": [
       "8"
      ]
     },
     "execution_count": 11,
     "metadata": {},
     "output_type": "execute_result"
    }
   ],
   "source": [
    "h1"
   ]
  },
  {
   "cell_type": "code",
   "execution_count": 12,
   "id": "427b0370-90df-4ab4-85b9-691d082750bf",
   "metadata": {},
   "outputs": [
    {
     "data": {
      "text/plain": [
       "529"
      ]
     },
     "execution_count": 12,
     "metadata": {},
     "output_type": "execute_result"
    }
   ],
   "source": [
    "samp_ann.count_params()"
   ]
  },
  {
   "cell_type": "code",
   "execution_count": 13,
   "id": "06982568-e5c1-4712-895c-7b3d49a09040",
   "metadata": {},
   "outputs": [],
   "source": [
    "hidden_neurons = h1"
   ]
  },
  {
   "cell_type": "code",
   "execution_count": 14,
   "id": "a71c4646-23a6-45ca-9ccc-aa4c3566d8a8",
   "metadata": {},
   "outputs": [],
   "source": [
    "samp_ann_params = samp_ann.count_params()"
   ]
  },
  {
   "cell_type": "code",
   "execution_count": 15,
   "id": "b5f741d7-ba99-4803-8441-5bf2ad3d72f7",
   "metadata": {},
   "outputs": [],
   "source": [
    "def get_initial_X_t(data1, data2, size_ens, var_weights = 1.0, var_weight_weights = 4.0, var_L = 1.0, var_D = 1.0):\n",
    "    # samp_ann =  ann(hidden = hidden_neurons, input_shape = 32, output_shape = 1)\n",
    "    \n",
    "    initial_ensembles1 = generate_initial_ensembles(samp_ann_params, var_weights, size_ens)\n",
    "    data1_out1, data1_stack1 = get_targets_with_weights(data1, initial_ensembles1, size_ens = size_ens)\n",
    "    \n",
    "    initial_ensembles2 = generate_initial_ensembles(samp_ann_params, var_weights, size_ens)\n",
    "    data1_out2, data1_stack2 = get_targets_with_weights(data2, initial_ensembles2, size_ens = size_ens)\n",
    "    \n",
    "#     initial_ensembles3 = generate_initial_ensembles(samp_ann_params, var_weights, size_ens)\n",
    "#     data2_out1, data2_stack1 = get_targets_with_weights(data3, initial_ensembles3, size_ens = size_ens)\n",
    "    \n",
    "#     initial_ensembles4 = generate_initial_ensembles(samp_ann_params, var_weights, size_ens)\n",
    "#     data2_out2, data2_stack2 = get_targets_with_weights(data4, initial_ensembles4, size_ens = size_ens)   \n",
    "    \n",
    "    X_t = np.concatenate((np.expand_dims(data1_stack1, -1), np.expand_dims(data1_stack2, -1)), axis = -1)\n",
    "    \n",
    "    initial_ensembles_for_weights = generate_initial_ensembles(2, var_weight_weights, size_ens)\n",
    "    initial_ensembles_for_weights = np.expand_dims(initial_ensembles_for_weights,1)\n",
    "    \n",
    "    # initial_ensembles_for_L = generate_initial_ensembles(4, var_L, size_ens)\n",
    "    # initial_ensembles_for_L = np.expand_dims(initial_ensembles_for_L,1)    \n",
    "    \n",
    "    initial_ensembles_for_D1 = generate_initial_ensembles(1, var_D, size_ens).reshape(-1,1)\n",
    "    # initial_ensembles_for_D2 = generate_initial_ensembles(1, var_D, size_ens).reshape(-1,1)\n",
    "    \n",
    "    initial_ensembles_for_D1_zero = np.zeros((size_ens,1,1)).reshape(-1,1)\n",
    "#     initial_ensembles_for_D2_zero = np.zeros((size_ens,1,1)).reshape(-1,1)\n",
    "    \n",
    "#     initial_ensembles_for_D3_zero = np.zeros((size_ens,1,1)).reshape(-1,1)\n",
    "    \n",
    "    initial_ensembles_for_D = np.concatenate((np.expand_dims(initial_ensembles_for_D1,1),\n",
    "                                                       np.expand_dims(initial_ensembles_for_D1_zero,1)), axis = 2)\n",
    "    \n",
    "    # print(X_t.shape, initial_ensembles_for_weights.shape)\n",
    "    \n",
    "    X_t = np.concatenate((X_t, initial_ensembles_for_weights, initial_ensembles_for_D), axis = 1)\n",
    "    \n",
    "    initial_ensembles = np.hstack((initial_ensembles1, initial_ensembles2))\n",
    "    \n",
    "    return X_t, initial_ensembles, initial_ensembles_for_weights[:,0,:], initial_ensembles_for_D[:,0,:]"
   ]
  },
  {
   "cell_type": "code",
   "execution_count": 16,
   "id": "6ac49c8c-6da0-4ee2-9561-e1d19365f182",
   "metadata": {},
   "outputs": [],
   "source": [
    "def get_weighted_targets_with_weights(batch_data, initial_ensembles, size_ens, weights): \n",
    "    \n",
    "    target_dim = 1\n",
    "    \n",
    "\n",
    "    n_hidden_1 = len(weights_ann_1[0].ravel())\n",
    "    \n",
    "    hidden_weights_1 = initial_ensembles[:,:n_hidden_1].reshape( size_ens, batch_data.shape[1], h1)\n",
    "    \n",
    "    \n",
    "    hidden_output_1 = np.einsum('ij,kjl->kil', batch_data, hidden_weights_1)\n",
    "\n",
    "    \n",
    "    hidden_layer_bias_1 = initial_ensembles[:,n_hidden_1:(n_hidden_1 + h1)].reshape(size_ens, 1,  h1)\n",
    "\n",
    "\n",
    "    hidden_output_1 = hidden_output_1 + hidden_layer_bias_1\n",
    "\n",
    "    n_pred_weights_1 = len(weights_ann_1[2].ravel())\n",
    "\n",
    "    output_weights_1 = initial_ensembles[:,(n_hidden_1 + h1):(n_hidden_1 + h1 + n_pred_weights_1) ].reshape(size_ens, h1, target_dim)\n",
    "\n",
    "\n",
    "    output_1 = np.einsum('ijk,ikl->ijl', hidden_output_1, output_weights_1)\n",
    "\n",
    "\n",
    "    output_layer_bias_1 = initial_ensembles[:,(n_hidden_1 + h1 + n_pred_weights_1):(n_hidden_1 + h1 + n_pred_weights_1 + target_dim)].reshape(size_ens, 1, target_dim)\n",
    "\n",
    "\n",
    "    final_output_1 = output_1 + output_layer_bias_1\n",
    "    \n",
    "    final_output_1 = final_output_1[:,:, 0]\n",
    "    \n",
    "    final_output_1 = final_output_1*weights\n",
    "    \n",
    "    # print(final_output_1.shape, initial_ensembles.shape)\n",
    "    \n",
    "    stack = np.hstack((final_output_1, initial_ensembles))\n",
    "\n",
    "    \n",
    "    return final_output_1, stack"
   ]
  },
  {
   "cell_type": "code",
   "execution_count": 17,
   "id": "c5a2f9ca-f4b4-445a-ab5f-e0f0557f54a9",
   "metadata": {},
   "outputs": [],
   "source": [
    "from scipy.stats import beta"
   ]
  },
  {
   "cell_type": "code",
   "execution_count": 18,
   "id": "44ed09c8-f6b0-4b40-86e0-1975541fd0ac",
   "metadata": {},
   "outputs": [],
   "source": [
    "fudging_beta = beta(1,9)"
   ]
  },
  {
   "cell_type": "code",
   "execution_count": 19,
   "id": "9d1a4f5e-7a0d-42b7-ad45-59c708b7b727",
   "metadata": {},
   "outputs": [],
   "source": [
    "def forward_operation(data1, data2, combined_ensembles , size_ens, fudging_beta):\n",
    "    # samp_ann =  ann(hidden = hidden_neurons, input_shape = 32, output_shape = 1)\n",
    "    params = samp_ann_params\n",
    "    initial_ensembles1 = combined_ensembles[:, :params]\n",
    "    initial_ensembles2 = combined_ensembles[:, params:(2*params)]\n",
    "    # initial_ensembles3 = combined_ensembles[:, (2*params):(3*params)]\n",
    "    # initial_ensembles4 = combined_ensembles[:, (3*params):(4*params)]\n",
    "\n",
    "    \n",
    "    initial_ensembles_for_weights = combined_ensembles[:, (2*params):(2*params + 2)]\n",
    "    \n",
    "    # initial_ensembles_for_L = combined_ensembles[:, (4*params + 4):(4*params + 4 + 4)]\n",
    "    \n",
    "    initial_ensembles_for_D = combined_ensembles[:,(2*params + 2):(2*params + 2 + 2 )]\n",
    "    \n",
    "    \n",
    "    softmax_weights = tf.math.softmax(initial_ensembles_for_weights).numpy()\n",
    "    \n",
    "    model_1 = softmax_weights[:, 0].reshape(-1,1) \n",
    "    \n",
    "    # model_1 = np.min(model_1 -fudging_factor)\n",
    "    \n",
    "    model_2 = softmax_weights[:, 1].reshape(-1,1) \n",
    "    \n",
    "#     model_3 = softmax_weights[:, 2].reshape(-1,1) \n",
    "    \n",
    "#     model_4 = softmax_weights[:, 3].reshape(-1,1)\n",
    "    \n",
    "    sum_weights = model_1 + model_2\n",
    "    \n",
    "    \n",
    "    # model_1_plus_model_2 = model_1 + model_2\n",
    "    \n",
    "    model_1 = model_1/sum_weights\n",
    "    \n",
    "    model_2 = model_2/sum_weights\n",
    "    \n",
    "#     model_3 = model_3/sum_weights\n",
    "    \n",
    "#     model_4 = model_4/sum_weights\n",
    "    \n",
    "    \n",
    "    # print(np.mean(model_1 + model_2))\n",
    "    \n",
    "    data1_out1, data1_stack1 = get_weighted_targets_with_weights(data1, initial_ensembles1, size_ens = size_ens,\n",
    "                                                                  weights=model_1)\n",
    "    \n",
    "    data1_out2, data1_stack2 = get_weighted_targets_with_weights(data2, initial_ensembles2, size_ens = size_ens,\n",
    "                                                                weights=model_2)\n",
    "    \n",
    "#     data2_out1, data2_stack1 = get_weighted_targets_with_weights(data3, initial_ensembles3, size_ens = size_ens,\n",
    "#                                                                  weights=model_3)\n",
    "    \n",
    "#     data2_out2, data2_stack2 = get_weighted_targets_with_weights(data4, initial_ensembles4, size_ens = size_ens,\n",
    "#                                                                   weights=model_4)   \n",
    "    \n",
    "    X_t = np.concatenate((np.expand_dims(data1_stack1, -1), np.expand_dims(data1_stack2, -1)), axis = -1)\n",
    "    \n",
    "    initial_ensembles = np.hstack((initial_ensembles1, initial_ensembles2,\n",
    "                        initial_ensembles_for_weights, initial_ensembles_for_D))\n",
    "    \n",
    "    # print(X_t.shape)\n",
    "    \n",
    "    initial_ensembles_for_weights = np.expand_dims(initial_ensembles_for_weights,1)\n",
    "    \n",
    "    # initial_ensembles_for_L = np.expand_dims(initial_ensembles_for_L,1)\n",
    "    \n",
    "    initial_ensembles_for_D = np.expand_dims(initial_ensembles_for_D,1)\n",
    "    \n",
    "    # print(initial_ensembles_for_weights.shape)\n",
    "    \n",
    "    X_t = np.concatenate((X_t, initial_ensembles_for_weights, initial_ensembles_for_D), axis = 1)\n",
    "    \n",
    "    final_output = data1_out1 + data1_out2\n",
    "    \n",
    "    # weighted_psa = data1_out2 + data2_out2\n",
    "    \n",
    "    return X_t, initial_ensembles,final_output, model_1, model_2"
   ]
  },
  {
   "cell_type": "code",
   "execution_count": 20,
   "id": "c6bd2eb3-86b7-41ed-81b4-4dd8e44e106e",
   "metadata": {},
   "outputs": [],
   "source": [
    "def forward_operation_test(data1, data2, combined_ensembles , size_ens):\n",
    "    # samp_ann =  ann(hidden = hidden_neurons, input_shape = 32, output_shape = 1)\n",
    "    params = samp_ann_params\n",
    "    initial_ensembles1 = combined_ensembles[:, :params]\n",
    "    initial_ensembles2 = combined_ensembles[:, params:(2*params)]\n",
    "    # initial_ensembles3 = combined_ensembles[:, (2*params):(3*params)]\n",
    "    # initial_ensembles4 = combined_ensembles[:, (3*params):(4*params)]\n",
    "\n",
    "    \n",
    "    initial_ensembles_for_weights = combined_ensembles[:, (2*params):(2*params + 2)]\n",
    "    \n",
    "    # initial_ensembles_for_L = combined_ensembles[:, (4*params + 4):(4*params + 4 + 4)]\n",
    "    \n",
    "    initial_ensembles_for_D = combined_ensembles[:,(2*params + 2):(2*params + 2 + 2)]\n",
    "    \n",
    "    \n",
    "    softmax_weights = tf.math.softmax(initial_ensembles_for_weights).numpy()\n",
    "    \n",
    "    model_1 = softmax_weights[:, :1].reshape(-1,1) \n",
    "    \n",
    "    # model_1 = np.min(model_1 -fudging_factor)\n",
    "    \n",
    "    model_2 = softmax_weights[:, 1:2].reshape(-1,1) \n",
    "    \n",
    "#     model_3 = softmax_weights[:, 2:3].reshape(-1,1)\n",
    "    \n",
    "#     model_4 = softmax_weights[:, 3:4].reshape(-1,1)\n",
    "    \n",
    "    sum_weights = model_1 + model_2 \n",
    "    \n",
    "    \n",
    "    # model_1_plus_model_2 = model_1 + model_2\n",
    "    \n",
    "    model_1 = model_1/sum_weights\n",
    "    \n",
    "    model_2 = model_2/sum_weights\n",
    "    \n",
    "#     model_3 = model_3/sum_weights\n",
    "    \n",
    "#     model_4 = model_4/sum_weights\n",
    "    \n",
    "    data1_out1, data1_stack1 = get_weighted_targets_with_weights(data1, initial_ensembles1, size_ens = size_ens,\n",
    "                                                                  weights=model_1)\n",
    "    \n",
    "    data1_out2, data1_stack2 = get_weighted_targets_with_weights(data2, initial_ensembles2, size_ens = size_ens,\n",
    "                                                                weights=model_2)\n",
    "    \n",
    "#     data2_out1, data2_stack1 = get_weighted_targets_with_weights(data3, initial_ensembles3, size_ens = size_ens,\n",
    "#                                                                  weights=model_3)\n",
    "    \n",
    "#     data2_out2, data2_stack2 = get_weighted_targets_with_weights(data4, initial_ensembles4, size_ens = size_ens,\n",
    "#                                                                   weights=model_4)   \n",
    "    \n",
    "    X_t = np.concatenate((np.expand_dims(data1_stack1, -1), np.expand_dims(data1_stack2, -1)), axis = -1)\n",
    "    \n",
    "    initial_ensembles = np.hstack((initial_ensembles1, initial_ensembles2, \n",
    "                        initial_ensembles_for_weights, initial_ensembles_for_D))\n",
    "    \n",
    "    # print(X_t.shape)\n",
    "    \n",
    "    initial_ensembles_for_weights = np.expand_dims(initial_ensembles_for_weights,1)\n",
    "    \n",
    "    # initial_ensembles_for_L = np.expand_dims(initial_ensembles_for_L,1)\n",
    "    \n",
    "    initial_ensembles_for_D = np.expand_dims(initial_ensembles_for_D,1)\n",
    "    \n",
    "    # print(initial_ensembles_for_weights.shape)\n",
    "    \n",
    "    X_t = np.concatenate((X_t, initial_ensembles_for_weights, initial_ensembles_for_D), axis = 1)\n",
    "    \n",
    "    final_output = data1_out1 + data1_out2 \n",
    "    \n",
    "    return X_t, initial_ensembles, final_output, model_1, model_2"
   ]
  },
  {
   "cell_type": "code",
   "execution_count": 21,
   "id": "af3dd570-7ab3-4eae-bd8e-9a57a333b30a",
   "metadata": {},
   "outputs": [],
   "source": [
    "total_weights = 2*(samp_ann.count_params() + 1 + 1)"
   ]
  },
  {
   "cell_type": "code",
   "execution_count": 22,
   "id": "e820b010-4396-4b7a-8781-a8e6d503aad5",
   "metadata": {},
   "outputs": [],
   "source": [
    "reduction = 10"
   ]
  },
  {
   "cell_type": "code",
   "execution_count": 23,
   "id": "e5fbaaf7-afae-4008-a26c-e0691ef9b3f9",
   "metadata": {},
   "outputs": [],
   "source": [
    "size_ens = total_weights//reduction\n",
    "# total_weights//reduction"
   ]
  },
  {
   "cell_type": "code",
   "execution_count": 24,
   "id": "a5111536-1a97-4390-9658-c9848a136a3f",
   "metadata": {},
   "outputs": [
    {
     "data": {
      "text/plain": [
       "106"
      ]
     },
     "execution_count": 24,
     "metadata": {},
     "output_type": "execute_result"
    }
   ],
   "source": [
    "size_ens"
   ]
  },
  {
   "cell_type": "code",
   "execution_count": 25,
   "id": "3f598992-73d6-4b5a-906d-3184f1b9625f",
   "metadata": {},
   "outputs": [],
   "source": [
    "G_t = [[1, 1]]\n",
    "G_t = np.array(G_t).T"
   ]
  },
  {
   "cell_type": "code",
   "execution_count": 26,
   "id": "17ef8c41-26ff-4e49-98f8-8f6c31b4eb63",
   "metadata": {},
   "outputs": [
    {
     "data": {
      "text/plain": [
       "(2, 1)"
      ]
     },
     "execution_count": 26,
     "metadata": {},
     "output_type": "execute_result"
    }
   ],
   "source": [
    "G_t.shape"
   ]
  },
  {
   "cell_type": "code",
   "execution_count": 27,
   "id": "a84cb0e3-2f5e-4207-b092-d2768b52205a",
   "metadata": {},
   "outputs": [],
   "source": [
    "def get_predictions(data1, data2, initial_ensembles, fudging_beta  =fudging_beta): \n",
    "    _,_, weighted_alogp, w1, w2 = forward_operation(data1, data2, initial_ensembles, size_ens = size_ens, fudging_beta = fudging_beta)\n",
    "    return weighted_alogp, w1, w2"
   ]
  },
  {
   "cell_type": "code",
   "execution_count": 28,
   "id": "37b60b37-92b1-4784-85fc-59a865d2398f",
   "metadata": {},
   "outputs": [],
   "source": [
    "def get_predictions_test(data1, data2, initial_ensembles): \n",
    "    _,_, weighted_alogp, w1, w2 = forward_operation_test(data1, data2, initial_ensembles, size_ens = size_ens)\n",
    "    return weighted_alogp, w1, w2"
   ]
  },
  {
   "cell_type": "code",
   "execution_count": 29,
   "id": "3af0a9b9-6202-40e2-911f-3c890213099f",
   "metadata": {},
   "outputs": [],
   "source": [
    "def calculate_mu_bar_G_bar(data1, data2, initial_ensembles, fudging_beta):\n",
    "    H_t = np.hstack((np.identity(data1.shape[0]), np.zeros((data1.shape[0], samp_ann_params + 1  + 1))))\n",
    "    mu_bar = initial_ensembles.mean(0)\n",
    "    X_t, _,_, _, _ = forward_operation(data1, data2, initial_ensembles, size_ens = size_ens, fudging_beta = fudging_beta)\n",
    "    X_t = X_t.transpose((0,2,1))\n",
    "    X_t = X_t.reshape(X_t.shape[0], X_t.shape[1]*X_t.shape[2])\n",
    "    script_H_t = np.kron(G_t.T, H_t)\n",
    "    G_u = (script_H_t@X_t.T)\n",
    "    G_u = G_u.T\n",
    "    G_bar = (G_u.mean(0)).ravel()\n",
    "    return mu_bar.reshape(-1,1), G_bar.reshape(-1,1), G_u"
   ]
  },
  {
   "cell_type": "code",
   "execution_count": 30,
   "id": "7334c80c-cfcd-4d5b-b844-11cfb8c137df",
   "metadata": {},
   "outputs": [],
   "source": [
    "def calculate_C_u(initial_ensembles, mu_bar, G_bar, G_u): \n",
    "    u_j_minus_u_bar = initial_ensembles - mu_bar.reshape(1,-1)\n",
    "    G_u_minus_G_bar = G_u -  G_bar.reshape(1,-1)\n",
    "    c = np.zeros((total_weights, G_bar.shape[0]))\n",
    "    for i in range(0, size_ens): \n",
    "        c += np.kron(u_j_minus_u_bar[i, :].T.reshape(-1,1), G_u_minus_G_bar[i,:].reshape(-1,1).T)\n",
    "    return c/size_ens, G_u_minus_G_bar"
   ]
  },
  {
   "cell_type": "code",
   "execution_count": 31,
   "id": "9148779c-1a3f-455d-a6ad-00fc1bf69c1f",
   "metadata": {},
   "outputs": [],
   "source": [
    "def calculate_D_u( G_bar, G_u): \n",
    "    G_u_minus_G_bar = G_u -  G_bar.reshape(1,-1)\n",
    "    d = np.zeros((G_bar.shape[0], G_bar.shape[0]))\n",
    "    for i in range(0, size_ens): \n",
    "        d += np.kron(G_u_minus_G_bar[i,:].T.reshape(-1,1), G_u_minus_G_bar[i,:].reshape(-1,1).T)\n",
    "    return d/size_ens"
   ]
  },
  {
   "cell_type": "code",
   "execution_count": 32,
   "id": "6e8459b0-68c1-4d1f-851e-3d7b99f0ffc5",
   "metadata": {},
   "outputs": [],
   "source": [
    "def get_updated_ensemble(data1, data2, initial_ensembles, y_train, size_ens = size_ens, inflation_factor = 1.0, fudging_beta = fudging_beta, \n",
    "                        fudging_var = None):\n",
    "    mu_bar, G_bar, G_u = calculate_mu_bar_G_bar(data1, data2, initial_ensembles, fudging_beta)\n",
    "    C, G_u_minus_G_bar = calculate_C_u(initial_ensembles, mu_bar, G_bar, G_u)\n",
    "    D = calculate_D_u( G_bar, G_u)\n",
    "    _, R_t = create_cov(data1.shape[0],initial_ensembles)\n",
    "    inflation = np.identity(R_t.shape[0])*inflation_factor\n",
    "    D_plus_cov = D + (R_t *inflation_factor)\n",
    "    D_plus_cov_inv = np.linalg.inv(D_plus_cov)\n",
    "    mid_quant = C@D_plus_cov_inv\n",
    "    noise_vec_mean = np.zeros((R_t.shape[0], ))\n",
    "    noise_mvn = mvn(noise_vec_mean, R_t)\n",
    "    fudging = noise_mvn.rvs(size_ens)\n",
    "    interim = (y_train.T.flatten().reshape(1,-1) + fudging)\n",
    "    right_quant = interim - G_u\n",
    "    mid_times_right = mid_quant@right_quant.T\n",
    "    updated_ensemble = (initial_ensembles + mid_times_right.T)\n",
    "    if fudging_var is not None: \n",
    "        mean_vec = np.zeros((updated_ensemble.shape[1],))\n",
    "        cov_mat = np.identity(updated_ensemble.shape[1])*fudging_var\n",
    "        fudging_for_updated_ensembles = mvn(mean_vec, cov_mat)\n",
    "        fudging_for_updated_ensembles_vec = fudging_for_updated_ensembles.rvs(size_ens)\n",
    "        updated_ensemble = updated_ensemble + fudging_for_updated_ensembles_vec\n",
    "    return updated_ensemble"
   ]
  },
  {
   "cell_type": "code",
   "execution_count": 33,
   "id": "c14b236d-6ebf-40e3-9085-97afd2990e4d",
   "metadata": {},
   "outputs": [],
   "source": [
    "target_dim = 1"
   ]
  },
  {
   "cell_type": "code",
   "execution_count": 34,
   "id": "346d07bc-5b61-4e75-a816-a6e22ffe9d76",
   "metadata": {},
   "outputs": [],
   "source": [
    "lambda_D = 1"
   ]
  },
  {
   "cell_type": "code",
   "execution_count": 35,
   "id": "5abd35fb-ea92-449d-894a-162ed1f4aaec",
   "metadata": {},
   "outputs": [],
   "source": [
    "from joblib import Parallel, delayed"
   ]
  },
  {
   "cell_type": "code",
   "execution_count": 36,
   "id": "381fc654-8877-41fd-840a-4b35153f923b",
   "metadata": {},
   "outputs": [],
   "source": [
    "def create_cov(shape, initial_ensembles):\n",
    "    cov_part = initial_ensembles[:, -4:-3]\n",
    "    cov_part = cov_part.mean(0)\n",
    "    variances1 = tf.math.softplus(cov_part).numpy()\n",
    "    n = shape\n",
    "    return variances1, np.identity(n)*variances1"
   ]
  },
  {
   "cell_type": "code",
   "execution_count": 37,
   "id": "7c59ea29-6484-40d5-8777-80cf9ca6cf5d",
   "metadata": {},
   "outputs": [],
   "source": [
    "# idx = 1"
   ]
  },
  {
   "cell_type": "code",
   "execution_count": 38,
   "id": "7649cb4e-4909-404a-86db-cfb8fc2e078b",
   "metadata": {},
   "outputs": [],
   "source": [
    "with open(\"..//Data//gcn_cdr_train_pca_higher.pickle\", \"rb\") as f: \n",
    "    catch_train = pickle.load(f)"
   ]
  },
  {
   "cell_type": "code",
   "execution_count": 39,
   "id": "f029a85a-6790-4635-b02f-a8dfd9346e8c",
   "metadata": {},
   "outputs": [],
   "source": [
    "with open(\"..//Data//gcn_cdr_test_pca_higher.pickle\", \"rb\") as f: \n",
    "    catch_test = pickle.load(f)"
   ]
  },
  {
   "cell_type": "code",
   "execution_count": 40,
   "id": "1cbefaa8-c226-47fb-a972-1a8207d29766",
   "metadata": {},
   "outputs": [],
   "source": [
    "import random"
   ]
  },
  {
   "cell_type": "code",
   "execution_count": 41,
   "id": "176445fb-4f30-421a-a710-339955111baa",
   "metadata": {},
   "outputs": [],
   "source": [
    "def prepare_data_train(catch_train, idxes): \n",
    "    # idxes = random.sample(range(0, catch_train[0].shape[0]), k = size)\n",
    "    # idxes = list(idxes)\n",
    "    data1, data2 = catch_train[2][idxes,:], catch_train[3][idxes,:]\n",
    "    \n",
    "    y_train = catch_train[-1][idxes].reshape(-1,1)\n",
    "    \n",
    "    return data1, data2, y_train "
   ]
  },
  {
   "cell_type": "code",
   "execution_count": 42,
   "id": "d7c13b4e-c9b7-4b7f-bd6e-92ec93cd40e2",
   "metadata": {},
   "outputs": [],
   "source": [
    "def prepare_data_test( catch_test, size): \n",
    "    idxes = random.sample(range(0, catch_test[0].shape[0]), k = size)\n",
    "    idxes = list(idxes)\n",
    "    data1, data2 = catch_test[2][idxes,:], catch_test[3][idxes,:]\n",
    "    y_train = catch_test[-1][idxes].reshape(-1,1)\n",
    "    return data1, data2, y_train"
   ]
  },
  {
   "cell_type": "code",
   "execution_count": 43,
   "id": "d2a4da04-1a68-4b91-ad62-e6c027c91fa2",
   "metadata": {},
   "outputs": [],
   "source": [
    "# data1_train, data2_train, data3_train, data4_train, y_train =  prepare_data_train(catch_train, size = 5000)"
   ]
  },
  {
   "cell_type": "code",
   "execution_count": 44,
   "id": "3e54f80e-5b8d-4f46-a24a-2514a3683a02",
   "metadata": {},
   "outputs": [],
   "source": [
    "data1_test, data2_test, y_test =  prepare_data_test(catch_test, size = catch_test[0].shape[0])"
   ]
  },
  {
   "cell_type": "code",
   "execution_count": 45,
   "id": "aadbd46f-4890-40cc-8176-f292b9c45cac",
   "metadata": {},
   "outputs": [],
   "source": [
    "from scipy.stats import pearsonr"
   ]
  },
  {
   "cell_type": "code",
   "execution_count": 46,
   "id": "09e61be2-f070-4e18-8583-66f0cdc24501",
   "metadata": {},
   "outputs": [],
   "source": [
    "def chunks(lst, n):\n",
    "    \"\"\"Yield successive n-sized chunks from lst.\"\"\"\n",
    "    for i in range(0, len(lst), n):\n",
    "        yield lst[i:i + n]"
   ]
  },
  {
   "cell_type": "code",
   "execution_count": 47,
   "id": "8a1acec2-599f-4ec7-9ad4-1183a7b09dde",
   "metadata": {},
   "outputs": [],
   "source": [
    "batch_size = 2500"
   ]
  },
  {
   "cell_type": "code",
   "execution_count": 48,
   "id": "02e369a5-74ae-464b-97fb-69791238b973",
   "metadata": {},
   "outputs": [],
   "source": [
    "import random"
   ]
  },
  {
   "cell_type": "code",
   "execution_count": 49,
   "id": "c0fa6a26-3f92-4a59-a52b-95211f3d670d",
   "metadata": {},
   "outputs": [],
   "source": [
    "from tqdm import tqdm_notebook"
   ]
  },
  {
   "cell_type": "code",
   "execution_count": 50,
   "id": "65bf21e9-92c6-4824-93c3-87274b072afa",
   "metadata": {},
   "outputs": [],
   "source": [
    "def get_results(idx, var_weights = 1.0, var_weight_weights = 1.0, var_D = 0.01, inflation_factor = 1.6, fudging_beta = beta(1,19), \n",
    "               fudging_var = 1e-3, print_true = True):\n",
    "    \n",
    "    # smiles_feats_train, rdkit_feats_train, smiles_feats_valid, rdkit_feats_valid, y_train, y_train_actual, y_valid, y_valid_actual, initial_ensembles  = prepare_data(idx, var_weights = var_weights, var_weight_weights =var_weight_weights, var_L = var_L, var_D = var_D)\n",
    "\n",
    "    # w1_catch = []\n",
    "    # w2_catch = []\n",
    "    train_rmse = []\n",
    "    test_rmse = []\n",
    "    # print(\"done initializing\")\n",
    "    \n",
    "    train_idxes = random.sample(range(0, catch_train[0].shape[0]), k = catch_train[0].shape[0])\n",
    "    \n",
    "    train_chunks = list(chunks(train_idxes, batch_size))\n",
    "    \n",
    "    best_rmse_train = 10000\n",
    "    \n",
    "    data1_train, data2_train, y_train = prepare_data_train(catch_train, train_chunks[0])\n",
    "    \n",
    "    _, initial_ensembles, initial_ensembles_for_weights, initial_ensembles_for_D = get_initial_X_t(data1_train, data2_train,\n",
    "                                                                                                 size_ens = size_ens, var_weights = var_weights,\n",
    "                                                                                                var_weight_weights = var_weight_weights,\n",
    "                                                                                                             var_D = var_D)\n",
    "    \n",
    "    initial_ensembles = np.hstack((initial_ensembles, initial_ensembles_for_weights, initial_ensembles_for_D))\n",
    "    patience = 0\n",
    "    \n",
    "    for i in range(0,300):\n",
    "        \n",
    "        train_chunks = random.sample(train_chunks, len(train_chunks))\n",
    "        \n",
    "        if print_true == True:\n",
    "            print(\"epoch number is \" +str(i))\n",
    "        \n",
    "        for chunk in (train_chunks):\n",
    "        \n",
    "            data1_train, data2_train, y_train = prepare_data_train(catch_train, chunk)\n",
    "            \n",
    "\n",
    "            initial_ensembles = get_updated_ensemble(data1_train, data2_train, initial_ensembles, y_train, size_ens = size_ens,\n",
    "                                                 inflation_factor = inflation_factor, fudging_beta = fudging_beta, fudging_var = fudging_var)\n",
    "        \n",
    "            G_u_train, w1, w2 = get_predictions(data1_train, data2_train, initial_ensembles, fudging_beta)\n",
    "    \n",
    "            li_train = np.percentile(G_u_train, axis = 0, q = (2.5, 97.5))[0,:].reshape(-1,1)    \n",
    "            ui_train = np.percentile(G_u_train, axis = 0, q = (2.5, 97.5))[1,:].reshape(-1,1)  \n",
    "    \n",
    "            width_train = ui_train - li_train\n",
    "            avg_width_train = width_train.mean(0)[0]\n",
    "    \n",
    "            ind_train = (y_train >= li_train) & (y_train <= ui_train)\n",
    "            coverage_train= ind_train.mean(0)[0]\n",
    "    \n",
    "            averaged_targets_train = G_u_train.mean(0).reshape(-1,1)\n",
    "            rmse_train = np.sqrt(((y_train -averaged_targets_train)**2).mean(0))[0]\n",
    "        \n",
    "            pearsonr_train = pearsonr(averaged_targets_train.reshape(averaged_targets_train.shape[0],), \n",
    "                                 y_train.reshape(y_train.shape[0],))\n",
    "        \n",
    "            r_train = pearsonr_train.statistic\n",
    "    \n",
    "            G_u_test, _, _ = get_predictions_test(data1_test, data2_test, initial_ensembles)\n",
    "    \n",
    "\n",
    "    \n",
    "            li_test = np.percentile(G_u_test, axis = 0, q = (2.5, 97.5))[0,:].reshape(-1,1)     \n",
    "            ui_test = np.percentile(G_u_test, axis = 0, q = (2.5, 97.5))[1,:].reshape(-1,1)   \n",
    "    \n",
    "            width_test = ui_test - li_test\n",
    "            avg_width_test = width_test.mean(0)[0]\n",
    "    \n",
    "            ind_test = (y_test >= li_test) & (y_test <= ui_test)\n",
    "            coverage_test= ind_test.mean(0)[0]\n",
    "    \n",
    "            averaged_targets_test = G_u_test.mean(0).reshape(-1,1)\n",
    "            rmse_test = np.sqrt(((y_test -averaged_targets_test)**2).mean(0))[0]  \n",
    "        \n",
    "            pearsonr_test = pearsonr(averaged_targets_test.reshape(averaged_targets_test.shape[0],), \n",
    "                                 y_test.reshape(y_test.shape[0],))\n",
    "        \n",
    "            r_test = pearsonr_test.statistic\n",
    "            \n",
    "            train_rmse.append(rmse_train)\n",
    "            \n",
    "            test_rmse.append(rmse_test)\n",
    "            \n",
    "            if print_true == True:\n",
    "                print(\"Training Coverage, Widths, RMSE, and Pearson R\")\n",
    "                print(coverage_train, avg_width_train, rmse_train, r_train)\n",
    "                print(\"Testing Coverage, Widths, RMSE, and Pearson R\")\n",
    "                print(coverage_test, avg_width_test, rmse_test, r_test)\n",
    "            # print(w1.mean(), w1.std())\n",
    "            \n",
    "            # w1_catch.append([w1.mean(), w1.std()])\n",
    "            # w2_catch.append([w2.mean(), w2.std()])\n",
    "\n",
    "            if (rmse_train < best_rmse_train): \n",
    "                best_pearsonr_train = r_train\n",
    "            # print(\"went here\")\n",
    "                best_train_width_mean = avg_width_train.mean()\n",
    "                best_train_width = avg_width_train\n",
    "                # best_smiles_weight = w1.mean()\n",
    "                best_coverage_train = coverage_train\n",
    "                best_rmse_train = rmse_train\n",
    "                best_pearson_r = r_test\n",
    "                best_test_width = avg_width_test\n",
    "\n",
    "                best_coverage_test = coverage_test    \n",
    "                best_rmse_test = rmse_test\n",
    "                patience = 0\n",
    "                best_ensembles = initial_ensembles\n",
    "                best_w1_weight = w1.mean()\n",
    "                best_w2_weight = w2.mean()\n",
    "                # best_w1_weight\n",
    "            \n",
    "            else:\n",
    "                patience = patience + 1\n",
    "            \n",
    "            if print_true == True:\n",
    "                print(\"Patience is\")\n",
    "                print(patience)\n",
    "                print('\\n')\n",
    "        \n",
    "            if patience > threshold:\n",
    "            \n",
    "                # print()\n",
    "                # print(best_train_width.tolist(), best_coverage_train.tolist(), best_rmse_train.tolist(), best_test_width.tolist(), best_coverage_test.tolist(), best_rmse_test.tolist(), best_smiles_weight, flush = True)\n",
    "                # print(\"done for fold\" + str(idx), flush = True)\n",
    "                # print(\"train_coverage\" + str(best_coverage_train), flush = True)\n",
    "                print(\"test_coverage\" + str(best_coverage_test), flush = True)\n",
    "                # print(\"train_width\" + str(best_train_width.tolist()), flush = True)\n",
    "                print(\"test_width\" + str(best_test_width), flush = True)\n",
    "                # print(\"smiles_weight\" + str(best_smiles_weight), flush = True)\n",
    "                # print(\"rmse_train\" + str(best_rmse_train.tolist()), flush = True)\n",
    "                print(\"rmse_test\" + str(best_rmse_test), flush = True)\n",
    "                weights = [best_w1_weight, best_w2_weight]\n",
    "                print(\"weights\", flush = True)\n",
    "                print(weights, flush = True)\n",
    "                print('\\n', flush = True)\n",
    "                # print(\"smiles_weight_ci\" + str([best_li_smiles_weight, best_ui_smiles_weight]), flush = True)\n",
    "            \n",
    "                return [best_train_width, best_coverage_train, best_rmse_train, best_test_width, best_coverage_test, best_rmse_test, best_pearson_r, best_ensembles, train_rmse, test_rmse, best_w1_weight, best_w2_weight]\n"
   ]
  },
  {
   "cell_type": "code",
   "execution_count": 51,
   "id": "11a8c623-2952-409f-a640-7d89cef6b1aa",
   "metadata": {},
   "outputs": [],
   "source": [
    "threshold = 10"
   ]
  },
  {
   "cell_type": "code",
   "execution_count": 52,
   "id": "14658528-ea1a-4a6f-83bd-f708df0bcd83",
   "metadata": {},
   "outputs": [
    {
     "name": "stdout",
     "output_type": "stream",
     "text": [
      "epoch number is 0\n",
      "Training Coverage, Widths, RMSE, and Pearson R\n",
      "0.4532 10.368931053474952 8.203693851364495 -0.08971208168298801\n",
      "Testing Coverage, Widths, RMSE, and Pearson R\n",
      "0.4609032109032109 10.343393969643358 8.27371734070491 -0.09868386746754379\n",
      "Patience is\n",
      "0\n",
      "\n",
      "\n",
      "Training Coverage, Widths, RMSE, and Pearson R\n",
      "0.3088 4.159350388019849 4.6728112094389775 0.09835290438632797\n",
      "Testing Coverage, Widths, RMSE, and Pearson R\n",
      "0.3067105567105567 4.15803779333576 4.728553299404796 0.08097556288210779\n",
      "Patience is\n",
      "0\n",
      "\n",
      "\n",
      "Training Coverage, Widths, RMSE, and Pearson R\n",
      "0.472 5.7673264095169365 4.282593719520071 0.2557749624974641\n",
      "Testing Coverage, Widths, RMSE, and Pearson R\n",
      "0.46835296835296836 5.743669204317585 4.2720013273882556 0.24524213471251857\n",
      "Patience is\n",
      "0\n",
      "\n",
      "\n",
      "Training Coverage, Widths, RMSE, and Pearson R\n",
      "0.7968 5.248484897907403 1.9495555431744422 0.7298910446740514\n",
      "Testing Coverage, Widths, RMSE, and Pearson R\n",
      "0.7948140448140448 5.293037854098429 1.945773501033726 0.7391836167145431\n",
      "Patience is\n",
      "0\n",
      "\n",
      "\n",
      "Training Coverage, Widths, RMSE, and Pearson R\n",
      "0.8912 6.178706444998129 1.7283473118139776 0.7861246555258992\n",
      "Testing Coverage, Widths, RMSE, and Pearson R\n",
      "0.8821898821898821 6.188565167182453 1.7575869890050808 0.7844073974994392\n",
      "Patience is\n",
      "0\n",
      "\n",
      "\n",
      "Training Coverage, Widths, RMSE, and Pearson R\n",
      "0.8984 6.026895117667655 1.7307671664214068 0.8034151208916744\n",
      "Testing Coverage, Widths, RMSE, and Pearson R\n",
      "0.8925848925848926 6.021993078609005 1.7078142448234124 0.7975641702853143\n",
      "Patience is\n",
      "1\n",
      "\n",
      "\n",
      "Training Coverage, Widths, RMSE, and Pearson R\n",
      "0.896 6.202617031584905 1.762242228765358 0.7924242747228006\n",
      "Testing Coverage, Widths, RMSE, and Pearson R\n",
      "0.8963963963963963 6.22638264121456 1.7549793237176323 0.7851900346320622\n",
      "Patience is\n",
      "2\n",
      "\n",
      "\n",
      "Training Coverage, Widths, RMSE, and Pearson R\n",
      "0.9064 6.425920368016071 1.7162675182997726 0.7943811008633588\n",
      "Testing Coverage, Widths, RMSE, and Pearson R\n",
      "0.9147031647031647 6.399712496967052 1.7155192538169164 0.7956584563817996\n",
      "Patience is\n",
      "0\n",
      "\n",
      "\n",
      "Training Coverage, Widths, RMSE, and Pearson R\n",
      "0.9148 6.75497231805077 1.7128941911626094 0.7925797770822716\n",
      "Testing Coverage, Widths, RMSE, and Pearson R\n",
      "0.9194964194964195 6.760652769370178 1.6851623908037545 0.8039109408732854\n",
      "Patience is\n",
      "0\n",
      "\n",
      "\n",
      "Training Coverage, Widths, RMSE, and Pearson R\n",
      "0.9188 6.666055237796678 1.6755833061464516 0.801534776667415\n",
      "Testing Coverage, Widths, RMSE, and Pearson R\n",
      "0.9140679140679141 6.621366900201427 1.6810184548104476 0.8054845123147841\n",
      "Patience is\n",
      "0\n",
      "\n",
      "\n",
      "Training Coverage, Widths, RMSE, and Pearson R\n",
      "0.9076 6.310617163230841 1.6341813792421882 0.8120502159893417\n",
      "Testing Coverage, Widths, RMSE, and Pearson R\n",
      "0.9015939015939016 6.293182498379629 1.673630663163815 0.8069174616747873\n",
      "Patience is\n",
      "0\n",
      "\n",
      "\n",
      "Training Coverage, Widths, RMSE, and Pearson R\n",
      "0.9244 6.897671561728 1.659019290113254 0.8060327603715818\n",
      "Testing Coverage, Widths, RMSE, and Pearson R\n",
      "0.9242319242319242 6.92610639164969 1.653744473939694 0.8118907850011279\n",
      "Patience is\n",
      "1\n",
      "\n",
      "\n",
      "Training Coverage, Widths, RMSE, and Pearson R\n",
      "0.9284 6.754161832848022 1.618062294614444 0.8184529727207416\n",
      "Testing Coverage, Widths, RMSE, and Pearson R\n",
      "0.922037422037422 6.738295426324752 1.658385259424964 0.8105357232426718\n",
      "Patience is\n",
      "0\n",
      "\n",
      "\n",
      "Training Coverage, Widths, RMSE, and Pearson R\n",
      "0.9408 7.107627280873353 1.6532201771994166 0.80547990120541\n",
      "Testing Coverage, Widths, RMSE, and Pearson R\n",
      "0.936012936012936 7.046244891240957 1.6713912647416531 0.8081253365142056\n",
      "Patience is\n",
      "1\n",
      "\n",
      "\n",
      "Training Coverage, Widths, RMSE, and Pearson R\n",
      "0.9324 7.133317140342552 1.687684357763032 0.800613911247951\n",
      "Testing Coverage, Widths, RMSE, and Pearson R\n",
      "0.9380919380919381 7.139796711912753 1.6754338358328555 0.8062135133635806\n",
      "Patience is\n",
      "2\n",
      "\n",
      "\n",
      "Training Coverage, Widths, RMSE, and Pearson R\n",
      "0.9364 7.075749101841804 1.6789884544810465 0.8073272493147645\n",
      "Testing Coverage, Widths, RMSE, and Pearson R\n",
      "0.931970431970432 7.061786526908995 1.6596988198788614 0.8101328418269976\n",
      "Patience is\n",
      "3\n",
      "\n",
      "\n",
      "Training Coverage, Widths, RMSE, and Pearson R\n",
      "0.9218203033838973 6.536784861896832 1.6794828753263376 0.805038813410782\n",
      "Testing Coverage, Widths, RMSE, and Pearson R\n",
      "0.9178216678216679 6.49209012042911 1.6576262569114861 0.8111189778322977\n",
      "Patience is\n",
      "4\n",
      "\n",
      "\n",
      "Training Coverage, Widths, RMSE, and Pearson R\n",
      "0.9128 6.539032074452563 1.6590629431620842 0.8173427714298059\n",
      "Testing Coverage, Widths, RMSE, and Pearson R\n",
      "0.9188034188034188 6.552511401445994 1.644330469404214 0.8151127025916373\n",
      "Patience is\n",
      "5\n",
      "\n",
      "\n",
      "Training Coverage, Widths, RMSE, and Pearson R\n",
      "0.912 6.370949746262096 1.7215863482137004 0.8007715979841968\n",
      "Testing Coverage, Widths, RMSE, and Pearson R\n",
      "0.9129129129129129 6.303998695698032 1.6978531246982107 0.8020868850745783\n",
      "Patience is\n",
      "6\n",
      "\n",
      "\n",
      "Training Coverage, Widths, RMSE, and Pearson R\n",
      "0.9164 6.519296951819332 1.6191909147996135 0.8132407023011591\n",
      "Testing Coverage, Widths, RMSE, and Pearson R\n",
      "0.9178216678216679 6.46446384282586 1.6265835882004749 0.8187836258127559\n",
      "Patience is\n",
      "7\n",
      "\n",
      "\n",
      "Training Coverage, Widths, RMSE, and Pearson R\n",
      "0.9232 6.48396768088192 1.6384208467930055 0.8143681048595743\n",
      "Testing Coverage, Widths, RMSE, and Pearson R\n",
      "0.9192654192654193 6.533721513886533 1.6395062700213547 0.8154939721634887\n",
      "Patience is\n",
      "8\n",
      "\n",
      "\n",
      "Training Coverage, Widths, RMSE, and Pearson R\n",
      "0.928 6.787550636044829 1.6610064630739978 0.8195152866718001\n",
      "Testing Coverage, Widths, RMSE, and Pearson R\n",
      "0.9227881727881728 6.826483678400473 1.64294102686492 0.8146336737343733\n",
      "Patience is\n",
      "9\n",
      "\n",
      "\n",
      "Training Coverage, Widths, RMSE, and Pearson R\n",
      "0.9152 6.4905618192437515 1.6375173853523375 0.8212035549941139\n",
      "Testing Coverage, Widths, RMSE, and Pearson R\n",
      "0.9162046662046662 6.453765750323458 1.6356908111306938 0.8162869243347695\n",
      "Patience is\n",
      "10\n",
      "\n",
      "\n",
      "Training Coverage, Widths, RMSE, and Pearson R\n",
      "0.9264 6.8147418213901805 1.646873212611028 0.8205328070848946\n",
      "Testing Coverage, Widths, RMSE, and Pearson R\n",
      "0.9291984291984292 6.847839243103799 1.6590594972580728 0.8108797556524663\n",
      "Patience is\n",
      "11\n",
      "\n",
      "\n",
      "test_coverage0.922037422037422\n",
      "test_width6.738295426324752\n",
      "rmse_test1.658385259424964\n",
      "weights\n",
      "[0.31611571332521426, 0.6838842866747858]\n",
      "\n",
      "\n",
      "CPU times: user 12min 24s, sys: 7min 4s, total: 19min 28s\n",
      "Wall time: 3min 53s\n"
     ]
    }
   ],
   "source": [
    "%%time\n",
    "best_train_width, best_coverage_train, best_rmse_train, best_test_width, best_coverage_test, best_rmse_test, best_pearson_r,  \\\n",
    "best_ensembles, train_rmse, test_rmse, best_w1_weight, best_w2_weight = get_results(0, var_weights = 1.0, var_weight_weights = 1.0, var_D = 1, inflation_factor =1, fudging_beta = beta(1,19), \n",
    "           fudging_var = 1*1e-2)"
   ]
  },
  {
   "cell_type": "code",
   "execution_count": 53,
   "id": "9490af0c-5a1b-43fb-8431-b1282db34b54",
   "metadata": {},
   "outputs": [],
   "source": [
    "preds_test, _, _ = get_predictions_test(data1_test, data2_test, best_ensembles)"
   ]
  },
  {
   "cell_type": "code",
   "execution_count": 54,
   "id": "7779268c-ab61-4401-80a0-44538877c872",
   "metadata": {},
   "outputs": [],
   "source": [
    "averaged_preds_test = preds_test.mean(0).reshape(-1,1)"
   ]
  },
  {
   "cell_type": "code",
   "execution_count": 55,
   "id": "35f093e5-520c-41f0-a675-01ac46f87a1c",
   "metadata": {},
   "outputs": [
    {
     "data": {
      "image/png": "[encoded data removed]",
      "text/plain": [
       "<Figure size 640x480 with 1 Axes>"
      ]
     },
     "metadata": {},
     "output_type": "display_data"
    }
   ],
   "source": [
    "plt.scatter(y_test, averaged_preds_test, alpha = 0.1)\n",
    "plt.axline((0,0), slope = 1, c = \"black\")\n",
    "plt.xlabel(\"Ground Truth Values\")\n",
    "plt.ylabel(\"MEnKF-ANN Predicted Values\")\n",
    "# plt.xticks(fontsize = 10, fontweight = \"bold\")\n",
    "# plt.yticks(fontsize = 10, fontweight = \"bold\")\n",
    "plt.show()"
   ]
  },
  {
   "cell_type": "code",
   "execution_count": 56,
   "id": "7b6dbeca-651e-4d31-89c0-c44e35b4270f",
   "metadata": {},
   "outputs": [],
   "source": [
    "items = [best_train_width, best_coverage_train, best_rmse_train, best_test_width, best_coverage_test, best_rmse_test, best_pearson_r, best_w1_weight, \n",
    "        best_w2_weight]"
   ]
  },
  {
   "cell_type": "code",
   "execution_count": 57,
   "id": "4c969db3-06fd-4a30-8f3e-1d1670a03aa0",
   "metadata": {},
   "outputs": [],
   "source": [
    "items_df = pd.DataFrame(items).T"
   ]
  },
  {
   "cell_type": "code",
   "execution_count": 58,
   "id": "01f44639-4484-45c7-bd7c-7745ab18371b",
   "metadata": {},
   "outputs": [],
   "source": [
    "items_df.columns = ['best_train_width', 'best_coverage_train', 'best_rmse_train', 'best_test_width', 'best_coverage_test', 'best_rmse_test', 'best_pearson_r', \n",
    "                   'best_w1_weight', 'best_w2_weight']"
   ]
  },
  {
   "cell_type": "code",
   "execution_count": 59,
   "id": "7ab228b9-c61a-46cb-aa57-7acf4da3b114",
   "metadata": {},
   "outputs": [],
   "source": [
    "items_df = items_df.T"
   ]
  },
  {
   "cell_type": "code",
   "execution_count": 60,
   "id": "925c745c-7a4d-4d78-8f47-9a1d7e11a39a",
   "metadata": {},
   "outputs": [],
   "source": [
    "items_df.columns = [\"Value\"]"
   ]
  },
  {
   "cell_type": "code",
   "execution_count": 61,
   "id": "d93ed649-b0ba-445d-b28a-ffeb603dc960",
   "metadata": {},
   "outputs": [
    {
     "data": {
      "text/html": [
       "<div>\n",
       "<style scoped>\n",
       "    .dataframe tbody tr th:only-of-type {\n",
       "        vertical-align: middle;\n",
       "    }\n",
       "\n",
       "    .dataframe tbody tr th {\n",
       "        vertical-align: top;\n",
       "    }\n",
       "\n",
       "    .dataframe thead th {\n",
       "        text-align: right;\n",
       "    }\n",
       "</style>\n",
       "<table border=\"1\" class=\"dataframe\">\n",
       "  <thead>\n",
       "    <tr style=\"text-align: right;\">\n",
       "      <th></th>\n",
       "      <th>Value</th>\n",
       "    </tr>\n",
       "  </thead>\n",
       "  <tbody>\n",
       "    <tr>\n",
       "      <th>best_train_width</th>\n",
       "      <td>6.754162</td>\n",
       "    </tr>\n",
       "    <tr>\n",
       "      <th>best_coverage_train</th>\n",
       "      <td>0.928400</td>\n",
       "    </tr>\n",
       "    <tr>\n",
       "      <th>best_rmse_train</th>\n",
       "      <td>1.618062</td>\n",
       "    </tr>\n",
       "    <tr>\n",
       "      <th>best_test_width</th>\n",
       "      <td>6.738295</td>\n",
       "    </tr>\n",
       "    <tr>\n",
       "      <th>best_coverage_test</th>\n",
       "      <td>0.922037</td>\n",
       "    </tr>\n",
       "    <tr>\n",
       "      <th>best_rmse_test</th>\n",
       "      <td>1.658385</td>\n",
       "    </tr>\n",
       "    <tr>\n",
       "      <th>best_pearson_r</th>\n",
       "      <td>0.810536</td>\n",
       "    </tr>\n",
       "    <tr>\n",
       "      <th>best_w1_weight</th>\n",
       "      <td>0.316116</td>\n",
       "    </tr>\n",
       "    <tr>\n",
       "      <th>best_w2_weight</th>\n",
       "      <td>0.683884</td>\n",
       "    </tr>\n",
       "  </tbody>\n",
       "</table>\n",
       "</div>"
      ],
      "text/plain": [
       "                        Value\n",
       "best_train_width     6.754162\n",
       "best_coverage_train  0.928400\n",
       "best_rmse_train      1.618062\n",
       "best_test_width      6.738295\n",
       "best_coverage_test   0.922037\n",
       "best_rmse_test       1.658385\n",
       "best_pearson_r       0.810536\n",
       "best_w1_weight       0.316116\n",
       "best_w2_weight       0.683884"
      ]
     },
     "execution_count": 61,
     "metadata": {},
     "output_type": "execute_result"
    }
   ],
   "source": [
    "items_df"
   ]
  },
  {
   "cell_type": "code",
   "execution_count": 62,
   "id": "c743cac6-4f17-49ab-9ad0-f35b685d22f1",
   "metadata": {},
   "outputs": [
    {
     "data": {
      "text/plain": [
       "(106, 17316)"
      ]
     },
     "execution_count": 62,
     "metadata": {},
     "output_type": "execute_result"
    }
   ],
   "source": [
    "preds_test.shape"
   ]
  },
  {
   "cell_type": "code",
   "execution_count": 63,
   "id": "0ce0a569-aed6-42db-afa8-83819760c033",
   "metadata": {},
   "outputs": [
    {
     "data": {
      "image/png": "[encoded data removed]",
      "text/plain": [
       "<Figure size 1500x1500 with 16 Axes>"
      ]
     },
     "metadata": {},
     "output_type": "display_data"
    }
   ],
   "source": [
    "random_idx = random.sample(range(y_test.shape[0]), k = 16)\n",
    "fig, axs = plt.subplots(8, 2,figsize=(15, 15))\n",
    "axs = axs.ravel()\n",
    "for idx, i in enumerate(random_idx):\n",
    "    # print(counter)\n",
    "    truth = y_test[i,:]\n",
    "    preds = preds_test[:, i]\n",
    "    percts = np.percentile(preds, axis = 0, q = (2.5, 97.5))\n",
    "    lis = percts[0]\n",
    "    uis = percts[1]\n",
    "    \n",
    "    \n",
    "    axs[idx].hist(preds)\n",
    "    axs[idx].axvline(truth, color='green', linewidth=2)\n",
    "    axs[idx].axvline(lis, color='red', linewidth=2)\n",
    "    axs[idx].axvline(uis, color='red', linewidth=2)\n",
    "\n",
    "# plt.title\n",
    "fig.savefig('gcn_cdr_pred_intervals.png', bbox_inches='tight')\n",
    "plt.show()\n"
   ]
  },
  {
   "cell_type": "code",
   "execution_count": 64,
   "id": "b6080aac-5298-4b62-94cc-a4032a04b0ad",
   "metadata": {},
   "outputs": [
    {
     "data": {
      "image/png": "[encoded data removed]",
      "text/plain": [
       "<Figure size 640x480 with 1 Axes>"
      ]
     },
     "metadata": {},
     "output_type": "display_data"
    }
   ],
   "source": [
    "plt.plot(train_rmse)\n",
    "plt.plot(test_rmse)\n",
    "plt.xlabel(\"Update Iteration\", fontsize = 15, fontweight = \"bold\")\n",
    "plt.ylabel(\"RMSE\", fontsize = 15, fontweight = \"bold\")\n",
    "plt.xticks( fontsize = 10, fontweight = \"bold\")\n",
    "plt.yticks( fontsize = 10, fontweight = \"bold\")\n",
    "plt.show()"
   ]
  },
  {
   "cell_type": "code",
   "execution_count": 65,
   "id": "31471813-3497-4224-acf3-2bd150a35690",
   "metadata": {},
   "outputs": [],
   "source": [
    "# plt.hist(y_train)\n",
    "# plt.show()"
   ]
  },
  {
   "cell_type": "code",
   "execution_count": 66,
   "id": "26cbcc74-a96c-45c2-9e18-c15480f2be2a",
   "metadata": {},
   "outputs": [
    {
     "data": {
      "image/png": "[encoded data removed]",
      "text/plain": [
       "<Figure size 640x480 with 1 Axes>"
      ]
     },
     "metadata": {},
     "output_type": "display_data"
    }
   ],
   "source": [
    "plt.hist(y_test)\n",
    "plt.show()"
   ]
  },
  {
   "cell_type": "code",
   "execution_count": 67,
   "id": "4bbe51b0-156c-4cec-8a6e-0318f25773a9",
   "metadata": {},
   "outputs": [
    {
     "name": "stderr",
     "output_type": "stream",
     "text": [
      "[Parallel(n_jobs=14)]: Using backend LokyBackend with 14 concurrent workers.\n"
     ]
    },
    {
     "name": "stdout",
     "output_type": "stream",
     "text": [
      "test_coverage0.9780549780549781\n",
      "test_width9.829827651359237\n",
      "rmse_test1.6727252098591088\n",
      "weights\n",
      "[0.21383520467942518, 0.7861647953205748]\n",
      "\n",
      "\n",
      "test_coverage0.6902864402864403\n",
      "test_width3.3843980355189154\n",
      "rmse_test1.62602043992311\n",
      "weights\n",
      "[0.805617556214297, 0.19438244378570307]\n",
      "\n",
      "\n",
      "test_coverage0.6881496881496881\n",
      "test_width3.425320383535743\n",
      "rmse_test1.6245432275149652\n",
      "weights\n",
      "[0.9142145772774497, 0.08578542272255042]\n",
      "\n",
      "\n",
      "test_coverage0.6866481866481866\n",
      "test_width3.3575066065597947\n",
      "rmse_test1.6264347573839542\n",
      "weights\n",
      "[0.8598961288400034, 0.14010387115999684]\n",
      "\n",
      "\n",
      "test_coverage0.732963732963733\n",
      "test_width3.6244394761424275\n",
      "rmse_test1.6189593020590287\n",
      "weights\n",
      "[0.6103327580223125, 0.38966724197768765]\n",
      "\n",
      "\n",
      "test_coverage0.677985677985678\n",
      "test_width3.349466115798471\n",
      "rmse_test1.6403489821980526\n",
      "weights\n",
      "[0.8586158943353952, 0.14138410566460471]\n",
      "\n",
      "\n",
      "test_coverage0.9905867405867406\n",
      "test_width13.432612471797828\n",
      "rmse_test1.6786320726494801\n",
      "weights\n",
      "[0.14549713790996194, 0.8545028620900381]\n",
      "\n",
      "\n",
      "test_coverage0.7484407484407485\n",
      "test_width3.773996740082475\n",
      "rmse_test1.6188297285909938\n",
      "weights\n",
      "[0.8931814231412282, 0.1068185768587718]\n",
      "\n",
      "\n",
      "test_coverage0.8206860706860707\n",
      "test_width4.650972132605234\n",
      "rmse_test1.6236889883960903\n",
      "weights\n",
      "[0.9545681796630159, 0.04543182033698399]\n",
      "\n",
      "\n",
      "test_coverage0.9416146916146916\n",
      "test_width7.200303047814857\n",
      "rmse_test1.643349802733488\n",
      "weights\n",
      "[0.1997816599441817, 0.8002183400558183]\n",
      "\n",
      "\n",
      "test_coverage0.7632825132825133\n",
      "test_width4.072523022431007\n",
      "rmse_test1.6225223233857895\n",
      "weights\n",
      "[0.9551648132094117, 0.04483518679058832]\n",
      "\n",
      "\n",
      "test_coverage0.8748556248556248\n",
      "test_width5.40536573833576\n",
      "rmse_test1.6243311649009275\n",
      "weights\n",
      "[0.4345586217988779, 0.5654413782011222]\n",
      "\n",
      "\n",
      "test_coverage0.7401247401247402\n",
      "test_width3.8596854745503557\n",
      "rmse_test1.6196635174664287\n",
      "weights\n",
      "[0.9805116722611302, 0.019488327738869743]\n",
      "\n",
      "\n"
     ]
    },
    {
     "name": "stderr",
     "output_type": "stream",
     "text": [
      "[Parallel(n_jobs=14)]: Done  13 tasks      | elapsed: 28.3min\n"
     ]
    },
    {
     "name": "stdout",
     "output_type": "stream",
     "text": [
      "test_coverage0.8116193116193117\n",
      "test_width4.7291548813382995\n",
      "rmse_test1.6392161672654968\n",
      "weights\n",
      "[0.9023506028971463, 0.09764939710285396]\n",
      "\n",
      "\n",
      "test_coverage0.8452875952875953\n",
      "test_width5.093009481857896\n",
      "rmse_test1.6156526282024954\n",
      "weights\n",
      "[0.9551398901202958, 0.04486010987970425]\n",
      "\n",
      "\n",
      "test_coverage0.8330445830445831\n",
      "test_width4.705239946512857\n",
      "rmse_test1.6267828776252113\n",
      "weights\n",
      "[0.6006204800002661, 0.39937951999973387]\n",
      "\n",
      "\n",
      "test_coverage0.9688149688149689\n",
      "test_width8.735344983184632\n",
      "rmse_test1.6559024572518104\n",
      "weights\n",
      "[0.32326728641337155, 0.6767327135866285]\n",
      "\n",
      "\n",
      "test_coverage0.7066874566874567\n",
      "test_width3.658452116051257\n",
      "rmse_test1.6337035421508563\n",
      "weights\n",
      "[0.9007122106171703, 0.09928778938282981]\n",
      "\n",
      "\n",
      "test_coverage0.8872141372141372\n",
      "test_width5.8900790051387375\n",
      "rmse_test1.6368380952827677\n",
      "weights\n",
      "[0.4285644670783201, 0.5714355329216799]\n",
      "\n",
      "\n",
      "test_coverage0.7159274659274659\n",
      "test_width3.525721676884355\n",
      "rmse_test1.630575305120352\n",
      "weights\n",
      "[0.7987332344140213, 0.20126676558597878]\n",
      "\n",
      "\n",
      "test_coverage0.8707553707553708\n",
      "test_width5.24595934283088\n",
      "rmse_test1.6241376016092686\n",
      "weights\n",
      "[0.34293513921649355, 0.6570648607835063]\n",
      "\n",
      "\n",
      "test_coverage0.918052668052668\n",
      "test_width6.5052841939223836\n",
      "rmse_test1.6386462645053683\n",
      "weights\n",
      "[0.4222389298709527, 0.5777610701290473]\n",
      "\n",
      "\n",
      "test_coverage0.7000462000462\n",
      "test_width3.634850311721076\n",
      "rmse_test1.63752153162836\n",
      "weights\n",
      "[0.9756904891623772, 0.024309510837622863]\n",
      "\n",
      "\n",
      "test_coverage0.8309078309078309\n",
      "test_width5.25747093996144\n",
      "rmse_test1.6301476891436948\n",
      "weights\n",
      "[0.9634040842424878, 0.03659591575751221]\n",
      "\n",
      "\n",
      "test_coverage0.986024486024486\n",
      "test_width11.368495495125055\n",
      "rmse_test1.6232768817897245\n",
      "weights\n",
      "[0.15614802294105076, 0.8438519770589493]\n",
      "\n",
      "\n",
      "test_coverage0.9086394086394086\n",
      "test_width6.3622547788161805\n",
      "rmse_test1.632782172501488\n",
      "weights\n",
      "[0.2566587596771024, 0.7433412403228976]\n",
      "\n",
      "\n",
      "test_coverage0.7588935088935089\n",
      "test_width3.8868827937293435\n",
      "rmse_test1.659697457186145\n",
      "weights\n",
      "[0.5826021357240418, 0.41739786427595815]\n",
      "\n",
      "\n",
      "test_coverage0.7874220374220374\n",
      "test_width4.216626890483383\n",
      "rmse_test1.632144258281716\n",
      "weights\n",
      "[0.4848472954646232, 0.5151527045353769]\n",
      "\n",
      "\n",
      "test_coverage0.9234234234234234\n",
      "test_width7.081690225279662\n",
      "rmse_test1.6305818695460166\n",
      "weights\n",
      "[0.35183101698505315, 0.648168983014947]\n",
      "\n",
      "\n",
      "test_coverage0.9728574728574728\n",
      "test_width10.380773380244166\n",
      "rmse_test1.6477069179935369\n",
      "weights\n",
      "[0.1420611191057236, 0.8579388808942765]\n",
      "\n",
      "\n"
     ]
    },
    {
     "name": "stderr",
     "output_type": "stream",
     "text": [
      "[Parallel(n_jobs=14)]: Done  30 out of  50 | elapsed: 52.9min remaining: 35.3min\n"
     ]
    },
    {
     "name": "stdout",
     "output_type": "stream",
     "text": [
      "test_coverage0.7325594825594826\n",
      "test_width3.7748302639797027\n",
      "rmse_test1.6139982864015472\n",
      "weights\n",
      "[0.9224931126473427, 0.07750688735265726]\n",
      "\n",
      "\n",
      "test_coverage0.7342342342342343\n",
      "test_width3.761505173601848\n",
      "rmse_test1.624642322252333\n",
      "weights\n",
      "[0.9778405468448794, 0.022159453155120686]\n",
      "\n",
      "\n",
      "test_coverage0.968930468930469\n",
      "test_width8.788572091332489\n",
      "rmse_test1.6336491650404836\n",
      "weights\n",
      "[0.3268764753010803, 0.6731235246989197]\n",
      "\n",
      "\n",
      "test_coverage0.7825132825132826\n",
      "test_width4.276571592895847\n",
      "rmse_test1.6361017197895449\n",
      "weights\n",
      "[0.5728371345704122, 0.42716286542958776]\n",
      "\n",
      "\n",
      "test_coverage0.7473434973434974\n",
      "test_width3.9497223450968844\n",
      "rmse_test1.6187952385883486\n",
      "weights\n",
      "[0.9537500769883004, 0.04624992301169958]\n",
      "\n",
      "\n",
      "test_coverage0.7396627396627397\n",
      "test_width3.7204811235275104\n",
      "rmse_test1.6392267579597175\n",
      "weights\n",
      "[0.6071494899552327, 0.39285051004476734]\n",
      "\n",
      "\n",
      "test_coverage0.6797181797181797\n",
      "test_width3.2749268430542875\n",
      "rmse_test1.6233571163181388\n",
      "weights\n",
      "[0.9680053746479491, 0.031994625352050755]\n",
      "\n",
      "\n"
     ]
    },
    {
     "name": "stderr",
     "output_type": "stream",
     "text": [
      "[Parallel(n_jobs=14)]: Done  37 out of  50 | elapsed: 61.4min remaining: 21.6min\n"
     ]
    },
    {
     "name": "stdout",
     "output_type": "stream",
     "text": [
      "test_coverage0.9521252021252021\n",
      "test_width7.655414965330712\n",
      "rmse_test1.627980125559373\n",
      "weights\n",
      "[0.21989147443382934, 0.7801085255661708]\n",
      "\n",
      "\n",
      "test_coverage0.6850889350889351\n",
      "test_width3.437906913949965\n",
      "rmse_test1.6236197822864\n",
      "weights\n",
      "[0.9416993134852032, 0.05830068651479677]\n",
      "\n",
      "\n",
      "test_coverage0.774024024024024\n",
      "test_width4.149732908058473\n",
      "rmse_test1.6304237523483485\n",
      "weights\n",
      "[0.8514098007176925, 0.14859019928230763]\n",
      "\n",
      "\n",
      "test_coverage0.9398821898821899\n",
      "test_width7.600579825280927\n",
      "rmse_test1.6248513675823266\n",
      "weights\n",
      "[0.24259843697631772, 0.7574015630236823]\n",
      "\n",
      "\n",
      "test_coverage0.888080388080388\n",
      "test_width5.972030567644251\n",
      "rmse_test1.6617012502563024\n",
      "weights\n",
      "[0.4663569812296502, 0.5336430187703498]\n",
      "\n",
      "\n",
      "test_coverage0.9835989835989836\n",
      "test_width10.061123533359723\n",
      "rmse_test1.6399091165406883\n",
      "weights\n",
      "[0.1739048881125863, 0.8260951118874137]\n",
      "\n",
      "\n",
      "test_coverage0.9527604527604527\n",
      "test_width8.33152631357526\n",
      "rmse_test1.6317066704195426\n",
      "weights\n",
      "[0.22819014652054848, 0.7718098534794515]\n",
      "\n",
      "\n"
     ]
    },
    {
     "name": "stderr",
     "output_type": "stream",
     "text": [
      "[Parallel(n_jobs=14)]: Done  44 out of  50 | elapsed: 66.3min remaining:  9.0min\n"
     ]
    },
    {
     "name": "stdout",
     "output_type": "stream",
     "text": [
      "test_coverage0.6522869022869023\n",
      "test_width3.0792156915122018\n",
      "rmse_test1.634983251082041\n",
      "weights\n",
      "[0.8132601886959246, 0.18673981130407535]\n",
      "\n",
      "\n",
      "test_coverage0.7523677523677523\n",
      "test_width4.087342786430165\n",
      "rmse_test1.6137506178274708\n",
      "weights\n",
      "[0.8234883030683221, 0.17651169693167773]\n",
      "\n",
      "\n",
      "test_coverage0.9673134673134673\n",
      "test_width9.098750482764473\n",
      "rmse_test1.6802717595765113\n",
      "weights\n",
      "[0.15312678233622293, 0.8468732176637771]\n",
      "\n",
      "\n",
      "test_coverage0.9872372372372372\n",
      "test_width11.303594035359449\n",
      "rmse_test1.667955455132088\n",
      "weights\n",
      "[0.29978322181327166, 0.7002167781867281]\n",
      "\n",
      "\n",
      "test_coverage0.9062716562716563\n",
      "test_width6.408233827548805\n",
      "rmse_test1.639864735295343\n",
      "weights\n",
      "[0.2975877587938182, 0.702412241206182]\n",
      "\n",
      "\n",
      "test_coverage0.8138138138138138\n",
      "test_width4.3215856401899675\n",
      "rmse_test1.6181824708136727\n",
      "weights\n",
      "[0.6609275003582312, 0.33907249964176855]\n",
      "\n",
      "\n"
     ]
    },
    {
     "name": "stderr",
     "output_type": "stream",
     "text": [
      "[Parallel(n_jobs=14)]: Done  50 out of  50 | elapsed: 72.2min finished\n"
     ]
    }
   ],
   "source": [
    "catch = Parallel(n_jobs = 14, verbose = 8, backend = \"loky\")(delayed(get_results)(idx, var_weights = 1.0, var_weight_weights = 1.0, var_D = 1, inflation_factor =1, fudging_beta = beta(1,19), \n",
    "           fudging_var = 1*1e-2, print_true = False) for idx in range(0,50))"
   ]
  },
  {
   "cell_type": "code",
   "execution_count": 68,
   "id": "5eca3f9c-a1cc-4588-9c0c-c85b478c3fd2",
   "metadata": {},
   "outputs": [],
   "source": [
    "with open(\"..//Data//DualGCN_run.pickle\", \"wb\") as f: \n",
    "    pickle.dump(catch, f)"
   ]
  },
  {
   "cell_type": "code",
   "execution_count": 78,
   "id": "e1b0f4df-a1c3-4a85-98dd-5b707f61aa87",
   "metadata": {},
   "outputs": [],
   "source": [
    "with open(\"..//Data//DualGCN_run.pickle\", \"rb\") as f: \n",
    "    catch = pickle.load(f)"
   ]
  },
  {
   "cell_type": "code",
   "execution_count": 79,
   "id": "7803a912-970f-4681-894f-1aff70f9d411",
   "metadata": {},
   "outputs": [],
   "source": [
    "all_metrics = []\n",
    "all_weights = []\n",
    "for i in range(0,50):\n",
    "    item = catch[i]\n",
    "    metrics = item[:7]\n",
    "    weights = item[-2:]\n",
    "    all_metrics.append(metrics)\n",
    "    all_weights.append(weights)\n",
    "    "
   ]
  },
  {
   "cell_type": "code",
   "execution_count": 80,
   "id": "f56d08b5-1e2d-473c-8232-c589f0b5f2d9",
   "metadata": {},
   "outputs": [],
   "source": [
    "all_metrics_df = pd.DataFrame(all_metrics)"
   ]
  },
  {
   "cell_type": "code",
   "execution_count": 81,
   "id": "a86989d6-ee4e-4729-984d-049b538a6df4",
   "metadata": {},
   "outputs": [],
   "source": [
    "all_weights_df = pd.DataFrame(all_weights)"
   ]
  },
  {
   "cell_type": "code",
   "execution_count": 82,
   "id": "29cea438-9622-4de1-9291-8032a4e7a95e",
   "metadata": {},
   "outputs": [],
   "source": [
    "all_df = pd.concat([all_metrics_df, all_weights_df], axis = 1)"
   ]
  },
  {
   "cell_type": "code",
   "execution_count": 83,
   "id": "3b6a4258-046d-4bc3-b82a-a3e36144a5d2",
   "metadata": {},
   "outputs": [],
   "source": [
    "all_df.columns = ['train_width', 'coverage_train', 'rmse_train', 'test_width', 'coverage_test', 'rmse_test', 'pearson_r', \n",
    "                   \"DualGCN_Drugs\", \"DualGCN_Omics\"]"
   ]
  },
  {
   "cell_type": "code",
   "execution_count": 84,
   "id": "39e348d2-807a-4f15-a623-4083bc9734cd",
   "metadata": {},
   "outputs": [
    {
     "data": {
      "text/plain": [
       "train_width       5.761642\n",
       "coverage_train    0.838844\n",
       "rmse_train        1.589089\n",
       "test_width        5.733947\n",
       "coverage_test     0.827982\n",
       "rmse_test         1.634407\n",
       "pearson_r         0.816945\n",
       "DualGCN_Drugs     0.598295\n",
       "DualGCN_Omics     0.401705\n",
       "dtype: float64"
      ]
     },
     "execution_count": 84,
     "metadata": {},
     "output_type": "execute_result"
    }
   ],
   "source": [
    "all_df.mean()"
   ]
  },
  {
   "cell_type": "code",
   "execution_count": 85,
   "id": "102a8e64-74ce-4478-b72e-5e32027c6523",
   "metadata": {},
   "outputs": [
    {
     "data": {
      "text/plain": [
       "train_width       2.598725\n",
       "coverage_train    0.102899\n",
       "rmse_train        0.023806\n",
       "test_width        2.599678\n",
       "coverage_test     0.108455\n",
       "rmse_test         0.016136\n",
       "pearson_r         0.003995\n",
       "DualGCN_Drugs     0.305671\n",
       "DualGCN_Omics     0.305671\n",
       "dtype: float64"
      ]
     },
     "execution_count": 85,
     "metadata": {},
     "output_type": "execute_result"
    }
   ],
   "source": [
    "all_df.std()"
   ]
  }
 ],
 "metadata": {
  "kernelspec": {
   "display_name": "enkf",
   "language": "python",
   "name": "enkf"
  },
  "language_info": {
   "codemirror_mode": {
    "name": "ipython",
    "version": 3
   },
   "file_extension": ".py",
   "mimetype": "text/x-python",
   "name": "python",
   "nbconvert_exporter": "python",
   "pygments_lexer": "ipython3",
   "version": "3.11.3"
  }
 },
 "nbformat": 4,
 "nbformat_minor": 5
}
