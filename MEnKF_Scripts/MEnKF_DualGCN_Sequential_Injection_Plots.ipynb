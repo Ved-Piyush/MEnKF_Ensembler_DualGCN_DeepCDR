{
 "cells": [
  {
   "cell_type": "code",
   "execution_count": 1,
   "id": "aa53e19a-64db-4b1d-9378-c19c8efacd62",
   "metadata": {},
   "outputs": [
    {
     "name": "stderr",
     "output_type": "stream",
     "text": [
      "2023-07-23 03:06:35.319045: I tensorflow/core/util/port.cc:110] oneDNN custom operations are on. You may see slightly different numerical results due to floating-point round-off errors from different computation orders. To turn them off, set the environment variable `TF_ENABLE_ONEDNN_OPTS=0`.\n",
      "2023-07-23 03:06:35.321611: I tensorflow/tsl/cuda/cudart_stub.cc:28] Could not find cuda drivers on your machine, GPU will not be used.\n",
      "2023-07-23 03:06:35.359366: I tensorflow/tsl/cuda/cudart_stub.cc:28] Could not find cuda drivers on your machine, GPU will not be used.\n",
      "2023-07-23 03:06:35.360165: I tensorflow/core/platform/cpu_feature_guard.cc:182] This TensorFlow binary is optimized to use available CPU instructions in performance-critical operations.\n",
      "To enable the following instructions: AVX2 AVX512F AVX512_VNNI FMA, in other operations, rebuild TensorFlow with the appropriate compiler flags.\n",
      "2023-07-23 03:06:36.512215: W tensorflow/compiler/tf2tensorrt/utils/py_utils.cc:38] TF-TRT Warning: Could not find TensorRT\n"
     ]
    }
   ],
   "source": [
    "import pandas as pd\n",
    "import numpy as np\n",
    "from sklearn.model_selection import KFold\n",
    "from sklearn.feature_selection import VarianceThreshold\n",
    "import random\n",
    "import pickle\n",
    "from sklearn.preprocessing import StandardScaler\n",
    "import os\n",
    "import tensorflow as tf\n",
    "from tqdm.notebook import tqdm\n",
    "from scipy.stats import multivariate_normal as mvn\n",
    "import matplotlib.pyplot as plt\n",
    "from scipy.linalg import block_diag\n",
    "import warnings\n",
    "import os\n",
    "os.environ['TF_CPP_MIN_LOG_LEVEL'] = '3' "
   ]
  },
  {
   "cell_type": "code",
   "execution_count": 2,
   "id": "d04fdd25-8436-4e7f-9705-eb0e5f131b69",
   "metadata": {},
   "outputs": [],
   "source": [
    "# with open(\"..//Data//DeepCDR_DualGCN_combo_run_plot.pickle\", \"rb\") as f: \n",
    "#     catch = pickle.load(f)\n",
    "\n",
    "\n",
    "# # In[ ]:\n",
    "\n",
    "\n",
    "# all_metrics = []\n",
    "# all_weights = []\n",
    "# for i in range(0,50):\n",
    "#     item = catch[i]\n",
    "#     metrics = item[:7]\n",
    "#     weights = item[-8:-4]\n",
    "#     all_metrics.append(metrics)\n",
    "#     all_weights.append(weights)"
   ]
  },
  {
   "cell_type": "code",
   "execution_count": 3,
   "id": "77d49ce1-ff5d-492d-963d-e89290851aac",
   "metadata": {},
   "outputs": [],
   "source": [
    "\n",
    "# all_metrics_df = pd.DataFrame(all_metrics)\n",
    "\n",
    "\n",
    "# # In[ ]:\n",
    "\n",
    "\n",
    "# all_weights_df = pd.DataFrame(all_weights)\n",
    "\n",
    "\n",
    "# # In[ ]:\n",
    "\n",
    "\n",
    "# all_df = pd.concat([all_metrics_df, all_weights_df], axis = 1)\n",
    "\n",
    "\n",
    "# # In[ ]:\n",
    "\n",
    "\n",
    "# all_df.columns = ['train_width', 'coverage_train', 'rmse_train', 'test_width', 'coverage_test', 'rmse_test', 'pearson_r', \n",
    "#                    \"DeepCDR_Drugs\", \"DeepCDR_Omics\", \"DualGCN_Drugs\", \"DualGCN_Omics\"]\n",
    "\n",
    "\n"
   ]
  },
  {
   "cell_type": "code",
   "execution_count": 4,
   "id": "e2f6cc19-b656-47b6-a23f-54d9079db6db",
   "metadata": {},
   "outputs": [],
   "source": [
    "# # In[ ]:\n",
    "\n",
    "\n",
    "# all_df.head()\n"
   ]
  },
  {
   "cell_type": "code",
   "execution_count": 5,
   "id": "654f68dc-55d8-4e72-b142-062defa0289a",
   "metadata": {},
   "outputs": [],
   "source": [
    "\n",
    "\n",
    "# # In[ ]:\n",
    "\n",
    "\n",
    "# all_df.mean()\n"
   ]
  },
  {
   "cell_type": "code",
   "execution_count": 6,
   "id": "148a0a87-0890-4c8f-bd66-8188ddd57d16",
   "metadata": {},
   "outputs": [],
   "source": [
    "\n",
    "\n",
    "# # In[ ]:\n",
    "\n",
    "\n",
    "# all_df.std()"
   ]
  },
  {
   "cell_type": "code",
   "execution_count": 7,
   "id": "a6028973-9799-4d8a-b919-a8dd6283faf1",
   "metadata": {},
   "outputs": [],
   "source": [
    "warnings.filterwarnings('ignore')"
   ]
  },
  {
   "cell_type": "code",
   "execution_count": 8,
   "id": "34242ac3-a983-4bab-b092-bfcea4f94a4b",
   "metadata": {},
   "outputs": [],
   "source": [
    "# len(weights_ann_1[0].ravel())"
   ]
  },
  {
   "cell_type": "code",
   "execution_count": 9,
   "id": "d459b853-f520-4181-a9a9-310a6dd20de1",
   "metadata": {},
   "outputs": [],
   "source": [
    "def get_targets_with_weights(batch_data, initial_ensembles, size_ens): \n",
    "    \n",
    "    target_dim = 1\n",
    "    \n",
    "    # weights_ann_1 = ann.get_weights()\n",
    "    \n",
    "    # h1  = ann.layers[1].output.shape[-1]\n",
    "\n",
    "    n_hidden_1 = len(weights_ann_1[0].ravel())\n",
    "    \n",
    "    hidden_weights_1 = initial_ensembles[:,:n_hidden_1].reshape( size_ens, batch_data.shape[1], h1)\n",
    "    \n",
    "    \n",
    "    hidden_output_1 = np.einsum('ij,kjl->kil', batch_data, hidden_weights_1)\n",
    "\n",
    "    \n",
    "    hidden_layer_bias_1 = initial_ensembles[:,n_hidden_1:(n_hidden_1 + h1)].reshape(size_ens, 1,  h1)\n",
    "\n",
    "\n",
    "    hidden_output_1 = hidden_output_1 + hidden_layer_bias_1\n",
    "\n",
    "    n_pred_weights_1 = len(weights_ann_1[2].ravel())\n",
    "\n",
    "    output_weights_1 = initial_ensembles[:,(n_hidden_1 + h1):(n_hidden_1 + h1 + n_pred_weights_1) ].reshape(size_ens, h1, target_dim)\n",
    "\n",
    "\n",
    "    output_1 = np.einsum('ijk,ikl->ijl', hidden_output_1, output_weights_1)\n",
    "\n",
    "\n",
    "    output_layer_bias_1 = initial_ensembles[:,(n_hidden_1 + h1 + n_pred_weights_1):(n_hidden_1 + h1 + n_pred_weights_1 + target_dim)].reshape(size_ens, 1, target_dim)\n",
    "\n",
    "\n",
    "    final_output_1 = output_1 + output_layer_bias_1\n",
    "    \n",
    "    final_output_1 = final_output_1[:,:, 0]\n",
    "    \n",
    "    # print(final_output_1.shape, initial_ensembles.shape)\n",
    "    \n",
    "    stack = np.hstack((final_output_1, initial_ensembles))\n",
    "\n",
    "    \n",
    "    return final_output_1, stack"
   ]
  },
  {
   "cell_type": "code",
   "execution_count": 10,
   "id": "2a66ee4c-4112-4dca-a9cc-68a60d4e316f",
   "metadata": {},
   "outputs": [],
   "source": [
    "def ann(hidden = 32, input_shape = 256, output_shape = 1): \n",
    "    input_layer = tf.keras.layers.Input(shape = (input_shape))\n",
    "    hidden_layer = tf.keras.layers.Dense(hidden)\n",
    "    hidden_output = hidden_layer(input_layer)\n",
    "    pred_layer = tf.keras.layers.Dense(output_shape, activation = \"relu\")\n",
    "    pred_output = pred_layer(hidden_output)\n",
    "#     pred_output = tf.keras.layers.Activation(\"softmax\")(pred_output)\n",
    "    model = tf.keras.models.Model(input_layer, pred_output)\n",
    "    return model"
   ]
  },
  {
   "cell_type": "code",
   "execution_count": 11,
   "id": "e0b9ef03-af61-4ce4-99ff-2f0b5dca639d",
   "metadata": {},
   "outputs": [],
   "source": [
    "def generate_initial_ensembles(num_weights, lambda1, size_ens):\n",
    "    mean_vec = np.zeros((num_weights,))\n",
    "    cov_matrix = lambda1*np.identity(num_weights)\n",
    "    mvn_samp = mvn(mean_vec, cov_matrix)\n",
    "    return mvn_samp.rvs(size_ens)"
   ]
  },
  {
   "cell_type": "code",
   "execution_count": 12,
   "id": "fe2ea2b5-13a4-41c4-8257-c6c18708501b",
   "metadata": {},
   "outputs": [],
   "source": [
    "def expit(x):\n",
    "    \"\"\"Compute softmax values for each sets of scores in x.\"\"\"\n",
    "#     e_x = np.exp(x - np.max(x))\n",
    "    return 1 / (1 + np.exp(-x))"
   ]
  },
  {
   "cell_type": "code",
   "execution_count": 13,
   "id": "758ac30a-bcc7-4b5e-9314-7fb85f284f70",
   "metadata": {},
   "outputs": [],
   "source": [
    "samp_ann =  ann(hidden = 8, input_shape = 64, output_shape = 1)"
   ]
  },
  {
   "cell_type": "code",
   "execution_count": 14,
   "id": "2548f2de-a4c3-4850-b5cc-439634f5c4de",
   "metadata": {},
   "outputs": [],
   "source": [
    "weights_ann_1 = samp_ann.get_weights()"
   ]
  },
  {
   "cell_type": "code",
   "execution_count": 15,
   "id": "1338dc89-5540-4867-95a6-3d0ea7639cdd",
   "metadata": {},
   "outputs": [],
   "source": [
    "h1  = samp_ann.layers[1].output.shape[-1]"
   ]
  },
  {
   "cell_type": "code",
   "execution_count": 16,
   "id": "4a92b1e3-d9c6-4ce7-959d-aef1376a29d9",
   "metadata": {},
   "outputs": [
    {
     "data": {
      "text/plain": [
       "8"
      ]
     },
     "execution_count": 16,
     "metadata": {},
     "output_type": "execute_result"
    }
   ],
   "source": [
    "h1"
   ]
  },
  {
   "cell_type": "code",
   "execution_count": 17,
   "id": "427b0370-90df-4ab4-85b9-691d082750bf",
   "metadata": {},
   "outputs": [
    {
     "data": {
      "text/plain": [
       "529"
      ]
     },
     "execution_count": 17,
     "metadata": {},
     "output_type": "execute_result"
    }
   ],
   "source": [
    "samp_ann.count_params()"
   ]
  },
  {
   "cell_type": "code",
   "execution_count": 18,
   "id": "06982568-e5c1-4712-895c-7b3d49a09040",
   "metadata": {},
   "outputs": [],
   "source": [
    "hidden_neurons = h1"
   ]
  },
  {
   "cell_type": "code",
   "execution_count": 19,
   "id": "a71c4646-23a6-45ca-9ccc-aa4c3566d8a8",
   "metadata": {},
   "outputs": [],
   "source": [
    "samp_ann_params = samp_ann.count_params()"
   ]
  },
  {
   "cell_type": "code",
   "execution_count": 20,
   "id": "b5f741d7-ba99-4803-8441-5bf2ad3d72f7",
   "metadata": {},
   "outputs": [],
   "source": [
    "def get_initial_X_t(data1, data2, size_ens, var_weights = 1.0, var_weight_weights = 4.0, var_L = 1.0, var_D = 1.0):\n",
    "    # samp_ann =  ann(hidden = hidden_neurons, input_shape = 32, output_shape = 1)\n",
    "    \n",
    "    initial_ensembles1 = generate_initial_ensembles(samp_ann_params, var_weights, size_ens)\n",
    "    data1_out1, data1_stack1 = get_targets_with_weights(data1, initial_ensembles1, size_ens = size_ens)\n",
    "    \n",
    "    initial_ensembles2 = generate_initial_ensembles(samp_ann_params, var_weights, size_ens)\n",
    "    data1_out2, data1_stack2 = get_targets_with_weights(data2, initial_ensembles2, size_ens = size_ens)\n",
    "    \n",
    "#     initial_ensembles3 = generate_initial_ensembles(samp_ann_params, var_weights, size_ens)\n",
    "#     data2_out1, data2_stack1 = get_targets_with_weights(data3, initial_ensembles3, size_ens = size_ens)\n",
    "    \n",
    "#     initial_ensembles4 = generate_initial_ensembles(samp_ann_params, var_weights, size_ens)\n",
    "#     data2_out2, data2_stack2 = get_targets_with_weights(data4, initial_ensembles4, size_ens = size_ens)   \n",
    "    \n",
    "    X_t = np.concatenate((np.expand_dims(data1_stack1, -1), np.expand_dims(data1_stack2, -1)), axis = -1)\n",
    "    \n",
    "    initial_ensembles_for_weights = generate_initial_ensembles(2, var_weight_weights, size_ens)\n",
    "    initial_ensembles_for_weights = np.expand_dims(initial_ensembles_for_weights,1)\n",
    "    \n",
    "    # initial_ensembles_for_L = generate_initial_ensembles(4, var_L, size_ens)\n",
    "    # initial_ensembles_for_L = np.expand_dims(initial_ensembles_for_L,1)    \n",
    "    \n",
    "    initial_ensembles_for_D1 = generate_initial_ensembles(1, var_D, size_ens).reshape(-1,1)\n",
    "    # initial_ensembles_for_D2 = generate_initial_ensembles(1, var_D, size_ens).reshape(-1,1)\n",
    "    \n",
    "    initial_ensembles_for_D1_zero = np.zeros((size_ens,1,1)).reshape(-1,1)\n",
    "#     initial_ensembles_for_D2_zero = np.zeros((size_ens,1,1)).reshape(-1,1)\n",
    "    \n",
    "#     initial_ensembles_for_D3_zero = np.zeros((size_ens,1,1)).reshape(-1,1)\n",
    "    \n",
    "    initial_ensembles_for_D = np.concatenate((np.expand_dims(initial_ensembles_for_D1,1),\n",
    "                                                       np.expand_dims(initial_ensembles_for_D1_zero,1)), axis = 2)\n",
    "    \n",
    "    # print(X_t.shape, initial_ensembles_for_weights.shape)\n",
    "    \n",
    "    X_t = np.concatenate((X_t, initial_ensembles_for_weights, initial_ensembles_for_D), axis = 1)\n",
    "    \n",
    "    initial_ensembles = np.hstack((initial_ensembles1, initial_ensembles2))\n",
    "    \n",
    "    return X_t, initial_ensembles, initial_ensembles_for_weights[:,0,:], initial_ensembles_for_D[:,0,:]"
   ]
  },
  {
   "cell_type": "code",
   "execution_count": 21,
   "id": "6ac49c8c-6da0-4ee2-9561-e1d19365f182",
   "metadata": {},
   "outputs": [],
   "source": [
    "def get_weighted_targets_with_weights(batch_data, initial_ensembles, size_ens, weights): \n",
    "    \n",
    "    target_dim = 1\n",
    "    \n",
    "\n",
    "    n_hidden_1 = len(weights_ann_1[0].ravel())\n",
    "    \n",
    "    hidden_weights_1 = initial_ensembles[:,:n_hidden_1].reshape( size_ens, batch_data.shape[1], h1)\n",
    "    \n",
    "    \n",
    "    hidden_output_1 = np.einsum('ij,kjl->kil', batch_data, hidden_weights_1)\n",
    "\n",
    "    \n",
    "    hidden_layer_bias_1 = initial_ensembles[:,n_hidden_1:(n_hidden_1 + h1)].reshape(size_ens, 1,  h1)\n",
    "\n",
    "\n",
    "    hidden_output_1 = hidden_output_1 + hidden_layer_bias_1\n",
    "\n",
    "    n_pred_weights_1 = len(weights_ann_1[2].ravel())\n",
    "\n",
    "    output_weights_1 = initial_ensembles[:,(n_hidden_1 + h1):(n_hidden_1 + h1 + n_pred_weights_1) ].reshape(size_ens, h1, target_dim)\n",
    "\n",
    "\n",
    "    output_1 = np.einsum('ijk,ikl->ijl', hidden_output_1, output_weights_1)\n",
    "\n",
    "\n",
    "    output_layer_bias_1 = initial_ensembles[:,(n_hidden_1 + h1 + n_pred_weights_1):(n_hidden_1 + h1 + n_pred_weights_1 + target_dim)].reshape(size_ens, 1, target_dim)\n",
    "\n",
    "\n",
    "    final_output_1 = output_1 + output_layer_bias_1\n",
    "    \n",
    "    final_output_1 = final_output_1[:,:, 0]\n",
    "    \n",
    "    final_output_1 = final_output_1*weights\n",
    "    \n",
    "    # print(final_output_1.shape, initial_ensembles.shape)\n",
    "    \n",
    "    stack = np.hstack((final_output_1, initial_ensembles))\n",
    "\n",
    "    \n",
    "    return final_output_1, stack"
   ]
  },
  {
   "cell_type": "code",
   "execution_count": 22,
   "id": "c5a2f9ca-f4b4-445a-ab5f-e0f0557f54a9",
   "metadata": {},
   "outputs": [],
   "source": [
    "from scipy.stats import beta"
   ]
  },
  {
   "cell_type": "code",
   "execution_count": 23,
   "id": "44ed09c8-f6b0-4b40-86e0-1975541fd0ac",
   "metadata": {},
   "outputs": [],
   "source": [
    "fudging_beta = beta(1,9)"
   ]
  },
  {
   "cell_type": "code",
   "execution_count": 24,
   "id": "9d1a4f5e-7a0d-42b7-ad45-59c708b7b727",
   "metadata": {},
   "outputs": [],
   "source": [
    "def forward_operation(data1, data2, combined_ensembles , size_ens, fudging_beta):\n",
    "    # samp_ann =  ann(hidden = hidden_neurons, input_shape = 32, output_shape = 1)\n",
    "    params = samp_ann_params\n",
    "    initial_ensembles1 = combined_ensembles[:, :params]\n",
    "    initial_ensembles2 = combined_ensembles[:, params:(2*params)]\n",
    "    # initial_ensembles3 = combined_ensembles[:, (2*params):(3*params)]\n",
    "    # initial_ensembles4 = combined_ensembles[:, (3*params):(4*params)]\n",
    "\n",
    "    \n",
    "    initial_ensembles_for_weights = combined_ensembles[:, (2*params):(2*params + 2)]\n",
    "    \n",
    "    # initial_ensembles_for_L = combined_ensembles[:, (4*params + 4):(4*params + 4 + 4)]\n",
    "    \n",
    "    initial_ensembles_for_D = combined_ensembles[:,(2*params + 2):(2*params + 2 + 2 )]\n",
    "    \n",
    "    \n",
    "    softmax_weights = tf.math.softmax(initial_ensembles_for_weights).numpy()\n",
    "    \n",
    "    model_1 = softmax_weights[:, 0].reshape(-1,1) \n",
    "    \n",
    "    # model_1 = np.min(model_1 -fudging_factor)\n",
    "    \n",
    "    model_2 = softmax_weights[:, 1].reshape(-1,1) \n",
    "    \n",
    "#     model_3 = softmax_weights[:, 2].reshape(-1,1) \n",
    "    \n",
    "#     model_4 = softmax_weights[:, 3].reshape(-1,1)\n",
    "    \n",
    "    sum_weights = model_1 + model_2\n",
    "    \n",
    "    \n",
    "    # model_1_plus_model_2 = model_1 + model_2\n",
    "    \n",
    "    model_1 = model_1/sum_weights\n",
    "    \n",
    "    model_2 = model_2/sum_weights\n",
    "    \n",
    "#     model_3 = model_3/sum_weights\n",
    "    \n",
    "#     model_4 = model_4/sum_weights\n",
    "    \n",
    "    \n",
    "    # print(np.mean(model_1 + model_2))\n",
    "    \n",
    "    data1_out1, data1_stack1 = get_weighted_targets_with_weights(data1, initial_ensembles1, size_ens = size_ens,\n",
    "                                                                  weights=model_1)\n",
    "    \n",
    "    data1_out2, data1_stack2 = get_weighted_targets_with_weights(data2, initial_ensembles2, size_ens = size_ens,\n",
    "                                                                weights=model_2)\n",
    "    \n",
    "#     data2_out1, data2_stack1 = get_weighted_targets_with_weights(data3, initial_ensembles3, size_ens = size_ens,\n",
    "#                                                                  weights=model_3)\n",
    "    \n",
    "#     data2_out2, data2_stack2 = get_weighted_targets_with_weights(data4, initial_ensembles4, size_ens = size_ens,\n",
    "#                                                                   weights=model_4)   \n",
    "    \n",
    "    X_t = np.concatenate((np.expand_dims(data1_stack1, -1), np.expand_dims(data1_stack2, -1)), axis = -1)\n",
    "    \n",
    "    initial_ensembles = np.hstack((initial_ensembles1, initial_ensembles2,\n",
    "                        initial_ensembles_for_weights, initial_ensembles_for_D))\n",
    "    \n",
    "    # print(X_t.shape)\n",
    "    \n",
    "    initial_ensembles_for_weights = np.expand_dims(initial_ensembles_for_weights,1)\n",
    "    \n",
    "    # initial_ensembles_for_L = np.expand_dims(initial_ensembles_for_L,1)\n",
    "    \n",
    "    initial_ensembles_for_D = np.expand_dims(initial_ensembles_for_D,1)\n",
    "    \n",
    "    # print(initial_ensembles_for_weights.shape)\n",
    "    \n",
    "    X_t = np.concatenate((X_t, initial_ensembles_for_weights, initial_ensembles_for_D), axis = 1)\n",
    "    \n",
    "    final_output = data1_out1 + data1_out2\n",
    "    \n",
    "    # weighted_psa = data1_out2 + data2_out2\n",
    "    \n",
    "    return X_t, initial_ensembles,final_output, model_1, model_2"
   ]
  },
  {
   "cell_type": "code",
   "execution_count": 25,
   "id": "c6bd2eb3-86b7-41ed-81b4-4dd8e44e106e",
   "metadata": {},
   "outputs": [],
   "source": [
    "def forward_operation_test(data1, data2, combined_ensembles , size_ens):\n",
    "    # samp_ann =  ann(hidden = hidden_neurons, input_shape = 32, output_shape = 1)\n",
    "    params = samp_ann_params\n",
    "    initial_ensembles1 = combined_ensembles[:, :params]\n",
    "    initial_ensembles2 = combined_ensembles[:, params:(2*params)]\n",
    "    # initial_ensembles3 = combined_ensembles[:, (2*params):(3*params)]\n",
    "    # initial_ensembles4 = combined_ensembles[:, (3*params):(4*params)]\n",
    "\n",
    "    \n",
    "    initial_ensembles_for_weights = combined_ensembles[:, (2*params):(2*params + 2)]\n",
    "    \n",
    "    # initial_ensembles_for_L = combined_ensembles[:, (4*params + 4):(4*params + 4 + 4)]\n",
    "    \n",
    "    initial_ensembles_for_D = combined_ensembles[:,(2*params + 2):(2*params + 2 + 2)]\n",
    "    \n",
    "    \n",
    "    softmax_weights = tf.math.softmax(initial_ensembles_for_weights).numpy()\n",
    "    \n",
    "    model_1 = softmax_weights[:, :1].reshape(-1,1) \n",
    "    \n",
    "    # model_1 = np.min(model_1 -fudging_factor)\n",
    "    \n",
    "    model_2 = softmax_weights[:, 1:2].reshape(-1,1) \n",
    "    \n",
    "#     model_3 = softmax_weights[:, 2:3].reshape(-1,1)\n",
    "    \n",
    "#     model_4 = softmax_weights[:, 3:4].reshape(-1,1)\n",
    "    \n",
    "    sum_weights = model_1 + model_2 \n",
    "    \n",
    "    \n",
    "    # model_1_plus_model_2 = model_1 + model_2\n",
    "    \n",
    "    model_1 = model_1/sum_weights\n",
    "    \n",
    "    model_2 = model_2/sum_weights\n",
    "    \n",
    "#     model_3 = model_3/sum_weights\n",
    "    \n",
    "#     model_4 = model_4/sum_weights\n",
    "    \n",
    "    data1_out1, data1_stack1 = get_weighted_targets_with_weights(data1, initial_ensembles1, size_ens = size_ens,\n",
    "                                                                  weights=model_1)\n",
    "    \n",
    "    data1_out2, data1_stack2 = get_weighted_targets_with_weights(data2, initial_ensembles2, size_ens = size_ens,\n",
    "                                                                weights=model_2)\n",
    "    \n",
    "#     data2_out1, data2_stack1 = get_weighted_targets_with_weights(data3, initial_ensembles3, size_ens = size_ens,\n",
    "#                                                                  weights=model_3)\n",
    "    \n",
    "#     data2_out2, data2_stack2 = get_weighted_targets_with_weights(data4, initial_ensembles4, size_ens = size_ens,\n",
    "#                                                                   weights=model_4)   \n",
    "    \n",
    "    X_t = np.concatenate((np.expand_dims(data1_stack1, -1), np.expand_dims(data1_stack2, -1)), axis = -1)\n",
    "    \n",
    "    initial_ensembles = np.hstack((initial_ensembles1, initial_ensembles2, \n",
    "                        initial_ensembles_for_weights, initial_ensembles_for_D))\n",
    "    \n",
    "    # print(X_t.shape)\n",
    "    \n",
    "    initial_ensembles_for_weights = np.expand_dims(initial_ensembles_for_weights,1)\n",
    "    \n",
    "    # initial_ensembles_for_L = np.expand_dims(initial_ensembles_for_L,1)\n",
    "    \n",
    "    initial_ensembles_for_D = np.expand_dims(initial_ensembles_for_D,1)\n",
    "    \n",
    "    # print(initial_ensembles_for_weights.shape)\n",
    "    \n",
    "    X_t = np.concatenate((X_t, initial_ensembles_for_weights, initial_ensembles_for_D), axis = 1)\n",
    "    \n",
    "    final_output = data1_out1 + data1_out2 \n",
    "    \n",
    "    return X_t, initial_ensembles, final_output, model_1, model_2"
   ]
  },
  {
   "cell_type": "code",
   "execution_count": 26,
   "id": "af3dd570-7ab3-4eae-bd8e-9a57a333b30a",
   "metadata": {},
   "outputs": [],
   "source": [
    "total_weights = 2*(samp_ann.count_params() + 1 + 1)"
   ]
  },
  {
   "cell_type": "code",
   "execution_count": 27,
   "id": "e820b010-4396-4b7a-8781-a8e6d503aad5",
   "metadata": {},
   "outputs": [],
   "source": [
    "reduction = 10"
   ]
  },
  {
   "cell_type": "code",
   "execution_count": 28,
   "id": "e5fbaaf7-afae-4008-a26c-e0691ef9b3f9",
   "metadata": {},
   "outputs": [],
   "source": [
    "size_ens = total_weights//reduction\n",
    "# total_weights//reduction"
   ]
  },
  {
   "cell_type": "code",
   "execution_count": 29,
   "id": "a5111536-1a97-4390-9658-c9848a136a3f",
   "metadata": {},
   "outputs": [
    {
     "data": {
      "text/plain": [
       "106"
      ]
     },
     "execution_count": 29,
     "metadata": {},
     "output_type": "execute_result"
    }
   ],
   "source": [
    "size_ens"
   ]
  },
  {
   "cell_type": "code",
   "execution_count": 30,
   "id": "3f598992-73d6-4b5a-906d-3184f1b9625f",
   "metadata": {},
   "outputs": [],
   "source": [
    "G_t = [[1, 1]]\n",
    "G_t = np.array(G_t).T"
   ]
  },
  {
   "cell_type": "code",
   "execution_count": 31,
   "id": "17ef8c41-26ff-4e49-98f8-8f6c31b4eb63",
   "metadata": {},
   "outputs": [
    {
     "data": {
      "text/plain": [
       "(2, 1)"
      ]
     },
     "execution_count": 31,
     "metadata": {},
     "output_type": "execute_result"
    }
   ],
   "source": [
    "G_t.shape"
   ]
  },
  {
   "cell_type": "code",
   "execution_count": 32,
   "id": "a84cb0e3-2f5e-4207-b092-d2768b52205a",
   "metadata": {},
   "outputs": [],
   "source": [
    "def get_predictions(data1, data2, initial_ensembles, fudging_beta  =fudging_beta): \n",
    "    _,_, weighted_alogp, w1, w2 = forward_operation(data1, data2, initial_ensembles, size_ens = size_ens, fudging_beta = fudging_beta)\n",
    "    return weighted_alogp, w1, w2"
   ]
  },
  {
   "cell_type": "code",
   "execution_count": 33,
   "id": "37b60b37-92b1-4784-85fc-59a865d2398f",
   "metadata": {},
   "outputs": [],
   "source": [
    "def get_predictions_test(data1, data2, initial_ensembles): \n",
    "    _,_, weighted_alogp, w1, w2 = forward_operation_test(data1, data2, initial_ensembles, size_ens = size_ens)\n",
    "    return weighted_alogp, w1, w2"
   ]
  },
  {
   "cell_type": "code",
   "execution_count": 34,
   "id": "3af0a9b9-6202-40e2-911f-3c890213099f",
   "metadata": {},
   "outputs": [],
   "source": [
    "def calculate_mu_bar_G_bar(data1, data2, initial_ensembles, fudging_beta):\n",
    "    H_t = np.hstack((np.identity(data1.shape[0]), np.zeros((data1.shape[0], samp_ann_params + 1  + 1))))\n",
    "    mu_bar = initial_ensembles.mean(0)\n",
    "    X_t, _,_, _, _ = forward_operation(data1, data2, initial_ensembles, size_ens = size_ens, fudging_beta = fudging_beta)\n",
    "    X_t = X_t.transpose((0,2,1))\n",
    "    X_t = X_t.reshape(X_t.shape[0], X_t.shape[1]*X_t.shape[2])\n",
    "    script_H_t = np.kron(G_t.T, H_t)\n",
    "    G_u = (script_H_t@X_t.T)\n",
    "    G_u = G_u.T\n",
    "    G_bar = (G_u.mean(0)).ravel()\n",
    "    return mu_bar.reshape(-1,1), G_bar.reshape(-1,1), G_u"
   ]
  },
  {
   "cell_type": "code",
   "execution_count": 35,
   "id": "7334c80c-cfcd-4d5b-b844-11cfb8c137df",
   "metadata": {},
   "outputs": [],
   "source": [
    "def calculate_C_u(initial_ensembles, mu_bar, G_bar, G_u): \n",
    "    u_j_minus_u_bar = initial_ensembles - mu_bar.reshape(1,-1)\n",
    "    G_u_minus_G_bar = G_u -  G_bar.reshape(1,-1)\n",
    "    c = np.zeros((total_weights, G_bar.shape[0]))\n",
    "    for i in range(0, size_ens): \n",
    "        c += np.kron(u_j_minus_u_bar[i, :].T.reshape(-1,1), G_u_minus_G_bar[i,:].reshape(-1,1).T)\n",
    "    return c/size_ens, G_u_minus_G_bar"
   ]
  },
  {
   "cell_type": "code",
   "execution_count": 36,
   "id": "9148779c-1a3f-455d-a6ad-00fc1bf69c1f",
   "metadata": {},
   "outputs": [],
   "source": [
    "def calculate_D_u( G_bar, G_u): \n",
    "    G_u_minus_G_bar = G_u -  G_bar.reshape(1,-1)\n",
    "    d = np.zeros((G_bar.shape[0], G_bar.shape[0]))\n",
    "    for i in range(0, size_ens): \n",
    "        d += np.kron(G_u_minus_G_bar[i,:].T.reshape(-1,1), G_u_minus_G_bar[i,:].reshape(-1,1).T)\n",
    "    return d/size_ens"
   ]
  },
  {
   "cell_type": "code",
   "execution_count": 37,
   "id": "6e8459b0-68c1-4d1f-851e-3d7b99f0ffc5",
   "metadata": {},
   "outputs": [],
   "source": [
    "def get_updated_ensemble(data1, data2, initial_ensembles, y_train, size_ens = size_ens, inflation_factor = 1.0, fudging_beta = fudging_beta, \n",
    "                        fudging_var = None):\n",
    "    mu_bar, G_bar, G_u = calculate_mu_bar_G_bar(data1, data2, initial_ensembles, fudging_beta)\n",
    "    C, G_u_minus_G_bar = calculate_C_u(initial_ensembles, mu_bar, G_bar, G_u)\n",
    "    D = calculate_D_u( G_bar, G_u)\n",
    "    _, R_t = create_cov(data1.shape[0],initial_ensembles)\n",
    "    inflation = np.identity(R_t.shape[0])*inflation_factor\n",
    "    D_plus_cov = D + (R_t *inflation_factor)\n",
    "    D_plus_cov_inv = np.linalg.inv(D_plus_cov)\n",
    "    mid_quant = C@D_plus_cov_inv\n",
    "    noise_vec_mean = np.zeros((R_t.shape[0], ))\n",
    "    noise_mvn = mvn(noise_vec_mean, R_t)\n",
    "    fudging = noise_mvn.rvs(size_ens)\n",
    "    interim = (y_train.T.flatten().reshape(1,-1) + fudging)\n",
    "    right_quant = interim - G_u\n",
    "    mid_times_right = mid_quant@right_quant.T\n",
    "    updated_ensemble = (initial_ensembles + mid_times_right.T)\n",
    "    if fudging_var is not None: \n",
    "        mean_vec = np.zeros((updated_ensemble.shape[1],))\n",
    "        cov_mat = np.identity(updated_ensemble.shape[1])*fudging_var\n",
    "        fudging_for_updated_ensembles = mvn(mean_vec, cov_mat)\n",
    "        fudging_for_updated_ensembles_vec = fudging_for_updated_ensembles.rvs(size_ens)\n",
    "        updated_ensemble = updated_ensemble + fudging_for_updated_ensembles_vec\n",
    "    return updated_ensemble"
   ]
  },
  {
   "cell_type": "code",
   "execution_count": 38,
   "id": "c14b236d-6ebf-40e3-9085-97afd2990e4d",
   "metadata": {},
   "outputs": [],
   "source": [
    "target_dim = 1"
   ]
  },
  {
   "cell_type": "code",
   "execution_count": 39,
   "id": "346d07bc-5b61-4e75-a816-a6e22ffe9d76",
   "metadata": {},
   "outputs": [],
   "source": [
    "lambda_D = 1"
   ]
  },
  {
   "cell_type": "code",
   "execution_count": 40,
   "id": "5abd35fb-ea92-449d-894a-162ed1f4aaec",
   "metadata": {},
   "outputs": [],
   "source": [
    "from joblib import Parallel, delayed"
   ]
  },
  {
   "cell_type": "code",
   "execution_count": 41,
   "id": "381fc654-8877-41fd-840a-4b35153f923b",
   "metadata": {},
   "outputs": [],
   "source": [
    "def create_cov(shape, initial_ensembles):\n",
    "    cov_part = initial_ensembles[:, -4:-3]\n",
    "    cov_part = cov_part.mean(0)\n",
    "    variances1 = tf.math.softplus(cov_part).numpy()\n",
    "    n = shape\n",
    "    return variances1, np.identity(n)*variances1"
   ]
  },
  {
   "cell_type": "code",
   "execution_count": 42,
   "id": "7c59ea29-6484-40d5-8777-80cf9ca6cf5d",
   "metadata": {},
   "outputs": [],
   "source": [
    "# idx = 1"
   ]
  },
  {
   "cell_type": "code",
   "execution_count": 43,
   "id": "7649cb4e-4909-404a-86db-cfb8fc2e078b",
   "metadata": {},
   "outputs": [],
   "source": [
    "with open(\"..//Data//gcn_cdr_train_pca_higher.pickle\", \"rb\") as f: \n",
    "    catch_train = pickle.load(f)"
   ]
  },
  {
   "cell_type": "code",
   "execution_count": 44,
   "id": "f029a85a-6790-4635-b02f-a8dfd9346e8c",
   "metadata": {},
   "outputs": [],
   "source": [
    "with open(\"..//Data//gcn_cdr_test_pca_higher.pickle\", \"rb\") as f: \n",
    "    catch_test = pickle.load(f)"
   ]
  },
  {
   "cell_type": "code",
   "execution_count": 45,
   "id": "1cbefaa8-c226-47fb-a972-1a8207d29766",
   "metadata": {},
   "outputs": [],
   "source": [
    "import random"
   ]
  },
  {
   "cell_type": "code",
   "execution_count": 46,
   "id": "176445fb-4f30-421a-a710-339955111baa",
   "metadata": {},
   "outputs": [],
   "source": [
    "def prepare_data_train(catch_train, idxes): \n",
    "    # idxes = random.sample(range(0, catch_train[0].shape[0]), k = size)\n",
    "    # idxes = list(idxes)\n",
    "    data1, data2 = catch_train[2][idxes,:], catch_train[3][idxes,:]\n",
    "    \n",
    "    y_train = catch_train[-1][idxes].reshape(-1,1)\n",
    "    \n",
    "    return data1, data2, y_train "
   ]
  },
  {
   "cell_type": "code",
   "execution_count": 47,
   "id": "d7c13b4e-c9b7-4b7f-bd6e-92ec93cd40e2",
   "metadata": {},
   "outputs": [],
   "source": [
    "def prepare_data_test( catch_test, size): \n",
    "    idxes = random.sample(range(0, catch_test[0].shape[0]), k = size)\n",
    "    idxes = list(idxes)\n",
    "    data1, data2 = catch_test[2][idxes,:], catch_test[3][idxes,:]\n",
    "    y_train = catch_test[-1][idxes].reshape(-1,1)\n",
    "    return data1, data2, y_train"
   ]
  },
  {
   "cell_type": "code",
   "execution_count": 48,
   "id": "d2a4da04-1a68-4b91-ad62-e6c027c91fa2",
   "metadata": {},
   "outputs": [],
   "source": [
    "# data1_train, data2_train, data3_train, data4_train, y_train =  prepare_data_train(catch_train, size = 5000)"
   ]
  },
  {
   "cell_type": "code",
   "execution_count": 49,
   "id": "3e54f80e-5b8d-4f46-a24a-2514a3683a02",
   "metadata": {},
   "outputs": [],
   "source": [
    "data1_test, data2_test, y_test =  prepare_data_test(catch_test, size = catch_test[0].shape[0])"
   ]
  },
  {
   "cell_type": "code",
   "execution_count": 50,
   "id": "365f3a88-5d57-4b7e-ba90-e014faedd04c",
   "metadata": {},
   "outputs": [],
   "source": [
    "current_test = [data1_test, data2_test, y_test]"
   ]
  },
  {
   "cell_type": "code",
   "execution_count": 51,
   "id": "aadbd46f-4890-40cc-8176-f292b9c45cac",
   "metadata": {},
   "outputs": [],
   "source": [
    "from scipy.stats import pearsonr"
   ]
  },
  {
   "cell_type": "code",
   "execution_count": 52,
   "id": "09e61be2-f070-4e18-8583-66f0cdc24501",
   "metadata": {},
   "outputs": [],
   "source": [
    "def chunks(lst, n):\n",
    "    \"\"\"Yield successive n-sized chunks from lst.\"\"\"\n",
    "    for i in range(0, len(lst), n):\n",
    "        yield lst[i:i + n]"
   ]
  },
  {
   "cell_type": "code",
   "execution_count": 53,
   "id": "8a1acec2-599f-4ec7-9ad4-1183a7b09dde",
   "metadata": {},
   "outputs": [],
   "source": [
    "batch_size = 2500"
   ]
  },
  {
   "cell_type": "code",
   "execution_count": 54,
   "id": "02e369a5-74ae-464b-97fb-69791238b973",
   "metadata": {},
   "outputs": [],
   "source": [
    "import random"
   ]
  },
  {
   "cell_type": "code",
   "execution_count": 55,
   "id": "c0fa6a26-3f92-4a59-a52b-95211f3d670d",
   "metadata": {},
   "outputs": [],
   "source": [
    "from tqdm import tqdm_notebook"
   ]
  },
  {
   "cell_type": "code",
   "execution_count": 56,
   "id": "65bf21e9-92c6-4824-93c3-87274b072afa",
   "metadata": {},
   "outputs": [],
   "source": [
    "def get_results(idx, var_weights = 1.0, var_weight_weights = 1.0, var_D = 0.01, inflation_factor = 1.6, fudging_beta = beta(1,19), \n",
    "               fudging_var = 1e-3, print_true = True):\n",
    "    \n",
    "    # smiles_feats_train, rdkit_feats_train, smiles_feats_valid, rdkit_feats_valid, y_train, y_train_actual, y_valid, y_valid_actual, initial_ensembles  = prepare_data(idx, var_weights = var_weights, var_weight_weights =var_weight_weights, var_L = var_L, var_D = var_D)\n",
    "\n",
    "    w1_catch = []\n",
    "    w2_catch = []\n",
    "    train_rmse = []\n",
    "    test_rmse = []\n",
    "    # print(\"done initializing\")\n",
    "    \n",
    "    train_idxes = random.sample(range(0, catch_train[0].shape[0]), k = catch_train[0].shape[0])\n",
    "    \n",
    "    train_chunks = list(chunks(train_idxes, batch_size))\n",
    "    \n",
    "    best_rmse_train = 10000\n",
    "    \n",
    "    data1_train, data2_train, y_train = prepare_data_train(catch_train, train_chunks[0])\n",
    "    \n",
    "    _, initial_ensembles, initial_ensembles_for_weights, initial_ensembles_for_D = get_initial_X_t(data1_train, data2_train,\n",
    "                                                                                                 size_ens = size_ens, var_weights = var_weights,\n",
    "                                                                                                var_weight_weights = var_weight_weights,\n",
    "                                                                                                             var_D = var_D)\n",
    "    \n",
    "    initial_ensembles = np.hstack((initial_ensembles, initial_ensembles_for_weights, initial_ensembles_for_D))\n",
    "    patience = 0\n",
    "    \n",
    "    for i in range(0,300):\n",
    "        \n",
    "        train_chunks = random.sample(train_chunks, len(train_chunks))\n",
    "        \n",
    "        if print_true == True:\n",
    "            print(\"epoch number is \" +str(i))\n",
    "        \n",
    "        for chunk in (train_chunks):\n",
    "        \n",
    "            data1_train, data2_train, y_train = prepare_data_train(catch_train, chunk)\n",
    "            \n",
    "\n",
    "            initial_ensembles = get_updated_ensemble(data1_train, data2_train, initial_ensembles, y_train, size_ens = size_ens,\n",
    "                                                 inflation_factor = inflation_factor, fudging_beta = fudging_beta, fudging_var = fudging_var)\n",
    "        \n",
    "            G_u_train, w1, w2 = get_predictions(data1_train, data2_train, initial_ensembles, fudging_beta)\n",
    "    \n",
    "            li_train = np.percentile(G_u_train, axis = 0, q = (2.5, 97.5))[0,:].reshape(-1,1)    \n",
    "            ui_train = np.percentile(G_u_train, axis = 0, q = (2.5, 97.5))[1,:].reshape(-1,1)  \n",
    "    \n",
    "            width_train = ui_train - li_train\n",
    "            avg_width_train = width_train.mean(0)[0]\n",
    "    \n",
    "            ind_train = (y_train >= li_train) & (y_train <= ui_train)\n",
    "            coverage_train= ind_train.mean(0)[0]\n",
    "    \n",
    "            averaged_targets_train = G_u_train.mean(0).reshape(-1,1)\n",
    "            rmse_train = np.sqrt(((y_train -averaged_targets_train)**2).mean(0))[0]\n",
    "        \n",
    "            pearsonr_train = pearsonr(averaged_targets_train.reshape(averaged_targets_train.shape[0],), \n",
    "                                 y_train.reshape(y_train.shape[0],))\n",
    "        \n",
    "            r_train = pearsonr_train.statistic\n",
    "    \n",
    "            G_u_test, _, _ = get_predictions_test(data1_test, data2_test, initial_ensembles)\n",
    "    \n",
    "\n",
    "    \n",
    "            li_test = np.percentile(G_u_test, axis = 0, q = (2.5, 97.5))[0,:].reshape(-1,1)     \n",
    "            ui_test = np.percentile(G_u_test, axis = 0, q = (2.5, 97.5))[1,:].reshape(-1,1)   \n",
    "    \n",
    "            width_test = ui_test - li_test\n",
    "            avg_width_test = width_test.mean(0)[0]\n",
    "    \n",
    "            ind_test = (y_test >= li_test) & (y_test <= ui_test)\n",
    "            coverage_test= ind_test.mean(0)[0]\n",
    "    \n",
    "            averaged_targets_test = G_u_test.mean(0).reshape(-1,1)\n",
    "            rmse_test = np.sqrt(((y_test -averaged_targets_test)**2).mean(0))[0]  \n",
    "        \n",
    "            pearsonr_test = pearsonr(averaged_targets_test.reshape(averaged_targets_test.shape[0],), \n",
    "                                 y_test.reshape(y_test.shape[0],))\n",
    "        \n",
    "            r_test = pearsonr_test.statistic\n",
    "            \n",
    "            train_rmse.append(rmse_train)\n",
    "            \n",
    "            test_rmse.append(rmse_test)\n",
    "            \n",
    "            if print_true == True:\n",
    "                print(\"Training Coverage, Widths, RMSE, and Pearson R\")\n",
    "                print(coverage_train, avg_width_train, rmse_train, r_train)\n",
    "                print(\"Testing Coverage, Widths, RMSE, and Pearson R\")\n",
    "                print(coverage_test, avg_width_test, rmse_test, r_test)\n",
    "            # print(w1.mean(), w1.std())\n",
    "            \n",
    "            w1_catch.append([w1.mean(), w1.std()])\n",
    "            w2_catch.append([w2.mean(), w2.std()])\n",
    "\n",
    "            if (rmse_train < best_rmse_train): \n",
    "                best_pearsonr_train = r_train\n",
    "            # print(\"went here\")\n",
    "                best_train_width_mean = avg_width_train.mean()\n",
    "                best_train_width = avg_width_train\n",
    "                # best_smiles_weight = w1.mean()\n",
    "                best_coverage_train = coverage_train\n",
    "                best_rmse_train = rmse_train\n",
    "                best_pearson_r = r_test\n",
    "                best_test_width = avg_width_test\n",
    "\n",
    "                best_coverage_test = coverage_test    \n",
    "                best_rmse_test = rmse_test\n",
    "                patience = 0\n",
    "                best_ensembles = initial_ensembles\n",
    "                best_w1_weight = w1.mean()\n",
    "                best_w2_weight = w2.mean()\n",
    "                best_test_preds = averaged_targets_test\n",
    "                best_li = li_test\n",
    "                best_ui = ui_test\n",
    "                best_residuals = (y_test -averaged_targets_test)\n",
    "                # best_w1_weight\n",
    "            \n",
    "            else:\n",
    "                patience = patience + 1\n",
    "            \n",
    "            if print_true == True:\n",
    "                print(\"Patience is\")\n",
    "                print(patience)\n",
    "                print('\\n')\n",
    "        \n",
    "            if patience > threshold:\n",
    "            \n",
    "                # print()\n",
    "                # print(best_train_width.tolist(), best_coverage_train.tolist(), best_rmse_train.tolist(), best_test_width.tolist(), best_coverage_test.tolist(), best_rmse_test.tolist(), best_smiles_weight, flush = True)\n",
    "                # print(\"done for fold\" + str(idx), flush = True)\n",
    "                # print(\"train_coverage\" + str(best_coverage_train), flush = True)\n",
    "                print(\"test_coverage\" + str(best_coverage_test), flush = True)\n",
    "                # print(\"train_width\" + str(best_train_width.tolist()), flush = True)\n",
    "                print(\"test_width\" + str(best_test_width), flush = True)\n",
    "                # print(\"smiles_weight\" + str(best_smiles_weight), flush = True)\n",
    "                # print(\"rmse_train\" + str(best_rmse_train.tolist()), flush = True)\n",
    "                print(\"rmse_test\" + str(best_rmse_test), flush = True)\n",
    "                weights = [best_w1_weight, best_w2_weight]\n",
    "                print(\"weights\", flush = True)\n",
    "                print(weights, flush = True)\n",
    "                print('\\n', flush = True)\n",
    "                # print(\"smiles_weight_ci\" + str([best_li_smiles_weight, best_ui_smiles_weight]), flush = True)\n",
    "            \n",
    "                return [best_train_width, best_coverage_train, best_rmse_train, best_test_width, best_coverage_test, best_rmse_test, best_pearson_r, best_ensembles, train_rmse, test_rmse, best_w1_weight, best_w2_weight, w1_catch, w2_catch, best_test_preds, best_li, best_ui, best_residuals]\n"
   ]
  },
  {
   "cell_type": "code",
   "execution_count": 57,
   "id": "11a8c623-2952-409f-a640-7d89cef6b1aa",
   "metadata": {},
   "outputs": [],
   "source": [
    "threshold = 10"
   ]
  },
  {
   "cell_type": "code",
   "execution_count": 58,
   "id": "5834692d-4e11-406b-97cf-aeef94bde978",
   "metadata": {},
   "outputs": [],
   "source": [
    "# best_test_preds.shape"
   ]
  },
  {
   "cell_type": "code",
   "execution_count": 59,
   "id": "14658528-ea1a-4a6f-83bd-f708df0bcd83",
   "metadata": {},
   "outputs": [
    {
     "name": "stdout",
     "output_type": "stream",
     "text": [
      "epoch number is 0\n",
      "Training Coverage, Widths, RMSE, and Pearson R\n",
      "0.2436 20.72248821699762 27.030497668052405 -0.06303635870784974\n",
      "Testing Coverage, Widths, RMSE, and Pearson R\n",
      "0.2506930006930007 20.700625855684102 27.0385545040037 -0.08071301300038185\n",
      "Patience is\n",
      "0\n",
      "\n",
      "\n",
      "Training Coverage, Widths, RMSE, and Pearson R\n",
      "0.4188 6.699186536843034 6.663893367744501 -0.05425597891002297\n",
      "Testing Coverage, Widths, RMSE, and Pearson R\n",
      "0.4215176715176715 6.654594447969472 6.655503887615475 -0.04509893113446311\n",
      "Patience is\n",
      "0\n",
      "\n",
      "\n",
      "Training Coverage, Widths, RMSE, and Pearson R\n",
      "0.7244 5.914408394990775 2.762543246948968 0.5664389976456494\n",
      "Testing Coverage, Widths, RMSE, and Pearson R\n",
      "0.7223954723954724 5.874396171505156 2.8347116806357238 0.5670340679342305\n",
      "Patience is\n",
      "0\n",
      "\n",
      "\n",
      "Training Coverage, Widths, RMSE, and Pearson R\n",
      "0.8456 6.051337616128769 1.9496876025330243 0.7355618133831425\n",
      "Testing Coverage, Widths, RMSE, and Pearson R\n",
      "0.8522753522753522 6.055886129395787 1.8956858623839594 0.7485940744119914\n",
      "Patience is\n",
      "0\n",
      "\n",
      "\n",
      "Training Coverage, Widths, RMSE, and Pearson R\n",
      "0.8592 5.733973435800522 1.7813369930782936 0.7767666903866619\n",
      "Testing Coverage, Widths, RMSE, and Pearson R\n",
      "0.8514091014091014 5.623895092357364 1.7811459925696609 0.7779625697975856\n",
      "Patience is\n",
      "0\n",
      "\n",
      "\n",
      "Training Coverage, Widths, RMSE, and Pearson R\n",
      "0.8536 5.801791251052319 1.7715605795017457 0.7717592030690753\n",
      "Testing Coverage, Widths, RMSE, and Pearson R\n",
      "0.8641718641718642 5.876582579577741 1.7581859879078225 0.783940917045826\n",
      "Patience is\n",
      "0\n",
      "\n",
      "\n",
      "Training Coverage, Widths, RMSE, and Pearson R\n",
      "0.858 5.555804033153827 1.7451992256571862 0.7807054017018967\n",
      "Testing Coverage, Widths, RMSE, and Pearson R\n",
      "0.8513513513513513 5.578793442997223 1.7502971741517035 0.7865457359436075\n",
      "Patience is\n",
      "0\n",
      "\n",
      "\n",
      "Training Coverage, Widths, RMSE, and Pearson R\n",
      "0.8536 5.293167354940089 1.715566805446461 0.801884701190177\n",
      "Testing Coverage, Widths, RMSE, and Pearson R\n",
      "0.8480595980595981 5.295578866414346 1.7115991247686406 0.7969188606024853\n",
      "Patience is\n",
      "0\n",
      "\n",
      "\n",
      "Training Coverage, Widths, RMSE, and Pearson R\n",
      "0.8684 5.745618330067188 1.6985258656694922 0.799699473487662\n",
      "Testing Coverage, Widths, RMSE, and Pearson R\n",
      "0.8694848694848695 5.6900297498065875 1.7054137462848518 0.7982397846192654\n",
      "Patience is\n",
      "0\n",
      "\n",
      "\n",
      "Training Coverage, Widths, RMSE, and Pearson R\n",
      "0.8768961493582264 5.919213698275248 1.754463659362294 0.7907020816806203\n",
      "Testing Coverage, Widths, RMSE, and Pearson R\n",
      "0.8806883806883807 5.912936548893593 1.706820963771409 0.7979357858713909\n",
      "Patience is\n",
      "1\n",
      "\n",
      "\n",
      "Training Coverage, Widths, RMSE, and Pearson R\n",
      "0.9024 6.298967749815288 1.7018690546479691 0.8067330114472713\n",
      "Testing Coverage, Widths, RMSE, and Pearson R\n",
      "0.9003234003234003 6.308928342727849 1.6901933207641096 0.8024319103871973\n",
      "Patience is\n",
      "2\n",
      "\n",
      "\n",
      "Training Coverage, Widths, RMSE, and Pearson R\n",
      "0.8872 5.842758205682557 1.6796316424304238 0.7960535049199072\n",
      "Testing Coverage, Widths, RMSE, and Pearson R\n",
      "0.8862901362901363 5.827137019591801 1.6649295844973477 0.808864329022479\n",
      "Patience is\n",
      "0\n",
      "\n",
      "\n",
      "Training Coverage, Widths, RMSE, and Pearson R\n",
      "0.9004 6.127843616137424 1.6630580269732187 0.791706759951122\n",
      "Testing Coverage, Widths, RMSE, and Pearson R\n",
      "0.8982443982443983 6.149675687176172 1.6655037148592113 0.8094431956875341\n",
      "Patience is\n",
      "0\n",
      "\n",
      "\n",
      "Training Coverage, Widths, RMSE, and Pearson R\n",
      "0.9028 6.658671899351082 1.691755571543369 0.8133208143860414\n",
      "Testing Coverage, Widths, RMSE, and Pearson R\n",
      "0.901016401016401 6.558142101385982 1.6685197318406884 0.8080702683949827\n",
      "Patience is\n",
      "1\n",
      "\n",
      "\n",
      "Training Coverage, Widths, RMSE, and Pearson R\n",
      "0.896 5.928222735343929 1.6640431558241902 0.811640588073823\n",
      "Testing Coverage, Widths, RMSE, and Pearson R\n",
      "0.8887733887733887 5.912987572776827 1.6444814598195931 0.8140481679439197\n",
      "Patience is\n",
      "2\n",
      "\n",
      "\n",
      "Training Coverage, Widths, RMSE, and Pearson R\n",
      "0.9104 6.425914193037912 1.6688854489755944 0.8137424318906884\n",
      "Testing Coverage, Widths, RMSE, and Pearson R\n",
      "0.9007276507276507 6.364294500944095 1.6412719979301507 0.8155495377877838\n",
      "Patience is\n",
      "3\n",
      "\n",
      "\n",
      "Training Coverage, Widths, RMSE, and Pearson R\n",
      "0.9104 6.0480217466982165 1.6633683202775347 0.8127563511511862\n",
      "Testing Coverage, Widths, RMSE, and Pearson R\n",
      "0.9021136521136521 6.091269700782481 1.6348581256320331 0.8165597333857242\n",
      "Patience is\n",
      "4\n",
      "\n",
      "\n",
      "Training Coverage, Widths, RMSE, and Pearson R\n",
      "0.8924 6.289130301184968 1.6936212459767486 0.8022131982433441\n",
      "Testing Coverage, Widths, RMSE, and Pearson R\n",
      "0.9093324093324093 6.341678702828686 1.6372144587058128 0.8165303329562735\n",
      "Patience is\n",
      "5\n",
      "\n",
      "\n",
      "Training Coverage, Widths, RMSE, and Pearson R\n",
      "0.906 6.434491145741397 1.6594552706297194 0.8117878399591996\n",
      "Testing Coverage, Widths, RMSE, and Pearson R\n",
      "0.912970662970663 6.38506788876458 1.6312871288994113 0.8177726705386622\n",
      "Patience is\n",
      "0\n",
      "\n",
      "\n",
      "Training Coverage, Widths, RMSE, and Pearson R\n",
      "0.9096 6.212793332441622 1.634334947923814 0.8253969368298301\n",
      "Testing Coverage, Widths, RMSE, and Pearson R\n",
      "0.9065026565026565 6.175374706639237 1.6275575029220701 0.8183163784253495\n",
      "Patience is\n",
      "0\n",
      "\n",
      "\n",
      "Training Coverage, Widths, RMSE, and Pearson R\n",
      "0.9128 6.704963982878287 1.658651248416707 0.8248821604499863\n",
      "Testing Coverage, Widths, RMSE, and Pearson R\n",
      "0.9252714252714253 6.7295106585137425 1.628565713109254 0.819290971440913\n",
      "Patience is\n",
      "1\n",
      "\n",
      "\n",
      "Training Coverage, Widths, RMSE, and Pearson R\n",
      "0.9292 6.987313874095638 1.6336496629597708 0.8198943478005412\n",
      "Testing Coverage, Widths, RMSE, and Pearson R\n",
      "0.9324901824901825 7.0352888760433565 1.6374457545403394 0.8161320952787273\n",
      "Patience is\n",
      "0\n",
      "\n",
      "\n",
      "Training Coverage, Widths, RMSE, and Pearson R\n",
      "0.9332 6.981877830929795 1.5976605081066064 0.8291944822436057\n",
      "Testing Coverage, Widths, RMSE, and Pearson R\n",
      "0.9270616770616771 6.919584349542868 1.635246362459939 0.8163400562180262\n",
      "Patience is\n",
      "0\n",
      "\n",
      "\n",
      "Training Coverage, Widths, RMSE, and Pearson R\n",
      "0.9188 6.64910258190117 1.6370513124203898 0.8089734928070633\n",
      "Testing Coverage, Widths, RMSE, and Pearson R\n",
      "0.9149341649341649 6.612011826700197 1.6335508375952315 0.8176056971402053\n",
      "Patience is\n",
      "1\n",
      "\n",
      "\n",
      "Training Coverage, Widths, RMSE, and Pearson R\n",
      "0.9196 7.013955663135604 1.670359196773518 0.8154467361686448\n",
      "Testing Coverage, Widths, RMSE, and Pearson R\n",
      "0.9284476784476784 7.081149213758527 1.658161534888948 0.8119061369224567\n",
      "Patience is\n",
      "2\n",
      "\n",
      "\n",
      "Training Coverage, Widths, RMSE, and Pearson R\n",
      "0.9284 7.241074917904993 1.617441451023519 0.8175127565693753\n",
      "Testing Coverage, Widths, RMSE, and Pearson R\n",
      "0.931046431046431 7.284564960060934 1.6313620171848096 0.8175878409451057\n",
      "Patience is\n",
      "3\n",
      "\n",
      "\n",
      "Training Coverage, Widths, RMSE, and Pearson R\n",
      "0.9268 7.148667829772123 1.6584138702313291 0.8172956446196149\n",
      "Testing Coverage, Widths, RMSE, and Pearson R\n",
      "0.9332409332409333 7.188343846173049 1.6442513281810673 0.8144276192520731\n",
      "Patience is\n",
      "4\n",
      "\n",
      "\n",
      "Training Coverage, Widths, RMSE, and Pearson R\n",
      "0.9204 7.095633640952289 1.645228195740982 0.8136671704198738\n",
      "Testing Coverage, Widths, RMSE, and Pearson R\n",
      "0.9264264264264265 6.992876073423208 1.624446066670084 0.8199122727587864\n",
      "Patience is\n",
      "5\n",
      "\n",
      "\n",
      "epoch number is 1\n",
      "Training Coverage, Widths, RMSE, and Pearson R\n",
      "0.9456 7.686953414775207 1.6441191349178892 0.813486188262984\n",
      "Testing Coverage, Widths, RMSE, and Pearson R\n",
      "0.936012936012936 7.576730522019885 1.6576795214374829 0.8116348011689378\n",
      "Patience is\n",
      "6\n",
      "\n",
      "\n",
      "Training Coverage, Widths, RMSE, and Pearson R\n",
      "0.9264 7.027302309552848 1.6131158678620228 0.8292667075373624\n",
      "Testing Coverage, Widths, RMSE, and Pearson R\n",
      "0.93000693000693 7.071833415642888 1.6287136530212696 0.8189876476202358\n",
      "Patience is\n",
      "7\n",
      "\n",
      "\n",
      "Training Coverage, Widths, RMSE, and Pearson R\n",
      "0.9408 8.179250986043632 1.6391739003212669 0.8150958068012003\n",
      "Testing Coverage, Widths, RMSE, and Pearson R\n",
      "0.9486024486024486 8.122979458090343 1.6346799470625262 0.8166012138533122\n",
      "Patience is\n",
      "8\n",
      "\n",
      "\n",
      "Training Coverage, Widths, RMSE, and Pearson R\n",
      "0.9292 7.248948524929915 1.616999352280003 0.8176682537730124\n",
      "Testing Coverage, Widths, RMSE, and Pearson R\n",
      "0.933009933009933 7.304880599956484 1.6197192215797658 0.8203025224943997\n",
      "Patience is\n",
      "9\n",
      "\n",
      "\n",
      "Training Coverage, Widths, RMSE, and Pearson R\n",
      "0.9404 7.6032397430969985 1.6649012566048862 0.81481647441781\n",
      "Testing Coverage, Widths, RMSE, and Pearson R\n",
      "0.942018942018942 7.569487445538885 1.6418013022447357 0.8149062904508433\n",
      "Patience is\n",
      "10\n",
      "\n",
      "\n",
      "Training Coverage, Widths, RMSE, and Pearson R\n",
      "0.9372 7.57218355011729 1.6661884322152778 0.8013528610988159\n",
      "Testing Coverage, Widths, RMSE, and Pearson R\n",
      "0.9372256872256872 7.545018857291001 1.6634476541897094 0.8107001615089441\n",
      "Patience is\n",
      "11\n",
      "\n",
      "\n",
      "test_coverage0.9270616770616771\n",
      "test_width6.919584349542868\n",
      "rmse_test1.635246362459939\n",
      "weights\n",
      "[0.46846614353281496, 0.5315338564671852]\n",
      "\n",
      "\n",
      "CPU times: user 16min 28s, sys: 10min 10s, total: 26min 38s\n",
      "Wall time: 5min 2s\n"
     ]
    }
   ],
   "source": [
    "%%time\n",
    "best_train_width, best_coverage_train, best_rmse_train, best_test_width, best_coverage_test, best_rmse_test, best_pearson_r, best_ensembles, train_rmse, test_rmse, \\\n",
    "best_w1_weight, best_w2_weight, w1_catch, w2_catch, best_test_preds, best_li, best_ui, best_residuals = get_results(0, var_weights = 1.0, var_weight_weights = 1.0, var_D = 1, inflation_factor =1, fudging_beta = beta(1,19), \n",
    "           fudging_var = 1*1e-2)"
   ]
  },
  {
   "cell_type": "code",
   "execution_count": 60,
   "id": "9490af0c-5a1b-43fb-8431-b1282db34b54",
   "metadata": {},
   "outputs": [],
   "source": [
    "preds_test, _, _ = get_predictions_test(data1_test, data2_test, best_ensembles)"
   ]
  },
  {
   "cell_type": "code",
   "execution_count": 61,
   "id": "7779268c-ab61-4401-80a0-44538877c872",
   "metadata": {},
   "outputs": [],
   "source": [
    "averaged_preds_test = preds_test.mean(0).reshape(-1,1)"
   ]
  },
  {
   "cell_type": "code",
   "execution_count": 62,
   "id": "35f093e5-520c-41f0-a675-01ac46f87a1c",
   "metadata": {},
   "outputs": [
    {
     "data": {
      "image/png": "[encoded data removed]",
      "text/plain": [
       "<Figure size 640x480 with 1 Axes>"
      ]
     },
     "metadata": {},
     "output_type": "display_data"
    }
   ],
   "source": [
    "plt.scatter(y_test, averaged_preds_test, alpha = 0.1)\n",
    "plt.axline((0,0), slope = 1, c = \"black\")\n",
    "plt.xlabel(\"Ground Truth Values\")\n",
    "plt.ylabel(\"MEnKF-ANN Predicted Values\")\n",
    "# plt.xticks(fontsize = 10, fontweight = \"bold\")\n",
    "# plt.yticks(fontsize = 10, fontweight = \"bold\")\n",
    "plt.show()"
   ]
  },
  {
   "cell_type": "code",
   "execution_count": 63,
   "id": "7b6dbeca-651e-4d31-89c0-c44e35b4270f",
   "metadata": {},
   "outputs": [],
   "source": [
    "items = [best_train_width, best_coverage_train, best_rmse_train, best_test_width, best_coverage_test, best_rmse_test, best_pearson_r, best_w1_weight, \n",
    "        best_w2_weight]"
   ]
  },
  {
   "cell_type": "code",
   "execution_count": 64,
   "id": "4c969db3-06fd-4a30-8f3e-1d1670a03aa0",
   "metadata": {},
   "outputs": [],
   "source": [
    "items_df = pd.DataFrame(items).T"
   ]
  },
  {
   "cell_type": "code",
   "execution_count": 65,
   "id": "01f44639-4484-45c7-bd7c-7745ab18371b",
   "metadata": {},
   "outputs": [],
   "source": [
    "items_df.columns = ['best_train_width', 'best_coverage_train', 'best_rmse_train', 'best_test_width', 'best_coverage_test', 'best_rmse_test', 'best_pearson_r', \n",
    "                   'best_w1_weight', 'best_w2_weight']"
   ]
  },
  {
   "cell_type": "code",
   "execution_count": 66,
   "id": "7ab228b9-c61a-46cb-aa57-7acf4da3b114",
   "metadata": {},
   "outputs": [],
   "source": [
    "items_df = items_df.T"
   ]
  },
  {
   "cell_type": "code",
   "execution_count": 67,
   "id": "925c745c-7a4d-4d78-8f47-9a1d7e11a39a",
   "metadata": {},
   "outputs": [],
   "source": [
    "items_df.columns = [\"Value\"]"
   ]
  },
  {
   "cell_type": "code",
   "execution_count": 68,
   "id": "d93ed649-b0ba-445d-b28a-ffeb603dc960",
   "metadata": {},
   "outputs": [
    {
     "data": {
      "text/html": [
       "<div>\n",
       "<style scoped>\n",
       "    .dataframe tbody tr th:only-of-type {\n",
       "        vertical-align: middle;\n",
       "    }\n",
       "\n",
       "    .dataframe tbody tr th {\n",
       "        vertical-align: top;\n",
       "    }\n",
       "\n",
       "    .dataframe thead th {\n",
       "        text-align: right;\n",
       "    }\n",
       "</style>\n",
       "<table border=\"1\" class=\"dataframe\">\n",
       "  <thead>\n",
       "    <tr style=\"text-align: right;\">\n",
       "      <th></th>\n",
       "      <th>Value</th>\n",
       "    </tr>\n",
       "  </thead>\n",
       "  <tbody>\n",
       "    <tr>\n",
       "      <th>best_train_width</th>\n",
       "      <td>6.981878</td>\n",
       "    </tr>\n",
       "    <tr>\n",
       "      <th>best_coverage_train</th>\n",
       "      <td>0.933200</td>\n",
       "    </tr>\n",
       "    <tr>\n",
       "      <th>best_rmse_train</th>\n",
       "      <td>1.597661</td>\n",
       "    </tr>\n",
       "    <tr>\n",
       "      <th>best_test_width</th>\n",
       "      <td>6.919584</td>\n",
       "    </tr>\n",
       "    <tr>\n",
       "      <th>best_coverage_test</th>\n",
       "      <td>0.927062</td>\n",
       "    </tr>\n",
       "    <tr>\n",
       "      <th>best_rmse_test</th>\n",
       "      <td>1.635246</td>\n",
       "    </tr>\n",
       "    <tr>\n",
       "      <th>best_pearson_r</th>\n",
       "      <td>0.816340</td>\n",
       "    </tr>\n",
       "    <tr>\n",
       "      <th>best_w1_weight</th>\n",
       "      <td>0.468466</td>\n",
       "    </tr>\n",
       "    <tr>\n",
       "      <th>best_w2_weight</th>\n",
       "      <td>0.531534</td>\n",
       "    </tr>\n",
       "  </tbody>\n",
       "</table>\n",
       "</div>"
      ],
      "text/plain": [
       "                        Value\n",
       "best_train_width     6.981878\n",
       "best_coverage_train  0.933200\n",
       "best_rmse_train      1.597661\n",
       "best_test_width      6.919584\n",
       "best_coverage_test   0.927062\n",
       "best_rmse_test       1.635246\n",
       "best_pearson_r       0.816340\n",
       "best_w1_weight       0.468466\n",
       "best_w2_weight       0.531534"
      ]
     },
     "execution_count": 68,
     "metadata": {},
     "output_type": "execute_result"
    }
   ],
   "source": [
    "items_df"
   ]
  },
  {
   "cell_type": "code",
   "execution_count": 69,
   "id": "c743cac6-4f17-49ab-9ad0-f35b685d22f1",
   "metadata": {},
   "outputs": [
    {
     "data": {
      "text/plain": [
       "(106, 17316)"
      ]
     },
     "execution_count": 69,
     "metadata": {},
     "output_type": "execute_result"
    }
   ],
   "source": [
    "preds_test.shape"
   ]
  },
  {
   "cell_type": "code",
   "execution_count": 70,
   "id": "0ce0a569-aed6-42db-afa8-83819760c033",
   "metadata": {},
   "outputs": [
    {
     "data": {
      "image/png": "[encoded data removed]",
      "text/plain": [
       "<Figure size 1500x1500 with 16 Axes>"
      ]
     },
     "metadata": {},
     "output_type": "display_data"
    }
   ],
   "source": [
    "random_idx = random.sample(range(y_test.shape[0]), k = 16)\n",
    "fig, axs = plt.subplots(8, 2,figsize=(15, 15))\n",
    "axs = axs.ravel()\n",
    "for idx, i in enumerate(random_idx):\n",
    "    # print(counter)\n",
    "    truth = y_test[i,:]\n",
    "    preds = preds_test[:, i]\n",
    "    percts = np.percentile(preds, axis = 0, q = (2.5, 97.5))\n",
    "    lis = percts[0]\n",
    "    uis = percts[1]\n",
    "    \n",
    "    \n",
    "    axs[idx].hist(preds)\n",
    "    axs[idx].axvline(truth, color='green', linewidth=2)\n",
    "    axs[idx].axvline(lis, color='red', linewidth=2)\n",
    "    axs[idx].axvline(uis, color='red', linewidth=2)\n",
    "\n",
    "# plt.title\n",
    "fig.savefig('gcn_cdr_pred_intervals.png', bbox_inches='tight')\n",
    "plt.show()\n"
   ]
  },
  {
   "cell_type": "code",
   "execution_count": 71,
   "id": "b6080aac-5298-4b62-94cc-a4032a04b0ad",
   "metadata": {},
   "outputs": [
    {
     "data": {
      "image/png": "[encoded data removed]",
      "text/plain": [
       "<Figure size 640x480 with 1 Axes>"
      ]
     },
     "metadata": {},
     "output_type": "display_data"
    }
   ],
   "source": [
    "plt.plot(train_rmse)\n",
    "plt.plot(test_rmse)\n",
    "plt.xlabel(\"Update Iteration\", fontsize = 15, fontweight = \"bold\")\n",
    "plt.ylabel(\"RMSE\", fontsize = 15, fontweight = \"bold\")\n",
    "plt.xticks( fontsize = 10, fontweight = \"bold\")\n",
    "plt.yticks( fontsize = 10, fontweight = \"bold\")\n",
    "plt.show()"
   ]
  },
  {
   "cell_type": "code",
   "execution_count": 72,
   "id": "31471813-3497-4224-acf3-2bd150a35690",
   "metadata": {},
   "outputs": [],
   "source": [
    "# plt.hist(y_train)\n",
    "# plt.show()"
   ]
  },
  {
   "cell_type": "code",
   "execution_count": 73,
   "id": "26cbcc74-a96c-45c2-9e18-c15480f2be2a",
   "metadata": {},
   "outputs": [
    {
     "data": {
      "image/png": "[encoded data removed]",
      "text/plain": [
       "<Figure size 640x480 with 1 Axes>"
      ]
     },
     "metadata": {},
     "output_type": "display_data"
    }
   ],
   "source": [
    "plt.hist(y_test)\n",
    "plt.show()"
   ]
  },
  {
   "cell_type": "code",
   "execution_count": 74,
   "id": "4bbe51b0-156c-4cec-8a6e-0318f25773a9",
   "metadata": {},
   "outputs": [
    {
     "name": "stderr",
     "output_type": "stream",
     "text": [
      "[Parallel(n_jobs=14)]: Using backend LokyBackend with 14 concurrent workers.\n"
     ]
    },
    {
     "name": "stdout",
     "output_type": "stream",
     "text": [
      "test_coverage0.9253291753291754\n",
      "test_width6.943259573120972\n",
      "rmse_test1.6558521390006649\n",
      "weights\n",
      "[0.3534551541190686, 0.6465448458809315]\n",
      "\n",
      "\n",
      "test_coverage0.9963039963039964\n",
      "test_width13.615667435234831\n",
      "rmse_test1.6809585303951837\n",
      "weights\n",
      "[0.16666098470503518, 0.8333390152949648]\n",
      "\n",
      "\n",
      "test_coverage0.8046315546315547\n",
      "test_width4.433217797724191\n",
      "rmse_test1.6559158166620478\n",
      "weights\n",
      "[0.49490567181675094, 0.5050943281832492]\n",
      "\n",
      "\n",
      "test_coverage0.8592053592053592\n",
      "test_width5.047586123190896\n",
      "rmse_test1.624181274632958\n",
      "weights\n",
      "[0.6327995249512899, 0.36720047504871023]\n",
      "\n",
      "\n",
      "test_coverage0.8945483945483945\n",
      "test_width5.634063695173289\n",
      "rmse_test1.6321480504698633\n",
      "weights\n",
      "[0.45980052054271586, 0.5401994794572842]\n",
      "\n",
      "\n",
      "test_coverage0.6968699468699469\n",
      "test_width3.4114641046858987\n",
      "rmse_test1.625042010645317\n",
      "weights\n",
      "[0.9038667837358546, 0.09613321626414542]\n",
      "\n",
      "\n",
      "test_coverage0.732963732963733\n",
      "test_width3.754594550915974\n",
      "rmse_test1.61337828423194\n",
      "weights\n",
      "[0.8819004381660529, 0.11809956183394717]\n",
      "\n",
      "\n",
      "test_coverage0.9632709632709633\n",
      "test_width8.81932287294358\n",
      "rmse_test1.6557511850244968\n",
      "weights\n",
      "[0.13603114486950535, 0.8639688551304947]\n",
      "\n",
      "\n",
      "test_coverage0.7068029568029568\n",
      "test_width3.5272006210132547\n",
      "rmse_test1.6200051210337076\n",
      "weights\n",
      "[0.969075465963229, 0.030924534036770885]\n",
      "\n",
      "\n",
      "test_coverage0.9997689997689998\n",
      "test_width26.483684613720648\n",
      "rmse_test1.7412065754524362\n",
      "weights\n",
      "[0.010660761222205065, 0.989339238777795]\n",
      "\n",
      "\n",
      "test_coverage0.7117694617694618\n",
      "test_width3.5439691095838755\n",
      "rmse_test1.6185899313045036\n",
      "weights\n",
      "[0.6574142864099317, 0.34258571359006823]\n",
      "\n",
      "\n",
      "test_coverage0.7633402633402634\n",
      "test_width3.9532789011490235\n",
      "rmse_test1.6180593840429611\n",
      "weights\n",
      "[0.7968187369104354, 0.20318126308956472]\n",
      "\n",
      "\n",
      "test_coverage0.7739662739662739\n",
      "test_width4.178883838976972\n",
      "rmse_test1.6211027209538986\n",
      "weights\n",
      "[0.6799729795503322, 0.3200270204496679]\n",
      "\n",
      "\n"
     ]
    },
    {
     "name": "stderr",
     "output_type": "stream",
     "text": [
      "[Parallel(n_jobs=14)]: Done  13 tasks      | elapsed: 26.4min\n"
     ]
    },
    {
     "name": "stdout",
     "output_type": "stream",
     "text": [
      "test_coverage0.774081774081774\n",
      "test_width4.337903325058994\n",
      "rmse_test1.6327180412787803\n",
      "weights\n",
      "[0.9905731320057622, 0.009426867994237748]\n",
      "\n",
      "\n",
      "test_coverage0.7540425040425041\n",
      "test_width4.077337018941262\n",
      "rmse_test1.6240662450200443\n",
      "weights\n",
      "[0.9501035667880345, 0.049896433211965595]\n",
      "\n",
      "\n",
      "test_coverage0.9083506583506583\n",
      "test_width6.8940916781190325\n",
      "rmse_test1.6283972322257214\n",
      "weights\n",
      "[0.2873366866823994, 0.7126633133176006]\n",
      "\n",
      "\n",
      "test_coverage0.7055902055902056\n",
      "test_width3.434188277122641\n",
      "rmse_test1.6222622394213162\n",
      "weights\n",
      "[0.9361812863793627, 0.06381871362063732]\n",
      "\n",
      "\n",
      "test_coverage0.7064564564564565\n",
      "test_width3.654705618803631\n",
      "rmse_test1.6571440452556043\n",
      "weights\n",
      "[0.9645161783148145, 0.03548382168518545]\n",
      "\n",
      "\n",
      "test_coverage0.6976206976206977\n",
      "test_width3.5145902610864126\n",
      "rmse_test1.6222968970104459\n",
      "weights\n",
      "[0.9612207095000185, 0.03877929049998145]\n",
      "\n",
      "\n",
      "test_coverage0.7057057057057057\n",
      "test_width3.5411762749533797\n",
      "rmse_test1.6124138402160062\n",
      "weights\n",
      "[0.8833871554992533, 0.1166128445007468]\n",
      "\n",
      "\n",
      "test_coverage0.7710787710787711\n",
      "test_width4.284172959171297\n",
      "rmse_test1.6260625951613883\n",
      "weights\n",
      "[0.9734461917237018, 0.02655380827629823]\n",
      "\n",
      "\n",
      "test_coverage0.6772926772926773\n",
      "test_width3.282598339988312\n",
      "rmse_test1.616630550742957\n",
      "weights\n",
      "[0.9429645626346153, 0.057035437365384835]\n",
      "\n",
      "\n",
      "test_coverage0.7247054747054748\n",
      "test_width3.8526358167154253\n",
      "rmse_test1.6350723617963412\n",
      "weights\n",
      "[0.9647205086878942, 0.035279491312106]\n",
      "\n",
      "\n",
      "test_coverage0.7302494802494802\n",
      "test_width3.767961064723012\n",
      "rmse_test1.6172332417874173\n",
      "weights\n",
      "[0.9118414899153263, 0.08815851008467385]\n",
      "\n",
      "\n",
      "test_coverage0.7130977130977131\n",
      "test_width3.5264885903172476\n",
      "rmse_test1.6279266270562305\n",
      "weights\n",
      "[0.8485373662856379, 0.15146263371436225]\n",
      "\n",
      "\n",
      "test_coverage0.8447678447678447\n",
      "test_width4.826029718193911\n",
      "rmse_test1.6273817181054053\n",
      "weights\n",
      "[0.4368628148058955, 0.5631371851941045]\n",
      "\n",
      "\n",
      "test_coverage0.6587549087549087\n",
      "test_width3.2899040376536264\n",
      "rmse_test1.623891670613375\n",
      "weights\n",
      "[0.9750608435665992, 0.024939156433400802]\n",
      "\n",
      "\n",
      "test_coverage0.9434626934626935\n",
      "test_width7.78264570648379\n",
      "rmse_test1.6503498490211326\n",
      "weights\n",
      "[0.22336871502038333, 0.7766312849796166]\n",
      "\n",
      "\n",
      "test_coverage0.7450912450912451\n",
      "test_width3.7784945055585073\n",
      "rmse_test1.6246765774904421\n",
      "weights\n",
      "[0.828599021775504, 0.1714009782244961]\n",
      "\n",
      "\n",
      "test_coverage0.9816354816354816\n",
      "test_width11.944677534943287\n",
      "rmse_test1.6695522967617418\n",
      "weights\n",
      "[0.06372336521839936, 0.9362766347816007]\n",
      "\n",
      "\n"
     ]
    },
    {
     "name": "stderr",
     "output_type": "stream",
     "text": [
      "[Parallel(n_jobs=14)]: Done  30 out of  50 | elapsed: 52.4min remaining: 34.9min\n"
     ]
    },
    {
     "name": "stdout",
     "output_type": "stream",
     "text": [
      "test_coverage0.8395125895125896\n",
      "test_width4.899979000262688\n",
      "rmse_test1.631421543497185\n",
      "weights\n",
      "[0.5413371848606677, 0.4586628151393322]\n",
      "\n",
      "\n",
      "test_coverage0.6768306768306769\n",
      "test_width3.3196643961044145\n",
      "rmse_test1.6232223251304632\n",
      "weights\n",
      "[0.9286801783584104, 0.07131982164158963]\n",
      "\n",
      "\n",
      "test_coverage0.6705936705936706\n",
      "test_width3.4627052793992354\n",
      "rmse_test1.620601019838116\n",
      "weights\n",
      "[0.9503662695287053, 0.04963373047129463]\n",
      "\n",
      "\n",
      "test_coverage0.6232963732963733\n",
      "test_width3.0328143041173283\n",
      "rmse_test1.6331407053876679\n",
      "weights\n",
      "[0.9369542887935911, 0.06304571120640894]\n",
      "\n",
      "\n",
      "test_coverage0.9995379995379995\n",
      "test_width22.06190834840229\n",
      "rmse_test1.6596511136665952\n",
      "weights\n",
      "[0.04015329302580463, 0.9598467069741953]\n",
      "\n",
      "\n",
      "test_coverage0.9765534765534766\n",
      "test_width10.35891829921782\n",
      "rmse_test1.6592465314682212\n",
      "weights\n",
      "[0.1894314222158199, 0.8105685777841801]\n",
      "\n",
      "\n",
      "test_coverage0.8201663201663202\n",
      "test_width4.739712328550475\n",
      "rmse_test1.6625749010896806\n",
      "weights\n",
      "[0.5278461697583475, 0.47215383024165253]\n",
      "\n",
      "\n"
     ]
    },
    {
     "name": "stderr",
     "output_type": "stream",
     "text": [
      "[Parallel(n_jobs=14)]: Done  37 out of  50 | elapsed: 59.8min remaining: 21.0min\n"
     ]
    },
    {
     "name": "stdout",
     "output_type": "stream",
     "text": [
      "test_coverage0.7732155232155232\n",
      "test_width4.361077175570383\n",
      "rmse_test1.6273721930513287\n",
      "weights\n",
      "[0.9541731821851599, 0.045826817814840166]\n",
      "\n",
      "\n",
      "test_coverage0.8420535920535921\n",
      "test_width4.864018622568342\n",
      "rmse_test1.6373014056021404\n",
      "weights\n",
      "[0.6150177332906018, 0.3849822667093983]\n",
      "\n",
      "\n",
      "test_coverage0.6391776391776391\n",
      "test_width3.177626220902896\n",
      "rmse_test1.6448848719195999\n",
      "weights\n",
      "[0.9439615029869856, 0.0560384970130145]\n",
      "\n",
      "\n",
      "test_coverage0.8288865788865789\n",
      "test_width4.703244328606167\n",
      "rmse_test1.6276036148368709\n",
      "weights\n",
      "[0.3916828100495548, 0.6083171899504453]\n",
      "\n",
      "\n",
      "test_coverage0.7404134904134904\n",
      "test_width3.758480749944813\n",
      "rmse_test1.6204006982555688\n",
      "weights\n",
      "[0.8784497779384113, 0.12155022206158875]\n",
      "\n",
      "\n",
      "test_coverage0.7427812427812428\n",
      "test_width3.768674597663573\n",
      "rmse_test1.6262224006047388\n",
      "weights\n",
      "[0.9801335206290479, 0.01986647937095229]\n",
      "\n",
      "\n",
      "test_coverage0.7417994917994918\n",
      "test_width3.9608481982188772\n",
      "rmse_test1.6509602092789932\n",
      "weights\n",
      "[0.9449365621609671, 0.05506343783903294]\n",
      "\n",
      "\n"
     ]
    },
    {
     "name": "stderr",
     "output_type": "stream",
     "text": [
      "[Parallel(n_jobs=14)]: Done  44 out of  50 | elapsed: 66.7min remaining:  9.1min\n"
     ]
    },
    {
     "name": "stdout",
     "output_type": "stream",
     "text": [
      "test_coverage0.8660776160776161\n",
      "test_width5.5620262792712225\n",
      "rmse_test1.6340227358480175\n",
      "weights\n",
      "[0.2970382355670179, 0.7029617644329821]\n",
      "\n",
      "\n",
      "test_coverage0.7703280203280203\n",
      "test_width4.065015400937456\n",
      "rmse_test1.6178151991008494\n",
      "weights\n",
      "[0.61760785058834, 0.38239214941166016]\n",
      "\n",
      "\n",
      "test_coverage0.9965349965349966\n",
      "test_width15.333095559451083\n",
      "rmse_test1.7075721913239548\n",
      "weights\n",
      "[0.12138269864433614, 0.878617301355664]\n",
      "\n",
      "\n",
      "test_coverage0.9343959343959344\n",
      "test_width7.228024981643053\n",
      "rmse_test1.636238626129431\n",
      "weights\n",
      "[0.27499528400285855, 0.7250047159971414]\n",
      "\n",
      "\n",
      "test_coverage0.817971817971818\n",
      "test_width4.674831671958951\n",
      "rmse_test1.616129640049626\n",
      "weights\n",
      "[0.8761657874653923, 0.12383421253460779]\n",
      "\n",
      "\n",
      "test_coverage0.7502310002310002\n",
      "test_width3.9078414312765535\n",
      "rmse_test1.628546542769461\n",
      "weights\n",
      "[0.8773791455979365, 0.12262085440206352]\n",
      "\n",
      "\n"
     ]
    },
    {
     "name": "stderr",
     "output_type": "stream",
     "text": [
      "[Parallel(n_jobs=14)]: Done  50 out of  50 | elapsed: 75.3min finished\n"
     ]
    }
   ],
   "source": [
    "catch = Parallel(n_jobs = 14, verbose = 8, backend = \"loky\")(delayed(get_results)(idx, var_weights = 1.0, var_weight_weights = 1.0, var_D = 1, inflation_factor =1, fudging_beta = beta(1,19), \n",
    "           fudging_var = 1*1e-2, print_true = False) for idx in range(0,50))"
   ]
  },
  {
   "cell_type": "code",
   "execution_count": 75,
   "id": "5eca3f9c-a1cc-4588-9c0c-c85b478c3fd2",
   "metadata": {},
   "outputs": [],
   "source": [
    "with open(\"..//Data//DualGCN_run_plots_from_jupyter.pickle\", \"wb\") as f: \n",
    "    pickle.dump(catch, f)"
   ]
  },
  {
   "cell_type": "code",
   "execution_count": 76,
   "id": "e1b0f4df-a1c3-4a85-98dd-5b707f61aa87",
   "metadata": {},
   "outputs": [],
   "source": [
    "with open(\"..//Data//DualGCN_run_plots_from_jupyter.pickle\", \"rb\") as f: \n",
    "    catch = pickle.load(f)"
   ]
  },
  {
   "cell_type": "code",
   "execution_count": 83,
   "id": "7803a912-970f-4681-894f-1aff70f9d411",
   "metadata": {},
   "outputs": [],
   "source": [
    "all_metrics = []\n",
    "all_weights = []\n",
    "for i in range(0,50):\n",
    "    item = catch[i]\n",
    "    metrics = item[:7]\n",
    "    weights = item[-8:-6]\n",
    "    all_metrics.append(metrics)\n",
    "    all_weights.append(weights)\n",
    "    "
   ]
  },
  {
   "cell_type": "code",
   "execution_count": 84,
   "id": "f56d08b5-1e2d-473c-8232-c589f0b5f2d9",
   "metadata": {},
   "outputs": [],
   "source": [
    "all_metrics_df = pd.DataFrame(all_metrics)"
   ]
  },
  {
   "cell_type": "code",
   "execution_count": 85,
   "id": "a86989d6-ee4e-4729-984d-049b538a6df4",
   "metadata": {},
   "outputs": [],
   "source": [
    "all_weights_df = pd.DataFrame(all_weights)"
   ]
  },
  {
   "cell_type": "code",
   "execution_count": 86,
   "id": "29cea438-9622-4de1-9291-8032a4e7a95e",
   "metadata": {},
   "outputs": [],
   "source": [
    "all_df = pd.concat([all_metrics_df, all_weights_df], axis = 1)"
   ]
  },
  {
   "cell_type": "code",
   "execution_count": 87,
   "id": "3b6a4258-046d-4bc3-b82a-a3e36144a5d2",
   "metadata": {},
   "outputs": [],
   "source": [
    "all_df.columns = ['train_width', 'coverage_train', 'rmse_train', 'test_width', 'coverage_test', 'rmse_test', 'pearson_r', \n",
    "                   \"DualGCN_Drugs\", \"DualGCN_Omics\"]"
   ]
  },
  {
   "cell_type": "code",
   "execution_count": 88,
   "id": "39e348d2-807a-4f15-a623-4083bc9734cd",
   "metadata": {},
   "outputs": [
    {
     "data": {
      "text/plain": [
       "train_width       5.901089\n",
       "coverage_train    0.808939\n",
       "rmse_train        1.597012\n",
       "test_width        5.887526\n",
       "coverage_test     0.798422\n",
       "rmse_test         1.636904\n",
       "pearson_r         0.816330\n",
       "DualGCN_Drugs     0.663470\n",
       "DualGCN_Omics     0.336530\n",
       "dtype: float64"
      ]
     },
     "execution_count": 88,
     "metadata": {},
     "output_type": "execute_result"
    }
   ],
   "source": [
    "all_df.mean()"
   ]
  },
  {
   "cell_type": "code",
   "execution_count": 89,
   "id": "102a8e64-74ce-4478-b72e-5e32027c6523",
   "metadata": {},
   "outputs": [
    {
     "data": {
      "text/plain": [
       "train_width       4.632185\n",
       "coverage_train    0.103790\n",
       "rmse_train        0.034404\n",
       "test_width        4.649194\n",
       "coverage_test     0.107957\n",
       "rmse_test         0.024417\n",
       "pearson_r         0.006169\n",
       "DualGCN_Drugs     0.321634\n",
       "DualGCN_Omics     0.321634\n",
       "dtype: float64"
      ]
     },
     "execution_count": 89,
     "metadata": {},
     "output_type": "execute_result"
    }
   ],
   "source": [
    "all_df.std()"
   ]
  },
  {
   "cell_type": "code",
   "execution_count": 90,
   "id": "1c957b44-ee1e-4f39-853f-2208d12dcd7a",
   "metadata": {},
   "outputs": [],
   "source": [
    "with open(\"..//Data//DualGCN_run_plot_from_jupyter_test_features_and_ground_truth.pickle\", \"wb\") as f: \n",
    "    pickle.dump(current_test, f)"
   ]
  },
  {
   "cell_type": "code",
   "execution_count": 91,
   "id": "32990a2e-3c2d-45c8-90ab-81ac0c0df321",
   "metadata": {},
   "outputs": [],
   "source": [
    "add_preds = np.zeros((y_test.shape[0], y_test.shape[1]))\n",
    "for item in catch: \n",
    "    preds = item[-4]\n",
    "    add_preds+= preds"
   ]
  },
  {
   "cell_type": "code",
   "execution_count": 92,
   "id": "7c1890d9-b524-4d08-9d16-4261858ba175",
   "metadata": {},
   "outputs": [],
   "source": [
    "averaged_preds = add_preds/50"
   ]
  },
  {
   "cell_type": "code",
   "execution_count": 93,
   "id": "20a4a369-6b96-471d-9874-179046a69305",
   "metadata": {},
   "outputs": [],
   "source": [
    "from sklearn.metrics import mean_squared_error"
   ]
  },
  {
   "cell_type": "code",
   "execution_count": 94,
   "id": "23a9b5f7-3cb7-43a4-a6d4-4364944c90ec",
   "metadata": {},
   "outputs": [],
   "source": [
    "mse = mean_squared_error(y_test, averaged_preds)"
   ]
  },
  {
   "cell_type": "code",
   "execution_count": 95,
   "id": "38cfb4cd-fc54-4017-9fd3-09eb88180644",
   "metadata": {},
   "outputs": [
    {
     "data": {
      "text/plain": [
       "1.6040386866584773"
      ]
     },
     "execution_count": 95,
     "metadata": {},
     "output_type": "execute_result"
    }
   ],
   "source": [
    "np.sqrt(mse)"
   ]
  },
  {
   "cell_type": "code",
   "execution_count": 96,
   "id": "2a2e02d4-c724-4b47-939e-a8def7bcd0d1",
   "metadata": {},
   "outputs": [],
   "source": [
    "from scipy.stats import pearsonr"
   ]
  },
  {
   "cell_type": "code",
   "execution_count": 97,
   "id": "87169971-f289-4997-afb5-fa88e4557fd8",
   "metadata": {},
   "outputs": [],
   "source": [
    "pearsonr_test = pearsonr(y_test.reshape(y_test.shape[0],), \n",
    "                                 averaged_preds.reshape(averaged_preds.shape[0],))"
   ]
  },
  {
   "cell_type": "code",
   "execution_count": 98,
   "id": "68af50b8-d528-42d7-8269-9c2d23b071c9",
   "metadata": {},
   "outputs": [
    {
     "data": {
      "text/plain": [
       "0.8240402138733949"
      ]
     },
     "execution_count": 98,
     "metadata": {},
     "output_type": "execute_result"
    }
   ],
   "source": [
    "pearsonr_test.statistic"
   ]
  },
  {
   "cell_type": "code",
   "execution_count": 99,
   "id": "d91d877d-3b79-4193-a141-f6004ac885da",
   "metadata": {},
   "outputs": [],
   "source": [
    "all_li = np.zeros((y_test.shape[0], len(catch)))\n",
    "all_ui = np.zeros((y_test.shape[0], len(catch)))\n",
    "for i, item in enumerate(catch): \n",
    "    preds = item[-3:-1]\n",
    "    all_li[:,i] =  preds[0][:,0]\n",
    "    all_ui[:,i] =  preds[1][:,0]"
   ]
  },
  {
   "cell_type": "code",
   "execution_count": 100,
   "id": "f5089183-8d94-466d-bd73-af14f6ae2830",
   "metadata": {},
   "outputs": [],
   "source": [
    "li = np.median(all_li, axis = 1).reshape(-1,1)"
   ]
  },
  {
   "cell_type": "code",
   "execution_count": 101,
   "id": "58675286-f0b6-4f14-a8ef-20c9e6e8f102",
   "metadata": {},
   "outputs": [],
   "source": [
    "li_mean = np.mean(all_li, axis = 1).reshape(-1,1)"
   ]
  },
  {
   "cell_type": "code",
   "execution_count": 102,
   "id": "109290f7-4c0d-45c3-9834-540b46d52392",
   "metadata": {},
   "outputs": [],
   "source": [
    "ui = np.median(all_ui, axis = 1).reshape(-1,1)"
   ]
  },
  {
   "cell_type": "code",
   "execution_count": 103,
   "id": "14255998-48fe-48cc-b992-d6244926d247",
   "metadata": {},
   "outputs": [],
   "source": [
    "ui_mean = np.mean(all_ui, axis = 1).reshape(-1,1)"
   ]
  },
  {
   "cell_type": "code",
   "execution_count": 104,
   "id": "bf5bb058-8648-472b-9505-6072356fefb1",
   "metadata": {},
   "outputs": [],
   "source": [
    "combo = np.hstack((y_test, li, ui))"
   ]
  },
  {
   "cell_type": "code",
   "execution_count": 105,
   "id": "653bc42b-fc5d-4d16-a5db-8195914b0018",
   "metadata": {},
   "outputs": [],
   "source": [
    "combo_mean = np.hstack((y_test, li_mean, ui_mean))"
   ]
  },
  {
   "cell_type": "code",
   "execution_count": 106,
   "id": "f3ea0538-b13e-48df-9cf5-5aad2d71aaee",
   "metadata": {},
   "outputs": [],
   "source": [
    "combo_mean_df = pd.DataFrame(combo_mean)"
   ]
  },
  {
   "cell_type": "code",
   "execution_count": 107,
   "id": "6b09978a-79d6-4ada-85d8-c06f9acccda3",
   "metadata": {},
   "outputs": [],
   "source": [
    "combo_mean_df.columns = [\"IC50\", \"LI_IC50_Pred\", \"UI_IC50_Pred\"]"
   ]
  },
  {
   "cell_type": "code",
   "execution_count": 108,
   "id": "21b791a5-3d29-439e-be7b-8a294d5d841e",
   "metadata": {},
   "outputs": [],
   "source": [
    "combo_mean_df[\"coverage\"] = (combo_mean_df[\"IC50\"] >= combo_mean_df[\"LI_IC50_Pred\"]) & (combo_mean_df[\"IC50\"] <= combo_mean_df[\"UI_IC50_Pred\"])"
   ]
  },
  {
   "cell_type": "code",
   "execution_count": 109,
   "id": "4a2bba6a-0d26-49ea-9a9f-cf8287c53ba1",
   "metadata": {},
   "outputs": [
    {
     "data": {
      "text/plain": [
       "0.917070917070917"
      ]
     },
     "execution_count": 109,
     "metadata": {},
     "output_type": "execute_result"
    }
   ],
   "source": [
    "combo_mean_df[\"coverage\"].mean()"
   ]
  },
  {
   "cell_type": "code",
   "execution_count": 110,
   "id": "31e882fa-bf0a-4b10-8947-bfa229e5ddf8",
   "metadata": {},
   "outputs": [],
   "source": [
    "combo_mean_df[\"width\"] = combo_mean_df[\"UI_IC50_Pred\"]-combo_mean_df[\"LI_IC50_Pred\"]"
   ]
  },
  {
   "cell_type": "code",
   "execution_count": 111,
   "id": "8a97fe02-3c5c-4741-9c3f-3f00a453da8a",
   "metadata": {},
   "outputs": [
    {
     "data": {
      "text/plain": [
       "5.8875260227866955"
      ]
     },
     "execution_count": 111,
     "metadata": {},
     "output_type": "execute_result"
    }
   ],
   "source": [
    "combo_mean_df[\"width\"].mean()"
   ]
  },
  {
   "cell_type": "code",
   "execution_count": 112,
   "id": "01e41c62-1583-4392-a9cd-ef77a6ac8dc3",
   "metadata": {},
   "outputs": [],
   "source": [
    "combo_df = pd.DataFrame(combo)"
   ]
  },
  {
   "cell_type": "code",
   "execution_count": 113,
   "id": "306db478-30aa-408b-8320-5ed28e570055",
   "metadata": {},
   "outputs": [],
   "source": [
    "combo_df.columns = [\"IC50\", \"LI_IC50_Pred\", \"UI_IC50_Pred\"]"
   ]
  },
  {
   "cell_type": "code",
   "execution_count": 114,
   "id": "9d8484b6-db06-4877-8a29-ef6bd2723483",
   "metadata": {},
   "outputs": [],
   "source": [
    "combo_df = combo_df.sort_values(\"IC50\").reset_index(drop = True)"
   ]
  },
  {
   "cell_type": "code",
   "execution_count": 115,
   "id": "910abb96-399c-4ba2-9abf-e5c921849f3e",
   "metadata": {},
   "outputs": [],
   "source": [
    "combo_df[\"coverage\"] = (combo_df[\"IC50\"] >= combo_df[\"LI_IC50_Pred\"]) & (combo_df[\"IC50\"] <= combo_df[\"UI_IC50_Pred\"])"
   ]
  },
  {
   "cell_type": "code",
   "execution_count": 116,
   "id": "9cb78442-aa5c-4ee3-8365-7346b279bb91",
   "metadata": {},
   "outputs": [
    {
     "data": {
      "text/plain": [
       "0.8014553014553014"
      ]
     },
     "execution_count": 116,
     "metadata": {},
     "output_type": "execute_result"
    }
   ],
   "source": [
    "combo_df[\"coverage\"].mean()"
   ]
  },
  {
   "cell_type": "code",
   "execution_count": 117,
   "id": "61175ea8-32f1-4c12-b8a2-6dc537c40873",
   "metadata": {},
   "outputs": [],
   "source": [
    "combo_df[\"width\"] = combo_df[\"UI_IC50_Pred\"]-combo_df[\"LI_IC50_Pred\"]"
   ]
  },
  {
   "cell_type": "code",
   "execution_count": 118,
   "id": "ddee9706-5538-4f72-9434-24496ca50c24",
   "metadata": {},
   "outputs": [
    {
     "data": {
      "text/plain": [
       "4.232527822723568"
      ]
     },
     "execution_count": 118,
     "metadata": {},
     "output_type": "execute_result"
    }
   ],
   "source": [
    "combo_df[\"width\"].mean()"
   ]
  }
 ],
 "metadata": {
  "kernelspec": {
   "display_name": "enkf",
   "language": "python",
   "name": "enkf"
  },
  "language_info": {
   "codemirror_mode": {
    "name": "ipython",
    "version": 3
   },
   "file_extension": ".py",
   "mimetype": "text/x-python",
   "name": "python",
   "nbconvert_exporter": "python",
   "pygments_lexer": "ipython3",
   "version": "3.11.3"
  }
 },
 "nbformat": 4,
 "nbformat_minor": 5
}
