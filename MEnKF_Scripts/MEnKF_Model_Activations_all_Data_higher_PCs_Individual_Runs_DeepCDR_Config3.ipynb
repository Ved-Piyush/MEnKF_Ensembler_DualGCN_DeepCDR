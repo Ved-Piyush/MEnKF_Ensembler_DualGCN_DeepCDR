{
 "cells": [
  {
   "cell_type": "code",
   "execution_count": 1,
   "id": "aa53e19a-64db-4b1d-9378-c19c8efacd62",
   "metadata": {},
   "outputs": [
    {
     "name": "stderr",
     "output_type": "stream",
     "text": [
      "2023-07-18 07:44:58.861287: I tensorflow/core/util/port.cc:110] oneDNN custom operations are on. You may see slightly different numerical results due to floating-point round-off errors from different computation orders. To turn them off, set the environment variable `TF_ENABLE_ONEDNN_OPTS=0`.\n",
      "2023-07-18 07:44:58.864475: I tensorflow/tsl/cuda/cudart_stub.cc:28] Could not find cuda drivers on your machine, GPU will not be used.\n",
      "2023-07-18 07:44:58.903568: I tensorflow/tsl/cuda/cudart_stub.cc:28] Could not find cuda drivers on your machine, GPU will not be used.\n",
      "2023-07-18 07:44:58.904742: I tensorflow/core/platform/cpu_feature_guard.cc:182] This TensorFlow binary is optimized to use available CPU instructions in performance-critical operations.\n",
      "To enable the following instructions: AVX2 AVX512F AVX512_VNNI FMA, in other operations, rebuild TensorFlow with the appropriate compiler flags.\n",
      "2023-07-18 07:44:59.602573: W tensorflow/compiler/tf2tensorrt/utils/py_utils.cc:38] TF-TRT Warning: Could not find TensorRT\n"
     ]
    }
   ],
   "source": [
    "import pandas as pd\n",
    "import numpy as np\n",
    "from sklearn.model_selection import KFold\n",
    "from sklearn.feature_selection import VarianceThreshold\n",
    "import random\n",
    "import pickle\n",
    "from sklearn.preprocessing import StandardScaler\n",
    "import os\n",
    "import tensorflow as tf\n",
    "from tqdm.notebook import tqdm\n",
    "from scipy.stats import multivariate_normal as mvn\n",
    "import matplotlib.pyplot as plt\n",
    "from scipy.linalg import block_diag\n",
    "import warnings\n",
    "import os\n",
    "os.environ['TF_CPP_MIN_LOG_LEVEL'] = '3' "
   ]
  },
  {
   "cell_type": "code",
   "execution_count": 2,
   "id": "a6028973-9799-4d8a-b919-a8dd6283faf1",
   "metadata": {},
   "outputs": [],
   "source": [
    "warnings.filterwarnings('ignore')"
   ]
  },
  {
   "cell_type": "code",
   "execution_count": 3,
   "id": "34242ac3-a983-4bab-b092-bfcea4f94a4b",
   "metadata": {},
   "outputs": [],
   "source": [
    "# len(weights_ann_1[0].ravel())"
   ]
  },
  {
   "cell_type": "code",
   "execution_count": 4,
   "id": "d459b853-f520-4181-a9a9-310a6dd20de1",
   "metadata": {},
   "outputs": [],
   "source": [
    "def get_targets_with_weights(batch_data, initial_ensembles, size_ens): \n",
    "    \n",
    "    target_dim = 1\n",
    "    \n",
    "    # weights_ann_1 = ann.get_weights()\n",
    "    \n",
    "    # h1  = ann.layers[1].output.shape[-1]\n",
    "\n",
    "    n_hidden_1 = len(weights_ann_1[0].ravel())\n",
    "    \n",
    "    hidden_weights_1 = initial_ensembles[:,:n_hidden_1].reshape( size_ens, batch_data.shape[1], h1)\n",
    "    \n",
    "    \n",
    "    hidden_output_1 = np.einsum('ij,kjl->kil', batch_data, hidden_weights_1)\n",
    "\n",
    "    \n",
    "    hidden_layer_bias_1 = initial_ensembles[:,n_hidden_1:(n_hidden_1 + h1)].reshape(size_ens, 1,  h1)\n",
    "\n",
    "\n",
    "    hidden_output_1 = hidden_output_1 + hidden_layer_bias_1\n",
    "\n",
    "    n_pred_weights_1 = len(weights_ann_1[2].ravel())\n",
    "\n",
    "    output_weights_1 = initial_ensembles[:,(n_hidden_1 + h1):(n_hidden_1 + h1 + n_pred_weights_1) ].reshape(size_ens, h1, target_dim)\n",
    "\n",
    "\n",
    "    output_1 = np.einsum('ijk,ikl->ijl', hidden_output_1, output_weights_1)\n",
    "\n",
    "\n",
    "    output_layer_bias_1 = initial_ensembles[:,(n_hidden_1 + h1 + n_pred_weights_1):(n_hidden_1 + h1 + n_pred_weights_1 + target_dim)].reshape(size_ens, 1, target_dim)\n",
    "\n",
    "\n",
    "    final_output_1 = output_1 + output_layer_bias_1\n",
    "    \n",
    "    final_output_1 = final_output_1[:,:, 0]\n",
    "    \n",
    "    # print(final_output_1.shape, initial_ensembles.shape)\n",
    "    \n",
    "    stack = np.hstack((final_output_1, initial_ensembles))\n",
    "\n",
    "    \n",
    "    return final_output_1, stack"
   ]
  },
  {
   "cell_type": "code",
   "execution_count": 5,
   "id": "2a66ee4c-4112-4dca-a9cc-68a60d4e316f",
   "metadata": {},
   "outputs": [],
   "source": [
    "def ann(hidden = 32, input_shape = 256, output_shape = 1): \n",
    "    input_layer = tf.keras.layers.Input(shape = (input_shape))\n",
    "    hidden_layer = tf.keras.layers.Dense(hidden)\n",
    "    hidden_output = hidden_layer(input_layer)\n",
    "    pred_layer = tf.keras.layers.Dense(output_shape, activation = \"relu\")\n",
    "    pred_output = pred_layer(hidden_output)\n",
    "#     pred_output = tf.keras.layers.Activation(\"softmax\")(pred_output)\n",
    "    model = tf.keras.models.Model(input_layer, pred_output)\n",
    "    return model"
   ]
  },
  {
   "cell_type": "code",
   "execution_count": 6,
   "id": "e0b9ef03-af61-4ce4-99ff-2f0b5dca639d",
   "metadata": {},
   "outputs": [],
   "source": [
    "def generate_initial_ensembles(num_weights, lambda1, size_ens):\n",
    "    mean_vec = np.zeros((num_weights,))\n",
    "    cov_matrix = lambda1*np.identity(num_weights)\n",
    "    mvn_samp = mvn(mean_vec, cov_matrix)\n",
    "    return mvn_samp.rvs(size_ens)"
   ]
  },
  {
   "cell_type": "code",
   "execution_count": 7,
   "id": "fe2ea2b5-13a4-41c4-8257-c6c18708501b",
   "metadata": {},
   "outputs": [],
   "source": [
    "def expit(x):\n",
    "    \"\"\"Compute softmax values for each sets of scores in x.\"\"\"\n",
    "#     e_x = np.exp(x - np.max(x))\n",
    "    return 1 / (1 + np.exp(-x))"
   ]
  },
  {
   "cell_type": "code",
   "execution_count": 8,
   "id": "758ac30a-bcc7-4b5e-9314-7fb85f284f70",
   "metadata": {},
   "outputs": [],
   "source": [
    "samp_ann =  ann(hidden = 8, input_shape = 64, output_shape = 1)"
   ]
  },
  {
   "cell_type": "code",
   "execution_count": 9,
   "id": "2548f2de-a4c3-4850-b5cc-439634f5c4de",
   "metadata": {},
   "outputs": [],
   "source": [
    "weights_ann_1 = samp_ann.get_weights()"
   ]
  },
  {
   "cell_type": "code",
   "execution_count": 10,
   "id": "1338dc89-5540-4867-95a6-3d0ea7639cdd",
   "metadata": {},
   "outputs": [],
   "source": [
    "h1  = samp_ann.layers[1].output.shape[-1]"
   ]
  },
  {
   "cell_type": "code",
   "execution_count": 11,
   "id": "4a92b1e3-d9c6-4ce7-959d-aef1376a29d9",
   "metadata": {},
   "outputs": [
    {
     "data": {
      "text/plain": [
       "8"
      ]
     },
     "execution_count": 11,
     "metadata": {},
     "output_type": "execute_result"
    }
   ],
   "source": [
    "h1"
   ]
  },
  {
   "cell_type": "code",
   "execution_count": 12,
   "id": "427b0370-90df-4ab4-85b9-691d082750bf",
   "metadata": {},
   "outputs": [
    {
     "data": {
      "text/plain": [
       "529"
      ]
     },
     "execution_count": 12,
     "metadata": {},
     "output_type": "execute_result"
    }
   ],
   "source": [
    "samp_ann.count_params()"
   ]
  },
  {
   "cell_type": "code",
   "execution_count": 13,
   "id": "06982568-e5c1-4712-895c-7b3d49a09040",
   "metadata": {},
   "outputs": [],
   "source": [
    "hidden_neurons = h1"
   ]
  },
  {
   "cell_type": "code",
   "execution_count": 14,
   "id": "a71c4646-23a6-45ca-9ccc-aa4c3566d8a8",
   "metadata": {},
   "outputs": [],
   "source": [
    "samp_ann_params = samp_ann.count_params()"
   ]
  },
  {
   "cell_type": "code",
   "execution_count": 15,
   "id": "b5f741d7-ba99-4803-8441-5bf2ad3d72f7",
   "metadata": {},
   "outputs": [],
   "source": [
    "def get_initial_X_t(data1, data2, size_ens, var_weights = 1.0, var_weight_weights = 4.0, var_L = 1.0, var_D = 1.0):\n",
    "    # samp_ann =  ann(hidden = hidden_neurons, input_shape = 32, output_shape = 1)\n",
    "    \n",
    "    initial_ensembles1 = generate_initial_ensembles(samp_ann_params, var_weights, size_ens)\n",
    "    data1_out1, data1_stack1 = get_targets_with_weights(data1, initial_ensembles1, size_ens = size_ens)\n",
    "    \n",
    "    initial_ensembles2 = generate_initial_ensembles(samp_ann_params, var_weights, size_ens)\n",
    "    data1_out2, data1_stack2 = get_targets_with_weights(data2, initial_ensembles2, size_ens = size_ens)\n",
    "    \n",
    "#     initial_ensembles3 = generate_initial_ensembles(samp_ann_params, var_weights, size_ens)\n",
    "#     data2_out1, data2_stack1 = get_targets_with_weights(data3, initial_ensembles3, size_ens = size_ens)\n",
    "    \n",
    "#     initial_ensembles4 = generate_initial_ensembles(samp_ann_params, var_weights, size_ens)\n",
    "#     data2_out2, data2_stack2 = get_targets_with_weights(data4, initial_ensembles4, size_ens = size_ens)   \n",
    "    \n",
    "    X_t = np.concatenate((np.expand_dims(data1_stack1, -1), np.expand_dims(data1_stack2, -1)), axis = -1)\n",
    "    \n",
    "    initial_ensembles_for_weights = generate_initial_ensembles(2, var_weight_weights, size_ens)\n",
    "    initial_ensembles_for_weights = np.expand_dims(initial_ensembles_for_weights,1)\n",
    "    \n",
    "    # initial_ensembles_for_L = generate_initial_ensembles(4, var_L, size_ens)\n",
    "    # initial_ensembles_for_L = np.expand_dims(initial_ensembles_for_L,1)    \n",
    "    \n",
    "    initial_ensembles_for_D1 = generate_initial_ensembles(1, var_D, size_ens).reshape(-1,1)\n",
    "    # initial_ensembles_for_D2 = generate_initial_ensembles(1, var_D, size_ens).reshape(-1,1)\n",
    "    \n",
    "    initial_ensembles_for_D1_zero = np.zeros((size_ens,1,1)).reshape(-1,1)\n",
    "#     initial_ensembles_for_D2_zero = np.zeros((size_ens,1,1)).reshape(-1,1)\n",
    "    \n",
    "#     initial_ensembles_for_D3_zero = np.zeros((size_ens,1,1)).reshape(-1,1)\n",
    "    \n",
    "    initial_ensembles_for_D = np.concatenate((np.expand_dims(initial_ensembles_for_D1,1),\n",
    "                                                       np.expand_dims(initial_ensembles_for_D1_zero,1)), axis = 2)\n",
    "    \n",
    "    # print(X_t.shape, initial_ensembles_for_weights.shape)\n",
    "    \n",
    "    X_t = np.concatenate((X_t, initial_ensembles_for_weights, initial_ensembles_for_D), axis = 1)\n",
    "    \n",
    "    initial_ensembles = np.hstack((initial_ensembles1, initial_ensembles2))\n",
    "    \n",
    "    return X_t, initial_ensembles, initial_ensembles_for_weights[:,0,:], initial_ensembles_for_D[:,0,:]"
   ]
  },
  {
   "cell_type": "code",
   "execution_count": 16,
   "id": "6ac49c8c-6da0-4ee2-9561-e1d19365f182",
   "metadata": {},
   "outputs": [],
   "source": [
    "def get_weighted_targets_with_weights(batch_data, initial_ensembles, size_ens, weights): \n",
    "    \n",
    "    target_dim = 1\n",
    "    \n",
    "\n",
    "    n_hidden_1 = len(weights_ann_1[0].ravel())\n",
    "    \n",
    "    hidden_weights_1 = initial_ensembles[:,:n_hidden_1].reshape( size_ens, batch_data.shape[1], h1)\n",
    "    \n",
    "    \n",
    "    hidden_output_1 = np.einsum('ij,kjl->kil', batch_data, hidden_weights_1)\n",
    "\n",
    "    \n",
    "    hidden_layer_bias_1 = initial_ensembles[:,n_hidden_1:(n_hidden_1 + h1)].reshape(size_ens, 1,  h1)\n",
    "\n",
    "\n",
    "    hidden_output_1 = hidden_output_1 + hidden_layer_bias_1\n",
    "\n",
    "    n_pred_weights_1 = len(weights_ann_1[2].ravel())\n",
    "\n",
    "    output_weights_1 = initial_ensembles[:,(n_hidden_1 + h1):(n_hidden_1 + h1 + n_pred_weights_1) ].reshape(size_ens, h1, target_dim)\n",
    "\n",
    "\n",
    "    output_1 = np.einsum('ijk,ikl->ijl', hidden_output_1, output_weights_1)\n",
    "\n",
    "\n",
    "    output_layer_bias_1 = initial_ensembles[:,(n_hidden_1 + h1 + n_pred_weights_1):(n_hidden_1 + h1 + n_pred_weights_1 + target_dim)].reshape(size_ens, 1, target_dim)\n",
    "\n",
    "\n",
    "    final_output_1 = output_1 + output_layer_bias_1\n",
    "    \n",
    "    final_output_1 = final_output_1[:,:, 0]\n",
    "    \n",
    "    final_output_1 = final_output_1*weights\n",
    "    \n",
    "    # print(final_output_1.shape, initial_ensembles.shape)\n",
    "    \n",
    "    stack = np.hstack((final_output_1, initial_ensembles))\n",
    "\n",
    "    \n",
    "    return final_output_1, stack"
   ]
  },
  {
   "cell_type": "code",
   "execution_count": 17,
   "id": "c5a2f9ca-f4b4-445a-ab5f-e0f0557f54a9",
   "metadata": {},
   "outputs": [],
   "source": [
    "from scipy.stats import beta"
   ]
  },
  {
   "cell_type": "code",
   "execution_count": 18,
   "id": "44ed09c8-f6b0-4b40-86e0-1975541fd0ac",
   "metadata": {},
   "outputs": [],
   "source": [
    "fudging_beta = beta(1,9)"
   ]
  },
  {
   "cell_type": "code",
   "execution_count": 19,
   "id": "9d1a4f5e-7a0d-42b7-ad45-59c708b7b727",
   "metadata": {},
   "outputs": [],
   "source": [
    "def forward_operation(data1, data2, combined_ensembles , size_ens, fudging_beta):\n",
    "    # samp_ann =  ann(hidden = hidden_neurons, input_shape = 32, output_shape = 1)\n",
    "    params = samp_ann_params\n",
    "    initial_ensembles1 = combined_ensembles[:, :params]\n",
    "    initial_ensembles2 = combined_ensembles[:, params:(2*params)]\n",
    "    # initial_ensembles3 = combined_ensembles[:, (2*params):(3*params)]\n",
    "    # initial_ensembles4 = combined_ensembles[:, (3*params):(4*params)]\n",
    "\n",
    "    \n",
    "    initial_ensembles_for_weights = combined_ensembles[:, (2*params):(2*params + 2)]\n",
    "    \n",
    "    # initial_ensembles_for_L = combined_ensembles[:, (4*params + 4):(4*params + 4 + 4)]\n",
    "    \n",
    "    initial_ensembles_for_D = combined_ensembles[:,(2*params + 2):(2*params + 2 + 2 )]\n",
    "    \n",
    "    \n",
    "    softmax_weights = tf.math.softmax(initial_ensembles_for_weights).numpy()\n",
    "    \n",
    "    model_1 = softmax_weights[:, 0].reshape(-1,1) \n",
    "    \n",
    "    # model_1 = np.min(model_1 -fudging_factor)\n",
    "    \n",
    "    model_2 = softmax_weights[:, 1].reshape(-1,1) \n",
    "    \n",
    "#     model_3 = softmax_weights[:, 2].reshape(-1,1) \n",
    "    \n",
    "#     model_4 = softmax_weights[:, 3].reshape(-1,1)\n",
    "    \n",
    "    sum_weights = model_1 + model_2\n",
    "    \n",
    "    \n",
    "    # model_1_plus_model_2 = model_1 + model_2\n",
    "    \n",
    "    model_1 = model_1/sum_weights\n",
    "    \n",
    "    model_2 = model_2/sum_weights\n",
    "    \n",
    "#     model_3 = model_3/sum_weights\n",
    "    \n",
    "#     model_4 = model_4/sum_weights\n",
    "    \n",
    "    \n",
    "    # print(np.mean(model_1 + model_2))\n",
    "    \n",
    "    data1_out1, data1_stack1 = get_weighted_targets_with_weights(data1, initial_ensembles1, size_ens = size_ens,\n",
    "                                                                  weights=model_1)\n",
    "    \n",
    "    data1_out2, data1_stack2 = get_weighted_targets_with_weights(data2, initial_ensembles2, size_ens = size_ens,\n",
    "                                                                weights=model_2)\n",
    "    \n",
    "#     data2_out1, data2_stack1 = get_weighted_targets_with_weights(data3, initial_ensembles3, size_ens = size_ens,\n",
    "#                                                                  weights=model_3)\n",
    "    \n",
    "#     data2_out2, data2_stack2 = get_weighted_targets_with_weights(data4, initial_ensembles4, size_ens = size_ens,\n",
    "#                                                                   weights=model_4)   \n",
    "    \n",
    "    X_t = np.concatenate((np.expand_dims(data1_stack1, -1), np.expand_dims(data1_stack2, -1)), axis = -1)\n",
    "    \n",
    "    initial_ensembles = np.hstack((initial_ensembles1, initial_ensembles2,\n",
    "                        initial_ensembles_for_weights, initial_ensembles_for_D))\n",
    "    \n",
    "    # print(X_t.shape)\n",
    "    \n",
    "    initial_ensembles_for_weights = np.expand_dims(initial_ensembles_for_weights,1)\n",
    "    \n",
    "    # initial_ensembles_for_L = np.expand_dims(initial_ensembles_for_L,1)\n",
    "    \n",
    "    initial_ensembles_for_D = np.expand_dims(initial_ensembles_for_D,1)\n",
    "    \n",
    "    # print(initial_ensembles_for_weights.shape)\n",
    "    \n",
    "    X_t = np.concatenate((X_t, initial_ensembles_for_weights, initial_ensembles_for_D), axis = 1)\n",
    "    \n",
    "    final_output = data1_out1 + data1_out2\n",
    "    \n",
    "    # weighted_psa = data1_out2 + data2_out2\n",
    "    \n",
    "    return X_t, initial_ensembles,final_output, model_1, model_2"
   ]
  },
  {
   "cell_type": "code",
   "execution_count": 20,
   "id": "c6bd2eb3-86b7-41ed-81b4-4dd8e44e106e",
   "metadata": {},
   "outputs": [],
   "source": [
    "def forward_operation_test(data1, data2, combined_ensembles , size_ens):\n",
    "    # samp_ann =  ann(hidden = hidden_neurons, input_shape = 32, output_shape = 1)\n",
    "    params = samp_ann_params\n",
    "    initial_ensembles1 = combined_ensembles[:, :params]\n",
    "    initial_ensembles2 = combined_ensembles[:, params:(2*params)]\n",
    "    # initial_ensembles3 = combined_ensembles[:, (2*params):(3*params)]\n",
    "    # initial_ensembles4 = combined_ensembles[:, (3*params):(4*params)]\n",
    "\n",
    "    \n",
    "    initial_ensembles_for_weights = combined_ensembles[:, (2*params):(2*params + 2)]\n",
    "    \n",
    "    # initial_ensembles_for_L = combined_ensembles[:, (4*params + 4):(4*params + 4 + 4)]\n",
    "    \n",
    "    initial_ensembles_for_D = combined_ensembles[:,(2*params + 2):(2*params + 2 + 2)]\n",
    "    \n",
    "    \n",
    "    softmax_weights = tf.math.softmax(initial_ensembles_for_weights).numpy()\n",
    "    \n",
    "    model_1 = softmax_weights[:, :1].reshape(-1,1) \n",
    "    \n",
    "    # model_1 = np.min(model_1 -fudging_factor)\n",
    "    \n",
    "    model_2 = softmax_weights[:, 1:2].reshape(-1,1) \n",
    "    \n",
    "#     model_3 = softmax_weights[:, 2:3].reshape(-1,1)\n",
    "    \n",
    "#     model_4 = softmax_weights[:, 3:4].reshape(-1,1)\n",
    "    \n",
    "    sum_weights = model_1 + model_2 \n",
    "    \n",
    "    \n",
    "    # model_1_plus_model_2 = model_1 + model_2\n",
    "    \n",
    "    model_1 = model_1/sum_weights\n",
    "    \n",
    "    model_2 = model_2/sum_weights\n",
    "    \n",
    "#     model_3 = model_3/sum_weights\n",
    "    \n",
    "#     model_4 = model_4/sum_weights\n",
    "    \n",
    "    data1_out1, data1_stack1 = get_weighted_targets_with_weights(data1, initial_ensembles1, size_ens = size_ens,\n",
    "                                                                  weights=model_1)\n",
    "    \n",
    "    data1_out2, data1_stack2 = get_weighted_targets_with_weights(data2, initial_ensembles2, size_ens = size_ens,\n",
    "                                                                weights=model_2)\n",
    "    \n",
    "#     data2_out1, data2_stack1 = get_weighted_targets_with_weights(data3, initial_ensembles3, size_ens = size_ens,\n",
    "#                                                                  weights=model_3)\n",
    "    \n",
    "#     data2_out2, data2_stack2 = get_weighted_targets_with_weights(data4, initial_ensembles4, size_ens = size_ens,\n",
    "#                                                                   weights=model_4)   \n",
    "    \n",
    "    X_t = np.concatenate((np.expand_dims(data1_stack1, -1), np.expand_dims(data1_stack2, -1)), axis = -1)\n",
    "    \n",
    "    initial_ensembles = np.hstack((initial_ensembles1, initial_ensembles2, \n",
    "                        initial_ensembles_for_weights, initial_ensembles_for_D))\n",
    "    \n",
    "    # print(X_t.shape)\n",
    "    \n",
    "    initial_ensembles_for_weights = np.expand_dims(initial_ensembles_for_weights,1)\n",
    "    \n",
    "    # initial_ensembles_for_L = np.expand_dims(initial_ensembles_for_L,1)\n",
    "    \n",
    "    initial_ensembles_for_D = np.expand_dims(initial_ensembles_for_D,1)\n",
    "    \n",
    "    # print(initial_ensembles_for_weights.shape)\n",
    "    \n",
    "    X_t = np.concatenate((X_t, initial_ensembles_for_weights, initial_ensembles_for_D), axis = 1)\n",
    "    \n",
    "    final_output = data1_out1 + data1_out2 \n",
    "    \n",
    "    return X_t, initial_ensembles, final_output, model_1, model_2"
   ]
  },
  {
   "cell_type": "code",
   "execution_count": 21,
   "id": "af3dd570-7ab3-4eae-bd8e-9a57a333b30a",
   "metadata": {},
   "outputs": [],
   "source": [
    "total_weights = 2*(samp_ann.count_params() + 1 + 1)"
   ]
  },
  {
   "cell_type": "code",
   "execution_count": 22,
   "id": "e820b010-4396-4b7a-8781-a8e6d503aad5",
   "metadata": {},
   "outputs": [],
   "source": [
    "reduction = 10"
   ]
  },
  {
   "cell_type": "code",
   "execution_count": 23,
   "id": "e5fbaaf7-afae-4008-a26c-e0691ef9b3f9",
   "metadata": {},
   "outputs": [],
   "source": [
    "size_ens = total_weights//reduction\n",
    "# total_weights//reduction"
   ]
  },
  {
   "cell_type": "code",
   "execution_count": 24,
   "id": "a5111536-1a97-4390-9658-c9848a136a3f",
   "metadata": {},
   "outputs": [
    {
     "data": {
      "text/plain": [
       "106"
      ]
     },
     "execution_count": 24,
     "metadata": {},
     "output_type": "execute_result"
    }
   ],
   "source": [
    "size_ens"
   ]
  },
  {
   "cell_type": "code",
   "execution_count": 25,
   "id": "3f598992-73d6-4b5a-906d-3184f1b9625f",
   "metadata": {},
   "outputs": [],
   "source": [
    "G_t = [[1, 1]]\n",
    "G_t = np.array(G_t).T"
   ]
  },
  {
   "cell_type": "code",
   "execution_count": 26,
   "id": "17ef8c41-26ff-4e49-98f8-8f6c31b4eb63",
   "metadata": {},
   "outputs": [
    {
     "data": {
      "text/plain": [
       "(2, 1)"
      ]
     },
     "execution_count": 26,
     "metadata": {},
     "output_type": "execute_result"
    }
   ],
   "source": [
    "G_t.shape"
   ]
  },
  {
   "cell_type": "code",
   "execution_count": 27,
   "id": "a84cb0e3-2f5e-4207-b092-d2768b52205a",
   "metadata": {},
   "outputs": [],
   "source": [
    "def get_predictions(data1, data2, initial_ensembles, fudging_beta  =fudging_beta): \n",
    "    _,_, weighted_alogp, w1, w2 = forward_operation(data1, data2, initial_ensembles, size_ens = size_ens, fudging_beta = fudging_beta)\n",
    "    return weighted_alogp, w1, w2"
   ]
  },
  {
   "cell_type": "code",
   "execution_count": 28,
   "id": "37b60b37-92b1-4784-85fc-59a865d2398f",
   "metadata": {},
   "outputs": [],
   "source": [
    "def get_predictions_test(data1, data2, initial_ensembles): \n",
    "    _,_, weighted_alogp, w1, w2 = forward_operation_test(data1, data2, initial_ensembles, size_ens = size_ens)\n",
    "    return weighted_alogp, w1, w2"
   ]
  },
  {
   "cell_type": "code",
   "execution_count": 29,
   "id": "3af0a9b9-6202-40e2-911f-3c890213099f",
   "metadata": {},
   "outputs": [],
   "source": [
    "def calculate_mu_bar_G_bar(data1, data2, initial_ensembles, fudging_beta):\n",
    "    H_t = np.hstack((np.identity(data1.shape[0]), np.zeros((data1.shape[0], samp_ann_params + 1  + 1))))\n",
    "    mu_bar = initial_ensembles.mean(0)\n",
    "    X_t, _,_, _, _ = forward_operation(data1, data2, initial_ensembles, size_ens = size_ens, fudging_beta = fudging_beta)\n",
    "    X_t = X_t.transpose((0,2,1))\n",
    "    X_t = X_t.reshape(X_t.shape[0], X_t.shape[1]*X_t.shape[2])\n",
    "    script_H_t = np.kron(G_t.T, H_t)\n",
    "    G_u = (script_H_t@X_t.T)\n",
    "    G_u = G_u.T\n",
    "    G_bar = (G_u.mean(0)).ravel()\n",
    "    return mu_bar.reshape(-1,1), G_bar.reshape(-1,1), G_u"
   ]
  },
  {
   "cell_type": "code",
   "execution_count": 30,
   "id": "7334c80c-cfcd-4d5b-b844-11cfb8c137df",
   "metadata": {},
   "outputs": [],
   "source": [
    "def calculate_C_u(initial_ensembles, mu_bar, G_bar, G_u): \n",
    "    u_j_minus_u_bar = initial_ensembles - mu_bar.reshape(1,-1)\n",
    "    G_u_minus_G_bar = G_u -  G_bar.reshape(1,-1)\n",
    "    c = np.zeros((total_weights, G_bar.shape[0]))\n",
    "    for i in range(0, size_ens): \n",
    "        c += np.kron(u_j_minus_u_bar[i, :].T.reshape(-1,1), G_u_minus_G_bar[i,:].reshape(-1,1).T)\n",
    "    return c/size_ens, G_u_minus_G_bar"
   ]
  },
  {
   "cell_type": "code",
   "execution_count": 31,
   "id": "9148779c-1a3f-455d-a6ad-00fc1bf69c1f",
   "metadata": {},
   "outputs": [],
   "source": [
    "def calculate_D_u( G_bar, G_u): \n",
    "    G_u_minus_G_bar = G_u -  G_bar.reshape(1,-1)\n",
    "    d = np.zeros((G_bar.shape[0], G_bar.shape[0]))\n",
    "    for i in range(0, size_ens): \n",
    "        d += np.kron(G_u_minus_G_bar[i,:].T.reshape(-1,1), G_u_minus_G_bar[i,:].reshape(-1,1).T)\n",
    "    return d/size_ens"
   ]
  },
  {
   "cell_type": "code",
   "execution_count": 32,
   "id": "6e8459b0-68c1-4d1f-851e-3d7b99f0ffc5",
   "metadata": {},
   "outputs": [],
   "source": [
    "def get_updated_ensemble(data1, data2, initial_ensembles, y_train, size_ens = size_ens, inflation_factor = 1.0, fudging_beta = fudging_beta, \n",
    "                        fudging_var = None):\n",
    "    mu_bar, G_bar, G_u = calculate_mu_bar_G_bar(data1, data2, initial_ensembles, fudging_beta)\n",
    "    C, G_u_minus_G_bar = calculate_C_u(initial_ensembles, mu_bar, G_bar, G_u)\n",
    "    D = calculate_D_u( G_bar, G_u)\n",
    "    _, R_t = create_cov(data1.shape[0],initial_ensembles)\n",
    "    inflation = np.identity(R_t.shape[0])*inflation_factor\n",
    "    D_plus_cov = D + (R_t *inflation_factor)\n",
    "    D_plus_cov_inv = np.linalg.inv(D_plus_cov)\n",
    "    mid_quant = C@D_plus_cov_inv\n",
    "    noise_vec_mean = np.zeros((R_t.shape[0], ))\n",
    "    noise_mvn = mvn(noise_vec_mean, R_t)\n",
    "    fudging = noise_mvn.rvs(size_ens)\n",
    "    interim = (y_train.T.flatten().reshape(1,-1) + fudging)\n",
    "    right_quant = interim - G_u\n",
    "    mid_times_right = mid_quant@right_quant.T\n",
    "    updated_ensemble = (initial_ensembles + mid_times_right.T)\n",
    "    if fudging_var is not None: \n",
    "        mean_vec = np.zeros((updated_ensemble.shape[1],))\n",
    "        cov_mat = np.identity(updated_ensemble.shape[1])*fudging_var\n",
    "        fudging_for_updated_ensembles = mvn(mean_vec, cov_mat)\n",
    "        fudging_for_updated_ensembles_vec = fudging_for_updated_ensembles.rvs(size_ens)\n",
    "        updated_ensemble = updated_ensemble + fudging_for_updated_ensembles_vec\n",
    "    return updated_ensemble"
   ]
  },
  {
   "cell_type": "code",
   "execution_count": 33,
   "id": "c14b236d-6ebf-40e3-9085-97afd2990e4d",
   "metadata": {},
   "outputs": [],
   "source": [
    "target_dim = 1"
   ]
  },
  {
   "cell_type": "code",
   "execution_count": 34,
   "id": "346d07bc-5b61-4e75-a816-a6e22ffe9d76",
   "metadata": {},
   "outputs": [],
   "source": [
    "lambda_D = 1"
   ]
  },
  {
   "cell_type": "code",
   "execution_count": 35,
   "id": "5abd35fb-ea92-449d-894a-162ed1f4aaec",
   "metadata": {},
   "outputs": [],
   "source": [
    "from joblib import Parallel, delayed"
   ]
  },
  {
   "cell_type": "code",
   "execution_count": 36,
   "id": "381fc654-8877-41fd-840a-4b35153f923b",
   "metadata": {},
   "outputs": [],
   "source": [
    "def create_cov(shape, initial_ensembles):\n",
    "    cov_part = initial_ensembles[:, -4:-3]\n",
    "    cov_part = cov_part.mean(0)\n",
    "    variances1 = tf.math.softplus(cov_part).numpy()\n",
    "    n = shape\n",
    "    return variances1, np.identity(n)*variances1"
   ]
  },
  {
   "cell_type": "code",
   "execution_count": 37,
   "id": "7c59ea29-6484-40d5-8777-80cf9ca6cf5d",
   "metadata": {},
   "outputs": [],
   "source": [
    "# idx = 1"
   ]
  },
  {
   "cell_type": "code",
   "execution_count": 38,
   "id": "7649cb4e-4909-404a-86db-cfb8fc2e078b",
   "metadata": {},
   "outputs": [],
   "source": [
    "with open(\"..//Data//gcn_cdr_train_pca_higher.pickle\", \"rb\") as f: \n",
    "    catch_train = pickle.load(f)"
   ]
  },
  {
   "cell_type": "code",
   "execution_count": 39,
   "id": "f029a85a-6790-4635-b02f-a8dfd9346e8c",
   "metadata": {},
   "outputs": [],
   "source": [
    "with open(\"..//Data//gcn_cdr_test_pca_higher.pickle\", \"rb\") as f: \n",
    "    catch_test = pickle.load(f)"
   ]
  },
  {
   "cell_type": "code",
   "execution_count": 40,
   "id": "1cbefaa8-c226-47fb-a972-1a8207d29766",
   "metadata": {},
   "outputs": [],
   "source": [
    "import random"
   ]
  },
  {
   "cell_type": "code",
   "execution_count": 41,
   "id": "176445fb-4f30-421a-a710-339955111baa",
   "metadata": {},
   "outputs": [],
   "source": [
    "def prepare_data_train(catch_train, idxes): \n",
    "    # idxes = random.sample(range(0, catch_train[0].shape[0]), k = size)\n",
    "    # idxes = list(idxes)\n",
    "    data1, data2 = catch_train[0][idxes,:], catch_train[1][idxes,:]\n",
    "    \n",
    "    y_train = catch_train[-1][idxes].reshape(-1,1)\n",
    "    \n",
    "    return data1, data2, y_train "
   ]
  },
  {
   "cell_type": "code",
   "execution_count": 42,
   "id": "d7c13b4e-c9b7-4b7f-bd6e-92ec93cd40e2",
   "metadata": {},
   "outputs": [],
   "source": [
    "def prepare_data_test( catch_test, size): \n",
    "    idxes = random.sample(range(0, catch_test[0].shape[0]), k = size)\n",
    "    idxes = list(idxes)\n",
    "    data1, data2 = catch_test[0][idxes,:], catch_test[1][idxes,:]\n",
    "    y_train = catch_test[-1][idxes].reshape(-1,1)\n",
    "    return data1, data2, y_train"
   ]
  },
  {
   "cell_type": "code",
   "execution_count": 43,
   "id": "d2a4da04-1a68-4b91-ad62-e6c027c91fa2",
   "metadata": {},
   "outputs": [],
   "source": [
    "# data1_train, data2_train, data3_train, data4_train, y_train =  prepare_data_train(catch_train, size = 5000)"
   ]
  },
  {
   "cell_type": "code",
   "execution_count": 44,
   "id": "3e54f80e-5b8d-4f46-a24a-2514a3683a02",
   "metadata": {},
   "outputs": [],
   "source": [
    "data1_test, data2_test, y_test =  prepare_data_test(catch_test, size = catch_test[0].shape[0])"
   ]
  },
  {
   "cell_type": "code",
   "execution_count": 45,
   "id": "aadbd46f-4890-40cc-8176-f292b9c45cac",
   "metadata": {},
   "outputs": [],
   "source": [
    "from scipy.stats import pearsonr"
   ]
  },
  {
   "cell_type": "code",
   "execution_count": 46,
   "id": "09e61be2-f070-4e18-8583-66f0cdc24501",
   "metadata": {},
   "outputs": [],
   "source": [
    "def chunks(lst, n):\n",
    "    \"\"\"Yield successive n-sized chunks from lst.\"\"\"\n",
    "    for i in range(0, len(lst), n):\n",
    "        yield lst[i:i + n]"
   ]
  },
  {
   "cell_type": "code",
   "execution_count": 47,
   "id": "8a1acec2-599f-4ec7-9ad4-1183a7b09dde",
   "metadata": {},
   "outputs": [],
   "source": [
    "batch_size = 2500"
   ]
  },
  {
   "cell_type": "code",
   "execution_count": 48,
   "id": "02e369a5-74ae-464b-97fb-69791238b973",
   "metadata": {},
   "outputs": [],
   "source": [
    "import random"
   ]
  },
  {
   "cell_type": "code",
   "execution_count": 49,
   "id": "c0fa6a26-3f92-4a59-a52b-95211f3d670d",
   "metadata": {},
   "outputs": [],
   "source": [
    "from tqdm import tqdm_notebook"
   ]
  },
  {
   "cell_type": "code",
   "execution_count": 50,
   "id": "65bf21e9-92c6-4824-93c3-87274b072afa",
   "metadata": {},
   "outputs": [],
   "source": [
    "def get_results(idx, var_weights = 1.0, var_weight_weights = 1.0, var_D = 0.01, inflation_factor = 1.6, fudging_beta = beta(1,19), \n",
    "               fudging_var = 1e-3, print_true = True):\n",
    "    \n",
    "    # smiles_feats_train, rdkit_feats_train, smiles_feats_valid, rdkit_feats_valid, y_train, y_train_actual, y_valid, y_valid_actual, initial_ensembles  = prepare_data(idx, var_weights = var_weights, var_weight_weights =var_weight_weights, var_L = var_L, var_D = var_D)\n",
    "    # w1_catch = []\n",
    "    # w2_catch = []\n",
    "\n",
    "    train_rmse = []\n",
    "    test_rmse = []\n",
    "    # print(\"done initializing\")\n",
    "    \n",
    "    train_idxes = random.sample(range(0, catch_train[0].shape[0]), k = catch_train[0].shape[0])\n",
    "    \n",
    "    train_chunks = list(chunks(train_idxes, batch_size))\n",
    "    \n",
    "    best_rmse_train = 10000\n",
    "    \n",
    "    data1_train, data2_train, y_train = prepare_data_train(catch_train, train_chunks[0])\n",
    "    \n",
    "    _, initial_ensembles, initial_ensembles_for_weights, initial_ensembles_for_D = get_initial_X_t(data1_train, data2_train,\n",
    "                                                                                                 size_ens = size_ens, var_weights = var_weights,\n",
    "                                                                                                var_weight_weights = var_weight_weights,\n",
    "                                                                                                             var_D = var_D)\n",
    "    \n",
    "    initial_ensembles = np.hstack((initial_ensembles, initial_ensembles_for_weights, initial_ensembles_for_D))\n",
    "    patience = 0\n",
    "    \n",
    "    for i in range(0,300):\n",
    "        \n",
    "        train_chunks = random.sample(train_chunks, len(train_chunks))\n",
    "        \n",
    "        if print_true == True:\n",
    "            print(\"epoch number is \" +str(i))\n",
    "        \n",
    "        for chunk in (train_chunks):\n",
    "        \n",
    "            data1_train, data2_train, y_train = prepare_data_train(catch_train, chunk)\n",
    "            \n",
    "            \n",
    "            \n",
    "            initial_ensembles = get_updated_ensemble(data1_train, data2_train, initial_ensembles, y_train, size_ens = size_ens,\n",
    "                                                 inflation_factor = inflation_factor, fudging_beta = fudging_beta, fudging_var = fudging_var)\n",
    "        \n",
    "            G_u_train, w1, w2 = get_predictions(data1_train, data2_train, initial_ensembles, fudging_beta)\n",
    "    \n",
    "            li_train = np.percentile(G_u_train, axis = 0, q = (2.5, 97.5))[0,:].reshape(-1,1)    \n",
    "            ui_train = np.percentile(G_u_train, axis = 0, q = (2.5, 97.5))[1,:].reshape(-1,1)  \n",
    "    \n",
    "            width_train = ui_train - li_train\n",
    "            avg_width_train = width_train.mean(0)[0]\n",
    "    \n",
    "            ind_train = (y_train >= li_train) & (y_train <= ui_train)\n",
    "            coverage_train= ind_train.mean(0)[0]\n",
    "    \n",
    "            averaged_targets_train = G_u_train.mean(0).reshape(-1,1)\n",
    "            rmse_train = np.sqrt(((y_train -averaged_targets_train)**2).mean(0))[0]\n",
    "        \n",
    "            pearsonr_train = pearsonr(averaged_targets_train.reshape(averaged_targets_train.shape[0],), \n",
    "                                 y_train.reshape(y_train.shape[0],))\n",
    "        \n",
    "            r_train = pearsonr_train.statistic\n",
    "    \n",
    "            G_u_test, _, _ = get_predictions_test(data1_test, data2_test, initial_ensembles)\n",
    "    \n",
    "\n",
    "    \n",
    "            li_test = np.percentile(G_u_test, axis = 0, q = (2.5, 97.5))[0,:].reshape(-1,1)     \n",
    "            ui_test = np.percentile(G_u_test, axis = 0, q = (2.5, 97.5))[1,:].reshape(-1,1)   \n",
    "    \n",
    "            width_test = ui_test - li_test\n",
    "            avg_width_test = width_test.mean(0)[0]\n",
    "    \n",
    "            ind_test = (y_test >= li_test) & (y_test <= ui_test)\n",
    "            coverage_test= ind_test.mean(0)[0]\n",
    "    \n",
    "            averaged_targets_test = G_u_test.mean(0).reshape(-1,1)\n",
    "            rmse_test = np.sqrt(((y_test -averaged_targets_test)**2).mean(0))[0]  \n",
    "        \n",
    "            pearsonr_test = pearsonr(averaged_targets_test.reshape(averaged_targets_test.shape[0],), \n",
    "                                 y_test.reshape(y_test.shape[0],))\n",
    "        \n",
    "            r_test = pearsonr_test.statistic\n",
    "            \n",
    "            train_rmse.append(rmse_train)\n",
    "            \n",
    "            test_rmse.append(rmse_test)\n",
    "            \n",
    "            if print_true == True: \n",
    "                print(\"Training Coverage, Widths, RMSE, and Pearson R\")\n",
    "                print(coverage_train, avg_width_train, rmse_train, r_train)\n",
    "                print(\"Testing Coverage, Widths, RMSE, and Pearson R\")\n",
    "                print(coverage_test, avg_width_test, rmse_test, r_test)\n",
    "                \n",
    "            # w1_catch.append([w1.mean(), w1.std()])\n",
    "            # w2_catch.append([w2.mean(), w2.std()])\n",
    "                # print(w1.mean(), w1.std())\n",
    "\n",
    "            if (rmse_train < best_rmse_train): \n",
    "                best_pearsonr_train = r_train\n",
    "            # print(\"went here\")\n",
    "                best_train_width_mean = avg_width_train.mean()\n",
    "                best_train_width = avg_width_train\n",
    "                # best_smiles_weight = w1.mean()\n",
    "                best_coverage_train = coverage_train\n",
    "                best_rmse_train = rmse_train\n",
    "                best_pearson_r = r_test\n",
    "                best_test_width = avg_width_test\n",
    "\n",
    "                best_coverage_test = coverage_test    \n",
    "                best_rmse_test = rmse_test\n",
    "                patience = 0\n",
    "                best_ensembles = initial_ensembles\n",
    "                best_w1_weight = w1.mean()\n",
    "                best_w2_weight = w2.mean()\n",
    "            \n",
    "            else:\n",
    "                patience = patience + 1\n",
    "            \n",
    "            if print_true == True:\n",
    "                print(\"Patience is\")\n",
    "                print(patience)\n",
    "                print('\\n')\n",
    "        \n",
    "            if patience > threshold:\n",
    "            \n",
    "                # print()\n",
    "                # print(best_train_width.tolist(), best_coverage_train.tolist(), best_rmse_train.tolist(), best_test_width.tolist(), best_coverage_test.tolist(), best_rmse_test.tolist(), best_smiles_weight, flush = True)\n",
    "                # print(\"done for fold\" + str(idx), flush = True)\n",
    "                # print(\"train_coverage\" + str(best_coverage_train), flush = True)\n",
    "                print(\"test_coverage\" + str(best_coverage_test), flush = True)\n",
    "                # print(\"train_width\" + str(best_train_width), flush = True)\n",
    "                print(\"test_width\" + str(best_test_width), flush = True)\n",
    "                # print(\"smiles_weight\" + str(best_smiles_weight), flush = True)\n",
    "                # print(\"rmse_train\" + str(best_rmse_train), flush = True)\n",
    "                print(\"rmse_test\" + str(best_rmse_test), flush = True)\n",
    "                weights = [best_w1_weight, best_w2_weight]\n",
    "                print(\"weights\", flush = True)\n",
    "                print(weights, flush = True)\n",
    "                print('\\n', flush = True)\n",
    "                # print(\"smiles_weight_ci\" + str([best_li_smiles_weight, best_ui_smiles_weight]), flush = True)\n",
    "            \n",
    "                return [best_train_width, best_coverage_train, best_rmse_train, best_test_width, best_coverage_test, best_rmse_test, best_pearson_r, best_ensembles, train_rmse, test_rmse, best_w1_weight, best_w2_weight]\n"
   ]
  },
  {
   "cell_type": "code",
   "execution_count": 51,
   "id": "11a8c623-2952-409f-a640-7d89cef6b1aa",
   "metadata": {},
   "outputs": [],
   "source": [
    "threshold = 10"
   ]
  },
  {
   "cell_type": "code",
   "execution_count": 52,
   "id": "14658528-ea1a-4a6f-83bd-f708df0bcd83",
   "metadata": {},
   "outputs": [
    {
     "name": "stdout",
     "output_type": "stream",
     "text": [
      "epoch number is 0\n",
      "Training Coverage, Widths, RMSE, and Pearson R\n",
      "0.3104 11.214114469843306 12.292720152686913 -0.16705679237647109\n",
      "Testing Coverage, Widths, RMSE, and Pearson R\n",
      "0.3052668052668053 11.358788059587404 12.577310056351582 -0.15230908073558108\n",
      "Patience is\n",
      "0\n",
      "\n",
      "\n",
      "Training Coverage, Widths, RMSE, and Pearson R\n",
      "0.2596 2.578256843716051 4.315301338821979 -0.04572539162611712\n",
      "Testing Coverage, Widths, RMSE, and Pearson R\n",
      "0.25225225225225223 2.598757762908812 4.321738355286274 -0.050257013528574625\n",
      "Patience is\n",
      "0\n",
      "\n",
      "\n",
      "Training Coverage, Widths, RMSE, and Pearson R\n",
      "0.3396 2.269114753769141 2.6923575143000034 0.35918829429166066\n",
      "Testing Coverage, Widths, RMSE, and Pearson R\n",
      "0.3325248325248325 2.264851287122955 2.694257714958945 0.3613481773173242\n",
      "Patience is\n",
      "0\n",
      "\n",
      "\n",
      "Training Coverage, Widths, RMSE, and Pearson R\n",
      "0.5832 3.317221166431243 2.0446983056975596 0.7262399014419394\n",
      "Testing Coverage, Widths, RMSE, and Pearson R\n",
      "0.5869138369138369 3.3578624879996086 2.0791153624492718 0.7124436998529446\n",
      "Patience is\n",
      "0\n",
      "\n",
      "\n",
      "Training Coverage, Widths, RMSE, and Pearson R\n",
      "0.7 3.785669702158107 1.8274832382261823 0.7829645866746937\n",
      "Testing Coverage, Widths, RMSE, and Pearson R\n",
      "0.6865326865326865 3.7646446022902316 1.8367127585656189 0.7682522399641198\n",
      "Patience is\n",
      "0\n",
      "\n",
      "\n",
      "Training Coverage, Widths, RMSE, and Pearson R\n",
      "0.7532 4.005918978812305 1.6704286908953974 0.8145833315567449\n",
      "Testing Coverage, Widths, RMSE, and Pearson R\n",
      "0.7371794871794872 3.97134597732844 1.709725276892911 0.7974302039289878\n",
      "Patience is\n",
      "0\n",
      "\n",
      "\n",
      "Training Coverage, Widths, RMSE, and Pearson R\n",
      "0.7504 3.940508954434136 1.664639170603591 0.8090770528542811\n",
      "Testing Coverage, Widths, RMSE, and Pearson R\n",
      "0.7351582351582352 3.941329693840853 1.7060258601465002 0.7986468344996297\n",
      "Patience is\n",
      "0\n",
      "\n",
      "\n",
      "Training Coverage, Widths, RMSE, and Pearson R\n",
      "0.7677946324387398 4.433225081025631 1.7340384472226047 0.7988986407430536\n",
      "Testing Coverage, Widths, RMSE, and Pearson R\n",
      "0.7735042735042735 4.434582391537483 1.7215863471714012 0.7944420553783431\n",
      "Patience is\n",
      "1\n",
      "\n",
      "\n",
      "Training Coverage, Widths, RMSE, and Pearson R\n",
      "0.8132 4.800878001635414 1.6515853642290772 0.8212202569076634\n",
      "Testing Coverage, Widths, RMSE, and Pearson R\n",
      "0.8038808038808039 4.743554384182424 1.6907162564284577 0.8032533734832641\n",
      "Patience is\n",
      "0\n",
      "\n",
      "\n",
      "Training Coverage, Widths, RMSE, and Pearson R\n",
      "0.8212 4.816204115690598 1.6602123244207214 0.8224658294567171\n",
      "Testing Coverage, Widths, RMSE, and Pearson R\n",
      "0.8085585585585585 4.773150182379741 1.6836865501279115 0.8047609358598057\n",
      "Patience is\n",
      "1\n",
      "\n",
      "\n",
      "Training Coverage, Widths, RMSE, and Pearson R\n",
      "0.8348 5.052974160985972 1.6587409783856426 0.8060728758273786\n",
      "Testing Coverage, Widths, RMSE, and Pearson R\n",
      "0.8218988218988219 5.021050688758384 1.7154778677852585 0.7958842743232548\n",
      "Patience is\n",
      "2\n",
      "\n",
      "\n",
      "Training Coverage, Widths, RMSE, and Pearson R\n",
      "0.8416 5.1405681736953 1.6875493122110392 0.8061268255235569\n",
      "Testing Coverage, Widths, RMSE, and Pearson R\n",
      "0.8359320859320859 5.136937121530102 1.6813086432025908 0.805235028848759\n",
      "Patience is\n",
      "3\n",
      "\n",
      "\n",
      "Training Coverage, Widths, RMSE, and Pearson R\n",
      "0.8624 5.419291997042876 1.6300351699892666 0.8105614164478513\n",
      "Testing Coverage, Widths, RMSE, and Pearson R\n",
      "0.8441903441903442 5.394081537066042 1.6951303918637552 0.8009209392582405\n",
      "Patience is\n",
      "0\n",
      "\n",
      "\n",
      "Training Coverage, Widths, RMSE, and Pearson R\n",
      "0.8508 5.50898818455534 1.6818216454856807 0.7945810716590322\n",
      "Testing Coverage, Widths, RMSE, and Pearson R\n",
      "0.8482905982905983 5.50015137638977 1.6829594753875852 0.8043429889958293\n",
      "Patience is\n",
      "1\n",
      "\n",
      "\n",
      "Training Coverage, Widths, RMSE, and Pearson R\n",
      "0.8668 5.52021642711526 1.6519476119106578 0.8137091982594662\n",
      "Testing Coverage, Widths, RMSE, and Pearson R\n",
      "0.8608801108801108 5.58887190861913 1.6701198292103578 0.8075643172219612\n",
      "Patience is\n",
      "2\n",
      "\n",
      "\n",
      "Training Coverage, Widths, RMSE, and Pearson R\n",
      "0.8656 5.72428983258673 1.7029633711726635 0.792991691044462\n",
      "Testing Coverage, Widths, RMSE, and Pearson R\n",
      "0.8556826056826057 5.668645960659633 1.727472780985159 0.7934913381394453\n",
      "Patience is\n",
      "3\n",
      "\n",
      "\n",
      "Training Coverage, Widths, RMSE, and Pearson R\n",
      "0.8536 5.394705044236026 1.696834285631982 0.8110519768442229\n",
      "Testing Coverage, Widths, RMSE, and Pearson R\n",
      "0.851986601986602 5.4414682276002955 1.6911347512393637 0.8019843052812196\n",
      "Patience is\n",
      "4\n",
      "\n",
      "\n",
      "Training Coverage, Widths, RMSE, and Pearson R\n",
      "0.872 5.670792192526698 1.6663810384938291 0.8002996644785316\n",
      "Testing Coverage, Widths, RMSE, and Pearson R\n",
      "0.8620928620928621 5.718926524740266 1.6855846021890124 0.803617572266193\n",
      "Patience is\n",
      "5\n",
      "\n",
      "\n",
      "Training Coverage, Widths, RMSE, and Pearson R\n",
      "0.8696 5.86841260124398 1.7102299416191988 0.8025430464300148\n",
      "Testing Coverage, Widths, RMSE, and Pearson R\n",
      "0.8715061215061215 5.814949157020762 1.7078562208789116 0.7977860805049417\n",
      "Patience is\n",
      "6\n",
      "\n",
      "\n",
      "Training Coverage, Widths, RMSE, and Pearson R\n",
      "0.8764 5.8199959553628124 1.6503279822301775 0.8117268281457388\n",
      "Testing Coverage, Widths, RMSE, and Pearson R\n",
      "0.873065373065373 5.8272343813744305 1.6749693888287898 0.8068324473872535\n",
      "Patience is\n",
      "7\n",
      "\n",
      "\n",
      "Training Coverage, Widths, RMSE, and Pearson R\n",
      "0.8976 6.172038374572173 1.6246399434996777 0.8283654289864745\n",
      "Testing Coverage, Widths, RMSE, and Pearson R\n",
      "0.886983136983137 6.150580748402211 1.6914856601196877 0.8043688836036074\n",
      "Patience is\n",
      "0\n",
      "\n",
      "\n",
      "Training Coverage, Widths, RMSE, and Pearson R\n",
      "0.8924 6.120670427455961 1.655356480270601 0.8161605237813286\n",
      "Testing Coverage, Widths, RMSE, and Pearson R\n",
      "0.8835758835758836 6.112782179850717 1.665985485034883 0.8090710003619391\n",
      "Patience is\n",
      "1\n",
      "\n",
      "\n",
      "Training Coverage, Widths, RMSE, and Pearson R\n",
      "0.8896 6.1783821255690015 1.6433288766076881 0.8161395410773546\n",
      "Testing Coverage, Widths, RMSE, and Pearson R\n",
      "0.8891198891198892 6.195893876718325 1.6696848751055215 0.8080051854837006\n",
      "Patience is\n",
      "2\n",
      "\n",
      "\n",
      "Training Coverage, Widths, RMSE, and Pearson R\n",
      "0.8984 6.0299902833733645 1.5781477860006354 0.824296118033268\n",
      "Testing Coverage, Widths, RMSE, and Pearson R\n",
      "0.8816123816123816 5.958974176417085 1.6701699706011772 0.807789062257769\n",
      "Patience is\n",
      "0\n",
      "\n",
      "\n",
      "Training Coverage, Widths, RMSE, and Pearson R\n",
      "0.8868 6.111756021753814 1.6265488585975554 0.8174652811348845\n",
      "Testing Coverage, Widths, RMSE, and Pearson R\n",
      "0.8886001386001386 6.161734478241834 1.685456669628574 0.8038363619539202\n",
      "Patience is\n",
      "1\n",
      "\n",
      "\n",
      "Training Coverage, Widths, RMSE, and Pearson R\n",
      "0.9088 6.881728642778759 1.7285076406683966 0.8022391594463417\n",
      "Testing Coverage, Widths, RMSE, and Pearson R\n",
      "0.9094479094479094 6.843702702655198 1.7080974018413484 0.7979903455626142\n",
      "Patience is\n",
      "2\n",
      "\n",
      "\n",
      "Training Coverage, Widths, RMSE, and Pearson R\n",
      "0.9312 7.025341678311314 1.6163240212732275 0.8223213677368243\n",
      "Testing Coverage, Widths, RMSE, and Pearson R\n",
      "0.9190344190344191 7.041853962564695 1.710518929298056 0.7996749022166711\n",
      "Patience is\n",
      "3\n",
      "\n",
      "\n",
      "Training Coverage, Widths, RMSE, and Pearson R\n",
      "0.9248 6.7993504961604065 1.6275234004658392 0.8109171875953539\n",
      "Testing Coverage, Widths, RMSE, and Pearson R\n",
      "0.9168976668976669 6.876781726500734 1.6830169504875134 0.8065727641108316\n",
      "Patience is\n",
      "4\n",
      "\n",
      "\n",
      "epoch number is 1\n",
      "Training Coverage, Widths, RMSE, and Pearson R\n",
      "0.9192 6.7767852104097255 1.6804369685866165 0.8100896279489569\n",
      "Testing Coverage, Widths, RMSE, and Pearson R\n",
      "0.9134326634326634 6.721276383970865 1.6822836445043825 0.8047713779087359\n",
      "Patience is\n",
      "5\n",
      "\n",
      "\n",
      "Training Coverage, Widths, RMSE, and Pearson R\n",
      "0.9248 6.90984394804203 1.6530048885747781 0.8216003276898859\n",
      "Testing Coverage, Widths, RMSE, and Pearson R\n",
      "0.9132594132594133 6.873913155406087 1.700531784873781 0.8006348639845051\n",
      "Patience is\n",
      "6\n",
      "\n",
      "\n",
      "Training Coverage, Widths, RMSE, and Pearson R\n",
      "0.9328 6.962845131688553 1.586653408047849 0.8287830121184879\n",
      "Testing Coverage, Widths, RMSE, and Pearson R\n",
      "0.9216909216909217 6.953904766075618 1.6759415101712303 0.8071346934950778\n",
      "Patience is\n",
      "7\n",
      "\n",
      "\n",
      "Training Coverage, Widths, RMSE, and Pearson R\n",
      "0.9252 7.226771064329825 1.65805590447472 0.8049896462624436\n",
      "Testing Coverage, Widths, RMSE, and Pearson R\n",
      "0.9242896742896742 7.16068173225696 1.6787225019479741 0.8052632373638421\n",
      "Patience is\n",
      "8\n",
      "\n",
      "\n",
      "Training Coverage, Widths, RMSE, and Pearson R\n",
      "0.9336 7.146440489220864 1.617920593058869 0.8137522472253693\n",
      "Testing Coverage, Widths, RMSE, and Pearson R\n",
      "0.9258489258489259 7.2461493234055245 1.6816953593654407 0.8048720556676006\n",
      "Patience is\n",
      "9\n",
      "\n",
      "\n",
      "Training Coverage, Widths, RMSE, and Pearson R\n",
      "0.9264 6.969160933810082 1.6445642530079627 0.8176398655179931\n",
      "Testing Coverage, Widths, RMSE, and Pearson R\n",
      "0.921979671979672 6.959862423060427 1.6799437815660532 0.8069842622659674\n",
      "Patience is\n",
      "10\n",
      "\n",
      "\n",
      "Training Coverage, Widths, RMSE, and Pearson R\n",
      "0.9464 7.4932706591603635 1.608269014064153 0.8225958569731989\n",
      "Testing Coverage, Widths, RMSE, and Pearson R\n",
      "0.9395356895356896 7.534085274326899 1.6984808844858126 0.8001481356408853\n",
      "Patience is\n",
      "11\n",
      "\n",
      "\n",
      "test_coverage0.8816123816123816\n",
      "test_width5.958974176417085\n",
      "rmse_test1.6701699706011772\n",
      "weights\n",
      "[0.01836683733246321, 0.9816331626675368]\n",
      "\n",
      "\n",
      "CPU times: user 19min 22s, sys: 12min 45s, total: 32min 7s\n",
      "Wall time: 5min 27s\n"
     ]
    }
   ],
   "source": [
    "%%time\n",
    "best_train_width, best_coverage_train, best_rmse_train, best_test_width, best_coverage_test, best_rmse_test, best_pearson_r,  \\\n",
    "best_ensembles, train_rmse, test_rmse, best_w1_weight, best_w2_weight = get_results(0, var_weights = 0.08, var_weight_weights = 1, var_D = 1, inflation_factor =1, fudging_beta = beta(1,19), \n",
    "           fudging_var = 2*1e-3, print_true = True)"
   ]
  },
  {
   "cell_type": "code",
   "execution_count": 53,
   "id": "9490af0c-5a1b-43fb-8431-b1282db34b54",
   "metadata": {},
   "outputs": [],
   "source": [
    "preds_test, _, _ = get_predictions_test(data1_test, data2_test, best_ensembles)"
   ]
  },
  {
   "cell_type": "code",
   "execution_count": 54,
   "id": "7779268c-ab61-4401-80a0-44538877c872",
   "metadata": {},
   "outputs": [],
   "source": [
    "averaged_preds_test = preds_test.mean(0).reshape(-1,1)"
   ]
  },
  {
   "cell_type": "code",
   "execution_count": 55,
   "id": "35f093e5-520c-41f0-a675-01ac46f87a1c",
   "metadata": {},
   "outputs": [
    {
     "data": {
      "image/png": "[encoded data removed]",
      "text/plain": [
       "<Figure size 640x480 with 1 Axes>"
      ]
     },
     "metadata": {},
     "output_type": "display_data"
    }
   ],
   "source": [
    "plt.scatter(y_test, averaged_preds_test, alpha = 0.1)\n",
    "plt.axline((0,0), slope = 1, c = \"black\")\n",
    "plt.xlabel(\"Ground Truth Values\")\n",
    "plt.ylabel(\"MEnKF-ANN Predicted Values\")\n",
    "# plt.xticks(fontsize = 10, fontweight = \"bold\")\n",
    "# plt.yticks(fontsize = 10, fontweight = \"bold\")\n",
    "plt.show()"
   ]
  },
  {
   "cell_type": "code",
   "execution_count": 56,
   "id": "7b6dbeca-651e-4d31-89c0-c44e35b4270f",
   "metadata": {},
   "outputs": [],
   "source": [
    "items = [best_train_width, best_coverage_train, best_rmse_train, best_test_width, best_coverage_test, best_rmse_test, best_pearson_r,best_w1_weight, best_w2_weight]"
   ]
  },
  {
   "cell_type": "code",
   "execution_count": 57,
   "id": "4c969db3-06fd-4a30-8f3e-1d1670a03aa0",
   "metadata": {},
   "outputs": [],
   "source": [
    "items_df = pd.DataFrame(items).T"
   ]
  },
  {
   "cell_type": "code",
   "execution_count": 58,
   "id": "01f44639-4484-45c7-bd7c-7745ab18371b",
   "metadata": {},
   "outputs": [],
   "source": [
    "items_df.columns = ['best_train_width', 'best_coverage_train', 'best_rmse_train', 'best_test_width', 'best_coverage_test', 'best_rmse_test', 'best_pearson_r', \n",
    "                   'best_w1_weight', 'best_w2_weight']"
   ]
  },
  {
   "cell_type": "code",
   "execution_count": 59,
   "id": "7ab228b9-c61a-46cb-aa57-7acf4da3b114",
   "metadata": {},
   "outputs": [],
   "source": [
    "items_df = items_df.T"
   ]
  },
  {
   "cell_type": "code",
   "execution_count": 60,
   "id": "925c745c-7a4d-4d78-8f47-9a1d7e11a39a",
   "metadata": {},
   "outputs": [],
   "source": [
    "# items_df.columns = [\"Value\"]"
   ]
  },
  {
   "cell_type": "code",
   "execution_count": 61,
   "id": "d93ed649-b0ba-445d-b28a-ffeb603dc960",
   "metadata": {},
   "outputs": [
    {
     "data": {
      "text/html": [
       "<div>\n",
       "<style scoped>\n",
       "    .dataframe tbody tr th:only-of-type {\n",
       "        vertical-align: middle;\n",
       "    }\n",
       "\n",
       "    .dataframe tbody tr th {\n",
       "        vertical-align: top;\n",
       "    }\n",
       "\n",
       "    .dataframe thead th {\n",
       "        text-align: right;\n",
       "    }\n",
       "</style>\n",
       "<table border=\"1\" class=\"dataframe\">\n",
       "  <thead>\n",
       "    <tr style=\"text-align: right;\">\n",
       "      <th></th>\n",
       "      <th>0</th>\n",
       "    </tr>\n",
       "  </thead>\n",
       "  <tbody>\n",
       "    <tr>\n",
       "      <th>best_train_width</th>\n",
       "      <td>6.029990</td>\n",
       "    </tr>\n",
       "    <tr>\n",
       "      <th>best_coverage_train</th>\n",
       "      <td>0.898400</td>\n",
       "    </tr>\n",
       "    <tr>\n",
       "      <th>best_rmse_train</th>\n",
       "      <td>1.578148</td>\n",
       "    </tr>\n",
       "    <tr>\n",
       "      <th>best_test_width</th>\n",
       "      <td>5.958974</td>\n",
       "    </tr>\n",
       "    <tr>\n",
       "      <th>best_coverage_test</th>\n",
       "      <td>0.881612</td>\n",
       "    </tr>\n",
       "    <tr>\n",
       "      <th>best_rmse_test</th>\n",
       "      <td>1.670170</td>\n",
       "    </tr>\n",
       "    <tr>\n",
       "      <th>best_pearson_r</th>\n",
       "      <td>0.807789</td>\n",
       "    </tr>\n",
       "    <tr>\n",
       "      <th>best_w1_weight</th>\n",
       "      <td>0.018367</td>\n",
       "    </tr>\n",
       "    <tr>\n",
       "      <th>best_w2_weight</th>\n",
       "      <td>0.981633</td>\n",
       "    </tr>\n",
       "  </tbody>\n",
       "</table>\n",
       "</div>"
      ],
      "text/plain": [
       "                            0\n",
       "best_train_width     6.029990\n",
       "best_coverage_train  0.898400\n",
       "best_rmse_train      1.578148\n",
       "best_test_width      5.958974\n",
       "best_coverage_test   0.881612\n",
       "best_rmse_test       1.670170\n",
       "best_pearson_r       0.807789\n",
       "best_w1_weight       0.018367\n",
       "best_w2_weight       0.981633"
      ]
     },
     "execution_count": 61,
     "metadata": {},
     "output_type": "execute_result"
    }
   ],
   "source": [
    "items_df"
   ]
  },
  {
   "cell_type": "code",
   "execution_count": 62,
   "id": "c743cac6-4f17-49ab-9ad0-f35b685d22f1",
   "metadata": {},
   "outputs": [
    {
     "data": {
      "text/plain": [
       "(106, 17316)"
      ]
     },
     "execution_count": 62,
     "metadata": {},
     "output_type": "execute_result"
    }
   ],
   "source": [
    "preds_test.shape"
   ]
  },
  {
   "cell_type": "code",
   "execution_count": 63,
   "id": "0ce0a569-aed6-42db-afa8-83819760c033",
   "metadata": {},
   "outputs": [
    {
     "data": {
      "image/png": "[encoded data removed]",
      "text/plain": [
       "<Figure size 1500x1500 with 16 Axes>"
      ]
     },
     "metadata": {},
     "output_type": "display_data"
    }
   ],
   "source": [
    "random_idx = random.sample(range(y_test.shape[0]), k = 16)\n",
    "fig, axs = plt.subplots(8, 2,figsize=(15, 15))\n",
    "axs = axs.ravel()\n",
    "for idx, i in enumerate(random_idx):\n",
    "    # print(counter)\n",
    "    truth = y_test[i,:]\n",
    "    preds = preds_test[:, i]\n",
    "    percts = np.percentile(preds, axis = 0, q = (2.5, 97.5))\n",
    "    lis = percts[0]\n",
    "    uis = percts[1]\n",
    "    \n",
    "    \n",
    "    axs[idx].hist(preds)\n",
    "    axs[idx].axvline(truth, color='green', linewidth=2)\n",
    "    axs[idx].axvline(lis, color='red', linewidth=2)\n",
    "    axs[idx].axvline(uis, color='red', linewidth=2)\n",
    "\n",
    "# plt.title\n",
    "fig.savefig('gcn_cdr_pred_intervals.png', bbox_inches='tight')\n",
    "plt.show()\n"
   ]
  },
  {
   "cell_type": "code",
   "execution_count": 64,
   "id": "b6080aac-5298-4b62-94cc-a4032a04b0ad",
   "metadata": {},
   "outputs": [
    {
     "data": {
      "image/png": "[encoded data removed]",
      "text/plain": [
       "<Figure size 640x480 with 1 Axes>"
      ]
     },
     "metadata": {},
     "output_type": "display_data"
    }
   ],
   "source": [
    "plt.plot(train_rmse)\n",
    "plt.plot(test_rmse)\n",
    "plt.xlabel(\"Update Iteration\", fontsize = 15, fontweight = \"bold\")\n",
    "plt.ylabel(\"RMSE\", fontsize = 15, fontweight = \"bold\")\n",
    "plt.xticks( fontsize = 10, fontweight = \"bold\")\n",
    "plt.yticks( fontsize = 10, fontweight = \"bold\")\n",
    "plt.show()"
   ]
  },
  {
   "cell_type": "code",
   "execution_count": 65,
   "id": "31471813-3497-4224-acf3-2bd150a35690",
   "metadata": {},
   "outputs": [],
   "source": [
    "# plt.hist(y_train)\n",
    "# plt.show()"
   ]
  },
  {
   "cell_type": "code",
   "execution_count": 66,
   "id": "26cbcc74-a96c-45c2-9e18-c15480f2be2a",
   "metadata": {},
   "outputs": [
    {
     "data": {
      "image/png": "[encoded data removed]",
      "text/plain": [
       "<Figure size 640x480 with 1 Axes>"
      ]
     },
     "metadata": {},
     "output_type": "display_data"
    }
   ],
   "source": [
    "plt.hist(y_test)\n",
    "plt.show()"
   ]
  },
  {
   "cell_type": "code",
   "execution_count": 67,
   "id": "35467dc2-da99-4dd0-b374-affc9d2571d2",
   "metadata": {},
   "outputs": [
    {
     "name": "stderr",
     "output_type": "stream",
     "text": [
      "[Parallel(n_jobs=14)]: Using backend LokyBackend with 14 concurrent workers.\n"
     ]
    },
    {
     "name": "stdout",
     "output_type": "stream",
     "text": [
      "test_coverage0.9081774081774082\n",
      "test_width6.38376914649564\n",
      "rmse_test1.6650514592757264\n",
      "weights\n",
      "[0.45893100681005344, 0.5410689931899466]\n",
      "\n",
      "\n",
      "test_coverage0.9035574035574035\n",
      "test_width6.224993516616632\n",
      "rmse_test1.6819621380524923\n",
      "weights\n",
      "[0.3183274492208292, 0.6816725507791708]\n",
      "\n",
      "\n",
      "test_coverage0.882016632016632\n",
      "test_width5.539897395130739\n",
      "rmse_test1.652772306471763\n",
      "weights\n",
      "[0.25919618292424407, 0.7408038170757558]\n",
      "\n",
      "\n",
      "test_coverage0.9874682374682374\n",
      "test_width10.923561538318364\n",
      "rmse_test1.662428195367624\n",
      "weights\n",
      "[0.6060230204491414, 0.39397697955085864]\n",
      "\n",
      "\n",
      "test_coverage0.6568491568491569\n",
      "test_width3.0147633389773087\n",
      "rmse_test1.6478595777924336\n",
      "weights\n",
      "[0.09640246528701837, 0.9035975347129818]\n",
      "\n",
      "\n",
      "test_coverage0.8089050589050589\n",
      "test_width4.365453474566976\n",
      "rmse_test1.6419694868277828\n",
      "weights\n",
      "[0.19637955072480684, 0.803620449275193]\n",
      "\n",
      "\n",
      "test_coverage0.7400669900669901\n",
      "test_width3.614991476289785\n",
      "rmse_test1.6470062841845177\n",
      "weights\n",
      "[0.128403098097912, 0.871596901902088]\n",
      "\n",
      "\n",
      "test_coverage0.9941094941094941\n",
      "test_width15.11939814635498\n",
      "rmse_test1.6802420459411997\n",
      "weights\n",
      "[0.8757760512675651, 0.12422394873243509]\n",
      "\n",
      "\n",
      "test_coverage0.6832986832986833\n",
      "test_width3.2518339840493704\n",
      "rmse_test1.654060835191103\n",
      "weights\n",
      "[0.08370678239249314, 0.9162932176075068]\n",
      "\n",
      "\n",
      "test_coverage0.9733194733194733\n",
      "test_width9.880491169364566\n",
      "rmse_test1.6738960456288698\n",
      "weights\n",
      "[0.484865705751723, 0.5151342942482771]\n",
      "\n",
      "\n",
      "test_coverage0.732097482097482\n",
      "test_width3.6749448746400915\n",
      "rmse_test1.6552395950340943\n",
      "weights\n",
      "[0.12400288467037716, 0.8759971153296229]\n",
      "\n",
      "\n",
      "test_coverage0.9998267498267498\n",
      "test_width21.994028106255467\n",
      "rmse_test1.7519532059730907\n",
      "weights\n",
      "[0.8962261485411809, 0.1037738514588192]\n",
      "\n",
      "\n",
      "test_coverage0.9943404943404943\n",
      "test_width13.653446966264173\n",
      "rmse_test1.6892620787062615\n",
      "weights\n",
      "[0.5028615752060394, 0.49713842479396064]\n",
      "\n",
      "\n"
     ]
    },
    {
     "name": "stderr",
     "output_type": "stream",
     "text": [
      "[Parallel(n_jobs=14)]: Done  13 tasks      | elapsed: 15.4min\n"
     ]
    },
    {
     "name": "stdout",
     "output_type": "stream",
     "text": [
      "test_coverage0.9809424809424809\n",
      "test_width10.945984871031508\n",
      "rmse_test1.679037835100029\n",
      "weights\n",
      "[0.6571941480504514, 0.3428058519495486]\n",
      "\n",
      "\n",
      "test_coverage0.8961653961653961\n",
      "test_width5.948859174110961\n",
      "rmse_test1.6680830228323533\n",
      "weights\n",
      "[0.25801192424657576, 0.7419880757534243]\n",
      "\n",
      "\n",
      "test_coverage0.9510857010857011\n",
      "test_width8.267165762735761\n",
      "rmse_test1.6667282022886836\n",
      "weights\n",
      "[0.47083917725966046, 0.5291608227403396]\n",
      "\n",
      "\n",
      "test_coverage0.704954954954955\n",
      "test_width3.3581920274561465\n",
      "rmse_test1.6533946120474599\n",
      "weights\n",
      "[0.15805709858104722, 0.8419429014189528]\n",
      "\n",
      "\n",
      "test_coverage0.924000924000924\n",
      "test_width6.622376570896928\n",
      "rmse_test1.663200442010473\n",
      "weights\n",
      "[0.26633643722113953, 0.7336635627788606]\n",
      "\n",
      "\n",
      "test_coverage0.9610187110187111\n",
      "test_width7.754417763272089\n",
      "rmse_test1.6485346701276138\n",
      "weights\n",
      "[0.3976362920781285, 0.6023637079218714]\n",
      "\n",
      "\n",
      "test_coverage0.9219219219219219\n",
      "test_width6.935197627547756\n",
      "rmse_test1.664546978533991\n",
      "weights\n",
      "[0.39418997223772245, 0.6058100277622775]\n",
      "\n",
      "\n",
      "test_coverage0.8879071379071379\n",
      "test_width5.6276732823102655\n",
      "rmse_test1.6608677047040752\n",
      "weights\n",
      "[0.24520787818367382, 0.7547921218163262]\n",
      "\n",
      "\n",
      "test_coverage0.6481866481866482\n",
      "test_width2.9788390568316396\n",
      "rmse_test1.6848959756230995\n",
      "weights\n",
      "[0.15829605199387076, 0.8417039480061292]\n",
      "\n",
      "\n",
      "test_coverage0.9827327327327328\n",
      "test_width10.812313426318738\n",
      "rmse_test1.6725209003204269\n",
      "weights\n",
      "[0.6692826773433895, 0.33071732265661047]\n",
      "\n",
      "\n",
      "test_coverage0.6937514437514437\n",
      "test_width3.396406706255715\n",
      "rmse_test1.7318891473990774\n",
      "weights\n",
      "[0.08176082946569047, 0.9182391705343096]\n",
      "\n",
      "\n",
      "test_coverage0.7697505197505198\n",
      "test_width4.026468811092758\n",
      "rmse_test1.703755241466402\n",
      "weights\n",
      "[0.12856492460559552, 0.8714350753944045]\n",
      "\n",
      "\n",
      "test_coverage0.8358165858165858\n",
      "test_width4.81368538308124\n",
      "rmse_test1.674393829330272\n",
      "weights\n",
      "[0.18706370004475104, 0.8129362999552491]\n",
      "\n",
      "\n",
      "test_coverage0.7884037884037884\n",
      "test_width4.0271820436834425\n",
      "rmse_test1.6426282805675727\n",
      "weights\n",
      "[0.16099109890407945, 0.8390089010959204]\n",
      "\n",
      "\n",
      "test_coverage0.9147609147609148\n",
      "test_width6.4594460991387095\n",
      "rmse_test1.659319161390595\n",
      "weights\n",
      "[0.3312098038631693, 0.6687901961368308]\n",
      "\n",
      "\n",
      "test_coverage0.6797181797181797\n",
      "test_width3.213198067561362\n",
      "rmse_test1.6614425538422708\n",
      "weights\n",
      "[0.10977453004041768, 0.8902254699595822]\n",
      "\n",
      "\n",
      "test_coverage0.9862554862554862\n",
      "test_width12.01577122048091\n",
      "rmse_test1.6625845513590811\n",
      "weights\n",
      "[0.4563907198067069, 0.5436092801932931]\n",
      "\n",
      "\n"
     ]
    },
    {
     "name": "stderr",
     "output_type": "stream",
     "text": [
      "[Parallel(n_jobs=14)]: Done  30 out of  50 | elapsed: 26.6min remaining: 17.7min\n"
     ]
    },
    {
     "name": "stdout",
     "output_type": "stream",
     "text": [
      "test_coverage0.7982212982212982\n",
      "test_width4.448747791051003\n",
      "rmse_test1.6694930446332008\n",
      "weights\n",
      "[0.19231768025230128, 0.8076823197476989]\n",
      "\n",
      "\n",
      "test_coverage0.9872372372372372\n",
      "test_width12.657679460422054\n",
      "rmse_test1.674191074125013\n",
      "weights\n",
      "[0.7214507723549577, 0.27854922764504225]\n",
      "\n",
      "\n",
      "test_coverage0.9976322476322477\n",
      "test_width14.360526407176472\n",
      "rmse_test1.747612642493379\n",
      "weights\n",
      "[0.8081324796686762, 0.1918675203313235]\n",
      "\n",
      "\n",
      "test_coverage0.9992492492492493\n",
      "test_width19.042056166239178\n",
      "rmse_test1.72574307239507\n",
      "weights\n",
      "[0.720820473881706, 0.27917952611829394]\n",
      "\n",
      "\n",
      "test_coverage0.8944906444906445\n",
      "test_width5.58499500020462\n",
      "rmse_test1.6493108374437124\n",
      "weights\n",
      "[0.27676305950418684, 0.7232369404958131]\n",
      "\n",
      "\n",
      "test_coverage0.6204088704088704\n",
      "test_width2.8421326304835257\n",
      "rmse_test1.6687378715791896\n",
      "weights\n",
      "[0.10997666190927094, 0.890023338090729]\n",
      "\n",
      "\n",
      "test_coverage0.7192192192192193\n",
      "test_width3.5852266881206445\n",
      "rmse_test1.6624045772094542\n",
      "weights\n",
      "[0.07503325290136402, 0.924966747098636]\n",
      "\n",
      "\n"
     ]
    },
    {
     "name": "stderr",
     "output_type": "stream",
     "text": [
      "[Parallel(n_jobs=14)]: Done  37 out of  50 | elapsed: 33.7min remaining: 11.8min\n"
     ]
    },
    {
     "name": "stdout",
     "output_type": "stream",
     "text": [
      "test_coverage0.7006814506814507\n",
      "test_width3.3382291528225743\n",
      "rmse_test1.6511276979131206\n",
      "weights\n",
      "[0.11552032931649707, 0.8844796706835029]\n",
      "\n",
      "\n",
      "test_coverage0.7888080388080388\n",
      "test_width4.199980249723351\n",
      "rmse_test1.6717493408882107\n",
      "weights\n",
      "[0.10733930771909589, 0.8926606922809042]\n",
      "\n",
      "\n",
      "test_coverage0.9730884730884731\n",
      "test_width9.114087480644246\n",
      "rmse_test1.6778856629573133\n",
      "weights\n",
      "[0.4066175252909404, 0.5933824747090596]\n",
      "\n",
      "\n",
      "test_coverage0.774024024024024\n",
      "test_width3.9645892100098297\n",
      "rmse_test1.6450428228203386\n",
      "weights\n",
      "[0.0863908526584477, 0.9136091473415524]\n",
      "\n",
      "\n",
      "test_coverage0.8327558327558328\n",
      "test_width4.759924198978596\n",
      "rmse_test1.6441111261542545\n",
      "weights\n",
      "[0.19922959249590552, 0.8007704075040945]\n",
      "\n",
      "\n",
      "test_coverage0.9978054978054978\n",
      "test_width19.371226752169186\n",
      "rmse_test1.7029230469575514\n",
      "weights\n",
      "[0.7853210772116167, 0.21467892278838333]\n",
      "\n",
      "\n",
      "test_coverage0.8435550935550935\n",
      "test_width4.917783322317916\n",
      "rmse_test1.669342267930787\n",
      "weights\n",
      "[0.17394184833391083, 0.8260581516660892]\n",
      "\n",
      "\n"
     ]
    },
    {
     "name": "stderr",
     "output_type": "stream",
     "text": [
      "[Parallel(n_jobs=14)]: Done  44 out of  50 | elapsed: 38.2min remaining:  5.2min\n"
     ]
    },
    {
     "name": "stdout",
     "output_type": "stream",
     "text": [
      "test_coverage0.9736659736659736\n",
      "test_width9.58678814031276\n",
      "rmse_test1.7057666126714537\n",
      "weights\n",
      "[0.481489472852546, 0.518510527147454]\n",
      "\n",
      "\n",
      "test_coverage0.6646454146454146\n",
      "test_width3.114823516848666\n",
      "rmse_test1.6810419547217845\n",
      "weights\n",
      "[0.07558565535182517, 0.9244143446481747]\n",
      "\n",
      "\n",
      "test_coverage0.8684453684453685\n",
      "test_width5.321642758992805\n",
      "rmse_test1.657750871653047\n",
      "weights\n",
      "[0.22093479073571975, 0.7790652092642802]\n",
      "\n",
      "\n",
      "test_coverage0.9778817278817279\n",
      "test_width10.264981214206399\n",
      "rmse_test1.67541480875291\n",
      "weights\n",
      "[0.4726957968937658, 0.5273042031062343]\n",
      "\n",
      "\n",
      "test_coverage0.9930699930699931\n",
      "test_width14.537032203171133\n",
      "rmse_test1.6983933070369974\n",
      "weights\n",
      "[0.5709395048585411, 0.42906049514145905]\n",
      "\n",
      "\n",
      "test_coverage0.9962462462462462\n",
      "test_width12.843905833384825\n",
      "rmse_test1.6851626838219531\n",
      "weights\n",
      "[0.6027807943138782, 0.39721920568612185]\n",
      "\n",
      "\n"
     ]
    },
    {
     "name": "stderr",
     "output_type": "stream",
     "text": [
      "[Parallel(n_jobs=14)]: Done  50 out of  50 | elapsed: 43.4min finished\n"
     ]
    }
   ],
   "source": [
    "catch = Parallel(n_jobs = 14, verbose = 8, backend = \"loky\")(delayed(get_results)(idx, var_weights = 1, var_weight_weights = 1, var_D = 1, inflation_factor =1, fudging_beta = beta(1,19), \n",
    "           fudging_var = 2*1e-3, print_true = False) for idx in range(0,50))"
   ]
  },
  {
   "cell_type": "code",
   "execution_count": 68,
   "id": "98993605-92f6-463c-858c-90a367878d65",
   "metadata": {},
   "outputs": [],
   "source": [
    "with open(\"..//Data//DeepCDR_run_config3.pickle\", \"wb\") as f: \n",
    "    pickle.dump(catch, f)"
   ]
  },
  {
   "cell_type": "code",
   "execution_count": 69,
   "id": "729e4e81-2b6f-468b-b5e6-9f163f7f6e7f",
   "metadata": {},
   "outputs": [],
   "source": [
    "with open(\"..//Data//DeepCDR_run_config3.pickle\", \"rb\") as f: \n",
    "    catch = pickle.load(f)"
   ]
  },
  {
   "cell_type": "code",
   "execution_count": 70,
   "id": "7202c3de-aa9b-4caf-a888-6f0b403c8ae2",
   "metadata": {},
   "outputs": [],
   "source": [
    "all_metrics = []\n",
    "all_weights = []\n",
    "for i in range(0,50):\n",
    "    item = catch[i]\n",
    "    metrics = item[:7]\n",
    "    weights = item[-2:]\n",
    "    all_metrics.append(metrics)\n",
    "    all_weights.append(weights)\n",
    "    "
   ]
  },
  {
   "cell_type": "code",
   "execution_count": 71,
   "id": "e7810a09-238e-4c52-a240-ce10d4c333b1",
   "metadata": {},
   "outputs": [],
   "source": [
    "all_metrics_df = pd.DataFrame(all_metrics)"
   ]
  },
  {
   "cell_type": "code",
   "execution_count": 72,
   "id": "75c841de-eac9-4e80-926f-5a5963b8dab3",
   "metadata": {},
   "outputs": [],
   "source": [
    "all_weights_df = pd.DataFrame(all_weights)"
   ]
  },
  {
   "cell_type": "code",
   "execution_count": 73,
   "id": "a17cfa9b-5572-4c54-9359-3b8e8a686c35",
   "metadata": {},
   "outputs": [],
   "source": [
    "all_df = pd.concat([all_metrics_df, all_weights_df], axis = 1)"
   ]
  },
  {
   "cell_type": "code",
   "execution_count": 74,
   "id": "37da7b5c-b592-4c7d-a502-7b6483c7aedb",
   "metadata": {},
   "outputs": [],
   "source": [
    "all_df.columns = ['train_width', 'coverage_train', 'rmse_train', 'test_width', 'coverage_test', 'rmse_test', 'pearson_r', \n",
    "                    \"DeepCDR_Drugs\", \"DeepCDR_Omics\"]"
   ]
  },
  {
   "cell_type": "code",
   "execution_count": 75,
   "id": "49a2fb4f-6c49-4bf1-9c49-bdf6fc68b144",
   "metadata": {},
   "outputs": [
    {
     "data": {
      "text/plain": [
       "train_width       7.659957\n",
       "coverage_train    0.876147\n",
       "rmse_train        1.588636\n",
       "test_width        7.654022\n",
       "coverage_test     0.863851\n",
       "rmse_test         1.673295\n",
       "pearson_r         0.807333\n",
       "DeepCDR_Drugs     0.347304\n",
       "DeepCDR_Omics     0.652696\n",
       "dtype: float64"
      ]
     },
     "execution_count": 75,
     "metadata": {},
     "output_type": "execute_result"
    }
   ],
   "source": [
    "all_df.mean()"
   ]
  },
  {
   "cell_type": "code",
   "execution_count": 76,
   "id": "131b93bb-872e-4c01-8f4d-c3dee3dfc55b",
   "metadata": {},
   "outputs": [
    {
     "data": {
      "text/plain": [
       "train_width       4.826879\n",
       "coverage_train    0.114053\n",
       "rmse_train        0.031839\n",
       "test_width        4.806692\n",
       "coverage_test     0.121491\n",
       "rmse_test         0.025441\n",
       "pearson_r         0.006479\n",
       "DeepCDR_Drugs     0.240963\n",
       "DeepCDR_Omics     0.240963\n",
       "dtype: float64"
      ]
     },
     "execution_count": 76,
     "metadata": {},
     "output_type": "execute_result"
    }
   ],
   "source": [
    "all_df.std()"
   ]
  }
 ],
 "metadata": {
  "kernelspec": {
   "display_name": "enkf",
   "language": "python",
   "name": "enkf"
  },
  "language_info": {
   "codemirror_mode": {
    "name": "ipython",
    "version": 3
   },
   "file_extension": ".py",
   "mimetype": "text/x-python",
   "name": "python",
   "nbconvert_exporter": "python",
   "pygments_lexer": "ipython3",
   "version": "3.11.3"
  }
 },
 "nbformat": 4,
 "nbformat_minor": 5
}
