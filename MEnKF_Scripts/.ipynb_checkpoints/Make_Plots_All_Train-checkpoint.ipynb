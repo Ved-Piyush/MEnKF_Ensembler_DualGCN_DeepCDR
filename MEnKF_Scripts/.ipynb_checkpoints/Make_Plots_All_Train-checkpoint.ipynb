{
 "cells": [
  {
   "cell_type": "code",
   "execution_count": null,
   "id": "da68f727-3a7e-4b57-be0d-4991d3d4cb9e",
   "metadata": {},
   "outputs": [],
   "source": [
    "import pickle"
   ]
  },
  {
   "cell_type": "code",
   "execution_count": null,
   "id": "056c5e35-e9da-4afc-ab5d-c72e80232ee8",
   "metadata": {},
   "outputs": [],
   "source": [
    "with open(\"..//Data//..//Data//DeepCDR_DualGCN_combo_run_plot_from_jupyter_all_train.pickle\", \"rb\") as f: \n",
    "    catch = pickle.load(f)"
   ]
  },
  {
   "cell_type": "code",
   "execution_count": null,
   "id": "2fa32eb4-fdf1-4d69-a434-30a648a8ad8a",
   "metadata": {},
   "outputs": [],
   "source": [
    "from scipy.optimize import curve_fit"
   ]
  },
  {
   "cell_type": "code",
   "execution_count": null,
   "id": "2ba6786b-83e7-4aa7-a997-1ca4ba2c0ae0",
   "metadata": {},
   "outputs": [],
   "source": [
    "from scipy.stats import norm"
   ]
  },
  {
   "cell_type": "code",
   "execution_count": null,
   "id": "21309d81-bb5e-4520-bfff-e4228f54f89b",
   "metadata": {},
   "outputs": [],
   "source": [
    "from scipy import stats"
   ]
  },
  {
   "cell_type": "code",
   "execution_count": null,
   "id": "73f549e0-2328-4af9-9b83-c5726362578e",
   "metadata": {},
   "outputs": [],
   "source": [
    "import matplotlib.pyplot as plt"
   ]
  },
  {
   "cell_type": "code",
   "execution_count": null,
   "id": "738d0279-67de-4c07-8566-0b8a530f0a46",
   "metadata": {},
   "outputs": [],
   "source": [
    "def gaussian(x, mean, amplitude, standard_deviation):\n",
    "    return amplitude * np.exp( - (x - mean)**2 / (2*standard_deviation ** 2))"
   ]
  },
  {
   "cell_type": "code",
   "execution_count": null,
   "id": "ca9f546f-4d65-41c4-a1bc-b999ddc4fdde",
   "metadata": {},
   "outputs": [],
   "source": [
    "import numpy as np"
   ]
  },
  {
   "cell_type": "code",
   "execution_count": null,
   "id": "cea2c58a-092d-42cf-a113-f4d0560dc432",
   "metadata": {},
   "outputs": [],
   "source": [
    "stats.probplot(catch[0][-4:][-1][:,0], dist=\"norm\", plot=plt)\n",
    "plt.show()"
   ]
  },
  {
   "cell_type": "code",
   "execution_count": null,
   "id": "4f509b1b-35ad-485b-b57d-272cbb18a4df",
   "metadata": {},
   "outputs": [],
   "source": [
    "with open(\"..//Data//DeepCDR_DualGCN_combo_run_plot_from_jupyter_test_features_and_ground_truth_all_train.pickle\", \"rb\") as f: \n",
    "    current_test = pickle.load( f)"
   ]
  },
  {
   "cell_type": "code",
   "execution_count": null,
   "id": "38683912-e01b-424b-af44-438252b4fdc7",
   "metadata": {},
   "outputs": [],
   "source": [
    "# current_test[-1]"
   ]
  },
  {
   "cell_type": "code",
   "execution_count": null,
   "id": "e26faf54-7deb-4a04-954e-2dc0c7cf209d",
   "metadata": {},
   "outputs": [],
   "source": [
    "# best_test_preds, best_li, best_ui, best_residuals"
   ]
  },
  {
   "cell_type": "code",
   "execution_count": null,
   "id": "3eb3f0ac-e296-4b03-9489-a7364f9ba9e5",
   "metadata": {},
   "outputs": [],
   "source": [
    "y_test = current_test[-1]"
   ]
  },
  {
   "cell_type": "code",
   "execution_count": null,
   "id": "d591bba5-cba6-4080-9e32-da9130dd3b7c",
   "metadata": {},
   "outputs": [],
   "source": [
    "add_preds = np.zeros((y_test.shape[0], y_test.shape[1]))\n",
    "for item in catch: \n",
    "    preds = item[-4]\n",
    "    add_preds+= preds"
   ]
  },
  {
   "cell_type": "code",
   "execution_count": null,
   "id": "32a10091-6b00-4211-8969-bebc1ce849ca",
   "metadata": {},
   "outputs": [],
   "source": [
    "averaged_preds = add_preds/50"
   ]
  },
  {
   "cell_type": "code",
   "execution_count": null,
   "id": "79a91f42-7a00-46bc-9e90-5fae21f98541",
   "metadata": {},
   "outputs": [],
   "source": [
    "from sklearn.metrics import mean_squared_error"
   ]
  },
  {
   "cell_type": "code",
   "execution_count": null,
   "id": "017c8822-447d-42a7-a05f-c2ff3f213528",
   "metadata": {},
   "outputs": [],
   "source": [
    "mse = mean_squared_error(y_test, averaged_preds)"
   ]
  },
  {
   "cell_type": "code",
   "execution_count": null,
   "id": "aa37bb24-a945-4d71-9715-8a328f5e2031",
   "metadata": {},
   "outputs": [],
   "source": [
    "np.sqrt(mse)"
   ]
  },
  {
   "cell_type": "code",
   "execution_count": null,
   "id": "851fd6c0-7e34-4575-9411-70bc759b8f71",
   "metadata": {},
   "outputs": [],
   "source": [
    "from scipy.stats import pearsonr"
   ]
  },
  {
   "cell_type": "code",
   "execution_count": null,
   "id": "17e116d6-1138-45d4-ad69-8cb702848266",
   "metadata": {},
   "outputs": [],
   "source": [
    "pearsonr_test = pearsonr(y_test.reshape(y_test.shape[0],), \n",
    "                                 averaged_preds.reshape(averaged_preds.shape[0],))"
   ]
  },
  {
   "cell_type": "code",
   "execution_count": null,
   "id": "0d54ae0c-78f8-425f-a3d2-9e9576a38877",
   "metadata": {},
   "outputs": [],
   "source": [
    "pearsonr_test.statistic"
   ]
  },
  {
   "cell_type": "code",
   "execution_count": null,
   "id": "33e3fb53-4d09-43f6-aad2-65addb340334",
   "metadata": {},
   "outputs": [],
   "source": [
    "fig = plt.figure()\n",
    "plt.scatter(y_test, averaged_preds, alpha = 0.1)\n",
    "plt.axline((0,0), slope = 1, c = \"black\")\n",
    "plt.xlabel(\"Observed Log(IC50)\", fontweight = \"bold\",fontsize = 15)\n",
    "plt.ylabel(\"MEnKF-ANN Predicted Log(IC50)\", fontweight = \"bold\", fontsize = 15)\n",
    "plt.xticks(fontsize = 10, fontweight = \"bold\")\n",
    "plt.yticks(fontsize = 10, fontweight = \"bold\")\n",
    "fig.savefig('Plots/MEnKF_DeepCDR_DualGCN_Scatterplot_averaged_50_all_train.pdf', bbox_inches='tight', format = \"pdf\")\n",
    "fig.savefig('Plots/MEnKF_DeepCDR_DualGCN_Scatterplot_averaged_50_all_train.png', bbox_inches='tight')\n",
    "plt.show()"
   ]
  },
  {
   "cell_type": "code",
   "execution_count": null,
   "id": "f3a2c088-a9db-40af-bdaf-239d65f85975",
   "metadata": {},
   "outputs": [],
   "source": [
    "# averaged residuals\n",
    "add_resids = np.zeros((y_test.shape[0], y_test.shape[1]))\n",
    "for item in catch: \n",
    "    resids = item[-1]\n",
    "    add_resids+= resids"
   ]
  },
  {
   "cell_type": "code",
   "execution_count": null,
   "id": "d4962d3b-dbdb-4826-b12c-be59f12b9c37",
   "metadata": {},
   "outputs": [],
   "source": [
    "averaged_resids = add_resids/50"
   ]
  },
  {
   "cell_type": "code",
   "execution_count": null,
   "id": "a729dd9a-0907-4cb4-8031-8e24b87b3b3d",
   "metadata": {},
   "outputs": [],
   "source": [
    "averaged_resids"
   ]
  },
  {
   "cell_type": "code",
   "execution_count": null,
   "id": "2d19d174-338a-403c-a498-db9b6236b22b",
   "metadata": {},
   "outputs": [],
   "source": [
    "# gaussian(x_interval_for_fit, *popt).sum()"
   ]
  },
  {
   "cell_type": "code",
   "execution_count": null,
   "id": "4fb91407-3e01-4b27-a5ad-15ba275719e7",
   "metadata": {},
   "outputs": [],
   "source": [
    "# popt"
   ]
  },
  {
   "cell_type": "code",
   "execution_count": null,
   "id": "d3be2698-35b1-4fb4-87d3-407f3c07e910",
   "metadata": {},
   "outputs": [],
   "source": [
    "from scipy.stats import norm\n",
    "import matplotlib.mlab as mlab\n",
    "import matplotlib.pyplot as plt"
   ]
  },
  {
   "cell_type": "code",
   "execution_count": null,
   "id": "86b56ba8-7ccf-4ff4-aa9b-e72f3c6d6f48",
   "metadata": {},
   "outputs": [],
   "source": [
    "from scipy.stats import norm"
   ]
  },
  {
   "cell_type": "code",
   "execution_count": null,
   "id": "798c89f5-e837-4f22-a536-9dd340ba2fab",
   "metadata": {},
   "outputs": [],
   "source": [
    "# Fit a normal distribution to the data:\n",
    "mu, std = norm.fit(averaged_resids)\n",
    "\n",
    "# Plot the histogram.\n",
    "plt.hist(averaged_resids, bins=50, density=True, alpha=0.6, color='blue')\n",
    "\n",
    "# Plot the PDF.\n",
    "xmin, xmax = plt.xlim()\n",
    "x = np.linspace(xmin, xmax, 100)\n",
    "p = norm.pdf(x, mu, std)\n",
    "plt.plot(x, p, 'k', linewidth=2)\n",
    "title = \"Fit results: mu = %.2f,  std = %.2f\" % (mu, std)\n",
    "plt.title(title)\n",
    "\n",
    "plt.show()"
   ]
  },
  {
   "cell_type": "code",
   "execution_count": null,
   "id": "d02e9795-218b-4f2b-b414-954552c4b171",
   "metadata": {},
   "outputs": [],
   "source": [
    "sort_averaged_resids = np.sort(averaged_resids)"
   ]
  },
  {
   "cell_type": "code",
   "execution_count": null,
   "id": "2cad2018-d85c-49b0-b35b-c68ac3ee6206",
   "metadata": {},
   "outputs": [],
   "source": [
    "percentiles = np.arange(0, len(sort_averaged_resids))/len(sort_averaged_resids)"
   ]
  },
  {
   "cell_type": "code",
   "execution_count": null,
   "id": "aaaedcd0-bd89-4c5f-9db0-71ec733352e7",
   "metadata": {},
   "outputs": [],
   "source": [
    "sorted_data = np.percentile(sort_averaged_resids, q = percentiles*100)"
   ]
  },
  {
   "cell_type": "code",
   "execution_count": null,
   "id": "60002093-2f1b-433a-93a5-71427ab55465",
   "metadata": {},
   "outputs": [],
   "source": [
    "mu, sigma = norm.fit(averaged_resids)"
   ]
  },
  {
   "cell_type": "code",
   "execution_count": null,
   "id": "3be40ac3-04fa-4e1f-b707-f1f4c19503c5",
   "metadata": {},
   "outputs": [],
   "source": [
    "theoretical = norm.ppf( percentiles, mu, sigma) "
   ]
  },
  {
   "cell_type": "code",
   "execution_count": null,
   "id": "fa086412-6b54-4a3a-8f93-9cef0ae9419d",
   "metadata": {},
   "outputs": [],
   "source": [
    "plt.scatter(theoretical, sorted_data)\n",
    "plt.axline((0,0), slope = 1)\n",
    "plt.show()"
   ]
  },
  {
   "cell_type": "code",
   "execution_count": null,
   "id": "6fdbf3cc-b6b4-4db6-8abc-8bba609c11c7",
   "metadata": {},
   "outputs": [],
   "source": [
    "# sort_averaged_resids"
   ]
  },
  {
   "cell_type": "code",
   "execution_count": null,
   "id": "e4026386-5b8d-4dbc-a646-f0056a36a8d1",
   "metadata": {},
   "outputs": [],
   "source": [
    "fig = plt.figure()\n",
    "_, bins, _ = plt.hist(averaged_resids, 100, density=1)\n",
    "mu, sigma = norm.fit(averaged_resids)\n",
    "best_fit_line = norm.pdf(bins, mu, sigma)\n",
    "plt.plot(bins, best_fit_line)\n",
    "# plt.legend()\n",
    "plt.xlabel(\"Residuals\", fontweight = \"bold\",fontsize = 15)\n",
    "plt.ylabel(\"Density\", fontweight = \"bold\", fontsize = 15)\n",
    "plt.xticks(fontsize = 10, fontweight = \"bold\")\n",
    "plt.yticks(fontsize = 10, fontweight = \"bold\")\n",
    "fig.savefig('Plots/MEnKF_DeepCDR_DualGCN_Residual_Hist_Overlay_averaged_50_all_train.pdf', bbox_inches='tight', format = \"pdf\")\n",
    "fig.savefig('Plots/MEnKF_DeepCDR_DualGCN_Residual_Hist_Overlay_averaged_50_all_train.png', bbox_inches='tight')\n",
    "plt.show()"
   ]
  },
  {
   "cell_type": "code",
   "execution_count": null,
   "id": "465ea867-4c8c-48c6-880a-8c3e528d0aba",
   "metadata": {},
   "outputs": [],
   "source": [
    "np.max(averaged_resids)"
   ]
  },
  {
   "cell_type": "code",
   "execution_count": null,
   "id": "6e4be513-f02f-46f2-9b7d-8abde3d1cd2e",
   "metadata": {},
   "outputs": [],
   "source": [
    "np.min(averaged_resids)"
   ]
  },
  {
   "cell_type": "code",
   "execution_count": null,
   "id": "37d1c7cb-97a6-4a5f-b522-bb8e0e2070db",
   "metadata": {},
   "outputs": [],
   "source": [
    "norm.cdf(np.max(averaged_resids), mu, sigma) - norm.cdf(np.min(averaged_resids), mu, sigma)"
   ]
  },
  {
   "cell_type": "code",
   "execution_count": null,
   "id": "5619cfa9-1c1f-449f-9d6a-d1e247bf47b4",
   "metadata": {},
   "outputs": [],
   "source": [
    "# popt"
   ]
  },
  {
   "cell_type": "code",
   "execution_count": null,
   "id": "d7571fbc-57cc-47b0-a65e-458a632e283d",
   "metadata": {},
   "outputs": [],
   "source": [
    "# fig = plt.figure()\n",
    "# bin_heights, bin_borders, _ = plt.hist(averaged_resids, bins='auto', label='histogram')\n",
    "# bin_centers = bin_borders[:-1] + np.diff(bin_borders) / 2\n",
    "# popt, _ = curve_fit(gaussian, bin_centers, bin_heights, p0=[1., 0., 1.])\n",
    "\n",
    "# x_interval_for_fit = np.linspace(bin_borders[0], bin_borders[-1], 10000)\n",
    "# plt.plot(x_interval_for_fit, gaussian(x_interval_for_fit, *popt), label='fit')\n",
    "# plt.legend()\n",
    "# plt.xlabel(\"Residuals\", fontweight = \"bold\",fontsize = 15)\n",
    "# plt.ylabel(\"Frequency\", fontweight = \"bold\", fontsize = 15)\n",
    "# plt.xticks(fontsize = 10, fontweight = \"bold\")\n",
    "# plt.yticks(fontsize = 10, fontweight = \"bold\")\n",
    "# fig.savefig('MEnKF_DeepCDR_DualGCN_Residual_Hist_Overlay_averaged_50.pdf', bbox_inches='tight', format = \"pdf\")\n",
    "# fig.savefig('MEnKF_DeepCDR_DualGCN_Residual_Hist_Overlay_averaged_50.png', bbox_inches='tight')\n",
    "# plt.show()"
   ]
  },
  {
   "cell_type": "code",
   "execution_count": null,
   "id": "f8c73bb4-081b-4eeb-a91b-e7854c73d12b",
   "metadata": {},
   "outputs": [],
   "source": [
    "# fig = plt.figure()\n",
    "# stats.probplot(averaged_resids[:,0], dist=\"norm\", plot=plt)\n",
    "# plt.xlabel(\"Theoretical Quantiles\", fontweight = \"bold\",fontsize = 15)\n",
    "# plt.ylabel(\"Ordered Values\", fontweight = \"bold\", fontsize = 15)\n",
    "# plt.xticks(fontsize = 10, fontweight = \"bold\")\n",
    "# plt.yticks(fontsize = 10, fontweight = \"bold\")\n",
    "# plt.title(\"\")\n",
    "# fig.savefig('MEnKF_DeepCDR_DualGCN_QQ_Plot_averaged_50.pdf', bbox_inches='tight', format = \"pdf\")\n",
    "# fig.savefig('MEnKF_DeepCDR_DualGCN_QQ_Plot_averaged_50.png', bbox_inches='tight')\n",
    "# plt.show()"
   ]
  },
  {
   "cell_type": "code",
   "execution_count": null,
   "id": "15540eb8-2303-4b0d-8262-435d0e4f63f6",
   "metadata": {},
   "outputs": [],
   "source": [
    "_, bins, _ = plt.hist(averaged_resids, 100, density=1)\n",
    "mu, sigma = norm.fit(averaged_resids)\n",
    "best_fit_line = norm.pdf(bins, mu, sigma)\n",
    "plt.plot(bins, best_fit_line)\n",
    "# plt.legend()\n",
    "plt.xlabel(\"Residuals\", fontweight = \"bold\",fontsize = 15)\n",
    "plt.ylabel(\"Density\", fontweight = \"bold\", fontsize = 15)\n",
    "plt.xticks(fontsize = 10, fontweight = \"bold\")\n",
    "plt.yticks(fontsize = 10, fontweight = \"bold\")\n",
    "fig.savefig('Plots/MEnKF_DeepCDR_DualGCN_Residual_Hist_Overlay_averaged_50_all_train.pdf', bbox_inches='tight', format = \"pdf\")\n",
    "fig.savefig('Plots/MEnKF_DeepCDR_DualGCN_Residual_Hist_Overlay_averaged_50_all_train.png', bbox_inches='tight')\n",
    "plt.show()"
   ]
  },
  {
   "cell_type": "code",
   "execution_count": null,
   "id": "c0d4b418-fb1c-45b1-8c9b-1fffc37b80a0",
   "metadata": {},
   "outputs": [],
   "source": [
    "fig, axs = plt.subplots(1, 2,figsize=(15, 5))\n",
    "# fig, axs = plt.subplots(4, 2)\n",
    "axs = axs.ravel()\n",
    "axs[0].hist(averaged_resids, 100, density=1)\n",
    "mu, sigma = norm.fit(averaged_resids)\n",
    "best_fit_line = norm.pdf(bins, mu, sigma)\n",
    "axs[0].plot(bins, best_fit_line,linewidth = 3, c  =\"green\")\n",
    "axs[1].scatter(theoretical, sorted_data,s = 50)\n",
    "axs[1].axline((0,0), slope = 1, c  =\"green\", linewidth = 3)\n",
    "\n",
    "plt.setp(axs[0].get_xticklabels(), fontsize=14, fontweight=\"bold\"\n",
    "        )\n",
    "    \n",
    "plt.setp(axs[0].get_yticklabels(), fontsize=14, fontweight=\"bold\")\n",
    "plt.setp(axs[1].get_xticklabels(), fontsize=14, fontweight=\"bold\"\n",
    "        )\n",
    "plt.setp(axs[1].get_yticklabels(), fontsize=14, fontweight=\"bold\")\n",
    "    \n",
    "# plt.setp(axs[1].get_yticklabels(), fontsize=14, fontweight=\"bold\")\n",
    "axs[0].set(xlabel=\"Residuals\", ylabel=\"Density\")\n",
    "axs[1].set(xlabel=\"Theoretical Quantiles\", ylabel=\"Ordered Residuals\")\n",
    "axs[0].xaxis.label.set(fontsize=14, fontweight=\"bold\")\n",
    "axs[1].xaxis.label.set(fontsize=14, fontweight=\"bold\")\n",
    "axs[0].yaxis.label.set(fontsize=14, fontweight=\"bold\")\n",
    "axs[1].yaxis.label.set(fontsize=14, fontweight=\"bold\")\n",
    "fig.savefig('Plots/MEnKF_DeepCDR_DualGCN_QQ_HistPlot_averaged_50_all_train.pdf', bbox_inches='tight', format = \"pdf\")\n",
    "fig.savefig('Plots/MEnKF_DeepCDR_DualGCN_QQ_HistPlot_averaged_50_all_train.png', bbox_inches='tight')\n",
    "plt.show()"
   ]
  },
  {
   "cell_type": "code",
   "execution_count": null,
   "id": "c7e54c98-16d3-4f8e-a90e-ca96fce968af",
   "metadata": {},
   "outputs": [],
   "source": [
    "import pandas as pd"
   ]
  },
  {
   "cell_type": "code",
   "execution_count": null,
   "id": "86caa0f3-49a5-4757-aed9-0fb500b652fa",
   "metadata": {},
   "outputs": [],
   "source": [
    "catch_dfs = []\n",
    "for item in catch: \n",
    "    item1 = item[-12:-8]\n",
    "    DeepCDR_Drugs, DeepCDR_Omics, DualGCN_Drugs, DualGCN_Omics = np.array(item1[0])[:,0], np.array(item1[1])[:,0], np.array(item1[2])[:,0], np.array(item1[3])[:,0]\n",
    "    combo = np.hstack((DeepCDR_Drugs.reshape(-1,1), DeepCDR_Omics.reshape(-1,1), DualGCN_Drugs.reshape(-1,1), DualGCN_Omics.reshape(-1,1)))\n",
    "    combo_df = pd.DataFrame(combo)\n",
    "    combo_df.columns = [\"DeepCDR_Drugs\", \"DeepCDR_Omics\", \"DualGCN_Drugs\", \"DualGCN_Omics\"]\n",
    "    combo_df[\"update_iteration\"] = np.array(list(range(0, combo_df.shape[0]))) + 1\n",
    "    catch_dfs.append(combo_df)"
   ]
  },
  {
   "cell_type": "code",
   "execution_count": null,
   "id": "f1328bd9-ecb2-42cc-a4a8-002e91142946",
   "metadata": {},
   "outputs": [],
   "source": [
    "catch_dfs_df = pd.concat(catch_dfs)"
   ]
  },
  {
   "cell_type": "code",
   "execution_count": null,
   "id": "39b08957-6cc5-4a64-b766-5a2a6950c952",
   "metadata": {},
   "outputs": [],
   "source": [
    "catch_dfs_df.shape"
   ]
  },
  {
   "cell_type": "code",
   "execution_count": null,
   "id": "0d3be80e-55d6-4d91-b8b3-6fc7bab20f54",
   "metadata": {},
   "outputs": [],
   "source": [
    "how_often_at_each_update  = catch_dfs_df.groupby(\"update_iteration\")[[\"DeepCDR_Drugs\"]].count()"
   ]
  },
  {
   "cell_type": "code",
   "execution_count": null,
   "id": "805a8c24-2268-452d-9d7e-8c01841f34c2",
   "metadata": {},
   "outputs": [],
   "source": [
    "how_often_at_each_update.columns = [\"counts\"]"
   ]
  },
  {
   "cell_type": "code",
   "execution_count": null,
   "id": "37fc7e91-c7f2-4e36-b482-34c1d66ce9b6",
   "metadata": {},
   "outputs": [],
   "source": [
    "how_often_at_each_update = how_often_at_each_update.reset_index()"
   ]
  },
  {
   "cell_type": "code",
   "execution_count": null,
   "id": "5b75b283-3538-4832-ba86-0157d03d0397",
   "metadata": {},
   "outputs": [],
   "source": [
    "fig = plt.figure()\n",
    "plt.plot(how_often_at_each_update[\"counts\"], linewidth = 3)\n",
    "plt.xlabel(\"Update Iteration\", fontsize = 15, fontweight = \"bold\")\n",
    "plt.ylabel(\"Count\", fontsize = 15, fontweight = \"bold\")\n",
    "plt.xticks( fontsize = 10, fontweight = \"bold\")\n",
    "plt.yticks( fontsize = 10, fontweight = \"bold\")\n",
    "fig.savefig('Plots/MEnKF_DeepCDR_DualGCN_Update_Iterations_averaged_50_all_train.pdf', bbox_inches='tight', format = \"pdf\")\n",
    "fig.savefig('Plots/MEnKF_DeepCDR_DualGCN_Update_Iterations_averaged_50_all_train.png', bbox_inches='tight')\n",
    "plt.show()"
   ]
  },
  {
   "cell_type": "code",
   "execution_count": null,
   "id": "fc65e221-9544-4825-9d8e-8ed81d5e37ec",
   "metadata": {},
   "outputs": [],
   "source": [
    "plt.plot(np.cumsum(how_often_at_each_update[\"counts\"].values)/how_often_at_each_update[\"counts\"].values.sum() , linewidth = 3)"
   ]
  },
  {
   "cell_type": "code",
   "execution_count": null,
   "id": "f3a2a1d0-134c-457c-a709-9bc5a17138d2",
   "metadata": {},
   "outputs": [],
   "source": [
    "# plt.hist()"
   ]
  },
  {
   "cell_type": "code",
   "execution_count": null,
   "id": "3c7d9149-bc00-4beb-9d7d-7f213f8d8e01",
   "metadata": {},
   "outputs": [],
   "source": [
    "# mean_weights_at_each_update.sum(1)"
   ]
  },
  {
   "cell_type": "code",
   "execution_count": null,
   "id": "45c65ae2-e2a5-4ba9-be8d-f7de98651bc9",
   "metadata": {},
   "outputs": [],
   "source": [
    "# mean_weights_at_each_update"
   ]
  },
  {
   "cell_type": "code",
   "execution_count": null,
   "id": "5f2d7088-d664-4a69-85a8-2608832fa0ac",
   "metadata": {},
   "outputs": [],
   "source": [
    "# how_many = how_often_at_each_update.shape[0]\n",
    "how_many = 60"
   ]
  },
  {
   "cell_type": "code",
   "execution_count": null,
   "id": "ce26f9ee-bbcb-415c-8f34-e8c61e3b5684",
   "metadata": {},
   "outputs": [],
   "source": [
    "mean_weights_at_each_update  = catch_dfs_df.groupby(\"update_iteration\").mean()\n",
    "mean_weights_at_each_update = mean_weights_at_each_update.reset_index()"
   ]
  },
  {
   "cell_type": "code",
   "execution_count": null,
   "id": "124bc5a9-aff5-42ba-b8f6-314f3cf3f775",
   "metadata": {},
   "outputs": [],
   "source": [
    "mean_weights_at_each_update = mean_weights_at_each_update[mean_weights_at_each_update[\"update_iteration\"] <= how_many]"
   ]
  },
  {
   "cell_type": "code",
   "execution_count": null,
   "id": "1d076cdf-9850-47ce-a976-582c919d854b",
   "metadata": {},
   "outputs": [],
   "source": [
    "mean_weights_at_each_update = mean_weights_at_each_update.set_index(\"update_iteration\")"
   ]
  },
  {
   "cell_type": "code",
   "execution_count": null,
   "id": "411baa4c-3d3c-4cfd-a5f4-382e0d1732b3",
   "metadata": {},
   "outputs": [],
   "source": [
    "std_weights_at_each_update = catch_dfs_df.groupby(\"update_iteration\").std()\n",
    "std_weights_at_each_update = std_weights_at_each_update.reset_index()"
   ]
  },
  {
   "cell_type": "code",
   "execution_count": null,
   "id": "34b2b010-f548-4558-9901-e9bae687de5a",
   "metadata": {},
   "outputs": [],
   "source": [
    "std_weights_at_each_update = std_weights_at_each_update[std_weights_at_each_update[\"update_iteration\"] <= how_many]"
   ]
  },
  {
   "cell_type": "code",
   "execution_count": null,
   "id": "5127fe10-40e6-4297-af08-2db4ffb80f5b",
   "metadata": {},
   "outputs": [],
   "source": [
    "std_weights_at_each_update.shape"
   ]
  },
  {
   "cell_type": "code",
   "execution_count": null,
   "id": "e8880cae-9ec2-4481-adca-55e1849133ab",
   "metadata": {},
   "outputs": [],
   "source": [
    "# std_weights_at_each_update = std_weights_at_each_update.reset_index()"
   ]
  },
  {
   "cell_type": "code",
   "execution_count": null,
   "id": "753b673b-2981-475d-9704-375dc7e71954",
   "metadata": {},
   "outputs": [],
   "source": [
    "std_weights_at_each_update = std_weights_at_each_update.set_index(\"update_iteration\")"
   ]
  },
  {
   "cell_type": "code",
   "execution_count": null,
   "id": "7bba1a8f-ec8d-4015-a782-270993b11917",
   "metadata": {},
   "outputs": [],
   "source": [
    "len_updates = mean_weights_at_each_update.shape[0]"
   ]
  },
  {
   "cell_type": "code",
   "execution_count": null,
   "id": "aa03512b-4fa3-49e0-b140-7aca6e1ac566",
   "metadata": {},
   "outputs": [],
   "source": [
    "fig = plt.figure(figsize=(8, 5))\n",
    "plt.plot(range(0,len_updates), mean_weights_at_each_update.iloc[:,0], \n",
    "            label = \"DeepCDR_Drugs\", linewidth = 3)\n",
    "\n",
    "plt.plot(range(0,len_updates),  mean_weights_at_each_update.iloc[:,1], \n",
    "            label = \"DeepCDR_Omics\", linewidth = 3)\n",
    "\n",
    "plt.plot(range(0,len_updates),  mean_weights_at_each_update.iloc[:,2], \n",
    "            label = \"DualGCN_Drugs\", linewidth = 3)\n",
    "\n",
    "plt.plot(range(0,len_updates),  mean_weights_at_each_update.iloc[:,3],  \n",
    "            label = \"DualGCN_Omics\", linewidth = 3)\n",
    "\n",
    "plt.xlabel(\"Update Iteration\", fontsize = 15, fontweight = \"bold\")\n",
    "plt.ylabel(\"Model Weight\", fontsize = 15, fontweight = \"bold\")\n",
    "plt.xticks( fontsize = 10, fontweight = \"bold\")\n",
    "plt.yticks( fontsize = 10, fontweight = \"bold\")\n",
    "\n",
    "plt.legend()\n",
    "fig.savefig('Plots/MEnKF_DeepCDR_DualGCN_Weight_Trajectories_averaged_50_all_train.pdf', bbox_inches='tight', format = \"pdf\")\n",
    "fig.savefig('Plots/MEnKF_DeepCDR_DualGCN_Weight_Trajectories_averaged_50_all_train.png', bbox_inches='tight')\n",
    "\n",
    "plt.show()"
   ]
  },
  {
   "cell_type": "code",
   "execution_count": null,
   "id": "047caf62-39d3-4f6b-a862-9697d795d3b6",
   "metadata": {},
   "outputs": [],
   "source": [
    "# std_weights_at_each_update"
   ]
  },
  {
   "cell_type": "code",
   "execution_count": null,
   "id": "f1a3e5c8-fb44-44e0-9b0c-a129345da157",
   "metadata": {},
   "outputs": [],
   "source": [
    "fig = plt.figure(figsize=(8, 5))\n",
    "plt.errorbar(range(0,len_updates), mean_weights_at_each_update.iloc[:,0], yerr=std_weights_at_each_update.iloc[:,0], \n",
    "            label = \"DeepCDR_Drugs\", linewidth = 3)\n",
    "\n",
    "plt.errorbar(range(0,len_updates),  mean_weights_at_each_update.iloc[:,1], yerr=std_weights_at_each_update.iloc[:,1], \n",
    "            label = \"DeepCDR_Omics\", linewidth = 3)\n",
    "\n",
    "plt.errorbar(range(0,len_updates),  mean_weights_at_each_update.iloc[:,2], yerr=std_weights_at_each_update.iloc[:,2], \n",
    "            label = \"DualGCN_Drugs\", linewidth = 3)\n",
    "\n",
    "plt.errorbar(range(0,len_updates),  mean_weights_at_each_update.iloc[:,3], yerr=std_weights_at_each_update.iloc[:,3], \n",
    "            label = \"DualGCN_Omics\", linewidth = 3)\n",
    "\n",
    "plt.xlabel(\"Update Iteration\", fontsize = 15, fontweight = \"bold\")\n",
    "plt.ylabel(\"Model Weight\", fontsize = 15, fontweight = \"bold\")\n",
    "plt.xticks( fontsize = 10, fontweight = \"bold\")\n",
    "plt.yticks( fontsize = 10, fontweight = \"bold\")\n",
    "\n",
    "plt.legend()\n",
    "# fig.savefig('MEnKF_DeepCDR_DualGCN_Weight_Trajectories.pdf', bbox_inches='tight', format = \"pdf\")\n",
    "# fig.savefig('MEnKF_DeepCDR_DualGCN_Weight_Trajectories.png', bbox_inches='tight')\n",
    "\n",
    "plt.show()"
   ]
  },
  {
   "cell_type": "code",
   "execution_count": null,
   "id": "dde48cff-722d-403f-9b78-6e7739a42950",
   "metadata": {},
   "outputs": [],
   "source": [
    "# item1[1]"
   ]
  },
  {
   "cell_type": "code",
   "execution_count": null,
   "id": "ef92d7cb-8ecd-4553-b830-37677e708ccd",
   "metadata": {},
   "outputs": [],
   "source": [
    "# combo"
   ]
  },
  {
   "cell_type": "code",
   "execution_count": null,
   "id": "0ae14af6-6a3b-42a9-8cae-78ea18e826b7",
   "metadata": {},
   "outputs": [],
   "source": [
    "catch_dfs_rmse = []\n",
    "for item in catch: \n",
    "    item1 = item[8:10]\n",
    "    train_rmse = np.array(item1[0]).reshape(-1,1)\n",
    "    test_rmse = np.array(item1[1]).reshape(-1,1)\n",
    "    # DeepCDR_Drugs, DeepCDR_Omics, DualGCN_Drugs, DualGCN_Omics = np.array(item1[0])[:,0], np.array(item1[1])[:,0], np.array(item1[2])[:,0], np.array(item1[3])[:,0]\n",
    "    combo = np.hstack((train_rmse, test_rmse))\n",
    "    combo_df = pd.DataFrame(combo)\n",
    "    combo_df.columns = [\"Train_RMSE\", \"Test_RMSE\"]\n",
    "    combo_df[\"update_iteration\"] = np.array(list(range(0, combo_df.shape[0]))) + 1\n",
    "    catch_dfs_rmse.append(combo_df)"
   ]
  },
  {
   "cell_type": "code",
   "execution_count": null,
   "id": "5c704913-4a98-4962-8bf9-c19ae9a51643",
   "metadata": {},
   "outputs": [],
   "source": [
    "catch_dfs_rmse_df = pd.concat(catch_dfs_rmse)"
   ]
  },
  {
   "cell_type": "code",
   "execution_count": null,
   "id": "5dfa917b-28d5-4e1d-b689-719d00d7f026",
   "metadata": {},
   "outputs": [],
   "source": [
    "rmse_at_each_update  = catch_dfs_rmse_df.groupby(\"update_iteration\").mean()\n",
    "rmse_at_each_update = rmse_at_each_update.reset_index()"
   ]
  },
  {
   "cell_type": "code",
   "execution_count": null,
   "id": "58a09ed4-6e68-4c7e-9bd4-455b73ac1096",
   "metadata": {},
   "outputs": [],
   "source": [
    "rmse_at_each_update = rmse_at_each_update[rmse_at_each_update[\"update_iteration\"] <= how_many]"
   ]
  },
  {
   "cell_type": "code",
   "execution_count": null,
   "id": "1f467165-4d57-4df4-b345-851b8425ad01",
   "metadata": {},
   "outputs": [],
   "source": [
    "rmse_at_each_update = rmse_at_each_update.set_index(\"update_iteration\")"
   ]
  },
  {
   "cell_type": "code",
   "execution_count": null,
   "id": "0a301544-f590-4592-98c7-32e880ab6b15",
   "metadata": {},
   "outputs": [],
   "source": [
    "std_weights_at_each_update = catch_dfs_rmse_df.groupby(\"update_iteration\").std()\n",
    "std_weights_at_each_update = std_weights_at_each_update.reset_index()"
   ]
  },
  {
   "cell_type": "code",
   "execution_count": null,
   "id": "c45cdc75-dc73-41b6-ad73-ae6ecb7bad7b",
   "metadata": {},
   "outputs": [],
   "source": [
    "std_weights_at_each_update = std_weights_at_each_update[std_weights_at_each_update[\"update_iteration\"] <= how_many]"
   ]
  },
  {
   "cell_type": "code",
   "execution_count": null,
   "id": "cdaf857c-9d37-47b6-b5e5-d01140907b1c",
   "metadata": {},
   "outputs": [],
   "source": [
    "std_weights_at_each_update = std_weights_at_each_update.set_index(\"update_iteration\")"
   ]
  },
  {
   "cell_type": "code",
   "execution_count": null,
   "id": "03aac230-f15e-4367-bed4-d74039570b55",
   "metadata": {},
   "outputs": [],
   "source": [
    "fig = plt.figure(figsize=(8, 5))\n",
    "plt.plot(range(0,len_updates), rmse_at_each_update.iloc[:,0], \n",
    "            label = \"Train RMSE\", linewidth = 3)\n",
    "\n",
    "plt.plot(range(0,len_updates),  rmse_at_each_update.iloc[:,1], \n",
    "            label = \"Test RMSE\", linewidth = 3)\n",
    "\n",
    "\n",
    "plt.xlabel(\"Update Iteration\", fontsize = 15, fontweight = \"bold\")\n",
    "plt.ylabel(\"RMSE\", fontsize = 15, fontweight = \"bold\")\n",
    "plt.xticks( fontsize = 10, fontweight = \"bold\")\n",
    "plt.yticks( fontsize = 10, fontweight = \"bold\")\n",
    "\n",
    "plt.legend()\n",
    "fig.savefig('MEnKF_DeepCDR_DualGCN_Weight_Trajectories_all_train.pdf', bbox_inches='tight', format = \"pdf\")\n",
    "fig.savefig('MEnKF_DeepCDR_DualGCN_Weight_Trajectories_all_train.png', bbox_inches='tight')\n",
    "\n",
    "plt.show()"
   ]
  },
  {
   "cell_type": "code",
   "execution_count": null,
   "id": "0e1b17c8-f6a5-4911-a13d-2758c05c3024",
   "metadata": {},
   "outputs": [],
   "source": [
    "fig = plt.figure(figsize=(8, 5))\n",
    "plt.errorbar(range(0,len_updates), std_weights_at_each_update.iloc[:,0], yerr=std_weights_at_each_update.iloc[:,0], \n",
    "            label = \"Train RMSE Std Dev\", linewidth = 3)\n",
    "\n",
    "plt.errorbar(range(0,len_updates),  std_weights_at_each_update.iloc[:,1], yerr=std_weights_at_each_update.iloc[:,1], \n",
    "            label = \"Test RMSE Std Dev\", linewidth = 3)\n",
    "\n",
    "\n",
    "plt.xlabel(\"Update Iteration\", fontsize = 15, fontweight = \"bold\")\n",
    "plt.ylabel(\"Standard Deviation RMSE\", fontsize = 15, fontweight = \"bold\")\n",
    "plt.xticks( fontsize = 10, fontweight = \"bold\")\n",
    "plt.yticks( fontsize = 10, fontweight = \"bold\")\n",
    "\n",
    "plt.legend()\n",
    "# fig.savefig('MEnKF_DeepCDR_DualGCN_Weight_Trajectories.pdf', bbox_inches='tight', format = \"pdf\")\n",
    "# fig.savefig('MEnKF_DeepCDR_DualGCN_Weight_Trajectories.png', bbox_inches='tight')\n",
    "\n",
    "plt.show()"
   ]
  },
  {
   "cell_type": "code",
   "execution_count": null,
   "id": "a2653fa9-0a16-4446-9ad5-72a5200ee6af",
   "metadata": {},
   "outputs": [],
   "source": [
    "# rmse_at_each_update.iloc[:,0]"
   ]
  },
  {
   "cell_type": "code",
   "execution_count": null,
   "id": "61c2bc05-8ed4-4abc-bef1-c331bb282ec9",
   "metadata": {},
   "outputs": [],
   "source": [
    "fig, axs = plt.subplots(1, 2,figsize=(15, 5))\n",
    "# fig, axs = plt.subplots(4, 2)\n",
    "axs = axs.ravel()\n",
    "axs[0].plot(range(0,len_updates), rmse_at_each_update.iloc[:,0], linewidth = 3,  c = \"blue\", label = \"Train\")\n",
    "axs[0].fill_between(range(0,len_updates), rmse_at_each_update.iloc[:,0]-std_weights_at_each_update.iloc[:,0], rmse_at_each_update.iloc[:,0]+std_weights_at_each_update.iloc[:,0], color = \"green\")\n",
    "axs[1].plot(range(0,len_updates), rmse_at_each_update.iloc[:,1],linewidth = 3, c = \"blue\", label = \"Test\")\n",
    "axs[1].fill_between(range(0,len_updates), rmse_at_each_update.iloc[:,1]-std_weights_at_each_update.iloc[:,1], rmse_at_each_update.iloc[:,1]+std_weights_at_each_update.iloc[:,1], color = \"green\")\n",
    "plt.setp(axs[0].get_xticklabels(), fontsize=14, fontweight=\"bold\"\n",
    "        )\n",
    "    \n",
    "plt.setp(axs[0].get_yticklabels(), fontsize=14, fontweight=\"bold\")\n",
    "plt.setp(axs[1].get_xticklabels(), fontsize=14, fontweight=\"bold\"\n",
    "        )\n",
    "    \n",
    "plt.setp(axs[1].get_yticklabels(), fontsize=14, fontweight=\"bold\")\n",
    "axs[0].set(xlabel=\"Update Iteration\", ylabel=\"Average Train RMSE\")\n",
    "axs[1].set(xlabel=\"Update Iteration\", ylabel=\"Average Test RMSE\")\n",
    "axs[0].xaxis.label.set(fontsize=14, fontweight=\"bold\")\n",
    "axs[1].xaxis.label.set(fontsize=14, fontweight=\"bold\")\n",
    "axs[0].yaxis.label.set(fontsize=14, fontweight=\"bold\")\n",
    "axs[1].yaxis.label.set(fontsize=14, fontweight=\"bold\")\n",
    "fig.savefig('Plots/MEnKF_DeepCDR_DualGCN_RMSE_Trajectories_averaged_50_all_train.pdf', bbox_inches='tight', format = \"pdf\")\n",
    "fig.savefig('Plots/MEnKF_DeepCDR_DualGCN_RMSE_Trajectories_averaged_50_all_train.png', bbox_inches='tight')\n",
    "plt.show()"
   ]
  },
  {
   "cell_type": "code",
   "execution_count": null,
   "id": "e6f8b1d9-15fc-4dc4-b55d-29fe7b530c8e",
   "metadata": {},
   "outputs": [],
   "source": [
    "# preds.shape"
   ]
  },
  {
   "cell_type": "code",
   "execution_count": null,
   "id": "9b7b18a4-2f59-4772-86a1-db957b678745",
   "metadata": {},
   "outputs": [],
   "source": [
    "all_li = np.zeros((y_test.shape[0], len(catch)))\n",
    "all_ui = np.zeros((y_test.shape[0], len(catch)))\n",
    "for i, item in enumerate(catch): \n",
    "    preds = item[-3:-1]\n",
    "    all_li[:,i] =  preds[0][:,0]\n",
    "    all_ui[:,i] =  preds[1][:,0]"
   ]
  },
  {
   "cell_type": "code",
   "execution_count": null,
   "id": "91eed3ca-1433-4777-b410-c30f7ef19b94",
   "metadata": {},
   "outputs": [],
   "source": [
    "# all_li"
   ]
  },
  {
   "cell_type": "code",
   "execution_count": null,
   "id": "469f359a-0c7f-4196-8528-b18d10278947",
   "metadata": {},
   "outputs": [],
   "source": [
    "y_test.shape"
   ]
  },
  {
   "cell_type": "code",
   "execution_count": null,
   "id": "9638db6f-db73-4ae6-bce0-9e3b29a13d12",
   "metadata": {},
   "outputs": [],
   "source": [
    "li = np.median(all_li, axis = 1).reshape(-1,1)"
   ]
  },
  {
   "cell_type": "code",
   "execution_count": null,
   "id": "577e43c3-c351-4628-8eb9-bb6a4e5c724b",
   "metadata": {},
   "outputs": [],
   "source": [
    "li_mean = np.mean(all_li, axis = 1).reshape(-1,1)"
   ]
  },
  {
   "cell_type": "code",
   "execution_count": null,
   "id": "8dca8ada-3d8c-4698-a554-d09ced082d93",
   "metadata": {},
   "outputs": [],
   "source": [
    "li.shape"
   ]
  },
  {
   "cell_type": "code",
   "execution_count": null,
   "id": "72f5405e-3e82-47eb-b11a-6e6f214e1886",
   "metadata": {},
   "outputs": [],
   "source": [
    "ui = np.median(all_ui, axis = 1).reshape(-1,1)"
   ]
  },
  {
   "cell_type": "code",
   "execution_count": null,
   "id": "84efc822-bb97-407b-9622-2a52d21664cd",
   "metadata": {},
   "outputs": [],
   "source": [
    "ui_mean = np.mean(all_ui, axis = 1).reshape(-1,1)"
   ]
  },
  {
   "cell_type": "code",
   "execution_count": null,
   "id": "f811c7bb-e0ef-4ba6-b84f-de649b260120",
   "metadata": {},
   "outputs": [],
   "source": [
    "combo = np.hstack((y_test, li, ui))"
   ]
  },
  {
   "cell_type": "code",
   "execution_count": null,
   "id": "766f7436-ac4b-4148-9007-d7e9023cee34",
   "metadata": {},
   "outputs": [],
   "source": [
    "combo_mean = np.hstack((y_test, li_mean, ui_mean))"
   ]
  },
  {
   "cell_type": "code",
   "execution_count": null,
   "id": "6d32aa0d-23bb-474d-8cef-16a14391434e",
   "metadata": {},
   "outputs": [],
   "source": [
    "combo_mean_df = pd.DataFrame(combo_mean)"
   ]
  },
  {
   "cell_type": "code",
   "execution_count": null,
   "id": "8afcbc8e-c2c8-4722-b375-0d3cbbcc4e58",
   "metadata": {},
   "outputs": [],
   "source": [
    "combo_mean_df.columns = [\"IC50\", \"LI_IC50_Pred\", \"UI_IC50_Pred\"]"
   ]
  },
  {
   "cell_type": "code",
   "execution_count": null,
   "id": "23d1e33d-605d-4a06-a6b9-a8fa474ea05d",
   "metadata": {},
   "outputs": [],
   "source": [
    "combo_mean_df[\"coverage\"] = (combo_mean_df[\"IC50\"] >= combo_mean_df[\"LI_IC50_Pred\"]) & (combo_mean_df[\"IC50\"] <= combo_mean_df[\"UI_IC50_Pred\"])"
   ]
  },
  {
   "cell_type": "code",
   "execution_count": null,
   "id": "7c23a206-8f28-476c-8977-6c83b5e7455d",
   "metadata": {},
   "outputs": [],
   "source": [
    "combo_mean_df[\"coverage\"].mean()"
   ]
  },
  {
   "cell_type": "code",
   "execution_count": null,
   "id": "3b71bfbf-64e6-4b12-96fb-3f6280574cdb",
   "metadata": {},
   "outputs": [],
   "source": [
    "combo_mean_df[\"width\"] = combo_mean_df[\"UI_IC50_Pred\"]-combo_mean_df[\"LI_IC50_Pred\"]"
   ]
  },
  {
   "cell_type": "code",
   "execution_count": null,
   "id": "ef486166-f466-4dc6-8b7a-a7136d8c0aa8",
   "metadata": {},
   "outputs": [],
   "source": [
    "combo_mean_df[\"width\"].mean()"
   ]
  },
  {
   "cell_type": "code",
   "execution_count": null,
   "id": "8628161d-8cb4-4f25-b132-94a9de9a3a6a",
   "metadata": {},
   "outputs": [],
   "source": [
    "combo_df = pd.DataFrame(combo)"
   ]
  },
  {
   "cell_type": "code",
   "execution_count": null,
   "id": "7fe171c3-2de7-4627-ba89-b8bd5dd0b1b4",
   "metadata": {},
   "outputs": [],
   "source": [
    "combo_df.columns = [\"IC50\", \"LI_IC50_Pred\", \"UI_IC50_Pred\"]"
   ]
  },
  {
   "cell_type": "code",
   "execution_count": null,
   "id": "0bb4abff-cc2c-492c-b407-ba3f166f505a",
   "metadata": {},
   "outputs": [],
   "source": [
    "combo_df = combo_df.sort_values(\"IC50\").reset_index(drop = True)"
   ]
  },
  {
   "cell_type": "code",
   "execution_count": null,
   "id": "c3f0aea8-ab37-49fc-801f-3c5be68dc4ec",
   "metadata": {},
   "outputs": [],
   "source": [
    "combo_df[\"coverage\"] = (combo_df[\"IC50\"] >= combo_df[\"LI_IC50_Pred\"]) & (combo_df[\"IC50\"] <= combo_df[\"UI_IC50_Pred\"])"
   ]
  },
  {
   "cell_type": "code",
   "execution_count": null,
   "id": "fda4c3ca-0461-44da-ab2f-2ab4373ebb1a",
   "metadata": {},
   "outputs": [],
   "source": [
    "combo_df[\"coverage\"].mean()"
   ]
  },
  {
   "cell_type": "code",
   "execution_count": null,
   "id": "14ca671e-359d-4d86-8598-476d4082a6b6",
   "metadata": {},
   "outputs": [],
   "source": [
    "combo_df[\"width\"] = combo_df[\"UI_IC50_Pred\"]-combo_df[\"LI_IC50_Pred\"]"
   ]
  },
  {
   "cell_type": "code",
   "execution_count": null,
   "id": "8c5efe3c-3f2f-4450-9f49-38d3e977109e",
   "metadata": {},
   "outputs": [],
   "source": [
    "combo_df[\"width\"].mean()"
   ]
  },
  {
   "cell_type": "code",
   "execution_count": null,
   "id": "e597c307-53f6-4f38-8c40-4955b1a53595",
   "metadata": {},
   "outputs": [],
   "source": [
    "# combo_df"
   ]
  },
  {
   "cell_type": "code",
   "execution_count": null,
   "id": "adbd27ad-254f-47bd-80c8-4db54e69d9d1",
   "metadata": {},
   "outputs": [],
   "source": [
    "plt.hist(combo_df[\"IC50\"].values)\n",
    "plt.hist(combo_df[\"LI_IC50_Pred\"].values, alpha = 0.5)\n",
    "plt.hist(combo_df[\"UI_IC50_Pred\"].values, alpha = 0.5)\n",
    "plt.show()"
   ]
  },
  {
   "cell_type": "code",
   "execution_count": null,
   "id": "82d02377-5750-4cbd-be1c-25a4ce365e44",
   "metadata": {},
   "outputs": [],
   "source": [
    "plt.hist(combo_df[\"width\"].values)\n",
    "plt.show()"
   ]
  },
  {
   "cell_type": "code",
   "execution_count": null,
   "id": "808808d3-20d2-4ffa-b298-49501484cbb3",
   "metadata": {},
   "outputs": [],
   "source": [
    "np.percentile(combo_df[\"width\"].values, 95)"
   ]
  },
  {
   "cell_type": "code",
   "execution_count": null,
   "id": "707da1cc-2dd1-4967-b57f-c357d077608c",
   "metadata": {},
   "outputs": [],
   "source": [
    "combo_df1 = combo_df.sample(100)"
   ]
  },
  {
   "cell_type": "code",
   "execution_count": null,
   "id": "9b7e3216-f628-4eda-93e0-11df9433ac33",
   "metadata": {},
   "outputs": [],
   "source": [
    "combo_df1 = combo_df1.sort_values(\"IC50\").reset_index(drop = True)"
   ]
  },
  {
   "cell_type": "code",
   "execution_count": null,
   "id": "48b9204a-b9b1-4be8-bac9-13ec9dbcb707",
   "metadata": {},
   "outputs": [],
   "source": [
    "np.min(rmse_at_each_update.iloc[:,1])"
   ]
  },
  {
   "cell_type": "code",
   "execution_count": null,
   "id": "769c25bc-cfe2-44cf-a085-93dd9159cada",
   "metadata": {},
   "outputs": [],
   "source": [
    "fig = plt.figure(figsize=(8, 5))\n",
    "plt.plot(range(0,len_updates), rmse_at_each_update.iloc[:,0], \n",
    "            label = \"Train RMSE\", linewidth = 3)\n",
    "\n",
    "plt.plot(range(0,len_updates),  rmse_at_each_update.iloc[:,1], \n",
    "            label = \"Test RMSE\", linewidth = 3)\n",
    "\n",
    "\n",
    "plt.xlabel(\"Update Iteration\", fontsize = 15, fontweight = \"bold\")\n",
    "plt.ylabel(\"RMSE\", fontsize = 15, fontweight = \"bold\")\n",
    "plt.xticks( fontsize = 10, fontweight = \"bold\")\n",
    "plt.yticks( fontsize = 10, fontweight = \"bold\")\n",
    "\n",
    "plt.legend()\n",
    "# fig.savefig('MEnKF_DeepCDR_DualGCN_Weight_Trajectories.pdf', bbox_inches='tight', format = \"pdf\")\n",
    "# fig.savefig('MEnKF_DeepCDR_DualGCN_Weight_Trajectories.png', bbox_inches='tight')\n",
    "\n",
    "plt.show()"
   ]
  },
  {
   "cell_type": "code",
   "execution_count": null,
   "id": "524923fd-fb7e-48f4-ab16-67cf4707fbdf",
   "metadata": {},
   "outputs": [],
   "source": [
    "fig= plt.figure()\n",
    "# fig, axs = plt.subplots(4, 2)\n",
    "plt.scatter(range(0,combo_df1.shape[0]), combo_df1[\"IC50\"].values,   c = \"blue\", label = \"IC50\")\n",
    "plt.plot(range(0,combo_df1.shape[0]), combo_df1[\"LI_IC50_Pred\"].values,   c = \"green\",\n",
    "            label = \"Lower Prediction Interval\")\n",
    "plt.plot(range(0,combo_df1.shape[0]), combo_df1[\"UI_IC50_Pred\"].values,   c = \"green\",\n",
    "            label = \"Upper Prediction Interval\")\n",
    "# plt.fill_between(range(0,combo_df1.shape[0]), combo_df1[\"LI_IC50_Pred\"].values, combo_df1[\"UI_IC50_Pred\"].values,\n",
    "#                  color = \"green\", label = \"Empirical 95 % Prediction Interval\",alpha=0.6)\n",
    "\n",
    "plt.xlabel(\"Sample Index\", fontsize = 15, fontweight = \"bold\")\n",
    "plt.ylabel(\"Log(IC50)\", fontsize = 15, fontweight = \"bold\")\n",
    "plt.xticks( fontsize = 10, fontweight = \"bold\")\n",
    "plt.yticks( fontsize = 10, fontweight = \"bold\")\n",
    "# plt.setp(axs[0].get_xticklabels(), fontsize=14, fontweight=\"bold\"\n",
    "#         )\n",
    "    \n",
    "# plt.setp(axs[0].get_yticklabels(), fontsize=14, fontweight=\"bold\")\n",
    "# plt.setp(axs[1].get_xticklabels(), fontsize=14, fontweight=\"bold\"\n",
    "#         )\n",
    "    \n",
    "# plt.setp(axs[1].get_yticklabels(), fontsize=14, fontweight=\"bold\")\n",
    "# axs[0].set(xlabel=\"Update Iteration\", ylabel=\"Average Train RMSE\")\n",
    "# axs[1].set(xlabel=\"Update Iteration\", ylabel=\"Average Test RMSE\")\n",
    "# axs[0].xaxis.label.set(fontsize=14, fontweight=\"bold\")\n",
    "# axs[1].xaxis.label.set(fontsize=14, fontweight=\"bold\")\n",
    "# axs[0].yaxis.label.set(fontsize=14, fontweight=\"bold\")\n",
    "# axs[1].yaxis.label.set(fontsize=14, fontweight=\"bold\")\n",
    "# plt.legend()\n",
    "fig.savefig('Plots/MEnKF_DeepCDR_DualGCN_Prediction_Intervals_averaged_50_all_train_selected_100.pdf', bbox_inches='tight', format = \"pdf\")\n",
    "fig.savefig('Plots/MEnKF_DeepCDR_DualGCN_Prediction_Intervals_averaged_50_all_train_selected_100.png', bbox_inches='tight')\n",
    "plt.show()"
   ]
  },
  {
   "cell_type": "code",
   "execution_count": null,
   "id": "17400df9-ad5e-4540-846b-5647dc08bafa",
   "metadata": {},
   "outputs": [],
   "source": [
    "# combo_df1.head()"
   ]
  },
  {
   "cell_type": "code",
   "execution_count": null,
   "id": "6679d34b-15ec-4fd8-93d7-a64ac31d5e1c",
   "metadata": {},
   "outputs": [],
   "source": [
    "# combo_df1[\"coverage\"].mean()"
   ]
  },
  {
   "cell_type": "code",
   "execution_count": null,
   "id": "93ba26be-4a59-4545-9b95-f80e68aa08aa",
   "metadata": {},
   "outputs": [],
   "source": [
    "combo_df.shape"
   ]
  },
  {
   "cell_type": "code",
   "execution_count": null,
   "id": "e60dc1bf-077c-4a00-b396-1b96d57713db",
   "metadata": {},
   "outputs": [],
   "source": [
    "combo_df2_1 = combo_df[combo_df[\"width\"] <= 6]"
   ]
  },
  {
   "cell_type": "code",
   "execution_count": null,
   "id": "c64aa795-4130-4b63-8bef-eecbc016057c",
   "metadata": {},
   "outputs": [],
   "source": [
    "combo_df2_2 = combo_df[combo_df[\"width\"] >= 6]"
   ]
  },
  {
   "cell_type": "code",
   "execution_count": null,
   "id": "01766ce0-13ce-4658-90c3-7e13400b82be",
   "metadata": {},
   "outputs": [],
   "source": [
    "combo_df2_1.shape"
   ]
  },
  {
   "cell_type": "code",
   "execution_count": null,
   "id": "4f0aec5b-837d-45a9-89c7-f57496a1e951",
   "metadata": {},
   "outputs": [],
   "source": [
    "# combo_df2[\"width\"].mean()"
   ]
  },
  {
   "cell_type": "code",
   "execution_count": null,
   "id": "36c28575-d397-4eb8-b67e-811b7272c4e9",
   "metadata": {},
   "outputs": [],
   "source": [
    "# combo_df"
   ]
  },
  {
   "cell_type": "code",
   "execution_count": null,
   "id": "079b9357-4a96-4366-b7be-039b2c60d28d",
   "metadata": {},
   "outputs": [],
   "source": [
    "combo_df.shape"
   ]
  },
  {
   "cell_type": "code",
   "execution_count": null,
   "id": "749b4ec3-7403-47c1-afaa-d06a2841af24",
   "metadata": {},
   "outputs": [],
   "source": [
    "# !pip install moepy "
   ]
  },
  {
   "cell_type": "code",
   "execution_count": null,
   "id": "c9db7cdf-4bb2-42ce-9eec-2061684f2e30",
   "metadata": {},
   "outputs": [],
   "source": [
    "# from moepy import lowess"
   ]
  },
  {
   "cell_type": "code",
   "execution_count": null,
   "id": "9983dc19-d226-4f34-b912-a52452fa1d46",
   "metadata": {},
   "outputs": [],
   "source": [
    "# lowess_model = lowess.Lowess()\n",
    "# lowess_model.fit(np.array(list(range(0,combo_df.shape[0]))), combo_df[\"LI_IC50_Pred\"].values)\n",
    "\n",
    "# # Model prediction\n",
    "# x_pred = np.linspace(0, combo_df.shape[0], combo_df.shape[0])\n",
    "# y_pred = lowess_model.predict(x_pred)"
   ]
  },
  {
   "cell_type": "code",
   "execution_count": null,
   "id": "b64c8a63-bab8-4e36-b16e-b423d4966ccf",
   "metadata": {},
   "outputs": [],
   "source": [
    "# lowess_model = lowess.Lowess()\n",
    "# lowess_model.fit(np.array(list(range(0,combo_df.shape[0]))), combo_df[\"UI_IC50_Pred\"].values)\n",
    "\n",
    "# # Model prediction\n",
    "# x_pred = np.linspace(0, combo_df.shape[0], combo_df.shape[0])\n",
    "# y_pred_u = lowess_model.predict(x_pred)"
   ]
  },
  {
   "cell_type": "code",
   "execution_count": null,
   "id": "b9109fa0-c918-4aee-a061-f9328720d05e",
   "metadata": {},
   "outputs": [],
   "source": [
    "# plt.scatter(x_pred, y_pred,   c = \"green\", label = \"Log(IC50)\")\n",
    "# plt.scatter(range(0,combo_df.shape[0]), combo_df[\"IC50\"].values,   c = \"blue\", label = \"Log(IC50)\")\n",
    "# plt.scatter(x_pred, y_pred_u,   c = \"green\", label = \"Log(IC50)\")"
   ]
  },
  {
   "cell_type": "code",
   "execution_count": null,
   "id": "ef550ce3-9f1c-4e24-813f-2d7b8529716e",
   "metadata": {},
   "outputs": [],
   "source": [
    "fig= plt.figure()\n",
    "# fig, axs = plt.subplots(4, 2)\n",
    "plt.scatter(range(0,combo_df.shape[0]), combo_df[\"IC50\"].values,   c = \"blue\", label = \"Log(IC50)\")\n",
    "# plt.plot(range(0,combo_df2_1.shape[0]), combo_df2_1[\"LI_IC50_Pred\"].values, \"-\",  c = \"green\",\n",
    "#             label = \"Lower Prediction Interval\")\n",
    "# plt.plot(range(0,combo_df2_1.shape[0]), combo_df2_1[\"UI_IC50_Pred\"].values,  \"-\",  c = \"red\",\n",
    "#             label = \"Upper Prediction Interval\")\n",
    "plt.fill_between(range(0,combo_df.shape[0]), combo_df[\"LI_IC50_Pred\"].values, combo_df[\"UI_IC50_Pred\"].values,\n",
    "                 color = \"green\", label = \"Empirical 95 % Prediction Interval\",alpha=0.6)\n",
    "\n",
    "plt.xlabel(\"Sample Index\", fontsize = 15, fontweight = \"bold\")\n",
    "plt.ylabel(\"Log(IC50)\", fontsize = 15, fontweight = \"bold\")\n",
    "plt.xticks( fontsize = 10, fontweight = \"bold\")\n",
    "plt.yticks( fontsize = 10, fontweight = \"bold\")\n",
    "# plt.setp(axs[0].get_xticklabels(), fontsize=14, fontweight=\"bold\"\n",
    "#         )\n",
    "    \n",
    "# plt.setp(axs[0].get_yticklabels(), fontsize=14, fontweight=\"bold\")\n",
    "# plt.setp(axs[1].get_xticklabels(), fontsize=14, fontweight=\"bold\"\n",
    "#         )\n",
    "    \n",
    "# plt.setp(axs[1].get_yticklabels(), fontsize=14, fontweight=\"bold\")\n",
    "# axs[0].set(xlabel=\"Update Iteration\", ylabel=\"Average Train RMSE\")\n",
    "# axs[1].set(xlabel=\"Update Iteration\", ylabel=\"Average Test RMSE\")\n",
    "# axs[0].xaxis.label.set(fontsize=14, fontweight=\"bold\")\n",
    "# axs[1].xaxis.label.set(fontsize=14, fontweight=\"bold\")\n",
    "# axs[0].yaxis.label.set(fontsize=14, fontweight=\"bold\")\n",
    "# axs[1].yaxis.label.set(fontsize=14, fontweight=\"bold\")\n",
    "# plt.legend()\n",
    "fig.savefig('Plots/MEnKF_DeepCDR_DualGCN_Prediction_Intervals_squished_averaged_50_all_train.pdf', bbox_inches='tight', format = \"pdf\")\n",
    "fig.savefig('Plots/MEnKF_DeepCDR_DualGCN_Prediction_Intervals__squished_averaged_50_all_train.png', bbox_inches='tight')\n",
    "plt.show()"
   ]
  },
  {
   "cell_type": "code",
   "execution_count": null,
   "id": "74941456-d532-4542-a38a-ba1e18f1892e",
   "metadata": {},
   "outputs": [],
   "source": [
    "# plt.scatter(list(range(0, combo_df[\"IC50\"].shape[0])),combo_df[\"IC50\"].values, label = \"IC50\")\n",
    "# plt.scatter(list(range(0, combo_df[\"IC50\"].shape[0])),combo_df[\"LI_IC50_Pred\"].values, label = \"Lower Interval IC50 MEnKF-ANN Preds\")"
   ]
  }
 ],
 "metadata": {
  "kernelspec": {
   "display_name": "enkf",
   "language": "python",
   "name": "enkf"
  },
  "language_info": {
   "codemirror_mode": {
    "name": "ipython",
    "version": 3
   },
   "file_extension": ".py",
   "mimetype": "text/x-python",
   "name": "python",
   "nbconvert_exporter": "python",
   "pygments_lexer": "ipython3",
   "version": "3.11.3"
  }
 },
 "nbformat": 4,
 "nbformat_minor": 5
}
