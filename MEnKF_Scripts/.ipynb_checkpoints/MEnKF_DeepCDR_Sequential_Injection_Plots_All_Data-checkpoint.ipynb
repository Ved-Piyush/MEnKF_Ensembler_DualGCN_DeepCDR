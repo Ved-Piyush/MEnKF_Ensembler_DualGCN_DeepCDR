{
 "cells": [
  {
   "cell_type": "code",
   "execution_count": 1,
   "id": "aa53e19a-64db-4b1d-9378-c19c8efacd62",
   "metadata": {},
   "outputs": [
    {
     "name": "stderr",
     "output_type": "stream",
     "text": [
      "2023-07-23 11:07:49.464922: I tensorflow/core/util/port.cc:110] oneDNN custom operations are on. You may see slightly different numerical results due to floating-point round-off errors from different computation orders. To turn them off, set the environment variable `TF_ENABLE_ONEDNN_OPTS=0`.\n",
      "2023-07-23 11:07:49.467972: I tensorflow/tsl/cuda/cudart_stub.cc:28] Could not find cuda drivers on your machine, GPU will not be used.\n",
      "2023-07-23 11:07:49.506577: I tensorflow/tsl/cuda/cudart_stub.cc:28] Could not find cuda drivers on your machine, GPU will not be used.\n",
      "2023-07-23 11:07:49.507466: I tensorflow/core/platform/cpu_feature_guard.cc:182] This TensorFlow binary is optimized to use available CPU instructions in performance-critical operations.\n",
      "To enable the following instructions: AVX2 AVX512F AVX512_VNNI FMA, in other operations, rebuild TensorFlow with the appropriate compiler flags.\n",
      "2023-07-23 11:07:50.220714: W tensorflow/compiler/tf2tensorrt/utils/py_utils.cc:38] TF-TRT Warning: Could not find TensorRT\n"
     ]
    }
   ],
   "source": [
    "import pandas as pd\n",
    "import numpy as np\n",
    "from sklearn.model_selection import KFold\n",
    "from sklearn.feature_selection import VarianceThreshold\n",
    "import random\n",
    "import pickle\n",
    "from sklearn.preprocessing import StandardScaler\n",
    "import os\n",
    "import tensorflow as tf\n",
    "from tqdm.notebook import tqdm\n",
    "from scipy.stats import multivariate_normal as mvn\n",
    "import matplotlib.pyplot as plt\n",
    "from scipy.linalg import block_diag\n",
    "import warnings\n",
    "import os\n",
    "os.environ['TF_CPP_MIN_LOG_LEVEL'] = '3' "
   ]
  },
  {
   "cell_type": "code",
   "execution_count": 2,
   "id": "a6028973-9799-4d8a-b919-a8dd6283faf1",
   "metadata": {},
   "outputs": [],
   "source": [
    "warnings.filterwarnings('ignore')"
   ]
  },
  {
   "cell_type": "code",
   "execution_count": 3,
   "id": "34242ac3-a983-4bab-b092-bfcea4f94a4b",
   "metadata": {},
   "outputs": [],
   "source": [
    "# len(weights_ann_1[0].ravel())"
   ]
  },
  {
   "cell_type": "code",
   "execution_count": 4,
   "id": "d459b853-f520-4181-a9a9-310a6dd20de1",
   "metadata": {},
   "outputs": [],
   "source": [
    "def get_targets_with_weights(batch_data, initial_ensembles, size_ens): \n",
    "    \n",
    "    target_dim = 1\n",
    "    \n",
    "    # weights_ann_1 = ann.get_weights()\n",
    "    \n",
    "    # h1  = ann.layers[1].output.shape[-1]\n",
    "\n",
    "    n_hidden_1 = len(weights_ann_1[0].ravel())\n",
    "    \n",
    "    hidden_weights_1 = initial_ensembles[:,:n_hidden_1].reshape( size_ens, batch_data.shape[1], h1)\n",
    "    \n",
    "    \n",
    "    hidden_output_1 = np.einsum('ij,kjl->kil', batch_data, hidden_weights_1)\n",
    "\n",
    "    \n",
    "    hidden_layer_bias_1 = initial_ensembles[:,n_hidden_1:(n_hidden_1 + h1)].reshape(size_ens, 1,  h1)\n",
    "\n",
    "\n",
    "    hidden_output_1 = hidden_output_1 + hidden_layer_bias_1\n",
    "\n",
    "    n_pred_weights_1 = len(weights_ann_1[2].ravel())\n",
    "\n",
    "    output_weights_1 = initial_ensembles[:,(n_hidden_1 + h1):(n_hidden_1 + h1 + n_pred_weights_1) ].reshape(size_ens, h1, target_dim)\n",
    "\n",
    "\n",
    "    output_1 = np.einsum('ijk,ikl->ijl', hidden_output_1, output_weights_1)\n",
    "\n",
    "\n",
    "    output_layer_bias_1 = initial_ensembles[:,(n_hidden_1 + h1 + n_pred_weights_1):(n_hidden_1 + h1 + n_pred_weights_1 + target_dim)].reshape(size_ens, 1, target_dim)\n",
    "\n",
    "\n",
    "    final_output_1 = output_1 + output_layer_bias_1\n",
    "    \n",
    "    final_output_1 = final_output_1[:,:, 0]\n",
    "    \n",
    "    # print(final_output_1.shape, initial_ensembles.shape)\n",
    "    \n",
    "    stack = np.hstack((final_output_1, initial_ensembles))\n",
    "\n",
    "    \n",
    "    return final_output_1, stack"
   ]
  },
  {
   "cell_type": "code",
   "execution_count": 5,
   "id": "2a66ee4c-4112-4dca-a9cc-68a60d4e316f",
   "metadata": {},
   "outputs": [],
   "source": [
    "def ann(hidden = 32, input_shape = 256, output_shape = 1): \n",
    "    input_layer = tf.keras.layers.Input(shape = (input_shape))\n",
    "    hidden_layer = tf.keras.layers.Dense(hidden)\n",
    "    hidden_output = hidden_layer(input_layer)\n",
    "    pred_layer = tf.keras.layers.Dense(output_shape, activation = \"relu\")\n",
    "    pred_output = pred_layer(hidden_output)\n",
    "#     pred_output = tf.keras.layers.Activation(\"softmax\")(pred_output)\n",
    "    model = tf.keras.models.Model(input_layer, pred_output)\n",
    "    return model"
   ]
  },
  {
   "cell_type": "code",
   "execution_count": 6,
   "id": "e0b9ef03-af61-4ce4-99ff-2f0b5dca639d",
   "metadata": {},
   "outputs": [],
   "source": [
    "def generate_initial_ensembles(num_weights, lambda1, size_ens):\n",
    "    mean_vec = np.zeros((num_weights,))\n",
    "    cov_matrix = lambda1*np.identity(num_weights)\n",
    "    mvn_samp = mvn(mean_vec, cov_matrix)\n",
    "    return mvn_samp.rvs(size_ens)"
   ]
  },
  {
   "cell_type": "code",
   "execution_count": 7,
   "id": "fe2ea2b5-13a4-41c4-8257-c6c18708501b",
   "metadata": {},
   "outputs": [],
   "source": [
    "def expit(x):\n",
    "    \"\"\"Compute softmax values for each sets of scores in x.\"\"\"\n",
    "#     e_x = np.exp(x - np.max(x))\n",
    "    return 1 / (1 + np.exp(-x))"
   ]
  },
  {
   "cell_type": "code",
   "execution_count": 8,
   "id": "758ac30a-bcc7-4b5e-9314-7fb85f284f70",
   "metadata": {},
   "outputs": [],
   "source": [
    "samp_ann =  ann(hidden = 8, input_shape = 64, output_shape = 1)"
   ]
  },
  {
   "cell_type": "code",
   "execution_count": 9,
   "id": "2548f2de-a4c3-4850-b5cc-439634f5c4de",
   "metadata": {},
   "outputs": [],
   "source": [
    "weights_ann_1 = samp_ann.get_weights()"
   ]
  },
  {
   "cell_type": "code",
   "execution_count": 10,
   "id": "1338dc89-5540-4867-95a6-3d0ea7639cdd",
   "metadata": {},
   "outputs": [],
   "source": [
    "h1  = samp_ann.layers[1].output.shape[-1]"
   ]
  },
  {
   "cell_type": "code",
   "execution_count": 11,
   "id": "4a92b1e3-d9c6-4ce7-959d-aef1376a29d9",
   "metadata": {},
   "outputs": [
    {
     "data": {
      "text/plain": [
       "8"
      ]
     },
     "execution_count": 11,
     "metadata": {},
     "output_type": "execute_result"
    }
   ],
   "source": [
    "h1"
   ]
  },
  {
   "cell_type": "code",
   "execution_count": 12,
   "id": "427b0370-90df-4ab4-85b9-691d082750bf",
   "metadata": {},
   "outputs": [
    {
     "data": {
      "text/plain": [
       "529"
      ]
     },
     "execution_count": 12,
     "metadata": {},
     "output_type": "execute_result"
    }
   ],
   "source": [
    "samp_ann.count_params()"
   ]
  },
  {
   "cell_type": "code",
   "execution_count": 13,
   "id": "06982568-e5c1-4712-895c-7b3d49a09040",
   "metadata": {},
   "outputs": [],
   "source": [
    "hidden_neurons = h1"
   ]
  },
  {
   "cell_type": "code",
   "execution_count": 14,
   "id": "a71c4646-23a6-45ca-9ccc-aa4c3566d8a8",
   "metadata": {},
   "outputs": [],
   "source": [
    "samp_ann_params = samp_ann.count_params()"
   ]
  },
  {
   "cell_type": "code",
   "execution_count": 15,
   "id": "b5f741d7-ba99-4803-8441-5bf2ad3d72f7",
   "metadata": {},
   "outputs": [],
   "source": [
    "def get_initial_X_t(data1, data2, size_ens, var_weights = 1.0, var_weight_weights = 4.0, var_L = 1.0, var_D = 1.0):\n",
    "    # samp_ann =  ann(hidden = hidden_neurons, input_shape = 32, output_shape = 1)\n",
    "    \n",
    "    initial_ensembles1 = generate_initial_ensembles(samp_ann_params, var_weights, size_ens)\n",
    "    data1_out1, data1_stack1 = get_targets_with_weights(data1, initial_ensembles1, size_ens = size_ens)\n",
    "    \n",
    "    initial_ensembles2 = generate_initial_ensembles(samp_ann_params, var_weights, size_ens)\n",
    "    data1_out2, data1_stack2 = get_targets_with_weights(data2, initial_ensembles2, size_ens = size_ens)\n",
    "    \n",
    "#     initial_ensembles3 = generate_initial_ensembles(samp_ann_params, var_weights, size_ens)\n",
    "#     data2_out1, data2_stack1 = get_targets_with_weights(data3, initial_ensembles3, size_ens = size_ens)\n",
    "    \n",
    "#     initial_ensembles4 = generate_initial_ensembles(samp_ann_params, var_weights, size_ens)\n",
    "#     data2_out2, data2_stack2 = get_targets_with_weights(data4, initial_ensembles4, size_ens = size_ens)   \n",
    "    \n",
    "    X_t = np.concatenate((np.expand_dims(data1_stack1, -1), np.expand_dims(data1_stack2, -1)), axis = -1)\n",
    "    \n",
    "    initial_ensembles_for_weights = generate_initial_ensembles(2, var_weight_weights, size_ens)\n",
    "    initial_ensembles_for_weights = np.expand_dims(initial_ensembles_for_weights,1)\n",
    "    \n",
    "    # initial_ensembles_for_L = generate_initial_ensembles(4, var_L, size_ens)\n",
    "    # initial_ensembles_for_L = np.expand_dims(initial_ensembles_for_L,1)    \n",
    "    \n",
    "    initial_ensembles_for_D1 = generate_initial_ensembles(1, var_D, size_ens).reshape(-1,1)\n",
    "    # initial_ensembles_for_D2 = generate_initial_ensembles(1, var_D, size_ens).reshape(-1,1)\n",
    "    \n",
    "    initial_ensembles_for_D1_zero = np.zeros((size_ens,1,1)).reshape(-1,1)\n",
    "#     initial_ensembles_for_D2_zero = np.zeros((size_ens,1,1)).reshape(-1,1)\n",
    "    \n",
    "#     initial_ensembles_for_D3_zero = np.zeros((size_ens,1,1)).reshape(-1,1)\n",
    "    \n",
    "    initial_ensembles_for_D = np.concatenate((np.expand_dims(initial_ensembles_for_D1,1),\n",
    "                                                       np.expand_dims(initial_ensembles_for_D1_zero,1)), axis = 2)\n",
    "    \n",
    "    # print(X_t.shape, initial_ensembles_for_weights.shape)\n",
    "    \n",
    "    X_t = np.concatenate((X_t, initial_ensembles_for_weights, initial_ensembles_for_D), axis = 1)\n",
    "    \n",
    "    initial_ensembles = np.hstack((initial_ensembles1, initial_ensembles2))\n",
    "    \n",
    "    return X_t, initial_ensembles, initial_ensembles_for_weights[:,0,:], initial_ensembles_for_D[:,0,:]"
   ]
  },
  {
   "cell_type": "code",
   "execution_count": 16,
   "id": "6ac49c8c-6da0-4ee2-9561-e1d19365f182",
   "metadata": {},
   "outputs": [],
   "source": [
    "def get_weighted_targets_with_weights(batch_data, initial_ensembles, size_ens, weights): \n",
    "    \n",
    "    target_dim = 1\n",
    "    \n",
    "\n",
    "    n_hidden_1 = len(weights_ann_1[0].ravel())\n",
    "    \n",
    "    hidden_weights_1 = initial_ensembles[:,:n_hidden_1].reshape( size_ens, batch_data.shape[1], h1)\n",
    "    \n",
    "    \n",
    "    hidden_output_1 = np.einsum('ij,kjl->kil', batch_data, hidden_weights_1)\n",
    "\n",
    "    \n",
    "    hidden_layer_bias_1 = initial_ensembles[:,n_hidden_1:(n_hidden_1 + h1)].reshape(size_ens, 1,  h1)\n",
    "\n",
    "\n",
    "    hidden_output_1 = hidden_output_1 + hidden_layer_bias_1\n",
    "\n",
    "    n_pred_weights_1 = len(weights_ann_1[2].ravel())\n",
    "\n",
    "    output_weights_1 = initial_ensembles[:,(n_hidden_1 + h1):(n_hidden_1 + h1 + n_pred_weights_1) ].reshape(size_ens, h1, target_dim)\n",
    "\n",
    "\n",
    "    output_1 = np.einsum('ijk,ikl->ijl', hidden_output_1, output_weights_1)\n",
    "\n",
    "\n",
    "    output_layer_bias_1 = initial_ensembles[:,(n_hidden_1 + h1 + n_pred_weights_1):(n_hidden_1 + h1 + n_pred_weights_1 + target_dim)].reshape(size_ens, 1, target_dim)\n",
    "\n",
    "\n",
    "    final_output_1 = output_1 + output_layer_bias_1\n",
    "    \n",
    "    final_output_1 = final_output_1[:,:, 0]\n",
    "    \n",
    "    final_output_1 = final_output_1*weights\n",
    "    \n",
    "    # print(final_output_1.shape, initial_ensembles.shape)\n",
    "    \n",
    "    stack = np.hstack((final_output_1, initial_ensembles))\n",
    "\n",
    "    \n",
    "    return final_output_1, stack"
   ]
  },
  {
   "cell_type": "code",
   "execution_count": 17,
   "id": "c5a2f9ca-f4b4-445a-ab5f-e0f0557f54a9",
   "metadata": {},
   "outputs": [],
   "source": [
    "from scipy.stats import beta"
   ]
  },
  {
   "cell_type": "code",
   "execution_count": 18,
   "id": "44ed09c8-f6b0-4b40-86e0-1975541fd0ac",
   "metadata": {},
   "outputs": [],
   "source": [
    "fudging_beta = beta(1,9)"
   ]
  },
  {
   "cell_type": "code",
   "execution_count": 19,
   "id": "9d1a4f5e-7a0d-42b7-ad45-59c708b7b727",
   "metadata": {},
   "outputs": [],
   "source": [
    "def forward_operation(data1, data2, combined_ensembles , size_ens, fudging_beta):\n",
    "    # samp_ann =  ann(hidden = hidden_neurons, input_shape = 32, output_shape = 1)\n",
    "    params = samp_ann_params\n",
    "    initial_ensembles1 = combined_ensembles[:, :params]\n",
    "    initial_ensembles2 = combined_ensembles[:, params:(2*params)]\n",
    "    # initial_ensembles3 = combined_ensembles[:, (2*params):(3*params)]\n",
    "    # initial_ensembles4 = combined_ensembles[:, (3*params):(4*params)]\n",
    "\n",
    "    \n",
    "    initial_ensembles_for_weights = combined_ensembles[:, (2*params):(2*params + 2)]\n",
    "    \n",
    "    # initial_ensembles_for_L = combined_ensembles[:, (4*params + 4):(4*params + 4 + 4)]\n",
    "    \n",
    "    initial_ensembles_for_D = combined_ensembles[:,(2*params + 2):(2*params + 2 + 2 )]\n",
    "    \n",
    "    \n",
    "    softmax_weights = tf.math.softmax(initial_ensembles_for_weights).numpy()\n",
    "    \n",
    "    model_1 = softmax_weights[:, 0].reshape(-1,1) \n",
    "    \n",
    "    # model_1 = np.min(model_1 -fudging_factor)\n",
    "    \n",
    "    model_2 = softmax_weights[:, 1].reshape(-1,1) \n",
    "    \n",
    "#     model_3 = softmax_weights[:, 2].reshape(-1,1) \n",
    "    \n",
    "#     model_4 = softmax_weights[:, 3].reshape(-1,1)\n",
    "    \n",
    "    sum_weights = model_1 + model_2\n",
    "    \n",
    "    \n",
    "    # model_1_plus_model_2 = model_1 + model_2\n",
    "    \n",
    "    model_1 = model_1/sum_weights\n",
    "    \n",
    "    model_2 = model_2/sum_weights\n",
    "    \n",
    "#     model_3 = model_3/sum_weights\n",
    "    \n",
    "#     model_4 = model_4/sum_weights\n",
    "    \n",
    "    \n",
    "    # print(np.mean(model_1 + model_2))\n",
    "    \n",
    "    data1_out1, data1_stack1 = get_weighted_targets_with_weights(data1, initial_ensembles1, size_ens = size_ens,\n",
    "                                                                  weights=model_1)\n",
    "    \n",
    "    data1_out2, data1_stack2 = get_weighted_targets_with_weights(data2, initial_ensembles2, size_ens = size_ens,\n",
    "                                                                weights=model_2)\n",
    "    \n",
    "#     data2_out1, data2_stack1 = get_weighted_targets_with_weights(data3, initial_ensembles3, size_ens = size_ens,\n",
    "#                                                                  weights=model_3)\n",
    "    \n",
    "#     data2_out2, data2_stack2 = get_weighted_targets_with_weights(data4, initial_ensembles4, size_ens = size_ens,\n",
    "#                                                                   weights=model_4)   \n",
    "    \n",
    "    X_t = np.concatenate((np.expand_dims(data1_stack1, -1), np.expand_dims(data1_stack2, -1)), axis = -1)\n",
    "    \n",
    "    initial_ensembles = np.hstack((initial_ensembles1, initial_ensembles2,\n",
    "                        initial_ensembles_for_weights, initial_ensembles_for_D))\n",
    "    \n",
    "    # print(X_t.shape)\n",
    "    \n",
    "    initial_ensembles_for_weights = np.expand_dims(initial_ensembles_for_weights,1)\n",
    "    \n",
    "    # initial_ensembles_for_L = np.expand_dims(initial_ensembles_for_L,1)\n",
    "    \n",
    "    initial_ensembles_for_D = np.expand_dims(initial_ensembles_for_D,1)\n",
    "    \n",
    "    # print(initial_ensembles_for_weights.shape)\n",
    "    \n",
    "    X_t = np.concatenate((X_t, initial_ensembles_for_weights, initial_ensembles_for_D), axis = 1)\n",
    "    \n",
    "    final_output = data1_out1 + data1_out2\n",
    "    \n",
    "    # weighted_psa = data1_out2 + data2_out2\n",
    "    \n",
    "    return X_t, initial_ensembles,final_output, model_1, model_2"
   ]
  },
  {
   "cell_type": "code",
   "execution_count": 20,
   "id": "c6bd2eb3-86b7-41ed-81b4-4dd8e44e106e",
   "metadata": {},
   "outputs": [],
   "source": [
    "def forward_operation_test(data1, data2, combined_ensembles , size_ens):\n",
    "    # samp_ann =  ann(hidden = hidden_neurons, input_shape = 32, output_shape = 1)\n",
    "    params = samp_ann_params\n",
    "    initial_ensembles1 = combined_ensembles[:, :params]\n",
    "    initial_ensembles2 = combined_ensembles[:, params:(2*params)]\n",
    "    # initial_ensembles3 = combined_ensembles[:, (2*params):(3*params)]\n",
    "    # initial_ensembles4 = combined_ensembles[:, (3*params):(4*params)]\n",
    "\n",
    "    \n",
    "    initial_ensembles_for_weights = combined_ensembles[:, (2*params):(2*params + 2)]\n",
    "    \n",
    "    # initial_ensembles_for_L = combined_ensembles[:, (4*params + 4):(4*params + 4 + 4)]\n",
    "    \n",
    "    initial_ensembles_for_D = combined_ensembles[:,(2*params + 2):(2*params + 2 + 2)]\n",
    "    \n",
    "    \n",
    "    softmax_weights = tf.math.softmax(initial_ensembles_for_weights).numpy()\n",
    "    \n",
    "    model_1 = softmax_weights[:, :1].reshape(-1,1) \n",
    "    \n",
    "    # model_1 = np.min(model_1 -fudging_factor)\n",
    "    \n",
    "    model_2 = softmax_weights[:, 1:2].reshape(-1,1) \n",
    "    \n",
    "#     model_3 = softmax_weights[:, 2:3].reshape(-1,1)\n",
    "    \n",
    "#     model_4 = softmax_weights[:, 3:4].reshape(-1,1)\n",
    "    \n",
    "    sum_weights = model_1 + model_2 \n",
    "    \n",
    "    \n",
    "    # model_1_plus_model_2 = model_1 + model_2\n",
    "    \n",
    "    model_1 = model_1/sum_weights\n",
    "    \n",
    "    model_2 = model_2/sum_weights\n",
    "    \n",
    "#     model_3 = model_3/sum_weights\n",
    "    \n",
    "#     model_4 = model_4/sum_weights\n",
    "    \n",
    "    data1_out1, data1_stack1 = get_weighted_targets_with_weights(data1, initial_ensembles1, size_ens = size_ens,\n",
    "                                                                  weights=model_1)\n",
    "    \n",
    "    data1_out2, data1_stack2 = get_weighted_targets_with_weights(data2, initial_ensembles2, size_ens = size_ens,\n",
    "                                                                weights=model_2)\n",
    "    \n",
    "#     data2_out1, data2_stack1 = get_weighted_targets_with_weights(data3, initial_ensembles3, size_ens = size_ens,\n",
    "#                                                                  weights=model_3)\n",
    "    \n",
    "#     data2_out2, data2_stack2 = get_weighted_targets_with_weights(data4, initial_ensembles4, size_ens = size_ens,\n",
    "#                                                                   weights=model_4)   \n",
    "    \n",
    "    X_t = np.concatenate((np.expand_dims(data1_stack1, -1), np.expand_dims(data1_stack2, -1)), axis = -1)\n",
    "    \n",
    "    initial_ensembles = np.hstack((initial_ensembles1, initial_ensembles2, \n",
    "                        initial_ensembles_for_weights, initial_ensembles_for_D))\n",
    "    \n",
    "    # print(X_t.shape)\n",
    "    \n",
    "    initial_ensembles_for_weights = np.expand_dims(initial_ensembles_for_weights,1)\n",
    "    \n",
    "    # initial_ensembles_for_L = np.expand_dims(initial_ensembles_for_L,1)\n",
    "    \n",
    "    initial_ensembles_for_D = np.expand_dims(initial_ensembles_for_D,1)\n",
    "    \n",
    "    # print(initial_ensembles_for_weights.shape)\n",
    "    \n",
    "    X_t = np.concatenate((X_t, initial_ensembles_for_weights, initial_ensembles_for_D), axis = 1)\n",
    "    \n",
    "    final_output = data1_out1 + data1_out2 \n",
    "    \n",
    "    return X_t, initial_ensembles, final_output, model_1, model_2"
   ]
  },
  {
   "cell_type": "code",
   "execution_count": 21,
   "id": "af3dd570-7ab3-4eae-bd8e-9a57a333b30a",
   "metadata": {},
   "outputs": [],
   "source": [
    "total_weights = 2*(samp_ann.count_params() + 1 + 1)"
   ]
  },
  {
   "cell_type": "code",
   "execution_count": 22,
   "id": "e820b010-4396-4b7a-8781-a8e6d503aad5",
   "metadata": {},
   "outputs": [],
   "source": [
    "reduction = 10"
   ]
  },
  {
   "cell_type": "code",
   "execution_count": 23,
   "id": "e5fbaaf7-afae-4008-a26c-e0691ef9b3f9",
   "metadata": {},
   "outputs": [],
   "source": [
    "size_ens = total_weights//reduction\n",
    "# total_weights//reduction"
   ]
  },
  {
   "cell_type": "code",
   "execution_count": 24,
   "id": "a5111536-1a97-4390-9658-c9848a136a3f",
   "metadata": {},
   "outputs": [
    {
     "data": {
      "text/plain": [
       "106"
      ]
     },
     "execution_count": 24,
     "metadata": {},
     "output_type": "execute_result"
    }
   ],
   "source": [
    "size_ens"
   ]
  },
  {
   "cell_type": "code",
   "execution_count": 25,
   "id": "3f598992-73d6-4b5a-906d-3184f1b9625f",
   "metadata": {},
   "outputs": [],
   "source": [
    "G_t = [[1, 1]]\n",
    "G_t = np.array(G_t).T"
   ]
  },
  {
   "cell_type": "code",
   "execution_count": 26,
   "id": "17ef8c41-26ff-4e49-98f8-8f6c31b4eb63",
   "metadata": {},
   "outputs": [
    {
     "data": {
      "text/plain": [
       "(2, 1)"
      ]
     },
     "execution_count": 26,
     "metadata": {},
     "output_type": "execute_result"
    }
   ],
   "source": [
    "G_t.shape"
   ]
  },
  {
   "cell_type": "code",
   "execution_count": 27,
   "id": "a84cb0e3-2f5e-4207-b092-d2768b52205a",
   "metadata": {},
   "outputs": [],
   "source": [
    "def get_predictions(data1, data2, initial_ensembles, fudging_beta  =fudging_beta): \n",
    "    _,_, weighted_alogp, w1, w2 = forward_operation(data1, data2, initial_ensembles, size_ens = size_ens, fudging_beta = fudging_beta)\n",
    "    return weighted_alogp, w1, w2"
   ]
  },
  {
   "cell_type": "code",
   "execution_count": 28,
   "id": "37b60b37-92b1-4784-85fc-59a865d2398f",
   "metadata": {},
   "outputs": [],
   "source": [
    "def get_predictions_test(data1, data2, initial_ensembles): \n",
    "    _,_, weighted_alogp, w1, w2 = forward_operation_test(data1, data2, initial_ensembles, size_ens = size_ens)\n",
    "    return weighted_alogp, w1, w2"
   ]
  },
  {
   "cell_type": "code",
   "execution_count": 29,
   "id": "3af0a9b9-6202-40e2-911f-3c890213099f",
   "metadata": {},
   "outputs": [],
   "source": [
    "def calculate_mu_bar_G_bar(data1, data2, initial_ensembles, fudging_beta):\n",
    "    H_t = np.hstack((np.identity(data1.shape[0]), np.zeros((data1.shape[0], samp_ann_params + 1  + 1))))\n",
    "    mu_bar = initial_ensembles.mean(0)\n",
    "    X_t, _,_, _, _ = forward_operation(data1, data2, initial_ensembles, size_ens = size_ens, fudging_beta = fudging_beta)\n",
    "    X_t = X_t.transpose((0,2,1))\n",
    "    X_t = X_t.reshape(X_t.shape[0], X_t.shape[1]*X_t.shape[2])\n",
    "    script_H_t = np.kron(G_t.T, H_t)\n",
    "    G_u = (script_H_t@X_t.T)\n",
    "    G_u = G_u.T\n",
    "    G_bar = (G_u.mean(0)).ravel()\n",
    "    return mu_bar.reshape(-1,1), G_bar.reshape(-1,1), G_u"
   ]
  },
  {
   "cell_type": "code",
   "execution_count": 30,
   "id": "7334c80c-cfcd-4d5b-b844-11cfb8c137df",
   "metadata": {},
   "outputs": [],
   "source": [
    "def calculate_C_u(initial_ensembles, mu_bar, G_bar, G_u): \n",
    "    u_j_minus_u_bar = initial_ensembles - mu_bar.reshape(1,-1)\n",
    "    G_u_minus_G_bar = G_u -  G_bar.reshape(1,-1)\n",
    "    c = np.zeros((total_weights, G_bar.shape[0]))\n",
    "    for i in range(0, size_ens): \n",
    "        c += np.kron(u_j_minus_u_bar[i, :].T.reshape(-1,1), G_u_minus_G_bar[i,:].reshape(-1,1).T)\n",
    "    return c/size_ens, G_u_minus_G_bar"
   ]
  },
  {
   "cell_type": "code",
   "execution_count": 31,
   "id": "9148779c-1a3f-455d-a6ad-00fc1bf69c1f",
   "metadata": {},
   "outputs": [],
   "source": [
    "def calculate_D_u( G_bar, G_u): \n",
    "    G_u_minus_G_bar = G_u -  G_bar.reshape(1,-1)\n",
    "    d = np.zeros((G_bar.shape[0], G_bar.shape[0]))\n",
    "    for i in range(0, size_ens): \n",
    "        d += np.kron(G_u_minus_G_bar[i,:].T.reshape(-1,1), G_u_minus_G_bar[i,:].reshape(-1,1).T)\n",
    "    return d/size_ens"
   ]
  },
  {
   "cell_type": "code",
   "execution_count": 32,
   "id": "6e8459b0-68c1-4d1f-851e-3d7b99f0ffc5",
   "metadata": {},
   "outputs": [],
   "source": [
    "def get_updated_ensemble(data1, data2, initial_ensembles, y_train, size_ens = size_ens, inflation_factor = 1.0, fudging_beta = fudging_beta, \n",
    "                        fudging_var = None):\n",
    "    mu_bar, G_bar, G_u = calculate_mu_bar_G_bar(data1, data2, initial_ensembles, fudging_beta)\n",
    "    C, G_u_minus_G_bar = calculate_C_u(initial_ensembles, mu_bar, G_bar, G_u)\n",
    "    D = calculate_D_u( G_bar, G_u)\n",
    "    _, R_t = create_cov(data1.shape[0],initial_ensembles)\n",
    "    inflation = np.identity(R_t.shape[0])*inflation_factor\n",
    "    D_plus_cov = D + (R_t *inflation_factor)\n",
    "    D_plus_cov_inv = np.linalg.inv(D_plus_cov)\n",
    "    mid_quant = C@D_plus_cov_inv\n",
    "    noise_vec_mean = np.zeros((R_t.shape[0], ))\n",
    "    noise_mvn = mvn(noise_vec_mean, R_t)\n",
    "    fudging = noise_mvn.rvs(size_ens)\n",
    "    interim = (y_train.T.flatten().reshape(1,-1) + fudging)\n",
    "    right_quant = interim - G_u\n",
    "    mid_times_right = mid_quant@right_quant.T\n",
    "    updated_ensemble = (initial_ensembles + mid_times_right.T)\n",
    "    if fudging_var is not None: \n",
    "        mean_vec = np.zeros((updated_ensemble.shape[1],))\n",
    "        cov_mat = np.identity(updated_ensemble.shape[1])*fudging_var\n",
    "        fudging_for_updated_ensembles = mvn(mean_vec, cov_mat)\n",
    "        fudging_for_updated_ensembles_vec = fudging_for_updated_ensembles.rvs(size_ens)\n",
    "        updated_ensemble = updated_ensemble + fudging_for_updated_ensembles_vec\n",
    "    return updated_ensemble"
   ]
  },
  {
   "cell_type": "code",
   "execution_count": 33,
   "id": "c14b236d-6ebf-40e3-9085-97afd2990e4d",
   "metadata": {},
   "outputs": [],
   "source": [
    "target_dim = 1"
   ]
  },
  {
   "cell_type": "code",
   "execution_count": 34,
   "id": "346d07bc-5b61-4e75-a816-a6e22ffe9d76",
   "metadata": {},
   "outputs": [],
   "source": [
    "lambda_D = 1"
   ]
  },
  {
   "cell_type": "code",
   "execution_count": 35,
   "id": "5abd35fb-ea92-449d-894a-162ed1f4aaec",
   "metadata": {},
   "outputs": [],
   "source": [
    "from joblib import Parallel, delayed"
   ]
  },
  {
   "cell_type": "code",
   "execution_count": 36,
   "id": "381fc654-8877-41fd-840a-4b35153f923b",
   "metadata": {},
   "outputs": [],
   "source": [
    "def create_cov(shape, initial_ensembles):\n",
    "    cov_part = initial_ensembles[:, -4:-3]\n",
    "    cov_part = cov_part.mean(0)\n",
    "    variances1 = tf.math.softplus(cov_part).numpy()\n",
    "    n = shape\n",
    "    return variances1, np.identity(n)*variances1"
   ]
  },
  {
   "cell_type": "code",
   "execution_count": 37,
   "id": "7c59ea29-6484-40d5-8777-80cf9ca6cf5d",
   "metadata": {},
   "outputs": [],
   "source": [
    "# idx = 1"
   ]
  },
  {
   "cell_type": "code",
   "execution_count": 38,
   "id": "7649cb4e-4909-404a-86db-cfb8fc2e078b",
   "metadata": {},
   "outputs": [],
   "source": [
    "with open(\"..//Data//gcn_cdr_train_pca_higher.pickle\", \"rb\") as f: \n",
    "    catch_train = pickle.load(f)"
   ]
  },
  {
   "cell_type": "code",
   "execution_count": 39,
   "id": "f029a85a-6790-4635-b02f-a8dfd9346e8c",
   "metadata": {},
   "outputs": [],
   "source": [
    "with open(\"..//Data//gcn_cdr_test_pca_higher.pickle\", \"rb\") as f: \n",
    "    catch_test = pickle.load(f)"
   ]
  },
  {
   "cell_type": "code",
   "execution_count": 40,
   "id": "1cbefaa8-c226-47fb-a972-1a8207d29766",
   "metadata": {},
   "outputs": [],
   "source": [
    "import random"
   ]
  },
  {
   "cell_type": "code",
   "execution_count": 41,
   "id": "176445fb-4f30-421a-a710-339955111baa",
   "metadata": {},
   "outputs": [],
   "source": [
    "def prepare_data_train(catch_train, idxes): \n",
    "    # idxes = random.sample(range(0, catch_train[0].shape[0]), k = size)\n",
    "    # idxes = list(idxes)\n",
    "    data1, data2 = catch_train[0][idxes,:], catch_train[1][idxes,:]\n",
    "    \n",
    "    y_train = catch_train[-1][idxes].reshape(-1,1)\n",
    "    \n",
    "    return data1, data2, y_train "
   ]
  },
  {
   "cell_type": "code",
   "execution_count": 42,
   "id": "d7c13b4e-c9b7-4b7f-bd6e-92ec93cd40e2",
   "metadata": {},
   "outputs": [],
   "source": [
    "def prepare_data_test( catch_test, size): \n",
    "    idxes = random.sample(range(0, catch_test[0].shape[0]), k = size)\n",
    "    idxes = list(idxes)\n",
    "    data1, data2 = catch_test[0][idxes,:], catch_test[1][idxes,:]\n",
    "    y_train = catch_test[-1][idxes].reshape(-1,1)\n",
    "    return data1, data2, y_train"
   ]
  },
  {
   "cell_type": "code",
   "execution_count": 43,
   "id": "a10c5978-b4cf-453e-8cb3-79ed4b26ba90",
   "metadata": {},
   "outputs": [],
   "source": [
    "train_idxes = random.sample(range(0, catch_train[0].shape[0]), k = catch_train[0].shape[0])"
   ]
  },
  {
   "cell_type": "code",
   "execution_count": 44,
   "id": "30bbf608-b4d6-45a7-8910-63e1a4d69487",
   "metadata": {},
   "outputs": [],
   "source": [
    "# len(train_idxes)"
   ]
  },
  {
   "cell_type": "code",
   "execution_count": 45,
   "id": "33c56dd0-c6ef-415d-9db2-f3a207080045",
   "metadata": {},
   "outputs": [],
   "source": [
    "# data2_traina.shape"
   ]
  },
  {
   "cell_type": "code",
   "execution_count": 48,
   "id": "90d8d250-4f82-4c75-91de-f2f00f44f386",
   "metadata": {},
   "outputs": [],
   "source": [
    "# data1_traina.shape"
   ]
  },
  {
   "cell_type": "code",
   "execution_count": 49,
   "id": "d2a4da04-1a68-4b91-ad62-e6c027c91fa2",
   "metadata": {},
   "outputs": [],
   "source": [
    "data1_traina, data2_traina, y_traina =  prepare_data_train(catch_train, idxes = train_idxes)"
   ]
  },
  {
   "cell_type": "code",
   "execution_count": 50,
   "id": "3e54f80e-5b8d-4f46-a24a-2514a3683a02",
   "metadata": {},
   "outputs": [],
   "source": [
    "data1_test, data2_test, y_test =  prepare_data_test(catch_test, size = catch_test[0].shape[0])"
   ]
  },
  {
   "cell_type": "code",
   "execution_count": 51,
   "id": "6631bfa6-b392-44a9-9e34-7548bc7810e8",
   "metadata": {},
   "outputs": [],
   "source": [
    "current_test = [data1_test, data2_test, y_test]"
   ]
  },
  {
   "cell_type": "code",
   "execution_count": 52,
   "id": "aadbd46f-4890-40cc-8176-f292b9c45cac",
   "metadata": {},
   "outputs": [],
   "source": [
    "from scipy.stats import pearsonr"
   ]
  },
  {
   "cell_type": "code",
   "execution_count": 53,
   "id": "09e61be2-f070-4e18-8583-66f0cdc24501",
   "metadata": {},
   "outputs": [],
   "source": [
    "def chunks(lst, n):\n",
    "    \"\"\"Yield successive n-sized chunks from lst.\"\"\"\n",
    "    for i in range(0, len(lst), n):\n",
    "        yield lst[i:i + n]"
   ]
  },
  {
   "cell_type": "code",
   "execution_count": 54,
   "id": "8a1acec2-599f-4ec7-9ad4-1183a7b09dde",
   "metadata": {},
   "outputs": [],
   "source": [
    "batch_size = 2500"
   ]
  },
  {
   "cell_type": "code",
   "execution_count": 55,
   "id": "02e369a5-74ae-464b-97fb-69791238b973",
   "metadata": {},
   "outputs": [],
   "source": [
    "import random"
   ]
  },
  {
   "cell_type": "code",
   "execution_count": 56,
   "id": "c0fa6a26-3f92-4a59-a52b-95211f3d670d",
   "metadata": {},
   "outputs": [],
   "source": [
    "from tqdm import tqdm_notebook"
   ]
  },
  {
   "cell_type": "code",
   "execution_count": 57,
   "id": "65bf21e9-92c6-4824-93c3-87274b072afa",
   "metadata": {},
   "outputs": [],
   "source": [
    "def get_results(idx, var_weights = 1.0, var_weight_weights = 1.0, var_D = 0.01, inflation_factor = 1.6, fudging_beta = beta(1,19), \n",
    "               fudging_var = 1e-3, print_true = True):\n",
    "    \n",
    "    # smiles_feats_train, rdkit_feats_train, smiles_feats_valid, rdkit_feats_valid, y_train, y_train_actual, y_valid, y_valid_actual, initial_ensembles  = prepare_data(idx, var_weights = var_weights, var_weight_weights =var_weight_weights, var_L = var_L, var_D = var_D)\n",
    "    w1_catch = []\n",
    "    w2_catch = []\n",
    "\n",
    "    train_rmse = []\n",
    "    test_rmse = []\n",
    "    # print(\"done initializing\")\n",
    "    \n",
    "    train_idxes = random.sample(range(0, catch_train[0].shape[0]), k = catch_train[0].shape[0])\n",
    "    \n",
    "    train_chunks = list(chunks(train_idxes, batch_size))\n",
    "    \n",
    "    best_rmse_train = 10000\n",
    "    \n",
    "    data1_train, data2_train, y_train = prepare_data_train(catch_train, train_chunks[0])\n",
    "    \n",
    "    _, initial_ensembles, initial_ensembles_for_weights, initial_ensembles_for_D = get_initial_X_t(data1_train, data2_train,\n",
    "                                                                                                 size_ens = size_ens, var_weights = var_weights,\n",
    "                                                                                                var_weight_weights = var_weight_weights,\n",
    "                                                                                                             var_D = var_D)\n",
    "    \n",
    "    initial_ensembles = np.hstack((initial_ensembles, initial_ensembles_for_weights, initial_ensembles_for_D))\n",
    "    patience = 0\n",
    "    \n",
    "    for i in range(0,300):\n",
    "        \n",
    "        train_chunks = random.sample(train_chunks, len(train_chunks))\n",
    "        \n",
    "        if print_true == True:\n",
    "            print(\"epoch number is \" +str(i))\n",
    "        \n",
    "        for chunk in (train_chunks):\n",
    "        \n",
    "            data1_train, data2_train, y_train = prepare_data_train(catch_train, chunk)\n",
    "            \n",
    "            \n",
    "            \n",
    "            initial_ensembles = get_updated_ensemble(data1_train, data2_train, initial_ensembles, y_train, size_ens = size_ens,\n",
    "                                                 inflation_factor = inflation_factor, fudging_beta = fudging_beta, fudging_var = fudging_var)\n",
    "        \n",
    "            G_u_train, w1, w2 = get_predictions(data1_traina, data2_traina, initial_ensembles, fudging_beta)\n",
    "    \n",
    "            li_train = np.percentile(G_u_train, axis = 0, q = (2.5, 97.5))[0,:].reshape(-1,1)    \n",
    "            ui_train = np.percentile(G_u_train, axis = 0, q = (2.5, 97.5))[1,:].reshape(-1,1)  \n",
    "    \n",
    "            width_train = ui_train - li_train\n",
    "            avg_width_train = width_train.mean(0)[0]\n",
    "    \n",
    "            ind_train = (y_traina >= li_train) & (y_traina <= ui_train)\n",
    "            coverage_train= ind_train.mean(0)[0]\n",
    "    \n",
    "            averaged_targets_train = G_u_train.mean(0).reshape(-1,1)\n",
    "            rmse_train = np.sqrt(((y_traina -averaged_targets_train)**2).mean(0))[0]\n",
    "        \n",
    "            pearsonr_train = pearsonr(averaged_targets_train.reshape(averaged_targets_train.shape[0],), \n",
    "                                 y_traina.reshape(y_traina.shape[0],))\n",
    "        \n",
    "            r_train = pearsonr_train.statistic\n",
    "    \n",
    "            G_u_test, _, _ = get_predictions_test(data1_test, data2_test, initial_ensembles)\n",
    "    \n",
    "\n",
    "    \n",
    "            li_test = np.percentile(G_u_test, axis = 0, q = (2.5, 97.5))[0,:].reshape(-1,1)     \n",
    "            ui_test = np.percentile(G_u_test, axis = 0, q = (2.5, 97.5))[1,:].reshape(-1,1)   \n",
    "    \n",
    "            width_test = ui_test - li_test\n",
    "            avg_width_test = width_test.mean(0)[0]\n",
    "    \n",
    "            ind_test = (y_test >= li_test) & (y_test <= ui_test)\n",
    "            coverage_test= ind_test.mean(0)[0]\n",
    "    \n",
    "            averaged_targets_test = G_u_test.mean(0).reshape(-1,1)\n",
    "            rmse_test = np.sqrt(((y_test -averaged_targets_test)**2).mean(0))[0]  \n",
    "        \n",
    "            pearsonr_test = pearsonr(averaged_targets_test.reshape(averaged_targets_test.shape[0],), \n",
    "                                 y_test.reshape(y_test.shape[0],))\n",
    "        \n",
    "            r_test = pearsonr_test.statistic\n",
    "            \n",
    "            train_rmse.append(rmse_train)\n",
    "            \n",
    "            test_rmse.append(rmse_test)\n",
    "            \n",
    "            if print_true == True: \n",
    "                print(\"Training Coverage, Widths, RMSE, and Pearson R\")\n",
    "                print(coverage_train, avg_width_train, rmse_train, r_train)\n",
    "                print(\"Testing Coverage, Widths, RMSE, and Pearson R\")\n",
    "                print(coverage_test, avg_width_test, rmse_test, r_test)\n",
    "                \n",
    "            w1_catch.append([w1.mean(), w1.std()])\n",
    "            w2_catch.append([w2.mean(), w2.std()])\n",
    "                # print(w1.mean(), w1.std())\n",
    "\n",
    "            if (rmse_train < best_rmse_train): \n",
    "                best_pearsonr_train = r_train\n",
    "            # print(\"went here\")\n",
    "                best_train_width_mean = avg_width_train.mean()\n",
    "                best_train_width = avg_width_train\n",
    "                # best_smiles_weight = w1.mean()\n",
    "                best_coverage_train = coverage_train\n",
    "                best_rmse_train = rmse_train\n",
    "                best_pearson_r = r_test\n",
    "                best_test_width = avg_width_test\n",
    "\n",
    "                best_coverage_test = coverage_test    \n",
    "                best_rmse_test = rmse_test\n",
    "                patience = 0\n",
    "                best_ensembles = initial_ensembles\n",
    "                best_w1_weight = w1.mean()\n",
    "                best_w2_weight = w2.mean()\n",
    "                best_test_preds = averaged_targets_test\n",
    "                best_li = li_test\n",
    "                best_ui = ui_test\n",
    "                best_residuals = (y_test -averaged_targets_test)\n",
    "            \n",
    "            else:\n",
    "                patience = patience + 1\n",
    "            \n",
    "            if print_true == True:\n",
    "                print(\"Patience is\")\n",
    "                print(patience)\n",
    "                print('\\n')\n",
    "        \n",
    "            if patience > threshold:\n",
    "            \n",
    "                # print()\n",
    "                # print(best_train_width.tolist(), best_coverage_train.tolist(), best_rmse_train.tolist(), best_test_width.tolist(), best_coverage_test.tolist(), best_rmse_test.tolist(), best_smiles_weight, flush = True)\n",
    "                # print(\"done for fold\" + str(idx), flush = True)\n",
    "                # print(\"train_coverage\" + str(best_coverage_train), flush = True)\n",
    "                print(\"test_coverage\" + str(best_coverage_test), flush = True)\n",
    "                # print(\"train_width\" + str(best_train_width), flush = True)\n",
    "                print(\"test_width\" + str(best_test_width), flush = True)\n",
    "                # print(\"smiles_weight\" + str(best_smiles_weight), flush = True)\n",
    "                # print(\"rmse_train\" + str(best_rmse_train), flush = True)\n",
    "                print(\"rmse_test\" + str(best_rmse_test), flush = True)\n",
    "                weights = [best_w1_weight, best_w2_weight]\n",
    "                print(\"weights\", flush = True)\n",
    "                print(weights, flush = True)\n",
    "                print('\\n', flush = True)\n",
    "                # print(\"smiles_weight_ci\" + str([best_li_smiles_weight, best_ui_smiles_weight]), flush = True)\n",
    "            \n",
    "                return [best_train_width, best_coverage_train, best_rmse_train, best_test_width, best_coverage_test, best_rmse_test, best_pearson_r, best_ensembles, train_rmse, test_rmse, best_w1_weight, best_w2_weight, w1_catch, w2_catch, best_test_preds, best_li, best_ui, best_residuals]\n"
   ]
  },
  {
   "cell_type": "code",
   "execution_count": 58,
   "id": "11a8c623-2952-409f-a640-7d89cef6b1aa",
   "metadata": {},
   "outputs": [],
   "source": [
    "threshold = 10"
   ]
  },
  {
   "cell_type": "code",
   "execution_count": 59,
   "id": "14658528-ea1a-4a6f-83bd-f708df0bcd83",
   "metadata": {},
   "outputs": [
    {
     "name": "stdout",
     "output_type": "stream",
     "text": [
      "epoch number is 0\n",
      "Training Coverage, Widths, RMSE, and Pearson R\n",
      "0.2208801687519866 30.806629311081384 41.557628101196805 -0.03346510638970445\n",
      "Testing Coverage, Widths, RMSE, and Pearson R\n",
      "0.22337722337722338 30.827952425556177 41.74811992508203 -0.03901483754612691\n",
      "Patience is\n",
      "0\n",
      "\n",
      "\n",
      "Training Coverage, Widths, RMSE, and Pearson R\n",
      "0.4717831652555841 10.851293875495164 7.5212938369227125 0.23237951849355684\n",
      "Testing Coverage, Widths, RMSE, and Pearson R\n",
      "0.4733772233772234 10.874515593190477 7.520870865631481 0.23153377069820733\n",
      "Patience is\n",
      "0\n",
      "\n",
      "\n",
      "Training Coverage, Widths, RMSE, and Pearson R\n",
      "0.7205623139827203 11.60708600939848 5.0422616611719935 -0.2038607112725591\n",
      "Testing Coverage, Widths, RMSE, and Pearson R\n",
      "0.7178909678909678 11.612332965844255 5.080794327663548 -0.20786294970433022\n",
      "Patience is\n",
      "0\n",
      "\n",
      "\n",
      "Training Coverage, Widths, RMSE, and Pearson R\n",
      "0.9498511861762071 12.90012833394218 2.643750341942685 0.3694451577159377\n",
      "Testing Coverage, Widths, RMSE, and Pearson R\n",
      "0.9508547008547008 12.926174143620297 2.6307888752431006 0.37123343222364724\n",
      "Patience is\n",
      "0\n",
      "\n",
      "\n",
      "Training Coverage, Widths, RMSE, and Pearson R\n",
      "0.9684167942901725 16.01849381330353 2.4541040724364023 0.5212381638709296\n",
      "Testing Coverage, Widths, RMSE, and Pearson R\n",
      "0.9712982212982213 16.038792841239818 2.435050636376652 0.5263544533154163\n",
      "Patience is\n",
      "0\n",
      "\n",
      "\n",
      "Training Coverage, Widths, RMSE, and Pearson R\n",
      "0.9605282168347444 15.27023841545797 2.7055065671879994 0.30748617748701684\n",
      "Testing Coverage, Widths, RMSE, and Pearson R\n",
      "0.9628667128667129 15.290770519254398 2.6962285622780495 0.30608188245454077\n",
      "Patience is\n",
      "1\n",
      "\n",
      "\n",
      "Training Coverage, Widths, RMSE, and Pearson R\n",
      "0.9796572947669546 16.650681051297774 2.2701394300463003 0.6134157865106209\n",
      "Testing Coverage, Widths, RMSE, and Pearson R\n",
      "0.982039732039732 16.713574083187652 2.2486079911342234 0.6184390248662635\n",
      "Patience is\n",
      "0\n",
      "\n",
      "\n",
      "Training Coverage, Widths, RMSE, and Pearson R\n",
      "0.9838616464877048 17.730071704263686 2.4198828316035583 0.5443096095422811\n",
      "Testing Coverage, Widths, RMSE, and Pearson R\n",
      "0.9853314853314853 17.763903917327205 2.406460616633783 0.5447739253213479\n",
      "Patience is\n",
      "1\n",
      "\n",
      "\n",
      "Training Coverage, Widths, RMSE, and Pearson R\n",
      "0.984150605368856 18.696029873064557 2.1985235298527375 0.6409036253686003\n",
      "Testing Coverage, Widths, RMSE, and Pearson R\n",
      "0.9856202356202356 18.755995395748727 2.183536872743131 0.6431069323116699\n",
      "Patience is\n",
      "0\n",
      "\n",
      "\n",
      "Training Coverage, Widths, RMSE, and Pearson R\n",
      "0.9879937584881672 20.003700550516143 2.280080128813695 0.5978176898530734\n",
      "Testing Coverage, Widths, RMSE, and Pearson R\n",
      "0.9892007392007393 20.01763894882019 2.2675508199939545 0.5992644571153006\n",
      "Patience is\n",
      "1\n",
      "\n",
      "\n",
      "Training Coverage, Widths, RMSE, and Pearson R\n",
      "0.9945531250902997 19.434383817963305 2.287322511290917 0.597451198140961\n",
      "Testing Coverage, Widths, RMSE, and Pearson R\n",
      "0.9955532455532455 19.473165683270707 2.273023493885013 0.5990559251306574\n",
      "Patience is\n",
      "2\n",
      "\n",
      "\n",
      "Training Coverage, Widths, RMSE, and Pearson R\n",
      "0.991417921229809 19.72720008518682 2.3389746574641497 0.5711461906546704\n",
      "Testing Coverage, Widths, RMSE, and Pearson R\n",
      "0.992954492954493 19.734591369255188 2.330159766145808 0.5701067657438162\n",
      "Patience is\n",
      "3\n",
      "\n",
      "\n",
      "Training Coverage, Widths, RMSE, and Pearson R\n",
      "0.9943797497616089 19.60863670583343 2.160956332354761 0.6500016034589288\n",
      "Testing Coverage, Widths, RMSE, and Pearson R\n",
      "0.9956109956109956 19.628106342523537 2.157193942780356 0.6485052813754594\n",
      "Patience is\n",
      "0\n",
      "\n",
      "\n",
      "Training Coverage, Widths, RMSE, and Pearson R\n",
      "0.9954055537896958 20.327355573288838 2.1371434683573574 0.6593920914162376\n",
      "Testing Coverage, Widths, RMSE, and Pearson R\n",
      "0.9964194964194965 20.334664593120273 2.12923487254444 0.6592118419538286\n",
      "Patience is\n",
      "0\n",
      "\n",
      "\n",
      "Training Coverage, Widths, RMSE, and Pearson R\n",
      "0.9954922414540411 20.24011329970763 2.032165779040033 0.7013798294609178\n",
      "Testing Coverage, Widths, RMSE, and Pearson R\n",
      "0.9966504966504967 20.20268807564447 2.0159980978686423 0.7033860196668796\n",
      "Patience is\n",
      "0\n",
      "\n",
      "\n",
      "Training Coverage, Widths, RMSE, and Pearson R\n",
      "0.9983673823214957 20.534791794957826 2.068705585361213 0.693909941250622\n",
      "Testing Coverage, Widths, RMSE, and Pearson R\n",
      "0.9983252483252483 20.517437314412007 2.063721855763216 0.6913504355662563\n",
      "Patience is\n",
      "1\n",
      "\n",
      "\n",
      "Training Coverage, Widths, RMSE, and Pearson R\n",
      "0.9969659317479123 21.265843073004906 2.147843431378995 0.6581289836125399\n",
      "Testing Coverage, Widths, RMSE, and Pearson R\n",
      "0.9972279972279973 21.253521525196653 2.1350701673154484 0.6591547273763436\n",
      "Patience is\n",
      "2\n",
      "\n",
      "\n",
      "Training Coverage, Widths, RMSE, and Pearson R\n",
      "0.9983095905452654 21.929423627760123 2.0536870981647084 0.6918283584918471\n",
      "Testing Coverage, Widths, RMSE, and Pearson R\n",
      "0.9980942480942481 21.930075661092197 2.048522449104283 0.6912742687572497\n",
      "Patience is\n",
      "3\n",
      "\n",
      "\n",
      "Training Coverage, Widths, RMSE, and Pearson R\n",
      "0.9985696535383015 21.63955935638355 1.9651063851729216 0.7235986958427539\n",
      "Testing Coverage, Widths, RMSE, and Pearson R\n",
      "0.999018249018249 21.612103014332884 1.9552557802451933 0.7248873398557403\n",
      "Patience is\n",
      "0\n",
      "\n",
      "\n",
      "Training Coverage, Widths, RMSE, and Pearson R\n",
      "0.9993931863495824 22.660355522512333 2.0486625622837256 0.6941692889440403\n",
      "Testing Coverage, Widths, RMSE, and Pearson R\n",
      "0.9995957495957496 22.659500404252388 2.0417776229674627 0.6942878820836895\n",
      "Patience is\n",
      "1\n",
      "\n",
      "\n",
      "Training Coverage, Widths, RMSE, and Pearson R\n",
      "0.9991331233565464 22.550274163506337 2.062345617556043 0.6888145256962688\n",
      "Testing Coverage, Widths, RMSE, and Pearson R\n",
      "0.9993647493647494 22.51772075593629 2.0568440237840986 0.6883443504925225\n",
      "Patience is\n",
      "2\n",
      "\n",
      "\n",
      "Training Coverage, Widths, RMSE, and Pearson R\n",
      "0.9992053630768342 22.18182339270679 1.9917538518518847 0.7191113153297926\n",
      "Testing Coverage, Widths, RMSE, and Pearson R\n",
      "0.9992492492492493 22.134428337158816 1.980105326706812 0.7215390762470453\n",
      "Patience is\n",
      "3\n",
      "\n",
      "\n",
      "Training Coverage, Widths, RMSE, and Pearson R\n",
      "0.9997543849510214 23.037216459633587 2.0041208707392277 0.7104172687040192\n",
      "Testing Coverage, Widths, RMSE, and Pearson R\n",
      "0.9998844998844999 22.99666470308049 1.993029587410126 0.7121415211510002\n",
      "Patience is\n",
      "4\n",
      "\n",
      "\n",
      "Training Coverage, Widths, RMSE, and Pearson R\n",
      "0.9997254890629064 23.37575904886135 2.0138220820739927 0.7153919452480186\n",
      "Testing Coverage, Widths, RMSE, and Pearson R\n",
      "0.9998267498267498 23.319628216821886 2.010875675822124 0.7153055588109564\n",
      "Patience is\n",
      "5\n",
      "\n",
      "\n",
      "Training Coverage, Widths, RMSE, and Pearson R\n",
      "0.999739937006964 25.839082416743533 1.9654564005452524 0.7309305003193366\n",
      "Testing Coverage, Widths, RMSE, and Pearson R\n",
      "0.9998267498267498 25.79656016250668 1.9604838300530625 0.7290842391409885\n",
      "Patience is\n",
      "6\n",
      "\n",
      "\n",
      "Training Coverage, Widths, RMSE, and Pearson R\n",
      "0.99881526858728 24.702824959356633 2.052608597461729 0.6933999389903112\n",
      "Testing Coverage, Widths, RMSE, and Pearson R\n",
      "0.9984407484407485 24.58938222272295 2.0495863143481348 0.6922300765512404\n",
      "Patience is\n",
      "7\n",
      "\n",
      "\n",
      "Training Coverage, Widths, RMSE, and Pearson R\n",
      "0.9994654260698702 24.111625889888828 1.9193970568700949 0.7428517951775869\n",
      "Testing Coverage, Widths, RMSE, and Pearson R\n",
      "0.9993069993069993 24.016913665761308 1.906600335044248 0.7451538139061868\n",
      "Patience is\n",
      "0\n",
      "\n",
      "\n",
      "Training Coverage, Widths, RMSE, and Pearson R\n",
      "0.999508769902043 25.119218495691022 1.9430462467813836 0.7317754649419457\n",
      "Testing Coverage, Widths, RMSE, and Pearson R\n",
      "0.9994802494802495 25.024275572508504 1.9333171015323152 0.7330785380572423\n",
      "Patience is\n",
      "1\n",
      "\n",
      "\n",
      "epoch number is 1\n",
      "Training Coverage, Widths, RMSE, and Pearson R\n",
      "0.9986274453145317 24.651211707562766 1.9004572349522524 0.7478912177843833\n",
      "Testing Coverage, Widths, RMSE, and Pearson R\n",
      "0.9981519981519982 24.588111084321675 1.8884922347468276 0.748451901197866\n",
      "Patience is\n",
      "0\n",
      "\n",
      "\n",
      "Training Coverage, Widths, RMSE, and Pearson R\n",
      "0.9993209466292946 24.983212807475073 1.8837961188626968 0.7576182279154284\n",
      "Testing Coverage, Widths, RMSE, and Pearson R\n",
      "0.9992492492492493 24.882052014181497 1.874176287688404 0.7567779620824845\n",
      "Patience is\n",
      "0\n",
      "\n",
      "\n",
      "Training Coverage, Widths, RMSE, and Pearson R\n",
      "0.9983962782096107 25.143394905450293 2.186155491660341 0.6397124938527258\n",
      "Testing Coverage, Widths, RMSE, and Pearson R\n",
      "0.9980942480942481 25.025335860816735 2.173975030539519 0.6415629315841729\n",
      "Patience is\n",
      "1\n",
      "\n",
      "\n",
      "Training Coverage, Widths, RMSE, and Pearson R\n",
      "0.9986563412026469 24.699313371815542 1.948922444985546 0.7285008336589979\n",
      "Testing Coverage, Widths, RMSE, and Pearson R\n",
      "0.9982674982674983 24.63980354717706 1.9367608309270923 0.7296868124194132\n",
      "Patience is\n",
      "2\n",
      "\n",
      "\n",
      "Training Coverage, Widths, RMSE, and Pearson R\n",
      "0.9998844164475396 24.88848899487539 1.8489864127782838 0.7674285957189747\n",
      "Testing Coverage, Widths, RMSE, and Pearson R\n",
      "1.0 24.8100925335228 1.8556504061031027 0.765640898477033\n",
      "Patience is\n",
      "0\n",
      "\n",
      "\n",
      "Training Coverage, Widths, RMSE, and Pearson R\n",
      "0.9998410726153668 25.58477568122477 2.036397808313183 0.7003721365716693\n",
      "Testing Coverage, Widths, RMSE, and Pearson R\n",
      "0.9998267498267498 25.529894941877377 2.0185865939464405 0.7039510364173203\n",
      "Patience is\n",
      "1\n",
      "\n",
      "\n",
      "Training Coverage, Widths, RMSE, and Pearson R\n",
      "0.9999422082237698 27.207605953438716 1.907926789118927 0.7445821682648927\n",
      "Testing Coverage, Widths, RMSE, and Pearson R\n",
      "1.0 27.13715127961735 1.902405512890742 0.7429487798231895\n",
      "Patience is\n",
      "2\n",
      "\n",
      "\n",
      "Training Coverage, Widths, RMSE, and Pearson R\n",
      "0.9996821452307336 24.59753745611608 2.0062619667072346 0.7507858233073432\n",
      "Testing Coverage, Widths, RMSE, and Pearson R\n",
      "0.9997112497112497 24.480696492317378 2.0049817426783485 0.752180725108935\n",
      "Patience is\n",
      "3\n",
      "\n",
      "\n",
      "Training Coverage, Widths, RMSE, and Pearson R\n",
      "0.9999277602797122 25.199249574246114 1.8227920696416458 0.767996641444734\n",
      "Testing Coverage, Widths, RMSE, and Pearson R\n",
      "0.9998844998844999 25.080583382745143 1.8264841358871522 0.7651890753511201\n",
      "Patience is\n",
      "0\n",
      "\n",
      "\n",
      "Training Coverage, Widths, RMSE, and Pearson R\n",
      "0.9990030918600283 27.0304305421577 1.8713951303109895 0.757240057453423\n",
      "Testing Coverage, Widths, RMSE, and Pearson R\n",
      "0.9986717486717487 26.943068889964017 1.8695480428751354 0.7541627071025876\n",
      "Patience is\n",
      "1\n",
      "\n",
      "\n",
      "Training Coverage, Widths, RMSE, and Pearson R\n",
      "0.9992631548530644 26.169490886741496 1.8750118026453113 0.7522655409618586\n",
      "Testing Coverage, Widths, RMSE, and Pearson R\n",
      "0.9992492492492493 26.099387280281405 1.8692293728058986 0.7523585576145637\n",
      "Patience is\n",
      "2\n",
      "\n",
      "\n",
      "Training Coverage, Widths, RMSE, and Pearson R\n",
      "0.9998121767272518 26.42419111690048 1.881737640424742 0.7550487972129216\n",
      "Testing Coverage, Widths, RMSE, and Pearson R\n",
      "0.9999422499422499 26.376382489855843 1.8826049348357323 0.7544699301619975\n",
      "Patience is\n",
      "3\n",
      "\n",
      "\n",
      "Training Coverage, Widths, RMSE, and Pearson R\n",
      "0.9987285809229347 27.0008401171112 1.816057624724171 0.7717836233977653\n",
      "Testing Coverage, Widths, RMSE, and Pearson R\n",
      "0.9986717486717487 26.927321234682584 1.8149227050560819 0.7711633161793666\n",
      "Patience is\n",
      "0\n",
      "\n",
      "\n",
      "Training Coverage, Widths, RMSE, and Pearson R\n",
      "0.9983673823214957 24.969806811356506 1.767147019199444 0.7859917741634952\n",
      "Testing Coverage, Widths, RMSE, and Pearson R\n",
      "0.9980942480942481 24.940169295001567 1.770740211713464 0.7844182809561286\n",
      "Patience is\n",
      "0\n",
      "\n",
      "\n",
      "Training Coverage, Widths, RMSE, and Pearson R\n",
      "0.9992920507411795 27.602704107142937 1.8447334821496106 0.7613115069816705\n",
      "Testing Coverage, Widths, RMSE, and Pearson R\n",
      "0.999018249018249 27.54966434236009 1.8512059825034837 0.7575971927622465\n",
      "Patience is\n",
      "1\n",
      "\n",
      "\n",
      "Training Coverage, Widths, RMSE, and Pearson R\n",
      "0.9991475713006039 24.041511770414008 1.842691519152825 0.7646299778175056\n",
      "Testing Coverage, Widths, RMSE, and Pearson R\n",
      "0.999018249018249 24.00915378072856 1.8435201916594537 0.763426687166536\n",
      "Patience is\n",
      "2\n",
      "\n",
      "\n",
      "Training Coverage, Widths, RMSE, and Pearson R\n",
      "0.9995954575663883 24.811973955314976 1.8812059919681712 0.7635628566349437\n",
      "Testing Coverage, Widths, RMSE, and Pearson R\n",
      "0.9995379995379995 24.76644460180818 1.875183672460748 0.7650443842451108\n",
      "Patience is\n",
      "3\n",
      "\n",
      "\n",
      "Training Coverage, Widths, RMSE, and Pearson R\n",
      "0.9996676972866761 25.178119992266964 1.940018560768346 0.7357964198051604\n",
      "Testing Coverage, Widths, RMSE, and Pearson R\n",
      "0.9997689997689998 25.184000980223313 1.9287065624694717 0.7381432032290169\n",
      "Patience is\n",
      "4\n",
      "\n",
      "\n",
      "Training Coverage, Widths, RMSE, and Pearson R\n",
      "0.9996532493426186 25.492580414577468 1.7723239825532509 0.7866950855949001\n",
      "Testing Coverage, Widths, RMSE, and Pearson R\n",
      "0.9996534996534997 25.475915019720496 1.7761461420742555 0.7856808361753826\n",
      "Patience is\n",
      "5\n",
      "\n",
      "\n",
      "Training Coverage, Widths, RMSE, and Pearson R\n",
      "0.9998555205594244 26.145898538625648 1.7003518786757748 0.8019413608576296\n",
      "Testing Coverage, Widths, RMSE, and Pearson R\n",
      "0.9999422499422499 26.123376204356447 1.6961547752620094 0.8009634962742657\n",
      "Patience is\n",
      "0\n",
      "\n",
      "\n",
      "Training Coverage, Widths, RMSE, and Pearson R\n",
      "0.9998121767272518 25.615488267924544 1.9457813211665365 0.7293004907232434\n",
      "Testing Coverage, Widths, RMSE, and Pearson R\n",
      "0.9998844998844999 25.596436149694128 1.943671109738466 0.7279051714741848\n",
      "Patience is\n",
      "1\n",
      "\n",
      "\n",
      "Training Coverage, Widths, RMSE, and Pearson R\n",
      "0.9993498425174098 25.432403259525724 1.8920674918769338 0.7627166883797735\n",
      "Testing Coverage, Widths, RMSE, and Pearson R\n",
      "0.9992492492492493 25.41538686352138 1.8919964974974204 0.7629781569271494\n",
      "Patience is\n",
      "2\n",
      "\n",
      "\n",
      "Training Coverage, Widths, RMSE, and Pearson R\n",
      "0.9995521137342156 26.31699444233647 1.8163021539923077 0.781197410844736\n",
      "Testing Coverage, Widths, RMSE, and Pearson R\n",
      "0.9997112497112497 26.273558961087858 1.8172330469916234 0.7808061586184147\n",
      "Patience is\n",
      "3\n",
      "\n",
      "\n",
      "Training Coverage, Widths, RMSE, and Pearson R\n",
      "0.9997977287831942 25.30723927141194 1.9081236700369897 0.7594000622320346\n",
      "Testing Coverage, Widths, RMSE, and Pearson R\n",
      "0.9999422499422499 25.302783422419324 1.9192540830693912 0.7564080077846508\n",
      "Patience is\n",
      "4\n",
      "\n",
      "\n",
      "Training Coverage, Widths, RMSE, and Pearson R\n",
      "0.9996821452307336 24.69326067385163 1.7151226102787926 0.8044677975343176\n",
      "Testing Coverage, Widths, RMSE, and Pearson R\n",
      "0.9997112497112497 24.68041207884902 1.7178908205561516 0.8039493203343763\n",
      "Patience is\n",
      "5\n",
      "\n",
      "\n",
      "Training Coverage, Widths, RMSE, and Pearson R\n",
      "0.999739937006964 25.42258626669552 1.8188495464389378 0.7932333559660011\n",
      "Testing Coverage, Widths, RMSE, and Pearson R\n",
      "0.9996534996534997 25.362476100715476 1.8312609729222373 0.7912099748547428\n",
      "Patience is\n",
      "6\n",
      "\n",
      "\n",
      "Training Coverage, Widths, RMSE, and Pearson R\n",
      "0.9996676972866761 26.15428840064575 1.8316726572639934 0.7667441761388867\n",
      "Testing Coverage, Widths, RMSE, and Pearson R\n",
      "0.9997689997689998 26.140642359899825 1.8263784460034365 0.7653818175215935\n",
      "Patience is\n",
      "7\n",
      "\n",
      "\n",
      "Training Coverage, Widths, RMSE, and Pearson R\n",
      "0.9997254890629064 26.237248232119697 1.8715225804258593 0.7956950703792882\n",
      "Testing Coverage, Widths, RMSE, and Pearson R\n",
      "0.9997112497112497 26.22355756536791 1.8876996241864585 0.7947847242061776\n",
      "Patience is\n",
      "8\n",
      "\n",
      "\n",
      "epoch number is 2\n",
      "Training Coverage, Widths, RMSE, and Pearson R\n",
      "0.9987863726991649 25.867704405927473 1.8203508670642221 0.7767088562703701\n",
      "Testing Coverage, Widths, RMSE, and Pearson R\n",
      "0.9983829983829984 25.821444335848145 1.823660229726812 0.7758944934003603\n",
      "Patience is\n",
      "9\n",
      "\n",
      "\n",
      "Training Coverage, Widths, RMSE, and Pearson R\n",
      "0.9998410726153668 26.57353218898347 2.026065972544786 0.7275060760933298\n",
      "Testing Coverage, Widths, RMSE, and Pearson R\n",
      "0.9999422499422499 26.550236249007977 2.030457144334867 0.7258502256715493\n",
      "Patience is\n",
      "10\n",
      "\n",
      "\n",
      "Training Coverage, Widths, RMSE, and Pearson R\n",
      "0.9993787384055249 25.041209123257428 1.7622332466068433 0.8050382093450147\n",
      "Testing Coverage, Widths, RMSE, and Pearson R\n",
      "0.9994224994224994 25.01827158999844 1.769638924222202 0.80411094850161\n",
      "Patience is\n",
      "11\n",
      "\n",
      "\n",
      "test_coverage0.9999422499422499\n",
      "test_width26.123376204356447\n",
      "rmse_test1.6961547752620094\n",
      "weights\n",
      "[0.9570667594387503, 0.042933240561249544]\n",
      "\n",
      "\n",
      "CPU times: user 44min 36s, sys: 23min 29s, total: 1h 8min 6s\n",
      "Wall time: 19min 51s\n"
     ]
    }
   ],
   "source": [
    "%%time\n",
    "best_train_width, best_coverage_train, best_rmse_train, best_test_width, best_coverage_test, best_rmse_test, best_pearson_r, best_ensembles, train_rmse, test_rmse, \\\n",
    "best_w1_weight, best_w2_weight, w1_catch, w2_catch, best_test_preds, best_li, best_ui, best_residuals = get_results(0, var_weights = 0.08, var_weight_weights = 1, var_D = 1, inflation_factor =1, fudging_beta = beta(1,19), \n",
    "           fudging_var = 2*1e-3, print_true = True)"
   ]
  },
  {
   "cell_type": "code",
   "execution_count": 60,
   "id": "9490af0c-5a1b-43fb-8431-b1282db34b54",
   "metadata": {},
   "outputs": [],
   "source": [
    "preds_test, _, _ = get_predictions_test(data1_test, data2_test, best_ensembles)"
   ]
  },
  {
   "cell_type": "code",
   "execution_count": 61,
   "id": "7779268c-ab61-4401-80a0-44538877c872",
   "metadata": {},
   "outputs": [],
   "source": [
    "averaged_preds_test = preds_test.mean(0).reshape(-1,1)"
   ]
  },
  {
   "cell_type": "code",
   "execution_count": 62,
   "id": "35f093e5-520c-41f0-a675-01ac46f87a1c",
   "metadata": {},
   "outputs": [
    {
     "data": {
      "image/png": "[encoded data removed]",
      "text/plain": [
       "<Figure size 640x480 with 1 Axes>"
      ]
     },
     "metadata": {},
     "output_type": "display_data"
    }
   ],
   "source": [
    "plt.scatter(y_test, averaged_preds_test, alpha = 0.1)\n",
    "plt.axline((0,0), slope = 1, c = \"black\")\n",
    "plt.xlabel(\"Ground Truth Values\")\n",
    "plt.ylabel(\"MEnKF-ANN Predicted Values\")\n",
    "# plt.xticks(fontsize = 10, fontweight = \"bold\")\n",
    "# plt.yticks(fontsize = 10, fontweight = \"bold\")\n",
    "plt.show()"
   ]
  },
  {
   "cell_type": "code",
   "execution_count": 63,
   "id": "7b6dbeca-651e-4d31-89c0-c44e35b4270f",
   "metadata": {},
   "outputs": [],
   "source": [
    "items = [best_train_width, best_coverage_train, best_rmse_train, best_test_width, best_coverage_test, best_rmse_test, best_pearson_r,best_w1_weight, best_w2_weight]"
   ]
  },
  {
   "cell_type": "code",
   "execution_count": 64,
   "id": "4c969db3-06fd-4a30-8f3e-1d1670a03aa0",
   "metadata": {},
   "outputs": [],
   "source": [
    "items_df = pd.DataFrame(items).T"
   ]
  },
  {
   "cell_type": "code",
   "execution_count": 65,
   "id": "01f44639-4484-45c7-bd7c-7745ab18371b",
   "metadata": {},
   "outputs": [],
   "source": [
    "items_df.columns = ['best_train_width', 'best_coverage_train', 'best_rmse_train', 'best_test_width', 'best_coverage_test', 'best_rmse_test', 'best_pearson_r', \n",
    "                   'best_w1_weight', 'best_w2_weight']"
   ]
  },
  {
   "cell_type": "code",
   "execution_count": 66,
   "id": "7ab228b9-c61a-46cb-aa57-7acf4da3b114",
   "metadata": {},
   "outputs": [],
   "source": [
    "items_df = items_df.T"
   ]
  },
  {
   "cell_type": "code",
   "execution_count": 67,
   "id": "925c745c-7a4d-4d78-8f47-9a1d7e11a39a",
   "metadata": {},
   "outputs": [],
   "source": [
    "# items_df.columns = [\"Value\"]"
   ]
  },
  {
   "cell_type": "code",
   "execution_count": 68,
   "id": "d93ed649-b0ba-445d-b28a-ffeb603dc960",
   "metadata": {},
   "outputs": [
    {
     "data": {
      "text/html": [
       "<div>\n",
       "<style scoped>\n",
       "    .dataframe tbody tr th:only-of-type {\n",
       "        vertical-align: middle;\n",
       "    }\n",
       "\n",
       "    .dataframe tbody tr th {\n",
       "        vertical-align: top;\n",
       "    }\n",
       "\n",
       "    .dataframe thead th {\n",
       "        text-align: right;\n",
       "    }\n",
       "</style>\n",
       "<table border=\"1\" class=\"dataframe\">\n",
       "  <thead>\n",
       "    <tr style=\"text-align: right;\">\n",
       "      <th></th>\n",
       "      <th>0</th>\n",
       "    </tr>\n",
       "  </thead>\n",
       "  <tbody>\n",
       "    <tr>\n",
       "      <th>best_train_width</th>\n",
       "      <td>26.145899</td>\n",
       "    </tr>\n",
       "    <tr>\n",
       "      <th>best_coverage_train</th>\n",
       "      <td>0.999856</td>\n",
       "    </tr>\n",
       "    <tr>\n",
       "      <th>best_rmse_train</th>\n",
       "      <td>1.700352</td>\n",
       "    </tr>\n",
       "    <tr>\n",
       "      <th>best_test_width</th>\n",
       "      <td>26.123376</td>\n",
       "    </tr>\n",
       "    <tr>\n",
       "      <th>best_coverage_test</th>\n",
       "      <td>0.999942</td>\n",
       "    </tr>\n",
       "    <tr>\n",
       "      <th>best_rmse_test</th>\n",
       "      <td>1.696155</td>\n",
       "    </tr>\n",
       "    <tr>\n",
       "      <th>best_pearson_r</th>\n",
       "      <td>0.800963</td>\n",
       "    </tr>\n",
       "    <tr>\n",
       "      <th>best_w1_weight</th>\n",
       "      <td>0.957067</td>\n",
       "    </tr>\n",
       "    <tr>\n",
       "      <th>best_w2_weight</th>\n",
       "      <td>0.042933</td>\n",
       "    </tr>\n",
       "  </tbody>\n",
       "</table>\n",
       "</div>"
      ],
      "text/plain": [
       "                             0\n",
       "best_train_width     26.145899\n",
       "best_coverage_train   0.999856\n",
       "best_rmse_train       1.700352\n",
       "best_test_width      26.123376\n",
       "best_coverage_test    0.999942\n",
       "best_rmse_test        1.696155\n",
       "best_pearson_r        0.800963\n",
       "best_w1_weight        0.957067\n",
       "best_w2_weight        0.042933"
      ]
     },
     "execution_count": 68,
     "metadata": {},
     "output_type": "execute_result"
    }
   ],
   "source": [
    "items_df"
   ]
  },
  {
   "cell_type": "code",
   "execution_count": 69,
   "id": "c743cac6-4f17-49ab-9ad0-f35b685d22f1",
   "metadata": {},
   "outputs": [
    {
     "data": {
      "text/plain": [
       "(106, 17316)"
      ]
     },
     "execution_count": 69,
     "metadata": {},
     "output_type": "execute_result"
    }
   ],
   "source": [
    "preds_test.shape"
   ]
  },
  {
   "cell_type": "code",
   "execution_count": 70,
   "id": "0ce0a569-aed6-42db-afa8-83819760c033",
   "metadata": {},
   "outputs": [
    {
     "data": {
      "image/png": "[encoded data removed]",
      "text/plain": [
       "<Figure size 1500x1500 with 16 Axes>"
      ]
     },
     "metadata": {},
     "output_type": "display_data"
    }
   ],
   "source": [
    "random_idx = random.sample(range(y_test.shape[0]), k = 16)\n",
    "fig, axs = plt.subplots(8, 2,figsize=(15, 15))\n",
    "axs = axs.ravel()\n",
    "for idx, i in enumerate(random_idx):\n",
    "    # print(counter)\n",
    "    truth = y_test[i,:]\n",
    "    preds = preds_test[:, i]\n",
    "    percts = np.percentile(preds, axis = 0, q = (2.5, 97.5))\n",
    "    lis = percts[0]\n",
    "    uis = percts[1]\n",
    "    \n",
    "    \n",
    "    axs[idx].hist(preds)\n",
    "    axs[idx].axvline(truth, color='green', linewidth=2)\n",
    "    axs[idx].axvline(lis, color='red', linewidth=2)\n",
    "    axs[idx].axvline(uis, color='red', linewidth=2)\n",
    "\n",
    "# plt.title\n",
    "fig.savefig('gcn_cdr_pred_intervals.png', bbox_inches='tight')\n",
    "plt.show()\n"
   ]
  },
  {
   "cell_type": "code",
   "execution_count": 71,
   "id": "b6080aac-5298-4b62-94cc-a4032a04b0ad",
   "metadata": {},
   "outputs": [
    {
     "data": {
      "image/png": "[encoded data removed]",
      "text/plain": [
       "<Figure size 640x480 with 1 Axes>"
      ]
     },
     "metadata": {},
     "output_type": "display_data"
    }
   ],
   "source": [
    "plt.plot(train_rmse)\n",
    "plt.plot(test_rmse)\n",
    "plt.xlabel(\"Update Iteration\", fontsize = 15, fontweight = \"bold\")\n",
    "plt.ylabel(\"RMSE\", fontsize = 15, fontweight = \"bold\")\n",
    "plt.xticks( fontsize = 10, fontweight = \"bold\")\n",
    "plt.yticks( fontsize = 10, fontweight = \"bold\")\n",
    "plt.show()"
   ]
  },
  {
   "cell_type": "code",
   "execution_count": 72,
   "id": "31471813-3497-4224-acf3-2bd150a35690",
   "metadata": {},
   "outputs": [],
   "source": [
    "# plt.hist(y_train)\n",
    "# plt.show()"
   ]
  },
  {
   "cell_type": "code",
   "execution_count": 73,
   "id": "26cbcc74-a96c-45c2-9e18-c15480f2be2a",
   "metadata": {},
   "outputs": [
    {
     "data": {
      "image/png": "[encoded data removed]",
      "text/plain": [
       "<Figure size 640x480 with 1 Axes>"
      ]
     },
     "metadata": {},
     "output_type": "display_data"
    }
   ],
   "source": [
    "plt.hist(y_test)\n",
    "plt.show()"
   ]
  },
  {
   "cell_type": "code",
   "execution_count": 74,
   "id": "35467dc2-da99-4dd0-b374-affc9d2571d2",
   "metadata": {},
   "outputs": [
    {
     "name": "stderr",
     "output_type": "stream",
     "text": [
      "[Parallel(n_jobs=14)]: Using backend LokyBackend with 14 concurrent workers.\n"
     ]
    },
    {
     "name": "stdout",
     "output_type": "stream",
     "text": [
      "test_coverage0.9198429198429199\n",
      "test_width6.615733020408131\n",
      "rmse_test1.6534869345519985\n",
      "weights\n",
      "[0.4015301637955853, 0.5984698362044147]\n",
      "\n",
      "\n",
      "test_coverage0.9767844767844768\n",
      "test_width10.206706301118416\n",
      "rmse_test1.6591542924954774\n",
      "weights\n",
      "[0.5419165927365863, 0.45808340726341373]\n",
      "\n",
      "\n",
      "test_coverage0.6438553938553938\n",
      "test_width2.9753710287388517\n",
      "rmse_test1.6467771274992784\n",
      "weights\n",
      "[0.07940037639421181, 0.9205996236057883]\n",
      "\n",
      "\n",
      "test_coverage0.9737237237237237\n",
      "test_width10.270681923248627\n",
      "rmse_test1.6636135082889056\n",
      "weights\n",
      "[0.5138908911293066, 0.4861091088706934]\n",
      "\n",
      "\n",
      "test_coverage0.9983252483252483\n",
      "test_width16.109745684020105\n",
      "rmse_test1.6864737655228135\n",
      "weights\n",
      "[0.8307080299531673, 0.16929197004683286]\n",
      "\n",
      "\n",
      "test_coverage0.9907599907599908\n",
      "test_width12.191210794108931\n",
      "rmse_test1.6601226960233557\n",
      "weights\n",
      "[0.6891265259929497, 0.3108734740070503]\n",
      "\n",
      "\n",
      "test_coverage0.8487525987525988\n",
      "test_width4.916072502932436\n",
      "rmse_test1.6389003407956353\n",
      "weights\n",
      "[0.15880508152336678, 0.8411949184766332]\n",
      "\n",
      "\n",
      "test_coverage0.7975860475860476\n",
      "test_width4.279611484734639\n",
      "rmse_test1.6461053177639433\n",
      "weights\n",
      "[0.1100619096122041, 0.8899380903877959]\n",
      "\n",
      "\n",
      "test_coverage0.9931277431277431\n",
      "test_width16.149419404322646\n",
      "rmse_test1.6730999365410617\n",
      "weights\n",
      "[0.6980477636342576, 0.30195223636574253]\n",
      "\n",
      "\n",
      "test_coverage0.9266574266574267\n",
      "test_width6.748368065807428\n",
      "rmse_test1.6430391265331652\n",
      "weights\n",
      "[0.31497612602804964, 0.6850238739719502]\n",
      "\n",
      "\n",
      "test_coverage0.7043774543774544\n",
      "test_width3.422270044018748\n",
      "rmse_test1.6419634354025088\n",
      "weights\n",
      "[0.06544014041174234, 0.9345598595882576]\n",
      "\n",
      "\n",
      "test_coverage0.6530954030954031\n",
      "test_width2.9624165173621053\n",
      "rmse_test1.6424426708517428\n",
      "weights\n",
      "[0.11986970877965919, 0.8801302912203408]\n",
      "\n",
      "\n",
      "test_coverage0.9930699930699931\n",
      "test_width14.32989812474925\n",
      "rmse_test1.6595179035178864\n",
      "weights\n",
      "[0.7066411237301046, 0.29335887626989543]\n",
      "\n",
      "\n"
     ]
    },
    {
     "name": "stderr",
     "output_type": "stream",
     "text": [
      "[Parallel(n_jobs=14)]: Done  13 tasks      | elapsed: 31.6min\n"
     ]
    },
    {
     "name": "stdout",
     "output_type": "stream",
     "text": [
      "test_coverage0.990990990990991\n",
      "test_width13.159250914549075\n",
      "rmse_test1.6564804550995906\n",
      "weights\n",
      "[0.5348989941296857, 0.4651010058703144]\n",
      "\n",
      "\n",
      "test_coverage0.6826056826056826\n",
      "test_width3.2317678666294967\n",
      "rmse_test1.644171480648062\n",
      "weights\n",
      "[0.060440051662283535, 0.9395599483377166]\n",
      "\n",
      "\n",
      "test_coverage0.6586971586971587\n",
      "test_width3.1487404119669757\n",
      "rmse_test1.6390435317723484\n",
      "weights\n",
      "[0.028576820373723166, 0.9714231796262769]\n",
      "\n",
      "\n",
      "test_coverage0.932028182028182\n",
      "test_width6.931868265702497\n",
      "rmse_test1.6526689474452962\n",
      "weights\n",
      "[0.25734805732614924, 0.7426519426738508]\n",
      "\n",
      "\n",
      "test_coverage0.9938207438207438\n",
      "test_width13.21726523946579\n",
      "rmse_test1.6518886301666658\n",
      "weights\n",
      "[0.66733562771969, 0.3326643722803098]\n",
      "\n",
      "\n",
      "test_coverage0.9723377223377223\n",
      "test_width9.241456820971967\n",
      "rmse_test1.6505272934172295\n",
      "weights\n",
      "[0.44868983314242566, 0.5513101668575743]\n",
      "\n",
      "\n",
      "test_coverage0.7647840147840148\n",
      "test_width3.890121862984831\n",
      "rmse_test1.6430545070957805\n",
      "weights\n",
      "[0.1295716984331089, 0.8704283015668911]\n",
      "\n",
      "\n",
      "test_coverage0.8317740817740817\n",
      "test_width4.689057950997258\n",
      "rmse_test1.6363635903843208\n",
      "weights\n",
      "[0.2235941154567228, 0.7764058845432772]\n",
      "\n",
      "\n",
      "test_coverage0.7864402864402864\n",
      "test_width4.083002769744137\n",
      "rmse_test1.6419567785959563\n",
      "weights\n",
      "[0.13309015058858611, 0.866909849411414]\n",
      "\n",
      "\n",
      "test_coverage0.9937052437052437\n",
      "test_width12.382935777240057\n",
      "rmse_test1.670326254567202\n",
      "weights\n",
      "[0.5579100656722529, 0.4420899343277472]\n",
      "\n",
      "\n",
      "test_coverage0.9255024255024255\n",
      "test_width6.540950149924396\n",
      "rmse_test1.646125079857892\n",
      "weights\n",
      "[0.2751003121811726, 0.7248996878188276]\n",
      "\n",
      "\n",
      "test_coverage0.9741279741279741\n",
      "test_width9.00376550238897\n",
      "rmse_test1.6488878720287214\n",
      "weights\n",
      "[0.4902701139189519, 0.5097298860810481]\n",
      "\n",
      "\n",
      "test_coverage0.9978632478632479\n",
      "test_width17.423836668989043\n",
      "rmse_test1.6454306901502127\n",
      "weights\n",
      "[0.8072177353600123, 0.1927822646399877]\n",
      "\n",
      "\n",
      "test_coverage0.8720836220836221\n",
      "test_width5.277006549456418\n",
      "rmse_test1.645609390833421\n",
      "weights\n",
      "[0.199250622657955, 0.800749377342045]\n",
      "\n",
      "\n",
      "test_coverage0.9992492492492493\n",
      "test_width19.94602435149575\n",
      "rmse_test1.6803719972899398\n",
      "weights\n",
      "[0.945461945998146, 0.054538054001854]\n",
      "\n",
      "\n",
      "test_coverage0.996996996996997\n",
      "test_width15.99946951647846\n",
      "rmse_test1.6546799983612277\n",
      "weights\n",
      "[0.9243167276541591, 0.07568327234584087]\n",
      "\n",
      "\n",
      "test_coverage0.7964310464310465\n",
      "test_width4.205789780272269\n",
      "rmse_test1.6492133123220607\n",
      "weights\n",
      "[0.16992285117632722, 0.8300771488236729]\n",
      "\n",
      "\n"
     ]
    },
    {
     "name": "stderr",
     "output_type": "stream",
     "text": [
      "[Parallel(n_jobs=14)]: Done  30 out of  50 | elapsed: 62.7min remaining: 41.8min\n"
     ]
    },
    {
     "name": "stdout",
     "output_type": "stream",
     "text": [
      "test_coverage0.9915684915684916\n",
      "test_width13.711807034761781\n",
      "rmse_test1.6670223401450661\n",
      "weights\n",
      "[0.8049952321809184, 0.19500476781908158]\n",
      "\n",
      "\n",
      "test_coverage0.9544352044352045\n",
      "test_width8.171605946946903\n",
      "rmse_test1.654544244052688\n",
      "weights\n",
      "[0.4554845045245961, 0.5445154954754039]\n",
      "\n",
      "\n",
      "test_coverage0.7427234927234927\n",
      "test_width3.962707684814832\n",
      "rmse_test1.641595243521056\n",
      "weights\n",
      "[0.022044465245546725, 0.9779555347544535]\n",
      "\n",
      "\n",
      "test_coverage0.990933240933241\n",
      "test_width11.938364539102954\n",
      "rmse_test1.6515996107397097\n",
      "weights\n",
      "[0.6844194483877999, 0.3155805516122001]\n",
      "\n",
      "\n",
      "test_coverage0.9248094248094249\n",
      "test_width6.303607906229215\n",
      "rmse_test1.6379819369158028\n",
      "weights\n",
      "[0.3164553093359725, 0.6835446906640275]\n",
      "\n",
      "\n",
      "test_coverage0.9987294987294987\n",
      "test_width19.08025639303151\n",
      "rmse_test1.698868827537972\n",
      "weights\n",
      "[0.9104666545636331, 0.08953334543636696]\n",
      "\n",
      "\n",
      "test_coverage0.7849387849387849\n",
      "test_width4.247605742675856\n",
      "rmse_test1.640941864166636\n",
      "weights\n",
      "[0.0826285443574587, 0.9173714556425412]\n",
      "\n",
      "\n"
     ]
    },
    {
     "name": "stderr",
     "output_type": "stream",
     "text": [
      "[Parallel(n_jobs=14)]: Done  37 out of  50 | elapsed: 75.0min remaining: 26.3min\n"
     ]
    },
    {
     "name": "stdout",
     "output_type": "stream",
     "text": [
      "test_coverage0.6279163779163779\n",
      "test_width2.852577076674636\n",
      "rmse_test1.6344376733341972\n",
      "weights\n",
      "[0.06384402184257042, 0.9361559781574298]\n",
      "\n",
      "\n",
      "test_coverage0.5904365904365905\n",
      "test_width2.6460328256145282\n",
      "rmse_test1.6424220856378453\n",
      "weights\n",
      "[0.04823909964007485, 0.9517609003599251]\n",
      "\n",
      "\n",
      "test_coverage0.7566990066990067\n",
      "test_width3.8020211681273097\n",
      "rmse_test1.6357464500759415\n",
      "weights\n",
      "[0.14874382786479193, 0.851256172135208]\n",
      "\n",
      "\n",
      "test_coverage0.8611688611688612\n",
      "test_width5.047936468787415\n",
      "rmse_test1.636639924173207\n",
      "weights\n",
      "[0.2330725725821448, 0.7669274274178554]\n",
      "\n",
      "\n",
      "test_coverage0.9652922152922153\n",
      "test_width8.784954461177135\n",
      "rmse_test1.6494351700580987\n",
      "weights\n",
      "[0.4672781187877593, 0.5327218812122407]\n",
      "\n",
      "\n",
      "test_coverage0.9950912450912451\n",
      "test_width13.422082759888225\n",
      "rmse_test1.655393013286748\n",
      "weights\n",
      "[0.6639960342771094, 0.33600396572289065]\n",
      "\n",
      "\n",
      "test_coverage0.9760337260337261\n",
      "test_width9.292362501319634\n",
      "rmse_test1.642734953820371\n",
      "weights\n",
      "[0.48967812390067905, 0.510321876099321]\n",
      "\n",
      "\n"
     ]
    },
    {
     "name": "stderr",
     "output_type": "stream",
     "text": [
      "[Parallel(n_jobs=14)]: Done  44 out of  50 | elapsed: 85.8min remaining: 11.7min\n"
     ]
    },
    {
     "name": "stdout",
     "output_type": "stream",
     "text": [
      "test_coverage0.7668052668052668\n",
      "test_width4.138022752946235\n",
      "rmse_test1.6416605807350837\n",
      "weights\n",
      "[0.04429448749032649, 0.9557055125096736]\n",
      "\n",
      "\n",
      "test_coverage0.988911988911989\n",
      "test_width12.118208782236515\n",
      "rmse_test1.6661974630959995\n",
      "weights\n",
      "[0.6415034787691202, 0.3584965212308798]\n",
      "\n",
      "\n",
      "test_coverage0.967082467082467\n",
      "test_width8.92422080486081\n",
      "rmse_test1.6509171122012845\n",
      "weights\n",
      "[0.2676223433482773, 0.7323776566517226]\n",
      "\n",
      "\n",
      "test_coverage0.8845576345576346\n",
      "test_width5.611934487786561\n",
      "rmse_test1.6538653936879595\n",
      "weights\n",
      "[0.10229044085617643, 0.8977095591438237]\n",
      "\n",
      "\n",
      "test_coverage0.9194386694386695\n",
      "test_width6.737744910012924\n",
      "rmse_test1.646281847153667\n",
      "weights\n",
      "[0.41563103152820025, 0.5843689684717998]\n",
      "\n",
      "\n",
      "test_coverage0.7726380226380226\n",
      "test_width4.085615926372627\n",
      "rmse_test1.6418844183915948\n",
      "weights\n",
      "[0.07898781161231909, 0.9210121883876808]\n",
      "\n",
      "\n"
     ]
    },
    {
     "name": "stderr",
     "output_type": "stream",
     "text": [
      "[Parallel(n_jobs=14)]: Done  50 out of  50 | elapsed: 100.0min finished\n"
     ]
    }
   ],
   "source": [
    "catch = Parallel(n_jobs = 14, verbose = 8, backend = \"loky\")(delayed(get_results)(idx, var_weights = 1, var_weight_weights = 1, var_D = 1, inflation_factor =1, fudging_beta = beta(1,19), \n",
    "           fudging_var = 2*1e-3, print_true = False) for idx in range(0,50))"
   ]
  },
  {
   "cell_type": "code",
   "execution_count": 75,
   "id": "98993605-92f6-463c-858c-90a367878d65",
   "metadata": {},
   "outputs": [],
   "source": [
    "with open(\"..//Data//DeepCDR_run_config3_plots_from_jupyter_all_data.pickle\", \"wb\") as f: \n",
    "    pickle.dump(catch, f)"
   ]
  },
  {
   "cell_type": "code",
   "execution_count": 76,
   "id": "729e4e81-2b6f-468b-b5e6-9f163f7f6e7f",
   "metadata": {},
   "outputs": [],
   "source": [
    "with open(\"..//Data//DeepCDR_run_config3_plots_from_jupyter_all_data.pickle\", \"rb\") as f: \n",
    "    catch = pickle.load(f)"
   ]
  },
  {
   "cell_type": "code",
   "execution_count": 78,
   "id": "7202c3de-aa9b-4caf-a888-6f0b403c8ae2",
   "metadata": {},
   "outputs": [],
   "source": [
    "all_metrics = []\n",
    "all_weights = []\n",
    "for i in range(0,50):\n",
    "    item = catch[i]\n",
    "    metrics = item[:7]\n",
    "    weights = item[-8:-6]\n",
    "    all_metrics.append(metrics)\n",
    "    all_weights.append(weights)\n",
    "    "
   ]
  },
  {
   "cell_type": "code",
   "execution_count": 79,
   "id": "e7810a09-238e-4c52-a240-ce10d4c333b1",
   "metadata": {},
   "outputs": [],
   "source": [
    "all_metrics_df = pd.DataFrame(all_metrics)"
   ]
  },
  {
   "cell_type": "code",
   "execution_count": 80,
   "id": "c996a5da-98f1-4ae1-9cc0-451f7e8aeb82",
   "metadata": {},
   "outputs": [],
   "source": [
    "# all_metrics_df.head()"
   ]
  },
  {
   "cell_type": "code",
   "execution_count": 81,
   "id": "75c841de-eac9-4e80-926f-5a5963b8dab3",
   "metadata": {},
   "outputs": [],
   "source": [
    "all_weights_df = pd.DataFrame(all_weights)"
   ]
  },
  {
   "cell_type": "code",
   "execution_count": 82,
   "id": "a17cfa9b-5572-4c54-9359-3b8e8a686c35",
   "metadata": {},
   "outputs": [],
   "source": [
    "all_df = pd.concat([all_metrics_df, all_weights_df], axis = 1)"
   ]
  },
  {
   "cell_type": "code",
   "execution_count": 83,
   "id": "37da7b5c-b592-4c7d-a502-7b6483c7aedb",
   "metadata": {},
   "outputs": [],
   "source": [
    "all_df.columns = ['train_width', 'coverage_train', 'rmse_train', 'test_width', 'coverage_test', 'rmse_test', 'pearson_r', \n",
    "                    \"DeepCDR_Drugs\", \"DeepCDR_Omics\"]"
   ]
  },
  {
   "cell_type": "code",
   "execution_count": 84,
   "id": "49a2fb4f-6c49-4bf1-9c49-bdf6fc68b144",
   "metadata": {},
   "outputs": [
    {
     "data": {
      "text/plain": [
       "train_width       8.364616\n",
       "coverage_train    0.882643\n",
       "rmse_train        1.644979\n",
       "test_width        8.368590\n",
       "coverage_test     0.880992\n",
       "rmse_test         1.651233\n",
       "pearson_r         0.812848\n",
       "DeepCDR_Drugs     0.380502\n",
       "DeepCDR_Omics     0.619498\n",
       "dtype: float64"
      ]
     },
     "execution_count": 84,
     "metadata": {},
     "output_type": "execute_result"
    }
   ],
   "source": [
    "all_df.mean()"
   ]
  },
  {
   "cell_type": "code",
   "execution_count": 85,
   "id": "131b93bb-872e-4c01-8f4d-c3dee3dfc55b",
   "metadata": {},
   "outputs": [
    {
     "data": {
      "text/plain": [
       "train_width       4.837825\n",
       "coverage_train    0.122515\n",
       "rmse_train        0.012449\n",
       "test_width        4.844184\n",
       "coverage_test     0.124000\n",
       "rmse_test         0.013318\n",
       "pearson_r         0.003047\n",
       "DeepCDR_Drugs     0.281884\n",
       "DeepCDR_Omics     0.281884\n",
       "dtype: float64"
      ]
     },
     "execution_count": 85,
     "metadata": {},
     "output_type": "execute_result"
    }
   ],
   "source": [
    "all_df.std()"
   ]
  },
  {
   "cell_type": "code",
   "execution_count": 86,
   "id": "550286e8-eda8-4299-a48c-75f4f3cbd801",
   "metadata": {},
   "outputs": [],
   "source": [
    "with open(\"..//Data//DeepCDR_run_plot_from_jupyter_test_features_and_ground_truth_all_data.pickle\", \"wb\") as f: \n",
    "    pickle.dump(current_test, f)"
   ]
  },
  {
   "cell_type": "code",
   "execution_count": 87,
   "id": "f57dc577-9fb9-44f5-a998-f87754320b2f",
   "metadata": {},
   "outputs": [],
   "source": [
    "add_preds = np.zeros((y_test.shape[0], y_test.shape[1]))\n",
    "for item in catch: \n",
    "    preds = item[-4]\n",
    "    add_preds+= preds"
   ]
  },
  {
   "cell_type": "code",
   "execution_count": 88,
   "id": "b8fac0f9-2e0a-41f2-9afa-c1af07b663a0",
   "metadata": {},
   "outputs": [],
   "source": [
    "averaged_preds = add_preds/50"
   ]
  },
  {
   "cell_type": "code",
   "execution_count": 89,
   "id": "46497184-d963-4a8b-9a5a-74ab3b2785ef",
   "metadata": {},
   "outputs": [],
   "source": [
    "from sklearn.metrics import mean_squared_error"
   ]
  },
  {
   "cell_type": "code",
   "execution_count": 90,
   "id": "a7df7031-1d10-4bb5-b341-91ef4127b39e",
   "metadata": {},
   "outputs": [],
   "source": [
    "mse = mean_squared_error(y_test, averaged_preds)"
   ]
  },
  {
   "cell_type": "code",
   "execution_count": 91,
   "id": "5db9eaf8-bfab-41a0-bab6-1b827e781db7",
   "metadata": {},
   "outputs": [
    {
     "data": {
      "text/plain": [
       "1.6241694835623723"
      ]
     },
     "execution_count": 91,
     "metadata": {},
     "output_type": "execute_result"
    }
   ],
   "source": [
    "np.sqrt(mse)"
   ]
  },
  {
   "cell_type": "code",
   "execution_count": 92,
   "id": "bad7b671-7495-4231-87f7-04960543a3a7",
   "metadata": {},
   "outputs": [],
   "source": [
    "from scipy.stats import pearsonr"
   ]
  },
  {
   "cell_type": "code",
   "execution_count": 93,
   "id": "36565b42-11a4-4e81-a032-2f7dee71fb3e",
   "metadata": {},
   "outputs": [],
   "source": [
    "pearsonr_test = pearsonr(y_test.reshape(y_test.shape[0],), \n",
    "                                 averaged_preds.reshape(averaged_preds.shape[0],))"
   ]
  },
  {
   "cell_type": "code",
   "execution_count": 94,
   "id": "840ac542-73c2-497e-ba16-245207dbbf8a",
   "metadata": {},
   "outputs": [
    {
     "data": {
      "text/plain": [
       "0.8191136674487742"
      ]
     },
     "execution_count": 94,
     "metadata": {},
     "output_type": "execute_result"
    }
   ],
   "source": [
    "pearsonr_test.statistic"
   ]
  },
  {
   "cell_type": "code",
   "execution_count": 95,
   "id": "9e00129d-fb2f-4f5d-b2af-722054f63625",
   "metadata": {},
   "outputs": [],
   "source": [
    "all_li = np.zeros((y_test.shape[0], len(catch)))\n",
    "all_ui = np.zeros((y_test.shape[0], len(catch)))\n",
    "for i, item in enumerate(catch): \n",
    "    preds = item[-3:-1]\n",
    "    all_li[:,i] =  preds[0][:,0]\n",
    "    all_ui[:,i] =  preds[1][:,0]"
   ]
  },
  {
   "cell_type": "code",
   "execution_count": 96,
   "id": "b3be07a4-de1e-45a6-adfd-ed937a34a105",
   "metadata": {},
   "outputs": [],
   "source": [
    "li = np.median(all_li, axis = 1).reshape(-1,1)"
   ]
  },
  {
   "cell_type": "code",
   "execution_count": 97,
   "id": "113a7446-e416-4162-89b0-19d387009dc1",
   "metadata": {},
   "outputs": [],
   "source": [
    "li_mean = np.mean(all_li, axis = 1).reshape(-1,1)"
   ]
  },
  {
   "cell_type": "code",
   "execution_count": 98,
   "id": "b5c98b50-76eb-4412-9399-edc81d2a57e4",
   "metadata": {},
   "outputs": [],
   "source": [
    "ui = np.median(all_ui, axis = 1).reshape(-1,1)"
   ]
  },
  {
   "cell_type": "code",
   "execution_count": 99,
   "id": "eede259c-e1eb-46c6-a90d-efbd5933e6f1",
   "metadata": {},
   "outputs": [],
   "source": [
    "ui_mean = np.mean(all_ui, axis = 1).reshape(-1,1)"
   ]
  },
  {
   "cell_type": "code",
   "execution_count": 100,
   "id": "ff5f4a30-e6aa-44ae-a11d-cb21f0956d15",
   "metadata": {},
   "outputs": [],
   "source": [
    "combo = np.hstack((y_test, li, ui))"
   ]
  },
  {
   "cell_type": "code",
   "execution_count": 101,
   "id": "efcde6cd-43fc-4a85-bde4-09947db577ee",
   "metadata": {},
   "outputs": [],
   "source": [
    "combo_mean = np.hstack((y_test, li_mean, ui_mean))"
   ]
  },
  {
   "cell_type": "code",
   "execution_count": 102,
   "id": "445e0ffc-38c6-475e-80ab-3f2712e08021",
   "metadata": {},
   "outputs": [],
   "source": [
    "combo_mean_df = pd.DataFrame(combo_mean)"
   ]
  },
  {
   "cell_type": "code",
   "execution_count": 103,
   "id": "3f6d1e9b-2d81-4a76-a014-e1d23c860c18",
   "metadata": {},
   "outputs": [],
   "source": [
    "combo_mean_df.columns = [\"IC50\", \"LI_IC50_Pred\", \"UI_IC50_Pred\"]"
   ]
  },
  {
   "cell_type": "code",
   "execution_count": 104,
   "id": "46bfb3f5-be39-4346-a998-25ff2b4cf559",
   "metadata": {},
   "outputs": [],
   "source": [
    "combo_mean_df[\"coverage\"] = (combo_mean_df[\"IC50\"] >= combo_mean_df[\"LI_IC50_Pred\"]) & (combo_mean_df[\"IC50\"] <= combo_mean_df[\"UI_IC50_Pred\"])"
   ]
  },
  {
   "cell_type": "code",
   "execution_count": 105,
   "id": "de8f8f67-d44a-47cd-9a4a-30d060c1245f",
   "metadata": {},
   "outputs": [
    {
     "data": {
      "text/plain": [
       "0.9782282282282282"
      ]
     },
     "execution_count": 105,
     "metadata": {},
     "output_type": "execute_result"
    }
   ],
   "source": [
    "combo_mean_df[\"coverage\"].mean()"
   ]
  },
  {
   "cell_type": "code",
   "execution_count": 106,
   "id": "004cff38-cef8-40c9-a502-cd9b8e9d46d8",
   "metadata": {},
   "outputs": [],
   "source": [
    "combo_mean_df[\"width\"] = combo_mean_df[\"UI_IC50_Pred\"]-combo_mean_df[\"LI_IC50_Pred\"]"
   ]
  },
  {
   "cell_type": "code",
   "execution_count": 107,
   "id": "92458aba-f89c-419f-b53f-36c0794b44d8",
   "metadata": {},
   "outputs": [
    {
     "data": {
      "text/plain": [
       "8.368589709363908"
      ]
     },
     "execution_count": 107,
     "metadata": {},
     "output_type": "execute_result"
    }
   ],
   "source": [
    "combo_mean_df[\"width\"].mean()"
   ]
  },
  {
   "cell_type": "code",
   "execution_count": 108,
   "id": "854acdf3-d42d-45aa-a27c-a0eccd0fdad0",
   "metadata": {},
   "outputs": [],
   "source": [
    "combo_df = pd.DataFrame(combo)"
   ]
  },
  {
   "cell_type": "code",
   "execution_count": 109,
   "id": "014a694b-4b4b-43f7-913a-d1791db0ba81",
   "metadata": {},
   "outputs": [],
   "source": [
    "combo_df.columns = [\"IC50\", \"LI_IC50_Pred\", \"UI_IC50_Pred\"]"
   ]
  },
  {
   "cell_type": "code",
   "execution_count": 110,
   "id": "c0d43c43-8f6f-4811-9234-57a99386a5e6",
   "metadata": {},
   "outputs": [],
   "source": [
    "combo_df = combo_df.sort_values(\"IC50\").reset_index(drop = True)"
   ]
  },
  {
   "cell_type": "code",
   "execution_count": 111,
   "id": "7639021c-435a-4d22-aa82-1ed62dfe5114",
   "metadata": {},
   "outputs": [],
   "source": [
    "combo_df[\"coverage\"] = (combo_df[\"IC50\"] >= combo_df[\"LI_IC50_Pred\"]) & (combo_df[\"IC50\"] <= combo_df[\"UI_IC50_Pred\"])"
   ]
  },
  {
   "cell_type": "code",
   "execution_count": 112,
   "id": "2dcf7882-d46b-4c01-a117-adcce9dbbb22",
   "metadata": {},
   "outputs": [
    {
     "data": {
      "text/plain": [
       "0.9506237006237006"
      ]
     },
     "execution_count": 112,
     "metadata": {},
     "output_type": "execute_result"
    }
   ],
   "source": [
    "combo_df[\"coverage\"].mean()"
   ]
  },
  {
   "cell_type": "code",
   "execution_count": 113,
   "id": "efa135a4-9079-49b2-b497-5c035d9c1666",
   "metadata": {},
   "outputs": [],
   "source": [
    "combo_df[\"width\"] = combo_df[\"UI_IC50_Pred\"]-combo_df[\"LI_IC50_Pred\"]"
   ]
  },
  {
   "cell_type": "code",
   "execution_count": 114,
   "id": "c19e6b00-36a1-4181-8a4a-5d0361cc2067",
   "metadata": {},
   "outputs": [
    {
     "data": {
      "text/plain": [
       "6.768076058181752"
      ]
     },
     "execution_count": 114,
     "metadata": {},
     "output_type": "execute_result"
    }
   ],
   "source": [
    "combo_df[\"width\"].mean()"
   ]
  }
 ],
 "metadata": {
  "kernelspec": {
   "display_name": "enkf",
   "language": "python",
   "name": "enkf"
  },
  "language_info": {
   "codemirror_mode": {
    "name": "ipython",
    "version": 3
   },
   "file_extension": ".py",
   "mimetype": "text/x-python",
   "name": "python",
   "nbconvert_exporter": "python",
   "pygments_lexer": "ipython3",
   "version": "3.11.3"
  }
 },
 "nbformat": 4,
 "nbformat_minor": 5
}
