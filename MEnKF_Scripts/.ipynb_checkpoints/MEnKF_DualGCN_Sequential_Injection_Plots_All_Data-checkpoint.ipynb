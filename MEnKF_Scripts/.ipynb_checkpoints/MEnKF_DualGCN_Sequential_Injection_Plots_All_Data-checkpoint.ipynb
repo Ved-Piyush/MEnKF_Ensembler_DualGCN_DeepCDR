{
 "cells": [
  {
   "cell_type": "code",
   "execution_count": 1,
   "id": "aa53e19a-64db-4b1d-9378-c19c8efacd62",
   "metadata": {},
   "outputs": [
    {
     "name": "stderr",
     "output_type": "stream",
     "text": [
      "2023-07-23 11:04:14.986156: I tensorflow/core/util/port.cc:110] oneDNN custom operations are on. You may see slightly different numerical results due to floating-point round-off errors from different computation orders. To turn them off, set the environment variable `TF_ENABLE_ONEDNN_OPTS=0`.\n",
      "2023-07-23 11:04:15.032995: I tensorflow/tsl/cuda/cudart_stub.cc:28] Could not find cuda drivers on your machine, GPU will not be used.\n",
      "2023-07-23 11:04:15.265056: I tensorflow/tsl/cuda/cudart_stub.cc:28] Could not find cuda drivers on your machine, GPU will not be used.\n",
      "2023-07-23 11:04:15.267115: I tensorflow/core/platform/cpu_feature_guard.cc:182] This TensorFlow binary is optimized to use available CPU instructions in performance-critical operations.\n",
      "To enable the following instructions: AVX2 AVX512F AVX512_VNNI FMA, in other operations, rebuild TensorFlow with the appropriate compiler flags.\n",
      "2023-07-23 11:04:16.708677: W tensorflow/compiler/tf2tensorrt/utils/py_utils.cc:38] TF-TRT Warning: Could not find TensorRT\n"
     ]
    }
   ],
   "source": [
    "import pandas as pd\n",
    "import numpy as np\n",
    "from sklearn.model_selection import KFold\n",
    "from sklearn.feature_selection import VarianceThreshold\n",
    "import random\n",
    "import pickle\n",
    "from sklearn.preprocessing import StandardScaler\n",
    "import os\n",
    "import tensorflow as tf\n",
    "from tqdm.notebook import tqdm\n",
    "from scipy.stats import multivariate_normal as mvn\n",
    "import matplotlib.pyplot as plt\n",
    "from scipy.linalg import block_diag\n",
    "import warnings\n",
    "import os\n",
    "os.environ['TF_CPP_MIN_LOG_LEVEL'] = '3' "
   ]
  },
  {
   "cell_type": "code",
   "execution_count": 2,
   "id": "d04fdd25-8436-4e7f-9705-eb0e5f131b69",
   "metadata": {},
   "outputs": [],
   "source": [
    "# with open(\"..//Data//DeepCDR_DualGCN_combo_run_plot.pickle\", \"rb\") as f: \n",
    "#     catch = pickle.load(f)\n",
    "\n",
    "\n",
    "# # In[ ]:\n",
    "\n",
    "\n",
    "# all_metrics = []\n",
    "# all_weights = []\n",
    "# for i in range(0,50):\n",
    "#     item = catch[i]\n",
    "#     metrics = item[:7]\n",
    "#     weights = item[-8:-4]\n",
    "#     all_metrics.append(metrics)\n",
    "#     all_weights.append(weights)"
   ]
  },
  {
   "cell_type": "code",
   "execution_count": 3,
   "id": "77d49ce1-ff5d-492d-963d-e89290851aac",
   "metadata": {},
   "outputs": [],
   "source": [
    "\n",
    "# all_metrics_df = pd.DataFrame(all_metrics)\n",
    "\n",
    "\n",
    "# # In[ ]:\n",
    "\n",
    "\n",
    "# all_weights_df = pd.DataFrame(all_weights)\n",
    "\n",
    "\n",
    "# # In[ ]:\n",
    "\n",
    "\n",
    "# all_df = pd.concat([all_metrics_df, all_weights_df], axis = 1)\n",
    "\n",
    "\n",
    "# # In[ ]:\n",
    "\n",
    "\n",
    "# all_df.columns = ['train_width', 'coverage_train', 'rmse_train', 'test_width', 'coverage_test', 'rmse_test', 'pearson_r', \n",
    "#                    \"DeepCDR_Drugs\", \"DeepCDR_Omics\", \"DualGCN_Drugs\", \"DualGCN_Omics\"]\n",
    "\n",
    "\n"
   ]
  },
  {
   "cell_type": "code",
   "execution_count": 4,
   "id": "e2f6cc19-b656-47b6-a23f-54d9079db6db",
   "metadata": {},
   "outputs": [],
   "source": [
    "# # In[ ]:\n",
    "\n",
    "\n",
    "# all_df.head()\n"
   ]
  },
  {
   "cell_type": "code",
   "execution_count": 5,
   "id": "654f68dc-55d8-4e72-b142-062defa0289a",
   "metadata": {},
   "outputs": [],
   "source": [
    "\n",
    "\n",
    "# # In[ ]:\n",
    "\n",
    "\n",
    "# all_df.mean()\n"
   ]
  },
  {
   "cell_type": "code",
   "execution_count": 6,
   "id": "148a0a87-0890-4c8f-bd66-8188ddd57d16",
   "metadata": {},
   "outputs": [],
   "source": [
    "\n",
    "\n",
    "# # In[ ]:\n",
    "\n",
    "\n",
    "# all_df.std()"
   ]
  },
  {
   "cell_type": "code",
   "execution_count": 7,
   "id": "a6028973-9799-4d8a-b919-a8dd6283faf1",
   "metadata": {},
   "outputs": [],
   "source": [
    "warnings.filterwarnings('ignore')"
   ]
  },
  {
   "cell_type": "code",
   "execution_count": 8,
   "id": "34242ac3-a983-4bab-b092-bfcea4f94a4b",
   "metadata": {},
   "outputs": [],
   "source": [
    "# len(weights_ann_1[0].ravel())"
   ]
  },
  {
   "cell_type": "code",
   "execution_count": 9,
   "id": "d459b853-f520-4181-a9a9-310a6dd20de1",
   "metadata": {},
   "outputs": [],
   "source": [
    "def get_targets_with_weights(batch_data, initial_ensembles, size_ens): \n",
    "    \n",
    "    target_dim = 1\n",
    "    \n",
    "    # weights_ann_1 = ann.get_weights()\n",
    "    \n",
    "    # h1  = ann.layers[1].output.shape[-1]\n",
    "\n",
    "    n_hidden_1 = len(weights_ann_1[0].ravel())\n",
    "    \n",
    "    hidden_weights_1 = initial_ensembles[:,:n_hidden_1].reshape( size_ens, batch_data.shape[1], h1)\n",
    "    \n",
    "    \n",
    "    hidden_output_1 = np.einsum('ij,kjl->kil', batch_data, hidden_weights_1)\n",
    "\n",
    "    \n",
    "    hidden_layer_bias_1 = initial_ensembles[:,n_hidden_1:(n_hidden_1 + h1)].reshape(size_ens, 1,  h1)\n",
    "\n",
    "\n",
    "    hidden_output_1 = hidden_output_1 + hidden_layer_bias_1\n",
    "\n",
    "    n_pred_weights_1 = len(weights_ann_1[2].ravel())\n",
    "\n",
    "    output_weights_1 = initial_ensembles[:,(n_hidden_1 + h1):(n_hidden_1 + h1 + n_pred_weights_1) ].reshape(size_ens, h1, target_dim)\n",
    "\n",
    "\n",
    "    output_1 = np.einsum('ijk,ikl->ijl', hidden_output_1, output_weights_1)\n",
    "\n",
    "\n",
    "    output_layer_bias_1 = initial_ensembles[:,(n_hidden_1 + h1 + n_pred_weights_1):(n_hidden_1 + h1 + n_pred_weights_1 + target_dim)].reshape(size_ens, 1, target_dim)\n",
    "\n",
    "\n",
    "    final_output_1 = output_1 + output_layer_bias_1\n",
    "    \n",
    "    final_output_1 = final_output_1[:,:, 0]\n",
    "    \n",
    "    # print(final_output_1.shape, initial_ensembles.shape)\n",
    "    \n",
    "    stack = np.hstack((final_output_1, initial_ensembles))\n",
    "\n",
    "    \n",
    "    return final_output_1, stack"
   ]
  },
  {
   "cell_type": "code",
   "execution_count": 10,
   "id": "2a66ee4c-4112-4dca-a9cc-68a60d4e316f",
   "metadata": {},
   "outputs": [],
   "source": [
    "def ann(hidden = 32, input_shape = 256, output_shape = 1): \n",
    "    input_layer = tf.keras.layers.Input(shape = (input_shape))\n",
    "    hidden_layer = tf.keras.layers.Dense(hidden)\n",
    "    hidden_output = hidden_layer(input_layer)\n",
    "    pred_layer = tf.keras.layers.Dense(output_shape, activation = \"relu\")\n",
    "    pred_output = pred_layer(hidden_output)\n",
    "#     pred_output = tf.keras.layers.Activation(\"softmax\")(pred_output)\n",
    "    model = tf.keras.models.Model(input_layer, pred_output)\n",
    "    return model"
   ]
  },
  {
   "cell_type": "code",
   "execution_count": 11,
   "id": "e0b9ef03-af61-4ce4-99ff-2f0b5dca639d",
   "metadata": {},
   "outputs": [],
   "source": [
    "def generate_initial_ensembles(num_weights, lambda1, size_ens):\n",
    "    mean_vec = np.zeros((num_weights,))\n",
    "    cov_matrix = lambda1*np.identity(num_weights)\n",
    "    mvn_samp = mvn(mean_vec, cov_matrix)\n",
    "    return mvn_samp.rvs(size_ens)"
   ]
  },
  {
   "cell_type": "code",
   "execution_count": 12,
   "id": "fe2ea2b5-13a4-41c4-8257-c6c18708501b",
   "metadata": {},
   "outputs": [],
   "source": [
    "def expit(x):\n",
    "    \"\"\"Compute softmax values for each sets of scores in x.\"\"\"\n",
    "#     e_x = np.exp(x - np.max(x))\n",
    "    return 1 / (1 + np.exp(-x))"
   ]
  },
  {
   "cell_type": "code",
   "execution_count": 13,
   "id": "758ac30a-bcc7-4b5e-9314-7fb85f284f70",
   "metadata": {},
   "outputs": [],
   "source": [
    "samp_ann =  ann(hidden = 8, input_shape = 64, output_shape = 1)"
   ]
  },
  {
   "cell_type": "code",
   "execution_count": 14,
   "id": "2548f2de-a4c3-4850-b5cc-439634f5c4de",
   "metadata": {},
   "outputs": [],
   "source": [
    "weights_ann_1 = samp_ann.get_weights()"
   ]
  },
  {
   "cell_type": "code",
   "execution_count": 15,
   "id": "1338dc89-5540-4867-95a6-3d0ea7639cdd",
   "metadata": {},
   "outputs": [],
   "source": [
    "h1  = samp_ann.layers[1].output.shape[-1]"
   ]
  },
  {
   "cell_type": "code",
   "execution_count": 16,
   "id": "4a92b1e3-d9c6-4ce7-959d-aef1376a29d9",
   "metadata": {},
   "outputs": [
    {
     "data": {
      "text/plain": [
       "8"
      ]
     },
     "execution_count": 16,
     "metadata": {},
     "output_type": "execute_result"
    }
   ],
   "source": [
    "h1"
   ]
  },
  {
   "cell_type": "code",
   "execution_count": 17,
   "id": "427b0370-90df-4ab4-85b9-691d082750bf",
   "metadata": {},
   "outputs": [
    {
     "data": {
      "text/plain": [
       "529"
      ]
     },
     "execution_count": 17,
     "metadata": {},
     "output_type": "execute_result"
    }
   ],
   "source": [
    "samp_ann.count_params()"
   ]
  },
  {
   "cell_type": "code",
   "execution_count": 18,
   "id": "06982568-e5c1-4712-895c-7b3d49a09040",
   "metadata": {},
   "outputs": [],
   "source": [
    "hidden_neurons = h1"
   ]
  },
  {
   "cell_type": "code",
   "execution_count": 19,
   "id": "a71c4646-23a6-45ca-9ccc-aa4c3566d8a8",
   "metadata": {},
   "outputs": [],
   "source": [
    "samp_ann_params = samp_ann.count_params()"
   ]
  },
  {
   "cell_type": "code",
   "execution_count": 20,
   "id": "b5f741d7-ba99-4803-8441-5bf2ad3d72f7",
   "metadata": {},
   "outputs": [],
   "source": [
    "def get_initial_X_t(data1, data2, size_ens, var_weights = 1.0, var_weight_weights = 4.0, var_L = 1.0, var_D = 1.0):\n",
    "    # samp_ann =  ann(hidden = hidden_neurons, input_shape = 32, output_shape = 1)\n",
    "    \n",
    "    initial_ensembles1 = generate_initial_ensembles(samp_ann_params, var_weights, size_ens)\n",
    "    data1_out1, data1_stack1 = get_targets_with_weights(data1, initial_ensembles1, size_ens = size_ens)\n",
    "    \n",
    "    initial_ensembles2 = generate_initial_ensembles(samp_ann_params, var_weights, size_ens)\n",
    "    data1_out2, data1_stack2 = get_targets_with_weights(data2, initial_ensembles2, size_ens = size_ens)\n",
    "    \n",
    "#     initial_ensembles3 = generate_initial_ensembles(samp_ann_params, var_weights, size_ens)\n",
    "#     data2_out1, data2_stack1 = get_targets_with_weights(data3, initial_ensembles3, size_ens = size_ens)\n",
    "    \n",
    "#     initial_ensembles4 = generate_initial_ensembles(samp_ann_params, var_weights, size_ens)\n",
    "#     data2_out2, data2_stack2 = get_targets_with_weights(data4, initial_ensembles4, size_ens = size_ens)   \n",
    "    \n",
    "    X_t = np.concatenate((np.expand_dims(data1_stack1, -1), np.expand_dims(data1_stack2, -1)), axis = -1)\n",
    "    \n",
    "    initial_ensembles_for_weights = generate_initial_ensembles(2, var_weight_weights, size_ens)\n",
    "    initial_ensembles_for_weights = np.expand_dims(initial_ensembles_for_weights,1)\n",
    "    \n",
    "    # initial_ensembles_for_L = generate_initial_ensembles(4, var_L, size_ens)\n",
    "    # initial_ensembles_for_L = np.expand_dims(initial_ensembles_for_L,1)    \n",
    "    \n",
    "    initial_ensembles_for_D1 = generate_initial_ensembles(1, var_D, size_ens).reshape(-1,1)\n",
    "    # initial_ensembles_for_D2 = generate_initial_ensembles(1, var_D, size_ens).reshape(-1,1)\n",
    "    \n",
    "    initial_ensembles_for_D1_zero = np.zeros((size_ens,1,1)).reshape(-1,1)\n",
    "#     initial_ensembles_for_D2_zero = np.zeros((size_ens,1,1)).reshape(-1,1)\n",
    "    \n",
    "#     initial_ensembles_for_D3_zero = np.zeros((size_ens,1,1)).reshape(-1,1)\n",
    "    \n",
    "    initial_ensembles_for_D = np.concatenate((np.expand_dims(initial_ensembles_for_D1,1),\n",
    "                                                       np.expand_dims(initial_ensembles_for_D1_zero,1)), axis = 2)\n",
    "    \n",
    "    # print(X_t.shape, initial_ensembles_for_weights.shape)\n",
    "    \n",
    "    X_t = np.concatenate((X_t, initial_ensembles_for_weights, initial_ensembles_for_D), axis = 1)\n",
    "    \n",
    "    initial_ensembles = np.hstack((initial_ensembles1, initial_ensembles2))\n",
    "    \n",
    "    return X_t, initial_ensembles, initial_ensembles_for_weights[:,0,:], initial_ensembles_for_D[:,0,:]"
   ]
  },
  {
   "cell_type": "code",
   "execution_count": 21,
   "id": "6ac49c8c-6da0-4ee2-9561-e1d19365f182",
   "metadata": {},
   "outputs": [],
   "source": [
    "def get_weighted_targets_with_weights(batch_data, initial_ensembles, size_ens, weights): \n",
    "    \n",
    "    target_dim = 1\n",
    "    \n",
    "\n",
    "    n_hidden_1 = len(weights_ann_1[0].ravel())\n",
    "    \n",
    "    hidden_weights_1 = initial_ensembles[:,:n_hidden_1].reshape( size_ens, batch_data.shape[1], h1)\n",
    "    \n",
    "    \n",
    "    hidden_output_1 = np.einsum('ij,kjl->kil', batch_data, hidden_weights_1)\n",
    "\n",
    "    \n",
    "    hidden_layer_bias_1 = initial_ensembles[:,n_hidden_1:(n_hidden_1 + h1)].reshape(size_ens, 1,  h1)\n",
    "\n",
    "\n",
    "    hidden_output_1 = hidden_output_1 + hidden_layer_bias_1\n",
    "\n",
    "    n_pred_weights_1 = len(weights_ann_1[2].ravel())\n",
    "\n",
    "    output_weights_1 = initial_ensembles[:,(n_hidden_1 + h1):(n_hidden_1 + h1 + n_pred_weights_1) ].reshape(size_ens, h1, target_dim)\n",
    "\n",
    "\n",
    "    output_1 = np.einsum('ijk,ikl->ijl', hidden_output_1, output_weights_1)\n",
    "\n",
    "\n",
    "    output_layer_bias_1 = initial_ensembles[:,(n_hidden_1 + h1 + n_pred_weights_1):(n_hidden_1 + h1 + n_pred_weights_1 + target_dim)].reshape(size_ens, 1, target_dim)\n",
    "\n",
    "\n",
    "    final_output_1 = output_1 + output_layer_bias_1\n",
    "    \n",
    "    final_output_1 = final_output_1[:,:, 0]\n",
    "    \n",
    "    final_output_1 = final_output_1*weights\n",
    "    \n",
    "    # print(final_output_1.shape, initial_ensembles.shape)\n",
    "    \n",
    "    stack = np.hstack((final_output_1, initial_ensembles))\n",
    "\n",
    "    \n",
    "    return final_output_1, stack"
   ]
  },
  {
   "cell_type": "code",
   "execution_count": 22,
   "id": "c5a2f9ca-f4b4-445a-ab5f-e0f0557f54a9",
   "metadata": {},
   "outputs": [],
   "source": [
    "from scipy.stats import beta"
   ]
  },
  {
   "cell_type": "code",
   "execution_count": 23,
   "id": "44ed09c8-f6b0-4b40-86e0-1975541fd0ac",
   "metadata": {},
   "outputs": [],
   "source": [
    "fudging_beta = beta(1,9)"
   ]
  },
  {
   "cell_type": "code",
   "execution_count": 24,
   "id": "9d1a4f5e-7a0d-42b7-ad45-59c708b7b727",
   "metadata": {},
   "outputs": [],
   "source": [
    "def forward_operation(data1, data2, combined_ensembles , size_ens, fudging_beta):\n",
    "    # samp_ann =  ann(hidden = hidden_neurons, input_shape = 32, output_shape = 1)\n",
    "    params = samp_ann_params\n",
    "    initial_ensembles1 = combined_ensembles[:, :params]\n",
    "    initial_ensembles2 = combined_ensembles[:, params:(2*params)]\n",
    "    # initial_ensembles3 = combined_ensembles[:, (2*params):(3*params)]\n",
    "    # initial_ensembles4 = combined_ensembles[:, (3*params):(4*params)]\n",
    "\n",
    "    \n",
    "    initial_ensembles_for_weights = combined_ensembles[:, (2*params):(2*params + 2)]\n",
    "    \n",
    "    # initial_ensembles_for_L = combined_ensembles[:, (4*params + 4):(4*params + 4 + 4)]\n",
    "    \n",
    "    initial_ensembles_for_D = combined_ensembles[:,(2*params + 2):(2*params + 2 + 2 )]\n",
    "    \n",
    "    \n",
    "    softmax_weights = tf.math.softmax(initial_ensembles_for_weights).numpy()\n",
    "    \n",
    "    model_1 = softmax_weights[:, 0].reshape(-1,1) \n",
    "    \n",
    "    # model_1 = np.min(model_1 -fudging_factor)\n",
    "    \n",
    "    model_2 = softmax_weights[:, 1].reshape(-1,1) \n",
    "    \n",
    "#     model_3 = softmax_weights[:, 2].reshape(-1,1) \n",
    "    \n",
    "#     model_4 = softmax_weights[:, 3].reshape(-1,1)\n",
    "    \n",
    "    sum_weights = model_1 + model_2\n",
    "    \n",
    "    \n",
    "    # model_1_plus_model_2 = model_1 + model_2\n",
    "    \n",
    "    model_1 = model_1/sum_weights\n",
    "    \n",
    "    model_2 = model_2/sum_weights\n",
    "    \n",
    "#     model_3 = model_3/sum_weights\n",
    "    \n",
    "#     model_4 = model_4/sum_weights\n",
    "    \n",
    "    \n",
    "    # print(np.mean(model_1 + model_2))\n",
    "    \n",
    "    data1_out1, data1_stack1 = get_weighted_targets_with_weights(data1, initial_ensembles1, size_ens = size_ens,\n",
    "                                                                  weights=model_1)\n",
    "    \n",
    "    data1_out2, data1_stack2 = get_weighted_targets_with_weights(data2, initial_ensembles2, size_ens = size_ens,\n",
    "                                                                weights=model_2)\n",
    "    \n",
    "#     data2_out1, data2_stack1 = get_weighted_targets_with_weights(data3, initial_ensembles3, size_ens = size_ens,\n",
    "#                                                                  weights=model_3)\n",
    "    \n",
    "#     data2_out2, data2_stack2 = get_weighted_targets_with_weights(data4, initial_ensembles4, size_ens = size_ens,\n",
    "#                                                                   weights=model_4)   \n",
    "    \n",
    "    X_t = np.concatenate((np.expand_dims(data1_stack1, -1), np.expand_dims(data1_stack2, -1)), axis = -1)\n",
    "    \n",
    "    initial_ensembles = np.hstack((initial_ensembles1, initial_ensembles2,\n",
    "                        initial_ensembles_for_weights, initial_ensembles_for_D))\n",
    "    \n",
    "    # print(X_t.shape)\n",
    "    \n",
    "    initial_ensembles_for_weights = np.expand_dims(initial_ensembles_for_weights,1)\n",
    "    \n",
    "    # initial_ensembles_for_L = np.expand_dims(initial_ensembles_for_L,1)\n",
    "    \n",
    "    initial_ensembles_for_D = np.expand_dims(initial_ensembles_for_D,1)\n",
    "    \n",
    "    # print(initial_ensembles_for_weights.shape)\n",
    "    \n",
    "    X_t = np.concatenate((X_t, initial_ensembles_for_weights, initial_ensembles_for_D), axis = 1)\n",
    "    \n",
    "    final_output = data1_out1 + data1_out2\n",
    "    \n",
    "    # weighted_psa = data1_out2 + data2_out2\n",
    "    \n",
    "    return X_t, initial_ensembles,final_output, model_1, model_2"
   ]
  },
  {
   "cell_type": "code",
   "execution_count": 25,
   "id": "c6bd2eb3-86b7-41ed-81b4-4dd8e44e106e",
   "metadata": {},
   "outputs": [],
   "source": [
    "def forward_operation_test(data1, data2, combined_ensembles , size_ens):\n",
    "    # samp_ann =  ann(hidden = hidden_neurons, input_shape = 32, output_shape = 1)\n",
    "    params = samp_ann_params\n",
    "    initial_ensembles1 = combined_ensembles[:, :params]\n",
    "    initial_ensembles2 = combined_ensembles[:, params:(2*params)]\n",
    "    # initial_ensembles3 = combined_ensembles[:, (2*params):(3*params)]\n",
    "    # initial_ensembles4 = combined_ensembles[:, (3*params):(4*params)]\n",
    "\n",
    "    \n",
    "    initial_ensembles_for_weights = combined_ensembles[:, (2*params):(2*params + 2)]\n",
    "    \n",
    "    # initial_ensembles_for_L = combined_ensembles[:, (4*params + 4):(4*params + 4 + 4)]\n",
    "    \n",
    "    initial_ensembles_for_D = combined_ensembles[:,(2*params + 2):(2*params + 2 + 2)]\n",
    "    \n",
    "    \n",
    "    softmax_weights = tf.math.softmax(initial_ensembles_for_weights).numpy()\n",
    "    \n",
    "    model_1 = softmax_weights[:, :1].reshape(-1,1) \n",
    "    \n",
    "    # model_1 = np.min(model_1 -fudging_factor)\n",
    "    \n",
    "    model_2 = softmax_weights[:, 1:2].reshape(-1,1) \n",
    "    \n",
    "#     model_3 = softmax_weights[:, 2:3].reshape(-1,1)\n",
    "    \n",
    "#     model_4 = softmax_weights[:, 3:4].reshape(-1,1)\n",
    "    \n",
    "    sum_weights = model_1 + model_2 \n",
    "    \n",
    "    \n",
    "    # model_1_plus_model_2 = model_1 + model_2\n",
    "    \n",
    "    model_1 = model_1/sum_weights\n",
    "    \n",
    "    model_2 = model_2/sum_weights\n",
    "    \n",
    "#     model_3 = model_3/sum_weights\n",
    "    \n",
    "#     model_4 = model_4/sum_weights\n",
    "    \n",
    "    data1_out1, data1_stack1 = get_weighted_targets_with_weights(data1, initial_ensembles1, size_ens = size_ens,\n",
    "                                                                  weights=model_1)\n",
    "    \n",
    "    data1_out2, data1_stack2 = get_weighted_targets_with_weights(data2, initial_ensembles2, size_ens = size_ens,\n",
    "                                                                weights=model_2)\n",
    "    \n",
    "#     data2_out1, data2_stack1 = get_weighted_targets_with_weights(data3, initial_ensembles3, size_ens = size_ens,\n",
    "#                                                                  weights=model_3)\n",
    "    \n",
    "#     data2_out2, data2_stack2 = get_weighted_targets_with_weights(data4, initial_ensembles4, size_ens = size_ens,\n",
    "#                                                                   weights=model_4)   \n",
    "    \n",
    "    X_t = np.concatenate((np.expand_dims(data1_stack1, -1), np.expand_dims(data1_stack2, -1)), axis = -1)\n",
    "    \n",
    "    initial_ensembles = np.hstack((initial_ensembles1, initial_ensembles2, \n",
    "                        initial_ensembles_for_weights, initial_ensembles_for_D))\n",
    "    \n",
    "    # print(X_t.shape)\n",
    "    \n",
    "    initial_ensembles_for_weights = np.expand_dims(initial_ensembles_for_weights,1)\n",
    "    \n",
    "    # initial_ensembles_for_L = np.expand_dims(initial_ensembles_for_L,1)\n",
    "    \n",
    "    initial_ensembles_for_D = np.expand_dims(initial_ensembles_for_D,1)\n",
    "    \n",
    "    # print(initial_ensembles_for_weights.shape)\n",
    "    \n",
    "    X_t = np.concatenate((X_t, initial_ensembles_for_weights, initial_ensembles_for_D), axis = 1)\n",
    "    \n",
    "    final_output = data1_out1 + data1_out2 \n",
    "    \n",
    "    return X_t, initial_ensembles, final_output, model_1, model_2"
   ]
  },
  {
   "cell_type": "code",
   "execution_count": 26,
   "id": "af3dd570-7ab3-4eae-bd8e-9a57a333b30a",
   "metadata": {},
   "outputs": [],
   "source": [
    "total_weights = 2*(samp_ann.count_params() + 1 + 1)"
   ]
  },
  {
   "cell_type": "code",
   "execution_count": 27,
   "id": "e820b010-4396-4b7a-8781-a8e6d503aad5",
   "metadata": {},
   "outputs": [],
   "source": [
    "reduction = 10"
   ]
  },
  {
   "cell_type": "code",
   "execution_count": 28,
   "id": "e5fbaaf7-afae-4008-a26c-e0691ef9b3f9",
   "metadata": {},
   "outputs": [],
   "source": [
    "size_ens = total_weights//reduction\n",
    "# total_weights//reduction"
   ]
  },
  {
   "cell_type": "code",
   "execution_count": 29,
   "id": "a5111536-1a97-4390-9658-c9848a136a3f",
   "metadata": {},
   "outputs": [
    {
     "data": {
      "text/plain": [
       "106"
      ]
     },
     "execution_count": 29,
     "metadata": {},
     "output_type": "execute_result"
    }
   ],
   "source": [
    "size_ens"
   ]
  },
  {
   "cell_type": "code",
   "execution_count": 30,
   "id": "3f598992-73d6-4b5a-906d-3184f1b9625f",
   "metadata": {},
   "outputs": [],
   "source": [
    "G_t = [[1, 1]]\n",
    "G_t = np.array(G_t).T"
   ]
  },
  {
   "cell_type": "code",
   "execution_count": 31,
   "id": "17ef8c41-26ff-4e49-98f8-8f6c31b4eb63",
   "metadata": {},
   "outputs": [
    {
     "data": {
      "text/plain": [
       "(2, 1)"
      ]
     },
     "execution_count": 31,
     "metadata": {},
     "output_type": "execute_result"
    }
   ],
   "source": [
    "G_t.shape"
   ]
  },
  {
   "cell_type": "code",
   "execution_count": 32,
   "id": "a84cb0e3-2f5e-4207-b092-d2768b52205a",
   "metadata": {},
   "outputs": [],
   "source": [
    "def get_predictions(data1, data2, initial_ensembles, fudging_beta  =fudging_beta): \n",
    "    _,_, weighted_alogp, w1, w2 = forward_operation(data1, data2, initial_ensembles, size_ens = size_ens, fudging_beta = fudging_beta)\n",
    "    return weighted_alogp, w1, w2"
   ]
  },
  {
   "cell_type": "code",
   "execution_count": 33,
   "id": "37b60b37-92b1-4784-85fc-59a865d2398f",
   "metadata": {},
   "outputs": [],
   "source": [
    "def get_predictions_test(data1, data2, initial_ensembles): \n",
    "    _,_, weighted_alogp, w1, w2 = forward_operation_test(data1, data2, initial_ensembles, size_ens = size_ens)\n",
    "    return weighted_alogp, w1, w2"
   ]
  },
  {
   "cell_type": "code",
   "execution_count": 34,
   "id": "3af0a9b9-6202-40e2-911f-3c890213099f",
   "metadata": {},
   "outputs": [],
   "source": [
    "def calculate_mu_bar_G_bar(data1, data2, initial_ensembles, fudging_beta):\n",
    "    H_t = np.hstack((np.identity(data1.shape[0]), np.zeros((data1.shape[0], samp_ann_params + 1  + 1))))\n",
    "    mu_bar = initial_ensembles.mean(0)\n",
    "    X_t, _,_, _, _ = forward_operation(data1, data2, initial_ensembles, size_ens = size_ens, fudging_beta = fudging_beta)\n",
    "    X_t = X_t.transpose((0,2,1))\n",
    "    X_t = X_t.reshape(X_t.shape[0], X_t.shape[1]*X_t.shape[2])\n",
    "    script_H_t = np.kron(G_t.T, H_t)\n",
    "    G_u = (script_H_t@X_t.T)\n",
    "    G_u = G_u.T\n",
    "    G_bar = (G_u.mean(0)).ravel()\n",
    "    return mu_bar.reshape(-1,1), G_bar.reshape(-1,1), G_u"
   ]
  },
  {
   "cell_type": "code",
   "execution_count": 35,
   "id": "7334c80c-cfcd-4d5b-b844-11cfb8c137df",
   "metadata": {},
   "outputs": [],
   "source": [
    "def calculate_C_u(initial_ensembles, mu_bar, G_bar, G_u): \n",
    "    u_j_minus_u_bar = initial_ensembles - mu_bar.reshape(1,-1)\n",
    "    G_u_minus_G_bar = G_u -  G_bar.reshape(1,-1)\n",
    "    c = np.zeros((total_weights, G_bar.shape[0]))\n",
    "    for i in range(0, size_ens): \n",
    "        c += np.kron(u_j_minus_u_bar[i, :].T.reshape(-1,1), G_u_minus_G_bar[i,:].reshape(-1,1).T)\n",
    "    return c/size_ens, G_u_minus_G_bar"
   ]
  },
  {
   "cell_type": "code",
   "execution_count": 36,
   "id": "9148779c-1a3f-455d-a6ad-00fc1bf69c1f",
   "metadata": {},
   "outputs": [],
   "source": [
    "def calculate_D_u( G_bar, G_u): \n",
    "    G_u_minus_G_bar = G_u -  G_bar.reshape(1,-1)\n",
    "    d = np.zeros((G_bar.shape[0], G_bar.shape[0]))\n",
    "    for i in range(0, size_ens): \n",
    "        d += np.kron(G_u_minus_G_bar[i,:].T.reshape(-1,1), G_u_minus_G_bar[i,:].reshape(-1,1).T)\n",
    "    return d/size_ens"
   ]
  },
  {
   "cell_type": "code",
   "execution_count": 37,
   "id": "6e8459b0-68c1-4d1f-851e-3d7b99f0ffc5",
   "metadata": {},
   "outputs": [],
   "source": [
    "def get_updated_ensemble(data1, data2, initial_ensembles, y_train, size_ens = size_ens, inflation_factor = 1.0, fudging_beta = fudging_beta, \n",
    "                        fudging_var = None):\n",
    "    mu_bar, G_bar, G_u = calculate_mu_bar_G_bar(data1, data2, initial_ensembles, fudging_beta)\n",
    "    C, G_u_minus_G_bar = calculate_C_u(initial_ensembles, mu_bar, G_bar, G_u)\n",
    "    D = calculate_D_u( G_bar, G_u)\n",
    "    _, R_t = create_cov(data1.shape[0],initial_ensembles)\n",
    "    inflation = np.identity(R_t.shape[0])*inflation_factor\n",
    "    D_plus_cov = D + (R_t *inflation_factor)\n",
    "    D_plus_cov_inv = np.linalg.inv(D_plus_cov)\n",
    "    mid_quant = C@D_plus_cov_inv\n",
    "    noise_vec_mean = np.zeros((R_t.shape[0], ))\n",
    "    noise_mvn = mvn(noise_vec_mean, R_t)\n",
    "    fudging = noise_mvn.rvs(size_ens)\n",
    "    interim = (y_train.T.flatten().reshape(1,-1) + fudging)\n",
    "    right_quant = interim - G_u\n",
    "    mid_times_right = mid_quant@right_quant.T\n",
    "    updated_ensemble = (initial_ensembles + mid_times_right.T)\n",
    "    if fudging_var is not None: \n",
    "        mean_vec = np.zeros((updated_ensemble.shape[1],))\n",
    "        cov_mat = np.identity(updated_ensemble.shape[1])*fudging_var\n",
    "        fudging_for_updated_ensembles = mvn(mean_vec, cov_mat)\n",
    "        fudging_for_updated_ensembles_vec = fudging_for_updated_ensembles.rvs(size_ens)\n",
    "        updated_ensemble = updated_ensemble + fudging_for_updated_ensembles_vec\n",
    "    return updated_ensemble"
   ]
  },
  {
   "cell_type": "code",
   "execution_count": 38,
   "id": "c14b236d-6ebf-40e3-9085-97afd2990e4d",
   "metadata": {},
   "outputs": [],
   "source": [
    "target_dim = 1"
   ]
  },
  {
   "cell_type": "code",
   "execution_count": 39,
   "id": "346d07bc-5b61-4e75-a816-a6e22ffe9d76",
   "metadata": {},
   "outputs": [],
   "source": [
    "lambda_D = 1"
   ]
  },
  {
   "cell_type": "code",
   "execution_count": 40,
   "id": "5abd35fb-ea92-449d-894a-162ed1f4aaec",
   "metadata": {},
   "outputs": [],
   "source": [
    "from joblib import Parallel, delayed"
   ]
  },
  {
   "cell_type": "code",
   "execution_count": 41,
   "id": "381fc654-8877-41fd-840a-4b35153f923b",
   "metadata": {},
   "outputs": [],
   "source": [
    "def create_cov(shape, initial_ensembles):\n",
    "    cov_part = initial_ensembles[:, -4:-3]\n",
    "    cov_part = cov_part.mean(0)\n",
    "    variances1 = tf.math.softplus(cov_part).numpy()\n",
    "    n = shape\n",
    "    return variances1, np.identity(n)*variances1"
   ]
  },
  {
   "cell_type": "code",
   "execution_count": 42,
   "id": "7c59ea29-6484-40d5-8777-80cf9ca6cf5d",
   "metadata": {},
   "outputs": [],
   "source": [
    "# idx = 1"
   ]
  },
  {
   "cell_type": "code",
   "execution_count": 43,
   "id": "7649cb4e-4909-404a-86db-cfb8fc2e078b",
   "metadata": {},
   "outputs": [],
   "source": [
    "with open(\"..//Data//gcn_cdr_train_pca_higher.pickle\", \"rb\") as f: \n",
    "    catch_train = pickle.load(f)"
   ]
  },
  {
   "cell_type": "code",
   "execution_count": 44,
   "id": "f029a85a-6790-4635-b02f-a8dfd9346e8c",
   "metadata": {},
   "outputs": [],
   "source": [
    "with open(\"..//Data//gcn_cdr_test_pca_higher.pickle\", \"rb\") as f: \n",
    "    catch_test = pickle.load(f)"
   ]
  },
  {
   "cell_type": "code",
   "execution_count": 45,
   "id": "1cbefaa8-c226-47fb-a972-1a8207d29766",
   "metadata": {},
   "outputs": [],
   "source": [
    "import random"
   ]
  },
  {
   "cell_type": "code",
   "execution_count": 46,
   "id": "176445fb-4f30-421a-a710-339955111baa",
   "metadata": {},
   "outputs": [],
   "source": [
    "def prepare_data_train(catch_train, idxes): \n",
    "    # idxes = random.sample(range(0, catch_train[0].shape[0]), k = size)\n",
    "    # idxes = list(idxes)\n",
    "    data1, data2 = catch_train[2][idxes,:], catch_train[3][idxes,:]\n",
    "    \n",
    "    y_train = catch_train[-1][idxes].reshape(-1,1)\n",
    "    \n",
    "    return data1, data2, y_train "
   ]
  },
  {
   "cell_type": "code",
   "execution_count": 47,
   "id": "d7c13b4e-c9b7-4b7f-bd6e-92ec93cd40e2",
   "metadata": {},
   "outputs": [],
   "source": [
    "def prepare_data_test( catch_test, size): \n",
    "    idxes = random.sample(range(0, catch_test[0].shape[0]), k = size)\n",
    "    idxes = list(idxes)\n",
    "    data1, data2 = catch_test[2][idxes,:], catch_test[3][idxes,:]\n",
    "    y_train = catch_test[-1][idxes].reshape(-1,1)\n",
    "    return data1, data2, y_train"
   ]
  },
  {
   "cell_type": "code",
   "execution_count": 48,
   "id": "001cdce6-9953-45be-a85b-7fd44f60d6d6",
   "metadata": {},
   "outputs": [],
   "source": [
    "train_idxes = random.sample(range(0, catch_train[0].shape[0]), k = catch_train[0].shape[0])"
   ]
  },
  {
   "cell_type": "code",
   "execution_count": 49,
   "id": "d2a4da04-1a68-4b91-ad62-e6c027c91fa2",
   "metadata": {},
   "outputs": [],
   "source": [
    "data1_traina, data2_traina, y_traina =  prepare_data_train(catch_train, train_idxes)"
   ]
  },
  {
   "cell_type": "code",
   "execution_count": 50,
   "id": "3e54f80e-5b8d-4f46-a24a-2514a3683a02",
   "metadata": {},
   "outputs": [],
   "source": [
    "data1_test, data2_test, y_test =  prepare_data_test(catch_test, size = catch_test[0].shape[0])"
   ]
  },
  {
   "cell_type": "code",
   "execution_count": 51,
   "id": "365f3a88-5d57-4b7e-ba90-e014faedd04c",
   "metadata": {},
   "outputs": [],
   "source": [
    "current_test = [data1_test, data2_test, y_test]"
   ]
  },
  {
   "cell_type": "code",
   "execution_count": 52,
   "id": "aadbd46f-4890-40cc-8176-f292b9c45cac",
   "metadata": {},
   "outputs": [],
   "source": [
    "from scipy.stats import pearsonr"
   ]
  },
  {
   "cell_type": "code",
   "execution_count": 53,
   "id": "09e61be2-f070-4e18-8583-66f0cdc24501",
   "metadata": {},
   "outputs": [],
   "source": [
    "def chunks(lst, n):\n",
    "    \"\"\"Yield successive n-sized chunks from lst.\"\"\"\n",
    "    for i in range(0, len(lst), n):\n",
    "        yield lst[i:i + n]"
   ]
  },
  {
   "cell_type": "code",
   "execution_count": 54,
   "id": "8a1acec2-599f-4ec7-9ad4-1183a7b09dde",
   "metadata": {},
   "outputs": [],
   "source": [
    "batch_size = 2500"
   ]
  },
  {
   "cell_type": "code",
   "execution_count": 55,
   "id": "02e369a5-74ae-464b-97fb-69791238b973",
   "metadata": {},
   "outputs": [],
   "source": [
    "import random"
   ]
  },
  {
   "cell_type": "code",
   "execution_count": 56,
   "id": "c0fa6a26-3f92-4a59-a52b-95211f3d670d",
   "metadata": {},
   "outputs": [],
   "source": [
    "from tqdm import tqdm_notebook"
   ]
  },
  {
   "cell_type": "code",
   "execution_count": 57,
   "id": "65bf21e9-92c6-4824-93c3-87274b072afa",
   "metadata": {},
   "outputs": [],
   "source": [
    "def get_results(idx, var_weights = 1.0, var_weight_weights = 1.0, var_D = 0.01, inflation_factor = 1.6, fudging_beta = beta(1,19), \n",
    "               fudging_var = 1e-3, print_true = True):\n",
    "    \n",
    "    # smiles_feats_train, rdkit_feats_train, smiles_feats_valid, rdkit_feats_valid, y_train, y_train_actual, y_valid, y_valid_actual, initial_ensembles  = prepare_data(idx, var_weights = var_weights, var_weight_weights =var_weight_weights, var_L = var_L, var_D = var_D)\n",
    "\n",
    "    w1_catch = []\n",
    "    w2_catch = []\n",
    "    train_rmse = []\n",
    "    test_rmse = []\n",
    "    # print(\"done initializing\")\n",
    "    \n",
    "    train_idxes = random.sample(range(0, catch_train[0].shape[0]), k = catch_train[0].shape[0])\n",
    "    \n",
    "    train_chunks = list(chunks(train_idxes, batch_size))\n",
    "    \n",
    "    best_rmse_train = 10000\n",
    "    \n",
    "    data1_train, data2_train, y_train = prepare_data_train(catch_train, train_chunks[0])\n",
    "    \n",
    "    _, initial_ensembles, initial_ensembles_for_weights, initial_ensembles_for_D = get_initial_X_t(data1_train, data2_train,\n",
    "                                                                                                 size_ens = size_ens, var_weights = var_weights,\n",
    "                                                                                                var_weight_weights = var_weight_weights,\n",
    "                                                                                                             var_D = var_D)\n",
    "    \n",
    "    initial_ensembles = np.hstack((initial_ensembles, initial_ensembles_for_weights, initial_ensembles_for_D))\n",
    "    patience = 0\n",
    "    \n",
    "    for i in range(0,300):\n",
    "        \n",
    "        train_chunks = random.sample(train_chunks, len(train_chunks))\n",
    "        \n",
    "        if print_true == True:\n",
    "            print(\"epoch number is \" +str(i))\n",
    "        \n",
    "        for chunk in (train_chunks):\n",
    "        \n",
    "            data1_train, data2_train, y_train = prepare_data_train(catch_train, chunk)\n",
    "            \n",
    "\n",
    "            initial_ensembles = get_updated_ensemble(data1_train, data2_train, initial_ensembles, y_train, size_ens = size_ens,\n",
    "                                                 inflation_factor = inflation_factor, fudging_beta = fudging_beta, fudging_var = fudging_var)\n",
    "        \n",
    "            G_u_train, w1, w2 = get_predictions(data1_traina, data2_traina, initial_ensembles, fudging_beta)\n",
    "    \n",
    "            li_train = np.percentile(G_u_train, axis = 0, q = (2.5, 97.5))[0,:].reshape(-1,1)    \n",
    "            ui_train = np.percentile(G_u_train, axis = 0, q = (2.5, 97.5))[1,:].reshape(-1,1)  \n",
    "    \n",
    "            width_train = ui_train - li_train\n",
    "            avg_width_train = width_train.mean(0)[0]\n",
    "    \n",
    "            ind_train = (y_traina >= li_train) & (y_traina <= ui_train)\n",
    "            coverage_train= ind_train.mean(0)[0]\n",
    "    \n",
    "            averaged_targets_train = G_u_train.mean(0).reshape(-1,1)\n",
    "            rmse_train = np.sqrt(((y_traina -averaged_targets_train)**2).mean(0))[0]\n",
    "        \n",
    "            pearsonr_train = pearsonr(averaged_targets_train.reshape(averaged_targets_train.shape[0],), \n",
    "                                 y_traina.reshape(y_traina.shape[0],))\n",
    "        \n",
    "            r_train = pearsonr_train.statistic\n",
    "    \n",
    "            G_u_test, _, _ = get_predictions_test(data1_test, data2_test, initial_ensembles)\n",
    "    \n",
    "\n",
    "    \n",
    "            li_test = np.percentile(G_u_test, axis = 0, q = (2.5, 97.5))[0,:].reshape(-1,1)     \n",
    "            ui_test = np.percentile(G_u_test, axis = 0, q = (2.5, 97.5))[1,:].reshape(-1,1)   \n",
    "    \n",
    "            width_test = ui_test - li_test\n",
    "            avg_width_test = width_test.mean(0)[0]\n",
    "    \n",
    "            ind_test = (y_test >= li_test) & (y_test <= ui_test)\n",
    "            coverage_test= ind_test.mean(0)[0]\n",
    "    \n",
    "            averaged_targets_test = G_u_test.mean(0).reshape(-1,1)\n",
    "            rmse_test = np.sqrt(((y_test -averaged_targets_test)**2).mean(0))[0]  \n",
    "        \n",
    "            pearsonr_test = pearsonr(averaged_targets_test.reshape(averaged_targets_test.shape[0],), \n",
    "                                 y_test.reshape(y_test.shape[0],))\n",
    "        \n",
    "            r_test = pearsonr_test.statistic\n",
    "            \n",
    "            train_rmse.append(rmse_train)\n",
    "            \n",
    "            test_rmse.append(rmse_test)\n",
    "            \n",
    "            if print_true == True:\n",
    "                print(\"Training Coverage, Widths, RMSE, and Pearson R\")\n",
    "                print(coverage_train, avg_width_train, rmse_train, r_train)\n",
    "                print(\"Testing Coverage, Widths, RMSE, and Pearson R\")\n",
    "                print(coverage_test, avg_width_test, rmse_test, r_test)\n",
    "            # print(w1.mean(), w1.std())\n",
    "            \n",
    "            w1_catch.append([w1.mean(), w1.std()])\n",
    "            w2_catch.append([w2.mean(), w2.std()])\n",
    "\n",
    "            if (rmse_train < best_rmse_train): \n",
    "                best_pearsonr_train = r_train\n",
    "            # print(\"went here\")\n",
    "                best_train_width_mean = avg_width_train.mean()\n",
    "                best_train_width = avg_width_train\n",
    "                # best_smiles_weight = w1.mean()\n",
    "                best_coverage_train = coverage_train\n",
    "                best_rmse_train = rmse_train\n",
    "                best_pearson_r = r_test\n",
    "                best_test_width = avg_width_test\n",
    "\n",
    "                best_coverage_test = coverage_test    \n",
    "                best_rmse_test = rmse_test\n",
    "                patience = 0\n",
    "                best_ensembles = initial_ensembles\n",
    "                best_w1_weight = w1.mean()\n",
    "                best_w2_weight = w2.mean()\n",
    "                best_test_preds = averaged_targets_test\n",
    "                best_li = li_test\n",
    "                best_ui = ui_test\n",
    "                best_residuals = (y_test -averaged_targets_test)\n",
    "                # best_w1_weight\n",
    "            \n",
    "            else:\n",
    "                patience = patience + 1\n",
    "            \n",
    "            if print_true == True:\n",
    "                print(\"Patience is\")\n",
    "                print(patience)\n",
    "                print('\\n')\n",
    "        \n",
    "            if patience > threshold:\n",
    "            \n",
    "                # print()\n",
    "                # print(best_train_width.tolist(), best_coverage_train.tolist(), best_rmse_train.tolist(), best_test_width.tolist(), best_coverage_test.tolist(), best_rmse_test.tolist(), best_smiles_weight, flush = True)\n",
    "                # print(\"done for fold\" + str(idx), flush = True)\n",
    "                # print(\"train_coverage\" + str(best_coverage_train), flush = True)\n",
    "                print(\"test_coverage\" + str(best_coverage_test), flush = True)\n",
    "                # print(\"train_width\" + str(best_train_width.tolist()), flush = True)\n",
    "                print(\"test_width\" + str(best_test_width), flush = True)\n",
    "                # print(\"smiles_weight\" + str(best_smiles_weight), flush = True)\n",
    "                # print(\"rmse_train\" + str(best_rmse_train.tolist()), flush = True)\n",
    "                print(\"rmse_test\" + str(best_rmse_test), flush = True)\n",
    "                weights = [best_w1_weight, best_w2_weight]\n",
    "                print(\"weights\", flush = True)\n",
    "                print(weights, flush = True)\n",
    "                print('\\n', flush = True)\n",
    "                # print(\"smiles_weight_ci\" + str([best_li_smiles_weight, best_ui_smiles_weight]), flush = True)\n",
    "            \n",
    "                return [best_train_width, best_coverage_train, best_rmse_train, best_test_width, best_coverage_test, best_rmse_test, best_pearson_r, best_ensembles, train_rmse, test_rmse, best_w1_weight, best_w2_weight, w1_catch, w2_catch, best_test_preds, best_li, best_ui, best_residuals]\n"
   ]
  },
  {
   "cell_type": "code",
   "execution_count": 58,
   "id": "11a8c623-2952-409f-a640-7d89cef6b1aa",
   "metadata": {},
   "outputs": [],
   "source": [
    "threshold = 10"
   ]
  },
  {
   "cell_type": "code",
   "execution_count": 59,
   "id": "5834692d-4e11-406b-97cf-aeef94bde978",
   "metadata": {},
   "outputs": [],
   "source": [
    "# best_test_preds.shape"
   ]
  },
  {
   "cell_type": "code",
   "execution_count": 60,
   "id": "14658528-ea1a-4a6f-83bd-f708df0bcd83",
   "metadata": {},
   "outputs": [
    {
     "name": "stdout",
     "output_type": "stream",
     "text": [
      "epoch number is 0\n",
      "Training Coverage, Widths, RMSE, and Pearson R\n",
      "0.4440575606091253 15.978583858142398 12.92842956143305 0.064650081160656\n",
      "Testing Coverage, Widths, RMSE, and Pearson R\n",
      "0.4387849387849388 15.96350580364255 13.070770953379004 0.06493668965157731\n",
      "Patience is\n",
      "0\n",
      "\n",
      "\n",
      "Training Coverage, Widths, RMSE, and Pearson R\n",
      "0.4232380732221805 5.243852638424143 4.565762158490065 0.1650813619103182\n",
      "Testing Coverage, Widths, RMSE, and Pearson R\n",
      "0.4214021714021714 5.239384516282735 4.5936526362552845 0.16520066759165683\n",
      "Patience is\n",
      "0\n",
      "\n",
      "\n",
      "Training Coverage, Widths, RMSE, and Pearson R\n",
      "0.6102811569913601 4.3900111365914105 2.5261772558859534 0.5832736389133943\n",
      "Testing Coverage, Widths, RMSE, and Pearson R\n",
      "0.6093786093786093 4.372588770331981 2.4889008265283747 0.5920475339930962\n",
      "Patience is\n",
      "0\n",
      "\n",
      "\n",
      "Training Coverage, Widths, RMSE, and Pearson R\n",
      "0.729780102291444 4.334036342593943 1.9603684629856213 0.7289997239293459\n",
      "Testing Coverage, Widths, RMSE, and Pearson R\n",
      "0.7302494802494802 4.321694806750561 1.9191295112826865 0.7390705926781166\n",
      "Patience is\n",
      "0\n",
      "\n",
      "\n",
      "Training Coverage, Widths, RMSE, and Pearson R\n",
      "0.7323084925015171 4.19911025455116 1.8506405892447935 0.7599574328939654\n",
      "Testing Coverage, Widths, RMSE, and Pearson R\n",
      "0.7363132363132363 4.192285829152175 1.8227146189603451 0.7661520136008144\n",
      "Patience is\n",
      "0\n",
      "\n",
      "\n",
      "Training Coverage, Widths, RMSE, and Pearson R\n",
      "0.7466841968387898 4.261294833525192 1.8075859487876733 0.7751088895599438\n",
      "Testing Coverage, Widths, RMSE, and Pearson R\n",
      "0.7489027489027489 4.251632383461057 1.7746566355063123 0.7826970711439452\n",
      "Patience is\n",
      "0\n",
      "\n",
      "\n",
      "Training Coverage, Widths, RMSE, and Pearson R\n",
      "0.7784263299332504 4.454446125604165 1.7632886818028601 0.7869908827282319\n",
      "Testing Coverage, Widths, RMSE, and Pearson R\n",
      "0.7822245322245323 4.447535136910015 1.728946125145732 0.7946499496459085\n",
      "Patience is\n",
      "0\n",
      "\n",
      "\n",
      "Training Coverage, Widths, RMSE, and Pearson R\n",
      "0.786430490941139 4.435794695008075 1.7156583469741047 0.7973533078062247\n",
      "Testing Coverage, Widths, RMSE, and Pearson R\n",
      "0.7908870408870409 4.434924379885223 1.6796998654639155 0.8050257641037964\n",
      "Patience is\n",
      "0\n",
      "\n",
      "\n",
      "Training Coverage, Widths, RMSE, and Pearson R\n",
      "0.8105441095732078 4.745944568174543 1.7070787490385755 0.7998013661263608\n",
      "Testing Coverage, Widths, RMSE, and Pearson R\n",
      "0.8142758142758143 4.7477673230279684 1.6713584749652728 0.8073807341976378\n",
      "Patience is\n",
      "0\n",
      "\n",
      "\n",
      "Training Coverage, Widths, RMSE, and Pearson R\n",
      "0.8197330019938163 4.838952578089191 1.7046516565399004 0.8010139964916829\n",
      "Testing Coverage, Widths, RMSE, and Pearson R\n",
      "0.822996072996073 4.835190467437934 1.6689124624607738 0.8087105306274784\n",
      "Patience is\n",
      "0\n",
      "\n",
      "\n",
      "Training Coverage, Widths, RMSE, and Pearson R\n",
      "0.8264368480365244 4.959750291838172 1.692300456937588 0.8038397173099814\n",
      "Testing Coverage, Widths, RMSE, and Pearson R\n",
      "0.8282513282513283 4.958689683260742 1.6557965021435597 0.8114313463526868\n",
      "Patience is\n",
      "0\n",
      "\n",
      "\n",
      "Training Coverage, Widths, RMSE, and Pearson R\n",
      "0.851504030976392 5.455558472545774 1.7230762832875974 0.795628388386692\n",
      "Testing Coverage, Widths, RMSE, and Pearson R\n",
      "0.8557403557403558 5.4599587526992535 1.68518536275297 0.8037392956104766\n",
      "Patience is\n",
      "1\n",
      "\n",
      "\n",
      "Training Coverage, Widths, RMSE, and Pearson R\n",
      "0.8440055480105181 5.262280294453443 1.721786684744403 0.7958544361757105\n",
      "Testing Coverage, Widths, RMSE, and Pearson R\n",
      "0.8495610995610996 5.259412966878914 1.6905522288776176 0.8022321012402207\n",
      "Patience is\n",
      "2\n",
      "\n",
      "\n",
      "Training Coverage, Widths, RMSE, and Pearson R\n",
      "0.8463027711156702 5.1826190392161315 1.7018492346617993 0.801064182625223\n",
      "Testing Coverage, Widths, RMSE, and Pearson R\n",
      "0.8507738507738508 5.1764540767112175 1.6724187592015944 0.8069391153755102\n",
      "Patience is\n",
      "3\n",
      "\n",
      "\n",
      "Training Coverage, Widths, RMSE, and Pearson R\n",
      "0.8642904614673332 5.423534833004534 1.6741353813575666 0.8082821904352375\n",
      "Testing Coverage, Widths, RMSE, and Pearson R\n",
      "0.8661931161931162 5.426422357804162 1.6410661751019433 0.8149513836847508\n",
      "Patience is\n",
      "0\n",
      "\n",
      "\n",
      "Training Coverage, Widths, RMSE, and Pearson R\n",
      "0.8666743722368307 5.670723538174135 1.6886772058319233 0.8073211299819523\n",
      "Testing Coverage, Widths, RMSE, and Pearson R\n",
      "0.8711596211596212 5.673035038283139 1.6576747317689307 0.8136488055880684\n",
      "Patience is\n",
      "1\n",
      "\n",
      "\n",
      "Training Coverage, Widths, RMSE, and Pearson R\n",
      "0.866602132516543 5.585399465884857 1.6741380305580467 0.808909123291448\n",
      "Testing Coverage, Widths, RMSE, and Pearson R\n",
      "0.8706976206976207 5.580409010195322 1.6409257731665796 0.8154374899566491\n",
      "Patience is\n",
      "2\n",
      "\n",
      "\n",
      "Training Coverage, Widths, RMSE, and Pearson R\n",
      "0.8716878088248042 5.586608744607404 1.674975871049891 0.8085665629557861\n",
      "Testing Coverage, Widths, RMSE, and Pearson R\n",
      "0.876934626934627 5.581549460882511 1.638352198282124 0.8159588477111801\n",
      "Patience is\n",
      "3\n",
      "\n",
      "\n",
      "Training Coverage, Widths, RMSE, and Pearson R\n",
      "0.8806888779726645 5.970829397166667 1.6853328561654561 0.8052736977829316\n",
      "Testing Coverage, Widths, RMSE, and Pearson R\n",
      "0.8862323862323862 5.971087377401603 1.654537294810447 0.8114555410041643\n",
      "Patience is\n",
      "4\n",
      "\n",
      "\n",
      "Training Coverage, Widths, RMSE, and Pearson R\n",
      "0.8696650966567457 5.502829142793121 1.666368626006807 0.8105542360967121\n",
      "Testing Coverage, Widths, RMSE, and Pearson R\n",
      "0.8738738738738738 5.502324174877528 1.6337350811064295 0.8172882193953555\n",
      "Patience is\n",
      "0\n",
      "\n",
      "\n",
      "Training Coverage, Widths, RMSE, and Pearson R\n",
      "0.8713121622793076 5.454833591261074 1.667861788408085 0.8100920698661552\n",
      "Testing Coverage, Widths, RMSE, and Pearson R\n",
      "0.8724301224301224 5.445442777028029 1.6315485997689436 0.8177560082183402\n",
      "Patience is\n",
      "1\n",
      "\n",
      "\n",
      "Training Coverage, Widths, RMSE, and Pearson R\n",
      "0.8650995463345565 5.399317356271934 1.6572624457242535 0.8124897472288871\n",
      "Testing Coverage, Widths, RMSE, and Pearson R\n",
      "0.8685031185031185 5.395119068878553 1.6258788769375292 0.8187207592635689\n",
      "Patience is\n",
      "0\n",
      "\n",
      "\n",
      "Training Coverage, Widths, RMSE, and Pearson R\n",
      "0.8805299505880313 5.645278166626957 1.6560904040425353 0.8128678423020852\n",
      "Testing Coverage, Widths, RMSE, and Pearson R\n",
      "0.8850773850773851 5.638754391006904 1.624879020265694 0.8189674878838722\n",
      "Patience is\n",
      "0\n",
      "\n",
      "\n",
      "Training Coverage, Widths, RMSE, and Pearson R\n",
      "0.881758025832924 5.916200208922742 1.69598361680258 0.8035844803410488\n",
      "Testing Coverage, Widths, RMSE, and Pearson R\n",
      "0.8858281358281358 5.913377863782869 1.6690441460378904 0.8089067225188029\n",
      "Patience is\n",
      "1\n",
      "\n",
      "\n",
      "Training Coverage, Widths, RMSE, and Pearson R\n",
      "0.87544427427977 5.661507837725732 1.669240879688319 0.8105082243209032\n",
      "Testing Coverage, Widths, RMSE, and Pearson R\n",
      "0.8802263802263802 5.6572417021518975 1.6372802380387004 0.8170365015592989\n",
      "Patience is\n",
      "2\n",
      "\n",
      "\n",
      "Training Coverage, Widths, RMSE, and Pearson R\n",
      "0.8752275551189066 5.620941496823743 1.6676257969068424 0.8101593230225423\n",
      "Testing Coverage, Widths, RMSE, and Pearson R\n",
      "0.8807461307461307 5.613655973559661 1.6295029226725484 0.8179600109896843\n",
      "Patience is\n",
      "3\n",
      "\n",
      "\n",
      "Training Coverage, Widths, RMSE, and Pearson R\n",
      "0.8778137371052099 5.5604746596377765 1.6552747121587186 0.8130785507756968\n",
      "Testing Coverage, Widths, RMSE, and Pearson R\n",
      "0.881901131901132 5.556025925943678 1.6197323682699631 0.8202614008380761\n",
      "Patience is\n",
      "0\n",
      "\n",
      "\n",
      "Training Coverage, Widths, RMSE, and Pearson R\n",
      "0.8739127922096686 5.612947773383179 1.6613430320647566 0.8114315925902925\n",
      "Testing Coverage, Widths, RMSE, and Pearson R\n",
      "0.876934626934627 5.604067877040355 1.6229528658832806 0.8194165731698948\n",
      "Patience is\n",
      "1\n",
      "\n",
      "\n",
      "epoch number is 1\n",
      "Training Coverage, Widths, RMSE, and Pearson R\n",
      "0.8607507151732309 5.317303139785876 1.6685695923225752 0.8096439671616839\n",
      "Testing Coverage, Widths, RMSE, and Pearson R\n",
      "0.8624971124971125 5.3038314834793745 1.6319412220874523 0.8171341461310339\n",
      "Patience is\n",
      "2\n",
      "\n",
      "\n",
      "Training Coverage, Widths, RMSE, and Pearson R\n",
      "0.8633946889357644 5.335477351952483 1.6507025232295751 0.8141287813184238\n",
      "Testing Coverage, Widths, RMSE, and Pearson R\n",
      "0.8644028644028644 5.32304763038211 1.6155847019812777 0.8211723828883353\n",
      "Patience is\n",
      "0\n",
      "\n",
      "\n",
      "Training Coverage, Widths, RMSE, and Pearson R\n",
      "0.873537145664172 5.627126962477435 1.6724682024840036 0.8093193096308419\n",
      "Testing Coverage, Widths, RMSE, and Pearson R\n",
      "0.8751443751443752 5.626097664242183 1.6362258522249191 0.8166374913036859\n",
      "Patience is\n",
      "1\n",
      "\n",
      "\n",
      "Training Coverage, Widths, RMSE, and Pearson R\n",
      "0.8736382812725749 5.573739483882417 1.6563376263572795 0.8133838555763185\n",
      "Testing Coverage, Widths, RMSE, and Pearson R\n",
      "0.8777431277431278 5.563002108320517 1.6231622269404455 0.8200585507360292\n",
      "Patience is\n",
      "2\n",
      "\n",
      "\n",
      "Training Coverage, Widths, RMSE, and Pearson R\n",
      "0.8749241482936978 5.663889887170206 1.6558048983489457 0.8129186274044349\n",
      "Testing Coverage, Widths, RMSE, and Pearson R\n",
      "0.8753176253176254 5.655718130069351 1.6183637996991986 0.8205804698790756\n",
      "Patience is\n",
      "3\n",
      "\n",
      "\n",
      "Training Coverage, Widths, RMSE, and Pearson R\n",
      "0.8890831334701073 5.827280556355608 1.65382828221211 0.813830727406388\n",
      "Testing Coverage, Widths, RMSE, and Pearson R\n",
      "0.8902748902748903 5.809753906174171 1.6177142974425862 0.8210936989913216\n",
      "Patience is\n",
      "4\n",
      "\n",
      "\n",
      "Training Coverage, Widths, RMSE, and Pearson R\n",
      "0.8615453520963967 5.298361747641144 1.6702115170768406 0.8106491660966539\n",
      "Testing Coverage, Widths, RMSE, and Pearson R\n",
      "0.8634788634788635 5.286214164527209 1.6366434217557908 0.8171405593197916\n",
      "Patience is\n",
      "5\n",
      "\n",
      "\n",
      "Training Coverage, Widths, RMSE, and Pearson R\n",
      "0.8646950039009449 5.623994733067272 1.6807222701502396 0.8069902885315943\n",
      "Testing Coverage, Widths, RMSE, and Pearson R\n",
      "0.8664241164241164 5.614920267124511 1.6478361885999242 0.813790664592488\n",
      "Patience is\n",
      "6\n",
      "\n",
      "\n",
      "Training Coverage, Widths, RMSE, and Pearson R\n",
      "0.863076834166498 5.274774310775002 1.6528130136124173 0.8136828244380756\n",
      "Testing Coverage, Widths, RMSE, and Pearson R\n",
      "0.8647493647493647 5.265683343951469 1.6193490374715447 0.8203287083158208\n",
      "Patience is\n",
      "7\n",
      "\n",
      "\n",
      "Training Coverage, Widths, RMSE, and Pearson R\n",
      "0.8582223249631578 5.260303084294843 1.6664025264289373 0.8102936943266711\n",
      "Testing Coverage, Widths, RMSE, and Pearson R\n",
      "0.8586278586278586 5.251961504631275 1.6313569263853176 0.8174759370852829\n",
      "Patience is\n",
      "8\n",
      "\n",
      "\n",
      "Training Coverage, Widths, RMSE, and Pearson R\n",
      "0.8689426994538677 5.5735318681280575 1.6575057094674246 0.8124866885964204\n",
      "Testing Coverage, Widths, RMSE, and Pearson R\n",
      "0.8708131208131208 5.5664912088200005 1.6228475131580626 0.8194334287506413\n",
      "Patience is\n",
      "9\n",
      "\n",
      "\n",
      "Training Coverage, Widths, RMSE, and Pearson R\n",
      "0.8888519663651863 5.959638879802614 1.6604869165327043 0.8116851486073472\n",
      "Testing Coverage, Widths, RMSE, and Pearson R\n",
      "0.8918918918918919 5.956109286878453 1.625479912508342 0.8187710697343398\n",
      "Patience is\n",
      "10\n",
      "\n",
      "\n",
      "Training Coverage, Widths, RMSE, and Pearson R\n",
      "0.8808478053572977 5.613094672018375 1.6511422598707928 0.8144820516849403\n",
      "Testing Coverage, Widths, RMSE, and Pearson R\n",
      "0.8858281358281358 5.599783171554062 1.6171520195078735 0.8212499833991689\n",
      "Patience is\n",
      "11\n",
      "\n",
      "\n",
      "test_coverage0.8644028644028644\n",
      "test_width5.32304763038211\n",
      "rmse_test1.6155847019812777\n",
      "weights\n",
      "[0.5236577759772632, 0.4763422240227368]\n",
      "\n",
      "\n",
      "CPU times: user 27min 11s, sys: 12min 43s, total: 39min 54s\n",
      "Wall time: 13min 43s\n"
     ]
    }
   ],
   "source": [
    "%%time\n",
    "best_train_width, best_coverage_train, best_rmse_train, best_test_width, best_coverage_test, best_rmse_test, best_pearson_r, best_ensembles, train_rmse, test_rmse, \\\n",
    "best_w1_weight, best_w2_weight, w1_catch, w2_catch, best_test_preds, best_li, best_ui, best_residuals = get_results(0, var_weights = 1.0, var_weight_weights = 1.0, var_D = 1, inflation_factor =1, fudging_beta = beta(1,19), \n",
    "           fudging_var = 1*1e-2)"
   ]
  },
  {
   "cell_type": "code",
   "execution_count": 61,
   "id": "9490af0c-5a1b-43fb-8431-b1282db34b54",
   "metadata": {},
   "outputs": [],
   "source": [
    "preds_test, _, _ = get_predictions_test(data1_test, data2_test, best_ensembles)"
   ]
  },
  {
   "cell_type": "code",
   "execution_count": 62,
   "id": "7779268c-ab61-4401-80a0-44538877c872",
   "metadata": {},
   "outputs": [],
   "source": [
    "averaged_preds_test = preds_test.mean(0).reshape(-1,1)"
   ]
  },
  {
   "cell_type": "code",
   "execution_count": 63,
   "id": "35f093e5-520c-41f0-a675-01ac46f87a1c",
   "metadata": {},
   "outputs": [
    {
     "data": {
      "image/png": "[encoded data removed]",
      "text/plain": [
       "<Figure size 640x480 with 1 Axes>"
      ]
     },
     "metadata": {},
     "output_type": "display_data"
    }
   ],
   "source": [
    "plt.scatter(y_test, averaged_preds_test, alpha = 0.1)\n",
    "plt.axline((0,0), slope = 1, c = \"black\")\n",
    "plt.xlabel(\"Ground Truth Values\")\n",
    "plt.ylabel(\"MEnKF-ANN Predicted Values\")\n",
    "# plt.xticks(fontsize = 10, fontweight = \"bold\")\n",
    "# plt.yticks(fontsize = 10, fontweight = \"bold\")\n",
    "plt.show()"
   ]
  },
  {
   "cell_type": "code",
   "execution_count": 64,
   "id": "7b6dbeca-651e-4d31-89c0-c44e35b4270f",
   "metadata": {},
   "outputs": [],
   "source": [
    "items = [best_train_width, best_coverage_train, best_rmse_train, best_test_width, best_coverage_test, best_rmse_test, best_pearson_r, best_w1_weight, \n",
    "        best_w2_weight]"
   ]
  },
  {
   "cell_type": "code",
   "execution_count": 65,
   "id": "4c969db3-06fd-4a30-8f3e-1d1670a03aa0",
   "metadata": {},
   "outputs": [],
   "source": [
    "items_df = pd.DataFrame(items).T"
   ]
  },
  {
   "cell_type": "code",
   "execution_count": 66,
   "id": "01f44639-4484-45c7-bd7c-7745ab18371b",
   "metadata": {},
   "outputs": [],
   "source": [
    "items_df.columns = ['best_train_width', 'best_coverage_train', 'best_rmse_train', 'best_test_width', 'best_coverage_test', 'best_rmse_test', 'best_pearson_r', \n",
    "                   'best_w1_weight', 'best_w2_weight']"
   ]
  },
  {
   "cell_type": "code",
   "execution_count": 67,
   "id": "7ab228b9-c61a-46cb-aa57-7acf4da3b114",
   "metadata": {},
   "outputs": [],
   "source": [
    "items_df = items_df.T"
   ]
  },
  {
   "cell_type": "code",
   "execution_count": 68,
   "id": "925c745c-7a4d-4d78-8f47-9a1d7e11a39a",
   "metadata": {},
   "outputs": [],
   "source": [
    "items_df.columns = [\"Value\"]"
   ]
  },
  {
   "cell_type": "code",
   "execution_count": 69,
   "id": "d93ed649-b0ba-445d-b28a-ffeb603dc960",
   "metadata": {},
   "outputs": [
    {
     "data": {
      "text/html": [
       "<div>\n",
       "<style scoped>\n",
       "    .dataframe tbody tr th:only-of-type {\n",
       "        vertical-align: middle;\n",
       "    }\n",
       "\n",
       "    .dataframe tbody tr th {\n",
       "        vertical-align: top;\n",
       "    }\n",
       "\n",
       "    .dataframe thead th {\n",
       "        text-align: right;\n",
       "    }\n",
       "</style>\n",
       "<table border=\"1\" class=\"dataframe\">\n",
       "  <thead>\n",
       "    <tr style=\"text-align: right;\">\n",
       "      <th></th>\n",
       "      <th>Value</th>\n",
       "    </tr>\n",
       "  </thead>\n",
       "  <tbody>\n",
       "    <tr>\n",
       "      <th>best_train_width</th>\n",
       "      <td>5.335477</td>\n",
       "    </tr>\n",
       "    <tr>\n",
       "      <th>best_coverage_train</th>\n",
       "      <td>0.863395</td>\n",
       "    </tr>\n",
       "    <tr>\n",
       "      <th>best_rmse_train</th>\n",
       "      <td>1.650703</td>\n",
       "    </tr>\n",
       "    <tr>\n",
       "      <th>best_test_width</th>\n",
       "      <td>5.323048</td>\n",
       "    </tr>\n",
       "    <tr>\n",
       "      <th>best_coverage_test</th>\n",
       "      <td>0.864403</td>\n",
       "    </tr>\n",
       "    <tr>\n",
       "      <th>best_rmse_test</th>\n",
       "      <td>1.615585</td>\n",
       "    </tr>\n",
       "    <tr>\n",
       "      <th>best_pearson_r</th>\n",
       "      <td>0.821172</td>\n",
       "    </tr>\n",
       "    <tr>\n",
       "      <th>best_w1_weight</th>\n",
       "      <td>0.523658</td>\n",
       "    </tr>\n",
       "    <tr>\n",
       "      <th>best_w2_weight</th>\n",
       "      <td>0.476342</td>\n",
       "    </tr>\n",
       "  </tbody>\n",
       "</table>\n",
       "</div>"
      ],
      "text/plain": [
       "                        Value\n",
       "best_train_width     5.335477\n",
       "best_coverage_train  0.863395\n",
       "best_rmse_train      1.650703\n",
       "best_test_width      5.323048\n",
       "best_coverage_test   0.864403\n",
       "best_rmse_test       1.615585\n",
       "best_pearson_r       0.821172\n",
       "best_w1_weight       0.523658\n",
       "best_w2_weight       0.476342"
      ]
     },
     "execution_count": 69,
     "metadata": {},
     "output_type": "execute_result"
    }
   ],
   "source": [
    "items_df"
   ]
  },
  {
   "cell_type": "code",
   "execution_count": 70,
   "id": "c743cac6-4f17-49ab-9ad0-f35b685d22f1",
   "metadata": {},
   "outputs": [
    {
     "data": {
      "text/plain": [
       "(106, 17316)"
      ]
     },
     "execution_count": 70,
     "metadata": {},
     "output_type": "execute_result"
    }
   ],
   "source": [
    "preds_test.shape"
   ]
  },
  {
   "cell_type": "code",
   "execution_count": 71,
   "id": "0ce0a569-aed6-42db-afa8-83819760c033",
   "metadata": {},
   "outputs": [
    {
     "data": {
      "image/png": "[encoded data removed]",
      "text/plain": [
       "<Figure size 1500x1500 with 16 Axes>"
      ]
     },
     "metadata": {},
     "output_type": "display_data"
    }
   ],
   "source": [
    "random_idx = random.sample(range(y_test.shape[0]), k = 16)\n",
    "fig, axs = plt.subplots(8, 2,figsize=(15, 15))\n",
    "axs = axs.ravel()\n",
    "for idx, i in enumerate(random_idx):\n",
    "    # print(counter)\n",
    "    truth = y_test[i,:]\n",
    "    preds = preds_test[:, i]\n",
    "    percts = np.percentile(preds, axis = 0, q = (2.5, 97.5))\n",
    "    lis = percts[0]\n",
    "    uis = percts[1]\n",
    "    \n",
    "    \n",
    "    axs[idx].hist(preds)\n",
    "    axs[idx].axvline(truth, color='green', linewidth=2)\n",
    "    axs[idx].axvline(lis, color='red', linewidth=2)\n",
    "    axs[idx].axvline(uis, color='red', linewidth=2)\n",
    "\n",
    "# plt.title\n",
    "fig.savefig('gcn_cdr_pred_intervals.png', bbox_inches='tight')\n",
    "plt.show()\n"
   ]
  },
  {
   "cell_type": "code",
   "execution_count": 72,
   "id": "b6080aac-5298-4b62-94cc-a4032a04b0ad",
   "metadata": {},
   "outputs": [
    {
     "data": {
      "image/png": "[encoded data removed]",
      "text/plain": [
       "<Figure size 640x480 with 1 Axes>"
      ]
     },
     "metadata": {},
     "output_type": "display_data"
    }
   ],
   "source": [
    "plt.plot(train_rmse)\n",
    "plt.plot(test_rmse)\n",
    "plt.xlabel(\"Update Iteration\", fontsize = 15, fontweight = \"bold\")\n",
    "plt.ylabel(\"RMSE\", fontsize = 15, fontweight = \"bold\")\n",
    "plt.xticks( fontsize = 10, fontweight = \"bold\")\n",
    "plt.yticks( fontsize = 10, fontweight = \"bold\")\n",
    "plt.show()"
   ]
  },
  {
   "cell_type": "code",
   "execution_count": 73,
   "id": "31471813-3497-4224-acf3-2bd150a35690",
   "metadata": {},
   "outputs": [],
   "source": [
    "# plt.hist(y_train)\n",
    "# plt.show()"
   ]
  },
  {
   "cell_type": "code",
   "execution_count": 74,
   "id": "26cbcc74-a96c-45c2-9e18-c15480f2be2a",
   "metadata": {},
   "outputs": [
    {
     "data": {
      "image/png": "[encoded data removed]",
      "text/plain": [
       "<Figure size 640x480 with 1 Axes>"
      ]
     },
     "metadata": {},
     "output_type": "display_data"
    }
   ],
   "source": [
    "plt.hist(y_test)\n",
    "plt.show()"
   ]
  },
  {
   "cell_type": "code",
   "execution_count": 75,
   "id": "4bbe51b0-156c-4cec-8a6e-0318f25773a9",
   "metadata": {},
   "outputs": [
    {
     "name": "stderr",
     "output_type": "stream",
     "text": [
      "[Parallel(n_jobs=14)]: Using backend LokyBackend with 14 concurrent workers.\n"
     ]
    },
    {
     "name": "stdout",
     "output_type": "stream",
     "text": [
      "test_coverage0.9223839223839224\n",
      "test_width7.044565942463551\n",
      "rmse_test1.6410499383477135\n",
      "weights\n",
      "[0.23831350851028493, 0.7616864914897152]\n",
      "\n",
      "\n",
      "test_coverage0.8028413028413028\n",
      "test_width4.613108010090747\n",
      "rmse_test1.6149037424533477\n",
      "weights\n",
      "[0.8796553991755901, 0.12034460082440994]\n",
      "\n",
      "\n",
      "test_coverage0.9446176946176946\n",
      "test_width7.644499838327372\n",
      "rmse_test1.6183802137097394\n",
      "weights\n",
      "[0.63067205506518, 0.36932794493482013]\n",
      "\n",
      "\n",
      "test_coverage0.6962924462924462\n",
      "test_width3.5446773477952065\n",
      "rmse_test1.6088411975242036\n",
      "weights\n",
      "[0.9368376333254611, 0.06316236667453863]\n",
      "\n",
      "\n",
      "test_coverage0.8805151305151305\n",
      "test_width5.495976919026078\n",
      "rmse_test1.6222796172603806\n",
      "weights\n",
      "[0.5399862211298834, 0.46001377887011663]\n",
      "\n",
      "\n",
      "test_coverage0.7128089628089628\n",
      "test_width3.4465144451776832\n",
      "rmse_test1.613811829164211\n",
      "weights\n",
      "[0.880402436392195, 0.1195975636078051]\n",
      "\n",
      "\n",
      "test_coverage0.7978170478170478\n",
      "test_width4.348761246495014\n",
      "rmse_test1.6145099531954075\n",
      "weights\n",
      "[0.9273843074748774, 0.07261569252512255]\n",
      "\n",
      "\n",
      "test_coverage0.7591822591822592\n",
      "test_width3.9254670854212055\n",
      "rmse_test1.614400152214176\n",
      "weights\n",
      "[0.945365000791576, 0.054634999208423886]\n",
      "\n",
      "\n",
      "test_coverage0.7149457149457149\n",
      "test_width3.6244451265188165\n",
      "rmse_test1.613593844613625\n",
      "weights\n",
      "[0.966511642644652, 0.03348835735534794]\n",
      "\n",
      "\n",
      "test_coverage0.7637445137445138\n",
      "test_width4.265929743270823\n",
      "rmse_test1.616083568127623\n",
      "weights\n",
      "[0.9667428783954997, 0.03325712160450045]\n",
      "\n",
      "\n",
      "test_coverage0.9502194502194502\n",
      "test_width7.668050763640937\n",
      "rmse_test1.6145419620933312\n",
      "weights\n",
      "[0.21338175677582755, 0.7866182432241724]\n",
      "\n",
      "\n",
      "test_coverage0.994051744051744\n",
      "test_width13.023526619746361\n",
      "rmse_test1.625493087947005\n",
      "weights\n",
      "[0.09973577012504187, 0.9002642298749581]\n",
      "\n",
      "\n",
      "test_coverage0.8648648648648649\n",
      "test_width5.343652765983025\n",
      "rmse_test1.6199849528952848\n",
      "weights\n",
      "[0.9597201432803547, 0.04027985671964539]\n",
      "\n",
      "\n"
     ]
    },
    {
     "name": "stderr",
     "output_type": "stream",
     "text": [
      "[Parallel(n_jobs=14)]: Done  13 tasks      | elapsed: 34.4min\n"
     ]
    },
    {
     "name": "stdout",
     "output_type": "stream",
     "text": [
      "test_coverage0.9005544005544005\n",
      "test_width6.030887665361182\n",
      "rmse_test1.63442101546272\n",
      "weights\n",
      "[0.395141421690948, 0.6048585783090521]\n",
      "\n",
      "\n",
      "test_coverage0.8138138138138138\n",
      "test_width4.845741119879084\n",
      "rmse_test1.609947809767337\n",
      "weights\n",
      "[0.8963230765868802, 0.10367692341311986]\n",
      "\n",
      "\n",
      "test_coverage0.9512012012012012\n",
      "test_width7.794884050181127\n",
      "rmse_test1.6856162285183376\n",
      "weights\n",
      "[0.10233653541840228, 0.8976634645815977]\n",
      "\n",
      "\n",
      "test_coverage0.7765072765072765\n",
      "test_width4.485062571325298\n",
      "rmse_test1.612849414300725\n",
      "weights\n",
      "[0.9740265447770157, 0.025973455222984363]\n",
      "\n",
      "\n",
      "test_coverage0.7228574728574728\n",
      "test_width3.750025696611676\n",
      "rmse_test1.6199001149146968\n",
      "weights\n",
      "[0.8851861434658731, 0.11481385653412693]\n",
      "\n",
      "\n",
      "test_coverage0.7484407484407485\n",
      "test_width3.92993272627773\n",
      "rmse_test1.6150253214427597\n",
      "weights\n",
      "[0.9220733608684728, 0.07792663913152714]\n",
      "\n",
      "\n",
      "test_coverage0.9868329868329868\n",
      "test_width11.243384666717386\n",
      "rmse_test1.6308013057341642\n",
      "weights\n",
      "[0.11951912468539427, 0.8804808753146058]\n",
      "\n",
      "\n",
      "test_coverage0.7493647493647494\n",
      "test_width3.772542638499811\n",
      "rmse_test1.6200605810565671\n",
      "weights\n",
      "[0.756648540110645, 0.24335145988935492]\n",
      "\n",
      "\n",
      "test_coverage0.7162162162162162\n",
      "test_width3.8628161807137973\n",
      "rmse_test1.619139684040258\n",
      "weights\n",
      "[0.9874107792522872, 0.012589220747712735]\n",
      "\n",
      "\n",
      "test_coverage0.8158928158928159\n",
      "test_width4.3831724401889085\n",
      "rmse_test1.6090930079517485\n",
      "weights\n",
      "[0.6009624788116252, 0.3990375211883748]\n",
      "\n",
      "\n",
      "test_coverage0.7397204897204898\n",
      "test_width3.7369025003020737\n",
      "rmse_test1.6196489870213835\n",
      "weights\n",
      "[0.854947194696297, 0.14505280530370318]\n",
      "\n",
      "\n",
      "test_coverage0.7837837837837838\n",
      "test_width4.4475074044667675\n",
      "rmse_test1.6136980901513673\n",
      "weights\n",
      "[0.9377072290657493, 0.06229277093425074]\n",
      "\n",
      "\n",
      "test_coverage0.7100947100947101\n",
      "test_width3.735363788396339\n",
      "rmse_test1.6177922302626022\n",
      "weights\n",
      "[0.9598318003446104, 0.04016819965538968]\n",
      "\n",
      "\n",
      "test_coverage0.9495841995841996\n",
      "test_width7.62115707134934\n",
      "rmse_test1.6226918228122018\n",
      "weights\n",
      "[0.31490197879439313, 0.6850980212056068]\n",
      "\n",
      "\n",
      "test_coverage0.9697967197967198\n",
      "test_width9.17861333801525\n",
      "rmse_test1.6141364302951229\n",
      "weights\n",
      "[0.16525114869557034, 0.8347488513044299]\n",
      "\n",
      "\n",
      "test_coverage0.7996650496650497\n",
      "test_width4.276036221753486\n",
      "rmse_test1.6170745176165475\n",
      "weights\n",
      "[0.7313287288701721, 0.2686712711298279]\n",
      "\n",
      "\n",
      "test_coverage0.9941094941094941\n",
      "test_width12.744585575125322\n",
      "rmse_test1.6731239031594551\n",
      "weights\n",
      "[0.13962570074108785, 0.8603742992589121]\n",
      "\n",
      "\n"
     ]
    },
    {
     "name": "stderr",
     "output_type": "stream",
     "text": [
      "[Parallel(n_jobs=14)]: Done  30 out of  50 | elapsed: 68.1min remaining: 45.4min\n"
     ]
    },
    {
     "name": "stdout",
     "output_type": "stream",
     "text": [
      "test_coverage0.9861399861399861\n",
      "test_width10.984243857326911\n",
      "rmse_test1.6577565669500145\n",
      "weights\n",
      "[0.160331646224794, 0.8396683537752059]\n",
      "\n",
      "\n",
      "test_coverage0.9981519981519982\n",
      "test_width15.660941502060371\n",
      "rmse_test1.635741692442333\n",
      "weights\n",
      "[0.03291398791683189, 0.9670860120831681]\n",
      "\n",
      "\n",
      "test_coverage0.7130977130977131\n",
      "test_width3.5768867450341912\n",
      "rmse_test1.6136049346738088\n",
      "weights\n",
      "[0.9664506597880671, 0.03354934021193298]\n",
      "\n",
      "\n",
      "test_coverage0.9991337491337491\n",
      "test_width27.44861433272909\n",
      "rmse_test1.866685074451859\n",
      "weights\n",
      "[0.043392247992680676, 0.9566077520073192]\n",
      "\n",
      "\n",
      "test_coverage0.7346962346962347\n",
      "test_width3.828130789745096\n",
      "rmse_test1.6073710447447405\n",
      "weights\n",
      "[0.9592245248914533, 0.04077547510854658]\n",
      "\n",
      "\n",
      "test_coverage0.9777084777084777\n",
      "test_width10.484303966497762\n",
      "rmse_test1.6680766686601058\n",
      "weights\n",
      "[0.1498120031556933, 0.8501879968443067]\n",
      "\n",
      "\n",
      "test_coverage0.8727188727188727\n",
      "test_width5.291931324028488\n",
      "rmse_test1.6262597126920268\n",
      "weights\n",
      "[0.5112450825984681, 0.48875491740153176]\n",
      "\n",
      "\n"
     ]
    },
    {
     "name": "stderr",
     "output_type": "stream",
     "text": [
      "[Parallel(n_jobs=14)]: Done  37 out of  50 | elapsed: 74.6min remaining: 26.2min\n"
     ]
    },
    {
     "name": "stdout",
     "output_type": "stream",
     "text": [
      "test_coverage0.9419034419034419\n",
      "test_width8.081551926822668\n",
      "rmse_test1.6286531253550436\n",
      "weights\n",
      "[0.32289130455370624, 0.6771086954462937]\n",
      "\n",
      "\n",
      "test_coverage0.7571032571032571\n",
      "test_width3.9277815275076753\n",
      "rmse_test1.6123737820345936\n",
      "weights\n",
      "[0.9742577923943787, 0.025742207605621494]\n",
      "\n",
      "\n",
      "test_coverage0.7446869946869947\n",
      "test_width3.887467947821117\n",
      "rmse_test1.611834909358321\n",
      "weights\n",
      "[0.8066345915327288, 0.19336540846727127]\n",
      "\n",
      "\n",
      "test_coverage0.7330214830214831\n",
      "test_width3.789684435791693\n",
      "rmse_test1.609951077324835\n",
      "weights\n",
      "[0.8256597477261953, 0.17434025227380456]\n",
      "\n",
      "\n",
      "test_coverage0.9763802263802264\n",
      "test_width9.956242247830566\n",
      "rmse_test1.6275844301972788\n",
      "weights\n",
      "[0.12897345842818628, 0.8710265415718136]\n",
      "\n",
      "\n",
      "test_coverage0.7508085008085008\n",
      "test_width3.8536180177378294\n",
      "rmse_test1.6136324955800816\n",
      "weights\n",
      "[0.7433364762263968, 0.25666352377360335]\n",
      "\n",
      "\n",
      "test_coverage0.8056133056133056\n",
      "test_width4.702699053374993\n",
      "rmse_test1.609758295371787\n",
      "weights\n",
      "[0.9802501207423654, 0.019749879257634734]\n",
      "\n",
      "\n"
     ]
    },
    {
     "name": "stderr",
     "output_type": "stream",
     "text": [
      "[Parallel(n_jobs=14)]: Done  44 out of  50 | elapsed: 93.1min remaining: 12.7min\n"
     ]
    },
    {
     "name": "stdout",
     "output_type": "stream",
     "text": [
      "test_coverage0.9202471702471703\n",
      "test_width6.512930774437243\n",
      "rmse_test1.6101493037300705\n",
      "weights\n",
      "[0.4442400726823517, 0.5557599273176483]\n",
      "\n",
      "\n",
      "test_coverage0.9183414183414184\n",
      "test_width6.492677295478992\n",
      "rmse_test1.6158688250165223\n",
      "weights\n",
      "[0.3321727010708824, 0.6678272989291176]\n",
      "\n",
      "\n",
      "test_coverage0.767960267960268\n",
      "test_width4.3376365735459075\n",
      "rmse_test1.6157109400941057\n",
      "weights\n",
      "[0.9746050602679889, 0.025394939732011162]\n",
      "\n",
      "\n",
      "test_coverage0.7557172557172557\n",
      "test_width4.058056219415491\n",
      "rmse_test1.6095394775003922\n",
      "weights\n",
      "[0.9140280913251626, 0.08597190867483738]\n",
      "\n",
      "\n",
      "test_coverage0.7505197505197505\n",
      "test_width3.947557728070913\n",
      "rmse_test1.6062960173943368\n",
      "weights\n",
      "[0.9515993257672284, 0.048400674232771765]\n",
      "\n",
      "\n",
      "test_coverage0.8235735735735735\n",
      "test_width5.094752987443049\n",
      "rmse_test1.613389475408613\n",
      "weights\n",
      "[0.9506544659012596, 0.04934553409874045]\n",
      "\n",
      "\n"
     ]
    },
    {
     "name": "stderr",
     "output_type": "stream",
     "text": [
      "[Parallel(n_jobs=14)]: Done  50 out of  50 | elapsed: 106.9min finished\n"
     ]
    }
   ],
   "source": [
    "catch = Parallel(n_jobs = 14, verbose = 8, backend = \"loky\")(delayed(get_results)(idx, var_weights = 1.0, var_weight_weights = 1.0, var_D = 1, inflation_factor =1, fudging_beta = beta(1,19), \n",
    "           fudging_var = 1*1e-2, print_true = False) for idx in range(0,50))"
   ]
  },
  {
   "cell_type": "code",
   "execution_count": 76,
   "id": "5eca3f9c-a1cc-4588-9c0c-c85b478c3fd2",
   "metadata": {},
   "outputs": [],
   "source": [
    "with open(\"..//Data//DualGCN_run_plots_from_jupyter_all_data.pickle\", \"wb\") as f: \n",
    "    pickle.dump(catch, f)"
   ]
  },
  {
   "cell_type": "code",
   "execution_count": 77,
   "id": "e1b0f4df-a1c3-4a85-98dd-5b707f61aa87",
   "metadata": {},
   "outputs": [],
   "source": [
    "with open(\"..//Data//DualGCN_run_plots_from_jupyter_all_data.pickle\", \"rb\") as f: \n",
    "    catch = pickle.load(f)"
   ]
  },
  {
   "cell_type": "code",
   "execution_count": 78,
   "id": "7803a912-970f-4681-894f-1aff70f9d411",
   "metadata": {},
   "outputs": [],
   "source": [
    "all_metrics = []\n",
    "all_weights = []\n",
    "for i in range(0,50):\n",
    "    item = catch[i]\n",
    "    metrics = item[:7]\n",
    "    weights = item[-8:-6]\n",
    "    all_metrics.append(metrics)\n",
    "    all_weights.append(weights)\n",
    "    "
   ]
  },
  {
   "cell_type": "code",
   "execution_count": 79,
   "id": "f56d08b5-1e2d-473c-8232-c589f0b5f2d9",
   "metadata": {},
   "outputs": [],
   "source": [
    "all_metrics_df = pd.DataFrame(all_metrics)"
   ]
  },
  {
   "cell_type": "code",
   "execution_count": 80,
   "id": "a86989d6-ee4e-4729-984d-049b538a6df4",
   "metadata": {},
   "outputs": [],
   "source": [
    "all_weights_df = pd.DataFrame(all_weights)"
   ]
  },
  {
   "cell_type": "code",
   "execution_count": 81,
   "id": "29cea438-9622-4de1-9291-8032a4e7a95e",
   "metadata": {},
   "outputs": [],
   "source": [
    "all_df = pd.concat([all_metrics_df, all_weights_df], axis = 1)"
   ]
  },
  {
   "cell_type": "code",
   "execution_count": 82,
   "id": "3b6a4258-046d-4bc3-b82a-a3e36144a5d2",
   "metadata": {},
   "outputs": [],
   "source": [
    "all_df.columns = ['train_width', 'coverage_train', 'rmse_train', 'test_width', 'coverage_test', 'rmse_test', 'pearson_r', \n",
    "                   \"DualGCN_Drugs\", \"DualGCN_Omics\"]"
   ]
  },
  {
   "cell_type": "code",
   "execution_count": 83,
   "id": "39e348d2-807a-4f15-a623-4083bc9734cd",
   "metadata": {},
   "outputs": [
    {
     "data": {
      "text/plain": [
       "train_width       6.415213\n",
       "coverage_train    0.835360\n",
       "rmse_train        1.660553\n",
       "test_width        6.394910\n",
       "coverage_test     0.837205\n",
       "rmse_test         1.626663\n",
       "pearson_r         0.818590\n",
       "DualGCN_Drugs     0.642012\n",
       "DualGCN_Omics     0.357988\n",
       "dtype: float64"
      ]
     },
     "execution_count": 83,
     "metadata": {},
     "output_type": "execute_result"
    }
   ],
   "source": [
    "all_df.mean()"
   ]
  },
  {
   "cell_type": "code",
   "execution_count": 84,
   "id": "102a8e64-74ce-4478-b72e-5e32027c6523",
   "metadata": {},
   "outputs": [
    {
     "data": {
      "text/plain": [
       "train_width       4.203757\n",
       "coverage_train    0.101645\n",
       "rmse_train        0.038865\n",
       "test_width        4.213785\n",
       "coverage_test     0.102410\n",
       "rmse_test         0.038465\n",
       "pearson_r         0.010311\n",
       "DualGCN_Drugs     0.345091\n",
       "DualGCN_Omics     0.345091\n",
       "dtype: float64"
      ]
     },
     "execution_count": 84,
     "metadata": {},
     "output_type": "execute_result"
    }
   ],
   "source": [
    "all_df.std()"
   ]
  },
  {
   "cell_type": "code",
   "execution_count": 85,
   "id": "1c957b44-ee1e-4f39-853f-2208d12dcd7a",
   "metadata": {},
   "outputs": [],
   "source": [
    "with open(\"..//Data//DualGCN_run_plot_from_jupyter_test_features_and_ground_truth_all_data.pickle\", \"wb\") as f: \n",
    "    pickle.dump(current_test, f)"
   ]
  },
  {
   "cell_type": "code",
   "execution_count": 86,
   "id": "32990a2e-3c2d-45c8-90ab-81ac0c0df321",
   "metadata": {},
   "outputs": [],
   "source": [
    "add_preds = np.zeros((y_test.shape[0], y_test.shape[1]))\n",
    "for item in catch: \n",
    "    preds = item[-4]\n",
    "    add_preds+= preds"
   ]
  },
  {
   "cell_type": "code",
   "execution_count": 87,
   "id": "7c1890d9-b524-4d08-9d16-4261858ba175",
   "metadata": {},
   "outputs": [],
   "source": [
    "averaged_preds = add_preds/50"
   ]
  },
  {
   "cell_type": "code",
   "execution_count": 88,
   "id": "20a4a369-6b96-471d-9874-179046a69305",
   "metadata": {},
   "outputs": [],
   "source": [
    "from sklearn.metrics import mean_squared_error"
   ]
  },
  {
   "cell_type": "code",
   "execution_count": 89,
   "id": "23a9b5f7-3cb7-43a4-a6d4-4364944c90ec",
   "metadata": {},
   "outputs": [],
   "source": [
    "mse = mean_squared_error(y_test, averaged_preds)"
   ]
  },
  {
   "cell_type": "code",
   "execution_count": 90,
   "id": "38cfb4cd-fc54-4017-9fd3-09eb88180644",
   "metadata": {},
   "outputs": [
    {
     "data": {
      "text/plain": [
       "1.6012817212328836"
      ]
     },
     "execution_count": 90,
     "metadata": {},
     "output_type": "execute_result"
    }
   ],
   "source": [
    "np.sqrt(mse)"
   ]
  },
  {
   "cell_type": "code",
   "execution_count": 91,
   "id": "2a2e02d4-c724-4b47-939e-a8def7bcd0d1",
   "metadata": {},
   "outputs": [],
   "source": [
    "from scipy.stats import pearsonr"
   ]
  },
  {
   "cell_type": "code",
   "execution_count": 92,
   "id": "87169971-f289-4997-afb5-fa88e4557fd8",
   "metadata": {},
   "outputs": [],
   "source": [
    "pearsonr_test = pearsonr(y_test.reshape(y_test.shape[0],), \n",
    "                                 averaged_preds.reshape(averaged_preds.shape[0],))"
   ]
  },
  {
   "cell_type": "code",
   "execution_count": 93,
   "id": "68af50b8-d528-42d7-8269-9c2d23b071c9",
   "metadata": {},
   "outputs": [
    {
     "data": {
      "text/plain": [
       "0.8247479944555509"
      ]
     },
     "execution_count": 93,
     "metadata": {},
     "output_type": "execute_result"
    }
   ],
   "source": [
    "pearsonr_test.statistic"
   ]
  },
  {
   "cell_type": "code",
   "execution_count": 94,
   "id": "d91d877d-3b79-4193-a141-f6004ac885da",
   "metadata": {},
   "outputs": [],
   "source": [
    "all_li = np.zeros((y_test.shape[0], len(catch)))\n",
    "all_ui = np.zeros((y_test.shape[0], len(catch)))\n",
    "for i, item in enumerate(catch): \n",
    "    preds = item[-3:-1]\n",
    "    all_li[:,i] =  preds[0][:,0]\n",
    "    all_ui[:,i] =  preds[1][:,0]"
   ]
  },
  {
   "cell_type": "code",
   "execution_count": 95,
   "id": "f5089183-8d94-466d-bd73-af14f6ae2830",
   "metadata": {},
   "outputs": [],
   "source": [
    "li = np.median(all_li, axis = 1).reshape(-1,1)"
   ]
  },
  {
   "cell_type": "code",
   "execution_count": 96,
   "id": "58675286-f0b6-4f14-a8ef-20c9e6e8f102",
   "metadata": {},
   "outputs": [],
   "source": [
    "li_mean = np.mean(all_li, axis = 1).reshape(-1,1)"
   ]
  },
  {
   "cell_type": "code",
   "execution_count": 97,
   "id": "109290f7-4c0d-45c3-9834-540b46d52392",
   "metadata": {},
   "outputs": [],
   "source": [
    "ui = np.median(all_ui, axis = 1).reshape(-1,1)"
   ]
  },
  {
   "cell_type": "code",
   "execution_count": 98,
   "id": "14255998-48fe-48cc-b992-d6244926d247",
   "metadata": {},
   "outputs": [],
   "source": [
    "ui_mean = np.mean(all_ui, axis = 1).reshape(-1,1)"
   ]
  },
  {
   "cell_type": "code",
   "execution_count": 99,
   "id": "bf5bb058-8648-472b-9505-6072356fefb1",
   "metadata": {},
   "outputs": [],
   "source": [
    "combo = np.hstack((y_test, li, ui))"
   ]
  },
  {
   "cell_type": "code",
   "execution_count": 100,
   "id": "653bc42b-fc5d-4d16-a5db-8195914b0018",
   "metadata": {},
   "outputs": [],
   "source": [
    "combo_mean = np.hstack((y_test, li_mean, ui_mean))"
   ]
  },
  {
   "cell_type": "code",
   "execution_count": 101,
   "id": "f3ea0538-b13e-48df-9cf5-5aad2d71aaee",
   "metadata": {},
   "outputs": [],
   "source": [
    "combo_mean_df = pd.DataFrame(combo_mean)"
   ]
  },
  {
   "cell_type": "code",
   "execution_count": 102,
   "id": "6b09978a-79d6-4ada-85d8-c06f9acccda3",
   "metadata": {},
   "outputs": [],
   "source": [
    "combo_mean_df.columns = [\"IC50\", \"LI_IC50_Pred\", \"UI_IC50_Pred\"]"
   ]
  },
  {
   "cell_type": "code",
   "execution_count": 103,
   "id": "21b791a5-3d29-439e-be7b-8a294d5d841e",
   "metadata": {},
   "outputs": [],
   "source": [
    "combo_mean_df[\"coverage\"] = (combo_mean_df[\"IC50\"] >= combo_mean_df[\"LI_IC50_Pred\"]) & (combo_mean_df[\"IC50\"] <= combo_mean_df[\"UI_IC50_Pred\"])"
   ]
  },
  {
   "cell_type": "code",
   "execution_count": 104,
   "id": "4a2bba6a-0d26-49ea-9a9f-cf8287c53ba1",
   "metadata": {},
   "outputs": [
    {
     "data": {
      "text/plain": [
       "0.9348001848001848"
      ]
     },
     "execution_count": 104,
     "metadata": {},
     "output_type": "execute_result"
    }
   ],
   "source": [
    "combo_mean_df[\"coverage\"].mean()"
   ]
  },
  {
   "cell_type": "code",
   "execution_count": 105,
   "id": "31e882fa-bf0a-4b10-8947-bfa229e5ddf8",
   "metadata": {},
   "outputs": [],
   "source": [
    "combo_mean_df[\"width\"] = combo_mean_df[\"UI_IC50_Pred\"]-combo_mean_df[\"LI_IC50_Pred\"]"
   ]
  },
  {
   "cell_type": "code",
   "execution_count": 106,
   "id": "8a97fe02-3c5c-4741-9c3f-3f00a453da8a",
   "metadata": {},
   "outputs": [
    {
     "data": {
      "text/plain": [
       "6.394910015236429"
      ]
     },
     "execution_count": 106,
     "metadata": {},
     "output_type": "execute_result"
    }
   ],
   "source": [
    "combo_mean_df[\"width\"].mean()"
   ]
  },
  {
   "cell_type": "code",
   "execution_count": 107,
   "id": "01e41c62-1583-4392-a9cd-ef77a6ac8dc3",
   "metadata": {},
   "outputs": [],
   "source": [
    "combo_df = pd.DataFrame(combo)"
   ]
  },
  {
   "cell_type": "code",
   "execution_count": 108,
   "id": "306db478-30aa-408b-8320-5ed28e570055",
   "metadata": {},
   "outputs": [],
   "source": [
    "combo_df.columns = [\"IC50\", \"LI_IC50_Pred\", \"UI_IC50_Pred\"]"
   ]
  },
  {
   "cell_type": "code",
   "execution_count": 109,
   "id": "9d8484b6-db06-4877-8a29-ef6bd2723483",
   "metadata": {},
   "outputs": [],
   "source": [
    "combo_df = combo_df.sort_values(\"IC50\").reset_index(drop = True)"
   ]
  },
  {
   "cell_type": "code",
   "execution_count": 110,
   "id": "910abb96-399c-4ba2-9abf-e5c921849f3e",
   "metadata": {},
   "outputs": [],
   "source": [
    "combo_df[\"coverage\"] = (combo_df[\"IC50\"] >= combo_df[\"LI_IC50_Pred\"]) & (combo_df[\"IC50\"] <= combo_df[\"UI_IC50_Pred\"])"
   ]
  },
  {
   "cell_type": "code",
   "execution_count": 111,
   "id": "9cb78442-aa5c-4ee3-8365-7346b279bb91",
   "metadata": {},
   "outputs": [
    {
     "data": {
      "text/plain": [
       "0.8490990990990991"
      ]
     },
     "execution_count": 111,
     "metadata": {},
     "output_type": "execute_result"
    }
   ],
   "source": [
    "combo_df[\"coverage\"].mean()"
   ]
  },
  {
   "cell_type": "code",
   "execution_count": 112,
   "id": "61175ea8-32f1-4c12-b8a2-6dc537c40873",
   "metadata": {},
   "outputs": [],
   "source": [
    "combo_df[\"width\"] = combo_df[\"UI_IC50_Pred\"]-combo_df[\"LI_IC50_Pred\"]"
   ]
  },
  {
   "cell_type": "code",
   "execution_count": 113,
   "id": "ddee9706-5538-4f72-9434-24496ca50c24",
   "metadata": {},
   "outputs": [
    {
     "data": {
      "text/plain": [
       "4.746868769915126"
      ]
     },
     "execution_count": 113,
     "metadata": {},
     "output_type": "execute_result"
    }
   ],
   "source": [
    "combo_df[\"width\"].mean()"
   ]
  }
 ],
 "metadata": {
  "kernelspec": {
   "display_name": "enkf",
   "language": "python",
   "name": "enkf"
  },
  "language_info": {
   "codemirror_mode": {
    "name": "ipython",
    "version": 3
   },
   "file_extension": ".py",
   "mimetype": "text/x-python",
   "name": "python",
   "nbconvert_exporter": "python",
   "pygments_lexer": "ipython3",
   "version": "3.11.3"
  }
 },
 "nbformat": 4,
 "nbformat_minor": 5
}
