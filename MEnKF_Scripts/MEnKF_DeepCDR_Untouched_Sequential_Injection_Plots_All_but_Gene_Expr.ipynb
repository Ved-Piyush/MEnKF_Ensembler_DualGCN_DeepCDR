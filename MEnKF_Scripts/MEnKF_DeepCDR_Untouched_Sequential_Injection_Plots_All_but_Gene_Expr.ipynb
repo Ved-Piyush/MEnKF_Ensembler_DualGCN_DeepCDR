{
 "cells": [
  {
   "cell_type": "code",
   "execution_count": 1,
   "id": "aa53e19a-64db-4b1d-9378-c19c8efacd62",
   "metadata": {},
   "outputs": [
    {
     "name": "stderr",
     "output_type": "stream",
     "text": [
      "2023-08-11 05:30:40.231828: I tensorflow/core/util/port.cc:110] oneDNN custom operations are on. You may see slightly different numerical results due to floating-point round-off errors from different computation orders. To turn them off, set the environment variable `TF_ENABLE_ONEDNN_OPTS=0`.\n",
      "2023-08-11 05:30:40.343281: I tensorflow/tsl/cuda/cudart_stub.cc:28] Could not find cuda drivers on your machine, GPU will not be used.\n",
      "2023-08-11 05:30:40.831672: I tensorflow/tsl/cuda/cudart_stub.cc:28] Could not find cuda drivers on your machine, GPU will not be used.\n",
      "2023-08-11 05:30:40.834284: I tensorflow/core/platform/cpu_feature_guard.cc:182] This TensorFlow binary is optimized to use available CPU instructions in performance-critical operations.\n",
      "To enable the following instructions: AVX2 AVX512F AVX512_VNNI FMA, in other operations, rebuild TensorFlow with the appropriate compiler flags.\n",
      "2023-08-11 05:30:44.617285: W tensorflow/compiler/tf2tensorrt/utils/py_utils.cc:38] TF-TRT Warning: Could not find TensorRT\n"
     ]
    }
   ],
   "source": [
    "import pandas as pd\n",
    "import numpy as np\n",
    "from sklearn.model_selection import KFold\n",
    "from sklearn.feature_selection import VarianceThreshold\n",
    "import random\n",
    "import pickle\n",
    "from sklearn.preprocessing import StandardScaler\n",
    "import os\n",
    "import tensorflow as tf\n",
    "from tqdm.notebook import tqdm\n",
    "from scipy.stats import multivariate_normal as mvn\n",
    "import matplotlib.pyplot as plt\n",
    "from scipy.linalg import block_diag\n",
    "import warnings\n",
    "import os\n",
    "os.environ['TF_CPP_MIN_LOG_LEVEL'] = '3' "
   ]
  },
  {
   "cell_type": "code",
   "execution_count": 2,
   "id": "a6028973-9799-4d8a-b919-a8dd6283faf1",
   "metadata": {},
   "outputs": [],
   "source": [
    "warnings.filterwarnings('ignore')"
   ]
  },
  {
   "cell_type": "code",
   "execution_count": 3,
   "id": "34242ac3-a983-4bab-b092-bfcea4f94a4b",
   "metadata": {},
   "outputs": [],
   "source": [
    "# len(weights_ann_1[0].ravel())"
   ]
  },
  {
   "cell_type": "code",
   "execution_count": 4,
   "id": "d459b853-f520-4181-a9a9-310a6dd20de1",
   "metadata": {},
   "outputs": [],
   "source": [
    "def get_targets_with_weights(batch_data, initial_ensembles, size_ens): \n",
    "    \n",
    "    target_dim = 1\n",
    "    \n",
    "    # weights_ann_1 = ann.get_weights()\n",
    "    \n",
    "    # h1  = ann.layers[1].output.shape[-1]\n",
    "\n",
    "    n_hidden_1 = len(weights_ann_1[0].ravel())\n",
    "    \n",
    "    hidden_weights_1 = initial_ensembles[:,:n_hidden_1].reshape( size_ens, batch_data.shape[1], h1)\n",
    "    \n",
    "    \n",
    "    hidden_output_1 = np.einsum('ij,kjl->kil', batch_data, hidden_weights_1)\n",
    "\n",
    "    \n",
    "    hidden_layer_bias_1 = initial_ensembles[:,n_hidden_1:(n_hidden_1 + h1)].reshape(size_ens, 1,  h1)\n",
    "\n",
    "\n",
    "    hidden_output_1 = hidden_output_1 + hidden_layer_bias_1\n",
    "\n",
    "    n_pred_weights_1 = len(weights_ann_1[2].ravel())\n",
    "\n",
    "    output_weights_1 = initial_ensembles[:,(n_hidden_1 + h1):(n_hidden_1 + h1 + n_pred_weights_1) ].reshape(size_ens, h1, target_dim)\n",
    "\n",
    "\n",
    "    output_1 = np.einsum('ijk,ikl->ijl', hidden_output_1, output_weights_1)\n",
    "\n",
    "\n",
    "    output_layer_bias_1 = initial_ensembles[:,(n_hidden_1 + h1 + n_pred_weights_1):(n_hidden_1 + h1 + n_pred_weights_1 + target_dim)].reshape(size_ens, 1, target_dim)\n",
    "\n",
    "\n",
    "    final_output_1 = output_1 + output_layer_bias_1\n",
    "    \n",
    "    final_output_1 = final_output_1[:,:, 0]\n",
    "    \n",
    "    # print(final_output_1.shape, initial_ensembles.shape)\n",
    "    \n",
    "    stack = np.hstack((final_output_1, initial_ensembles))\n",
    "\n",
    "    \n",
    "    return final_output_1, stack"
   ]
  },
  {
   "cell_type": "code",
   "execution_count": 5,
   "id": "2a66ee4c-4112-4dca-a9cc-68a60d4e316f",
   "metadata": {},
   "outputs": [],
   "source": [
    "def ann(hidden = 32, input_shape = 256, output_shape = 1): \n",
    "    input_layer = tf.keras.layers.Input(shape = (input_shape))\n",
    "    hidden_layer = tf.keras.layers.Dense(hidden)\n",
    "    hidden_output = hidden_layer(input_layer)\n",
    "    pred_layer = tf.keras.layers.Dense(output_shape, activation = \"relu\")\n",
    "    pred_output = pred_layer(hidden_output)\n",
    "#     pred_output = tf.keras.layers.Activation(\"softmax\")(pred_output)\n",
    "    model = tf.keras.models.Model(input_layer, pred_output)\n",
    "    return model"
   ]
  },
  {
   "cell_type": "code",
   "execution_count": 6,
   "id": "e0b9ef03-af61-4ce4-99ff-2f0b5dca639d",
   "metadata": {},
   "outputs": [],
   "source": [
    "def generate_initial_ensembles(num_weights, lambda1, size_ens):\n",
    "    mean_vec = np.zeros((num_weights,))\n",
    "    cov_matrix = lambda1*np.identity(num_weights)\n",
    "    mvn_samp = mvn(mean_vec, cov_matrix)\n",
    "    return mvn_samp.rvs(size_ens)"
   ]
  },
  {
   "cell_type": "code",
   "execution_count": 7,
   "id": "fe2ea2b5-13a4-41c4-8257-c6c18708501b",
   "metadata": {},
   "outputs": [],
   "source": [
    "def expit(x):\n",
    "    \"\"\"Compute softmax values for each sets of scores in x.\"\"\"\n",
    "#     e_x = np.exp(x - np.max(x))\n",
    "    return 1 / (1 + np.exp(-x))"
   ]
  },
  {
   "cell_type": "code",
   "execution_count": 8,
   "id": "758ac30a-bcc7-4b5e-9314-7fb85f284f70",
   "metadata": {},
   "outputs": [],
   "source": [
    "samp_ann =  ann(hidden = 16, input_shape = 60, output_shape = 1)"
   ]
  },
  {
   "cell_type": "code",
   "execution_count": 9,
   "id": "2548f2de-a4c3-4850-b5cc-439634f5c4de",
   "metadata": {},
   "outputs": [],
   "source": [
    "weights_ann_1 = samp_ann.get_weights()"
   ]
  },
  {
   "cell_type": "code",
   "execution_count": 10,
   "id": "1338dc89-5540-4867-95a6-3d0ea7639cdd",
   "metadata": {},
   "outputs": [],
   "source": [
    "h1  = samp_ann.layers[1].output.shape[-1]"
   ]
  },
  {
   "cell_type": "code",
   "execution_count": 11,
   "id": "4a92b1e3-d9c6-4ce7-959d-aef1376a29d9",
   "metadata": {},
   "outputs": [
    {
     "data": {
      "text/plain": [
       "16"
      ]
     },
     "execution_count": 11,
     "metadata": {},
     "output_type": "execute_result"
    }
   ],
   "source": [
    "h1"
   ]
  },
  {
   "cell_type": "code",
   "execution_count": 12,
   "id": "427b0370-90df-4ab4-85b9-691d082750bf",
   "metadata": {},
   "outputs": [
    {
     "data": {
      "text/plain": [
       "993"
      ]
     },
     "execution_count": 12,
     "metadata": {},
     "output_type": "execute_result"
    }
   ],
   "source": [
    "samp_ann.count_params()"
   ]
  },
  {
   "cell_type": "code",
   "execution_count": 13,
   "id": "06982568-e5c1-4712-895c-7b3d49a09040",
   "metadata": {},
   "outputs": [],
   "source": [
    "hidden_neurons = h1"
   ]
  },
  {
   "cell_type": "code",
   "execution_count": 14,
   "id": "a71c4646-23a6-45ca-9ccc-aa4c3566d8a8",
   "metadata": {},
   "outputs": [],
   "source": [
    "samp_ann_params = samp_ann.count_params()"
   ]
  },
  {
   "cell_type": "code",
   "execution_count": 15,
   "id": "b5f741d7-ba99-4803-8441-5bf2ad3d72f7",
   "metadata": {},
   "outputs": [],
   "source": [
    "def get_initial_X_t(data1, data2, size_ens, var_weights = 1.0, var_weight_weights = 4.0, var_L = 1.0, var_D = 1.0):\n",
    "    # samp_ann =  ann(hidden = hidden_neurons, input_shape = 32, output_shape = 1)\n",
    "    \n",
    "    initial_ensembles1 = generate_initial_ensembles(samp_ann_params, var_weights, size_ens)\n",
    "    data1_out1, data1_stack1 = get_targets_with_weights(data1, initial_ensembles1, size_ens = size_ens)\n",
    "    \n",
    "    initial_ensembles2 = generate_initial_ensembles(samp_ann_params, var_weights, size_ens)\n",
    "    data1_out2, data1_stack2 = get_targets_with_weights(data2, initial_ensembles2, size_ens = size_ens)\n",
    "    \n",
    "#     initial_ensembles3 = generate_initial_ensembles(samp_ann_params, var_weights, size_ens)\n",
    "#     data2_out1, data2_stack1 = get_targets_with_weights(data3, initial_ensembles3, size_ens = size_ens)\n",
    "    \n",
    "#     initial_ensembles4 = generate_initial_ensembles(samp_ann_params, var_weights, size_ens)\n",
    "#     data2_out2, data2_stack2 = get_targets_with_weights(data4, initial_ensembles4, size_ens = size_ens)   \n",
    "    \n",
    "    X_t = np.concatenate((np.expand_dims(data1_stack1, -1), np.expand_dims(data1_stack2, -1)), axis = -1)\n",
    "    \n",
    "    initial_ensembles_for_weights = generate_initial_ensembles(2, var_weight_weights, size_ens)\n",
    "    initial_ensembles_for_weights = np.expand_dims(initial_ensembles_for_weights,1)\n",
    "    \n",
    "    # initial_ensembles_for_L = generate_initial_ensembles(4, var_L, size_ens)\n",
    "    # initial_ensembles_for_L = np.expand_dims(initial_ensembles_for_L,1)    \n",
    "    \n",
    "    initial_ensembles_for_D1 = generate_initial_ensembles(1, var_D, size_ens).reshape(-1,1)\n",
    "    # initial_ensembles_for_D2 = generate_initial_ensembles(1, var_D, size_ens).reshape(-1,1)\n",
    "    \n",
    "    initial_ensembles_for_D1_zero = np.zeros((size_ens,1,1)).reshape(-1,1)\n",
    "#     initial_ensembles_for_D2_zero = np.zeros((size_ens,1,1)).reshape(-1,1)\n",
    "    \n",
    "#     initial_ensembles_for_D3_zero = np.zeros((size_ens,1,1)).reshape(-1,1)\n",
    "    \n",
    "    initial_ensembles_for_D = np.concatenate((np.expand_dims(initial_ensembles_for_D1,1),\n",
    "                                                       np.expand_dims(initial_ensembles_for_D1_zero,1)), axis = 2)\n",
    "    \n",
    "    # print(X_t.shape, initial_ensembles_for_weights.shape)\n",
    "    \n",
    "    X_t = np.concatenate((X_t, initial_ensembles_for_weights, initial_ensembles_for_D), axis = 1)\n",
    "    \n",
    "    initial_ensembles = np.hstack((initial_ensembles1, initial_ensembles2))\n",
    "    \n",
    "    return X_t, initial_ensembles, initial_ensembles_for_weights[:,0,:], initial_ensembles_for_D[:,0,:]"
   ]
  },
  {
   "cell_type": "code",
   "execution_count": 16,
   "id": "6ac49c8c-6da0-4ee2-9561-e1d19365f182",
   "metadata": {},
   "outputs": [],
   "source": [
    "def get_weighted_targets_with_weights(batch_data, initial_ensembles, size_ens, weights): \n",
    "    \n",
    "    target_dim = 1\n",
    "    \n",
    "\n",
    "    n_hidden_1 = len(weights_ann_1[0].ravel())\n",
    "    \n",
    "    hidden_weights_1 = initial_ensembles[:,:n_hidden_1].reshape( size_ens, batch_data.shape[1], h1)\n",
    "    \n",
    "    \n",
    "    hidden_output_1 = np.einsum('ij,kjl->kil', batch_data, hidden_weights_1)\n",
    "\n",
    "    \n",
    "    hidden_layer_bias_1 = initial_ensembles[:,n_hidden_1:(n_hidden_1 + h1)].reshape(size_ens, 1,  h1)\n",
    "\n",
    "\n",
    "    hidden_output_1 = hidden_output_1 + hidden_layer_bias_1\n",
    "\n",
    "    n_pred_weights_1 = len(weights_ann_1[2].ravel())\n",
    "\n",
    "    output_weights_1 = initial_ensembles[:,(n_hidden_1 + h1):(n_hidden_1 + h1 + n_pred_weights_1) ].reshape(size_ens, h1, target_dim)\n",
    "\n",
    "\n",
    "    output_1 = np.einsum('ijk,ikl->ijl', hidden_output_1, output_weights_1)\n",
    "\n",
    "\n",
    "    output_layer_bias_1 = initial_ensembles[:,(n_hidden_1 + h1 + n_pred_weights_1):(n_hidden_1 + h1 + n_pred_weights_1 + target_dim)].reshape(size_ens, 1, target_dim)\n",
    "\n",
    "\n",
    "    final_output_1 = output_1 + output_layer_bias_1\n",
    "    \n",
    "    final_output_1 = final_output_1[:,:, 0]\n",
    "    \n",
    "    final_output_1 = final_output_1*weights\n",
    "    \n",
    "    # print(final_output_1.shape, initial_ensembles.shape)\n",
    "    \n",
    "    stack = np.hstack((final_output_1, initial_ensembles))\n",
    "\n",
    "    \n",
    "    return final_output_1, stack"
   ]
  },
  {
   "cell_type": "code",
   "execution_count": 17,
   "id": "c5a2f9ca-f4b4-445a-ab5f-e0f0557f54a9",
   "metadata": {},
   "outputs": [],
   "source": [
    "from scipy.stats import beta"
   ]
  },
  {
   "cell_type": "code",
   "execution_count": 18,
   "id": "44ed09c8-f6b0-4b40-86e0-1975541fd0ac",
   "metadata": {},
   "outputs": [],
   "source": [
    "fudging_beta = beta(1,9)"
   ]
  },
  {
   "cell_type": "code",
   "execution_count": 19,
   "id": "9d1a4f5e-7a0d-42b7-ad45-59c708b7b727",
   "metadata": {},
   "outputs": [],
   "source": [
    "def forward_operation(data1, data2, combined_ensembles , size_ens, fudging_beta):\n",
    "    # samp_ann =  ann(hidden = hidden_neurons, input_shape = 32, output_shape = 1)\n",
    "    params = samp_ann_params\n",
    "    initial_ensembles1 = combined_ensembles[:, :params]\n",
    "    initial_ensembles2 = combined_ensembles[:, params:(2*params)]\n",
    "    # initial_ensembles3 = combined_ensembles[:, (2*params):(3*params)]\n",
    "    # initial_ensembles4 = combined_ensembles[:, (3*params):(4*params)]\n",
    "\n",
    "    \n",
    "    initial_ensembles_for_weights = combined_ensembles[:, (2*params):(2*params + 2)]\n",
    "    \n",
    "    # initial_ensembles_for_L = combined_ensembles[:, (4*params + 4):(4*params + 4 + 4)]\n",
    "    \n",
    "    initial_ensembles_for_D = combined_ensembles[:,(2*params + 2):(2*params + 2 + 2 )]\n",
    "    \n",
    "    \n",
    "    softmax_weights = tf.math.softmax(initial_ensembles_for_weights).numpy()\n",
    "    \n",
    "    model_1 = softmax_weights[:, 0].reshape(-1,1) \n",
    "    \n",
    "    # model_1 = np.min(model_1 -fudging_factor)\n",
    "    \n",
    "    model_2 = softmax_weights[:, 1].reshape(-1,1) \n",
    "    \n",
    "#     model_3 = softmax_weights[:, 2].reshape(-1,1) \n",
    "    \n",
    "#     model_4 = softmax_weights[:, 3].reshape(-1,1)\n",
    "    \n",
    "    sum_weights = model_1 + model_2\n",
    "    \n",
    "    \n",
    "    # model_1_plus_model_2 = model_1 + model_2\n",
    "    \n",
    "    model_1 = model_1/sum_weights\n",
    "    \n",
    "    model_2 = model_2/sum_weights\n",
    "    \n",
    "#     model_3 = model_3/sum_weights\n",
    "    \n",
    "#     model_4 = model_4/sum_weights\n",
    "    \n",
    "    \n",
    "    # print(np.mean(model_1 + model_2))\n",
    "    \n",
    "    data1_out1, data1_stack1 = get_weighted_targets_with_weights(data1, initial_ensembles1, size_ens = size_ens,\n",
    "                                                                  weights=model_1)\n",
    "    \n",
    "    data1_out2, data1_stack2 = get_weighted_targets_with_weights(data2, initial_ensembles2, size_ens = size_ens,\n",
    "                                                                weights=model_2)\n",
    "    \n",
    "#     data2_out1, data2_stack1 = get_weighted_targets_with_weights(data3, initial_ensembles3, size_ens = size_ens,\n",
    "#                                                                  weights=model_3)\n",
    "    \n",
    "#     data2_out2, data2_stack2 = get_weighted_targets_with_weights(data4, initial_ensembles4, size_ens = size_ens,\n",
    "#                                                                   weights=model_4)   \n",
    "    \n",
    "    X_t = np.concatenate((np.expand_dims(data1_stack1, -1), np.expand_dims(data1_stack2, -1)), axis = -1)\n",
    "    \n",
    "    initial_ensembles = np.hstack((initial_ensembles1, initial_ensembles2,\n",
    "                        initial_ensembles_for_weights, initial_ensembles_for_D))\n",
    "    \n",
    "    # print(X_t.shape)\n",
    "    \n",
    "    initial_ensembles_for_weights = np.expand_dims(initial_ensembles_for_weights,1)\n",
    "    \n",
    "    # initial_ensembles_for_L = np.expand_dims(initial_ensembles_for_L,1)\n",
    "    \n",
    "    initial_ensembles_for_D = np.expand_dims(initial_ensembles_for_D,1)\n",
    "    \n",
    "    # print(initial_ensembles_for_weights.shape)\n",
    "    \n",
    "    X_t = np.concatenate((X_t, initial_ensembles_for_weights, initial_ensembles_for_D), axis = 1)\n",
    "    \n",
    "    final_output = data1_out1 + data1_out2\n",
    "    \n",
    "    # weighted_psa = data1_out2 + data2_out2\n",
    "    \n",
    "    return X_t, initial_ensembles,final_output, model_1, model_2"
   ]
  },
  {
   "cell_type": "code",
   "execution_count": 20,
   "id": "c6bd2eb3-86b7-41ed-81b4-4dd8e44e106e",
   "metadata": {},
   "outputs": [],
   "source": [
    "def forward_operation_test(data1, data2, combined_ensembles , size_ens):\n",
    "    # samp_ann =  ann(hidden = hidden_neurons, input_shape = 32, output_shape = 1)\n",
    "    params = samp_ann_params\n",
    "    initial_ensembles1 = combined_ensembles[:, :params]\n",
    "    initial_ensembles2 = combined_ensembles[:, params:(2*params)]\n",
    "    # initial_ensembles3 = combined_ensembles[:, (2*params):(3*params)]\n",
    "    # initial_ensembles4 = combined_ensembles[:, (3*params):(4*params)]\n",
    "\n",
    "    \n",
    "    initial_ensembles_for_weights = combined_ensembles[:, (2*params):(2*params + 2)]\n",
    "    \n",
    "    # initial_ensembles_for_L = combined_ensembles[:, (4*params + 4):(4*params + 4 + 4)]\n",
    "    \n",
    "    initial_ensembles_for_D = combined_ensembles[:,(2*params + 2):(2*params + 2 + 2)]\n",
    "    \n",
    "    \n",
    "    softmax_weights = tf.math.softmax(initial_ensembles_for_weights).numpy()\n",
    "    \n",
    "    model_1 = softmax_weights[:, :1].reshape(-1,1) \n",
    "    \n",
    "    # model_1 = np.min(model_1 -fudging_factor)\n",
    "    \n",
    "    model_2 = softmax_weights[:, 1:2].reshape(-1,1) \n",
    "    \n",
    "#     model_3 = softmax_weights[:, 2:3].reshape(-1,1)\n",
    "    \n",
    "#     model_4 = softmax_weights[:, 3:4].reshape(-1,1)\n",
    "    \n",
    "    sum_weights = model_1 + model_2 \n",
    "    \n",
    "    \n",
    "    # model_1_plus_model_2 = model_1 + model_2\n",
    "    \n",
    "    model_1 = model_1/sum_weights\n",
    "    \n",
    "    model_2 = model_2/sum_weights\n",
    "    \n",
    "#     model_3 = model_3/sum_weights\n",
    "    \n",
    "#     model_4 = model_4/sum_weights\n",
    "    \n",
    "    data1_out1, data1_stack1 = get_weighted_targets_with_weights(data1, initial_ensembles1, size_ens = size_ens,\n",
    "                                                                  weights=model_1)\n",
    "    \n",
    "    data1_out2, data1_stack2 = get_weighted_targets_with_weights(data2, initial_ensembles2, size_ens = size_ens,\n",
    "                                                                weights=model_2)\n",
    "    \n",
    "#     data2_out1, data2_stack1 = get_weighted_targets_with_weights(data3, initial_ensembles3, size_ens = size_ens,\n",
    "#                                                                  weights=model_3)\n",
    "    \n",
    "#     data2_out2, data2_stack2 = get_weighted_targets_with_weights(data4, initial_ensembles4, size_ens = size_ens,\n",
    "#                                                                   weights=model_4)   \n",
    "    \n",
    "    X_t = np.concatenate((np.expand_dims(data1_stack1, -1), np.expand_dims(data1_stack2, -1)), axis = -1)\n",
    "    \n",
    "    initial_ensembles = np.hstack((initial_ensembles1, initial_ensembles2, \n",
    "                        initial_ensembles_for_weights, initial_ensembles_for_D))\n",
    "    \n",
    "    # print(X_t.shape)\n",
    "    \n",
    "    initial_ensembles_for_weights = np.expand_dims(initial_ensembles_for_weights,1)\n",
    "    \n",
    "    # initial_ensembles_for_L = np.expand_dims(initial_ensembles_for_L,1)\n",
    "    \n",
    "    initial_ensembles_for_D = np.expand_dims(initial_ensembles_for_D,1)\n",
    "    \n",
    "    # print(initial_ensembles_for_weights.shape)\n",
    "    \n",
    "    X_t = np.concatenate((X_t, initial_ensembles_for_weights, initial_ensembles_for_D), axis = 1)\n",
    "    \n",
    "    final_output = data1_out1 + data1_out2 \n",
    "    \n",
    "    return X_t, initial_ensembles, final_output, model_1, model_2"
   ]
  },
  {
   "cell_type": "code",
   "execution_count": 21,
   "id": "af3dd570-7ab3-4eae-bd8e-9a57a333b30a",
   "metadata": {},
   "outputs": [],
   "source": [
    "total_weights = 2*(samp_ann.count_params() + 1 + 1)"
   ]
  },
  {
   "cell_type": "code",
   "execution_count": 22,
   "id": "e820b010-4396-4b7a-8781-a8e6d503aad5",
   "metadata": {},
   "outputs": [],
   "source": [
    "reduction = 15"
   ]
  },
  {
   "cell_type": "code",
   "execution_count": 23,
   "id": "e5fbaaf7-afae-4008-a26c-e0691ef9b3f9",
   "metadata": {},
   "outputs": [],
   "source": [
    "size_ens = total_weights//reduction\n",
    "# total_weights//reduction"
   ]
  },
  {
   "cell_type": "code",
   "execution_count": 24,
   "id": "a5111536-1a97-4390-9658-c9848a136a3f",
   "metadata": {},
   "outputs": [
    {
     "data": {
      "text/plain": [
       "132"
      ]
     },
     "execution_count": 24,
     "metadata": {},
     "output_type": "execute_result"
    }
   ],
   "source": [
    "size_ens"
   ]
  },
  {
   "cell_type": "code",
   "execution_count": 25,
   "id": "3f598992-73d6-4b5a-906d-3184f1b9625f",
   "metadata": {},
   "outputs": [],
   "source": [
    "G_t = [[1, 1]]\n",
    "G_t = np.array(G_t).T"
   ]
  },
  {
   "cell_type": "code",
   "execution_count": 26,
   "id": "17ef8c41-26ff-4e49-98f8-8f6c31b4eb63",
   "metadata": {},
   "outputs": [
    {
     "data": {
      "text/plain": [
       "(2, 1)"
      ]
     },
     "execution_count": 26,
     "metadata": {},
     "output_type": "execute_result"
    }
   ],
   "source": [
    "G_t.shape"
   ]
  },
  {
   "cell_type": "code",
   "execution_count": 27,
   "id": "a84cb0e3-2f5e-4207-b092-d2768b52205a",
   "metadata": {},
   "outputs": [],
   "source": [
    "def get_predictions(data1, data2, initial_ensembles, fudging_beta  =fudging_beta): \n",
    "    _,_, weighted_alogp, w1, w2 = forward_operation(data1, data2, initial_ensembles, size_ens = size_ens, fudging_beta = fudging_beta)\n",
    "    return weighted_alogp, w1, w2"
   ]
  },
  {
   "cell_type": "code",
   "execution_count": 28,
   "id": "37b60b37-92b1-4784-85fc-59a865d2398f",
   "metadata": {},
   "outputs": [],
   "source": [
    "def get_predictions_test(data1, data2, initial_ensembles): \n",
    "    _,_, weighted_alogp, w1, w2 = forward_operation_test(data1, data2, initial_ensembles, size_ens = size_ens)\n",
    "    return weighted_alogp, w1, w2"
   ]
  },
  {
   "cell_type": "code",
   "execution_count": 29,
   "id": "3af0a9b9-6202-40e2-911f-3c890213099f",
   "metadata": {},
   "outputs": [],
   "source": [
    "def calculate_mu_bar_G_bar(data1, data2, initial_ensembles, fudging_beta):\n",
    "    H_t = np.hstack((np.identity(data1.shape[0]), np.zeros((data1.shape[0], samp_ann_params + 1  + 1))))\n",
    "    mu_bar = initial_ensembles.mean(0)\n",
    "    X_t, _,_, _, _ = forward_operation(data1, data2, initial_ensembles, size_ens = size_ens, fudging_beta = fudging_beta)\n",
    "    X_t = X_t.transpose((0,2,1))\n",
    "    X_t = X_t.reshape(X_t.shape[0], X_t.shape[1]*X_t.shape[2])\n",
    "    script_H_t = np.kron(G_t.T, H_t)\n",
    "    G_u = (script_H_t@X_t.T)\n",
    "    G_u = G_u.T\n",
    "    G_bar = (G_u.mean(0)).ravel()\n",
    "    return mu_bar.reshape(-1,1), G_bar.reshape(-1,1), G_u"
   ]
  },
  {
   "cell_type": "code",
   "execution_count": 30,
   "id": "7334c80c-cfcd-4d5b-b844-11cfb8c137df",
   "metadata": {},
   "outputs": [],
   "source": [
    "def calculate_C_u(initial_ensembles, mu_bar, G_bar, G_u): \n",
    "    u_j_minus_u_bar = initial_ensembles - mu_bar.reshape(1,-1)\n",
    "    G_u_minus_G_bar = G_u -  G_bar.reshape(1,-1)\n",
    "    c = np.zeros((total_weights, G_bar.shape[0]))\n",
    "    for i in range(0, size_ens): \n",
    "        c += np.kron(u_j_minus_u_bar[i, :].T.reshape(-1,1), G_u_minus_G_bar[i,:].reshape(-1,1).T)\n",
    "    return c/size_ens, G_u_minus_G_bar"
   ]
  },
  {
   "cell_type": "code",
   "execution_count": 31,
   "id": "9148779c-1a3f-455d-a6ad-00fc1bf69c1f",
   "metadata": {},
   "outputs": [],
   "source": [
    "def calculate_D_u( G_bar, G_u): \n",
    "    G_u_minus_G_bar = G_u -  G_bar.reshape(1,-1)\n",
    "    d = np.zeros((G_bar.shape[0], G_bar.shape[0]))\n",
    "    for i in range(0, size_ens): \n",
    "        d += np.kron(G_u_minus_G_bar[i,:].T.reshape(-1,1), G_u_minus_G_bar[i,:].reshape(-1,1).T)\n",
    "    return d/size_ens"
   ]
  },
  {
   "cell_type": "code",
   "execution_count": 32,
   "id": "6e8459b0-68c1-4d1f-851e-3d7b99f0ffc5",
   "metadata": {},
   "outputs": [],
   "source": [
    "def get_updated_ensemble(data1, data2, initial_ensembles, y_train, size_ens = size_ens, inflation_factor = 1.0, fudging_beta = fudging_beta, \n",
    "                        fudging_var = None):\n",
    "    mu_bar, G_bar, G_u = calculate_mu_bar_G_bar(data1, data2, initial_ensembles, fudging_beta)\n",
    "    C, G_u_minus_G_bar = calculate_C_u(initial_ensembles, mu_bar, G_bar, G_u)\n",
    "    D = calculate_D_u( G_bar, G_u)\n",
    "    _, R_t = create_cov(data1.shape[0],initial_ensembles)\n",
    "    inflation = np.identity(R_t.shape[0])*inflation_factor\n",
    "    D_plus_cov = D + (R_t *inflation_factor)\n",
    "    D_plus_cov_inv = np.linalg.inv(D_plus_cov)\n",
    "    mid_quant = C@D_plus_cov_inv\n",
    "    noise_vec_mean = np.zeros((R_t.shape[0], ))\n",
    "    noise_mvn = mvn(noise_vec_mean, R_t)\n",
    "    fudging = noise_mvn.rvs(size_ens)\n",
    "    interim = (y_train.T.flatten().reshape(1,-1) + fudging)\n",
    "    right_quant = interim - G_u\n",
    "    mid_times_right = mid_quant@right_quant.T\n",
    "    updated_ensemble = (initial_ensembles + mid_times_right.T)\n",
    "    if fudging_var is not None: \n",
    "        mean_vec = np.zeros((updated_ensemble.shape[1],))\n",
    "        cov_mat = np.identity(updated_ensemble.shape[1])*fudging_var\n",
    "        fudging_for_updated_ensembles = mvn(mean_vec, cov_mat)\n",
    "        fudging_for_updated_ensembles_vec = fudging_for_updated_ensembles.rvs(size_ens)\n",
    "        updated_ensemble = updated_ensemble + fudging_for_updated_ensembles_vec\n",
    "    return updated_ensemble"
   ]
  },
  {
   "cell_type": "code",
   "execution_count": 33,
   "id": "c14b236d-6ebf-40e3-9085-97afd2990e4d",
   "metadata": {},
   "outputs": [],
   "source": [
    "target_dim = 1"
   ]
  },
  {
   "cell_type": "code",
   "execution_count": 34,
   "id": "346d07bc-5b61-4e75-a816-a6e22ffe9d76",
   "metadata": {},
   "outputs": [],
   "source": [
    "lambda_D = 1"
   ]
  },
  {
   "cell_type": "code",
   "execution_count": 35,
   "id": "5abd35fb-ea92-449d-894a-162ed1f4aaec",
   "metadata": {},
   "outputs": [],
   "source": [
    "from joblib import Parallel, delayed"
   ]
  },
  {
   "cell_type": "code",
   "execution_count": 36,
   "id": "381fc654-8877-41fd-840a-4b35153f923b",
   "metadata": {},
   "outputs": [],
   "source": [
    "def create_cov(shape, initial_ensembles):\n",
    "    cov_part = initial_ensembles[:, -4:-3]\n",
    "    cov_part = cov_part.mean(0)\n",
    "    variances1 = tf.math.softplus(cov_part).numpy()\n",
    "    n = shape\n",
    "    return variances1, np.identity(n)*variances1"
   ]
  },
  {
   "cell_type": "code",
   "execution_count": 37,
   "id": "7c59ea29-6484-40d5-8777-80cf9ca6cf5d",
   "metadata": {},
   "outputs": [],
   "source": [
    "# idx = 1"
   ]
  },
  {
   "cell_type": "code",
   "execution_count": 38,
   "id": "7649cb4e-4909-404a-86db-cfb8fc2e078b",
   "metadata": {},
   "outputs": [],
   "source": [
    "# with open(\"..//Data//gcn_cdr_train_pca_higher.pickle\", \"rb\") as f: \n",
    "#     catch_train = pickle.load(f)"
   ]
  },
  {
   "cell_type": "code",
   "execution_count": 39,
   "id": "f029a85a-6790-4635-b02f-a8dfd9346e8c",
   "metadata": {},
   "outputs": [],
   "source": [
    "# with open(\"..//Data//gcn_cdr_test_pca_higher.pickle\", \"rb\") as f: \n",
    "#     catch_test = pickle.load(f)"
   ]
  },
  {
   "cell_type": "code",
   "execution_count": 40,
   "id": "9d7cbd6e-ad64-48a9-9e8a-c5d61bf54f7c",
   "metadata": {},
   "outputs": [],
   "source": [
    "with open(\"..//Data//untouched_all_embs_five_fold_5000.pickle\", \"rb\") as f:\n",
    "    catch_train = pickle.load(f)"
   ]
  },
  {
   "cell_type": "code",
   "execution_count": 41,
   "id": "8fb71f53-0e3b-46b6-b890-7d21a1a68fcd",
   "metadata": {},
   "outputs": [],
   "source": [
    "# catch_train[-1].shape"
   ]
  },
  {
   "cell_type": "code",
   "execution_count": 42,
   "id": "1cbefaa8-c226-47fb-a972-1a8207d29766",
   "metadata": {},
   "outputs": [],
   "source": [
    "import random"
   ]
  },
  {
   "cell_type": "code",
   "execution_count": 43,
   "id": "ecd1dd94-68e0-45d4-a875-bb754c7015fa",
   "metadata": {},
   "outputs": [],
   "source": [
    "from sklearn.decomposition import PCA"
   ]
  },
  {
   "cell_type": "code",
   "execution_count": 44,
   "id": "581885f1-2b54-4b7f-9fac-e5827d7d1f18",
   "metadata": {},
   "outputs": [],
   "source": [
    "size_drugs = 60\n",
    "size_omics = 30"
   ]
  },
  {
   "cell_type": "code",
   "execution_count": 45,
   "id": "176445fb-4f30-421a-a710-339955111baa",
   "metadata": {},
   "outputs": [],
   "source": [
    "def prepare_data_train_test(catch_train, idx): \n",
    "    item = catch_train[idx]\n",
    "    a1, a2 = item[0], item[1]\n",
    "    train_drugs_emb, train_gen_expr_emb, train_dna_methyl_emb, train_gen_mut_emb, train_y = a1\n",
    "    test_drugs_emb, test_gen_expr_emb, test_dna_methyl_emb, test_gen_mut_emb, test_y = a2\n",
    "    train_lstm = train_drugs_emb\n",
    "\n",
    "    test_lstm = test_drugs_emb\n",
    "\n",
    "    pca = PCA(n_components=size_drugs)\n",
    "    train_lstm = pca.fit_transform(train_lstm)\n",
    "    # valid_lstm = pca.transform(valid_lstm)\n",
    "    test_lstm = pca.transform(test_lstm)\n",
    "    \n",
    "    # print(train_lstm.shape)\n",
    "\n",
    "#     train_doc2vec_gen_expr = train_gen_expr_emb\n",
    "#     test_doc2vec_gen_expr = test_gen_expr_emb\n",
    "    \n",
    "#     pca = PCA(n_components=size_omics)\n",
    "#     train_doc2vec_gen_expr = pca.fit_transform(train_doc2vec_gen_expr)\n",
    "#     test_doc2vec_gen_expr = pca.transform(test_doc2vec_gen_expr)\n",
    "    \n",
    "    train_doc2vec_gen_mut = train_gen_mut_emb\n",
    "    test_doc2vec_gen_mut = test_gen_mut_emb\n",
    "    \n",
    "    pca = PCA(n_components=size_omics)\n",
    "    train_doc2vec_gen_mut = pca.fit_transform(train_doc2vec_gen_mut)\n",
    "    test_doc2vec_gen_mut = pca.transform(test_doc2vec_gen_mut)\n",
    "    \n",
    "    train_doc2vec_dna_methyl = train_dna_methyl_emb\n",
    "    test_doc2vec_dna_methyl = test_dna_methyl_emb\n",
    "    \n",
    "    pca = PCA(n_components=size_omics)\n",
    "    train_doc2vec_dna_methyl = pca.fit_transform(train_doc2vec_dna_methyl)\n",
    "    test_doc2vec_dna_methyl = pca.transform(test_doc2vec_dna_methyl)\n",
    "    \n",
    "    train_drugs = train_lstm\n",
    "    \n",
    "    test_drugs = test_lstm\n",
    "    \n",
    "    train_omics = np.hstack((train_doc2vec_gen_mut, train_doc2vec_dna_methyl))\n",
    "\n",
    "    test_omics = np.hstack((test_doc2vec_gen_mut, test_doc2vec_dna_methyl))\n",
    "    \n",
    "    \n",
    "    train_lstm = train_drugs\n",
    "    test_lstm = test_drugs\n",
    "    \n",
    "    train_doc2vec = train_omics\n",
    "    test_doc2vec = test_omics\n",
    "    \n",
    "    return train_lstm, train_doc2vec, test_lstm, test_doc2vec, train_y,  test_y"
   ]
  },
  {
   "cell_type": "code",
   "execution_count": 46,
   "id": "d2a4da04-1a68-4b91-ad62-e6c027c91fa2",
   "metadata": {},
   "outputs": [],
   "source": [
    "train_lstm, train_doc2vec, test_lstm, test_doc2vec, train_y,  test_y =  prepare_data_train_test(catch_train, 0)"
   ]
  },
  {
   "cell_type": "code",
   "execution_count": 47,
   "id": "13588429-db27-4f9b-9472-1473e0d9dc07",
   "metadata": {},
   "outputs": [
    {
     "data": {
      "text/plain": [
       "(4000, 60)"
      ]
     },
     "execution_count": 47,
     "metadata": {},
     "output_type": "execute_result"
    }
   ],
   "source": [
    "train_lstm.shape"
   ]
  },
  {
   "cell_type": "code",
   "execution_count": 48,
   "id": "16b5d717-9a67-4fcb-a565-5c13a88a11bc",
   "metadata": {},
   "outputs": [
    {
     "data": {
      "text/plain": [
       "(1000, 60)"
      ]
     },
     "execution_count": 48,
     "metadata": {},
     "output_type": "execute_result"
    }
   ],
   "source": [
    "test_lstm.shape"
   ]
  },
  {
   "cell_type": "code",
   "execution_count": 49,
   "id": "6631bfa6-b392-44a9-9e34-7548bc7810e8",
   "metadata": {},
   "outputs": [],
   "source": [
    "# current_test = [data1_test, data2_test, y_test]"
   ]
  },
  {
   "cell_type": "code",
   "execution_count": 50,
   "id": "aadbd46f-4890-40cc-8176-f292b9c45cac",
   "metadata": {},
   "outputs": [],
   "source": [
    "from scipy.stats import pearsonr"
   ]
  },
  {
   "cell_type": "code",
   "execution_count": 51,
   "id": "09e61be2-f070-4e18-8583-66f0cdc24501",
   "metadata": {},
   "outputs": [],
   "source": [
    "def chunks(lst, n):\n",
    "    \"\"\"Yield successive n-sized chunks from lst.\"\"\"\n",
    "    for i in range(0, len(lst), n):\n",
    "        yield lst[i:i + n]"
   ]
  },
  {
   "cell_type": "code",
   "execution_count": 52,
   "id": "8a1acec2-599f-4ec7-9ad4-1183a7b09dde",
   "metadata": {},
   "outputs": [],
   "source": [
    "batch_size = train_lstm.shape[0]"
   ]
  },
  {
   "cell_type": "code",
   "execution_count": 53,
   "id": "02e369a5-74ae-464b-97fb-69791238b973",
   "metadata": {},
   "outputs": [],
   "source": [
    "import random"
   ]
  },
  {
   "cell_type": "code",
   "execution_count": 54,
   "id": "c0fa6a26-3f92-4a59-a52b-95211f3d670d",
   "metadata": {},
   "outputs": [],
   "source": [
    "from tqdm import tqdm_notebook"
   ]
  },
  {
   "cell_type": "code",
   "execution_count": 55,
   "id": "65bf21e9-92c6-4824-93c3-87274b072afa",
   "metadata": {},
   "outputs": [],
   "source": [
    "def get_results(idx, var_weights = 1.0, var_weight_weights = 1.0, var_D = 0.01, inflation_factor = 1.6, fudging_beta = beta(1,19), \n",
    "               fudging_var = 1e-3, print_true = True):\n",
    "    \n",
    "    # smiles_feats_train, rdkit_feats_train, smiles_feats_valid, rdkit_feats_valid, y_train, y_train_actual, y_valid, y_valid_actual, initial_ensembles  = prepare_data(idx, var_weights = var_weights, var_weight_weights =var_weight_weights, var_L = var_L, var_D = var_D)\n",
    "    w1_catch = []\n",
    "    w2_catch = []\n",
    "\n",
    "    train_rmse = []\n",
    "    test_rmse = []\n",
    "    # print(\"done initializing\")\n",
    "    \n",
    "    best_rmse_train = 10000\n",
    "    \n",
    "    train_lstm, train_doc2vec, test_lstm, test_doc2vec, train_y,  test_y =  prepare_data_train_test(catch_train, idx)\n",
    "\n",
    "    train_idxes = random.sample(range(0, train_lstm.shape[0]), k = train_lstm.shape[0])\n",
    "    \n",
    "    train_chunks = list(chunks(train_idxes, batch_size))\n",
    "    \n",
    "    _, initial_ensembles, initial_ensembles_for_weights, initial_ensembles_for_D = get_initial_X_t(train_lstm, train_doc2vec,\n",
    "                                                                                                 size_ens = size_ens, var_weights = var_weights,\n",
    "                                                                                                var_weight_weights = var_weight_weights,\n",
    "                                                                                                             var_D = var_D)\n",
    "    \n",
    "    initial_ensembles = np.hstack((initial_ensembles, initial_ensembles_for_weights, initial_ensembles_for_D))\n",
    "    patience = 0\n",
    "    \n",
    "    for i in range(0,300):\n",
    "        \n",
    "        train_chunks = random.sample(train_chunks, len(train_chunks))\n",
    "        \n",
    "        if print_true == True:\n",
    "            print(\"epoch number is \" +str(i))\n",
    "        \n",
    "        for chunk in (train_chunks):\n",
    "            print(\"done\")\n",
    "            # data1_train, data2_train, y_train = prepare_data_train(catch_train, chunk)\n",
    "            \n",
    "            data1_train, data2_train, y_train =  train_lstm[chunk,:], train_doc2vec[chunk,:], train_y[chunk,:]\n",
    "            \n",
    "            initial_ensembles = get_updated_ensemble(data1_train, data2_train, initial_ensembles, y_train, size_ens = size_ens,\n",
    "                                                 inflation_factor = inflation_factor, fudging_beta = fudging_beta, fudging_var = fudging_var)\n",
    "        \n",
    "        G_u_train, w1, w2 = get_predictions(train_lstm, train_doc2vec, initial_ensembles, fudging_beta)\n",
    "        w1_catch.append([w1.mean(), w1.std()])\n",
    "        w2_catch.append([w2.mean(), w2.std()])\n",
    "    \n",
    "        li_train = np.percentile(G_u_train, axis = 0, q = (2.5, 97.5))[0,:].reshape(-1,1)    \n",
    "        ui_train = np.percentile(G_u_train, axis = 0, q = (2.5, 97.5))[1,:].reshape(-1,1)  \n",
    "    \n",
    "        width_train = ui_train - li_train\n",
    "        avg_width_train = width_train.mean(0)[0]\n",
    "    \n",
    "        ind_train = (train_y >= li_train) & (train_y <= ui_train)\n",
    "        coverage_train= ind_train.mean(0)[0]\n",
    "    \n",
    "        averaged_targets_train = G_u_train.mean(0).reshape(-1,1)\n",
    "        rmse_train = np.sqrt(((train_y -averaged_targets_train)**2).mean(0))[0]\n",
    "        \n",
    "        pearsonr_train = pearsonr(averaged_targets_train.reshape(averaged_targets_train.shape[0],), \n",
    "                                 train_y.reshape(train_y.shape[0],))\n",
    "        \n",
    "        r_train = pearsonr_train.statistic\n",
    "    \n",
    "        G_u_test, _, _ = get_predictions_test( test_lstm, test_doc2vec, initial_ensembles)\n",
    "    \n",
    "\n",
    "    \n",
    "        li_test = np.percentile(G_u_test, axis = 0, q = (2.5, 97.5))[0,:].reshape(-1,1)     \n",
    "        ui_test = np.percentile(G_u_test, axis = 0, q = (2.5, 97.5))[1,:].reshape(-1,1)   \n",
    "    \n",
    "        width_test = ui_test - li_test\n",
    "        avg_width_test = width_test.mean(0)[0]\n",
    "    \n",
    "        ind_test = (test_y >= li_test) & (test_y <= ui_test)\n",
    "        coverage_test= ind_test.mean(0)[0]\n",
    "    \n",
    "        averaged_targets_test = G_u_test.mean(0).reshape(-1,1)\n",
    "        rmse_test = np.sqrt(((test_y -averaged_targets_test)**2).mean(0))[0]  \n",
    "        \n",
    "        pearsonr_test = pearsonr(averaged_targets_test.reshape(averaged_targets_test.shape[0],), \n",
    "                                 test_y.reshape(test_y.shape[0],))\n",
    "        \n",
    "        r_test = pearsonr_test.statistic\n",
    "            \n",
    "        train_rmse.append(rmse_train)\n",
    "            \n",
    "        test_rmse.append(rmse_test)\n",
    "            \n",
    "        if print_true == True: \n",
    "            print(\"Training Coverage, Widths, RMSE, and Pearson R\")\n",
    "            print(coverage_train, avg_width_train, rmse_train, r_train)\n",
    "            print(\"Testing Coverage, Widths, RMSE, and Pearson R\")\n",
    "            print(coverage_test, avg_width_test, rmse_test, r_test)\n",
    "                # print(w1.mean(), w1.std())\n",
    "\n",
    "        if (rmse_train < best_rmse_train): \n",
    "            best_pearsonr_train = r_train\n",
    "            # print(\"went here\")\n",
    "            best_train_width_mean = avg_width_train.mean()\n",
    "            best_train_width = avg_width_train\n",
    "            # best_smiles_weight = w1.mean()\n",
    "            best_coverage_train = coverage_train\n",
    "            best_rmse_train = rmse_train\n",
    "            best_pearson_r = r_test\n",
    "            best_test_width = avg_width_test\n",
    "\n",
    "            best_coverage_test = coverage_test    \n",
    "            best_rmse_test = rmse_test\n",
    "            patience = 0\n",
    "            best_ensembles = initial_ensembles\n",
    "            best_w1_weight = w1.mean()\n",
    "            best_w2_weight = w2.mean()\n",
    "            best_test_preds = averaged_targets_test\n",
    "            best_li = li_test\n",
    "            best_ui = ui_test\n",
    "            best_residuals = (test_y -averaged_targets_test)\n",
    "            \n",
    "        else:\n",
    "            patience = patience + 1\n",
    "            \n",
    "        if print_true == True:\n",
    "            print(\"Patience is\")\n",
    "            print(patience)\n",
    "            print('\\n')\n",
    "        \n",
    "        if patience > threshold:\n",
    "            \n",
    "            # print()\n",
    "            # print(best_train_width.tolist(), best_coverage_train.tolist(), best_rmse_train.tolist(), best_test_width.tolist(), best_coverage_test.tolist(), best_rmse_test.tolist(), best_smiles_weight, flush = True)\n",
    "            # print(\"done for fold\" + str(idx), flush = True)\n",
    "            # print(\"train_coverage\" + str(best_coverage_train), flush = True)\n",
    "            print(\"test_coverage\" + str(best_coverage_test), flush = True)\n",
    "            # print(\"train_width\" + str(best_train_width), flush = True)\n",
    "            print(\"test_width\" + str(best_test_width), flush = True)\n",
    "            # print(\"smiles_weight\" + str(best_smiles_weight), flush = True)\n",
    "            # print(\"rmse_train\" + str(best_rmse_train), flush = True)\n",
    "            print(\"rmse_test\" + str(best_rmse_test), flush = True)\n",
    "            weights = [best_w1_weight, best_w2_weight]\n",
    "            print(\"weights\", flush = True)\n",
    "            print(weights, flush = True)\n",
    "            print('\\n', flush = True)\n",
    "            # print(\"smiles_weight_ci\" + str([best_li_smiles_weight, best_ui_smiles_weight]), flush = True)\n",
    "            \n",
    "            return [best_train_width, best_coverage_train, best_rmse_train, best_test_width, best_coverage_test, best_rmse_test, best_pearson_r, best_ensembles, train_rmse, test_rmse, best_w1_weight, best_w2_weight, w1_catch, w2_catch, best_test_preds, best_li, best_ui, best_residuals]\n"
   ]
  },
  {
   "cell_type": "code",
   "execution_count": 56,
   "id": "11a8c623-2952-409f-a640-7d89cef6b1aa",
   "metadata": {},
   "outputs": [],
   "source": [
    "threshold = 10"
   ]
  },
  {
   "cell_type": "code",
   "execution_count": 57,
   "id": "14658528-ea1a-4a6f-83bd-f708df0bcd83",
   "metadata": {},
   "outputs": [
    {
     "name": "stdout",
     "output_type": "stream",
     "text": [
      "epoch number is 0\n",
      "done\n",
      "Training Coverage, Widths, RMSE, and Pearson R\n",
      "1.0 90.63160905653622 4.467533836369482 -0.13878955264416304\n",
      "Testing Coverage, Widths, RMSE, and Pearson R\n",
      "1.0 90.55357799273065 4.469428103518282 -0.18444736190613242\n",
      "Patience is\n",
      "0\n",
      "\n",
      "\n",
      "epoch number is 1\n",
      "done\n",
      "Training Coverage, Widths, RMSE, and Pearson R\n",
      "1.0 27.41997075050299 3.2029253350278384 -0.01584468102569918\n",
      "Testing Coverage, Widths, RMSE, and Pearson R\n",
      "1.0 27.390656963911706 3.2477318730907188 -0.08238933146045192\n",
      "Patience is\n",
      "0\n",
      "\n",
      "\n",
      "epoch number is 2\n",
      "done\n",
      "Training Coverage, Widths, RMSE, and Pearson R\n",
      "0.91525 9.144667687138003 2.5358373372554963 0.2580746816027827\n",
      "Testing Coverage, Widths, RMSE, and Pearson R\n",
      "0.912 9.077955051979387 2.6039313772608557 0.1616462460319756\n",
      "Patience is\n",
      "0\n",
      "\n",
      "\n",
      "epoch number is 3\n",
      "done\n",
      "Training Coverage, Widths, RMSE, and Pearson R\n",
      "0.84275 5.69689417706762 1.9728217461124484 0.5643822432000497\n",
      "Testing Coverage, Widths, RMSE, and Pearson R\n",
      "0.82 5.650752255968716 2.077697904839469 0.5013371652198232\n",
      "Patience is\n",
      "0\n",
      "\n",
      "\n",
      "epoch number is 4\n",
      "done\n",
      "Training Coverage, Widths, RMSE, and Pearson R\n",
      "0.895 4.651670677863567 1.3642967296338755 0.7093114297454581\n",
      "Testing Coverage, Widths, RMSE, and Pearson R\n",
      "0.871 4.616460264380238 1.4712483103169767 0.6409083816750515\n",
      "Patience is\n",
      "0\n",
      "\n",
      "\n",
      "epoch number is 5\n",
      "done\n",
      "Training Coverage, Widths, RMSE, and Pearson R\n",
      "0.8975 4.4141854738457456 1.3447859331929974 0.7170350508545326\n",
      "Testing Coverage, Widths, RMSE, and Pearson R\n",
      "0.869 4.3969983272347095 1.4771584410433307 0.6353351336144644\n",
      "Patience is\n",
      "0\n",
      "\n",
      "\n",
      "epoch number is 6\n",
      "done\n",
      "Training Coverage, Widths, RMSE, and Pearson R\n",
      "0.883 4.266029171737252 1.3421919786719085 0.7182094167904778\n",
      "Testing Coverage, Widths, RMSE, and Pearson R\n",
      "0.858 4.2276023018181865 1.4824758201160597 0.6335743762326753\n",
      "Patience is\n",
      "0\n",
      "\n",
      "\n",
      "epoch number is 7\n",
      "done\n",
      "Training Coverage, Widths, RMSE, and Pearson R\n",
      "0.89225 4.365433932997378 1.3383282217470847 0.7200349096151449\n",
      "Testing Coverage, Widths, RMSE, and Pearson R\n",
      "0.871 4.348392692458541 1.4674989633641018 0.6423867221351194\n",
      "Patience is\n",
      "0\n",
      "\n",
      "\n",
      "epoch number is 8\n",
      "done\n",
      "Training Coverage, Widths, RMSE, and Pearson R\n",
      "0.8975 4.449959167293477 1.333242871555747 0.7225558924891622\n",
      "Testing Coverage, Widths, RMSE, and Pearson R\n",
      "0.878 4.424825586072486 1.4599169131289182 0.6461568343242112\n",
      "Patience is\n",
      "0\n",
      "\n",
      "\n",
      "epoch number is 9\n",
      "done\n",
      "Training Coverage, Widths, RMSE, and Pearson R\n",
      "0.903 4.517022334539711 1.3383862200743317 0.7202510424459114\n",
      "Testing Coverage, Widths, RMSE, and Pearson R\n",
      "0.879 4.476452606522192 1.4620587587822653 0.6459109556521041\n",
      "Patience is\n",
      "1\n",
      "\n",
      "\n",
      "epoch number is 10\n",
      "done\n",
      "Training Coverage, Widths, RMSE, and Pearson R\n",
      "0.89375 4.388512014519256 1.3358424104536963 0.7212084401328636\n",
      "Testing Coverage, Widths, RMSE, and Pearson R\n",
      "0.866 4.3527214265929866 1.473656206659313 0.6382784164507413\n",
      "Patience is\n",
      "2\n",
      "\n",
      "\n",
      "epoch number is 11\n",
      "done\n",
      "Training Coverage, Widths, RMSE, and Pearson R\n",
      "0.8985 4.553101650242948 1.336929334485673 0.720687207756968\n",
      "Testing Coverage, Widths, RMSE, and Pearson R\n",
      "0.89 4.525153485716142 1.471224858009508 0.6400726313297643\n",
      "Patience is\n",
      "3\n",
      "\n",
      "\n",
      "epoch number is 12\n",
      "done\n",
      "Training Coverage, Widths, RMSE, and Pearson R\n",
      "0.9195 4.661409069801052 1.3367920621885483 0.7207459645539025\n",
      "Testing Coverage, Widths, RMSE, and Pearson R\n",
      "0.899 4.6264799257228555 1.4534302896640836 0.6501694133759766\n",
      "Patience is\n",
      "4\n",
      "\n",
      "\n",
      "epoch number is 13\n",
      "done\n",
      "Training Coverage, Widths, RMSE, and Pearson R\n",
      "0.91 4.589039488649934 1.3343196727359994 0.7220575175691781\n",
      "Testing Coverage, Widths, RMSE, and Pearson R\n",
      "0.896 4.571824741978842 1.4575937441449747 0.6485104896162568\n",
      "Patience is\n",
      "5\n",
      "\n",
      "\n",
      "epoch number is 14\n",
      "done\n",
      "Training Coverage, Widths, RMSE, and Pearson R\n",
      "0.90575 4.578083709871503 1.3319978240479255 0.7232024053635965\n",
      "Testing Coverage, Widths, RMSE, and Pearson R\n",
      "0.875 4.548671160442423 1.462200813756543 0.6454776625958362\n",
      "Patience is\n",
      "0\n",
      "\n",
      "\n",
      "epoch number is 15\n",
      "done\n",
      "Training Coverage, Widths, RMSE, and Pearson R\n",
      "0.92075 4.774901235338979 1.3378452615783094 0.7207081211043553\n",
      "Testing Coverage, Widths, RMSE, and Pearson R\n",
      "0.903 4.741245292943506 1.4737779527341854 0.6396111777837928\n",
      "Patience is\n",
      "1\n",
      "\n",
      "\n",
      "epoch number is 16\n",
      "done\n",
      "Training Coverage, Widths, RMSE, and Pearson R\n",
      "0.9045 4.596177740620157 1.3368173070502658 0.7208894940899837\n",
      "Testing Coverage, Widths, RMSE, and Pearson R\n",
      "0.883 4.544840999151815 1.4688533398828765 0.6416429643477585\n",
      "Patience is\n",
      "2\n",
      "\n",
      "\n",
      "epoch number is 17\n",
      "done\n",
      "Training Coverage, Widths, RMSE, and Pearson R\n",
      "0.90425 4.609587273726574 1.333074095170701 0.7226056774502209\n",
      "Testing Coverage, Widths, RMSE, and Pearson R\n",
      "0.884 4.578756260963785 1.4715912936645017 0.6402125646669488\n",
      "Patience is\n",
      "3\n",
      "\n",
      "\n",
      "epoch number is 18\n",
      "done\n",
      "Training Coverage, Widths, RMSE, and Pearson R\n",
      "0.903 4.621930877118003 1.3337926569116334 0.7223323012320425\n",
      "Testing Coverage, Widths, RMSE, and Pearson R\n",
      "0.885 4.566736780984441 1.4614418172941352 0.6461178714036124\n",
      "Patience is\n",
      "4\n",
      "\n",
      "\n",
      "epoch number is 19\n",
      "done\n",
      "Training Coverage, Widths, RMSE, and Pearson R\n",
      "0.8975 4.504024047740176 1.334621142769198 0.7218527413121218\n",
      "Testing Coverage, Widths, RMSE, and Pearson R\n",
      "0.875 4.4519287991582175 1.458409750720739 0.6468199163159839\n",
      "Patience is\n",
      "5\n",
      "\n",
      "\n",
      "epoch number is 20\n",
      "done\n",
      "Training Coverage, Widths, RMSE, and Pearson R\n",
      "0.90825 4.5819949099617 1.3333313098930897 0.7229739923212111\n",
      "Testing Coverage, Widths, RMSE, and Pearson R\n",
      "0.889 4.5508544774272695 1.4635843096216492 0.6444129568372885\n",
      "Patience is\n",
      "6\n",
      "\n",
      "\n",
      "epoch number is 21\n",
      "done\n",
      "Training Coverage, Widths, RMSE, and Pearson R\n",
      "0.90925 4.580280800527207 1.3344540567065137 0.7220534137692598\n",
      "Testing Coverage, Widths, RMSE, and Pearson R\n",
      "0.889 4.549164594890757 1.4632546194405454 0.6444603128673142\n",
      "Patience is\n",
      "7\n",
      "\n",
      "\n",
      "epoch number is 22\n",
      "done\n",
      "Training Coverage, Widths, RMSE, and Pearson R\n",
      "0.9035 4.537985112561504 1.3332586434229696 0.7226209266090067\n",
      "Testing Coverage, Widths, RMSE, and Pearson R\n",
      "0.877 4.4941036882790355 1.4535583074978433 0.6496691829224135\n",
      "Patience is\n",
      "8\n",
      "\n",
      "\n",
      "epoch number is 23\n",
      "done\n",
      "Training Coverage, Widths, RMSE, and Pearson R\n",
      "0.9115 4.6528560103159595 1.3341450121066445 0.7221954548847085\n",
      "Testing Coverage, Widths, RMSE, and Pearson R\n",
      "0.891 4.6252773257492565 1.4580779440198446 0.6485076256205393\n",
      "Patience is\n",
      "9\n",
      "\n",
      "\n",
      "epoch number is 24\n",
      "done\n",
      "Training Coverage, Widths, RMSE, and Pearson R\n",
      "0.9125 4.5993292580363665 1.3317970943000674 0.7233714531431947\n",
      "Testing Coverage, Widths, RMSE, and Pearson R\n",
      "0.885 4.541430874083513 1.4677933975857802 0.642269052529258\n",
      "Patience is\n",
      "0\n",
      "\n",
      "\n",
      "epoch number is 25\n",
      "done\n",
      "Training Coverage, Widths, RMSE, and Pearson R\n",
      "0.90475 4.589523059347609 1.3357836697839305 0.7213218286775226\n",
      "Testing Coverage, Widths, RMSE, and Pearson R\n",
      "0.881 4.573140112655707 1.4644608219813953 0.6441481442445584\n",
      "Patience is\n",
      "1\n",
      "\n",
      "\n",
      "epoch number is 26\n",
      "done\n",
      "Training Coverage, Widths, RMSE, and Pearson R\n",
      "0.908 4.668696938891344 1.3369513513163784 0.7206943813650148\n",
      "Testing Coverage, Widths, RMSE, and Pearson R\n",
      "0.887 4.636936796334452 1.475872623244011 0.6367932722452675\n",
      "Patience is\n",
      "2\n",
      "\n",
      "\n",
      "epoch number is 27\n",
      "done\n",
      "Training Coverage, Widths, RMSE, and Pearson R\n",
      "0.91425 4.698454636518304 1.3418471180276377 0.7184439656148602\n",
      "Testing Coverage, Widths, RMSE, and Pearson R\n",
      "0.895 4.639381513775865 1.4633481412702762 0.6439920497157072\n",
      "Patience is\n",
      "3\n",
      "\n",
      "\n",
      "epoch number is 28\n",
      "done\n",
      "Training Coverage, Widths, RMSE, and Pearson R\n",
      "0.9065 4.545447838075202 1.3336084063620408 0.7225560444493747\n",
      "Testing Coverage, Widths, RMSE, and Pearson R\n",
      "0.886 4.52225809576386 1.458061909899059 0.6480779625371847\n",
      "Patience is\n",
      "4\n",
      "\n",
      "\n",
      "epoch number is 29\n",
      "done\n",
      "Training Coverage, Widths, RMSE, and Pearson R\n",
      "0.91225 4.690136520436405 1.3324652623362687 0.7234940311141271\n",
      "Testing Coverage, Widths, RMSE, and Pearson R\n",
      "0.892 4.6357967915712015 1.4626628880442825 0.6473855220848121\n",
      "Patience is\n",
      "5\n",
      "\n",
      "\n",
      "epoch number is 30\n",
      "done\n",
      "Training Coverage, Widths, RMSE, and Pearson R\n",
      "0.8955 4.516620322094746 1.3339160490217672 0.7225240688549776\n",
      "Testing Coverage, Widths, RMSE, and Pearson R\n",
      "0.876 4.492385005194794 1.456708951188065 0.6481977336714785\n",
      "Patience is\n",
      "6\n",
      "\n",
      "\n",
      "epoch number is 31\n",
      "done\n",
      "Training Coverage, Widths, RMSE, and Pearson R\n",
      "0.9025 4.573135129533561 1.337928905185454 0.7208262808261019\n",
      "Testing Coverage, Widths, RMSE, and Pearson R\n",
      "0.874 4.539675327374156 1.475982965555014 0.6398358193745672\n",
      "Patience is\n",
      "7\n",
      "\n",
      "\n",
      "epoch number is 32\n",
      "done\n",
      "Training Coverage, Widths, RMSE, and Pearson R\n",
      "0.90075 4.619953007359116 1.336844959890709 0.7210077070388237\n",
      "Testing Coverage, Widths, RMSE, and Pearson R\n",
      "0.885 4.580712083618408 1.4715267986226215 0.6387160944477432\n",
      "Patience is\n",
      "8\n",
      "\n",
      "\n",
      "epoch number is 33\n",
      "done\n",
      "Training Coverage, Widths, RMSE, and Pearson R\n",
      "0.905 4.583650408900916 1.3372645247175705 0.7213135781282206\n",
      "Testing Coverage, Widths, RMSE, and Pearson R\n",
      "0.873 4.528888600542613 1.4670188353398144 0.645398558453752\n",
      "Patience is\n",
      "9\n",
      "\n",
      "\n",
      "epoch number is 34\n",
      "done\n",
      "Training Coverage, Widths, RMSE, and Pearson R\n",
      "0.9165 4.8052495416686245 1.3347786229862275 0.7221382482402394\n",
      "Testing Coverage, Widths, RMSE, and Pearson R\n",
      "0.894 4.769665337183848 1.4666273647170658 0.6420588547996912\n",
      "Patience is\n",
      "10\n",
      "\n",
      "\n",
      "epoch number is 35\n",
      "done\n",
      "Training Coverage, Widths, RMSE, and Pearson R\n",
      "0.8895 4.359567870951243 1.33108226341924 0.7237193744760562\n",
      "Testing Coverage, Widths, RMSE, and Pearson R\n",
      "0.874 4.334227950187171 1.4637599433900828 0.6445511991790407\n",
      "Patience is\n",
      "0\n",
      "\n",
      "\n",
      "epoch number is 36\n",
      "done\n",
      "Training Coverage, Widths, RMSE, and Pearson R\n",
      "0.916 4.700364589527278 1.3326505576696284 0.7228508880669477\n",
      "Testing Coverage, Widths, RMSE, and Pearson R\n",
      "0.886 4.6627989264770715 1.4595838108531722 0.6462759403686901\n",
      "Patience is\n",
      "1\n",
      "\n",
      "\n",
      "epoch number is 37\n",
      "done\n",
      "Training Coverage, Widths, RMSE, and Pearson R\n",
      "0.89825 4.506745582412633 1.3375178430028465 0.720405157884864\n",
      "Testing Coverage, Widths, RMSE, and Pearson R\n",
      "0.882 4.464110163712718 1.4715624270219736 0.6398693789753143\n",
      "Patience is\n",
      "2\n",
      "\n",
      "\n",
      "epoch number is 38\n",
      "done\n",
      "Training Coverage, Widths, RMSE, and Pearson R\n",
      "0.9125 4.666199388678878 1.33236327471861 0.7229595241167106\n",
      "Testing Coverage, Widths, RMSE, and Pearson R\n",
      "0.883 4.628316636905671 1.4601417798360863 0.6465591083488712\n",
      "Patience is\n",
      "3\n",
      "\n",
      "\n",
      "epoch number is 39\n",
      "done\n",
      "Training Coverage, Widths, RMSE, and Pearson R\n",
      "0.90175 4.65933898396288 1.3355878017903968 0.72164520877667\n",
      "Testing Coverage, Widths, RMSE, and Pearson R\n",
      "0.885 4.609672805768802 1.4688246289249185 0.6429631497077546\n",
      "Patience is\n",
      "4\n",
      "\n",
      "\n",
      "epoch number is 40\n",
      "done\n",
      "Training Coverage, Widths, RMSE, and Pearson R\n",
      "0.908 4.658306541556923 1.3333683244200383 0.7227472960845378\n",
      "Testing Coverage, Widths, RMSE, and Pearson R\n",
      "0.888 4.625272200362283 1.469746788257074 0.6426304620011531\n",
      "Patience is\n",
      "5\n",
      "\n",
      "\n",
      "epoch number is 41\n",
      "done\n",
      "Training Coverage, Widths, RMSE, and Pearson R\n",
      "0.906 4.5934796062194785 1.333993431985315 0.7224675322097239\n",
      "Testing Coverage, Widths, RMSE, and Pearson R\n",
      "0.882 4.575969586114096 1.4700819563784984 0.642588171783294\n",
      "Patience is\n",
      "6\n",
      "\n",
      "\n",
      "epoch number is 42\n",
      "done\n",
      "Training Coverage, Widths, RMSE, and Pearson R\n",
      "0.901 4.4909012944403255 1.3313167056034267 0.723575659980201\n",
      "Testing Coverage, Widths, RMSE, and Pearson R\n",
      "0.874 4.431354107758026 1.4626605018182834 0.6450536961386116\n",
      "Patience is\n",
      "7\n",
      "\n",
      "\n",
      "epoch number is 43\n",
      "done\n",
      "Training Coverage, Widths, RMSE, and Pearson R\n",
      "0.90775 4.706370258633582 1.3335297989668908 0.7224189137661006\n",
      "Testing Coverage, Widths, RMSE, and Pearson R\n",
      "0.892 4.645695997495888 1.471707699492958 0.6391217260302646\n",
      "Patience is\n",
      "8\n",
      "\n",
      "\n",
      "epoch number is 44\n",
      "done\n",
      "Training Coverage, Widths, RMSE, and Pearson R\n",
      "0.9085 4.6617137226545795 1.3327397583087297 0.7231049236486883\n",
      "Testing Coverage, Widths, RMSE, and Pearson R\n",
      "0.886 4.62447330439327 1.4591538530962818 0.6459725070093839\n",
      "Patience is\n",
      "9\n",
      "\n",
      "\n",
      "epoch number is 45\n",
      "done\n",
      "Training Coverage, Widths, RMSE, and Pearson R\n",
      "0.91675 4.7724845799081175 1.3329571540453151 0.7231765845562035\n",
      "Testing Coverage, Widths, RMSE, and Pearson R\n",
      "0.882 4.7384611873790865 1.470724446000596 0.6426621871447227\n",
      "Patience is\n",
      "10\n",
      "\n",
      "\n",
      "epoch number is 46\n",
      "done\n",
      "Training Coverage, Widths, RMSE, and Pearson R\n",
      "0.91725 4.800445289581181 1.335518964364674 0.7216193346601251\n",
      "Testing Coverage, Widths, RMSE, and Pearson R\n",
      "0.899 4.750739677223837 1.456440698241399 0.6475794206508229\n",
      "Patience is\n",
      "11\n",
      "\n",
      "\n",
      "test_coverage0.874\n",
      "test_width4.334227950187171\n",
      "rmse_test1.4637599433900828\n",
      "weights\n",
      "[0.7418762022997502, 0.25812379770024985]\n",
      "\n",
      "\n",
      "CPU times: user 1h 50min 1s, sys: 46min 48s, total: 2h 36min 50s\n",
      "Wall time: 21min 49s\n"
     ]
    }
   ],
   "source": [
    "%%time\n",
    "best_train_width, best_coverage_train, best_rmse_train, best_test_width, best_coverage_test, best_rmse_test, best_pearson_r, best_ensembles, train_rmse, test_rmse, \\\n",
    "best_w1_weight, best_w2_weight, w1_catch, w2_catch, best_test_preds, best_li, best_ui, best_residuals = get_results(0, var_weights = 2, var_weight_weights = 1, var_D = 1, inflation_factor =1, fudging_beta = beta(1,19), \n",
    "           fudging_var = 1*1e-2, print_true = True)"
   ]
  },
  {
   "cell_type": "code",
   "execution_count": 58,
   "id": "9490af0c-5a1b-43fb-8431-b1282db34b54",
   "metadata": {},
   "outputs": [],
   "source": [
    "preds_test, _, _ = get_predictions_test( test_lstm, test_doc2vec, best_ensembles)"
   ]
  },
  {
   "cell_type": "code",
   "execution_count": 59,
   "id": "7779268c-ab61-4401-80a0-44538877c872",
   "metadata": {},
   "outputs": [],
   "source": [
    "averaged_preds_test = preds_test.mean(0).reshape(-1,1)"
   ]
  },
  {
   "cell_type": "code",
   "execution_count": 60,
   "id": "35f093e5-520c-41f0-a675-01ac46f87a1c",
   "metadata": {},
   "outputs": [
    {
     "data": {
      "image/png": "[encoded data removed]",
      "text/plain": [
       "<Figure size 640x480 with 1 Axes>"
      ]
     },
     "metadata": {},
     "output_type": "display_data"
    }
   ],
   "source": [
    "plt.scatter(test_y, averaged_preds_test, alpha = 0.1)\n",
    "plt.axline((0,0), slope = 1, c = \"black\")\n",
    "plt.xlabel(\"Ground Truth Values\")\n",
    "plt.ylabel(\"MEnKF-ANN Predicted Values\")\n",
    "# plt.xticks(fontsize = 10, fontweight = \"bold\")\n",
    "# plt.yticks(fontsize = 10, fontweight = \"bold\")\n",
    "plt.show()"
   ]
  },
  {
   "cell_type": "code",
   "execution_count": 61,
   "id": "7b6dbeca-651e-4d31-89c0-c44e35b4270f",
   "metadata": {},
   "outputs": [],
   "source": [
    "items = [best_train_width, best_coverage_train, best_rmse_train, best_test_width, best_coverage_test, best_rmse_test, best_pearson_r,best_w1_weight, best_w2_weight]"
   ]
  },
  {
   "cell_type": "code",
   "execution_count": 62,
   "id": "4c969db3-06fd-4a30-8f3e-1d1670a03aa0",
   "metadata": {},
   "outputs": [],
   "source": [
    "items_df = pd.DataFrame(items).T"
   ]
  },
  {
   "cell_type": "code",
   "execution_count": 63,
   "id": "01f44639-4484-45c7-bd7c-7745ab18371b",
   "metadata": {},
   "outputs": [],
   "source": [
    "items_df.columns = ['best_train_width', 'best_coverage_train', 'best_rmse_train', 'best_test_width', 'best_coverage_test', 'best_rmse_test', 'best_pearson_r', \n",
    "                   'best_w1_weight', 'best_w2_weight']"
   ]
  },
  {
   "cell_type": "code",
   "execution_count": 64,
   "id": "7ab228b9-c61a-46cb-aa57-7acf4da3b114",
   "metadata": {},
   "outputs": [],
   "source": [
    "items_df = items_df.T"
   ]
  },
  {
   "cell_type": "code",
   "execution_count": 65,
   "id": "925c745c-7a4d-4d78-8f47-9a1d7e11a39a",
   "metadata": {},
   "outputs": [],
   "source": [
    "# items_df.columns = [\"Value\"]"
   ]
  },
  {
   "cell_type": "code",
   "execution_count": 66,
   "id": "d93ed649-b0ba-445d-b28a-ffeb603dc960",
   "metadata": {},
   "outputs": [
    {
     "data": {
      "text/html": [
       "<div>\n",
       "<style scoped>\n",
       "    .dataframe tbody tr th:only-of-type {\n",
       "        vertical-align: middle;\n",
       "    }\n",
       "\n",
       "    .dataframe tbody tr th {\n",
       "        vertical-align: top;\n",
       "    }\n",
       "\n",
       "    .dataframe thead th {\n",
       "        text-align: right;\n",
       "    }\n",
       "</style>\n",
       "<table border=\"1\" class=\"dataframe\">\n",
       "  <thead>\n",
       "    <tr style=\"text-align: right;\">\n",
       "      <th></th>\n",
       "      <th>0</th>\n",
       "    </tr>\n",
       "  </thead>\n",
       "  <tbody>\n",
       "    <tr>\n",
       "      <th>best_train_width</th>\n",
       "      <td>4.359568</td>\n",
       "    </tr>\n",
       "    <tr>\n",
       "      <th>best_coverage_train</th>\n",
       "      <td>0.889500</td>\n",
       "    </tr>\n",
       "    <tr>\n",
       "      <th>best_rmse_train</th>\n",
       "      <td>1.331082</td>\n",
       "    </tr>\n",
       "    <tr>\n",
       "      <th>best_test_width</th>\n",
       "      <td>4.334228</td>\n",
       "    </tr>\n",
       "    <tr>\n",
       "      <th>best_coverage_test</th>\n",
       "      <td>0.874000</td>\n",
       "    </tr>\n",
       "    <tr>\n",
       "      <th>best_rmse_test</th>\n",
       "      <td>1.463760</td>\n",
       "    </tr>\n",
       "    <tr>\n",
       "      <th>best_pearson_r</th>\n",
       "      <td>0.644551</td>\n",
       "    </tr>\n",
       "    <tr>\n",
       "      <th>best_w1_weight</th>\n",
       "      <td>0.741876</td>\n",
       "    </tr>\n",
       "    <tr>\n",
       "      <th>best_w2_weight</th>\n",
       "      <td>0.258124</td>\n",
       "    </tr>\n",
       "  </tbody>\n",
       "</table>\n",
       "</div>"
      ],
      "text/plain": [
       "                            0\n",
       "best_train_width     4.359568\n",
       "best_coverage_train  0.889500\n",
       "best_rmse_train      1.331082\n",
       "best_test_width      4.334228\n",
       "best_coverage_test   0.874000\n",
       "best_rmse_test       1.463760\n",
       "best_pearson_r       0.644551\n",
       "best_w1_weight       0.741876\n",
       "best_w2_weight       0.258124"
      ]
     },
     "execution_count": 66,
     "metadata": {},
     "output_type": "execute_result"
    }
   ],
   "source": [
    "items_df"
   ]
  },
  {
   "cell_type": "code",
   "execution_count": 67,
   "id": "c743cac6-4f17-49ab-9ad0-f35b685d22f1",
   "metadata": {},
   "outputs": [
    {
     "data": {
      "text/plain": [
       "(132, 1000)"
      ]
     },
     "execution_count": 67,
     "metadata": {},
     "output_type": "execute_result"
    }
   ],
   "source": [
    "preds_test.shape"
   ]
  },
  {
   "cell_type": "code",
   "execution_count": 68,
   "id": "0ce0a569-aed6-42db-afa8-83819760c033",
   "metadata": {},
   "outputs": [
    {
     "data": {
      "image/png": "[encoded data removed]",
      "text/plain": [
       "<Figure size 1500x1500 with 16 Axes>"
      ]
     },
     "metadata": {},
     "output_type": "display_data"
    }
   ],
   "source": [
    "random_idx = random.sample(range(test_y.shape[0]), k = 16)\n",
    "fig, axs = plt.subplots(8, 2,figsize=(15, 15))\n",
    "axs = axs.ravel()\n",
    "for idx, i in enumerate(random_idx):\n",
    "    # print(counter)\n",
    "    truth = test_y[i,:]\n",
    "    preds = preds_test[:, i]\n",
    "    percts = np.percentile(preds, axis = 0, q = (2.5, 97.5))\n",
    "    lis = percts[0]\n",
    "    uis = percts[1]\n",
    "    \n",
    "    \n",
    "    axs[idx].hist(preds)\n",
    "    axs[idx].axvline(truth, color='green', linewidth=2)\n",
    "    axs[idx].axvline(lis, color='red', linewidth=2)\n",
    "    axs[idx].axvline(uis, color='red', linewidth=2)\n",
    "\n",
    "# plt.title\n",
    "fig.savefig('gcn_cdr_pred_intervals.png', bbox_inches='tight')\n",
    "plt.show()\n"
   ]
  },
  {
   "cell_type": "code",
   "execution_count": 69,
   "id": "b6080aac-5298-4b62-94cc-a4032a04b0ad",
   "metadata": {},
   "outputs": [
    {
     "data": {
      "image/png": "[encoded data removed]",
      "text/plain": [
       "<Figure size 640x480 with 1 Axes>"
      ]
     },
     "metadata": {},
     "output_type": "display_data"
    }
   ],
   "source": [
    "plt.plot(train_rmse)\n",
    "plt.plot(test_rmse)\n",
    "plt.xlabel(\"Update Iteration\", fontsize = 15, fontweight = \"bold\")\n",
    "plt.ylabel(\"RMSE\", fontsize = 15, fontweight = \"bold\")\n",
    "plt.xticks( fontsize = 10, fontweight = \"bold\")\n",
    "plt.yticks( fontsize = 10, fontweight = \"bold\")\n",
    "plt.show()"
   ]
  },
  {
   "cell_type": "code",
   "execution_count": 70,
   "id": "31471813-3497-4224-acf3-2bd150a35690",
   "metadata": {},
   "outputs": [],
   "source": [
    "# plt.hist(y_train)\n",
    "# plt.show()"
   ]
  },
  {
   "cell_type": "code",
   "execution_count": 71,
   "id": "26cbcc74-a96c-45c2-9e18-c15480f2be2a",
   "metadata": {},
   "outputs": [
    {
     "data": {
      "image/png": "[encoded data removed]",
      "text/plain": [
       "<Figure size 640x480 with 1 Axes>"
      ]
     },
     "metadata": {},
     "output_type": "display_data"
    }
   ],
   "source": [
    "plt.hist(test_y)\n",
    "plt.show()"
   ]
  },
  {
   "cell_type": "code",
   "execution_count": 72,
   "id": "35467dc2-da99-4dd0-b374-affc9d2571d2",
   "metadata": {},
   "outputs": [
    {
     "name": "stderr",
     "output_type": "stream",
     "text": [
      "[Parallel(n_jobs=10)]: Using backend LokyBackend with 10 concurrent workers.\n"
     ]
    },
    {
     "name": "stdout",
     "output_type": "stream",
     "text": [
      "done\n",
      "done\n",
      "done\n",
      "done\n",
      "done\n",
      "done\n",
      "done\n",
      "done\n",
      "done\n",
      "done\n",
      "done\n",
      "done\n",
      "done\n",
      "done\n",
      "done\n",
      "done\n",
      "done\n",
      "done\n",
      "done\n",
      "done\n",
      "done\n",
      "done\n",
      "done\n",
      "done\n",
      "done\n",
      "done\n",
      "done\n",
      "done\n",
      "done\n",
      "done\n",
      "test_coverage0.872\n",
      "test_width4.193869512336218\n",
      "rmse_test1.3867099200008373\n",
      "weights\n",
      "[0.8297027821595965, 0.17029721784040353]\n",
      "\n",
      "\n",
      "done\n",
      "done\n",
      "done\n",
      "done\n",
      "done\n",
      "done\n",
      "done\n",
      "done\n",
      "done\n",
      "done\n",
      "done\n",
      "done\n",
      "done\n",
      "done\n",
      "done\n",
      "done\n",
      "done\n",
      "done\n",
      "done\n",
      "done\n",
      "done\n",
      "done\n",
      "done\n",
      "done\n",
      "done\n",
      "done\n",
      "done\n",
      "done\n",
      "done\n",
      "done\n",
      "done\n",
      "test_coverage0.93\n",
      "test_width5.385625974349143\n",
      "rmse_test1.4682589305799647\n",
      "weights\n",
      "[0.8768278192760984, 0.12317218072390156]\n",
      "\n",
      "\n"
     ]
    },
    {
     "name": "stderr",
     "output_type": "stream",
     "text": [
      "[Parallel(n_jobs=10)]: Done   2 out of   5 | elapsed: 38.3min remaining: 57.5min\n"
     ]
    },
    {
     "name": "stdout",
     "output_type": "stream",
     "text": [
      "done\n",
      "done\n",
      "done\n",
      "done\n",
      "done\n",
      "done\n",
      "done\n",
      "done\n",
      "done\n",
      "done\n",
      "done\n",
      "done\n",
      "done\n",
      "done\n",
      "done\n",
      "done\n",
      "done\n",
      "done\n",
      "done\n",
      "done\n",
      "done\n",
      "done\n",
      "done\n",
      "done\n",
      "done\n",
      "done\n",
      "done\n",
      "done\n",
      "done\n",
      "done\n",
      "done\n",
      "done\n",
      "done\n",
      "done\n",
      "done\n",
      "done\n",
      "done\n",
      "done\n",
      "test_coverage0.878\n",
      "test_width4.612820421669253\n",
      "rmse_test1.377253686885174\n",
      "weights\n",
      "[0.8372216413315252, 0.1627783586684749]\n",
      "\n",
      "\n"
     ]
    },
    {
     "name": "stderr",
     "output_type": "stream",
     "text": [
      "[Parallel(n_jobs=10)]: Done   3 out of   5 | elapsed: 46.6min remaining: 31.1min\n"
     ]
    },
    {
     "name": "stdout",
     "output_type": "stream",
     "text": [
      "done\n",
      "done\n",
      "done\n",
      "done\n",
      "done\n",
      "done\n",
      "done\n",
      "done\n",
      "done\n",
      "done\n",
      "done\n",
      "done\n",
      "done\n",
      "done\n",
      "done\n",
      "done\n",
      "done\n",
      "done\n",
      "done\n",
      "done\n",
      "done\n",
      "done\n",
      "done\n",
      "done\n",
      "done\n",
      "done\n",
      "done\n",
      "done\n",
      "done\n",
      "done\n",
      "done\n",
      "done\n",
      "done\n",
      "done\n",
      "done\n",
      "done\n",
      "done\n",
      "done\n",
      "done\n",
      "done\n",
      "test_coverage0.964\n",
      "test_width5.58419613976674\n",
      "rmse_test1.3591238588170913\n",
      "weights\n",
      "[0.6250029721760073, 0.37499702782399263]\n",
      "\n",
      "\n",
      "done\n",
      "done\n",
      "done\n",
      "done\n",
      "done\n",
      "done\n",
      "done\n",
      "done\n",
      "done\n",
      "done\n",
      "done\n",
      "done\n",
      "done\n",
      "done\n",
      "done\n",
      "done\n",
      "done\n",
      "done\n",
      "done\n",
      "done\n",
      "done\n",
      "done\n",
      "done\n",
      "done\n",
      "done\n",
      "done\n",
      "done\n",
      "done\n",
      "done\n",
      "done\n",
      "done\n",
      "done\n",
      "done\n",
      "done\n",
      "done\n",
      "done\n",
      "done\n",
      "done\n",
      "done\n",
      "done\n",
      "done\n",
      "done\n",
      "done\n",
      "done\n",
      "done\n",
      "done\n",
      "done\n",
      "test_coverage0.895\n",
      "test_width4.705463958493849\n",
      "rmse_test1.3455606637104338\n",
      "weights\n",
      "[0.8423431830322918, 0.1576568169677082]\n",
      "\n",
      "\n"
     ]
    },
    {
     "name": "stderr",
     "output_type": "stream",
     "text": [
      "[Parallel(n_jobs=10)]: Done   5 out of   5 | elapsed: 55.2min remaining:    0.0s\n",
      "[Parallel(n_jobs=10)]: Done   5 out of   5 | elapsed: 55.2min finished\n"
     ]
    }
   ],
   "source": [
    "catch = Parallel(n_jobs = 10, verbose = 8, backend = \"loky\")(delayed(get_results)(idx, var_weights = 2, var_weight_weights = 1, var_D = 1, inflation_factor =1, fudging_beta = beta(1,19), \n",
    "           fudging_var = 1*1e-2, print_true = False) for idx in range(0,5))"
   ]
  },
  {
   "cell_type": "code",
   "execution_count": 73,
   "id": "98993605-92f6-463c-858c-90a367878d65",
   "metadata": {},
   "outputs": [],
   "source": [
    "with open(\"..//Data//Preds_with_PCA_proper_CV_no_valid_all_but_gen_expr_untouched_five_on_5000_cv.pickle\", \"wb\") as f: \n",
    "    pickle.dump(catch, f)"
   ]
  },
  {
   "cell_type": "code",
   "execution_count": 74,
   "id": "729e4e81-2b6f-468b-b5e6-9f163f7f6e7f",
   "metadata": {},
   "outputs": [],
   "source": [
    "with open(\"..//Data//Preds_with_PCA_proper_CV_no_valid_all_but_gen_expr_untouched_five_on_5000_cv.pickle\", \"rb\") as f: \n",
    "    catch = pickle.load(f)"
   ]
  },
  {
   "cell_type": "code",
   "execution_count": 76,
   "id": "7202c3de-aa9b-4caf-a888-6f0b403c8ae2",
   "metadata": {},
   "outputs": [],
   "source": [
    "all_metrics = []\n",
    "all_weights = []\n",
    "for i in range(0,5):\n",
    "    item = catch[i]\n",
    "    metrics = item[:7]\n",
    "    weights = item[-8:-6]\n",
    "    all_metrics.append(metrics)\n",
    "    all_weights.append(weights)\n",
    "    "
   ]
  },
  {
   "cell_type": "code",
   "execution_count": 77,
   "id": "e7810a09-238e-4c52-a240-ce10d4c333b1",
   "metadata": {},
   "outputs": [],
   "source": [
    "all_metrics_df = pd.DataFrame(all_metrics)"
   ]
  },
  {
   "cell_type": "code",
   "execution_count": null,
   "id": "c996a5da-98f1-4ae1-9cc0-451f7e8aeb82",
   "metadata": {},
   "outputs": [],
   "source": [
    "# all_metrics_df.head()"
   ]
  },
  {
   "cell_type": "code",
   "execution_count": 78,
   "id": "75c841de-eac9-4e80-926f-5a5963b8dab3",
   "metadata": {},
   "outputs": [],
   "source": [
    "all_weights_df = pd.DataFrame(all_weights)"
   ]
  },
  {
   "cell_type": "code",
   "execution_count": 79,
   "id": "a17cfa9b-5572-4c54-9359-3b8e8a686c35",
   "metadata": {},
   "outputs": [],
   "source": [
    "all_df = pd.concat([all_metrics_df, all_weights_df], axis = 1)"
   ]
  },
  {
   "cell_type": "code",
   "execution_count": 80,
   "id": "37da7b5c-b592-4c7d-a502-7b6483c7aedb",
   "metadata": {},
   "outputs": [],
   "source": [
    "all_df.columns = ['train_width', 'coverage_train', 'rmse_train', 'test_width', 'coverage_test', 'rmse_test', 'pearson_r', \n",
    "                    \"DeepCDR_Drugs\", \"DeepCDR_Omics\"]"
   ]
  },
  {
   "cell_type": "code",
   "execution_count": 81,
   "id": "49a2fb4f-6c49-4bf1-9c49-bdf6fc68b144",
   "metadata": {},
   "outputs": [
    {
     "data": {
      "text/plain": [
       "train_width       4.890891\n",
       "coverage_train    0.913700\n",
       "rmse_train        1.350203\n",
       "test_width        4.896395\n",
       "coverage_test     0.907800\n",
       "rmse_test         1.387381\n",
       "pearson_r         0.692069\n",
       "DeepCDR_Drugs     0.802220\n",
       "DeepCDR_Omics     0.197780\n",
       "dtype: float64"
      ]
     },
     "execution_count": 81,
     "metadata": {},
     "output_type": "execute_result"
    }
   ],
   "source": [
    "all_df.mean()"
   ]
  },
  {
   "cell_type": "code",
   "execution_count": 82,
   "id": "131b93bb-872e-4c01-8f4d-c3dee3dfc55b",
   "metadata": {},
   "outputs": [
    {
     "data": {
      "text/plain": [
       "train_width       0.637564\n",
       "coverage_train    0.039721\n",
       "rmse_train        0.010938\n",
       "test_width        0.575071\n",
       "coverage_test     0.038681\n",
       "rmse_test         0.047937\n",
       "pearson_r         0.036808\n",
       "DeepCDR_Drugs     0.100701\n",
       "DeepCDR_Omics     0.100701\n",
       "dtype: float64"
      ]
     },
     "execution_count": 82,
     "metadata": {},
     "output_type": "execute_result"
    }
   ],
   "source": [
    "all_df.std()"
   ]
  }
 ],
 "metadata": {
  "kernelspec": {
   "display_name": "enkf",
   "language": "python",
   "name": "enkf"
  },
  "language_info": {
   "codemirror_mode": {
    "name": "ipython",
    "version": 3
   },
   "file_extension": ".py",
   "mimetype": "text/x-python",
   "name": "python",
   "nbconvert_exporter": "python",
   "pygments_lexer": "ipython3",
   "version": "3.11.3"
  }
 },
 "nbformat": 4,
 "nbformat_minor": 5
}
