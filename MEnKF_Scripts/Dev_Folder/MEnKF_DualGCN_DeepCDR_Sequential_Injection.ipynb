{
 "cells": [
  {
   "cell_type": "code",
   "execution_count": 455,
   "id": "aa53e19a-64db-4b1d-9378-c19c8efacd62",
   "metadata": {},
   "outputs": [],
   "source": [
    "import pandas as pd\n",
    "import numpy as np\n",
    "from sklearn.model_selection import KFold\n",
    "from sklearn.feature_selection import VarianceThreshold\n",
    "import random\n",
    "import pickle\n",
    "from sklearn.preprocessing import StandardScaler\n",
    "import os\n",
    "import tensorflow as tf\n",
    "from tqdm.notebook import tqdm\n",
    "from scipy.stats import multivariate_normal as mvn\n",
    "import matplotlib.pyplot as plt\n",
    "from scipy.linalg import block_diag\n",
    "import warnings\n",
    "import os\n",
    "os.environ['TF_CPP_MIN_LOG_LEVEL'] = '3' "
   ]
  },
  {
   "cell_type": "code",
   "execution_count": 456,
   "id": "a6028973-9799-4d8a-b919-a8dd6283faf1",
   "metadata": {},
   "outputs": [],
   "source": [
    "warnings.filterwarnings('ignore')"
   ]
  },
  {
   "cell_type": "code",
   "execution_count": 457,
   "id": "34242ac3-a983-4bab-b092-bfcea4f94a4b",
   "metadata": {},
   "outputs": [],
   "source": [
    "# len(weights_ann_1[0].ravel())"
   ]
  },
  {
   "cell_type": "code",
   "execution_count": 458,
   "id": "d459b853-f520-4181-a9a9-310a6dd20de1",
   "metadata": {},
   "outputs": [],
   "source": [
    "def get_targets_with_weights(batch_data, initial_ensembles, size_ens): \n",
    "    \n",
    "    target_dim = 1\n",
    "    \n",
    "    # weights_ann_1 = ann.get_weights()\n",
    "    \n",
    "    # h1  = ann.layers[1].output.shape[-1]\n",
    "\n",
    "    n_hidden_1 = len(weights_ann_1[0].ravel())\n",
    "    \n",
    "    hidden_weights_1 = initial_ensembles[:,:n_hidden_1].reshape( size_ens, batch_data.shape[1], h1)\n",
    "    \n",
    "    \n",
    "    hidden_output_1 = np.einsum('ij,kjl->kil', batch_data, hidden_weights_1)\n",
    "\n",
    "    \n",
    "    hidden_layer_bias_1 = initial_ensembles[:,n_hidden_1:(n_hidden_1 + h1)].reshape(size_ens, 1,  h1)\n",
    "\n",
    "\n",
    "    hidden_output_1 = hidden_output_1 + hidden_layer_bias_1\n",
    "\n",
    "    n_pred_weights_1 = len(weights_ann_1[2].ravel())\n",
    "\n",
    "    output_weights_1 = initial_ensembles[:,(n_hidden_1 + h1):(n_hidden_1 + h1 + n_pred_weights_1) ].reshape(size_ens, h1, target_dim)\n",
    "\n",
    "\n",
    "    output_1 = np.einsum('ijk,ikl->ijl', hidden_output_1, output_weights_1)\n",
    "\n",
    "\n",
    "    output_layer_bias_1 = initial_ensembles[:,(n_hidden_1 + h1 + n_pred_weights_1):(n_hidden_1 + h1 + n_pred_weights_1 + target_dim)].reshape(size_ens, 1, target_dim)\n",
    "\n",
    "\n",
    "    final_output_1 = output_1 + output_layer_bias_1\n",
    "    \n",
    "    final_output_1 = final_output_1[:,:, 0]\n",
    "    \n",
    "    # print(final_output_1.shape, initial_ensembles.shape)\n",
    "    \n",
    "    stack = np.hstack((final_output_1, initial_ensembles))\n",
    "\n",
    "    \n",
    "    return final_output_1, stack"
   ]
  },
  {
   "cell_type": "code",
   "execution_count": 459,
   "id": "2a66ee4c-4112-4dca-a9cc-68a60d4e316f",
   "metadata": {},
   "outputs": [],
   "source": [
    "def ann(hidden = 32, input_shape = 256, output_shape = 1): \n",
    "    input_layer = tf.keras.layers.Input(shape = (input_shape))\n",
    "    hidden_layer = tf.keras.layers.Dense(hidden)\n",
    "    hidden_output = hidden_layer(input_layer)\n",
    "    pred_layer = tf.keras.layers.Dense(output_shape, activation = \"relu\")\n",
    "    pred_output = pred_layer(hidden_output)\n",
    "#     pred_output = tf.keras.layers.Activation(\"softmax\")(pred_output)\n",
    "    model = tf.keras.models.Model(input_layer, pred_output)\n",
    "    return model"
   ]
  },
  {
   "cell_type": "code",
   "execution_count": 460,
   "id": "e0b9ef03-af61-4ce4-99ff-2f0b5dca639d",
   "metadata": {},
   "outputs": [],
   "source": [
    "def generate_initial_ensembles(num_weights, lambda1, size_ens):\n",
    "    mean_vec = np.zeros((num_weights,))\n",
    "    cov_matrix = lambda1*np.identity(num_weights)\n",
    "    mvn_samp = mvn(mean_vec, cov_matrix)\n",
    "    return mvn_samp.rvs(size_ens)"
   ]
  },
  {
   "cell_type": "code",
   "execution_count": 461,
   "id": "fe2ea2b5-13a4-41c4-8257-c6c18708501b",
   "metadata": {},
   "outputs": [],
   "source": [
    "def expit(x):\n",
    "    \"\"\"Compute softmax values for each sets of scores in x.\"\"\"\n",
    "#     e_x = np.exp(x - np.max(x))\n",
    "    return 1 / (1 + np.exp(-x))"
   ]
  },
  {
   "cell_type": "code",
   "execution_count": 462,
   "id": "758ac30a-bcc7-4b5e-9314-7fb85f284f70",
   "metadata": {},
   "outputs": [],
   "source": [
    "samp_ann =  ann(hidden = 8, input_shape = 64, output_shape = 1)"
   ]
  },
  {
   "cell_type": "code",
   "execution_count": 463,
   "id": "2548f2de-a4c3-4850-b5cc-439634f5c4de",
   "metadata": {},
   "outputs": [],
   "source": [
    "weights_ann_1 = samp_ann.get_weights()"
   ]
  },
  {
   "cell_type": "code",
   "execution_count": 464,
   "id": "1338dc89-5540-4867-95a6-3d0ea7639cdd",
   "metadata": {},
   "outputs": [],
   "source": [
    "h1  = samp_ann.layers[1].output.shape[-1]"
   ]
  },
  {
   "cell_type": "code",
   "execution_count": 465,
   "id": "4a92b1e3-d9c6-4ce7-959d-aef1376a29d9",
   "metadata": {},
   "outputs": [
    {
     "data": {
      "text/plain": [
       "8"
      ]
     },
     "execution_count": 465,
     "metadata": {},
     "output_type": "execute_result"
    }
   ],
   "source": [
    "h1"
   ]
  },
  {
   "cell_type": "code",
   "execution_count": 466,
   "id": "427b0370-90df-4ab4-85b9-691d082750bf",
   "metadata": {},
   "outputs": [
    {
     "data": {
      "text/plain": [
       "529"
      ]
     },
     "execution_count": 466,
     "metadata": {},
     "output_type": "execute_result"
    }
   ],
   "source": [
    "samp_ann.count_params()"
   ]
  },
  {
   "cell_type": "code",
   "execution_count": 467,
   "id": "06982568-e5c1-4712-895c-7b3d49a09040",
   "metadata": {},
   "outputs": [],
   "source": [
    "hidden_neurons = h1"
   ]
  },
  {
   "cell_type": "code",
   "execution_count": 468,
   "id": "a71c4646-23a6-45ca-9ccc-aa4c3566d8a8",
   "metadata": {},
   "outputs": [],
   "source": [
    "samp_ann_params = samp_ann.count_params()"
   ]
  },
  {
   "cell_type": "code",
   "execution_count": 469,
   "id": "b5f741d7-ba99-4803-8441-5bf2ad3d72f7",
   "metadata": {},
   "outputs": [],
   "source": [
    "def get_initial_X_t(data1, data2, data3, data4, size_ens, var_weights = 1.0, var_weight_weights = 4.0, var_L = 1.0, var_D = 1.0):\n",
    "    # samp_ann =  ann(hidden = hidden_neurons, input_shape = 32, output_shape = 1)\n",
    "    \n",
    "    initial_ensembles1 = generate_initial_ensembles(samp_ann_params, var_weights, size_ens)\n",
    "    data1_out1, data1_stack1 = get_targets_with_weights(data1, initial_ensembles1, size_ens = size_ens)\n",
    "    \n",
    "    initial_ensembles2 = generate_initial_ensembles(samp_ann_params, var_weights, size_ens)\n",
    "    data1_out2, data1_stack2 = get_targets_with_weights(data2, initial_ensembles2, size_ens = size_ens)\n",
    "    \n",
    "    initial_ensembles3 = generate_initial_ensembles(samp_ann_params, var_weights, size_ens)\n",
    "    data2_out1, data2_stack1 = get_targets_with_weights(data3, initial_ensembles3, size_ens = size_ens)\n",
    "    \n",
    "    initial_ensembles4 = generate_initial_ensembles(samp_ann_params, var_weights, size_ens)\n",
    "    data2_out2, data2_stack2 = get_targets_with_weights(data4, initial_ensembles4, size_ens = size_ens)   \n",
    "    \n",
    "    X_t = np.concatenate((np.expand_dims(data1_stack1, -1), np.expand_dims(data1_stack2, -1), \n",
    "                         np.expand_dims(data2_stack1, -1), np.expand_dims(data2_stack2, -1)), axis = -1)\n",
    "    \n",
    "    initial_ensembles_for_weights = generate_initial_ensembles(4, var_weight_weights, size_ens)\n",
    "    initial_ensembles_for_weights = np.expand_dims(initial_ensembles_for_weights,1)\n",
    "    \n",
    "    # initial_ensembles_for_L = generate_initial_ensembles(4, var_L, size_ens)\n",
    "    # initial_ensembles_for_L = np.expand_dims(initial_ensembles_for_L,1)    \n",
    "    \n",
    "    initial_ensembles_for_D1 = generate_initial_ensembles(1, var_D, size_ens).reshape(-1,1)\n",
    "    # initial_ensembles_for_D2 = generate_initial_ensembles(1, var_D, size_ens).reshape(-1,1)\n",
    "    \n",
    "    initial_ensembles_for_D1_zero = np.zeros((size_ens,1,1)).reshape(-1,1)\n",
    "    initial_ensembles_for_D2_zero = np.zeros((size_ens,1,1)).reshape(-1,1)\n",
    "    \n",
    "    initial_ensembles_for_D3_zero = np.zeros((size_ens,1,1)).reshape(-1,1)\n",
    "    \n",
    "    initial_ensembles_for_D = np.concatenate((np.expand_dims(initial_ensembles_for_D1,1),\n",
    "                                                       np.expand_dims(initial_ensembles_for_D1_zero,1), \n",
    "                                                      np.expand_dims(initial_ensembles_for_D2_zero,1),\n",
    "                                                       np.expand_dims(initial_ensembles_for_D3_zero,1)), axis = 2)\n",
    "    \n",
    "    # print(X_t.shape, initial_ensembles_for_weights.shape)\n",
    "    \n",
    "    X_t = np.concatenate((X_t, initial_ensembles_for_weights, initial_ensembles_for_D), axis = 1)\n",
    "    \n",
    "    initial_ensembles = np.hstack((initial_ensembles1, initial_ensembles2, initial_ensembles3, initial_ensembles4))\n",
    "    \n",
    "    return X_t, initial_ensembles, initial_ensembles_for_weights[:,0,:], initial_ensembles_for_D[:,0,:]"
   ]
  },
  {
   "cell_type": "code",
   "execution_count": 470,
   "id": "6ac49c8c-6da0-4ee2-9561-e1d19365f182",
   "metadata": {},
   "outputs": [],
   "source": [
    "def get_weighted_targets_with_weights(batch_data, initial_ensembles, size_ens, weights): \n",
    "    \n",
    "    target_dim = 1\n",
    "    \n",
    "\n",
    "    n_hidden_1 = len(weights_ann_1[0].ravel())\n",
    "    \n",
    "    hidden_weights_1 = initial_ensembles[:,:n_hidden_1].reshape( size_ens, batch_data.shape[1], h1)\n",
    "    \n",
    "    \n",
    "    hidden_output_1 = np.einsum('ij,kjl->kil', batch_data, hidden_weights_1)\n",
    "\n",
    "    \n",
    "    hidden_layer_bias_1 = initial_ensembles[:,n_hidden_1:(n_hidden_1 + h1)].reshape(size_ens, 1,  h1)\n",
    "\n",
    "\n",
    "    hidden_output_1 = hidden_output_1 + hidden_layer_bias_1\n",
    "\n",
    "    n_pred_weights_1 = len(weights_ann_1[2].ravel())\n",
    "\n",
    "    output_weights_1 = initial_ensembles[:,(n_hidden_1 + h1):(n_hidden_1 + h1 + n_pred_weights_1) ].reshape(size_ens, h1, target_dim)\n",
    "\n",
    "\n",
    "    output_1 = np.einsum('ijk,ikl->ijl', hidden_output_1, output_weights_1)\n",
    "\n",
    "\n",
    "    output_layer_bias_1 = initial_ensembles[:,(n_hidden_1 + h1 + n_pred_weights_1):(n_hidden_1 + h1 + n_pred_weights_1 + target_dim)].reshape(size_ens, 1, target_dim)\n",
    "\n",
    "\n",
    "    final_output_1 = output_1 + output_layer_bias_1\n",
    "    \n",
    "    final_output_1 = final_output_1[:,:, 0]\n",
    "    \n",
    "    final_output_1 = final_output_1*weights\n",
    "    \n",
    "    # print(final_output_1.shape, initial_ensembles.shape)\n",
    "    \n",
    "    stack = np.hstack((final_output_1, initial_ensembles))\n",
    "\n",
    "    \n",
    "    return final_output_1, stack"
   ]
  },
  {
   "cell_type": "code",
   "execution_count": 471,
   "id": "c5a2f9ca-f4b4-445a-ab5f-e0f0557f54a9",
   "metadata": {},
   "outputs": [],
   "source": [
    "from scipy.stats import beta"
   ]
  },
  {
   "cell_type": "code",
   "execution_count": 472,
   "id": "44ed09c8-f6b0-4b40-86e0-1975541fd0ac",
   "metadata": {},
   "outputs": [],
   "source": [
    "fudging_beta = beta(1,9)"
   ]
  },
  {
   "cell_type": "code",
   "execution_count": 473,
   "id": "9d1a4f5e-7a0d-42b7-ad45-59c708b7b727",
   "metadata": {},
   "outputs": [],
   "source": [
    "def forward_operation(data1, data2, data3, data4, combined_ensembles , size_ens, fudging_beta):\n",
    "    # samp_ann =  ann(hidden = hidden_neurons, input_shape = 32, output_shape = 1)\n",
    "    params = samp_ann_params\n",
    "    initial_ensembles1 = combined_ensembles[:, :params]\n",
    "    initial_ensembles2 = combined_ensembles[:, params:(2*params)]\n",
    "    initial_ensembles3 = combined_ensembles[:, (2*params):(3*params)]\n",
    "    initial_ensembles4 = combined_ensembles[:, (3*params):(4*params)]\n",
    "\n",
    "    \n",
    "    initial_ensembles_for_weights = combined_ensembles[:, (4*params):(4*params + 4)]\n",
    "    \n",
    "    # initial_ensembles_for_L = combined_ensembles[:, (4*params + 4):(4*params + 4 + 4)]\n",
    "    \n",
    "    initial_ensembles_for_D = combined_ensembles[:,(4*params + 4):(4*params + 4 + 4 )]\n",
    "    \n",
    "    \n",
    "    softmax_weights = tf.math.softmax(initial_ensembles_for_weights).numpy()\n",
    "    \n",
    "    model_1 = softmax_weights[:, 0].reshape(-1,1) \n",
    "    \n",
    "    # model_1 = np.min(model_1 -fudging_factor)\n",
    "    \n",
    "    model_2 = softmax_weights[:, 1].reshape(-1,1) \n",
    "    \n",
    "    model_3 = softmax_weights[:, 2].reshape(-1,1) \n",
    "    \n",
    "    model_4 = softmax_weights[:, 3].reshape(-1,1)\n",
    "    \n",
    "    sum_weights = model_1 + model_2 + model_3 + model_4\n",
    "    \n",
    "    \n",
    "    # model_1_plus_model_2 = model_1 + model_2\n",
    "    \n",
    "    model_1 = model_1/sum_weights\n",
    "    \n",
    "    model_2 = model_2/sum_weights\n",
    "    \n",
    "    model_3 = model_3/sum_weights\n",
    "    \n",
    "    model_4 = model_4/sum_weights\n",
    "    \n",
    "    \n",
    "    # print(np.mean(model_1 + model_2))\n",
    "    \n",
    "    data1_out1, data1_stack1 = get_weighted_targets_with_weights(data1, initial_ensembles1, size_ens = size_ens,\n",
    "                                                                  weights=model_1)\n",
    "    \n",
    "    data1_out2, data1_stack2 = get_weighted_targets_with_weights(data2, initial_ensembles2, size_ens = size_ens,\n",
    "                                                                weights=model_2)\n",
    "    \n",
    "    data2_out1, data2_stack1 = get_weighted_targets_with_weights(data3, initial_ensembles3, size_ens = size_ens,\n",
    "                                                                 weights=model_3)\n",
    "    \n",
    "    data2_out2, data2_stack2 = get_weighted_targets_with_weights(data4, initial_ensembles4, size_ens = size_ens,\n",
    "                                                                  weights=model_4)   \n",
    "    \n",
    "    X_t = np.concatenate((np.expand_dims(data1_stack1, -1), np.expand_dims(data1_stack2, -1), \n",
    "                         np.expand_dims(data2_stack1, -1), np.expand_dims(data2_stack2, -1)), axis = -1)\n",
    "    \n",
    "    initial_ensembles = np.hstack((initial_ensembles1, initial_ensembles2, initial_ensembles3, initial_ensembles4, \n",
    "                        initial_ensembles_for_weights, initial_ensembles_for_D))\n",
    "    \n",
    "    # print(X_t.shape)\n",
    "    \n",
    "    initial_ensembles_for_weights = np.expand_dims(initial_ensembles_for_weights,1)\n",
    "    \n",
    "    # initial_ensembles_for_L = np.expand_dims(initial_ensembles_for_L,1)\n",
    "    \n",
    "    initial_ensembles_for_D = np.expand_dims(initial_ensembles_for_D,1)\n",
    "    \n",
    "    # print(initial_ensembles_for_weights.shape)\n",
    "    \n",
    "    X_t = np.concatenate((X_t, initial_ensembles_for_weights, initial_ensembles_for_D), axis = 1)\n",
    "    \n",
    "    final_output = data1_out1 + data1_out2 + data2_out1 + data2_out2\n",
    "    \n",
    "    # weighted_psa = data1_out2 + data2_out2\n",
    "    \n",
    "    return X_t, initial_ensembles,final_output, model_1, model_2, model_3, model_4"
   ]
  },
  {
   "cell_type": "code",
   "execution_count": 474,
   "id": "c6bd2eb3-86b7-41ed-81b4-4dd8e44e106e",
   "metadata": {},
   "outputs": [],
   "source": [
    "def forward_operation_test(data1, data2, data3, data4, combined_ensembles , size_ens):\n",
    "    # samp_ann =  ann(hidden = hidden_neurons, input_shape = 32, output_shape = 1)\n",
    "    params = samp_ann_params\n",
    "    initial_ensembles1 = combined_ensembles[:, :params]\n",
    "    initial_ensembles2 = combined_ensembles[:, params:(2*params)]\n",
    "    initial_ensembles3 = combined_ensembles[:, (2*params):(3*params)]\n",
    "    initial_ensembles4 = combined_ensembles[:, (3*params):(4*params)]\n",
    "\n",
    "    \n",
    "    initial_ensembles_for_weights = combined_ensembles[:, (4*params):(4*params + 4)]\n",
    "    \n",
    "    # initial_ensembles_for_L = combined_ensembles[:, (4*params + 4):(4*params + 4 + 4)]\n",
    "    \n",
    "    initial_ensembles_for_D = combined_ensembles[:,(4*params + 4):(4*params + 4 + 4)]\n",
    "    \n",
    "    \n",
    "    softmax_weights = tf.math.softmax(initial_ensembles_for_weights).numpy()\n",
    "    \n",
    "    model_1 = softmax_weights[:, :1].reshape(-1,1) \n",
    "    \n",
    "    # model_1 = np.min(model_1 -fudging_factor)\n",
    "    \n",
    "    model_2 = softmax_weights[:, 1:2].reshape(-1,1) \n",
    "    \n",
    "    model_3 = softmax_weights[:, 2:3].reshape(-1,1)\n",
    "    \n",
    "    model_4 = softmax_weights[:, 3:4].reshape(-1,1)\n",
    "    \n",
    "    sum_weights = model_1 + model_2 + model_3 + model_4\n",
    "    \n",
    "    \n",
    "    # model_1_plus_model_2 = model_1 + model_2\n",
    "    \n",
    "    model_1 = model_1/sum_weights\n",
    "    \n",
    "    model_2 = model_2/sum_weights\n",
    "    \n",
    "    model_3 = model_3/sum_weights\n",
    "    \n",
    "    model_4 = model_4/sum_weights\n",
    "    \n",
    "    data1_out1, data1_stack1 = get_weighted_targets_with_weights(data1, initial_ensembles1, size_ens = size_ens,\n",
    "                                                                  weights=model_1)\n",
    "    \n",
    "    data1_out2, data1_stack2 = get_weighted_targets_with_weights(data2, initial_ensembles2, size_ens = size_ens,\n",
    "                                                                weights=model_2)\n",
    "    \n",
    "    data2_out1, data2_stack1 = get_weighted_targets_with_weights(data3, initial_ensembles3, size_ens = size_ens,\n",
    "                                                                 weights=model_3)\n",
    "    \n",
    "    data2_out2, data2_stack2 = get_weighted_targets_with_weights(data4, initial_ensembles4, size_ens = size_ens,\n",
    "                                                                  weights=model_4)   \n",
    "    \n",
    "    X_t = np.concatenate((np.expand_dims(data1_stack1, -1), np.expand_dims(data1_stack2, -1), \n",
    "                         np.expand_dims(data2_stack1, -1), np.expand_dims(data2_stack2, -1)), axis = -1)\n",
    "    \n",
    "    initial_ensembles = np.hstack((initial_ensembles1, initial_ensembles2, initial_ensembles3, initial_ensembles4, \n",
    "                        initial_ensembles_for_weights, initial_ensembles_for_D))\n",
    "    \n",
    "    # print(X_t.shape)\n",
    "    \n",
    "    initial_ensembles_for_weights = np.expand_dims(initial_ensembles_for_weights,1)\n",
    "    \n",
    "    # initial_ensembles_for_L = np.expand_dims(initial_ensembles_for_L,1)\n",
    "    \n",
    "    initial_ensembles_for_D = np.expand_dims(initial_ensembles_for_D,1)\n",
    "    \n",
    "    # print(initial_ensembles_for_weights.shape)\n",
    "    \n",
    "    X_t = np.concatenate((X_t, initial_ensembles_for_weights, initial_ensembles_for_D), axis = 1)\n",
    "    \n",
    "    final_output = data1_out1 + data1_out2 + data2_out1 + data2_out2\n",
    "    \n",
    "    return X_t, initial_ensembles, final_output, model_1, model_2, model_3, model_4"
   ]
  },
  {
   "cell_type": "code",
   "execution_count": 475,
   "id": "af3dd570-7ab3-4eae-bd8e-9a57a333b30a",
   "metadata": {},
   "outputs": [],
   "source": [
    "total_weights = 4*(samp_ann.count_params() + 1 + 1)"
   ]
  },
  {
   "cell_type": "code",
   "execution_count": 476,
   "id": "e820b010-4396-4b7a-8781-a8e6d503aad5",
   "metadata": {},
   "outputs": [],
   "source": [
    "reduction = 20"
   ]
  },
  {
   "cell_type": "code",
   "execution_count": 477,
   "id": "e5fbaaf7-afae-4008-a26c-e0691ef9b3f9",
   "metadata": {},
   "outputs": [],
   "source": [
    "size_ens = total_weights//reduction\n",
    "# total_weights//reduction"
   ]
  },
  {
   "cell_type": "code",
   "execution_count": 478,
   "id": "a5111536-1a97-4390-9658-c9848a136a3f",
   "metadata": {},
   "outputs": [
    {
     "data": {
      "text/plain": [
       "106"
      ]
     },
     "execution_count": 478,
     "metadata": {},
     "output_type": "execute_result"
    }
   ],
   "source": [
    "size_ens"
   ]
  },
  {
   "cell_type": "code",
   "execution_count": 479,
   "id": "3f598992-73d6-4b5a-906d-3184f1b9625f",
   "metadata": {},
   "outputs": [],
   "source": [
    "G_t = [[1, 1, 1, 1]]\n",
    "G_t = np.array(G_t).T"
   ]
  },
  {
   "cell_type": "code",
   "execution_count": 480,
   "id": "17ef8c41-26ff-4e49-98f8-8f6c31b4eb63",
   "metadata": {},
   "outputs": [
    {
     "data": {
      "text/plain": [
       "(4, 1)"
      ]
     },
     "execution_count": 480,
     "metadata": {},
     "output_type": "execute_result"
    }
   ],
   "source": [
    "G_t.shape"
   ]
  },
  {
   "cell_type": "code",
   "execution_count": 481,
   "id": "a84cb0e3-2f5e-4207-b092-d2768b52205a",
   "metadata": {},
   "outputs": [],
   "source": [
    "def get_predictions(data1, data2, data3, data4, initial_ensembles, fudging_beta  =fudging_beta): \n",
    "    _,_, weighted_alogp, w1, w2, w3, w4 = forward_operation(data1, data2, data3, data4, initial_ensembles, size_ens = size_ens, fudging_beta = fudging_beta)\n",
    "    return weighted_alogp, w1, w2, w3, w4"
   ]
  },
  {
   "cell_type": "code",
   "execution_count": 482,
   "id": "37b60b37-92b1-4784-85fc-59a865d2398f",
   "metadata": {},
   "outputs": [],
   "source": [
    "def get_predictions_test(data1, data2, data3, data4, initial_ensembles): \n",
    "    _,_, weighted_alogp, w1, w2, w3, w4 = forward_operation_test(data1, data2, data3, data4, initial_ensembles, size_ens = size_ens)\n",
    "    return weighted_alogp, w1, w2, w3, w4"
   ]
  },
  {
   "cell_type": "code",
   "execution_count": 483,
   "id": "3af0a9b9-6202-40e2-911f-3c890213099f",
   "metadata": {},
   "outputs": [],
   "source": [
    "def calculate_mu_bar_G_bar(data1, data2, data3, data4, initial_ensembles, fudging_beta):\n",
    "    H_t = np.hstack((np.identity(data1.shape[0]), np.zeros((data1.shape[0], samp_ann_params + 1  + 1))))\n",
    "    mu_bar = initial_ensembles.mean(0)\n",
    "    X_t, _,_, _, _, _, _ = forward_operation(data1, data2, data3, data4, initial_ensembles, size_ens = size_ens, fudging_beta = fudging_beta)\n",
    "    X_t = X_t.transpose((0,2,1))\n",
    "    X_t = X_t.reshape(X_t.shape[0], X_t.shape[1]*X_t.shape[2])\n",
    "    script_H_t = np.kron(G_t.T, H_t)\n",
    "    G_u = (script_H_t@X_t.T)\n",
    "    G_u = G_u.T\n",
    "    G_bar = (G_u.mean(0)).ravel()\n",
    "    return mu_bar.reshape(-1,1), G_bar.reshape(-1,1), G_u"
   ]
  },
  {
   "cell_type": "code",
   "execution_count": 484,
   "id": "7334c80c-cfcd-4d5b-b844-11cfb8c137df",
   "metadata": {},
   "outputs": [],
   "source": [
    "def calculate_C_u(initial_ensembles, mu_bar, G_bar, G_u): \n",
    "    u_j_minus_u_bar = initial_ensembles - mu_bar.reshape(1,-1)\n",
    "    G_u_minus_G_bar = G_u -  G_bar.reshape(1,-1)\n",
    "    c = np.zeros((total_weights, G_bar.shape[0]))\n",
    "    for i in range(0, size_ens): \n",
    "        c += np.kron(u_j_minus_u_bar[i, :].T.reshape(-1,1), G_u_minus_G_bar[i,:].reshape(-1,1).T)\n",
    "    return c/size_ens, G_u_minus_G_bar"
   ]
  },
  {
   "cell_type": "code",
   "execution_count": 485,
   "id": "9148779c-1a3f-455d-a6ad-00fc1bf69c1f",
   "metadata": {},
   "outputs": [],
   "source": [
    "def calculate_D_u( G_bar, G_u): \n",
    "    G_u_minus_G_bar = G_u -  G_bar.reshape(1,-1)\n",
    "    d = np.zeros((G_bar.shape[0], G_bar.shape[0]))\n",
    "    for i in range(0, size_ens): \n",
    "        d += np.kron(G_u_minus_G_bar[i,:].T.reshape(-1,1), G_u_minus_G_bar[i,:].reshape(-1,1).T)\n",
    "    return d/size_ens"
   ]
  },
  {
   "cell_type": "code",
   "execution_count": 486,
   "id": "6e8459b0-68c1-4d1f-851e-3d7b99f0ffc5",
   "metadata": {},
   "outputs": [],
   "source": [
    "def get_updated_ensemble(data1, data2, data3, data4, initial_ensembles, y_train, size_ens = size_ens, inflation_factor = 1.0, fudging_beta = fudging_beta, \n",
    "                        fudging_var = None):\n",
    "    mu_bar, G_bar, G_u = calculate_mu_bar_G_bar(data1, data2, data3, data4, initial_ensembles, fudging_beta)\n",
    "    C, G_u_minus_G_bar = calculate_C_u(initial_ensembles, mu_bar, G_bar, G_u)\n",
    "    D = calculate_D_u( G_bar, G_u)\n",
    "    _, R_t = create_cov(data1.shape[0],initial_ensembles)\n",
    "    inflation = np.identity(R_t.shape[0])*inflation_factor\n",
    "    D_plus_cov = D + (R_t *inflation_factor)\n",
    "    D_plus_cov_inv = np.linalg.inv(D_plus_cov)\n",
    "    mid_quant = C@D_plus_cov_inv\n",
    "    noise_vec_mean = np.zeros((R_t.shape[0], ))\n",
    "    noise_mvn = mvn(noise_vec_mean, R_t)\n",
    "    fudging = noise_mvn.rvs(size_ens)\n",
    "    interim = (y_train.T.flatten().reshape(1,-1) + fudging)\n",
    "    right_quant = interim - G_u\n",
    "    mid_times_right = mid_quant@right_quant.T\n",
    "    updated_ensemble = (initial_ensembles + mid_times_right.T)\n",
    "    if fudging_var is not None: \n",
    "        mean_vec = np.zeros((updated_ensemble.shape[1],))\n",
    "        cov_mat = np.identity(updated_ensemble.shape[1])*fudging_var\n",
    "        fudging_for_updated_ensembles = mvn(mean_vec, cov_mat)\n",
    "        fudging_for_updated_ensembles_vec = fudging_for_updated_ensembles.rvs(size_ens)\n",
    "        updated_ensemble = updated_ensemble + fudging_for_updated_ensembles_vec\n",
    "    return updated_ensemble"
   ]
  },
  {
   "cell_type": "code",
   "execution_count": 487,
   "id": "c14b236d-6ebf-40e3-9085-97afd2990e4d",
   "metadata": {},
   "outputs": [],
   "source": [
    "target_dim = 1"
   ]
  },
  {
   "cell_type": "code",
   "execution_count": 488,
   "id": "346d07bc-5b61-4e75-a816-a6e22ffe9d76",
   "metadata": {},
   "outputs": [],
   "source": [
    "lambda_D = 1"
   ]
  },
  {
   "cell_type": "code",
   "execution_count": 489,
   "id": "5abd35fb-ea92-449d-894a-162ed1f4aaec",
   "metadata": {},
   "outputs": [],
   "source": [
    "from joblib import Parallel, delayed"
   ]
  },
  {
   "cell_type": "code",
   "execution_count": 490,
   "id": "381fc654-8877-41fd-840a-4b35153f923b",
   "metadata": {},
   "outputs": [],
   "source": [
    "def create_cov(shape, initial_ensembles):\n",
    "    cov_part = initial_ensembles[:, -4:-3]\n",
    "    cov_part = cov_part.mean(0)\n",
    "    variances1 = tf.math.softplus(cov_part).numpy()\n",
    "    n = shape\n",
    "    return variances1, np.identity(n)*variances1"
   ]
  },
  {
   "cell_type": "code",
   "execution_count": 491,
   "id": "7c59ea29-6484-40d5-8777-80cf9ca6cf5d",
   "metadata": {},
   "outputs": [],
   "source": [
    "# idx = 1"
   ]
  },
  {
   "cell_type": "code",
   "execution_count": 492,
   "id": "7649cb4e-4909-404a-86db-cfb8fc2e078b",
   "metadata": {},
   "outputs": [],
   "source": [
    "with open(\"..//Data//gcn_cdr_train_pca_higher.pickle\", \"rb\") as f: \n",
    "    catch_train = pickle.load(f)"
   ]
  },
  {
   "cell_type": "code",
   "execution_count": 493,
   "id": "f029a85a-6790-4635-b02f-a8dfd9346e8c",
   "metadata": {},
   "outputs": [],
   "source": [
    "with open(\"..//Data//gcn_cdr_test_pca_higher.pickle\", \"rb\") as f: \n",
    "    catch_test = pickle.load(f)"
   ]
  },
  {
   "cell_type": "code",
   "execution_count": 494,
   "id": "1cbefaa8-c226-47fb-a972-1a8207d29766",
   "metadata": {},
   "outputs": [],
   "source": [
    "import random"
   ]
  },
  {
   "cell_type": "code",
   "execution_count": 495,
   "id": "176445fb-4f30-421a-a710-339955111baa",
   "metadata": {},
   "outputs": [],
   "source": [
    "def prepare_data_train(catch_train, idxes): \n",
    "    # idxes = random.sample(range(0, catch_train[0].shape[0]), k = size)\n",
    "    # idxes = list(idxes)\n",
    "    data1, data2, data3, data4 = catch_train[0][idxes,:], catch_train[1][idxes,:], catch_train[2][idxes,:], catch_train[3][idxes,:]\n",
    "    \n",
    "    y_train = catch_train[-1][idxes].reshape(-1,1)\n",
    "    \n",
    "    return data1, data2, data3, data4, y_train "
   ]
  },
  {
   "cell_type": "code",
   "execution_count": 496,
   "id": "d7c13b4e-c9b7-4b7f-bd6e-92ec93cd40e2",
   "metadata": {},
   "outputs": [],
   "source": [
    "def prepare_data_test( catch_test, size): \n",
    "    idxes = random.sample(range(0, catch_test[0].shape[0]), k = size)\n",
    "    idxes = list(idxes)\n",
    "    data1, data2, data3, data4 = catch_test[0][idxes,:], catch_test[1][idxes,:], catch_test[2][idxes,:], catch_test[3][idxes,:]\n",
    "    y_train = catch_test[-1][idxes].reshape(-1,1)\n",
    "    return data1, data2, data3, data4, y_train"
   ]
  },
  {
   "cell_type": "code",
   "execution_count": 497,
   "id": "d2a4da04-1a68-4b91-ad62-e6c027c91fa2",
   "metadata": {},
   "outputs": [],
   "source": [
    "# data1_train, data2_train, data3_train, data4_train, y_train =  prepare_data_train(catch_train, size = 5000)"
   ]
  },
  {
   "cell_type": "code",
   "execution_count": 498,
   "id": "3e54f80e-5b8d-4f46-a24a-2514a3683a02",
   "metadata": {},
   "outputs": [],
   "source": [
    "data1_test, data2_test, data3_test, data4_test, y_test =  prepare_data_test(catch_test, size = catch_test[0].shape[0])"
   ]
  },
  {
   "cell_type": "code",
   "execution_count": 499,
   "id": "aadbd46f-4890-40cc-8176-f292b9c45cac",
   "metadata": {},
   "outputs": [],
   "source": [
    "from scipy.stats import pearsonr"
   ]
  },
  {
   "cell_type": "code",
   "execution_count": 500,
   "id": "09e61be2-f070-4e18-8583-66f0cdc24501",
   "metadata": {},
   "outputs": [],
   "source": [
    "def chunks(lst, n):\n",
    "    \"\"\"Yield successive n-sized chunks from lst.\"\"\"\n",
    "    for i in range(0, len(lst), n):\n",
    "        yield lst[i:i + n]"
   ]
  },
  {
   "cell_type": "code",
   "execution_count": 501,
   "id": "8a1acec2-599f-4ec7-9ad4-1183a7b09dde",
   "metadata": {},
   "outputs": [],
   "source": [
    "batch_size = 2500"
   ]
  },
  {
   "cell_type": "code",
   "execution_count": 502,
   "id": "02e369a5-74ae-464b-97fb-69791238b973",
   "metadata": {},
   "outputs": [],
   "source": [
    "import random"
   ]
  },
  {
   "cell_type": "code",
   "execution_count": 503,
   "id": "c0fa6a26-3f92-4a59-a52b-95211f3d670d",
   "metadata": {},
   "outputs": [],
   "source": [
    "from tqdm import tqdm_notebook"
   ]
  },
  {
   "cell_type": "code",
   "execution_count": 504,
   "id": "65bf21e9-92c6-4824-93c3-87274b072afa",
   "metadata": {},
   "outputs": [],
   "source": [
    "def get_results(idx, var_weights = 1.0, var_weight_weights = 1.0, var_D = 0.01, inflation_factor = 1.6, fudging_beta = beta(1,19), \n",
    "               fudging_var = 1e-3, print_true = True):\n",
    "    \n",
    "    # smiles_feats_train, rdkit_feats_train, smiles_feats_valid, rdkit_feats_valid, y_train, y_train_actual, y_valid, y_valid_actual, initial_ensembles  = prepare_data(idx, var_weights = var_weights, var_weight_weights =var_weight_weights, var_L = var_L, var_D = var_D)\n",
    "    \n",
    "\n",
    "    train_rmse = []\n",
    "    test_rmse = []\n",
    "    # print(\"done initializing\")\n",
    "    \n",
    "    w1_catch = []\n",
    "    w2_catch = []\n",
    "    w3_catch = []\n",
    "    w4_catch = []\n",
    "    \n",
    "    \n",
    "    train_idxes = random.sample(range(0, catch_train[0].shape[0]), k = catch_train[0].shape[0])\n",
    "    \n",
    "    train_chunks = list(chunks(train_idxes, batch_size))\n",
    "    \n",
    "    best_rmse_train = 10000\n",
    "    \n",
    "    data1_train, data2_train, data3_train, data4_train, y_train = prepare_data_train(catch_train, train_chunks[0])\n",
    "    \n",
    "    _, initial_ensembles, initial_ensembles_for_weights, initial_ensembles_for_D = get_initial_X_t(data1_train, data2_train, data3_train, data4_train,\n",
    "                                                                                                 size_ens = size_ens, var_weights = var_weights,\n",
    "                                                                                                var_weight_weights = var_weight_weights,\n",
    "                                                                                                             var_D = var_D)\n",
    "    \n",
    "    initial_ensembles = np.hstack((initial_ensembles, initial_ensembles_for_weights, initial_ensembles_for_D))\n",
    "    patience = 0\n",
    "    \n",
    "    for i in range(0,300):\n",
    "        \n",
    "        train_chunks = random.sample(train_chunks, len(train_chunks))\n",
    "        \n",
    "        if print_true == True:\n",
    "            print(\"epoch number is \" +str(i))\n",
    "        \n",
    "        for chunk in (train_chunks):\n",
    "        \n",
    "            data1_train, data2_train, data3_train, data4_train, y_train = prepare_data_train(catch_train, chunk)\n",
    "            \n",
    "            # X_t, initial_ensembles, initial_ensembles_for_weights, initial_ensembles_for_D = get_initial_X_t(data1_train, data2_train, data3_train, data4_train,\n",
    "            #                                                                                      size_ens = size_ens, var_weights = var_weights,\n",
    "            #                                                                                     var_weight_weights = var_weight_weights,\n",
    "            #                                                                                                  var_D = var_D)\n",
    "            \n",
    "            # initial_ensembles = np.hstack((initial_ensembles, initial_ensembles_for_weights, initial_ensembles_for_D))\n",
    "\n",
    "            initial_ensembles = get_updated_ensemble(data1_train, data2_train, data3_train, data4_train, initial_ensembles, y_train, size_ens = size_ens,\n",
    "                                                 inflation_factor = inflation_factor, fudging_beta = fudging_beta, fudging_var = fudging_var)\n",
    "        \n",
    "            G_u_train, w1, w2, w3, w4 = get_predictions(data1_train, data2_train, data3_train, data4_train, initial_ensembles, fudging_beta)\n",
    "    \n",
    "            li_train = np.percentile(G_u_train, axis = 0, q = (2.5, 97.5))[0,:].reshape(-1,1)    \n",
    "            ui_train = np.percentile(G_u_train, axis = 0, q = (2.5, 97.5))[1,:].reshape(-1,1)  \n",
    "    \n",
    "            width_train = ui_train - li_train\n",
    "            avg_width_train = width_train.mean(0)[0]\n",
    "    \n",
    "            ind_train = (y_train >= li_train) & (y_train <= ui_train)\n",
    "            coverage_train= ind_train.mean(0)[0]\n",
    "    \n",
    "            averaged_targets_train = G_u_train.mean(0).reshape(-1,1)\n",
    "            rmse_train = np.sqrt(((y_train -averaged_targets_train)**2).mean(0))[0]\n",
    "        \n",
    "            pearsonr_train = pearsonr(averaged_targets_train.reshape(averaged_targets_train.shape[0],), \n",
    "                                 y_train.reshape(y_train.shape[0],))\n",
    "        \n",
    "            r_train = pearsonr_train.statistic\n",
    "    \n",
    "            G_u_test, _, _, _, _ = get_predictions_test(data1_test, data2_test, data3_test, data4_test, initial_ensembles)\n",
    "    \n",
    "\n",
    "    \n",
    "            li_test = np.percentile(G_u_test, axis = 0, q = (2.5, 97.5))[0,:].reshape(-1,1)     \n",
    "            ui_test = np.percentile(G_u_test, axis = 0, q = (2.5, 97.5))[1,:].reshape(-1,1)   \n",
    "    \n",
    "            width_test = ui_test - li_test\n",
    "            avg_width_test = width_test.mean(0)[0]\n",
    "    \n",
    "            ind_test = (y_test >= li_test) & (y_test <= ui_test)\n",
    "            coverage_test= ind_test.mean(0)[0]\n",
    "    \n",
    "            averaged_targets_test = G_u_test.mean(0).reshape(-1,1)\n",
    "            rmse_test = np.sqrt(((y_test -averaged_targets_test)**2).mean(0))[0]  \n",
    "        \n",
    "            pearsonr_test = pearsonr(averaged_targets_test.reshape(averaged_targets_test.shape[0],), \n",
    "                                 y_test.reshape(y_test.shape[0],))\n",
    "        \n",
    "            r_test = pearsonr_test.statistic\n",
    "            \n",
    "            train_rmse.append(rmse_train)\n",
    "            \n",
    "            test_rmse.append(rmse_test)\n",
    "            \n",
    "            \n",
    "            if print_true == True:\n",
    "                print(\"Training Coverage, Widths, RMSE, and Pearson R\")\n",
    "                print(coverage_train, avg_width_train, rmse_train, r_train)\n",
    "                print(\"Testing Coverage, Widths, RMSE, and Pearson R\")\n",
    "                print(coverage_test, avg_width_test, rmse_test, r_test)\n",
    "                print(\"Weight 1 Stats\")\n",
    "                print(w1.mean(), w1.std())\n",
    "                print(\"Weight 2 Stats\")\n",
    "                print(w2.mean(), w2.std())\n",
    "                print(\"Weight 3 Stats\")\n",
    "                print(w3.mean(), w3.std())\n",
    "                print(\"Weight 4 Stats\")\n",
    "                print(w4.mean(), w4.std())\n",
    "            \n",
    "            w1_catch.append([w1.mean(), w1.std()])\n",
    "            w2_catch.append([w2.mean(), w2.std()])\n",
    "            w3_catch.append([w3.mean(), w3.std()])\n",
    "            w4_catch.append([w4.mean(), w4.std()])\n",
    "            \n",
    "\n",
    "            if (rmse_train < best_rmse_train): \n",
    "                best_pearsonr_train = r_train\n",
    "            # print(\"went here\")\n",
    "                best_train_width_mean = avg_width_train.mean()\n",
    "                best_train_width = avg_width_train\n",
    "                # best_smiles_weight = w1.mean()\n",
    "                best_coverage_train = coverage_train\n",
    "                best_rmse_train = rmse_train\n",
    "                best_pearson_r = r_test\n",
    "                best_test_width = avg_width_test\n",
    "\n",
    "                best_coverage_test = coverage_test    \n",
    "                best_rmse_test = rmse_test\n",
    "                patience = 0\n",
    "                best_ensembles = initial_ensembles\n",
    "                \n",
    "                best_w1_weight = w1.mean()\n",
    "                best_w2_weight = w2.mean()\n",
    "                best_w3_weight = w3.mean()\n",
    "                best_w4_weight = w4.mean()\n",
    "            \n",
    "            else:\n",
    "                patience = patience + 1\n",
    "            \n",
    "            if print_true == True:\n",
    "                print(\"Patience is\")\n",
    "                print(patience)\n",
    "                print('\\n')\n",
    "        \n",
    "            if patience > threshold:\n",
    "                # print(\"train_coverage\" + str(best_coverage_train), flush = True)\n",
    "                print(\"test_coverage\" + str(best_coverage_test), flush = True)\n",
    "                # print(\"train_width\" + str(best_train_width.tolist()), flush = True)\n",
    "                print(\"test_width\" + str(best_test_width), flush = True)\n",
    "                # print(\"smiles_weight\" + str(best_smiles_weight), flush = True)\n",
    "                # print(\"rmse_train\" + str(best_rmse_train.tolist()), flush = True)\n",
    "                print(\"rmse_test\" + str(best_rmse_test), flush = True)\n",
    "                weights = [best_w1_weight, best_w2_weight, best_w3_weight, best_w4_weight]\n",
    "                print(\"weights\", flush = True)\n",
    "                print(weights, flush = True)\n",
    "                print('\\n', flush = True)\n",
    "                # print(\"smiles_weight_ci\" + str([best_li_smiles_weight, best_ui_smiles_weight]), flush = True)\n",
    "            \n",
    "                return [best_train_width, best_coverage_train, best_rmse_train, best_test_width, best_coverage_test, best_rmse_test, best_pearson_r, best_ensembles, train_rmse, test_rmse, w1_catch, w2_catch, w3_catch, w4_catch, best_w1_weight, best_w2_weight, best_w3_weight, best_w4_weight]\n"
   ]
  },
  {
   "cell_type": "code",
   "execution_count": 505,
   "id": "11a8c623-2952-409f-a640-7d89cef6b1aa",
   "metadata": {},
   "outputs": [],
   "source": [
    "threshold = 10"
   ]
  },
  {
   "cell_type": "code",
   "execution_count": 506,
   "id": "93c210af-46a2-4f97-aad8-5e1ca77f050d",
   "metadata": {},
   "outputs": [
    {
     "name": "stdout",
     "output_type": "stream",
     "text": [
      "epoch number is 0\n",
      "Training Coverage, Widths, RMSE, and Pearson R\n",
      "0.4032 4.5077751897254466 4.050586601066439 0.06450136488816018\n",
      "Testing Coverage, Widths, RMSE, and Pearson R\n",
      "0.3842688842688843 4.507347558642616 4.075108317248349 0.06911875621793936\n",
      "Weight 1 Stats\n",
      "0.11618809519904037 0.011262698412377885\n",
      "Weight 2 Stats\n",
      "0.25411622131264777 0.021629857272658117\n",
      "Weight 3 Stats\n",
      "0.21983037785305545 0.02131888386700045\n",
      "Weight 4 Stats\n",
      "0.40986530563525647 0.030640434337868023\n",
      "Patience is\n",
      "0\n",
      "\n",
      "\n",
      "Training Coverage, Widths, RMSE, and Pearson R\n",
      "0.5836 5.578635118935572 3.1838064288543246 0.221679966088737\n",
      "Testing Coverage, Widths, RMSE, and Pearson R\n",
      "0.5947100947100947 5.545349893641461 3.091766340505873 0.2341440399462655\n",
      "Weight 1 Stats\n",
      "0.123150910796889 0.013678462546649636\n",
      "Weight 2 Stats\n",
      "0.190188940678396 0.018560584926657065\n",
      "Weight 3 Stats\n",
      "0.334630134218671 0.02691814715282853\n",
      "Weight 4 Stats\n",
      "0.352030014306044 0.026144444781551878\n",
      "Patience is\n",
      "0\n",
      "\n",
      "\n",
      "Training Coverage, Widths, RMSE, and Pearson R\n",
      "0.7584 5.118910583283705 2.076355932387356 0.6862272560858415\n",
      "Testing Coverage, Widths, RMSE, and Pearson R\n",
      "0.7529452529452529 5.142757473507437 2.1327044557240344 0.6700144318586477\n",
      "Weight 1 Stats\n",
      "0.10189290137123604 0.011341855357733027\n",
      "Weight 2 Stats\n",
      "0.15183991362418547 0.015873847264503756\n",
      "Weight 3 Stats\n",
      "0.3384401292663413 0.02529269520458696\n",
      "Weight 4 Stats\n",
      "0.40782705573823724 0.02900730707232015\n",
      "Patience is\n",
      "0\n",
      "\n",
      "\n",
      "Training Coverage, Widths, RMSE, and Pearson R\n",
      "0.8128 4.5912299153941305 1.800295709051852 0.7784171275352806\n",
      "Testing Coverage, Widths, RMSE, and Pearson R\n",
      "0.8035920535920535 4.625430660073424 1.7839131892968987 0.7773581258055043\n",
      "Weight 1 Stats\n",
      "0.07404026303189416 0.009198776537580637\n",
      "Weight 2 Stats\n",
      "0.1286222733043813 0.015920776041051656\n",
      "Weight 3 Stats\n",
      "0.4200933994240815 0.0362800190694001\n",
      "Weight 4 Stats\n",
      "0.37724406423964296 0.033112445560752234\n",
      "Patience is\n",
      "0\n",
      "\n",
      "\n",
      "Training Coverage, Widths, RMSE, and Pearson R\n",
      "0.838 4.7029488065506495 1.6637673172186975 0.8199638717063069\n",
      "Testing Coverage, Widths, RMSE, and Pearson R\n",
      "0.8268653268653269 4.661249241769133 1.6709756362566377 0.812545251549582\n",
      "Weight 1 Stats\n",
      "0.07303316637286991 0.009669388315653197\n",
      "Weight 2 Stats\n",
      "0.151256276441589 0.018654742226852768\n",
      "Weight 3 Stats\n",
      "0.458963360032137 0.03469098510640637\n",
      "Weight 4 Stats\n",
      "0.31674719715340405 0.03068672094135075\n",
      "Patience is\n",
      "0\n",
      "\n",
      "\n",
      "Training Coverage, Widths, RMSE, and Pearson R\n",
      "0.9 5.484082976206339 1.5935108649017276 0.8244582788148664\n",
      "Testing Coverage, Widths, RMSE, and Pearson R\n",
      "0.8981866481866482 5.578714932677358 1.6112787677515146 0.8243687167054911\n",
      "Weight 1 Stats\n",
      "0.0912804139716246 0.01094669183704341\n",
      "Weight 2 Stats\n",
      "0.1308300143523709 0.01712428370030199\n",
      "Weight 3 Stats\n",
      "0.4410611007478777 0.03400921400117588\n",
      "Weight 4 Stats\n",
      "0.3368284709281269 0.032465673653048074\n",
      "Patience is\n",
      "0\n",
      "\n",
      "\n",
      "Training Coverage, Widths, RMSE, and Pearson R\n",
      "0.8976 5.432949289804754 1.5704487825049753 0.8351784587219762\n",
      "Testing Coverage, Widths, RMSE, and Pearson R\n",
      "0.8968006468006468 5.421453306264799 1.5496393339818444 0.8370365456668599\n",
      "Weight 1 Stats\n",
      "0.08639093482281672 0.00990631377928712\n",
      "Weight 2 Stats\n",
      "0.1357544532931821 0.016776187093768657\n",
      "Weight 3 Stats\n",
      "0.386991957887159 0.030466660144480594\n",
      "Weight 4 Stats\n",
      "0.3908626539968422 0.0319812831256365\n",
      "Patience is\n",
      "0\n",
      "\n",
      "\n",
      "Training Coverage, Widths, RMSE, and Pearson R\n",
      "0.898 5.326430296894978 1.5385465859961553 0.8429575770226878\n",
      "Testing Coverage, Widths, RMSE, and Pearson R\n",
      "0.8966851466851467 5.3299999663408215 1.5394310243712959 0.8396336639218427\n",
      "Weight 1 Stats\n",
      "0.07609557391159938 0.009357364685744817\n",
      "Weight 2 Stats\n",
      "0.11989026884062647 0.015299341190797346\n",
      "Weight 3 Stats\n",
      "0.43196065776660963 0.03336588754885641\n",
      "Weight 4 Stats\n",
      "0.3720534994811646 0.035802537124702216\n",
      "Patience is\n",
      "0\n",
      "\n",
      "\n",
      "Training Coverage, Widths, RMSE, and Pearson R\n",
      "0.892 4.876193004839639 1.429127980889806 0.8583317165009644\n",
      "Testing Coverage, Widths, RMSE, and Pearson R\n",
      "0.8857703857703858 4.897145234849486 1.488514832990372 0.8508028720438091\n",
      "Weight 1 Stats\n",
      "0.059469245705490614 0.006749857466082204\n",
      "Weight 2 Stats\n",
      "0.11223653470084452 0.015782474540640263\n",
      "Weight 3 Stats\n",
      "0.46517291108656555 0.02990970536179863\n",
      "Weight 4 Stats\n",
      "0.3631213085070993 0.03472116183196661\n",
      "Patience is\n",
      "0\n",
      "\n",
      "\n",
      "Training Coverage, Widths, RMSE, and Pearson R\n",
      "0.8496 4.472968320511178 1.5077340500429168 0.845582879453117\n",
      "Testing Coverage, Widths, RMSE, and Pearson R\n",
      "0.8491568491568492 4.458123660886045 1.4824954365151806 0.8519639475830726\n",
      "Weight 1 Stats\n",
      "0.04700537727194616 0.0072737005675823155\n",
      "Weight 2 Stats\n",
      "0.10559715160036351 0.016501089228883693\n",
      "Weight 3 Stats\n",
      "0.4692527159872416 0.03425080890227375\n",
      "Weight 4 Stats\n",
      "0.3781447551404488 0.03745524467026563\n",
      "Patience is\n",
      "1\n",
      "\n",
      "\n",
      "Training Coverage, Widths, RMSE, and Pearson R\n",
      "0.8156 4.1432595082743475 1.5192603486835958 0.8498200586758761\n",
      "Testing Coverage, Widths, RMSE, and Pearson R\n",
      "0.824901824901825 4.135680731396444 1.49671980092139 0.8489800155352999\n",
      "Weight 1 Stats\n",
      "0.04260766584455708 0.0061711207109154415\n",
      "Weight 2 Stats\n",
      "0.14130067569394536 0.018690580037593284\n",
      "Weight 3 Stats\n",
      "0.46716650860052383 0.035202558293023115\n",
      "Weight 4 Stats\n",
      "0.3489251498609738 0.03709058015067645\n",
      "Patience is\n",
      "2\n",
      "\n",
      "\n",
      "Training Coverage, Widths, RMSE, and Pearson R\n",
      "0.85 4.410567721257881 1.4872905717091816 0.8521455765357312\n",
      "Testing Coverage, Widths, RMSE, and Pearson R\n",
      "0.853026103026103 4.408241562813852 1.4850331980646294 0.8522197279240775\n",
      "Weight 1 Stats\n",
      "0.04139986109935099 0.005484779170201478\n",
      "Weight 2 Stats\n",
      "0.14419984480150766 0.016123925101017362\n",
      "Weight 3 Stats\n",
      "0.4562006086817789 0.03053020470595162\n",
      "Weight 4 Stats\n",
      "0.3581996854173624 0.0334542283392185\n",
      "Patience is\n",
      "3\n",
      "\n",
      "\n",
      "Training Coverage, Widths, RMSE, and Pearson R\n",
      "0.8496 4.216118365725311 1.3998727397413424 0.8671808518929717\n",
      "Testing Coverage, Widths, RMSE, and Pearson R\n",
      "0.8425733425733426 4.222192219131796 1.4613545611110907 0.8572181168671031\n",
      "Weight 1 Stats\n",
      "0.038240994604364205 0.004997581901664056\n",
      "Weight 2 Stats\n",
      "0.12754954009931402 0.0160648072226099\n",
      "Weight 3 Stats\n",
      "0.46474670718961936 0.03393418387213658\n",
      "Weight 4 Stats\n",
      "0.3694627581067025 0.03338955852862692\n",
      "Patience is\n",
      "0\n",
      "\n",
      "\n",
      "Training Coverage, Widths, RMSE, and Pearson R\n",
      "0.8608 4.330959868627985 1.4081184796582644 0.8657387607562231\n",
      "Testing Coverage, Widths, RMSE, and Pearson R\n",
      "0.8471933471933472 4.316623907411467 1.4595697734040745 0.8576483016498139\n",
      "Weight 1 Stats\n",
      "0.04007006169435617 0.0060129752608003755\n",
      "Weight 2 Stats\n",
      "0.1398459669364539 0.01693470062284246\n",
      "Weight 3 Stats\n",
      "0.4547062494597047 0.03499522100381591\n",
      "Weight 4 Stats\n",
      "0.3653777219094852 0.03284603636693469\n",
      "Patience is\n",
      "1\n",
      "\n",
      "\n",
      "Training Coverage, Widths, RMSE, and Pearson R\n",
      "0.8548 4.352556371575057 1.4684660882259275 0.8617900436869406\n",
      "Testing Coverage, Widths, RMSE, and Pearson R\n",
      "0.8529683529683529 4.334422088955627 1.4562737467576714 0.8585518135498434\n",
      "Weight 1 Stats\n",
      "0.04280517742225028 0.006560041318980492\n",
      "Weight 2 Stats\n",
      "0.14132217007390868 0.01761244512840466\n",
      "Weight 3 Stats\n",
      "0.4916087233364291 0.03201627452800666\n",
      "Weight 4 Stats\n",
      "0.32426392916741203 0.02923195193657153\n",
      "Patience is\n",
      "2\n",
      "\n",
      "\n",
      "Training Coverage, Widths, RMSE, and Pearson R\n",
      "0.8404 4.316496259055055 1.4475683054645723 0.8576675809898362\n",
      "Testing Coverage, Widths, RMSE, and Pearson R\n",
      "0.8512936012936013 4.2969508731505455 1.4415228759163965 0.8606872125003967\n",
      "Weight 1 Stats\n",
      "0.042492992330963465 0.006040947531472244\n",
      "Weight 2 Stats\n",
      "0.12231606154326743 0.015745089118276913\n",
      "Weight 3 Stats\n",
      "0.5116767955862838 0.03133806023069257\n",
      "Weight 4 Stats\n",
      "0.32351415053948546 0.03129592198550371\n",
      "Patience is\n",
      "3\n",
      "\n",
      "\n",
      "Training Coverage, Widths, RMSE, and Pearson R\n",
      "0.882 4.466951807446504 1.3971343431360208 0.8731060306881223\n",
      "Testing Coverage, Widths, RMSE, and Pearson R\n",
      "0.8671171171171171 4.442494409821449 1.447905631546754 0.8613104101966726\n",
      "Weight 1 Stats\n",
      "0.04095341836869906 0.005925245516353525\n",
      "Weight 2 Stats\n",
      "0.12273226056980488 0.014001108205995837\n",
      "Weight 3 Stats\n",
      "0.5306720957878005 0.03026059720397366\n",
      "Weight 4 Stats\n",
      "0.3056422252736956 0.030272083009554206\n",
      "Patience is\n",
      "0\n",
      "\n",
      "\n",
      "Training Coverage, Widths, RMSE, and Pearson R\n",
      "0.8568 4.3209303546125994 1.4393657952489352 0.8587683336820962\n",
      "Testing Coverage, Widths, RMSE, and Pearson R\n",
      "0.8543543543543544 4.2811674201822845 1.4331664659500447 0.8631711838999692\n",
      "Weight 1 Stats\n",
      "0.03769079874694744 0.005451047726306457\n",
      "Weight 2 Stats\n",
      "0.11720037891792519 0.014427914486051437\n",
      "Weight 3 Stats\n",
      "0.5419267184056943 0.03328815038608438\n",
      "Weight 4 Stats\n",
      "0.3031821039294331 0.03039981271876442\n",
      "Patience is\n",
      "1\n",
      "\n",
      "\n",
      "Training Coverage, Widths, RMSE, and Pearson R\n",
      "0.8704 4.3467939118423295 1.3766485075735129 0.8708940231621405\n",
      "Testing Coverage, Widths, RMSE, and Pearson R\n",
      "0.8607068607068608 4.334172053916603 1.4348805918896608 0.863189231768359\n",
      "Weight 1 Stats\n",
      "0.03599159596926612 0.00490152227784304\n",
      "Weight 2 Stats\n",
      "0.1150667347678735 0.012922817290682818\n",
      "Weight 3 Stats\n",
      "0.5443826335124842 0.034096801508632694\n",
      "Weight 4 Stats\n",
      "0.3045590357503762 0.029672588312978424\n",
      "Patience is\n",
      "0\n",
      "\n",
      "\n",
      "Training Coverage, Widths, RMSE, and Pearson R\n",
      "0.8722287047841307 4.038285306048959 1.304649194613518 0.8875256016351709\n",
      "Testing Coverage, Widths, RMSE, and Pearson R\n",
      "0.8382998382998383 4.028183203462905 1.4270544332415573 0.8637638486902397\n",
      "Weight 1 Stats\n",
      "0.03264055515591457 0.004376533928162305\n",
      "Weight 2 Stats\n",
      "0.10717167881610173 0.014381026090037594\n",
      "Weight 3 Stats\n",
      "0.5986940348385278 0.032149902800808226\n",
      "Weight 4 Stats\n",
      "0.2614937311894559 0.026371081668249356\n",
      "Patience is\n",
      "0\n",
      "\n",
      "\n",
      "Training Coverage, Widths, RMSE, and Pearson R\n",
      "0.8328 3.923561661605571 1.4118046878363109 0.867032817434402\n",
      "Testing Coverage, Widths, RMSE, and Pearson R\n",
      "0.828020328020328 3.9000215657496637 1.4188002218598528 0.8657323856289862\n",
      "Weight 1 Stats\n",
      "0.03503379104136472 0.005757479761467343\n",
      "Weight 2 Stats\n",
      "0.10086598082226558 0.013841662593015164\n",
      "Weight 3 Stats\n",
      "0.6101676055516841 0.03587923254065516\n",
      "Weight 4 Stats\n",
      "0.2539326225846855 0.03056169445623711\n",
      "Patience is\n",
      "1\n",
      "\n",
      "\n",
      "Training Coverage, Widths, RMSE, and Pearson R\n",
      "0.824 3.777141778790751 1.4061935671556938 0.8674351363104461\n",
      "Testing Coverage, Widths, RMSE, and Pearson R\n",
      "0.8147378147378147 3.7809009427788025 1.4181342438682185 0.8655100359574437\n",
      "Weight 1 Stats\n",
      "0.029637663839003757 0.004982180415948317\n",
      "Weight 2 Stats\n",
      "0.09985784844646832 0.013327281548665764\n",
      "Weight 3 Stats\n",
      "0.6381977028734316 0.03699150901948654\n",
      "Weight 4 Stats\n",
      "0.2323067848410965 0.03055077685490071\n",
      "Patience is\n",
      "2\n",
      "\n",
      "\n",
      "Training Coverage, Widths, RMSE, and Pearson R\n",
      "0.8388 3.832917012690196 1.3636196509766896 0.8725374572686213\n",
      "Testing Coverage, Widths, RMSE, and Pearson R\n",
      "0.8244398244398244 3.854264838879316 1.4217905324017353 0.8653495114942211\n",
      "Weight 1 Stats\n",
      "0.03138687903217055 0.003967258070192935\n",
      "Weight 2 Stats\n",
      "0.10892482268764185 0.014783311191574415\n",
      "Weight 3 Stats\n",
      "0.646668432982546 0.03293521494500571\n",
      "Weight 4 Stats\n",
      "0.2130198652976418 0.025627829087614233\n",
      "Patience is\n",
      "3\n",
      "\n",
      "\n",
      "Training Coverage, Widths, RMSE, and Pearson R\n",
      "0.8512 4.116149871849584 1.3896491761346168 0.8765207797452749\n",
      "Testing Coverage, Widths, RMSE, and Pearson R\n",
      "0.8371448371448371 4.072414293107552 1.4246466939212157 0.8653719420779417\n",
      "Weight 1 Stats\n",
      "0.032344620648120846 0.005005803737138643\n",
      "Weight 2 Stats\n",
      "0.12497334471049555 0.014781432188697036\n",
      "Weight 3 Stats\n",
      "0.625128330698343 0.034070881333196086\n",
      "Weight 4 Stats\n",
      "0.21755370394304063 0.026800125225766733\n",
      "Patience is\n",
      "4\n",
      "\n",
      "\n",
      "Training Coverage, Widths, RMSE, and Pearson R\n",
      "0.8404 3.967065496560505 1.3688816497034835 0.8730254261452874\n",
      "Testing Coverage, Widths, RMSE, and Pearson R\n",
      "0.8280780780780781 3.947211365309774 1.4293838505409786 0.8633963963887697\n",
      "Weight 1 Stats\n",
      "0.03310506449922308 0.004994872864239547\n",
      "Weight 2 Stats\n",
      "0.1309591435759567 0.017137636807344488\n",
      "Weight 3 Stats\n",
      "0.6319603290546826 0.030020569436264077\n",
      "Weight 4 Stats\n",
      "0.20397546287013768 0.025179628042426128\n",
      "Patience is\n",
      "5\n",
      "\n",
      "\n",
      "Training Coverage, Widths, RMSE, and Pearson R\n",
      "0.842 4.049666962555192 1.3925226172963356 0.879139280158588\n",
      "Testing Coverage, Widths, RMSE, and Pearson R\n",
      "0.8342573342573343 4.024063456861569 1.4251265679314178 0.8661709440925236\n",
      "Weight 1 Stats\n",
      "0.03618802584669245 0.004900603165292393\n",
      "Weight 2 Stats\n",
      "0.1140805971362234 0.013398280895478287\n",
      "Weight 3 Stats\n",
      "0.6451887800796556 0.02854537438003962\n",
      "Weight 4 Stats\n",
      "0.20454259693742843 0.024480020054424075\n",
      "Patience is\n",
      "6\n",
      "\n",
      "\n",
      "Training Coverage, Widths, RMSE, and Pearson R\n",
      "0.8404 3.9439839868598137 1.387626554874421 0.8790448674184841\n",
      "Testing Coverage, Widths, RMSE, and Pearson R\n",
      "0.8291753291753292 3.8902887711960803 1.4151121762375527 0.8661097473388579\n",
      "Weight 1 Stats\n",
      "0.030460551578606342 0.003688333823308101\n",
      "Weight 2 Stats\n",
      "0.10650676094668064 0.01512351941657868\n",
      "Weight 3 Stats\n",
      "0.6136944441164093 0.029771650679817737\n",
      "Weight 4 Stats\n",
      "0.24933824335830373 0.027253167876591655\n",
      "Patience is\n",
      "7\n",
      "\n",
      "\n",
      "Training Coverage, Widths, RMSE, and Pearson R\n",
      "0.8352 3.9378084639462116 1.4004520216894907 0.8715831668619395\n",
      "Testing Coverage, Widths, RMSE, and Pearson R\n",
      "0.8285978285978286 3.915614517942091 1.4184092354299198 0.8665358721355472\n",
      "Weight 1 Stats\n",
      "0.03498511737867986 0.005826888663522112\n",
      "Weight 2 Stats\n",
      "0.10684831796936892 0.01356685832630366\n",
      "Weight 3 Stats\n",
      "0.6118873986688467 0.03173925658850125\n",
      "Weight 4 Stats\n",
      "0.2462791659831045 0.025875577930044445\n",
      "Patience is\n",
      "8\n",
      "\n",
      "\n",
      "epoch number is 1\n",
      "Training Coverage, Widths, RMSE, and Pearson R\n",
      "0.8664 4.323431594686357 1.4090636698223886 0.8648389707947549\n",
      "Testing Coverage, Widths, RMSE, and Pearson R\n",
      "0.8560868560868561 4.2759216305085355 1.4190383057662659 0.8657152021363834\n",
      "Weight 1 Stats\n",
      "0.03656816998895832 0.005724421558135998\n",
      "Weight 2 Stats\n",
      "0.11602184515904952 0.015875789841973523\n",
      "Weight 3 Stats\n",
      "0.6261664656866797 0.03517022555160696\n",
      "Weight 4 Stats\n",
      "0.22124351916531254 0.027355850895389035\n",
      "Patience is\n",
      "9\n",
      "\n",
      "\n",
      "Training Coverage, Widths, RMSE, and Pearson R\n",
      "0.8204 3.8294538678446393 1.4370016587930534 0.8659566531386994\n",
      "Testing Coverage, Widths, RMSE, and Pearson R\n",
      "0.8216678216678217 3.8006696747316844 1.4133882774310969 0.866478520762249\n",
      "Weight 1 Stats\n",
      "0.030601983975393706 0.004213028917487245\n",
      "Weight 2 Stats\n",
      "0.12895499032600033 0.01681571653503943\n",
      "Weight 3 Stats\n",
      "0.6393167764628161 0.02955445099824395\n",
      "Weight 4 Stats\n",
      "0.20112624923578992 0.02223416019046398\n",
      "Patience is\n",
      "10\n",
      "\n",
      "\n",
      "Training Coverage, Widths, RMSE, and Pearson R\n",
      "0.8268 3.7984479857160753 1.3677303768926858 0.8737669964739558\n",
      "Testing Coverage, Widths, RMSE, and Pearson R\n",
      "0.8232270732270732 3.7996122558574372 1.4074791393884614 0.8678890187964275\n",
      "Weight 1 Stats\n",
      "0.030153219933822063 0.004422324505802514\n",
      "Weight 2 Stats\n",
      "0.12703342613497942 0.01710985765906495\n",
      "Weight 3 Stats\n",
      "0.6013144738645649 0.03369164675929879\n",
      "Weight 4 Stats\n",
      "0.2414988800666336 0.026962739115201882\n",
      "Patience is\n",
      "11\n",
      "\n",
      "\n",
      "test_coverage0.8382998382998383\n",
      "test_width4.028183203462905\n",
      "rmse_test1.4270544332415573\n",
      "weights\n",
      "[0.03264055515591457, 0.10717167881610173, 0.5986940348385278, 0.2614937311894559]\n",
      "\n",
      "\n",
      "CPU times: user 22min 27s, sys: 11min 49s, total: 34min 17s\n",
      "Wall time: 7min 33s\n"
     ]
    }
   ],
   "source": [
    "%%time\n",
    "best_train_width, best_coverage_train, best_rmse_train, best_test_width, best_coverage_test, best_rmse_test, best_pearson_r,  \\\n",
    "best_ensembles, train_rmse, test_rmse,   w1_catch, w2_catch, w3_catch, w4_catch, best_w1_weight, best_w2_weight, best_w3_weight, best_w4_weight = get_results(0, var_weights = 1.0, var_weight_weights = 1.0, var_D = 1, inflation_factor =1, fudging_beta = beta(1,19), \n",
    "           fudging_var = 1*1e-2, print_true = True)"
   ]
  },
  {
   "cell_type": "code",
   "execution_count": 507,
   "id": "9490af0c-5a1b-43fb-8431-b1282db34b54",
   "metadata": {},
   "outputs": [],
   "source": [
    "preds_test, _, _, _, _ = get_predictions_test(data1_test, data2_test, data3_test, data4_test, best_ensembles)"
   ]
  },
  {
   "cell_type": "code",
   "execution_count": 508,
   "id": "7779268c-ab61-4401-80a0-44538877c872",
   "metadata": {},
   "outputs": [],
   "source": [
    "averaged_preds_test = preds_test.mean(0).reshape(-1,1)"
   ]
  },
  {
   "cell_type": "code",
   "execution_count": 509,
   "id": "35f093e5-520c-41f0-a675-01ac46f87a1c",
   "metadata": {},
   "outputs": [
    {
     "data": {
      "image/png": "[encoded data removed]",
      "text/plain": [
       "<Figure size 640x480 with 1 Axes>"
      ]
     },
     "metadata": {},
     "output_type": "display_data"
    }
   ],
   "source": [
    "fig = plt.figure()\n",
    "plt.scatter(y_test, averaged_preds_test, alpha = 0.1)\n",
    "plt.axline((0,0), slope = 1, c = \"black\")\n",
    "plt.xlabel(\"Ground Truth Values\", fontweight = \"bold\",fontsize = 15)\n",
    "plt.ylabel(\"MEnKF-ANN Predicted Values\", fontweight = \"bold\", fontsize = 15)\n",
    "plt.xticks(fontsize = 10, fontweight = \"bold\")\n",
    "plt.yticks(fontsize = 10, fontweight = \"bold\")\n",
    "fig.savefig('MEnKF_DeepCDR_DualGCN_Scatterplot.pdf', bbox_inches='tight', format = \"pdf\")\n",
    "fig.savefig('MEnKF_DeepCDR_DualGCN_Scatterplot.png', bbox_inches='tight')\n",
    "plt.show()"
   ]
  },
  {
   "cell_type": "code",
   "execution_count": 510,
   "id": "7b6dbeca-651e-4d31-89c0-c44e35b4270f",
   "metadata": {},
   "outputs": [],
   "source": [
    "items = [best_train_width, best_coverage_train, best_rmse_train, best_test_width, best_coverage_test, best_rmse_test, best_pearson_r, best_w1_weight, best_w2_weight, best_w3_weight, best_w4_weight]"
   ]
  },
  {
   "cell_type": "code",
   "execution_count": 511,
   "id": "4c969db3-06fd-4a30-8f3e-1d1670a03aa0",
   "metadata": {},
   "outputs": [],
   "source": [
    "items_df = pd.DataFrame(items).T"
   ]
  },
  {
   "cell_type": "code",
   "execution_count": 512,
   "id": "01f44639-4484-45c7-bd7c-7745ab18371b",
   "metadata": {},
   "outputs": [],
   "source": [
    "items_df.columns = ['best_train_width', 'best_coverage_train', 'best_rmse_train', 'best_test_width', 'best_coverage_test', 'best_rmse_test', 'best_pearson_r', \n",
    "                   'best_w1_weight', 'best_w2_weight', 'best_w3_weight', 'best_w4_weight']"
   ]
  },
  {
   "cell_type": "code",
   "execution_count": 513,
   "id": "7ab228b9-c61a-46cb-aa57-7acf4da3b114",
   "metadata": {},
   "outputs": [],
   "source": [
    "items_df = items_df.T"
   ]
  },
  {
   "cell_type": "code",
   "execution_count": 514,
   "id": "925c745c-7a4d-4d78-8f47-9a1d7e11a39a",
   "metadata": {},
   "outputs": [],
   "source": [
    "items_df.columns = [\"Value\"]"
   ]
  },
  {
   "cell_type": "code",
   "execution_count": 515,
   "id": "d93ed649-b0ba-445d-b28a-ffeb603dc960",
   "metadata": {},
   "outputs": [
    {
     "data": {
      "text/html": [
       "<div>\n",
       "<style scoped>\n",
       "    .dataframe tbody tr th:only-of-type {\n",
       "        vertical-align: middle;\n",
       "    }\n",
       "\n",
       "    .dataframe tbody tr th {\n",
       "        vertical-align: top;\n",
       "    }\n",
       "\n",
       "    .dataframe thead th {\n",
       "        text-align: right;\n",
       "    }\n",
       "</style>\n",
       "<table border=\"1\" class=\"dataframe\">\n",
       "  <thead>\n",
       "    <tr style=\"text-align: right;\">\n",
       "      <th></th>\n",
       "      <th>Value</th>\n",
       "    </tr>\n",
       "  </thead>\n",
       "  <tbody>\n",
       "    <tr>\n",
       "      <th>best_train_width</th>\n",
       "      <td>4.038285</td>\n",
       "    </tr>\n",
       "    <tr>\n",
       "      <th>best_coverage_train</th>\n",
       "      <td>0.872229</td>\n",
       "    </tr>\n",
       "    <tr>\n",
       "      <th>best_rmse_train</th>\n",
       "      <td>1.304649</td>\n",
       "    </tr>\n",
       "    <tr>\n",
       "      <th>best_test_width</th>\n",
       "      <td>4.028183</td>\n",
       "    </tr>\n",
       "    <tr>\n",
       "      <th>best_coverage_test</th>\n",
       "      <td>0.838300</td>\n",
       "    </tr>\n",
       "    <tr>\n",
       "      <th>best_rmse_test</th>\n",
       "      <td>1.427054</td>\n",
       "    </tr>\n",
       "    <tr>\n",
       "      <th>best_pearson_r</th>\n",
       "      <td>0.863764</td>\n",
       "    </tr>\n",
       "    <tr>\n",
       "      <th>best_w1_weight</th>\n",
       "      <td>0.032641</td>\n",
       "    </tr>\n",
       "    <tr>\n",
       "      <th>best_w2_weight</th>\n",
       "      <td>0.107172</td>\n",
       "    </tr>\n",
       "    <tr>\n",
       "      <th>best_w3_weight</th>\n",
       "      <td>0.598694</td>\n",
       "    </tr>\n",
       "    <tr>\n",
       "      <th>best_w4_weight</th>\n",
       "      <td>0.261494</td>\n",
       "    </tr>\n",
       "  </tbody>\n",
       "</table>\n",
       "</div>"
      ],
      "text/plain": [
       "                        Value\n",
       "best_train_width     4.038285\n",
       "best_coverage_train  0.872229\n",
       "best_rmse_train      1.304649\n",
       "best_test_width      4.028183\n",
       "best_coverage_test   0.838300\n",
       "best_rmse_test       1.427054\n",
       "best_pearson_r       0.863764\n",
       "best_w1_weight       0.032641\n",
       "best_w2_weight       0.107172\n",
       "best_w3_weight       0.598694\n",
       "best_w4_weight       0.261494"
      ]
     },
     "execution_count": 515,
     "metadata": {},
     "output_type": "execute_result"
    }
   ],
   "source": [
    "items_df"
   ]
  },
  {
   "cell_type": "code",
   "execution_count": 516,
   "id": "c743cac6-4f17-49ab-9ad0-f35b685d22f1",
   "metadata": {},
   "outputs": [
    {
     "data": {
      "text/plain": [
       "(106, 17316)"
      ]
     },
     "execution_count": 516,
     "metadata": {},
     "output_type": "execute_result"
    }
   ],
   "source": [
    "preds_test.shape"
   ]
  },
  {
   "cell_type": "code",
   "execution_count": 531,
   "id": "0ce0a569-aed6-42db-afa8-83819760c033",
   "metadata": {},
   "outputs": [
    {
     "data": {
      "image/png": "[encoded data removed]",
      "text/plain": [
       "<Figure size 1000x500 with 8 Axes>"
      ]
     },
     "metadata": {},
     "output_type": "display_data"
    }
   ],
   "source": [
    "random_idx = random.sample(range(y_test.shape[0]), k = 8)\n",
    "fig, axs = plt.subplots(2, 4,figsize=(10, 5))\n",
    "# fig, axs = plt.subplots(4, 2)\n",
    "axs = axs.ravel()\n",
    "for idx, i in enumerate(random_idx):\n",
    "    # print(counter)\n",
    "    truth = y_test[i,:]\n",
    "    preds = preds_test[:, i]\n",
    "    percts = np.percentile(preds, axis = 0, q = (2.5, 97.5))\n",
    "    lis = percts[0]\n",
    "    uis = percts[1]\n",
    "    \n",
    "    \n",
    "    axs[idx].hist(preds)\n",
    "    axs[idx].axvline(truth, color='green', linewidth=4)\n",
    "    axs[idx].axvline(lis, color='red', linewidth=4)\n",
    "    axs[idx].axvline(uis, color='red', linewidth=4)\n",
    "    plt.setp(axs[idx].get_xticklabels(), fontsize=8, fontweight=\"bold\"\n",
    "        )\n",
    "    \n",
    "    plt.setp(axs[idx].get_yticklabels(), fontsize=8, fontweight=\"bold\")\n",
    "\n",
    "# plt.title\n",
    "fig.savefig('MEnKF_DeepCDR_DualGCN_Histogram.pdf', bbox_inches='tight', format = \"pdf\")\n",
    "fig.savefig('MEnKF_DeepCDR_DualGCN_Histogram.png', bbox_inches='tight')\n",
    "plt.show()\n"
   ]
  },
  {
   "cell_type": "code",
   "execution_count": 518,
   "id": "b6080aac-5298-4b62-94cc-a4032a04b0ad",
   "metadata": {},
   "outputs": [
    {
     "data": {
      "image/png": "[encoded data removed]",
      "text/plain": [
       "<Figure size 640x480 with 1 Axes>"
      ]
     },
     "metadata": {},
     "output_type": "display_data"
    }
   ],
   "source": [
    "fig = plt.figure()\n",
    "plt.plot(train_rmse, label = \"Training\", linewidth = 3)\n",
    "plt.plot(test_rmse, label = \"Testing\", linewidth = 3)\n",
    "plt.xlabel(\"Update Iteration\", fontsize = 15, fontweight = \"bold\")\n",
    "plt.ylabel(\"RMSE\", fontsize = 15, fontweight = \"bold\")\n",
    "plt.xticks( fontsize = 10, fontweight = \"bold\")\n",
    "plt.yticks( fontsize = 10, fontweight = \"bold\")\n",
    "plt.legend()\n",
    "fig.savefig('MEnKF_DeepCDR_DualGCN_RMSE_Trajectories.pdf', bbox_inches='tight', format = \"pdf\")\n",
    "fig.savefig('MEnKF_DeepCDR_DualGCN_RMSE_Trajectories.png', bbox_inches='tight')\n",
    "plt.show()"
   ]
  },
  {
   "cell_type": "code",
   "execution_count": 519,
   "id": "31471813-3497-4224-acf3-2bd150a35690",
   "metadata": {},
   "outputs": [],
   "source": [
    "# plt.hist(y_train)\n",
    "# plt.show()"
   ]
  },
  {
   "cell_type": "code",
   "execution_count": 520,
   "id": "04200a3e-f1d9-48ee-8921-fe5a40e53d12",
   "metadata": {},
   "outputs": [],
   "source": [
    "# w1_catch"
   ]
  },
  {
   "cell_type": "code",
   "execution_count": 521,
   "id": "830b4880-4f02-4011-bc6a-7b2d6ca6a514",
   "metadata": {},
   "outputs": [
    {
     "data": {
      "text/plain": [
       "31"
      ]
     },
     "execution_count": 521,
     "metadata": {},
     "output_type": "execute_result"
    }
   ],
   "source": [
    "len(w1_catch)"
   ]
  },
  {
   "cell_type": "code",
   "execution_count": 522,
   "id": "53a98253-863f-406f-adf6-ac34841f8ec8",
   "metadata": {},
   "outputs": [
    {
     "data": {
      "text/plain": [
       "array([0.1161881 , 0.12315091, 0.1018929 , 0.07404026, 0.07303317,\n",
       "       0.09128041, 0.08639093, 0.07609557, 0.05946925, 0.04700538,\n",
       "       0.04260767, 0.04139986, 0.03824099, 0.04007006, 0.04280518,\n",
       "       0.04249299, 0.04095342, 0.0376908 , 0.0359916 , 0.03264056,\n",
       "       0.03503379, 0.02963766, 0.03138688, 0.03234462, 0.03310506,\n",
       "       0.03618803, 0.03046055, 0.03498512, 0.03656817, 0.03060198,\n",
       "       0.03015322])"
      ]
     },
     "execution_count": 522,
     "metadata": {},
     "output_type": "execute_result"
    }
   ],
   "source": [
    "np.array(w1_catch)[:,0]"
   ]
  },
  {
   "cell_type": "code",
   "execution_count": 523,
   "id": "111cdfd3-ebc5-4e8d-a0b0-d738ae501295",
   "metadata": {},
   "outputs": [
    {
     "data": {
      "image/png": "[encoded data removed]",
      "text/plain": [
       "<Figure size 640x480 with 1 Axes>"
      ]
     },
     "metadata": {},
     "output_type": "display_data"
    }
   ],
   "source": [
    "plt.plot(range(0,len(w1_catch)), np.array(w1_catch)[:,0])\n",
    "\n",
    "plt.plot(range(0,len(w1_catch)), np.array(w2_catch)[:,0])\n",
    "\n",
    "plt.plot(range(0,len(w1_catch)), np.array(w3_catch)[:,0])\n",
    "\n",
    "plt.plot(range(0,len(w1_catch)), np.array(w4_catch)[:,0])\n",
    "\n",
    "plt.show()"
   ]
  },
  {
   "cell_type": "code",
   "execution_count": 524,
   "id": "6b9f9730-e384-499a-85e1-dd61f18f6b5a",
   "metadata": {},
   "outputs": [
    {
     "data": {
      "image/png": "[encoded data removed]",
      "text/plain": [
       "<Figure size 800x500 with 1 Axes>"
      ]
     },
     "metadata": {},
     "output_type": "display_data"
    }
   ],
   "source": [
    "fig = plt.figure(figsize=(8, 5))\n",
    "plt.errorbar(range(0,len(w1_catch)), np.array(w1_catch)[:,0], yerr=np.array(w1_catch)[:,1], \n",
    "            label = \"DeepCDR_Drugs\", linewidth = 3)\n",
    "\n",
    "plt.errorbar(range(0,len(w1_catch)), np.array(w2_catch)[:,0], yerr=np.array(w2_catch)[:,1], \n",
    "            label = \"DeepCDR_Omics\", linewidth = 3)\n",
    "\n",
    "plt.errorbar(range(0,len(w1_catch)), np.array(w3_catch)[:,0], yerr=np.array(w3_catch)[:,1], \n",
    "            label = \"DualGCN_Drugs\", linewidth = 3)\n",
    "\n",
    "plt.errorbar(range(0,len(w1_catch)), np.array(w4_catch)[:,0], yerr=np.array(w4_catch)[:,1], \n",
    "            label = \"DualGCN_Omics\", linewidth = 3)\n",
    "\n",
    "plt.xlabel(\"Update Iteration\", fontsize = 15, fontweight = \"bold\")\n",
    "plt.ylabel(\"Model Weight\", fontsize = 15, fontweight = \"bold\")\n",
    "plt.xticks( fontsize = 10, fontweight = \"bold\")\n",
    "plt.yticks( fontsize = 10, fontweight = \"bold\")\n",
    "\n",
    "plt.legend()\n",
    "fig.savefig('MEnKF_DeepCDR_DualGCN_Weight_Trajectories.pdf', bbox_inches='tight', format = \"pdf\")\n",
    "fig.savefig('MEnKF_DeepCDR_DualGCN_Weight_Trajectories.png', bbox_inches='tight')\n",
    "\n",
    "plt.show()"
   ]
  },
  {
   "cell_type": "code",
   "execution_count": 525,
   "id": "26cbcc74-a96c-45c2-9e18-c15480f2be2a",
   "metadata": {},
   "outputs": [
    {
     "data": {
      "image/png": "[encoded data removed]",
      "text/plain": [
       "<Figure size 640x480 with 1 Axes>"
      ]
     },
     "metadata": {},
     "output_type": "display_data"
    }
   ],
   "source": [
    "plt.hist(y_test)\n",
    "plt.show()"
   ]
  },
  {
   "cell_type": "code",
   "execution_count": null,
   "id": "4e7636d0-1ec8-417b-83fd-fbc26ba0e715",
   "metadata": {},
   "outputs": [],
   "source": [
    "catch = Parallel(n_jobs = 14, verbose = 8, backend = \"loky\")(delayed(get_results)(idx, var_weights = 1.0, var_weight_weights = 1.0, var_D = 1, inflation_factor =1, fudging_beta = beta(1,19), \n",
    "           fudging_var = 1*1e-2, print_true = False) for idx in range(0,50))"
   ]
  },
  {
   "cell_type": "code",
   "execution_count": null,
   "id": "46c25b99-cc4a-4d23-bc6a-458e210d4ee2",
   "metadata": {},
   "outputs": [],
   "source": [
    "with open(\"..//Data//DeepCDR_DualGCN_combo_run.pickle\", \"wb\") as f: \n",
    "    pickle.dump(catch, f)"
   ]
  },
  {
   "cell_type": "code",
   "execution_count": 160,
   "id": "31be77d8-51cf-4d78-871e-36d71fc02d25",
   "metadata": {},
   "outputs": [],
   "source": [
    "import pickle"
   ]
  },
  {
   "cell_type": "code",
   "execution_count": 161,
   "id": "c64a45bf-cf8d-44fe-b735-156ed6e9a79d",
   "metadata": {},
   "outputs": [],
   "source": [
    "with open(\"..//Data//DeepCDR_DualGCN_combo_run.pickle\", \"rb\") as f: \n",
    "    catch = pickle.load(f)"
   ]
  },
  {
   "cell_type": "code",
   "execution_count": 162,
   "id": "7ecb83bc-29b0-4452-a2c7-3c82d7e0a166",
   "metadata": {},
   "outputs": [],
   "source": [
    "all_metrics = []\n",
    "all_weights = []\n",
    "for i in range(0,50):\n",
    "    item = catch[i]\n",
    "    metrics = item[:7]\n",
    "    weights = item[-4:]\n",
    "    all_metrics.append(metrics)\n",
    "    all_weights.append(weights)\n",
    "    "
   ]
  },
  {
   "cell_type": "code",
   "execution_count": 163,
   "id": "d4a1a58f-ba88-4ce8-9a2c-955dc9dad5ec",
   "metadata": {},
   "outputs": [],
   "source": [
    "import pandas as pd"
   ]
  },
  {
   "cell_type": "code",
   "execution_count": 164,
   "id": "f8d43ab1-7e1b-44c9-ae1d-d47e5306c0f1",
   "metadata": {},
   "outputs": [],
   "source": [
    "all_metrics_df = pd.DataFrame(all_metrics)"
   ]
  },
  {
   "cell_type": "code",
   "execution_count": 165,
   "id": "6a117a0e-6950-47f3-b443-b35e2f5c927f",
   "metadata": {},
   "outputs": [],
   "source": [
    "all_weights_df = pd.DataFrame(all_weights)"
   ]
  },
  {
   "cell_type": "code",
   "execution_count": 166,
   "id": "b230a0de-5f50-449e-b8cf-90f170dda0d6",
   "metadata": {},
   "outputs": [],
   "source": [
    "all_df = pd.concat([all_metrics_df, all_weights_df], axis = 1)"
   ]
  },
  {
   "cell_type": "code",
   "execution_count": 167,
   "id": "8b7ecf98-ad8f-4ceb-9f39-de7c2ccbf5a1",
   "metadata": {},
   "outputs": [],
   "source": [
    "all_df.columns = ['train_width', 'coverage_train', 'rmse_train', 'test_width', 'coverage_test', 'rmse_test', 'pearson_r', \n",
    "                   \"DeepCDR_Drugs\", \"DeepCDR_Omics\", \"DualGCN_Drugs\", \"DualGCN_Omics\"]"
   ]
  },
  {
   "cell_type": "code",
   "execution_count": 168,
   "id": "349f7872-3b3e-4493-ad28-a0abe22e5b50",
   "metadata": {},
   "outputs": [
    {
     "data": {
      "text/html": [
       "<div>\n",
       "<style scoped>\n",
       "    .dataframe tbody tr th:only-of-type {\n",
       "        vertical-align: middle;\n",
       "    }\n",
       "\n",
       "    .dataframe tbody tr th {\n",
       "        vertical-align: top;\n",
       "    }\n",
       "\n",
       "    .dataframe thead th {\n",
       "        text-align: right;\n",
       "    }\n",
       "</style>\n",
       "<table border=\"1\" class=\"dataframe\">\n",
       "  <thead>\n",
       "    <tr style=\"text-align: right;\">\n",
       "      <th></th>\n",
       "      <th>train_width</th>\n",
       "      <th>coverage_train</th>\n",
       "      <th>rmse_train</th>\n",
       "      <th>test_width</th>\n",
       "      <th>coverage_test</th>\n",
       "      <th>rmse_test</th>\n",
       "      <th>pearson_r</th>\n",
       "      <th>DeepCDR_Drugs</th>\n",
       "      <th>DeepCDR_Omics</th>\n",
       "      <th>DualGCN_Drugs</th>\n",
       "      <th>DualGCN_Omics</th>\n",
       "    </tr>\n",
       "  </thead>\n",
       "  <tbody>\n",
       "    <tr>\n",
       "      <th>0</th>\n",
       "      <td>9.082859</td>\n",
       "      <td>0.988400</td>\n",
       "      <td>1.378314</td>\n",
       "      <td>9.077162</td>\n",
       "      <td>0.987353</td>\n",
       "      <td>1.421503</td>\n",
       "      <td>0.865066</td>\n",
       "      <td>0.101757</td>\n",
       "      <td>0.537627</td>\n",
       "      <td>0.339417</td>\n",
       "      <td>0.021199</td>\n",
       "    </tr>\n",
       "    <tr>\n",
       "      <th>1</th>\n",
       "      <td>4.872920</td>\n",
       "      <td>0.902400</td>\n",
       "      <td>1.352588</td>\n",
       "      <td>4.892838</td>\n",
       "      <td>0.889640</td>\n",
       "      <td>1.412056</td>\n",
       "      <td>0.866803</td>\n",
       "      <td>0.029858</td>\n",
       "      <td>0.026280</td>\n",
       "      <td>0.366218</td>\n",
       "      <td>0.577644</td>\n",
       "    </tr>\n",
       "    <tr>\n",
       "      <th>2</th>\n",
       "      <td>3.279871</td>\n",
       "      <td>0.761600</td>\n",
       "      <td>1.343543</td>\n",
       "      <td>3.319063</td>\n",
       "      <td>0.743878</td>\n",
       "      <td>1.419871</td>\n",
       "      <td>0.865706</td>\n",
       "      <td>0.018767</td>\n",
       "      <td>0.070226</td>\n",
       "      <td>0.815669</td>\n",
       "      <td>0.095338</td>\n",
       "    </tr>\n",
       "    <tr>\n",
       "      <th>3</th>\n",
       "      <td>4.071027</td>\n",
       "      <td>0.861727</td>\n",
       "      <td>1.322039</td>\n",
       "      <td>4.048252</td>\n",
       "      <td>0.841245</td>\n",
       "      <td>1.401276</td>\n",
       "      <td>0.868964</td>\n",
       "      <td>0.021358</td>\n",
       "      <td>0.043856</td>\n",
       "      <td>0.612381</td>\n",
       "      <td>0.322405</td>\n",
       "    </tr>\n",
       "    <tr>\n",
       "      <th>4</th>\n",
       "      <td>7.931937</td>\n",
       "      <td>0.968800</td>\n",
       "      <td>1.517432</td>\n",
       "      <td>7.947606</td>\n",
       "      <td>0.966158</td>\n",
       "      <td>1.546736</td>\n",
       "      <td>0.837751</td>\n",
       "      <td>0.129053</td>\n",
       "      <td>0.165816</td>\n",
       "      <td>0.438829</td>\n",
       "      <td>0.266302</td>\n",
       "    </tr>\n",
       "  </tbody>\n",
       "</table>\n",
       "</div>"
      ],
      "text/plain": [
       "   train_width  coverage_train  rmse_train  test_width  coverage_test   \n",
       "0     9.082859        0.988400    1.378314    9.077162       0.987353  \\\n",
       "1     4.872920        0.902400    1.352588    4.892838       0.889640   \n",
       "2     3.279871        0.761600    1.343543    3.319063       0.743878   \n",
       "3     4.071027        0.861727    1.322039    4.048252       0.841245   \n",
       "4     7.931937        0.968800    1.517432    7.947606       0.966158   \n",
       "\n",
       "   rmse_test  pearson_r  DeepCDR_Drugs  DeepCDR_Omics  DualGCN_Drugs   \n",
       "0   1.421503   0.865066       0.101757       0.537627       0.339417  \\\n",
       "1   1.412056   0.866803       0.029858       0.026280       0.366218   \n",
       "2   1.419871   0.865706       0.018767       0.070226       0.815669   \n",
       "3   1.401276   0.868964       0.021358       0.043856       0.612381   \n",
       "4   1.546736   0.837751       0.129053       0.165816       0.438829   \n",
       "\n",
       "   DualGCN_Omics  \n",
       "0       0.021199  \n",
       "1       0.577644  \n",
       "2       0.095338  \n",
       "3       0.322405  \n",
       "4       0.266302  "
      ]
     },
     "execution_count": 168,
     "metadata": {},
     "output_type": "execute_result"
    }
   ],
   "source": [
    "all_df.head()"
   ]
  },
  {
   "cell_type": "code",
   "execution_count": 169,
   "id": "500064cc-b0a2-40c0-a73e-b86fb52b7377",
   "metadata": {},
   "outputs": [
    {
     "data": {
      "text/plain": [
       "train_width       6.329512\n",
       "coverage_train    0.891851\n",
       "rmse_train        1.392818\n",
       "test_width        6.345579\n",
       "coverage_test     0.879897\n",
       "rmse_test         1.456276\n",
       "pearson_r         0.857166\n",
       "DeepCDR_Drugs     0.074468\n",
       "DeepCDR_Omics     0.116747\n",
       "DualGCN_Drugs     0.633406\n",
       "DualGCN_Omics     0.175379\n",
       "dtype: float64"
      ]
     },
     "execution_count": 169,
     "metadata": {},
     "output_type": "execute_result"
    }
   ],
   "source": [
    "all_df.mean()"
   ]
  },
  {
   "cell_type": "code",
   "execution_count": 170,
   "id": "a5fca8dd-8a78-4a72-83d0-22a395d1682a",
   "metadata": {},
   "outputs": [
    {
     "data": {
      "text/plain": [
       "train_width       4.170541\n",
       "coverage_train    0.083419\n",
       "rmse_train        0.115734\n",
       "test_width        4.196434\n",
       "coverage_test     0.090228\n",
       "rmse_test         0.111397\n",
       "pearson_r         0.026856\n",
       "DeepCDR_Drugs     0.092263\n",
       "DeepCDR_Omics     0.136203\n",
       "DualGCN_Drugs     0.268565\n",
       "DualGCN_Omics     0.217557\n",
       "dtype: float64"
      ]
     },
     "execution_count": 170,
     "metadata": {},
     "output_type": "execute_result"
    }
   ],
   "source": [
    "all_df.std()"
   ]
  }
 ],
 "metadata": {
  "kernelspec": {
   "display_name": "enkf",
   "language": "python",
   "name": "enkf"
  },
  "language_info": {
   "codemirror_mode": {
    "name": "ipython",
    "version": 3
   },
   "file_extension": ".py",
   "mimetype": "text/x-python",
   "name": "python",
   "nbconvert_exporter": "python",
   "pygments_lexer": "ipython3",
   "version": "3.11.3"
  }
 },
 "nbformat": 4,
 "nbformat_minor": 5
}
